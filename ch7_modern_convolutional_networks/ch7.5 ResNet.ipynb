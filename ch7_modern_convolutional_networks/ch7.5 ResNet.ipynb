{
 "cells": [
  {
   "cell_type": "code",
   "execution_count": 6,
   "id": "orange-entrance",
   "metadata": {},
   "outputs": [],
   "source": [
    "import torch\n",
    "import torch.nn as nn\n",
    "import torch.nn.functional as F"
   ]
  },
  {
   "cell_type": "code",
   "execution_count": 18,
   "id": "stone-convertible",
   "metadata": {},
   "outputs": [],
   "source": [
    "class Residual(nn.Module):\n",
    "    \n",
    "    def __init__(self, input_channels, num_channels, use_1x1conv=False,strides=1):\n",
    "        super().__init__()\n",
    "        self.conv1 = nn.Conv2d(input_channels, num_channels, kernel_size=3, padding=1, stride=strides)\n",
    "        self.conv2 = nn.Conv2d(num_channels, num_channels, kernel_size=3, padding=1)\n",
    "        \n",
    "        if (use_1x1conv):\n",
    "            self.conv3 = nn.Conv2d(input_channels, num_channels, kernel_size=1, stride=strides)\n",
    "        else:\n",
    "            self.conv3 = None\n",
    "        \n",
    "        self.bn1 = nn.BatchNorm2d(num_channels)\n",
    "        self.bn2 = nn.BatchNorm2d(num_channels)\n",
    "    \n",
    "    def forward(self, X):\n",
    "        \n",
    "        out = F.relu(self.bn1(self.conv1(X)))\n",
    "        out = self.bn2(self.conv2(out))\n",
    "        if(self.conv3):\n",
    "            X = self.conv3(X)\n",
    "        out += X\n",
    "        return F.relu(out)\n",
    "        \n",
    "    "
   ]
  },
  {
   "cell_type": "code",
   "execution_count": 19,
   "id": "statistical-armstrong",
   "metadata": {},
   "outputs": [
    {
     "data": {
      "text/plain": [
       "torch.Size([4, 3, 6, 6])"
      ]
     },
     "execution_count": 19,
     "metadata": {},
     "output_type": "execute_result"
    }
   ],
   "source": [
    "blk = Residual(3,3)\n",
    "X = torch.rand(4,3,6,6)\n",
    "Y = blk(X)\n",
    "Y.shape"
   ]
  },
  {
   "cell_type": "code",
   "execution_count": 20,
   "id": "multiple-training",
   "metadata": {},
   "outputs": [
    {
     "data": {
      "text/plain": [
       "torch.Size([4, 3, 3, 3])"
      ]
     },
     "execution_count": 20,
     "metadata": {},
     "output_type": "execute_result"
    }
   ],
   "source": [
    "blk = Residual(3,3,use_1x1conv=True,strides=2)\n",
    "X = torch.rand(4,3,6,6)\n",
    "Y = blk(X)\n",
    "Y.shape"
   ]
  },
  {
   "cell_type": "code",
   "execution_count": 21,
   "id": "early-booth",
   "metadata": {},
   "outputs": [],
   "source": [
    "#resent model\n",
    "\n",
    "b1 = nn.Sequential(nn.Conv2d(1,64,kernel_size=7, stride=2, padding=3),\n",
    "                   nn.BatchNorm2d(64), nn.ReLU(),\n",
    "                   nn.MaxPool2d(kernel_size=3, stride=2, padding=1))"
   ]
  },
  {
   "cell_type": "code",
   "execution_count": 25,
   "id": "dried-parts",
   "metadata": {},
   "outputs": [],
   "source": [
    "def resnet_blk(input_channels, num_channels, num_resnet_blocks,first_block=False ):\n",
    "    blk = []\n",
    "    \n",
    "    for i in range(num_resnet_blocks):\n",
    "        if i==0 and not first_block:\n",
    "            blk.append(Residual(input_channels, num_channels, use_1x1conv=True, strides=2))\n",
    "        else:\n",
    "            blk.append(Residual(num_channels, num_channels))\n",
    "    \n",
    "    return blk"
   ]
  },
  {
   "cell_type": "code",
   "execution_count": 26,
   "id": "furnished-median",
   "metadata": {},
   "outputs": [],
   "source": [
    "b2 = nn.Sequential(*resnet_blk(64,64,2, first_block=True))\n",
    "b3 = nn.Sequential(*resnet_blk(64, 128, 2))\n",
    "b4 = nn.Sequential(*resnet_blk(128,256,2))\n",
    "b5 = nn.Sequential(*resnet_blk(256,512,2))"
   ]
  },
  {
   "cell_type": "code",
   "execution_count": 29,
   "id": "brief-produce",
   "metadata": {},
   "outputs": [],
   "source": [
    "net = nn.Sequential(b1, b2, b3, b4, b5, nn.AdaptiveAvgPool2d((1,1)), nn.Flatten(), nn.Linear(512,10))"
   ]
  },
  {
   "cell_type": "code",
   "execution_count": 30,
   "id": "geographic-august",
   "metadata": {},
   "outputs": [
    {
     "name": "stdout",
     "output_type": "stream",
     "text": [
      "Sequential output shape:\t torch.Size([1, 64, 56, 56])\n",
      "Sequential output shape:\t torch.Size([1, 64, 56, 56])\n",
      "Sequential output shape:\t torch.Size([1, 128, 28, 28])\n",
      "Sequential output shape:\t torch.Size([1, 256, 14, 14])\n",
      "Sequential output shape:\t torch.Size([1, 512, 7, 7])\n",
      "AdaptiveAvgPool2d output shape:\t torch.Size([1, 512, 1, 1])\n",
      "Flatten output shape:\t torch.Size([1, 512])\n",
      "Linear output shape:\t torch.Size([1, 10])\n"
     ]
    },
    {
     "name": "stderr",
     "output_type": "stream",
     "text": [
      "z:\\installs\\anconda\\envs\\myenv\\lib\\site-packages\\torch\\nn\\functional.py:718: UserWarning: Named tensors and all their associated APIs are an experimental feature and subject to change. Please do not use them for anything important until they are released as stable. (Triggered internally at  ..\\c10/core/TensorImpl.h:1156.)\n",
      "  return torch.max_pool2d(input, kernel_size, stride, padding, dilation, ceil_mode)\n"
     ]
    }
   ],
   "source": [
    "X = torch.rand(size=(1, 1, 224, 224))\n",
    "for layer in net:\n",
    "    X = layer(X)\n",
    "    print(layer.__class__.__name__, 'output shape:\\t', X.shape)"
   ]
  },
  {
   "cell_type": "code",
   "execution_count": 50,
   "id": "musical-python",
   "metadata": {
    "scrolled": false
   },
   "outputs": [
    {
     "name": "stdout",
     "output_type": "stream",
     "text": [
      "Requirement already satisfied: d2l in z:\\installs\\anconda\\envs\\myenv\\lib\\site-packages (0.16.6)\n",
      "Requirement already satisfied: numpy in z:\\installs\\anconda\\envs\\myenv\\lib\\site-packages (from d2l) (1.20.2)\n",
      "Requirement already satisfied: jupyter in z:\\installs\\anconda\\envs\\myenv\\lib\\site-packages (from d2l) (1.0.0)\n",
      "Requirement already satisfied: pandas in z:\\installs\\anconda\\envs\\myenv\\lib\\site-packages (from d2l) (1.3.2)\n",
      "Requirement already satisfied: requests in z:\\installs\\anconda\\envs\\myenv\\lib\\site-packages (from d2l) (2.25.1)\n",
      "Requirement already satisfied: matplotlib in z:\\installs\\anconda\\envs\\myenv\\lib\\site-packages (from d2l) (3.4.3)\n",
      "Requirement already satisfied: ipykernel in c:\\users\\msi1\\appdata\\roaming\\python\\python39\\site-packages (from jupyter->d2l) (5.5.3)\n",
      "Requirement already satisfied: notebook in z:\\installs\\anconda\\envs\\myenv\\lib\\site-packages (from jupyter->d2l) (6.2.0)\n",
      "Requirement already satisfied: jupyter-console in z:\\installs\\anconda\\envs\\myenv\\lib\\site-packages (from jupyter->d2l) (6.4.0)\n",
      "Requirement already satisfied: ipywidgets in z:\\installs\\anconda\\envs\\myenv\\lib\\site-packages (from jupyter->d2l) (7.6.3)\n",
      "Requirement already satisfied: qtconsole in z:\\installs\\anconda\\envs\\myenv\\lib\\site-packages (from jupyter->d2l) (5.1.1)\n",
      "Requirement already satisfied: nbconvert in z:\\installs\\anconda\\envs\\myenv\\lib\\site-packages (from jupyter->d2l) (6.0.7)\n",
      "Requirement already satisfied: jupyter-client in c:\\users\\msi1\\appdata\\roaming\\python\\python39\\site-packages (from ipykernel->jupyter->d2l) (6.1.12)\n",
      "Requirement already satisfied: ipython>=5.0.0 in c:\\users\\msi1\\appdata\\roaming\\python\\python39\\site-packages (from ipykernel->jupyter->d2l) (7.23.0)\n",
      "Requirement already satisfied: traitlets>=4.1.0 in z:\\installs\\anconda\\envs\\myenv\\lib\\site-packages (from ipykernel->jupyter->d2l) (5.0.5)\n",
      "Requirement already satisfied: tornado>=4.2 in c:\\users\\msi1\\appdata\\roaming\\python\\python39\\site-packages (from ipykernel->jupyter->d2l) (6.1)\n",
      "Requirement already satisfied: jedi>=0.16 in c:\\users\\msi1\\appdata\\roaming\\python\\python39\\site-packages (from ipython>=5.0.0->ipykernel->jupyter->d2l) (0.18.0)\n",
      "Requirement already satisfied: colorama in c:\\users\\msi1\\appdata\\roaming\\python\\python39\\site-packages (from ipython>=5.0.0->ipykernel->jupyter->d2l) (0.4.4)\n",
      "Requirement already satisfied: setuptools>=18.5 in z:\\installs\\anconda\\envs\\myenv\\lib\\site-packages (from ipython>=5.0.0->ipykernel->jupyter->d2l) (52.0.0.post20210125)\n",
      "Requirement already satisfied: decorator in z:\\installs\\anconda\\envs\\myenv\\lib\\site-packages (from ipython>=5.0.0->ipykernel->jupyter->d2l) (4.4.2)\n",
      "Requirement already satisfied: pickleshare in z:\\installs\\anconda\\envs\\myenv\\lib\\site-packages (from ipython>=5.0.0->ipykernel->jupyter->d2l) (0.7.5)\n",
      "Requirement already satisfied: prompt-toolkit!=3.0.0,!=3.0.1,<3.1.0,>=2.0.0 in z:\\installs\\anconda\\envs\\myenv\\lib\\site-packages (from ipython>=5.0.0->ipykernel->jupyter->d2l) (3.0.17)\n",
      "Requirement already satisfied: pygments in z:\\installs\\anconda\\envs\\myenv\\lib\\site-packages (from ipython>=5.0.0->ipykernel->jupyter->d2l) (2.8.1)\n",
      "Requirement already satisfied: backcall in c:\\users\\msi1\\appdata\\roaming\\python\\python39\\site-packages (from ipython>=5.0.0->ipykernel->jupyter->d2l) (0.2.0)\n",
      "Requirement already satisfied: matplotlib-inline in c:\\users\\msi1\\appdata\\roaming\\python\\python39\\site-packages (from ipython>=5.0.0->ipykernel->jupyter->d2l) (0.1.2)\n",
      "Requirement already satisfied: parso<0.9.0,>=0.8.0 in z:\\installs\\anconda\\envs\\myenv\\lib\\site-packages (from jedi>=0.16->ipython>=5.0.0->ipykernel->jupyter->d2l) (0.8.1)\n",
      "Requirement already satisfied: wcwidth in z:\\installs\\anconda\\envs\\myenv\\lib\\site-packages (from prompt-toolkit!=3.0.0,!=3.0.1,<3.1.0,>=2.0.0->ipython>=5.0.0->ipykernel->jupyter->d2l) (0.2.5)\n",
      "Requirement already satisfied: ipython-genutils in c:\\users\\msi1\\appdata\\roaming\\python\\python39\\site-packages (from traitlets>=4.1.0->ipykernel->jupyter->d2l) (0.2.0)\n",
      "Requirement already satisfied: jupyterlab-widgets>=1.0.0 in z:\\installs\\anconda\\envs\\myenv\\lib\\site-packages (from ipywidgets->jupyter->d2l) (1.0.0)\n",
      "Requirement already satisfied: nbformat>=4.2.0 in z:\\installs\\anconda\\envs\\myenv\\lib\\site-packages (from ipywidgets->jupyter->d2l) (5.1.2)\n",
      "Requirement already satisfied: widgetsnbextension~=3.5.0 in z:\\installs\\anconda\\envs\\myenv\\lib\\site-packages (from ipywidgets->jupyter->d2l) (3.5.1)\n",
      "Requirement already satisfied: jsonschema!=2.5.0,>=2.4 in z:\\installs\\anconda\\envs\\myenv\\lib\\site-packages (from nbformat>=4.2.0->ipywidgets->jupyter->d2l) (3.2.0)\n",
      "Requirement already satisfied: jupyter-core in c:\\users\\msi1\\appdata\\roaming\\python\\python39\\site-packages (from nbformat>=4.2.0->ipywidgets->jupyter->d2l) (4.7.1)\n",
      "Requirement already satisfied: six>=1.11.0 in z:\\installs\\anconda\\envs\\myenv\\lib\\site-packages (from jsonschema!=2.5.0,>=2.4->nbformat>=4.2.0->ipywidgets->jupyter->d2l) (1.16.0)\n",
      "Requirement already satisfied: pyrsistent>=0.14.0 in z:\\installs\\anconda\\envs\\myenv\\lib\\site-packages (from jsonschema!=2.5.0,>=2.4->nbformat>=4.2.0->ipywidgets->jupyter->d2l) (0.17.3)\n",
      "Requirement already satisfied: attrs>=17.4.0 in z:\\installs\\anconda\\envs\\myenv\\lib\\site-packages (from jsonschema!=2.5.0,>=2.4->nbformat>=4.2.0->ipywidgets->jupyter->d2l) (21.2.0)\n",
      "Requirement already satisfied: jinja2 in z:\\installs\\anconda\\envs\\myenv\\lib\\site-packages (from notebook->jupyter->d2l) (2.11.3)\n",
      "Requirement already satisfied: terminado>=0.8.3 in z:\\installs\\anconda\\envs\\myenv\\lib\\site-packages (from notebook->jupyter->d2l) (0.9.3)\n",
      "Requirement already satisfied: prometheus-client in z:\\installs\\anconda\\envs\\myenv\\lib\\site-packages (from notebook->jupyter->d2l) (0.9.0)\n",
      "Requirement already satisfied: argon2-cffi in z:\\installs\\anconda\\envs\\myenv\\lib\\site-packages (from notebook->jupyter->d2l) (20.1.0)\n",
      "Requirement already satisfied: Send2Trash>=1.5.0 in z:\\installs\\anconda\\envs\\myenv\\lib\\site-packages (from notebook->jupyter->d2l) (1.5.0)\n",
      "Requirement already satisfied: pyzmq>=17 in c:\\users\\msi1\\appdata\\roaming\\python\\python39\\site-packages (from notebook->jupyter->d2l) (22.0.3)\n",
      "Requirement already satisfied: python-dateutil>=2.1 in z:\\installs\\anconda\\envs\\myenv\\lib\\site-packages (from jupyter-client->ipykernel->jupyter->d2l) (2.8.2)\n",
      "Requirement already satisfied: pywin32>=1.0 in z:\\installs\\anconda\\envs\\myenv\\lib\\site-packages (from jupyter-core->nbformat>=4.2.0->ipywidgets->jupyter->d2l) (301)\n",
      "Requirement already satisfied: pywinpty>=0.5 in z:\\installs\\anconda\\envs\\myenv\\lib\\site-packages (from terminado>=0.8.3->notebook->jupyter->d2l) (0.5.7)\n",
      "Requirement already satisfied: cffi>=1.0.0 in z:\\installs\\anconda\\envs\\myenv\\lib\\site-packages (from argon2-cffi->notebook->jupyter->d2l) (1.14.5)\n",
      "Requirement already satisfied: pycparser in z:\\installs\\anconda\\envs\\myenv\\lib\\site-packages (from cffi>=1.0.0->argon2-cffi->notebook->jupyter->d2l) (2.20)\n",
      "Requirement already satisfied: MarkupSafe>=0.23 in z:\\installs\\anconda\\envs\\myenv\\lib\\site-packages (from jinja2->notebook->jupyter->d2l) (1.1.1)\n",
      "Requirement already satisfied: cycler>=0.10 in z:\\installs\\anconda\\envs\\myenv\\lib\\site-packages (from matplotlib->d2l) (0.10.0)\n",
      "Requirement already satisfied: pillow>=6.2.0 in z:\\installs\\anconda\\envs\\myenv\\lib\\site-packages (from matplotlib->d2l) (8.2.0)\n",
      "Requirement already satisfied: kiwisolver>=1.0.1 in z:\\installs\\anconda\\envs\\myenv\\lib\\site-packages (from matplotlib->d2l) (1.3.2)\n",
      "Requirement already satisfied: pyparsing>=2.2.1 in z:\\installs\\anconda\\envs\\myenv\\lib\\site-packages (from matplotlib->d2l) (2.4.7)\n",
      "Requirement already satisfied: mistune<2,>=0.8.1 in z:\\installs\\anconda\\envs\\myenv\\lib\\site-packages (from nbconvert->jupyter->d2l) (0.8.4)\n",
      "Requirement already satisfied: testpath in z:\\installs\\anconda\\envs\\myenv\\lib\\site-packages (from nbconvert->jupyter->d2l) (0.4.4)\n",
      "Requirement already satisfied: entrypoints>=0.2.2 in z:\\installs\\anconda\\envs\\myenv\\lib\\site-packages (from nbconvert->jupyter->d2l) (0.3)\n",
      "Requirement already satisfied: jupyterlab-pygments in z:\\installs\\anconda\\envs\\myenv\\lib\\site-packages (from nbconvert->jupyter->d2l) (0.1.2)\n",
      "Requirement already satisfied: bleach in z:\\installs\\anconda\\envs\\myenv\\lib\\site-packages (from nbconvert->jupyter->d2l) (3.3.0)\n",
      "Requirement already satisfied: nbclient<0.6.0,>=0.5.0 in z:\\installs\\anconda\\envs\\myenv\\lib\\site-packages (from nbconvert->jupyter->d2l) (0.5.3)\n",
      "Requirement already satisfied: defusedxml in z:\\installs\\anconda\\envs\\myenv\\lib\\site-packages (from nbconvert->jupyter->d2l) (0.7.1)\n",
      "Requirement already satisfied: pandocfilters>=1.4.1 in z:\\installs\\anconda\\envs\\myenv\\lib\\site-packages (from nbconvert->jupyter->d2l) (1.4.3)\n",
      "Requirement already satisfied: nest-asyncio in z:\\installs\\anconda\\envs\\myenv\\lib\\site-packages (from nbclient<0.6.0,>=0.5.0->nbconvert->jupyter->d2l) (1.5.1)\n",
      "Requirement already satisfied: async-generator in z:\\installs\\anconda\\envs\\myenv\\lib\\site-packages (from nbclient<0.6.0,>=0.5.0->nbconvert->jupyter->d2l) (1.10)\n",
      "Requirement already satisfied: packaging in z:\\installs\\anconda\\envs\\myenv\\lib\\site-packages (from bleach->nbconvert->jupyter->d2l) (20.9)\n",
      "Requirement already satisfied: webencodings in z:\\installs\\anconda\\envs\\myenv\\lib\\site-packages (from bleach->nbconvert->jupyter->d2l) (0.5.1)\n",
      "Requirement already satisfied: pytz>=2017.3 in z:\\installs\\anconda\\envs\\myenv\\lib\\site-packages (from pandas->d2l) (2021.1)\n",
      "Requirement already satisfied: qtpy in z:\\installs\\anconda\\envs\\myenv\\lib\\site-packages (from qtconsole->jupyter->d2l) (1.9.0)\n",
      "Requirement already satisfied: idna<3,>=2.5 in z:\\installs\\anconda\\envs\\myenv\\lib\\site-packages (from requests->d2l) (2.10)\n",
      "Requirement already satisfied: chardet<5,>=3.0.2 in z:\\installs\\anconda\\envs\\myenv\\lib\\site-packages (from requests->d2l) (3.0.4)\n",
      "Requirement already satisfied: urllib3<1.27,>=1.21.1 in z:\\installs\\anconda\\envs\\myenv\\lib\\site-packages (from requests->d2l) (1.26.6)\n",
      "Requirement already satisfied: certifi>=2017.4.17 in z:\\installs\\anconda\\envs\\myenv\\lib\\site-packages (from requests->d2l) (2021.5.30)\n",
      "Note: you may need to restart the kernel to use updated packages.\n"
     ]
    }
   ],
   "source": [
    "%pip install d2l"
   ]
  },
  {
   "cell_type": "code",
   "execution_count": 51,
   "id": "refined-construction",
   "metadata": {},
   "outputs": [],
   "source": [
    "import d2l.torch as torch\n",
    "import d2l\n",
    "\n",
    "import torchvision\n",
    "import torchvision.transforms as transforms\n",
    "import torch.utils.data as data"
   ]
  },
  {
   "cell_type": "code",
   "execution_count": 52,
   "id": "prostate-frontier",
   "metadata": {},
   "outputs": [],
   "source": [
    "def load_data_fashion_mnist(batch_size, resize=None):\n",
    "    \"\"\"Download the Fashion-MNIST dataset and then load it into memory.\"\"\"\n",
    "    trans = [transforms.ToTensor()]\n",
    "    if resize:\n",
    "        trans.insert(0, transforms.Resize(resize))\n",
    "    trans = transforms.Compose(trans)\n",
    "    mnist_train = torchvision.datasets.FashionMNIST(root=\"../data\",\n",
    "                                                    train=True,\n",
    "                                                    transform=trans,\n",
    "                                                    download=False)\n",
    "    mnist_test = torchvision.datasets.FashionMNIST(root=\"../data\",\n",
    "                                                   train=False,\n",
    "                                                   transform=trans,\n",
    "                                                   download=False)\n",
    "    return (data.DataLoader(mnist_train, batch_size, shuffle=True),\n",
    "            data.DataLoader(mnist_test, batch_size, shuffle=False))"
   ]
  },
  {
   "cell_type": "code",
   "execution_count": 53,
   "id": "uniform-birth",
   "metadata": {},
   "outputs": [
    {
     "ename": "AttributeError",
     "evalue": "module 'd2l' has no attribute 'train_ch6'",
     "output_type": "error",
     "traceback": [
      "\u001b[1;31m---------------------------------------------------------------------------\u001b[0m",
      "\u001b[1;31mAttributeError\u001b[0m                            Traceback (most recent call last)",
      "\u001b[1;32m<ipython-input-53-e55863ecaf64>\u001b[0m in \u001b[0;36m<module>\u001b[1;34m\u001b[0m\n\u001b[0;32m      1\u001b[0m \u001b[0mlr\u001b[0m\u001b[1;33m,\u001b[0m \u001b[0mnum_epochs\u001b[0m\u001b[1;33m,\u001b[0m \u001b[0mbatch_size\u001b[0m \u001b[1;33m=\u001b[0m \u001b[1;36m0.05\u001b[0m\u001b[1;33m,\u001b[0m \u001b[1;36m10\u001b[0m\u001b[1;33m,\u001b[0m \u001b[1;36m256\u001b[0m\u001b[1;33m\u001b[0m\u001b[1;33m\u001b[0m\u001b[0m\n\u001b[0;32m      2\u001b[0m \u001b[0mtrain_iter\u001b[0m\u001b[1;33m,\u001b[0m \u001b[0mtest_iter\u001b[0m \u001b[1;33m=\u001b[0m \u001b[0mload_data_fashion_mnist\u001b[0m\u001b[1;33m(\u001b[0m\u001b[0mbatch_size\u001b[0m\u001b[1;33m,\u001b[0m \u001b[0mresize\u001b[0m\u001b[1;33m=\u001b[0m\u001b[1;36m96\u001b[0m\u001b[1;33m)\u001b[0m\u001b[1;33m\u001b[0m\u001b[1;33m\u001b[0m\u001b[0m\n\u001b[1;32m----> 3\u001b[1;33m \u001b[0md2l\u001b[0m\u001b[1;33m.\u001b[0m\u001b[0mtrain_ch6\u001b[0m\u001b[1;33m(\u001b[0m\u001b[0mnet\u001b[0m\u001b[1;33m,\u001b[0m \u001b[0mtrain_iter\u001b[0m\u001b[1;33m,\u001b[0m \u001b[0mtest_iter\u001b[0m\u001b[1;33m,\u001b[0m \u001b[0mnum_epochs\u001b[0m\u001b[1;33m,\u001b[0m \u001b[0mlr\u001b[0m\u001b[1;33m,\u001b[0m \u001b[0md2l\u001b[0m\u001b[1;33m.\u001b[0m\u001b[0mtry_gpu\u001b[0m\u001b[1;33m(\u001b[0m\u001b[1;33m)\u001b[0m\u001b[1;33m)\u001b[0m\u001b[1;33m\u001b[0m\u001b[1;33m\u001b[0m\u001b[0m\n\u001b[0m",
      "\u001b[1;31mAttributeError\u001b[0m: module 'd2l' has no attribute 'train_ch6'"
     ]
    }
   ],
   "source": [
    "lr, num_epochs, batch_size = 0.05, 10, 256\n",
    "train_iter, test_iter = load_data_fashion_mnist(batch_size, resize=96)\n",
    "d2l.train_ch6(net, train_iter, test_iter, num_epochs, lr, d2l.try_gpu())\n"
   ]
  }
 ],
 "metadata": {
  "kernelspec": {
   "display_name": "Python 3",
   "language": "python",
   "name": "python3"
  },
  "language_info": {
   "codemirror_mode": {
    "name": "ipython",
    "version": 3
   },
   "file_extension": ".py",
   "mimetype": "text/x-python",
   "name": "python",
   "nbconvert_exporter": "python",
   "pygments_lexer": "ipython3",
   "version": "3.9.5"
  }
 },
 "nbformat": 4,
 "nbformat_minor": 5
}
