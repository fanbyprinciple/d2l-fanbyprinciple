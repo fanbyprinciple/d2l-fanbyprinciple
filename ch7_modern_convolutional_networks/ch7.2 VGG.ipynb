{
 "cells": [
  {
   "cell_type": "code",
   "execution_count": 1,
   "id": "polished-structure",
   "metadata": {},
   "outputs": [],
   "source": [
    "# implementing a vgg block\n",
    "\n",
    "import torch\n",
    "import torch.nn as nn\n",
    "\n",
    "def vgg_block(num_convs, in_channels, out_channels):\n",
    "    layers = []\n",
    "    for _ in range(num_convs):\n",
    "        layers.append(nn.Conv2d(in_channels, out_channels, kernel_size=3, padding=1))\n",
    "        layers.append(nn.ReLU())\n",
    "        in_channels=out_channels\n",
    "    layers.append(nn.MaxPool2d(kernel_size=2, stride=2))\n",
    "    return nn.Sequential(*layers)"
   ]
  },
  {
   "cell_type": "code",
   "execution_count": 2,
   "id": "ethical-publication",
   "metadata": {},
   "outputs": [],
   "source": [
    "# implementing VGG11\n",
    "\n",
    "conv_arch = ((1,64), (1,128), (2,256), (2,512), (2,512))"
   ]
  },
  {
   "cell_type": "code",
   "execution_count": 3,
   "id": "surrounded-management",
   "metadata": {},
   "outputs": [],
   "source": [
    "def vgg(conv_arch):\n",
    "    conv_blks = []\n",
    "    in_channels = 1\n",
    "    \n",
    "    for (num_convs, out_channels) in conv_arch:\n",
    "        conv_blks.append(vgg_block(num_convs, in_channels, out_channels))\n",
    "        in_channels=out_channels\n",
    "    \n",
    "    return nn.Sequential(\n",
    "        *conv_blks, nn.Flatten(), \n",
    "        nn.Linear(in_channels *7 *7, 4096), nn.ReLU(), nn.Dropout(p=0.5), \n",
    "        nn.Linear(4096, 4096),nn.ReLU(), nn.Dropout(p=0.5),\n",
    "        nn.Linear(4096, 10)\n",
    "    )"
   ]
  },
  {
   "cell_type": "code",
   "execution_count": 4,
   "id": "conservative-disorder",
   "metadata": {},
   "outputs": [],
   "source": [
    "vgg_net = vgg(conv_arch)"
   ]
  },
  {
   "cell_type": "code",
   "execution_count": 5,
   "id": "powerful-veteran",
   "metadata": {},
   "outputs": [
    {
     "name": "stdout",
     "output_type": "stream",
     "text": [
      "For Sequential: torch.Size([1, 64, 112, 112])\n",
      "For Sequential: torch.Size([1, 128, 56, 56])\n",
      "For Sequential: torch.Size([1, 256, 28, 28])\n",
      "For Sequential: torch.Size([1, 512, 14, 14])\n",
      "For Sequential: torch.Size([1, 512, 7, 7])\n",
      "For Flatten: torch.Size([1, 25088])\n",
      "For Linear: torch.Size([1, 4096])\n",
      "For ReLU: torch.Size([1, 4096])\n",
      "For Dropout: torch.Size([1, 4096])\n",
      "For Linear: torch.Size([1, 4096])\n",
      "For ReLU: torch.Size([1, 4096])\n",
      "For Dropout: torch.Size([1, 4096])\n",
      "For Linear: torch.Size([1, 10])\n"
     ]
    },
    {
     "name": "stderr",
     "output_type": "stream",
     "text": [
      "z:\\installs\\anconda\\envs\\myenv\\lib\\site-packages\\torch\\nn\\functional.py:718: UserWarning: Named tensors and all their associated APIs are an experimental feature and subject to change. Please do not use them for anything important until they are released as stable. (Triggered internally at  ..\\c10/core/TensorImpl.h:1156.)\n",
      "  return torch.max_pool2d(input, kernel_size, stride, padding, dilation, ceil_mode)\n"
     ]
    }
   ],
   "source": [
    "X = torch.randn(1,1,224,224)\n",
    "\n",
    "def look_at_net(net, X):\n",
    "    out = X\n",
    "    for layer in net:\n",
    "        out = layer(out)\n",
    "        print(f'For {layer.__class__.__name__}: {out.shape}')\n",
    "        \n",
    "look_at_net(vgg_net, X)"
   ]
  },
  {
   "cell_type": "code",
   "execution_count": 6,
   "id": "chief-western",
   "metadata": {},
   "outputs": [
    {
     "name": "stdout",
     "output_type": "stream",
     "text": [
      "For Sequential: torch.Size([1, 16, 112, 112])\n",
      "For Sequential: torch.Size([1, 32, 56, 56])\n",
      "For Sequential: torch.Size([1, 64, 28, 28])\n",
      "For Sequential: torch.Size([1, 128, 14, 14])\n",
      "For Sequential: torch.Size([1, 128, 7, 7])\n",
      "For Flatten: torch.Size([1, 6272])\n",
      "For Linear: torch.Size([1, 4096])\n",
      "For ReLU: torch.Size([1, 4096])\n",
      "For Dropout: torch.Size([1, 4096])\n",
      "For Linear: torch.Size([1, 4096])\n",
      "For ReLU: torch.Size([1, 4096])\n",
      "For Dropout: torch.Size([1, 4096])\n",
      "For Linear: torch.Size([1, 10])\n"
     ]
    }
   ],
   "source": [
    "# we reduce the ratio as it is very computationaly expensive to traina VGG model\n",
    "ratio = 4\n",
    "small_conv_arch = [(pair[0], pair[1]//ratio) for pair in conv_arch]\n",
    "net = vgg(small_conv_arch)\n",
    "\n",
    "look_at_net(net, X)"
   ]
  },
  {
   "cell_type": "code",
   "execution_count": 7,
   "id": "aerial-theory",
   "metadata": {},
   "outputs": [],
   "source": [
    "lr, num_epochs, batch_size = 0.01, 20, 128"
   ]
  },
  {
   "cell_type": "code",
   "execution_count": 8,
   "id": "executive-catalyst",
   "metadata": {},
   "outputs": [],
   "source": [
    "\n",
    "import torchvision.transforms as transforms\n",
    "from torch.utils.data import DataLoader\n",
    "import torchvision.datasets as datasets\n",
    "\n",
    "\n",
    "my_transforms = transforms.Compose(\n",
    "                [\n",
    "                    transforms.Resize(224),\n",
    "                    transforms.ToTensor()]\n",
    ")\n",
    "\n",
    "train_dataset = datasets.FashionMNIST(download=False,root=\"../data\", train=True, transform=my_transforms)\n",
    "test_dataset = datasets.FashionMNIST(download=False, root=\"../data\", train=False, transform=my_transforms)\n",
    "\n",
    "\n",
    "train_dataloader = DataLoader(train_dataset, batch_size=batch_size, shuffle=True)\n",
    "test_dataloader = DataLoader(test_dataset, batch_size=batch_size, shuffle=True)"
   ]
  },
  {
   "cell_type": "code",
   "execution_count": 9,
   "id": "protecting-atmosphere",
   "metadata": {},
   "outputs": [],
   "source": [
    "criterion = nn.CrossEntropyLoss()\n",
    "optimizer = torch.optim.SGD(net.parameters(), lr = lr, momentum=0.9)"
   ]
  },
  {
   "cell_type": "code",
   "execution_count": 10,
   "id": "conscious-sheep",
   "metadata": {},
   "outputs": [],
   "source": [
    "def accuracy(y_hat,y):\n",
    "    return (y_hat.argmax(1)==y).sum()"
   ]
  },
  {
   "cell_type": "code",
   "execution_count": 11,
   "id": "talented-scott",
   "metadata": {},
   "outputs": [],
   "source": [
    "device = torch.device('cuda' if torch.cuda.is_available() else 'cpu')"
   ]
  },
  {
   "cell_type": "code",
   "execution_count": 12,
   "id": "affiliated-stockholm",
   "metadata": {},
   "outputs": [],
   "source": [
    "def full_accuracy(net, data_iter):\n",
    "    net.eval()\n",
    "#     device=torch.device('cuda' if torch.cuda.is_available() else 'cpu'\n",
    "    net = net.to(device)\n",
    "    \n",
    "    total_acc = 0\n",
    "    total_num = 0\n",
    "    with torch.no_grad():\n",
    "        for X, y in data_iter:\n",
    "            X = X.to(device)\n",
    "            y = y.to(device)\n",
    "\n",
    "            y_hat = net(X)\n",
    "\n",
    "            total_acc += accuracy(y_hat, y)\n",
    "            total_num += y.numel()\n",
    "    \n",
    "    return total_acc/total_num"
   ]
  },
  {
   "cell_type": "code",
   "execution_count": 13,
   "id": "superior-license",
   "metadata": {},
   "outputs": [],
   "source": [
    "def train_net(net): \n",
    "    train_loss = []\n",
    "    train_acc = []\n",
    "    test_acc = []\n",
    "\n",
    "    net= net.to(device)\n",
    "    for epoch in range(num_epochs):\n",
    "\n",
    "        acc_value = 0\n",
    "        total_number = 0\n",
    "        total_loss= 0\n",
    "        for i, data in enumerate(train_dataloader):\n",
    "            inputs, labels = data\n",
    "            inputs = inputs.to(device)\n",
    "            labels = labels.to(device)\n",
    "\n",
    "            optimizer.zero_grad()\n",
    "\n",
    "            outputs = net(inputs)\n",
    "            loss = criterion(outputs, labels)\n",
    "            loss.backward()\n",
    "            optimizer.step()\n",
    "\n",
    "\n",
    "            total_loss += loss.item()\n",
    "            acc_value += accuracy(outputs, labels)\n",
    "            total_number += labels.numel()\n",
    "\n",
    "        with torch.no_grad():\n",
    "\n",
    "            print(f\"\\tEpoch {epoch} : Statistics: \")\n",
    "            print(f'\\tcurrent train loss : {total_loss} / {total_number} : {float(total_loss/total_number)}')\n",
    "            print(f'\\tcurrent train acc : {acc_value}/{total_number} : {float(acc_value/total_number)}')\n",
    "            print(f'\\tcurrent test acc : {float(full_accuracy(net, test_dataloader))}')\n",
    "\n",
    "\n",
    "            train_loss.append(float(total_loss/total_number))\n",
    "            test_acc.append(float(full_accuracy(net, test_dataloader)))\n",
    "            train_acc.append(float(acc_value/total_number))\n",
    "    \n",
    "    return train_loss, test_acc, train_acc"
   ]
  },
  {
   "cell_type": "code",
   "execution_count": 14,
   "id": "harmful-armenia",
   "metadata": {},
   "outputs": [
    {
     "name": "stdout",
     "output_type": "stream",
     "text": [
      "torch.Size([128, 1, 224, 224]) 128\n",
      "For Sequential: torch.Size([128, 16, 112, 112])\n",
      "For Sequential: torch.Size([128, 32, 56, 56])\n",
      "For Sequential: torch.Size([128, 64, 28, 28])\n",
      "For Sequential: torch.Size([128, 128, 14, 14])\n",
      "For Sequential: torch.Size([128, 128, 7, 7])\n",
      "For Flatten: torch.Size([128, 6272])\n",
      "For Linear: torch.Size([128, 4096])\n",
      "For ReLU: torch.Size([128, 4096])\n",
      "For Dropout: torch.Size([128, 4096])\n",
      "For Linear: torch.Size([128, 4096])\n",
      "For ReLU: torch.Size([128, 4096])\n",
      "For Dropout: torch.Size([128, 4096])\n",
      "For Linear: torch.Size([128, 10])\n"
     ]
    }
   ],
   "source": [
    "for X, y in train_dataloader:\n",
    "    print(X.shape, len(y))\n",
    "    look_at_net(net.to(device), X.to(device).float())\n",
    "    break"
   ]
  },
  {
   "cell_type": "code",
   "execution_count": 15,
   "id": "settled-answer",
   "metadata": {},
   "outputs": [
    {
     "name": "stdout",
     "output_type": "stream",
     "text": [
      "CUDA out of memory. Tried to allocate 50.00 MiB (GPU 0; 4.00 GiB total capacity; 2.69 GiB already allocated; 15.23 MiB free; 2.70 GiB reserved in total by PyTorch)\n"
     ]
    }
   ],
   "source": [
    "try:\n",
    "    train_loss, test_acc, train_acc = train_net(net)\n",
    "except Exception as e:\n",
    "    print(e)"
   ]
  },
  {
   "cell_type": "code",
   "execution_count": 16,
   "id": "determined-paintball",
   "metadata": {},
   "outputs": [],
   "source": [
    "# its difficult to train so\n",
    "# 1. lets reduce the image size\n",
    "# 2. and also create a smaller architecture\n",
    "my_transforms = transforms.Compose(\n",
    "                [\n",
    "#                     transforms.Resize(224),\n",
    "                    transforms.ToTensor()]\n",
    ")\n",
    "\n",
    "train_dataset = datasets.FashionMNIST(download=False,root=\"../data\", train=True, transform=my_transforms)\n",
    "test_dataset = datasets.FashionMNIST(download=False, root=\"../data\", train=False, transform=my_transforms)\n",
    "\n",
    "\n",
    "train_dataloader = DataLoader(train_dataset, batch_size=batch_size, shuffle=True)\n",
    "test_dataloader = DataLoader(test_dataset, batch_size=batch_size, shuffle=True)\n"
   ]
  },
  {
   "cell_type": "code",
   "execution_count": 17,
   "id": "practical-maintenance",
   "metadata": {},
   "outputs": [],
   "source": [
    "# So it is difficult to run this lets reduce the model even further\n",
    "\n",
    "new_conv_arch = ((1,64), (1, 128))"
   ]
  },
  {
   "cell_type": "code",
   "execution_count": 18,
   "id": "reserved-pharmacology",
   "metadata": {},
   "outputs": [],
   "source": [
    "def vgg_reduced(conv_arch):\n",
    "    conv_blks = []\n",
    "    in_channels = 1\n",
    "    \n",
    "    for (num_convs, out_channels) in conv_arch:\n",
    "        conv_blks.append(vgg_block(num_convs, in_channels, out_channels))\n",
    "        in_channels=out_channels\n",
    "    \n",
    "    return nn.Sequential(\n",
    "        *conv_blks, nn.Flatten(), \n",
    "        nn.Linear(in_channels *7 *7, 4096), nn.ReLU(), nn.Dropout(p=0.5), \n",
    "        nn.Linear(4096, 10)\n",
    "    )"
   ]
  },
  {
   "cell_type": "code",
   "execution_count": 19,
   "id": "verbal-natural",
   "metadata": {},
   "outputs": [
    {
     "name": "stdout",
     "output_type": "stream",
     "text": [
      "For Sequential: torch.Size([1, 64, 14, 14])\n",
      "For Sequential: torch.Size([1, 128, 7, 7])\n",
      "For Flatten: torch.Size([1, 6272])\n",
      "For Linear: torch.Size([1, 4096])\n",
      "For ReLU: torch.Size([1, 4096])\n",
      "For Dropout: torch.Size([1, 4096])\n",
      "For Linear: torch.Size([1, 10])\n"
     ]
    }
   ],
   "source": [
    "X = torch.randn(1,1,28,28)\n",
    "\n",
    "net = vgg_reduced(new_conv_arch)\n",
    "\n",
    "look_at_net(net, X)"
   ]
  },
  {
   "cell_type": "code",
   "execution_count": 20,
   "id": "organic-australia",
   "metadata": {},
   "outputs": [
    {
     "name": "stdout",
     "output_type": "stream",
     "text": [
      "\tEpoch 0 : Statistics: \n",
      "\tcurrent train loss : 1080.0545313358307 / 60000 : 0.01800090885559718\n",
      "\tcurrent train acc : 5439/60000 : 0.09064999967813492\n",
      "\tcurrent test acc : 0.09959999471902847\n",
      "\tEpoch 1 : Statistics: \n",
      "\tcurrent train loss : 1079.7904839515686 / 60000 : 0.017996508065859475\n",
      "\tcurrent train acc : 5976/60000 : 0.09960000216960907\n",
      "\tcurrent test acc : 0.09959999471902847\n"
     ]
    }
   ],
   "source": [
    "try:\n",
    "    lr = 0.1\n",
    "    num_epochs=2\n",
    "    train_loss, test_acc, train_acc = train_net(net)\n",
    "except Exception as e:\n",
    "    print(e)"
   ]
  },
  {
   "cell_type": "code",
   "execution_count": 21,
   "id": "pregnant-cooper",
   "metadata": {},
   "outputs": [
    {
     "name": "stdout",
     "output_type": "stream",
     "text": [
      "finished\n"
     ]
    },
    {
     "data": {
      "image/png": "[encoded data removed]",
      "text/plain": [
       "<Figure size 432x288 with 1 Axes>"
      ]
     },
     "metadata": {
      "needs_background": "light"
     },
     "output_type": "display_data"
    }
   ],
   "source": [
    "print(\"finished\")\n",
    "\n",
    "import matplotlib.pyplot as plt\n",
    "num_epochs = num_epochs\n",
    "plt.plot(range(num_epochs), train_loss, label='train loss')\n",
    "plt.plot(range(num_epochs), train_acc, label = 'train acc')\n",
    "plt.plot(range(num_epochs), test_acc, label = 'test acc')\n",
    "plt.grid(True)\n",
    "plt.legend()\n",
    "plt.show()"
   ]
  },
  {
   "cell_type": "markdown",
   "id": "bearing-closure",
   "metadata": {},
   "source": [
    "## Training predefined VGG"
   ]
  },
  {
   "cell_type": "code",
   "execution_count": 22,
   "id": "devoted-watershed",
   "metadata": {},
   "outputs": [],
   "source": [
    "my_transforms = transforms.Compose(\n",
    "                [\n",
    "                    transforms.Resize(224),\n",
    "                    transforms.ToTensor()]\n",
    ")\n",
    "\n",
    "train_dataset = datasets.FashionMNIST(download=False,root=\"../data\", train=True, transform=my_transforms)\n",
    "test_dataset = datasets.FashionMNIST(download=False, root=\"../data\", train=False, transform=my_transforms)\n",
    "\n",
    "\n",
    "train_dataloader = DataLoader(train_dataset, batch_size=batch_size, shuffle=True)\n",
    "test_dataloader = DataLoader(test_dataset, batch_size=batch_size, shuffle=True)"
   ]
  },
  {
   "cell_type": "code",
   "execution_count": 23,
   "id": "bulgarian-appointment",
   "metadata": {},
   "outputs": [],
   "source": [
    "import os\n",
    "import torchvision\n",
    "\n",
    "# Suppose you are trying to load pre-trained resnet model in directory- models\\resnet\n",
    "\n",
    "os.environ['TORCH_HOME'] = '../models' #setting the environment variable\n"
   ]
  },
  {
   "cell_type": "code",
   "execution_count": 24,
   "id": "heavy-france",
   "metadata": {},
   "outputs": [],
   "source": [
    "vgg_predefined = torchvision.models.vgg16(pretrained=True) "
   ]
  },
  {
   "cell_type": "code",
   "execution_count": 25,
   "id": "upper-nudist",
   "metadata": {},
   "outputs": [],
   "source": [
    "for param in vgg_predefined.features.parameters(): # only freezing convolutional weights\n",
    "    param.requires_grad = False"
   ]
  },
  {
   "cell_type": "code",
   "execution_count": 26,
   "id": "honest-stomach",
   "metadata": {},
   "outputs": [
    {
     "data": {
      "text/plain": [
       "VGG(\n",
       "  (features): Sequential(\n",
       "    (0): Conv2d(3, 64, kernel_size=(3, 3), stride=(1, 1), padding=(1, 1))\n",
       "    (1): ReLU(inplace=True)\n",
       "    (2): Conv2d(64, 64, kernel_size=(3, 3), stride=(1, 1), padding=(1, 1))\n",
       "    (3): ReLU(inplace=True)\n",
       "    (4): MaxPool2d(kernel_size=2, stride=2, padding=0, dilation=1, ceil_mode=False)\n",
       "    (5): Conv2d(64, 128, kernel_size=(3, 3), stride=(1, 1), padding=(1, 1))\n",
       "    (6): ReLU(inplace=True)\n",
       "    (7): Conv2d(128, 128, kernel_size=(3, 3), stride=(1, 1), padding=(1, 1))\n",
       "    (8): ReLU(inplace=True)\n",
       "    (9): MaxPool2d(kernel_size=2, stride=2, padding=0, dilation=1, ceil_mode=False)\n",
       "    (10): Conv2d(128, 256, kernel_size=(3, 3), stride=(1, 1), padding=(1, 1))\n",
       "    (11): ReLU(inplace=True)\n",
       "    (12): Conv2d(256, 256, kernel_size=(3, 3), stride=(1, 1), padding=(1, 1))\n",
       "    (13): ReLU(inplace=True)\n",
       "    (14): Conv2d(256, 256, kernel_size=(3, 3), stride=(1, 1), padding=(1, 1))\n",
       "    (15): ReLU(inplace=True)\n",
       "    (16): MaxPool2d(kernel_size=2, stride=2, padding=0, dilation=1, ceil_mode=False)\n",
       "    (17): Conv2d(256, 512, kernel_size=(3, 3), stride=(1, 1), padding=(1, 1))\n",
       "    (18): ReLU(inplace=True)\n",
       "    (19): Conv2d(512, 512, kernel_size=(3, 3), stride=(1, 1), padding=(1, 1))\n",
       "    (20): ReLU(inplace=True)\n",
       "    (21): Conv2d(512, 512, kernel_size=(3, 3), stride=(1, 1), padding=(1, 1))\n",
       "    (22): ReLU(inplace=True)\n",
       "    (23): MaxPool2d(kernel_size=2, stride=2, padding=0, dilation=1, ceil_mode=False)\n",
       "    (24): Conv2d(512, 512, kernel_size=(3, 3), stride=(1, 1), padding=(1, 1))\n",
       "    (25): ReLU(inplace=True)\n",
       "    (26): Conv2d(512, 512, kernel_size=(3, 3), stride=(1, 1), padding=(1, 1))\n",
       "    (27): ReLU(inplace=True)\n",
       "    (28): Conv2d(512, 512, kernel_size=(3, 3), stride=(1, 1), padding=(1, 1))\n",
       "    (29): ReLU(inplace=True)\n",
       "    (30): MaxPool2d(kernel_size=2, stride=2, padding=0, dilation=1, ceil_mode=False)\n",
       "  )\n",
       "  (avgpool): AdaptiveAvgPool2d(output_size=(7, 7))\n",
       "  (classifier): Sequential(\n",
       "    (0): Linear(in_features=25088, out_features=4096, bias=True)\n",
       "    (1): ReLU(inplace=True)\n",
       "    (2): Dropout(p=0.5, inplace=False)\n",
       "    (3): Linear(in_features=4096, out_features=4096, bias=True)\n",
       "    (4): ReLU(inplace=True)\n",
       "    (5): Dropout(p=0.5, inplace=False)\n",
       "    (6): Linear(in_features=4096, out_features=1000, bias=True)\n",
       "  )\n",
       ")"
      ]
     },
     "execution_count": 26,
     "metadata": {},
     "output_type": "execute_result"
    }
   ],
   "source": [
    "vgg_predefined"
   ]
  },
  {
   "cell_type": "code",
   "execution_count": 27,
   "id": "opposite-section",
   "metadata": {},
   "outputs": [
    {
     "data": {
      "text/plain": [
       "Conv2d(3, 64, kernel_size=(3, 3), stride=(1, 1), padding=(1, 1))"
      ]
     },
     "execution_count": 27,
     "metadata": {},
     "output_type": "execute_result"
    }
   ],
   "source": [
    "vgg_predefined.features[0] "
   ]
  },
  {
   "cell_type": "code",
   "execution_count": 28,
   "id": "imposed-transformation",
   "metadata": {},
   "outputs": [],
   "source": [
    "vgg_predefined.features[0] = nn.Conv2d(1, 64, kernel_size=(3,3), stride=(1,1), padding=(1,1))"
   ]
  },
  {
   "cell_type": "code",
   "execution_count": 29,
   "id": "accomplished-albert",
   "metadata": {},
   "outputs": [],
   "source": [
    "vgg_predefined.classifier[6] = nn.Linear(in_features=4096, out_features=10, bias=True)"
   ]
  },
  {
   "cell_type": "code",
   "execution_count": 30,
   "id": "reported-telephone",
   "metadata": {},
   "outputs": [],
   "source": [
    "optimizer = torch.optim.SGD(vgg_predefined.parameters(), lr=0.001, momentum=0.9)\n",
    "loss_criterion = nn.CrossEntropyLoss()"
   ]
  },
  {
   "cell_type": "code",
   "execution_count": 31,
   "id": "assigned-consumer",
   "metadata": {},
   "outputs": [
    {
     "name": "stdout",
     "output_type": "stream",
     "text": [
      "CUDA out of memory. Tried to allocate 1.53 GiB (GPU 0; 4.00 GiB total capacity; 2.25 GiB already allocated; 423.23 MiB free; 2.30 GiB reserved in total by PyTorch)\n"
     ]
    }
   ],
   "source": [
    "try:\n",
    "    lr = 0.05\n",
    "    num_epochs=4\n",
    "    train_loss, test_acc, train_acc = train_net(vgg_predefined)\n",
    "except Exception as e:\n",
    "    print(e)\n"
   ]
  },
  {
   "cell_type": "markdown",
   "id": "complex-explanation",
   "metadata": {},
   "source": [
    "### Exercises\n",
    "\n",
    "1. When printing out the dimensions of the layers we only saw 8 results rather than 11. Where\n",
    "did the remaining 3 layer information go?\n",
    "\n",
    "* in maxpool\n",
    "\n",
    "2. Compared with AlexNet, VGG is much slower in terms of computation, and it also needs\n",
    "more GPU memory. Analyze the reasons for this.\n",
    "\n",
    "* it has more conv layers\n",
    "\n",
    "3. Try changing the height and width of the images in Fashion-MNIST from 224 to 96. What\n",
    "influence does this have on the experiments?\n",
    "\n",
    "* it willrun faster\n",
    "\n",
    "4. Refer to Table 1 in the VGG paper (Simonyan & Zisserman, 2014) to construct other common\n",
    "models, such as VGG-16 or VGG-19.\n",
    "\n",
    "* it can be done but my GPU says hi"
   ]
  }
 ],
 "metadata": {
  "kernelspec": {
   "display_name": "Python 3",
   "language": "python",
   "name": "python3"
  },
  "language_info": {
   "codemirror_mode": {
    "name": "ipython",
    "version": 3
   },
   "file_extension": ".py",
   "mimetype": "text/x-python",
   "name": "python",
   "nbconvert_exporter": "python",
   "pygments_lexer": "ipython3",
   "version": "3.9.5"
  }
 },
 "nbformat": 4,
 "nbformat_minor": 5
}
