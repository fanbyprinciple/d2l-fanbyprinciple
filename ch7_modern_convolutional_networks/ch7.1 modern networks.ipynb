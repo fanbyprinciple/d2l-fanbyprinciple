{
 "cells": [
  {
   "cell_type": "code",
   "execution_count": 21,
   "id": "arbitrary-integration",
   "metadata": {},
   "outputs": [
    {
     "name": "stdout",
     "output_type": "stream",
     "text": [
      "[enforce fail at ..\\c10\\core\\CPUAllocator.cpp:79] data. DefaultCPUAllocator: not enough memory: you tried to allocate 6994132992 bytes.\n"
     ]
    }
   ],
   "source": [
    "import torch\n",
    "from torch import nn\n",
    "\n",
    "# my failedattempt at alexnet! \n",
    "try:\n",
    "\n",
    "    net_fail =  nn.Sequential( \n",
    "        nn.Conv2d(3 * 224 * 224, 96, kernel_size=11, stride=4),\n",
    "        nn.MaxPool2d(kernel_size=3, stride=2),\n",
    "        nn.Conv2d(96, 256, kernel_size=5, padding=2),\n",
    "        nn.MaxPool2d(kernel_size=3, stride=2),\n",
    "        nn.Conv2d(256, 384, kernel_size=3, padding=1),\n",
    "        nn.Conv2d(384, 384, kernel_size=3, padding=1),\n",
    "        nn.Conv2d(384, 384, kernel_size=3, padding=1),\n",
    "        nn.MaxPool2d(kernel_size=3,stride=2),\n",
    "        nn.Linear(384, 4096),\n",
    "        nn.Linear(4096, 4096),\n",
    "        nn.Linear(4096,1000)\n",
    "    )\n",
    "except Exception as e:\n",
    "    print(e)"
   ]
  },
  {
   "cell_type": "code",
   "execution_count": 22,
   "id": "resistant-india",
   "metadata": {},
   "outputs": [],
   "source": [
    "X = torch.randn((3,224,224))"
   ]
  },
  {
   "cell_type": "code",
   "execution_count": 23,
   "id": "alternate-notion",
   "metadata": {},
   "outputs": [
    {
     "name": "stdout",
     "output_type": "stream",
     "text": [
      "Expected 4-dimensional input for 4-dimensional weight [96, 150528, 11, 11], but got 3-dimensional input of size [3, 224, 224] instead\n"
     ]
    }
   ],
   "source": [
    "try:\n",
    "    net_fail(X)\n",
    "except Exception as e:\n",
    "    print(e)"
   ]
  },
  {
   "cell_type": "code",
   "execution_count": 24,
   "id": "alert-journey",
   "metadata": {},
   "outputs": [],
   "source": [
    "alex_net = nn.Sequential( \n",
    "            # we use kernel size 11 to capture large features\n",
    "            nn.Conv2d(1,96,kernel_size=11, stride=4, padding=1), nn.ReLU(),\n",
    "            nn.MaxPool2d(kernel_size=3, stride=2),\n",
    "            # making the convolutional window smaller here but we increase output size\n",
    "            nn.Conv2d(96, 256,kernel_size=5, padding=2), nn.ReLU(),\n",
    "            nn.MaxPool2d(kernel_size=3, stride=2),\n",
    "            \n",
    "            # Use three successive convolutional layers and a smaller convolution\n",
    "            # window. Except for the final convolutional layer, the number of output\n",
    "            # channels is further increased. Pooling layers are not used to reduce the\n",
    "            # height and width of input after the first two convolutional layers\n",
    "    \n",
    "            nn.Conv2d(256, 384, kernel_size=3, padding=1), nn.ReLU(),\n",
    "            nn.Conv2d(384, 384, kernel_size=3, padding=1), nn.ReLU(),\n",
    "            nn.Conv2d(384, 256, kernel_size=3, padding=1), nn.ReLU(),\n",
    "            nn.MaxPool2d(kernel_size=3, stride=2), nn.Flatten(),\n",
    "    \n",
    "            # Here the number of output is isseveraltimes larger than lenet so we need to incorporate dropout\n",
    "            nn.Linear(6400, 4096), nn.ReLU(), nn.Dropout(p=0.5),\n",
    "            nn.Linear(4096, 4096), nn.ReLU(), nn.Dropout(p=0.5),\n",
    "            nn.Linear(4096, 10)\n",
    ")"
   ]
  },
  {
   "cell_type": "code",
   "execution_count": 25,
   "id": "coordinated-village",
   "metadata": {},
   "outputs": [
    {
     "data": {
      "text/plain": [
       "torch.Size([1, 1, 224, 224])"
      ]
     },
     "execution_count": 25,
     "metadata": {},
     "output_type": "execute_result"
    }
   ],
   "source": [
    "X = torch.randn(1,1,224,224)\n",
    "X.shape"
   ]
  },
  {
   "cell_type": "code",
   "execution_count": 26,
   "id": "finnish-premiere",
   "metadata": {},
   "outputs": [
    {
     "name": "stdout",
     "output_type": "stream",
     "text": [
      "Conv2d shape : torch.Size([1, 96, 54, 54])\n",
      "ReLU shape : torch.Size([1, 96, 54, 54])\n",
      "MaxPool2d shape : torch.Size([1, 96, 26, 26])\n",
      "Conv2d shape : torch.Size([1, 256, 26, 26])\n",
      "ReLU shape : torch.Size([1, 256, 26, 26])\n",
      "MaxPool2d shape : torch.Size([1, 256, 12, 12])\n",
      "Conv2d shape : torch.Size([1, 384, 12, 12])\n",
      "ReLU shape : torch.Size([1, 384, 12, 12])\n",
      "Conv2d shape : torch.Size([1, 384, 12, 12])\n",
      "ReLU shape : torch.Size([1, 384, 12, 12])\n",
      "Conv2d shape : torch.Size([1, 256, 12, 12])\n",
      "ReLU shape : torch.Size([1, 256, 12, 12])\n",
      "MaxPool2d shape : torch.Size([1, 256, 5, 5])\n",
      "Flatten shape : torch.Size([1, 6400])\n",
      "Linear shape : torch.Size([1, 4096])\n",
      "ReLU shape : torch.Size([1, 4096])\n",
      "Dropout shape : torch.Size([1, 4096])\n",
      "Linear shape : torch.Size([1, 4096])\n",
      "ReLU shape : torch.Size([1, 4096])\n",
      "Dropout shape : torch.Size([1, 4096])\n",
      "Linear shape : torch.Size([1, 10])\n"
     ]
    }
   ],
   "source": [
    "for layer in alex_net:\n",
    "    X = layer(X)\n",
    "    print(f\"{layer.__class__.__name__} shape : {X.shape}\")"
   ]
  },
  {
   "cell_type": "code",
   "execution_count": 27,
   "id": "understood-listening",
   "metadata": {},
   "outputs": [],
   "source": [
    "# Reading the dataset\n",
    "batch_size = 128\n",
    "\n",
    "# we will be resizing the dataset offashion mnist so that it fits alex nets\n",
    "\n",
    "import torchvision.transforms as transforms\n",
    "from torch.utils.data import DataLoader\n",
    "import torchvision.datasets as datasets\n",
    "\n",
    "\n",
    "my_transforms = transforms.Compose(\n",
    "                [transforms.Resize((224, 224)),\n",
    "                transforms.ToTensor()]\n",
    ")\n",
    "\n",
    "train_dataset = datasets.FashionMNIST(download=False,root=\"../data\", train=True, transform=my_transforms)\n",
    "test_dataset = datasets.FashionMNIST(download=False, root=\"../data\", train=False, transform=my_transforms)\n",
    "\n",
    "\n",
    "train_dataloader = DataLoader(train_dataset, batch_size=batch_size, shuffle=True)\n",
    "test_dataloader = DataLoader(test_dataset, batch_size=batch_size, shuffle=True)"
   ]
  },
  {
   "cell_type": "code",
   "execution_count": 28,
   "id": "grand-start",
   "metadata": {},
   "outputs": [
    {
     "data": {
      "text/plain": [
       "(torch.Size([128, 1, 224, 224]), 128)"
      ]
     },
     "execution_count": 28,
     "metadata": {},
     "output_type": "execute_result"
    }
   ],
   "source": [
    "for X, y in train_dataloader:\n",
    "    break\n",
    "\n",
    "X.shape, len(y)"
   ]
  },
  {
   "cell_type": "code",
   "execution_count": 29,
   "id": "subtle-struggle",
   "metadata": {},
   "outputs": [
    {
     "name": "stdout",
     "output_type": "stream",
     "text": [
      "tensor(8)\n"
     ]
    },
    {
     "data": {
      "text/plain": [
       "<matplotlib.image.AxesImage at 0x21bb8e15430>"
      ]
     },
     "execution_count": 29,
     "metadata": {},
     "output_type": "execute_result"
    },
    {
     "data": {
      "image/png": "[encoded data removed]",
      "text/plain": [
       "<Figure size 432x288 with 1 Axes>"
      ]
     },
     "metadata": {
      "needs_background": "light"
     },
     "output_type": "display_data"
    }
   ],
   "source": [
    "import matplotlib.pyplot as plt\n",
    "\n",
    "print(y[0])\n",
    "plt.imshow(X[0].permute(1,2,0))"
   ]
  },
  {
   "cell_type": "code",
   "execution_count": 30,
   "id": "visible-approach",
   "metadata": {},
   "outputs": [],
   "source": [
    "def accuracy(y_hat, y):\n",
    "    return (y_hat.argmax(1) == y).sum()"
   ]
  },
  {
   "cell_type": "code",
   "execution_count": 31,
   "id": "latin-pacific",
   "metadata": {},
   "outputs": [],
   "source": [
    "def evaluate_accuracy_gpu(net, data_iter):\n",
    "    if isinstance(net, nn.Module):\n",
    "        net.eval()\n",
    "    device = torch.device('cuda')\n",
    "    \n",
    "    acc_arr = 0\n",
    "    total_number = 0\n",
    "    \n",
    "    with torch.no_grad():\n",
    "        for X, y in data_iter:\n",
    "            X = X.to(device).float()\n",
    "            y = y.to(device).float()\n",
    "            net = net.to(device)\n",
    "            y_hat = net(X)\n",
    "            acc_arr += accuracy(y_hat, y)\n",
    "            total_number += y.numel()\n",
    "\n",
    "    return acc_arr/total_number\n",
    "        "
   ]
  },
  {
   "cell_type": "code",
   "execution_count": 32,
   "id": "precise-peace",
   "metadata": {},
   "outputs": [],
   "source": [
    "from torch import nn\n",
    "\n",
    "\n",
    "def train_ch7(net, train_iter, test_iter, num_epochs, lr, device=torch.device('cuda')):\n",
    "    def init_weights(m):\n",
    "        if type(m) == nn.Linear or type(m) == nn.Conv2d:\n",
    "            nn.init.xavier_uniform_(m.weight)\n",
    "    \n",
    "    net.apply(init_weights)\n",
    "    \n",
    "    print(f'training on device : {device}')\n",
    "    \n",
    "    net = net.to(device)\n",
    "    loss_criterion = nn.CrossEntropyLoss()\n",
    "    optimizer = torch.optim.Adam(net.parameters(), lr=lr)\n",
    "    \n",
    "    train_loss = []\n",
    "    train_acc = []\n",
    "    test_acc = []\n",
    "    for epoch in range(num_epochs):\n",
    "        current_l = 0\n",
    "        current_numer = 0\n",
    "        current_acc = 0\n",
    "        for X, y in train_iter:\n",
    "            X = X.to(device)\n",
    "            y = y.to(device)\n",
    "            \n",
    "            X = X.float()\n",
    "            y = y.long()\n",
    "            \n",
    "            y_hat = net(X)\n",
    "            l = loss_criterion(y_hat, y)\n",
    "            \n",
    "            optimizer.zero_grad()\n",
    "            l.backward()\n",
    "            optimizer.step()\n",
    "            \n",
    "            current_l += l\n",
    "            current_numer += X.shape[0]\n",
    "            current_acc += accuracy(y_hat, y)\n",
    "            \n",
    "        print(f'\\nFor epoch {epoch} the loss {current_acc/ current_numer}')\n",
    "        \n",
    "        with torch.no_grad():\n",
    "            \n",
    "            print(\"\\tStatistics:\")\n",
    "            print(f'\\tcurrent train loss : {float(current_l/current_numer)}')\n",
    "            print(f'\\tcurrent train acc : {float(current_acc/current_numer)}')\n",
    "            print(f'\\tcurrent test acc : {float(evaluate_accuracy_gpu(net, test_iter))}')\n",
    "    \n",
    "            train_loss.append(float(current_l/current_numer))\n",
    "            train_acc.append(float(current_acc/current_numer))\n",
    "            test_acc.append(float(evaluate_accuracy_gpu(net, test_iter)))\n",
    "    \n",
    "    with torch.no_grad():\n",
    "        print(len(train_loss), len(train_acc), len(test_acc))\n",
    "        print(type(train_loss), type(train_acc), type(test_acc))\n",
    "        plt.plot(range(num_epochs), train_loss)\n",
    "        plt.plot(range(num_epochs), train_acc)\n",
    "        plt.plot(range(num_epochs), test_acc)\n",
    "        plt.grid(True)\n",
    "        plt.show()\n",
    "            \n",
    "            "
   ]
  },
  {
   "cell_type": "code",
   "execution_count": 33,
   "id": "political-encounter",
   "metadata": {
    "scrolled": false
   },
   "outputs": [
    {
     "name": "stdout",
     "output_type": "stream",
     "text": [
      "training on device : cuda\n",
      "\n",
      "For epoch 0 the loss 0.09943333268165588\n",
      "\tStatistics:\n",
      "\tcurrent train loss : 38.27983856201172\n",
      "\tcurrent train acc : 0.09943333268165588\n",
      "\tcurrent test acc : 0.09999999403953552\n",
      "\n",
      "For epoch 1 the loss 0.09915000200271606\n",
      "\tStatistics:\n",
      "\tcurrent train loss : 0.01800302229821682\n",
      "\tcurrent train acc : 0.09915000200271606\n",
      "\tcurrent test acc : 0.09999999403953552\n",
      "\n",
      "For epoch 2 the loss 0.09915000200271606\n",
      "\tStatistics:\n",
      "\tcurrent train loss : 0.018002724274992943\n",
      "\tcurrent train acc : 0.09915000200271606\n",
      "\tcurrent test acc : 0.09999999403953552\n",
      "\n",
      "For epoch 3 the loss 0.09714999794960022\n",
      "\tStatistics:\n",
      "\tcurrent train loss : 0.018004391342401505\n",
      "\tcurrent train acc : 0.09714999794960022\n",
      "\tcurrent test acc : 0.09999999403953552\n",
      "\n",
      "For epoch 4 the loss 0.09809999912977219\n",
      "\tStatistics:\n",
      "\tcurrent train loss : 0.018004335463047028\n",
      "\tcurrent train acc : 0.09809999912977219\n",
      "\tcurrent test acc : 0.09999999403953552\n",
      "\n",
      "For epoch 5 the loss 0.09853333234786987\n",
      "\tStatistics:\n",
      "\tcurrent train loss : 0.01800343580543995\n",
      "\tcurrent train acc : 0.09853333234786987\n",
      "\tcurrent test acc : 0.09999999403953552\n",
      "\n",
      "For epoch 6 the loss 0.09748333692550659\n",
      "\tStatistics:\n",
      "\tcurrent train loss : 0.018004391342401505\n",
      "\tcurrent train acc : 0.09748333692550659\n",
      "\tcurrent test acc : 0.09999999403953552\n",
      "\n",
      "For epoch 7 the loss 0.09849999845027924\n",
      "\tStatistics:\n",
      "\tcurrent train loss : 0.018004534766077995\n",
      "\tcurrent train acc : 0.09849999845027924\n",
      "\tcurrent test acc : 0.09999999403953552\n",
      "\n",
      "For epoch 8 the loss 0.0984666645526886\n",
      "\tStatistics:\n",
      "\tcurrent train loss : 0.018004488199949265\n",
      "\tcurrent train acc : 0.0984666645526886\n",
      "\tcurrent test acc : 0.09999999403953552\n",
      "\n",
      "For epoch 9 the loss 0.09983333200216293\n",
      "\tStatistics:\n",
      "\tcurrent train loss : 0.018004288896918297\n",
      "\tcurrent train acc : 0.09983333200216293\n",
      "\tcurrent test acc : 0.09999999403953552\n",
      "10 10 10\n",
      "<class 'list'> <class 'list'> <class 'list'>\n"
     ]
    },
    {
     "data": {
      "image/png": "[encoded data removed]",
      "text/plain": [
       "<Figure size 432x288 with 1 Axes>"
      ]
     },
     "metadata": {
      "needs_background": "light"
     },
     "output_type": "display_data"
    },
    {
     "name": "stdout",
     "output_type": "stream",
     "text": [
      "Wall time: 30min 5s\n"
     ]
    }
   ],
   "source": [
    "%%time\n",
    "lr , num_epochs = 0.01, 10\n",
    "train_ch7(alex_net, train_dataloader, test_dataloader, num_epochs, lr)"
   ]
  }
 ],
 "metadata": {
  "kernelspec": {
   "display_name": "Python 3",
   "language": "python",
   "name": "python3"
  },
  "language_info": {
   "codemirror_mode": {
    "name": "ipython",
    "version": 3
   },
   "file_extension": ".py",
   "mimetype": "text/x-python",
   "name": "python",
   "nbconvert_exporter": "python",
   "pygments_lexer": "ipython3",
   "version": "3.9.5"
  }
 },
 "nbformat": 4,
 "nbformat_minor": 5
}
