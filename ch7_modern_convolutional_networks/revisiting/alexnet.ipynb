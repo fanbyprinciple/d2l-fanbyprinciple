{
 "cells": [
  {
   "cell_type": "code",
   "execution_count": 1,
   "id": "concerned-claim",
   "metadata": {},
   "outputs": [],
   "source": [
    "import torch\n",
    "from torch import nn"
   ]
  },
  {
   "cell_type": "code",
   "execution_count": 6,
   "id": "japanese-checkout",
   "metadata": {},
   "outputs": [],
   "source": [
    "alexnet = nn.Sequential(\n",
    "        nn.Conv2d(3,96, kernel_size=11, stride=4), nn.ReLU(),\n",
    "        nn.MaxPool2d(kernel_size=3, stride=2),\n",
    "        nn.Conv2d(96, 256,kernel_size=5, padding=2),nn.ReLU(),\n",
    "        nn.MaxPool2d(kernel_size=3, stride=2),\n",
    "        nn.Conv2d(256, 384, kernel_size=3, padding=1), nn.ReLU(),\n",
    "        nn.Conv2d(384, 384, kernel_size=3, padding=1), nn.ReLU(),\n",
    "        nn.Conv2d(384, 256, kernel_size=3, padding=1), nn.ReLU(),\n",
    "        nn.MaxPool2d(kernel_size=3, stride=2),\n",
    "        nn.Flatten(),\n",
    "        nn.Linear(6400,4096), nn.Dropout(p=0.5),\n",
    "        nn.Linear(4096, 256), nn.Dropout(p=0.5),\n",
    "        nn.Linear(256,10)\n",
    "    )"
   ]
  },
  {
   "cell_type": "code",
   "execution_count": 7,
   "id": "governmental-bachelor",
   "metadata": {},
   "outputs": [],
   "source": [
    "def look_in_net(net, X):\n",
    "    out = X\n",
    "    \n",
    "    for layer in net:\n",
    "        out = layer(out)\n",
    "        print(f\" for layer {layer.__class__.__name__} shape : {out.shape}\")"
   ]
  },
  {
   "cell_type": "code",
   "execution_count": 8,
   "id": "mature-regular",
   "metadata": {},
   "outputs": [
    {
     "name": "stdout",
     "output_type": "stream",
     "text": [
      " for layer Conv2d shape : torch.Size([10, 96, 54, 54])\n",
      " for layer ReLU shape : torch.Size([10, 96, 54, 54])\n",
      " for layer MaxPool2d shape : torch.Size([10, 96, 26, 26])\n",
      " for layer Conv2d shape : torch.Size([10, 256, 26, 26])\n",
      " for layer ReLU shape : torch.Size([10, 256, 26, 26])\n",
      " for layer MaxPool2d shape : torch.Size([10, 256, 12, 12])\n",
      " for layer Conv2d shape : torch.Size([10, 384, 12, 12])\n",
      " for layer ReLU shape : torch.Size([10, 384, 12, 12])\n",
      " for layer Conv2d shape : torch.Size([10, 384, 12, 12])\n",
      " for layer ReLU shape : torch.Size([10, 384, 12, 12])\n",
      " for layer Conv2d shape : torch.Size([10, 256, 12, 12])\n",
      " for layer ReLU shape : torch.Size([10, 256, 12, 12])\n",
      " for layer MaxPool2d shape : torch.Size([10, 256, 5, 5])\n",
      " for layer Flatten shape : torch.Size([10, 6400])\n",
      " for layer Linear shape : torch.Size([10, 4096])\n",
      " for layer Dropout shape : torch.Size([10, 4096])\n",
      " for layer Linear shape : torch.Size([10, 256])\n",
      " for layer Dropout shape : torch.Size([10, 256])\n",
      " for layer Linear shape : torch.Size([10, 10])\n"
     ]
    }
   ],
   "source": [
    "X = torch.randn(10,3,224,224)\n",
    "\n",
    "look_in_net(alexnet, X)"
   ]
  }
 ],
 "metadata": {
  "kernelspec": {
   "display_name": "Python 3",
   "language": "python",
   "name": "python3"
  },
  "language_info": {
   "codemirror_mode": {
    "name": "ipython",
    "version": 3
   },
   "file_extension": ".py",
   "mimetype": "text/x-python",
   "name": "python",
   "nbconvert_exporter": "python",
   "pygments_lexer": "ipython3",
   "version": "3.9.5"
  }
 },
 "nbformat": 4,
 "nbformat_minor": 5
}
