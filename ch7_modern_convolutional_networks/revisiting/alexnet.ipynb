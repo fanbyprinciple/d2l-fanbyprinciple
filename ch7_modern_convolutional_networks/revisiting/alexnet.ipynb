{
 "cells": [
  {
   "cell_type": "code",
   "execution_count": 3,
   "id": "concerned-claim",
   "metadata": {},
   "outputs": [],
   "source": [
    "import torch\n",
    "from torch import nn"
   ]
  },
  {
   "cell_type": "code",
   "execution_count": 4,
   "id": "japanese-checkout",
   "metadata": {},
   "outputs": [],
   "source": [
    "alexnet = nn.Sequential(\n",
    "        nn.Conv2d(1,96, kernel_size=11, stride=4), nn.ReLU(),\n",
    "        nn.MaxPool2d(kernel_size=3, stride=2),\n",
    "        nn.Conv2d(96, 256,kernel_size=5, padding=2),nn.ReLU(),\n",
    "        nn.MaxPool2d(kernel_size=3, stride=2),\n",
    "        nn.Conv2d(256, 384, kernel_size=3, padding=1), nn.ReLU(),\n",
    "        nn.Conv2d(384, 384, kernel_size=3, padding=1), nn.ReLU(),\n",
    "        nn.Conv2d(384, 256, kernel_size=3, padding=1), nn.ReLU(),\n",
    "        nn.MaxPool2d(kernel_size=3, stride=2),\n",
    "        nn.Flatten(),\n",
    "        nn.Linear(6400,4096), nn.Dropout(p=0.5),\n",
    "        nn.Linear(4096, 256), nn.Dropout(p=0.5),\n",
    "        nn.Linear(256,10)\n",
    "    )"
   ]
  },
  {
   "cell_type": "code",
   "execution_count": 5,
   "id": "governmental-bachelor",
   "metadata": {},
   "outputs": [],
   "source": [
    "def look_in_net(net, X):\n",
    "    out = X\n",
    "    \n",
    "    for layer in net:\n",
    "        out = layer(out)\n",
    "        print(f\" for layer {layer.__class__.__name__} shape : {out.shape}\")"
   ]
  },
  {
   "cell_type": "code",
   "execution_count": 6,
   "id": "mature-regular",
   "metadata": {},
   "outputs": [
    {
     "name": "stdout",
     "output_type": "stream",
     "text": [
      " for layer Conv2d shape : torch.Size([10, 96, 54, 54])\n",
      " for layer ReLU shape : torch.Size([10, 96, 54, 54])\n",
      " for layer MaxPool2d shape : torch.Size([10, 96, 26, 26])\n",
      " for layer Conv2d shape : torch.Size([10, 256, 26, 26])\n",
      " for layer ReLU shape : torch.Size([10, 256, 26, 26])\n",
      " for layer MaxPool2d shape : torch.Size([10, 256, 12, 12])\n",
      " for layer Conv2d shape : torch.Size([10, 384, 12, 12])\n",
      " for layer ReLU shape : torch.Size([10, 384, 12, 12])\n",
      " for layer Conv2d shape : torch.Size([10, 384, 12, 12])\n",
      " for layer ReLU shape : torch.Size([10, 384, 12, 12])\n",
      " for layer Conv2d shape : torch.Size([10, 256, 12, 12])\n",
      " for layer ReLU shape : torch.Size([10, 256, 12, 12])\n",
      " for layer MaxPool2d shape : torch.Size([10, 256, 5, 5])\n",
      " for layer Flatten shape : torch.Size([10, 6400])\n",
      " for layer Linear shape : torch.Size([10, 4096])\n",
      " for layer Dropout shape : torch.Size([10, 4096])\n",
      " for layer Linear shape : torch.Size([10, 256])\n",
      " for layer Dropout shape : torch.Size([10, 256])\n",
      " for layer Linear shape : torch.Size([10, 10])\n"
     ]
    },
    {
     "name": "stderr",
     "output_type": "stream",
     "text": [
      "z:\\installs\\anconda\\envs\\myenv\\lib\\site-packages\\torch\\nn\\functional.py:718: UserWarning: Named tensors and all their associated APIs are an experimental feature and subject to change. Please do not use them for anything important until they are released as stable. (Triggered internally at  ..\\c10/core/TensorImpl.h:1156.)\n",
      "  return torch.max_pool2d(input, kernel_size, stride, padding, dilation, ceil_mode)\n"
     ]
    }
   ],
   "source": [
    "X = torch.randn(10,1,224,224)\n",
    "\n",
    "look_in_net(alexnet, X)"
   ]
  },
  {
   "cell_type": "code",
   "execution_count": 7,
   "id": "informed-server",
   "metadata": {},
   "outputs": [],
   "source": [
    "batch_size = 64\n",
    "\n",
    "import torchvision.transforms as transforms\n",
    "from torch.utils.data import DataLoader\n",
    "import torchvision.datasets as datasets\n",
    "\n",
    "my_transforms = transforms.Compose(\n",
    "                [\n",
    "                 transforms.Resize(224),\n",
    "                 transforms.ToTensor()\n",
    "                ]\n",
    ")\n",
    "\n",
    "train_dataset = datasets.FashionMNIST(download=False, root=\"../../data\", train=True, transform=my_transforms)\n",
    "test_dataset = datasets.FashionMNIST(download=False, root=\"../../data\", train=False, transform=my_transforms)\n",
    "\n",
    "train_dataloader = DataLoader(train_dataset, batch_size=batch_size, shuffle=True)\n",
    "test_dataloader = DataLoader(test_dataset, batch_size=batch_size, shuffle=True)"
   ]
  },
  {
   "cell_type": "code",
   "execution_count": 8,
   "id": "signed-pressing",
   "metadata": {},
   "outputs": [
    {
     "name": "stdout",
     "output_type": "stream",
     "text": [
      "tensor([1, 1, 8, 7, 4, 8, 7, 4, 3, 9, 6, 9, 7, 4, 6, 0, 8, 7, 3, 4, 1, 5, 7, 1,\n",
      "        0, 9, 1, 6, 6, 4, 3, 7, 7, 2, 8, 6, 2, 1, 1, 9, 9, 6, 9, 5, 9, 9, 9, 4,\n",
      "        6, 8, 5, 4, 4, 7, 4, 0, 7, 7, 8, 4, 7, 2, 6, 0])\n"
     ]
    },
    {
     "data": {
      "image/png": "[encoded data removed]",
      "text/plain": [
       "<Figure size 432x288 with 1 Axes>"
      ]
     },
     "metadata": {
      "needs_background": "light"
     },
     "output_type": "display_data"
    }
   ],
   "source": [
    "# we can define a smaller alexnet if we want\n",
    "\n",
    "for X, y in train_dataloader:\n",
    "    break\n",
    "    \n",
    "import matplotlib.pyplot as plt\n",
    "\n",
    "plt.imshow(X[0].permute(1,2,0))\n",
    "print(y)\n"
   ]
  },
  {
   "cell_type": "code",
   "execution_count": 9,
   "id": "written-chambers",
   "metadata": {},
   "outputs": [],
   "source": [
    "net = alexnet\n",
    "criterion = nn.CrossEntropyLoss()\n",
    "optimizer = torch.optim.SGD(net.parameters(), lr=0.1)\n",
    "num_epochs = 3"
   ]
  },
  {
   "cell_type": "code",
   "execution_count": 10,
   "id": "oriental-provision",
   "metadata": {},
   "outputs": [],
   "source": [
    "def accuracy(y_hat, y):\n",
    "    return (torch.argmax(y_hat, dim=1)==y).sum().float().mean()"
   ]
  },
  {
   "cell_type": "code",
   "execution_count": 11,
   "id": "cultural-gentleman",
   "metadata": {},
   "outputs": [],
   "source": [
    "device = torch.device('cuda' if torch.cuda.is_available() else 'cpu')"
   ]
  },
  {
   "cell_type": "code",
   "execution_count": 12,
   "id": "noted-resident",
   "metadata": {},
   "outputs": [],
   "source": [
    "net = net.to(device)"
   ]
  },
  {
   "cell_type": "code",
   "execution_count": 13,
   "id": "awful-gravity",
   "metadata": {},
   "outputs": [
    {
     "name": "stdout",
     "output_type": "stream",
     "text": [
      "Epoch 0 accuracy : 0.7222499847412109\n",
      "Epoch 1 accuracy : 0.866433322429657\n",
      "Epoch 2 accuracy : 0.8896833062171936\n",
      "Wall time: 6min 21s\n"
     ]
    }
   ],
   "source": [
    "%%time\n",
    "acc_arr = []\n",
    "\n",
    "\n",
    "for epoch in range(num_epochs):\n",
    "    acc_val = 0\n",
    "    number = 0\n",
    "    for X, y in train_dataloader:\n",
    "        X = X.to(device)\n",
    "        y = y.to(device)\n",
    "        pred = net(X)\n",
    "        l = criterion(pred, y)\n",
    "        \n",
    "        acc_val += accuracy(pred,y)\n",
    "        number += len(y)\n",
    "        \n",
    "        optimizer.zero_grad()\n",
    "        \n",
    "        l.backward()\n",
    "        \n",
    "        optimizer.step()\n",
    "    \n",
    "        \n",
    "    acc_arr.append(acc_val.detach().cpu()/number)\n",
    "    print(f\"Epoch {epoch} accuracy : {acc_arr[-1]}\")"
   ]
  },
  {
   "cell_type": "code",
   "execution_count": 14,
   "id": "dominant-coordinate",
   "metadata": {},
   "outputs": [
    {
     "data": {
      "image/png": "[encoded data removed]",
      "text/plain": [
       "<Figure size 432x288 with 1 Axes>"
      ]
     },
     "metadata": {
      "needs_background": "light"
     },
     "output_type": "display_data"
    }
   ],
   "source": [
    "plt.plot(range(num_epochs), acc_arr)\n",
    "plt.show()"
   ]
  },
  {
   "cell_type": "code",
   "execution_count": 15,
   "id": "representative-horror",
   "metadata": {},
   "outputs": [
    {
     "data": {
      "text/plain": [
       "tensor(0.8897)"
      ]
     },
     "execution_count": 15,
     "metadata": {},
     "output_type": "execute_result"
    }
   ],
   "source": [
    "acc_arr[-1]"
   ]
  },
  {
   "cell_type": "code",
   "execution_count": 16,
   "id": "statewide-toner",
   "metadata": {
    "scrolled": false
   },
   "outputs": [],
   "source": [
    "#%conda install torchsummary"
   ]
  },
  {
   "cell_type": "code",
   "execution_count": 19,
   "id": "essential-navigation",
   "metadata": {},
   "outputs": [
    {
     "name": "stdout",
     "output_type": "stream",
     "text": [
      "----------------------------------------------------------------\n",
      "        Layer (type)               Output Shape         Param #\n",
      "================================================================\n",
      "            Conv2d-1           [-1, 96, 54, 54]          11,712\n",
      "              ReLU-2           [-1, 96, 54, 54]               0\n",
      "         MaxPool2d-3           [-1, 96, 26, 26]               0\n",
      "            Conv2d-4          [-1, 256, 26, 26]         614,656\n",
      "              ReLU-5          [-1, 256, 26, 26]               0\n",
      "         MaxPool2d-6          [-1, 256, 12, 12]               0\n",
      "            Conv2d-7          [-1, 384, 12, 12]         885,120\n",
      "              ReLU-8          [-1, 384, 12, 12]               0\n",
      "            Conv2d-9          [-1, 384, 12, 12]       1,327,488\n",
      "             ReLU-10          [-1, 384, 12, 12]               0\n",
      "           Conv2d-11          [-1, 256, 12, 12]         884,992\n",
      "             ReLU-12          [-1, 256, 12, 12]               0\n",
      "        MaxPool2d-13            [-1, 256, 5, 5]               0\n",
      "          Flatten-14                 [-1, 6400]               0\n",
      "           Linear-15                 [-1, 4096]      26,218,496\n",
      "          Dropout-16                 [-1, 4096]               0\n",
      "           Linear-17                  [-1, 256]       1,048,832\n",
      "          Dropout-18                  [-1, 256]               0\n",
      "           Linear-19                   [-1, 10]           2,570\n",
      "================================================================\n",
      "Total params: 30,993,866\n",
      "Trainable params: 30,993,866\n",
      "Non-trainable params: 0\n",
      "----------------------------------------------------------------\n",
      "Input size (MB): 0.19\n",
      "Forward/backward pass size (MB): 10.10\n",
      "Params size (MB): 118.23\n",
      "Estimated Total Size (MB): 128.53\n",
      "----------------------------------------------------------------\n"
     ]
    }
   ],
   "source": [
    "from torchsummary import summary\n",
    "summary(net, (1,224,224))"
   ]
  },
  {
   "cell_type": "code",
   "execution_count": null,
   "id": "otherwise-response",
   "metadata": {},
   "outputs": [],
   "source": []
  }
 ],
 "metadata": {
  "kernelspec": {
   "display_name": "Python 3",
   "language": "python",
   "name": "python3"
  },
  "language_info": {
   "codemirror_mode": {
    "name": "ipython",
    "version": 3
   },
   "file_extension": ".py",
   "mimetype": "text/x-python",
   "name": "python",
   "nbconvert_exporter": "python",
   "pygments_lexer": "ipython3",
   "version": "3.9.5"
  }
 },
 "nbformat": 4,
 "nbformat_minor": 5
}
