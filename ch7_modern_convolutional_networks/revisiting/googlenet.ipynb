{
 "cells": [
  {
   "cell_type": "code",
   "execution_count": 24,
   "id": "fuzzy-character",
   "metadata": {},
   "outputs": [],
   "source": [
    "import torch\n",
    "import torch.nn as nn\n",
    "from torch.nn import functional as F\n"
   ]
  },
  {
   "cell_type": "code",
   "execution_count": 25,
   "id": "environmental-shame",
   "metadata": {},
   "outputs": [],
   "source": [
    "class Inception(nn.Module):\n",
    "    def __init__(self, in_channels, c1,c2,c3,c4,debug=False,**kwargs):\n",
    "        super(Inception, self).__init__(**kwargs)\n",
    "        self.p1_1 = nn.Conv2d(in_channels, c1, kernel_size=1)\n",
    "        self.p2_1 = nn.Conv2d(in_channels, c2[0], kernel_size=1)\n",
    "        self.p2_2 = nn.Conv2d(c2[0], c2[1], kernel_size=3, padding=1)\n",
    "        \n",
    "        self.p3_1 = nn.Conv2d(in_channels, c3[0], kernel_size=1)\n",
    "        self.p3_2 = nn.Conv2d(c3[0], c3[1], kernel_size=5, padding=1)\n",
    "        \n",
    "        self.p4_1 = nn.MaxPool2d(kernel_size=3, stride=1, padding=1)\n",
    "        self.p4_2 = nn.Conv2d(in_channels, c4, kernel_size=1)\n",
    "        \n",
    "        self.debug = debug\n",
    "        \n",
    "    def forward(self, X):\n",
    "        if(self.debug):\n",
    "            p1 = self.p1_1(X)\n",
    "            print(\"p1_Conv: \", p1.shape)\n",
    "            p1 = F.relu(p1)\n",
    "            print(\"p1_relu:\", p1.shape)\n",
    "            \n",
    "            p2 = self.p2_1(X)\n",
    "            print(\"p2_Conv:\", p2.shape)\n",
    "            p2 = F.relu(p2)\n",
    "            print(\"p2_relu:\", p2.shape)\n",
    "            p2 = self.p2_2(p2)\n",
    "            print(\"p2_Conv2:\", p2.shape)\n",
    "            p2 = F.relu(p2)\n",
    "            print(\"p2_relu:\", p2.shape)\n",
    "            \n",
    "            p3 = self.p3_1(X)\n",
    "            print(\"p3_Conv:\", p3.shape)\n",
    "            p3 = F.relu(p3)\n",
    "            print(\"p3 relu:\", p3.shape)\n",
    "            p3 = self.p3_2(p3)\n",
    "            print(\"p3_Conv2:\", p3.shape)\n",
    "            p3 = F.relu(p3)\n",
    "            print(\"p3_relu:\", p3.shape)\n",
    "            \n",
    "            p4 = self.p4_1(X)\n",
    "            print(\"p4_Maxpool:\", p4.shape)\n",
    "            p4 = self.p4_2(p4)\n",
    "            print(\"p4_Conv:\", p4.shape)\n",
    "            p4 = F.relu(p4)\n",
    "            print(\"p4_relu:\", p4.shape)\n",
    "        \n",
    "        else:\n",
    "            p1 = F.relu(self.p2_1(X))\n",
    "            p2 = F.relu(self.p2_2(F.relu(self.p2_1(X))))\n",
    "            p3 = F.relu(self.p3_2(F.relu(self.p3_1(X))))\n",
    "            p4 = F.relu(self.p4_2(self.p4_1(X)))\n",
    "        \n",
    "        return torch.cat((p1,p2,p3,p4), dim=1)\n",
    "        "
   ]
  },
  {
   "cell_type": "code",
   "execution_count": 26,
   "id": "acquired-queens",
   "metadata": {},
   "outputs": [],
   "source": [
    "X = torch.randn(1,1,28,28)\n",
    "\n",
    "def look_in_net(net, X):\n",
    "    out = X\n",
    "    \n",
    "    for layer in net:\n",
    "        out = layer(out)\n",
    "        print(f\"For output layer {out.__class__.__name__} : {out.shape}\")\n",
    "\n"
   ]
  },
  {
   "cell_type": "code",
   "execution_count": 32,
   "id": "right-belize",
   "metadata": {},
   "outputs": [],
   "source": [
    "net = Inception(1, 32, (32,64), (64,32),32,debug=True)\n"
   ]
  },
  {
   "cell_type": "code",
   "execution_count": 33,
   "id": "innocent-seminar",
   "metadata": {},
   "outputs": [
    {
     "name": "stdout",
     "output_type": "stream",
     "text": [
      "p1_Conv:  torch.Size([1, 32, 28, 28])\n",
      "p1_relu: torch.Size([1, 32, 28, 28])\n",
      "p2_Conv: torch.Size([1, 32, 28, 28])\n",
      "p2_relu: torch.Size([1, 32, 28, 28])\n",
      "p2_Conv2: torch.Size([1, 64, 28, 28])\n",
      "p2_relu: torch.Size([1, 64, 28, 28])\n",
      "p3_Conv: torch.Size([1, 64, 28, 28])\n",
      "p3 relu: torch.Size([1, 64, 28, 28])\n",
      "p3_Conv2: torch.Size([1, 32, 26, 26])\n",
      "p3_relu: torch.Size([1, 32, 26, 26])\n",
      "p4_Maxpool: torch.Size([1, 1, 28, 28])\n",
      "p4_Conv: torch.Size([1, 32, 28, 28])\n",
      "p4_relu: torch.Size([1, 32, 28, 28])\n"
     ]
    },
    {
     "ename": "RuntimeError",
     "evalue": "torch.cat(): Sizes of tensors must match except in dimension 1. Got 28 and 26 in dimension 2 (The offending index is 2)",
     "output_type": "error",
     "traceback": [
      "\u001b[1;31m---------------------------------------------------------------------------\u001b[0m",
      "\u001b[1;31mRuntimeError\u001b[0m                              Traceback (most recent call last)",
      "\u001b[1;32m<ipython-input-33-78969eb9b5ba>\u001b[0m in \u001b[0;36m<module>\u001b[1;34m\u001b[0m\n\u001b[1;32m----> 1\u001b[1;33m \u001b[0mnet\u001b[0m\u001b[1;33m(\u001b[0m\u001b[0mX\u001b[0m\u001b[1;33m)\u001b[0m\u001b[1;33m\u001b[0m\u001b[1;33m\u001b[0m\u001b[0m\n\u001b[0m",
      "\u001b[1;32mz:\\installs\\anconda\\envs\\myenv\\lib\\site-packages\\torch\\nn\\modules\\module.py\u001b[0m in \u001b[0;36m_call_impl\u001b[1;34m(self, *input, **kwargs)\u001b[0m\n\u001b[0;32m   1049\u001b[0m         if not (self._backward_hooks or self._forward_hooks or self._forward_pre_hooks or _global_backward_hooks\n\u001b[0;32m   1050\u001b[0m                 or _global_forward_hooks or _global_forward_pre_hooks):\n\u001b[1;32m-> 1051\u001b[1;33m             \u001b[1;32mreturn\u001b[0m \u001b[0mforward_call\u001b[0m\u001b[1;33m(\u001b[0m\u001b[1;33m*\u001b[0m\u001b[0minput\u001b[0m\u001b[1;33m,\u001b[0m \u001b[1;33m**\u001b[0m\u001b[0mkwargs\u001b[0m\u001b[1;33m)\u001b[0m\u001b[1;33m\u001b[0m\u001b[1;33m\u001b[0m\u001b[0m\n\u001b[0m\u001b[0;32m   1052\u001b[0m         \u001b[1;31m# Do not call functions when jit is used\u001b[0m\u001b[1;33m\u001b[0m\u001b[1;33m\u001b[0m\u001b[1;33m\u001b[0m\u001b[0m\n\u001b[0;32m   1053\u001b[0m         \u001b[0mfull_backward_hooks\u001b[0m\u001b[1;33m,\u001b[0m \u001b[0mnon_full_backward_hooks\u001b[0m \u001b[1;33m=\u001b[0m \u001b[1;33m[\u001b[0m\u001b[1;33m]\u001b[0m\u001b[1;33m,\u001b[0m \u001b[1;33m[\u001b[0m\u001b[1;33m]\u001b[0m\u001b[1;33m\u001b[0m\u001b[1;33m\u001b[0m\u001b[0m\n",
      "\u001b[1;32m<ipython-input-25-b32f63046e91>\u001b[0m in \u001b[0;36mforward\u001b[1;34m(self, X)\u001b[0m\n\u001b[0;32m     52\u001b[0m             \u001b[0mp4\u001b[0m \u001b[1;33m=\u001b[0m \u001b[0mF\u001b[0m\u001b[1;33m.\u001b[0m\u001b[0mrelu\u001b[0m\u001b[1;33m(\u001b[0m\u001b[0mself\u001b[0m\u001b[1;33m.\u001b[0m\u001b[0mp4_2\u001b[0m\u001b[1;33m(\u001b[0m\u001b[0mself\u001b[0m\u001b[1;33m.\u001b[0m\u001b[0mp4_1\u001b[0m\u001b[1;33m(\u001b[0m\u001b[0mX\u001b[0m\u001b[1;33m)\u001b[0m\u001b[1;33m)\u001b[0m\u001b[1;33m)\u001b[0m\u001b[1;33m\u001b[0m\u001b[1;33m\u001b[0m\u001b[0m\n\u001b[0;32m     53\u001b[0m \u001b[1;33m\u001b[0m\u001b[0m\n\u001b[1;32m---> 54\u001b[1;33m         \u001b[1;32mreturn\u001b[0m \u001b[0mtorch\u001b[0m\u001b[1;33m.\u001b[0m\u001b[0mcat\u001b[0m\u001b[1;33m(\u001b[0m\u001b[1;33m(\u001b[0m\u001b[0mp1\u001b[0m\u001b[1;33m,\u001b[0m\u001b[0mp2\u001b[0m\u001b[1;33m,\u001b[0m\u001b[0mp3\u001b[0m\u001b[1;33m,\u001b[0m\u001b[0mp4\u001b[0m\u001b[1;33m)\u001b[0m\u001b[1;33m,\u001b[0m \u001b[0mdim\u001b[0m\u001b[1;33m=\u001b[0m\u001b[1;36m1\u001b[0m\u001b[1;33m)\u001b[0m\u001b[1;33m\u001b[0m\u001b[1;33m\u001b[0m\u001b[0m\n\u001b[0m\u001b[0;32m     55\u001b[0m \u001b[1;33m\u001b[0m\u001b[0m\n",
      "\u001b[1;31mRuntimeError\u001b[0m: torch.cat(): Sizes of tensors must match except in dimension 1. Got 28 and 26 in dimension 2 (The offending index is 2)"
     ]
    }
   ],
   "source": [
    "try:\n",
    "    net(X)\n",
    "except Excep"
   ]
  },
  {
   "cell_type": "code",
   "execution_count": null,
   "id": "nominated-antarctica",
   "metadata": {},
   "outputs": [],
   "source": [
    "p1 = torch.randn(1,2)\n",
    "p2 = torch.randn(1,2)\n",
    "p3 = torch.randn(1,2)\n",
    "p4 = torch.randn(1,2)\n",
    "\n",
    "torch.cat((p1,p2,p3,p4), dim=0)"
   ]
  },
  {
   "cell_type": "code",
   "execution_count": null,
   "id": "capital-martin",
   "metadata": {},
   "outputs": [],
   "source": [
    "torch.cat((p1,p2,p3,p4), dim=1)"
   ]
  },
  {
   "cell_type": "code",
   "execution_count": null,
   "id": "brave-healing",
   "metadata": {},
   "outputs": [],
   "source": [
    "b1 = nn.Sequential(nn.Conv2d(1, 64, kernel_size=7, stride=2, padding=3),\n",
    "                   nn.ReLU(), nn.MaxPool2d(kernel_size=3, stride=2, padding=1))"
   ]
  },
  {
   "cell_type": "code",
   "execution_count": null,
   "id": "civilian-impact",
   "metadata": {},
   "outputs": [],
   "source": [
    "b2 = nn.Sequential(nn.Conv2d(64, 64, kernel_size=1),\n",
    "                   nn.ReLU(), \n",
    "                   nn.Conv2d(64, 192, kernel_size=3, padding=1),\n",
    "                   nn.ReLU(), \n",
    "                   nn.MaxPool2d(kernel_size=3, stride=2, padding=1)\n",
    "                   )"
   ]
  },
  {
   "cell_type": "code",
   "execution_count": null,
   "id": "given-photographer",
   "metadata": {},
   "outputs": [],
   "source": [
    "b3 = nn.Sequential(Inception(192, 64, (96,128), (16,32),32),\n",
    "                   Inception(256, 128, (128, 192), (32, 96), 64),\n",
    "                   nn.MaxPool2d(kernel_size=3, stride=2, padding=1))"
   ]
  },
  {
   "cell_type": "code",
   "execution_count": null,
   "id": "weighted-aviation",
   "metadata": {},
   "outputs": [],
   "source": [
    "b4 = nn.Sequential(\n",
    "    Inception(480, 192, (96, 208), (16, 48), 64),\n",
    "    Inception(512, 160, (112, 224), (24, 64), 64),\n",
    "    Inception(512, 128, (128, 256), (24, 64), 64),\n",
    "    Inception(512, 112, (144, 288), (32, 64), 64),\n",
    "    Inception(528, 256, (160, 320), (32, 128), 128),\n",
    "    nn.MaxPool2d(kernel_size=3, stride=2, padding=1))"
   ]
  },
  {
   "cell_type": "code",
   "execution_count": null,
   "id": "innocent-polls",
   "metadata": {},
   "outputs": [],
   "source": [
    "b5 = nn.Sequential(Inception(832, 256, (160, 320), (32, 128), 128),\n",
    "Inception(832, 384, (192, 384), (48, 128), 128),\n",
    "nn.AdaptiveAvgPool2d((1, 1)), nn.Flatten())\n",
    "net = nn.Sequential(b1, b2, b3, b4, b5, nn.Linear(1024, 10))"
   ]
  },
  {
   "cell_type": "code",
   "execution_count": null,
   "id": "outdoor-facial",
   "metadata": {},
   "outputs": [],
   "source": [
    "X = torch.randn((8,1,96,96))\n",
    "\n",
    "look_in_net(net, X)"
   ]
  }
 ],
 "metadata": {
  "kernelspec": {
   "display_name": "Python 3",
   "language": "python",
   "name": "python3"
  },
  "language_info": {
   "codemirror_mode": {
    "name": "ipython",
    "version": 3
   },
   "file_extension": ".py",
   "mimetype": "text/x-python",
   "name": "python",
   "nbconvert_exporter": "python",
   "pygments_lexer": "ipython3",
   "version": "3.9.5"
  }
 },
 "nbformat": 4,
 "nbformat_minor": 5
}
