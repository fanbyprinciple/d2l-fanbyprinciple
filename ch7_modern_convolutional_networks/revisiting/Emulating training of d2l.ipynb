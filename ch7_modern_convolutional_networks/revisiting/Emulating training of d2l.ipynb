{
 "cells": [
  {
   "cell_type": "code",
   "execution_count": 1,
   "id": "basic-lingerie",
   "metadata": {},
   "outputs": [],
   "source": [
    "import torch\n",
    "import torch.nn as nn"
   ]
  },
  {
   "cell_type": "code",
   "execution_count": 44,
   "id": "external-pencil",
   "metadata": {},
   "outputs": [],
   "source": [
    "lenet = nn.Sequential(nn.Conv2d(1,6, kernel_size=5), nn.BatchNorm2d(6), nn.ReLU(), nn.MaxPool2d(kernel_size=2, stride=2),\n",
    "                      nn.Conv2d(6,16, kernel_size=5), nn.BatchNorm2d(16), nn.ReLU(),nn.MaxPool2d(kernel_size=2,stride=2),\n",
    "                      nn.Flatten(), \n",
    "                      nn.Linear(256, 120), nn.BatchNorm1d(120), nn.ReLU(),\n",
    "                      nn.Linear(120,64), nn.BatchNorm1d(64), nn.ReLU(),\n",
    "                      nn.Linear(64,6))"
   ]
  },
  {
   "cell_type": "code",
   "execution_count": 45,
   "id": "sublime-console",
   "metadata": {},
   "outputs": [
    {
     "name": "stdout",
     "output_type": "stream",
     "text": [
      "Conv2d : torch.Size([10, 6, 24, 24])\n",
      "BatchNorm2d : torch.Size([10, 6, 24, 24])\n",
      "ReLU : torch.Size([10, 6, 24, 24])\n",
      "MaxPool2d : torch.Size([10, 6, 12, 12])\n",
      "Conv2d : torch.Size([10, 16, 8, 8])\n",
      "BatchNorm2d : torch.Size([10, 16, 8, 8])\n",
      "ReLU : torch.Size([10, 16, 8, 8])\n",
      "MaxPool2d : torch.Size([10, 16, 4, 4])\n",
      "Flatten : torch.Size([10, 256])\n",
      "Linear : torch.Size([10, 120])\n",
      "BatchNorm1d : torch.Size([10, 120])\n",
      "ReLU : torch.Size([10, 120])\n",
      "Linear : torch.Size([10, 64])\n",
      "BatchNorm1d : torch.Size([10, 64])\n",
      "ReLU : torch.Size([10, 64])\n",
      "Linear : torch.Size([10, 6])\n"
     ]
    }
   ],
   "source": [
    "X = torch.randn(10,1,28,28)\n",
    "def look_in_net(net, X):\n",
    "    out = X\n",
    "    for layer in net:\n",
    "        out = layer(out)\n",
    "        print(f\"{layer.__class__.__name__} : {out.shape}\")\n",
    "\n",
    "look_in_net(lenet, X)"
   ]
  },
  {
   "cell_type": "code",
   "execution_count": 46,
   "id": "foster-fishing",
   "metadata": {},
   "outputs": [],
   "source": [
    "import torchvision\n",
    "\n",
    "my_transforms = torchvision.transforms.Compose(\n",
    "                [\n",
    "                    torchvision.transforms.ToTensor(),\n",
    "                ]\n",
    ")"
   ]
  },
  {
   "cell_type": "code",
   "execution_count": 48,
   "id": "excellent-bouquet",
   "metadata": {},
   "outputs": [],
   "source": [
    "#train_dataset = torchvision.datasets.Cityscapes( root=\"../../data\", transform=my_transforms)\n",
    "#test_dataset = torchvision.datasets.Cityscapes(root=\"../../data\", transform=my_transforms)\n",
    "from torch.utils.data import DataLoader\n",
    "from torchvision import datasets\n",
    "\n",
    "batch_size=64\n",
    "\n",
    "train_dataset = datasets.FashionMNIST(download=False, root=\"../../data\", train=True, transform=my_transforms)\n",
    "test_dataset = datasets.FashionMNIST(download=False, root=\"../../data\", train=False, transform=my_transforms)\n",
    "\n",
    "train_dataloader = DataLoader(train_dataset, batch_size=batch_size, shuffle=True)\n",
    "test_dataloader = DataLoader(test_dataset, batch_size=batch_size, shuffle=True)"
   ]
  },
  {
   "cell_type": "code",
   "execution_count": 49,
   "id": "central-entry",
   "metadata": {},
   "outputs": [
    {
     "name": "stdout",
     "output_type": "stream",
     "text": [
      "torch.Size([64, 1, 28, 28]) 64\n"
     ]
    }
   ],
   "source": [
    "for X,y in train_dataloader:\n",
    "    print(X.shape, len(y))\n",
    "    break"
   ]
  },
  {
   "cell_type": "code",
   "execution_count": 50,
   "id": "subsequent-carol",
   "metadata": {},
   "outputs": [],
   "source": [
    "net = lenet\n",
    "loss_criterion = nn.CrossEntropyLoss()\n",
    "optimizer = torch.optim.SGD(net.parameters(), lr = 0.1)"
   ]
  },
  {
   "cell_type": "code",
   "execution_count": 51,
   "id": "changed-gasoline",
   "metadata": {},
   "outputs": [],
   "source": [
    "num_epochs = 10\n",
    "\n",
    "def accuracy(y_hat, y):\n",
    "    print(torch.argmax(y_hat, dim=1))\n",
    "    \n",
    "    return (torch.argmax(y_hat, dim=1)==y).sum().float().mean()"
   ]
  },
  {
   "cell_type": "code",
   "execution_count": 52,
   "id": "roman-dancing",
   "metadata": {},
   "outputs": [],
   "source": [
    "device = torch.device('cuda' if torch.cuda.is_available() else 'cpu')"
   ]
  },
  {
   "cell_type": "code",
   "execution_count": 54,
   "id": "august-hanging",
   "metadata": {},
   "outputs": [
    {
     "ename": "TypeError",
     "evalue": "'int' object is not iterable",
     "output_type": "error",
     "traceback": [
      "\u001b[1;31m---------------------------------------------------------------------------\u001b[0m",
      "\u001b[1;31mTypeError\u001b[0m                                 Traceback (most recent call last)",
      "\u001b[1;32m<ipython-input-54-55042a9781a7>\u001b[0m in \u001b[0;36m<module>\u001b[1;34m\u001b[0m\n\u001b[0;32m      1\u001b[0m \u001b[0mnet\u001b[0m \u001b[1;33m=\u001b[0m \u001b[0mnet\u001b[0m\u001b[1;33m.\u001b[0m\u001b[0mto\u001b[0m\u001b[1;33m(\u001b[0m\u001b[0mdevice\u001b[0m\u001b[1;33m)\u001b[0m\u001b[1;33m\u001b[0m\u001b[1;33m\u001b[0m\u001b[0m\n\u001b[1;32m----> 2\u001b[1;33m \u001b[1;32mfor\u001b[0m \u001b[0mepoch\u001b[0m \u001b[1;32min\u001b[0m \u001b[0mnum_epochs\u001b[0m\u001b[1;33m:\u001b[0m\u001b[1;33m\u001b[0m\u001b[1;33m\u001b[0m\u001b[0m\n\u001b[0m\u001b[0;32m      3\u001b[0m     \u001b[1;32mfor\u001b[0m \u001b[0mX\u001b[0m\u001b[1;33m,\u001b[0m \u001b[0my\u001b[0m \u001b[1;32min\u001b[0m \u001b[0mtrain_dataloaders\u001b[0m\u001b[1;33m:\u001b[0m\u001b[1;33m\u001b[0m\u001b[1;33m\u001b[0m\u001b[0m\n\u001b[0;32m      4\u001b[0m         \u001b[0mX\u001b[0m \u001b[1;33m=\u001b[0m \u001b[0mX\u001b[0m\u001b[1;33m.\u001b[0m\u001b[0mto\u001b[0m\u001b[1;33m(\u001b[0m\u001b[0mdevice\u001b[0m\u001b[1;33m)\u001b[0m\u001b[1;33m\u001b[0m\u001b[1;33m\u001b[0m\u001b[0m\n\u001b[0;32m      5\u001b[0m         \u001b[0my\u001b[0m \u001b[1;33m=\u001b[0m \u001b[0my\u001b[0m\u001b[1;33m.\u001b[0m\u001b[0mto\u001b[0m\u001b[1;33m(\u001b[0m\u001b[0mdevice\u001b[0m\u001b[1;33m)\u001b[0m\u001b[1;33m\u001b[0m\u001b[1;33m\u001b[0m\u001b[0m\n",
      "\u001b[1;31mTypeError\u001b[0m: 'int' object is not iterable"
     ]
    }
   ],
   "source": [
    "net = net.to(device)\n",
    "for epoch in num_epochs:\n",
    "    for X, y in train_dataloaders:\n",
    "        X = X.to(device)\n",
    "        y = y.to(device)\n",
    "        \n",
    "        y_hat = net(X)\n",
    "        \n",
    "        loss = loss_criterion(y_hat,y)\n",
    "        \n",
    "        current_acc = accuracy(y_hat, y)\n",
    "        \n",
    "        print(current_acc)\n",
    "        optimizer.zero_grad()\n",
    "        \n",
    "        loss.backward()\n",
    "        \n",
    "        optimizer.step()"
   ]
  }
 ],
 "metadata": {
  "kernelspec": {
   "display_name": "Python 3",
   "language": "python",
   "name": "python3"
  },
  "language_info": {
   "codemirror_mode": {
    "name": "ipython",
    "version": 3
   },
   "file_extension": ".py",
   "mimetype": "text/x-python",
   "name": "python",
   "nbconvert_exporter": "python",
   "pygments_lexer": "ipython3",
   "version": "3.9.5"
  }
 },
 "nbformat": 4,
 "nbformat_minor": 5
}
