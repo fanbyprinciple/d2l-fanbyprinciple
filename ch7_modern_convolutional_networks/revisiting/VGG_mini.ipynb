{
 "cells": [
  {
   "cell_type": "code",
   "execution_count": 1,
   "id": "packed-effectiveness",
   "metadata": {},
   "outputs": [],
   "source": [
    "import torch\n",
    "from torch import nn"
   ]
  },
  {
   "cell_type": "code",
   "execution_count": 14,
   "id": "consistent-colors",
   "metadata": {},
   "outputs": [],
   "source": [
    "def vgg_block(num_convs, in_channels, out_channels):\n",
    "    layers = []\n",
    "    for _ in range(num_convs):\n",
    "        layers.append(\n",
    "            nn.Conv2d(in_channels, out_channels, kernel_size=3,padding=1)\n",
    "        )\n",
    "        layers.append(nn.ReLU())\n",
    "        in_channels=out_channels\n",
    "    layers.append(nn.MaxPool2d(kernel_size=2, stride=2))\n",
    "    return nn.Sequential(*layers)"
   ]
  },
  {
   "cell_type": "code",
   "execution_count": 2,
   "id": "human-disabled",
   "metadata": {},
   "outputs": [],
   "source": [
    "conv_arch = ((1,64), (1,128), (2,256), (2,512), (2,512))"
   ]
  },
  {
   "cell_type": "code",
   "execution_count": 4,
   "id": "inside-smart",
   "metadata": {},
   "outputs": [],
   "source": [
    "def vgg(conv_arch):\n",
    "    conv_blocks =[]\n",
    "    in_channels=1\n",
    "    \n",
    "    for (num_convs, out_channels) in conv_arch:\n",
    "        conv_blocks.append(vgg_block(num_convs, in_channels, out_channels))\n",
    "        in_channels = out_channels\n",
    "    \n",
    "    return nn.Sequential(\n",
    "        *conv_blocks,nn.Flatten(),\n",
    "        nn.Linear(out_channels * 7 * 7, 4096), nn.ReLU(), nn.Dropout(p=0.5),\n",
    "        nn.Linear(4096, 4096), nn.ReLU(), nn.Dropout(p=0.5),\n",
    "        nn.Linear(4096, 10)\n",
    "    )"
   ]
  },
  {
   "cell_type": "code",
   "execution_count": 36,
   "id": "described-rocket",
   "metadata": {},
   "outputs": [],
   "source": [
    "vggnet = vgg(conv_arch)"
   ]
  },
  {
   "cell_type": "code",
   "execution_count": 24,
   "id": "registered-inventory",
   "metadata": {},
   "outputs": [],
   "source": [
    "\n",
    "\n",
    "def look_in_net(net, X):\n",
    "    out = X\n",
    "    \n",
    "    for layer in net:\n",
    "        out = layer(out)\n",
    "        \n",
    "        print(f\"For Class name : {layer.__class__.__name__} shape: {out.shape}\")"
   ]
  },
  {
   "cell_type": "code",
   "execution_count": 44,
   "id": "grateful-danger",
   "metadata": {},
   "outputs": [],
   "source": [
    "X = torch.randn(10, 1,224,224)"
   ]
  },
  {
   "cell_type": "code",
   "execution_count": 46,
   "id": "premium-curve",
   "metadata": {},
   "outputs": [
    {
     "name": "stdout",
     "output_type": "stream",
     "text": [
      "For Class name : Sequential shape: torch.Size([10, 64, 112, 112])\n",
      "For Class name : Sequential shape: torch.Size([10, 128, 56, 56])\n",
      "For Class name : Sequential shape: torch.Size([10, 256, 28, 28])\n",
      "For Class name : Sequential shape: torch.Size([10, 512, 14, 14])\n",
      "For Class name : Sequential shape: torch.Size([10, 512, 7, 7])\n",
      "For Class name : Flatten shape: torch.Size([10, 25088])\n",
      "For Class name : Linear shape: torch.Size([10, 4096])\n",
      "For Class name : ReLU shape: torch.Size([10, 4096])\n",
      "For Class name : Dropout shape: torch.Size([10, 4096])\n",
      "For Class name : Linear shape: torch.Size([10, 4096])\n",
      "For Class name : ReLU shape: torch.Size([10, 4096])\n",
      "For Class name : Dropout shape: torch.Size([10, 4096])\n",
      "For Class name : Linear shape: torch.Size([10, 10])\n"
     ]
    }
   ],
   "source": [
    "look_in_net(vggnet.cpu(), X)"
   ]
  },
  {
   "cell_type": "code",
   "execution_count": 40,
   "id": "extensive-russell",
   "metadata": {},
   "outputs": [],
   "source": [
    "device = torch.device('cuda')"
   ]
  },
  {
   "cell_type": "code",
   "execution_count": 31,
   "id": "revised-provision",
   "metadata": {},
   "outputs": [],
   "source": [
    "from torchsummary import summary"
   ]
  },
  {
   "cell_type": "code",
   "execution_count": 41,
   "id": "broke-chick",
   "metadata": {},
   "outputs": [
    {
     "name": "stdout",
     "output_type": "stream",
     "text": [
      "----------------------------------------------------------------\n",
      "        Layer (type)               Output Shape         Param #\n",
      "================================================================\n",
      "            Conv2d-1         [-1, 64, 224, 224]             640\n",
      "              ReLU-2         [-1, 64, 224, 224]               0\n",
      "         MaxPool2d-3         [-1, 64, 112, 112]               0\n",
      "            Conv2d-4        [-1, 128, 112, 112]          73,856\n",
      "              ReLU-5        [-1, 128, 112, 112]               0\n",
      "         MaxPool2d-6          [-1, 128, 56, 56]               0\n",
      "            Conv2d-7          [-1, 256, 56, 56]         295,168\n",
      "              ReLU-8          [-1, 256, 56, 56]               0\n",
      "            Conv2d-9          [-1, 256, 56, 56]         590,080\n",
      "             ReLU-10          [-1, 256, 56, 56]               0\n",
      "        MaxPool2d-11          [-1, 256, 28, 28]               0\n",
      "           Conv2d-12          [-1, 512, 28, 28]       1,180,160\n",
      "             ReLU-13          [-1, 512, 28, 28]               0\n",
      "           Conv2d-14          [-1, 512, 28, 28]       2,359,808\n",
      "             ReLU-15          [-1, 512, 28, 28]               0\n",
      "        MaxPool2d-16          [-1, 512, 14, 14]               0\n",
      "           Conv2d-17          [-1, 512, 14, 14]       2,359,808\n",
      "             ReLU-18          [-1, 512, 14, 14]               0\n",
      "           Conv2d-19          [-1, 512, 14, 14]       2,359,808\n",
      "             ReLU-20          [-1, 512, 14, 14]               0\n",
      "        MaxPool2d-21            [-1, 512, 7, 7]               0\n",
      "          Flatten-22                [-1, 25088]               0\n",
      "           Linear-23                 [-1, 4096]     102,764,544\n",
      "             ReLU-24                 [-1, 4096]               0\n",
      "          Dropout-25                 [-1, 4096]               0\n",
      "           Linear-26                 [-1, 4096]      16,781,312\n",
      "             ReLU-27                 [-1, 4096]               0\n",
      "          Dropout-28                 [-1, 4096]               0\n",
      "           Linear-29                   [-1, 10]          40,970\n",
      "================================================================\n",
      "Total params: 128,806,154\n",
      "Trainable params: 128,806,154\n",
      "Non-trainable params: 0\n",
      "----------------------------------------------------------------\n",
      "Input size (MB): 0.19\n",
      "Forward/backward pass size (MB): 125.37\n",
      "Params size (MB): 491.36\n",
      "Estimated Total Size (MB): 616.92\n",
      "----------------------------------------------------------------\n"
     ]
    }
   ],
   "source": [
    "vggnet_check = vggnet.to(device)\n",
    "summary(vggnet_check, (1,224,224))"
   ]
  },
  {
   "cell_type": "code",
   "execution_count": 30,
   "id": "acquired-warrior",
   "metadata": {},
   "outputs": [
    {
     "data": {
      "text/plain": [
       "[(1, 4), (1, 8), (2, 16), (2, 32), (2, 32)]"
      ]
     },
     "execution_count": 30,
     "metadata": {},
     "output_type": "execute_result"
    }
   ],
   "source": [
    "ratio = 16\n",
    "\n",
    "small_conv_arch = [(pair[0], pair[1] // ratio) for pair in conv_arch]\n",
    "small_conv_arch"
   ]
  },
  {
   "cell_type": "code",
   "execution_count": 32,
   "id": "worldwide-television",
   "metadata": {},
   "outputs": [],
   "source": [
    "batch_size = 64\n",
    "\n",
    "import torchvision.transforms as transforms\n",
    "from torch.utils.data import DataLoader\n",
    "import torchvision.datasets as datasets\n",
    "\n",
    "my_transforms = transforms.Compose(\n",
    "                [\n",
    "                 transforms.Resize(224),\n",
    "                 transforms.ToTensor()\n",
    "                ]\n",
    ")\n",
    "\n",
    "train_dataset = datasets.FashionMNIST(download=False, root=\"../../data\", train=True, transform=my_transforms)\n",
    "test_dataset = datasets.FashionMNIST(download=False, root=\"../../data\", train=False, transform=my_transforms)\n",
    "\n",
    "train_dataloader = DataLoader(train_dataset, batch_size=batch_size, shuffle=True)\n",
    "test_dataloader = DataLoader(test_dataset, batch_size=batch_size, shuffle=True)"
   ]
  },
  {
   "cell_type": "code",
   "execution_count": 68,
   "id": "rapid-watts",
   "metadata": {},
   "outputs": [],
   "source": [
    "acc_arr = []\n",
    "\n",
    "def train_net(net, num_epochs=3,lr=0.05):\n",
    "    net = net\n",
    "    criterion = nn.CrossEntropyLoss()\n",
    "    optimizer = torch.optim.SGD(net.parameters(), lr=lr)\n",
    "    num_epochs = num_epochs\n",
    "    \n",
    "    acc_arr = []\n",
    "\n",
    "    for epoch in range(num_epochs):\n",
    "        acc_val = 0\n",
    "        number = 0\n",
    "        for X, y in train_dataloader:\n",
    "            X = X.to(device)\n",
    "            y = y.to(device)\n",
    "            pred = ultra_small_net(X)\n",
    "            l = criterion(pred, y)\n",
    "\n",
    "            acc_val += accuracy(pred,y)\n",
    "            number += len(y)\n",
    "\n",
    "            optimizer.zero_grad()\n",
    "\n",
    "            l.backward()\n",
    "\n",
    "            optimizer.step()\n",
    "\n",
    "        acc_arr.append(acc_val.detach().cpu()/number)\n",
    "        print(f\"Epoch {epoch} accuracy : {acc_arr[-1]}\")\n",
    "    "
   ]
  },
  {
   "cell_type": "code",
   "execution_count": 33,
   "id": "robust-forward",
   "metadata": {},
   "outputs": [],
   "source": [
    "net = net\n",
    "criterion = nn.CrossEntropyLoss()\n",
    "optimizer = torch.optim.SGD(net.parameters(), lr=0.1)\n",
    "num_epochs = 3"
   ]
  },
  {
   "cell_type": "code",
   "execution_count": 47,
   "id": "adjusted-inspection",
   "metadata": {},
   "outputs": [],
   "source": [
    "def accuracy(y_hat, y):\n",
    "    return (torch.argmax(y_hat, dim=1)==y).sum().float().mean()"
   ]
  },
  {
   "cell_type": "code",
   "execution_count": 51,
   "id": "simple-senate",
   "metadata": {},
   "outputs": [],
   "source": [
    "ultra_small_net =vgg(small_conv_arch)"
   ]
  },
  {
   "cell_type": "code",
   "execution_count": 52,
   "id": "latin-little",
   "metadata": {},
   "outputs": [],
   "source": [
    "ultra_small_net = ultra_small_net.to(device)"
   ]
  },
  {
   "cell_type": "code",
   "execution_count": 53,
   "id": "monetary-perry",
   "metadata": {},
   "outputs": [
    {
     "name": "stdout",
     "output_type": "stream",
     "text": [
      "----------------------------------------------------------------\n",
      "        Layer (type)               Output Shape         Param #\n",
      "================================================================\n",
      "            Conv2d-1          [-1, 4, 224, 224]              40\n",
      "              ReLU-2          [-1, 4, 224, 224]               0\n",
      "         MaxPool2d-3          [-1, 4, 112, 112]               0\n",
      "            Conv2d-4          [-1, 8, 112, 112]             296\n",
      "              ReLU-5          [-1, 8, 112, 112]               0\n",
      "         MaxPool2d-6            [-1, 8, 56, 56]               0\n",
      "            Conv2d-7           [-1, 16, 56, 56]           1,168\n",
      "              ReLU-8           [-1, 16, 56, 56]               0\n",
      "            Conv2d-9           [-1, 16, 56, 56]           2,320\n",
      "             ReLU-10           [-1, 16, 56, 56]               0\n",
      "        MaxPool2d-11           [-1, 16, 28, 28]               0\n",
      "           Conv2d-12           [-1, 32, 28, 28]           4,640\n",
      "             ReLU-13           [-1, 32, 28, 28]               0\n",
      "           Conv2d-14           [-1, 32, 28, 28]           9,248\n",
      "             ReLU-15           [-1, 32, 28, 28]               0\n",
      "        MaxPool2d-16           [-1, 32, 14, 14]               0\n",
      "           Conv2d-17           [-1, 32, 14, 14]           9,248\n",
      "             ReLU-18           [-1, 32, 14, 14]               0\n",
      "           Conv2d-19           [-1, 32, 14, 14]           9,248\n",
      "             ReLU-20           [-1, 32, 14, 14]               0\n",
      "        MaxPool2d-21             [-1, 32, 7, 7]               0\n",
      "          Flatten-22                 [-1, 1568]               0\n",
      "           Linear-23                 [-1, 4096]       6,426,624\n",
      "             ReLU-24                 [-1, 4096]               0\n",
      "          Dropout-25                 [-1, 4096]               0\n",
      "           Linear-26                 [-1, 4096]      16,781,312\n",
      "             ReLU-27                 [-1, 4096]               0\n",
      "          Dropout-28                 [-1, 4096]               0\n",
      "           Linear-29                   [-1, 10]          40,970\n",
      "================================================================\n",
      "Total params: 23,285,114\n",
      "Trainable params: 23,285,114\n",
      "Non-trainable params: 0\n",
      "----------------------------------------------------------------\n",
      "Input size (MB): 0.19\n",
      "Forward/backward pass size (MB): 8.01\n",
      "Params size (MB): 88.83\n",
      "Estimated Total Size (MB): 97.03\n",
      "----------------------------------------------------------------\n"
     ]
    }
   ],
   "source": [
    "summary(ultra_small_net, (1,224,224))"
   ]
  },
  {
   "cell_type": "code",
   "execution_count": 54,
   "id": "disciplinary-macro",
   "metadata": {},
   "outputs": [
    {
     "name": "stdout",
     "output_type": "stream",
     "text": [
      "Epoch 0 accuracy : 0.10298333317041397\n",
      "Epoch 1 accuracy : 0.09910000115633011\n",
      "Epoch 2 accuracy : 0.09958333522081375\n",
      "Wall time: 5min 16s\n"
     ]
    }
   ],
   "source": [
    "%%time\n",
    "acc_arr = []\n",
    "\n",
    "\n",
    "for epoch in range(num_epochs):\n",
    "    acc_val = 0\n",
    "    number = 0\n",
    "    for X, y in train_dataloader:\n",
    "        X = X.to(device)\n",
    "        y = y.to(device)\n",
    "        pred = ultra_small_net(X)\n",
    "        l = criterion(pred, y)\n",
    "        \n",
    "        acc_val += accuracy(pred,y)\n",
    "        number += len(y)\n",
    "        \n",
    "        optimizer.zero_grad()\n",
    "        \n",
    "        l.backward()\n",
    "        \n",
    "        optimizer.step()\n",
    "    \n",
    "        \n",
    "    acc_arr.append(acc_val.detach().cpu()/number)\n",
    "    print(f\"Epoch {epoch} accuracy : {acc_arr[-1]}\")"
   ]
  },
  {
   "cell_type": "code",
   "execution_count": 56,
   "id": "labeled-cancellation",
   "metadata": {},
   "outputs": [
    {
     "data": {
      "image/png": "[encoded data removed]",
      "text/plain": [
       "<Figure size 432x288 with 1 Axes>"
      ]
     },
     "metadata": {
      "needs_background": "light"
     },
     "output_type": "display_data"
    }
   ],
   "source": [
    "import matplotlib.pyplot as plt\n",
    "plt.plot(range(num_epochs), acc_arr)\n",
    "plt.show()"
   ]
  },
  {
   "cell_type": "code",
   "execution_count": 57,
   "id": "baking-dublin",
   "metadata": {},
   "outputs": [
    {
     "data": {
      "text/plain": [
       "tensor(0.0996)"
      ]
     },
     "execution_count": 57,
     "metadata": {},
     "output_type": "execute_result"
    }
   ],
   "source": [
    "acc_arr[-1]"
   ]
  },
  {
   "cell_type": "code",
   "execution_count": 60,
   "id": "simple-backing",
   "metadata": {},
   "outputs": [
    {
     "data": {
      "text/plain": [
       "[(1, 16), (1, 32), (2, 64), (2, 128), (2, 128)]"
      ]
     },
     "execution_count": 60,
     "metadata": {},
     "output_type": "execute_result"
    }
   ],
   "source": [
    "ratio = 4\n",
    "\n",
    "small_conv_arch = [(pair[0], pair[1] // ratio) for pair in conv_arch]\n",
    "small_conv_arch"
   ]
  },
  {
   "cell_type": "code",
   "execution_count": 61,
   "id": "egyptian-threat",
   "metadata": {},
   "outputs": [],
   "source": [
    "VGG_mini = vgg(small_conv_arch)"
   ]
  },
  {
   "cell_type": "code",
   "execution_count": 62,
   "id": "sound-barrel",
   "metadata": {},
   "outputs": [
    {
     "name": "stdout",
     "output_type": "stream",
     "text": [
      "----------------------------------------------------------------\n",
      "        Layer (type)               Output Shape         Param #\n",
      "================================================================\n",
      "            Conv2d-1         [-1, 16, 224, 224]             160\n",
      "              ReLU-2         [-1, 16, 224, 224]               0\n",
      "         MaxPool2d-3         [-1, 16, 112, 112]               0\n",
      "            Conv2d-4         [-1, 32, 112, 112]           4,640\n",
      "              ReLU-5         [-1, 32, 112, 112]               0\n",
      "         MaxPool2d-6           [-1, 32, 56, 56]               0\n",
      "            Conv2d-7           [-1, 64, 56, 56]          18,496\n",
      "              ReLU-8           [-1, 64, 56, 56]               0\n",
      "            Conv2d-9           [-1, 64, 56, 56]          36,928\n",
      "             ReLU-10           [-1, 64, 56, 56]               0\n",
      "        MaxPool2d-11           [-1, 64, 28, 28]               0\n",
      "           Conv2d-12          [-1, 128, 28, 28]          73,856\n",
      "             ReLU-13          [-1, 128, 28, 28]               0\n",
      "           Conv2d-14          [-1, 128, 28, 28]         147,584\n",
      "             ReLU-15          [-1, 128, 28, 28]               0\n",
      "        MaxPool2d-16          [-1, 128, 14, 14]               0\n",
      "           Conv2d-17          [-1, 128, 14, 14]         147,584\n",
      "             ReLU-18          [-1, 128, 14, 14]               0\n",
      "           Conv2d-19          [-1, 128, 14, 14]         147,584\n",
      "             ReLU-20          [-1, 128, 14, 14]               0\n",
      "        MaxPool2d-21            [-1, 128, 7, 7]               0\n",
      "          Flatten-22                 [-1, 6272]               0\n",
      "           Linear-23                 [-1, 4096]      25,694,208\n",
      "             ReLU-24                 [-1, 4096]               0\n",
      "          Dropout-25                 [-1, 4096]               0\n",
      "           Linear-26                 [-1, 4096]      16,781,312\n",
      "             ReLU-27                 [-1, 4096]               0\n",
      "          Dropout-28                 [-1, 4096]               0\n",
      "           Linear-29                   [-1, 10]          40,970\n",
      "================================================================\n",
      "Total params: 43,093,322\n",
      "Trainable params: 43,093,322\n",
      "Non-trainable params: 0\n",
      "----------------------------------------------------------------\n",
      "Input size (MB): 0.19\n",
      "Forward/backward pass size (MB): 31.48\n",
      "Params size (MB): 164.39\n",
      "Estimated Total Size (MB): 196.06\n",
      "----------------------------------------------------------------\n"
     ]
    }
   ],
   "source": [
    "summary(VGG_mini.to(device),(1,224,224))"
   ]
  },
  {
   "cell_type": "code",
   "execution_count": 64,
   "id": "genetic-discharge",
   "metadata": {},
   "outputs": [],
   "source": [
    "def vgg_mini(conv_arch):\n",
    "    conv_blocks =[]\n",
    "    in_channels=1\n",
    "    \n",
    "    for (num_convs, out_channels) in conv_arch:\n",
    "        conv_blocks.append(vgg_block(num_convs, in_channels, out_channels))\n",
    "        in_channels = out_channels\n",
    "    \n",
    "    return nn.Sequential(\n",
    "        *conv_blocks,nn.Flatten(),\n",
    "        nn.Linear(out_channels * 7 * 7, 512), nn.ReLU(), nn.Dropout(p=0.5),\n",
    "        nn.Linear(512, 10)\n",
    "    )"
   ]
  },
  {
   "cell_type": "code",
   "execution_count": 65,
   "id": "sensitive-democrat",
   "metadata": {},
   "outputs": [],
   "source": [
    "VGG_mini = vgg_mini(small_conv_arch)"
   ]
  },
  {
   "cell_type": "code",
   "execution_count": 66,
   "id": "educational-prediction",
   "metadata": {},
   "outputs": [
    {
     "name": "stdout",
     "output_type": "stream",
     "text": [
      "----------------------------------------------------------------\n",
      "        Layer (type)               Output Shape         Param #\n",
      "================================================================\n",
      "            Conv2d-1         [-1, 16, 224, 224]             160\n",
      "              ReLU-2         [-1, 16, 224, 224]               0\n",
      "         MaxPool2d-3         [-1, 16, 112, 112]               0\n",
      "            Conv2d-4         [-1, 32, 112, 112]           4,640\n",
      "              ReLU-5         [-1, 32, 112, 112]               0\n",
      "         MaxPool2d-6           [-1, 32, 56, 56]               0\n",
      "            Conv2d-7           [-1, 64, 56, 56]          18,496\n",
      "              ReLU-8           [-1, 64, 56, 56]               0\n",
      "            Conv2d-9           [-1, 64, 56, 56]          36,928\n",
      "             ReLU-10           [-1, 64, 56, 56]               0\n",
      "        MaxPool2d-11           [-1, 64, 28, 28]               0\n",
      "           Conv2d-12          [-1, 128, 28, 28]          73,856\n",
      "             ReLU-13          [-1, 128, 28, 28]               0\n",
      "           Conv2d-14          [-1, 128, 28, 28]         147,584\n",
      "             ReLU-15          [-1, 128, 28, 28]               0\n",
      "        MaxPool2d-16          [-1, 128, 14, 14]               0\n",
      "           Conv2d-17          [-1, 128, 14, 14]         147,584\n",
      "             ReLU-18          [-1, 128, 14, 14]               0\n",
      "           Conv2d-19          [-1, 128, 14, 14]         147,584\n",
      "             ReLU-20          [-1, 128, 14, 14]               0\n",
      "        MaxPool2d-21            [-1, 128, 7, 7]               0\n",
      "          Flatten-22                 [-1, 6272]               0\n",
      "           Linear-23                  [-1, 512]       3,211,776\n",
      "             ReLU-24                  [-1, 512]               0\n",
      "          Dropout-25                  [-1, 512]               0\n",
      "           Linear-26                   [-1, 10]           5,130\n",
      "================================================================\n",
      "Total params: 3,793,738\n",
      "Trainable params: 3,793,738\n",
      "Non-trainable params: 0\n",
      "----------------------------------------------------------------\n",
      "Input size (MB): 0.19\n",
      "Forward/backward pass size (MB): 31.31\n",
      "Params size (MB): 14.47\n",
      "Estimated Total Size (MB): 45.97\n",
      "----------------------------------------------------------------\n"
     ]
    }
   ],
   "source": [
    "summary(VGG_mini.to(device), (1,224,224))"
   ]
  },
  {
   "cell_type": "code",
   "execution_count": 67,
   "id": "banned-contents",
   "metadata": {},
   "outputs": [
    {
     "name": "stdout",
     "output_type": "stream",
     "text": [
      "For Class name : Sequential shape: torch.Size([32, 16, 112, 112])\n",
      "For Class name : Sequential shape: torch.Size([32, 32, 56, 56])\n",
      "For Class name : Sequential shape: torch.Size([32, 64, 28, 28])\n",
      "For Class name : Sequential shape: torch.Size([32, 128, 14, 14])\n",
      "For Class name : Sequential shape: torch.Size([32, 128, 7, 7])\n",
      "For Class name : Flatten shape: torch.Size([32, 6272])\n",
      "For Class name : Linear shape: torch.Size([32, 512])\n",
      "For Class name : ReLU shape: torch.Size([32, 512])\n",
      "For Class name : Dropout shape: torch.Size([32, 512])\n",
      "For Class name : Linear shape: torch.Size([32, 10])\n"
     ]
    }
   ],
   "source": [
    "look_in_net(VGG_mini, X)"
   ]
  },
  {
   "cell_type": "code",
   "execution_count": 70,
   "id": "ordered-asthma",
   "metadata": {},
   "outputs": [
    {
     "name": "stdout",
     "output_type": "stream",
     "text": [
      "Epoch 0 accuracy : 0.0992666631937027\n",
      "Epoch 1 accuracy : 0.09960000216960907\n",
      "Epoch 2 accuracy : 0.09996666759252548\n",
      "Wall time: 5min 19s\n"
     ]
    }
   ],
   "source": [
    "%%time\n",
    "train_net(VGG_mini, num_epochs=3, lr=0.005)"
   ]
  },
  {
   "cell_type": "code",
   "execution_count": 72,
   "id": "logical-yield",
   "metadata": {},
   "outputs": [
    {
     "data": {
      "text/plain": [
       "[]"
      ]
     },
     "execution_count": 72,
     "metadata": {},
     "output_type": "execute_result"
    }
   ],
   "source": [
    "acc_arr"
   ]
  },
  {
   "cell_type": "code",
   "execution_count": 74,
   "id": "conscious-trail",
   "metadata": {},
   "outputs": [],
   "source": [
    "plt.plot(range(num_epochs), acc_arr)\n",
    "plt.imshow()"
   ]
  },
  {
   "cell_type": "code",
   "execution_count": 75,
   "id": "running-knowing",
   "metadata": {},
   "outputs": [],
   "source": [
    "vgg_mini = vgg(small_conv_arch)"
   ]
  },
  {
   "cell_type": "code",
   "execution_count": 76,
   "id": "advanced-detective",
   "metadata": {},
   "outputs": [
    {
     "name": "stdout",
     "output_type": "stream",
     "text": [
      "Epoch 0 accuracy : 0.0966000035405159\n",
      "Epoch 1 accuracy : 0.09961666911840439\n",
      "Epoch 2 accuracy : 0.10091666877269745\n",
      "Wall time: 5min 11s\n"
     ]
    }
   ],
   "source": [
    "%%time\n",
    "\n",
    "train_net(vgg_mini, num_epochs=3)"
   ]
  },
  {
   "cell_type": "code",
   "execution_count": 78,
   "id": "compressed-ocean",
   "metadata": {},
   "outputs": [],
   "source": [
    "# print(acc_arr[-1])\n",
    "# plt.plot(range(num_epochs), acc_arr)\n",
    "# plt.imshow()"
   ]
  }
 ],
 "metadata": {
  "kernelspec": {
   "display_name": "Python 3",
   "language": "python",
   "name": "python3"
  },
  "language_info": {
   "codemirror_mode": {
    "name": "ipython",
    "version": 3
   },
   "file_extension": ".py",
   "mimetype": "text/x-python",
   "name": "python",
   "nbconvert_exporter": "python",
   "pygments_lexer": "ipython3",
   "version": "3.9.5"
  }
 },
 "nbformat": 4,
 "nbformat_minor": 5
}
