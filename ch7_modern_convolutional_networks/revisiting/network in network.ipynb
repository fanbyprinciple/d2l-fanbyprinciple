{
 "cells": [
  {
   "cell_type": "code",
   "execution_count": 17,
   "id": "electoral-berlin",
   "metadata": {},
   "outputs": [],
   "source": [
    "import torch\n",
    "import torch.nn as nn"
   ]
  },
  {
   "cell_type": "code",
   "execution_count": 18,
   "id": "balanced-license",
   "metadata": {},
   "outputs": [],
   "source": [
    "def nin_block(in_channels, out_channels, kernel_size, strides, padding):\n",
    "    return nn.Sequential(\n",
    "        nn.Conv2d(in_channels, out_channels, kernel_size, strides, padding),\n",
    "        nn.ReLU(), nn.Conv2d(out_channels, out_channels, kernel_size=1),\n",
    "        nn.ReLU(), nn.Conv2d(out_channels, out_channels, kernel_size=1),\n",
    "        nn.ReLU()\n",
    "    )"
   ]
  },
  {
   "cell_type": "code",
   "execution_count": 19,
   "id": "animated-observer",
   "metadata": {},
   "outputs": [],
   "source": [
    "net = nn.Sequential(\n",
    "    nin_block(1, 96, kernel_size=11, strides=4, padding=0),\n",
    "    nn.MaxPool2d(3, stride=2),\n",
    "    nin_block(96, 256, kernel_size=5, strides=1, padding=2),\n",
    "    nn.MaxPool2d(3, stride=2),\n",
    "    nin_block(256, 384, kernel_size=3, strides=1, padding=1),\n",
    "    nn.MaxPool2d(3,stride=2), nn.Dropout(0.5),\n",
    "    nin_block(384, 10, kernel_size=3, strides=1, padding=1),\n",
    "    nn.AdaptiveAvgPool2d((1,1)),\n",
    "    nn.Flatten()\n",
    ")"
   ]
  },
  {
   "cell_type": "code",
   "execution_count": 20,
   "id": "specialized-destiny",
   "metadata": {},
   "outputs": [],
   "source": [
    "X = torch.randn(1,1,224,224)"
   ]
  },
  {
   "cell_type": "code",
   "execution_count": 23,
   "id": "secondary-memorial",
   "metadata": {},
   "outputs": [],
   "source": [
    "def look_in_net(net, X):\n",
    "    out = X\n",
    "    \n",
    "    for layer in net:\n",
    "        out = layer(out)\n",
    "        print(f\"For layer {layer.__class__.__name__} : {out.shape}\")"
   ]
  },
  {
   "cell_type": "code",
   "execution_count": 24,
   "id": "fatty-merit",
   "metadata": {},
   "outputs": [
    {
     "name": "stdout",
     "output_type": "stream",
     "text": [
      "For layer Sequential : torch.Size([1, 96, 54, 54])\n",
      "For layer MaxPool2d : torch.Size([1, 96, 26, 26])\n",
      "For layer Sequential : torch.Size([1, 256, 26, 26])\n",
      "For layer MaxPool2d : torch.Size([1, 256, 12, 12])\n",
      "For layer Sequential : torch.Size([1, 384, 12, 12])\n",
      "For layer MaxPool2d : torch.Size([1, 384, 5, 5])\n",
      "For layer Dropout : torch.Size([1, 384, 5, 5])\n",
      "For layer Sequential : torch.Size([1, 10, 5, 5])\n",
      "For layer AdaptiveAvgPool2d : torch.Size([1, 10, 1, 1])\n",
      "For layer Flatten : torch.Size([1, 10])\n"
     ]
    }
   ],
   "source": [
    "look_in_net(net,X)"
   ]
  },
  {
   "cell_type": "code",
   "execution_count": 25,
   "id": "democratic-chaos",
   "metadata": {},
   "outputs": [],
   "source": [
    "device = torch.device('cuda')"
   ]
  },
  {
   "cell_type": "code",
   "execution_count": 26,
   "id": "hazardous-growing",
   "metadata": {},
   "outputs": [],
   "source": [
    "net = net.to(device)"
   ]
  },
  {
   "cell_type": "code",
   "execution_count": 27,
   "id": "supreme-pollution",
   "metadata": {},
   "outputs": [],
   "source": [
    "from torchsummary import summary"
   ]
  },
  {
   "cell_type": "code",
   "execution_count": 28,
   "id": "basic-spanish",
   "metadata": {},
   "outputs": [
    {
     "name": "stdout",
     "output_type": "stream",
     "text": [
      "----------------------------------------------------------------\n",
      "        Layer (type)               Output Shape         Param #\n",
      "================================================================\n",
      "            Conv2d-1           [-1, 96, 54, 54]          11,712\n",
      "              ReLU-2           [-1, 96, 54, 54]               0\n",
      "            Conv2d-3           [-1, 96, 54, 54]           9,312\n",
      "              ReLU-4           [-1, 96, 54, 54]               0\n",
      "            Conv2d-5           [-1, 96, 54, 54]           9,312\n",
      "              ReLU-6           [-1, 96, 54, 54]               0\n",
      "         MaxPool2d-7           [-1, 96, 26, 26]               0\n",
      "            Conv2d-8          [-1, 256, 26, 26]         614,656\n",
      "              ReLU-9          [-1, 256, 26, 26]               0\n",
      "           Conv2d-10          [-1, 256, 26, 26]          65,792\n",
      "             ReLU-11          [-1, 256, 26, 26]               0\n",
      "           Conv2d-12          [-1, 256, 26, 26]          65,792\n",
      "             ReLU-13          [-1, 256, 26, 26]               0\n",
      "        MaxPool2d-14          [-1, 256, 12, 12]               0\n",
      "           Conv2d-15          [-1, 384, 12, 12]         885,120\n",
      "             ReLU-16          [-1, 384, 12, 12]               0\n",
      "           Conv2d-17          [-1, 384, 12, 12]         147,840\n",
      "             ReLU-18          [-1, 384, 12, 12]               0\n",
      "           Conv2d-19          [-1, 384, 12, 12]         147,840\n",
      "             ReLU-20          [-1, 384, 12, 12]               0\n",
      "        MaxPool2d-21            [-1, 384, 5, 5]               0\n",
      "          Dropout-22            [-1, 384, 5, 5]               0\n",
      "           Conv2d-23             [-1, 10, 5, 5]          34,570\n",
      "             ReLU-24             [-1, 10, 5, 5]               0\n",
      "           Conv2d-25             [-1, 10, 5, 5]             110\n",
      "             ReLU-26             [-1, 10, 5, 5]               0\n",
      "           Conv2d-27             [-1, 10, 5, 5]             110\n",
      "             ReLU-28             [-1, 10, 5, 5]               0\n",
      "AdaptiveAvgPool2d-29             [-1, 10, 1, 1]               0\n",
      "          Flatten-30                   [-1, 10]               0\n",
      "================================================================\n",
      "Total params: 1,992,166\n",
      "Trainable params: 1,992,166\n",
      "Non-trainable params: 0\n",
      "----------------------------------------------------------------\n",
      "Input size (MB): 0.19\n",
      "Forward/backward pass size (MB): 24.20\n",
      "Params size (MB): 7.60\n",
      "Estimated Total Size (MB): 31.99\n",
      "----------------------------------------------------------------\n"
     ]
    }
   ],
   "source": [
    "summary(net, (1,224,224))"
   ]
  },
  {
   "cell_type": "code",
   "execution_count": 29,
   "id": "proprietary-rabbit",
   "metadata": {},
   "outputs": [],
   "source": [
    "batch_size = 128\n",
    "\n",
    "import torchvision.transforms as transforms\n",
    "from torch.utils.data import DataLoader\n",
    "import torchvision.datasets as datasets\n",
    "\n",
    "my_transforms = transforms.Compose(\n",
    "                [\n",
    "                 transforms.Resize(224),\n",
    "                 transforms.ToTensor()\n",
    "                ]\n",
    ")\n",
    "\n",
    "train_dataset = datasets.FashionMNIST(download=False, root=\"../../data\", train=True, transform=my_transforms)\n",
    "test_dataset = datasets.FashionMNIST(download=False, root=\"../../data\", train=False, transform=my_transforms)\n",
    "\n",
    "train_dataloader = DataLoader(train_dataset, batch_size=batch_size, shuffle=True)\n",
    "test_dataloader = DataLoader(test_dataset, batch_size=batch_size, shuffle=True)"
   ]
  },
  {
   "cell_type": "code",
   "execution_count": 31,
   "id": "piano-donor",
   "metadata": {},
   "outputs": [],
   "source": [
    "def accuracy(y_hat, y):\n",
    "    return (torch.argmax(y_hat, dim=1)==y).sum().float().mean()"
   ]
  },
  {
   "cell_type": "code",
   "execution_count": 36,
   "id": "temporal-operator",
   "metadata": {},
   "outputs": [],
   "source": [
    "acc_arr = []\n",
    "\n",
    "def train_net(net, num_epochs=3,lr=0.1):\n",
    "    net = net\n",
    "    criterion = nn.CrossEntropyLoss()\n",
    "    optimizer = torch.optim.SGD(net.parameters(), lr=lr)\n",
    "    num_epochs = num_epochs\n",
    "    \n",
    "    acc_arr = []\n",
    "\n",
    "    for epoch in range(num_epochs):\n",
    "        acc_val = 0\n",
    "        number = 0\n",
    "        for X, y in train_dataloader:\n",
    "            X = X.to(device)\n",
    "            y = y.to(device)\n",
    "            pred = net(X)\n",
    "            l = criterion(pred, y)\n",
    "\n",
    "            acc_val += accuracy(pred,y)\n",
    "            number += len(y)\n",
    "\n",
    "            optimizer.zero_grad()\n",
    "\n",
    "            l.backward()\n",
    "\n",
    "            optimizer.step()\n",
    "\n",
    "        acc_arr.append(acc_val.detach().cpu()/number)\n",
    "        print(f\"Epoch {epoch} accuracy : {acc_arr[-1]}\")\n",
    "    \n",
    "    return acc_arr\n",
    "    "
   ]
  },
  {
   "cell_type": "code",
   "execution_count": 37,
   "id": "conditional-citizenship",
   "metadata": {},
   "outputs": [
    {
     "name": "stdout",
     "output_type": "stream",
     "text": [
      "Epoch 0 accuracy : 0.09978333115577698\n",
      "Epoch 1 accuracy : 0.10046666860580444\n",
      "Epoch 2 accuracy : 0.10001666843891144\n",
      "Wall time: 9min 9s\n"
     ]
    }
   ],
   "source": [
    "%%time\n",
    "acc_arr = train_net(net,num_epochs=3)"
   ]
  },
  {
   "cell_type": "code",
   "execution_count": 39,
   "id": "crucial-ranking",
   "metadata": {},
   "outputs": [
    {
     "data": {
      "image/png": "[encoded data removed]",
      "text/plain": [
       "<Figure size 432x288 with 1 Axes>"
      ]
     },
     "metadata": {
      "needs_background": "light"
     },
     "output_type": "display_data"
    }
   ],
   "source": [
    "import matplotlib.pyplot as plt\n",
    "plt.plot(range(3), acc_arr)\n",
    "plt.show()"
   ]
  },
  {
   "cell_type": "code",
   "execution_count": 40,
   "id": "enormous-avatar",
   "metadata": {},
   "outputs": [],
   "source": [
    "# trying to remove one of the convBlock\n",
    "\n",
    "def nin_block(in_channels, out_channels, kernel_size, strides, padding):\n",
    "    return nn.Sequential(\n",
    "        nn.Conv2d(in_channels, out_channels, kernel_size, strides, padding),\n",
    "        nn.ReLU(), nn.Conv2d(out_channels, out_channels, kernel_size=1),\n",
    "        nn.ReLU()\n",
    "    )"
   ]
  },
  {
   "cell_type": "code",
   "execution_count": 47,
   "id": "saved-record",
   "metadata": {},
   "outputs": [],
   "source": [
    "net = nn.Sequential(\n",
    "    nin_block(1, 96, kernel_size=11, strides=4, padding=0),\n",
    "    nn.MaxPool2d(3, stride=2),\n",
    "    nin_block(96, 256, kernel_size=5, strides=1, padding=2),\n",
    "    nn.MaxPool2d(3, stride=2),\n",
    "    nin_block(256, 384, kernel_size=3, strides=1, padding=1),\n",
    "    nn.MaxPool2d(3,stride=2), nn.Dropout(0.5),\n",
    "    nin_block(384, 10, kernel_size=3, strides=1, padding=1),\n",
    "    nn.AdaptiveAvgPool2d((1,1)),\n",
    "    nn.Flatten()\n",
    ")"
   ]
  },
  {
   "cell_type": "code",
   "execution_count": 48,
   "id": "illegal-insertion",
   "metadata": {},
   "outputs": [
    {
     "name": "stdout",
     "output_type": "stream",
     "text": [
      "For layer Sequential : torch.Size([1, 96, 54, 54])\n",
      "For layer MaxPool2d : torch.Size([1, 96, 26, 26])\n",
      "For layer Sequential : torch.Size([1, 256, 26, 26])\n",
      "For layer MaxPool2d : torch.Size([1, 256, 12, 12])\n",
      "For layer Sequential : torch.Size([1, 384, 12, 12])\n",
      "For layer MaxPool2d : torch.Size([1, 384, 5, 5])\n",
      "For layer Dropout : torch.Size([1, 384, 5, 5])\n",
      "For layer Sequential : torch.Size([1, 10, 5, 5])\n",
      "For layer AdaptiveAvgPool2d : torch.Size([1, 10, 1, 1])\n",
      "For layer Flatten : torch.Size([1, 10])\n"
     ]
    }
   ],
   "source": [
    "look_in_net(net, X)"
   ]
  },
  {
   "cell_type": "code",
   "execution_count": 49,
   "id": "manufactured-arbitration",
   "metadata": {},
   "outputs": [
    {
     "name": "stdout",
     "output_type": "stream",
     "text": [
      "----------------------------------------------------------------\n",
      "        Layer (type)               Output Shape         Param #\n",
      "================================================================\n",
      "            Conv2d-1           [-1, 96, 54, 54]          11,712\n",
      "              ReLU-2           [-1, 96, 54, 54]               0\n",
      "            Conv2d-3           [-1, 96, 54, 54]           9,312\n",
      "              ReLU-4           [-1, 96, 54, 54]               0\n",
      "         MaxPool2d-5           [-1, 96, 26, 26]               0\n",
      "            Conv2d-6          [-1, 256, 26, 26]         614,656\n",
      "              ReLU-7          [-1, 256, 26, 26]               0\n",
      "            Conv2d-8          [-1, 256, 26, 26]          65,792\n",
      "              ReLU-9          [-1, 256, 26, 26]               0\n",
      "        MaxPool2d-10          [-1, 256, 12, 12]               0\n",
      "           Conv2d-11          [-1, 384, 12, 12]         885,120\n",
      "             ReLU-12          [-1, 384, 12, 12]               0\n",
      "           Conv2d-13          [-1, 384, 12, 12]         147,840\n",
      "             ReLU-14          [-1, 384, 12, 12]               0\n",
      "        MaxPool2d-15            [-1, 384, 5, 5]               0\n",
      "          Dropout-16            [-1, 384, 5, 5]               0\n",
      "           Conv2d-17             [-1, 10, 5, 5]          34,570\n",
      "             ReLU-18             [-1, 10, 5, 5]               0\n",
      "           Conv2d-19             [-1, 10, 5, 5]             110\n",
      "             ReLU-20             [-1, 10, 5, 5]               0\n",
      "AdaptiveAvgPool2d-21             [-1, 10, 1, 1]               0\n",
      "          Flatten-22                   [-1, 10]               0\n",
      "================================================================\n",
      "Total params: 1,769,112\n",
      "Trainable params: 1,769,112\n",
      "Non-trainable params: 0\n",
      "----------------------------------------------------------------\n",
      "Input size (MB): 0.19\n",
      "Forward/backward pass size (MB): 16.44\n",
      "Params size (MB): 6.75\n",
      "Estimated Total Size (MB): 23.38\n",
      "----------------------------------------------------------------\n"
     ]
    }
   ],
   "source": [
    "net = net.to(device)\n",
    "summary(net, (1,224,224))"
   ]
  },
  {
   "cell_type": "code",
   "execution_count": 50,
   "id": "hairy-quantum",
   "metadata": {},
   "outputs": [
    {
     "name": "stdout",
     "output_type": "stream",
     "text": [
      "Epoch 0 accuracy : 0.1005999967455864\n",
      "Epoch 1 accuracy : 0.14839999377727509\n",
      "Epoch 2 accuracy : 0.40488332509994507\n",
      "Wall time: 6min 41s\n"
     ]
    }
   ],
   "source": [
    "%%time\n",
    "acc_arr = train_net(net,num_epochs=3)"
   ]
  },
  {
   "cell_type": "code",
   "execution_count": 51,
   "id": "numeric-matrix",
   "metadata": {},
   "outputs": [
    {
     "data": {
      "image/png": "[encoded data removed]",
      "text/plain": [
       "<Figure size 432x288 with 1 Axes>"
      ]
     },
     "metadata": {
      "needs_background": "light"
     },
     "output_type": "display_data"
    }
   ],
   "source": [
    "plt.plot(range(3), acc_arr)\n",
    "plt.show()"
   ]
  },
  {
   "cell_type": "code",
   "execution_count": 52,
   "id": "joint-condition",
   "metadata": {},
   "outputs": [],
   "source": [
    "# 3\n",
    "\n",
    "#it might be too fast,may miss parameters"
   ]
  },
  {
   "cell_type": "code",
   "execution_count": 53,
   "id": "fluid-writing",
   "metadata": {},
   "outputs": [
    {
     "data": {
      "application/vnd.jupyter.widget-view+json": {
       "model_id": "acce4c3c65f0419dbcf8cc3c3b9280ac",
       "version_major": 2,
       "version_minor": 0
      },
      "text/plain": [
       "  0%|          | 0/100 [00:00<?, ?it/s]"
      ]
     },
     "metadata": {},
     "output_type": "display_data"
    },
    {
     "name": "stdout",
     "output_type": "stream",
     "text": [
      "Learning rate search finished. See the graph with {finder_name}.plot()\n",
      "LR suggestion: steepest gradient\n",
      "Suggested LR: 1.91E-01\n"
     ]
    },
    {
     "data": {
      "image/png": "[encoded data removed]",
      "text/plain": [
       "<Figure size 432x288 with 1 Axes>"
      ]
     },
     "metadata": {
      "needs_background": "light"
     },
     "output_type": "display_data"
    }
   ],
   "source": [
    "from torch_lr_finder import LRFinder\n",
    "\n",
    "model = net\n",
    "criterion = nn.CrossEntropyLoss()\n",
    "optimizer = torch.optim.Adam(model.parameters(), lr=0.1)\n",
    "lr_finder = LRFinder(model, optimizer, criterion, device=device)\n",
    "\n",
    "lr_finder.range_test(train_dataloader, val_loader=test_dataloader, end_lr=1, num_iter=100, step_mode=\"linear\")\n",
    "lr_finder.plot(log_lr=False)\n",
    "lr_finder.reset()"
   ]
  },
  {
   "cell_type": "code",
   "execution_count": 54,
   "id": "global-delicious",
   "metadata": {},
   "outputs": [
    {
     "name": "stdout",
     "output_type": "stream",
     "text": [
      "Epoch 0 accuracy : 0.15684999525547028\n",
      "Epoch 1 accuracy : 0.10000000149011612\n",
      "Epoch 2 accuracy : 0.10000000149011612\n",
      "Epoch 3 accuracy : 0.10000000149011612\n",
      "Epoch 4 accuracy : 0.10000000149011612\n",
      "Epoch 5 accuracy : 0.10000000149011612\n",
      "Epoch 6 accuracy : 0.10000000149011612\n",
      "Epoch 7 accuracy : 0.10000000149011612\n",
      "Epoch 8 accuracy : 0.10000000149011612\n",
      "Epoch 9 accuracy : 0.10000000149011612\n",
      "Wall time: 22min 8s\n"
     ]
    }
   ],
   "source": [
    "%%time\n",
    "acc_arr = train_net(net,num_epochs=10, lr=1.91e-01)"
   ]
  },
  {
   "cell_type": "code",
   "execution_count": 56,
   "id": "induced-trial",
   "metadata": {},
   "outputs": [
    {
     "data": {
      "image/png": "[encoded data removed]",
      "text/plain": [
       "<Figure size 432x288 with 1 Axes>"
      ]
     },
     "metadata": {
      "needs_background": "light"
     },
     "output_type": "display_data"
    }
   ],
   "source": [
    "plt.plot(range(10), acc_arr)\n",
    "plt.show()"
   ]
  }
 ],
 "metadata": {
  "kernelspec": {
   "display_name": "Python 3",
   "language": "python",
   "name": "python3"
  },
  "language_info": {
   "codemirror_mode": {
    "name": "ipython",
    "version": 3
   },
   "file_extension": ".py",
   "mimetype": "text/x-python",
   "name": "python",
   "nbconvert_exporter": "python",
   "pygments_lexer": "ipython3",
   "version": "3.9.5"
  }
 },
 "nbformat": 4,
 "nbformat_minor": 5
}
