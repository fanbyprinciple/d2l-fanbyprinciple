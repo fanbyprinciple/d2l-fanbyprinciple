{
 "cells": [
  {
   "cell_type": "code",
   "execution_count": 1,
   "metadata": {
    "_cell_guid": "b1076dfc-b9ad-4769-8c92-a6c4dae69d19",
    "_uuid": "8f2839f25d086af736a60e9eeb907d3b93b6e0e5",
    "execution": {
     "iopub.execute_input": "2021-09-10T02:12:36.094111Z",
     "iopub.status.busy": "2021-09-10T02:12:36.093337Z",
     "iopub.status.idle": "2021-09-10T02:12:40.645188Z",
     "shell.execute_reply": "2021-09-10T02:12:40.644407Z",
     "shell.execute_reply.started": "2021-09-10T02:12:36.093992Z"
    }
   },
   "outputs": [],
   "source": [
    "import torch\n",
    "import torch.nn as nn\n",
    "import torchvision.datasets as datasets\n",
    "from torch.utils.data import DataLoader\n",
    "import torchvision.transforms as transforms"
   ]
  },
  {
   "cell_type": "code",
   "execution_count": 2,
   "metadata": {
    "execution": {
     "iopub.execute_input": "2021-09-10T02:12:40.647146Z",
     "iopub.status.busy": "2021-09-10T02:12:40.646889Z",
     "iopub.status.idle": "2021-09-10T02:12:40.652894Z",
     "shell.execute_reply": "2021-09-10T02:12:40.652103Z",
     "shell.execute_reply.started": "2021-09-10T02:12:40.647114Z"
    }
   },
   "outputs": [],
   "source": [
    "# defining transforms for mnist\n",
    "my_transforms = transforms.Compose([\n",
    "    transforms.ToTensor()\n",
    "])"
   ]
  },
  {
   "cell_type": "markdown",
   "metadata": {},
   "source": [
    "importing the dataset from torchvision."
   ]
  },
  {
   "cell_type": "code",
   "execution_count": 3,
   "metadata": {
    "execution": {
     "iopub.execute_input": "2021-09-10T02:12:40.654632Z",
     "iopub.status.busy": "2021-09-10T02:12:40.653868Z",
     "iopub.status.idle": "2021-09-10T02:12:46.495151Z",
     "shell.execute_reply": "2021-09-10T02:12:46.494290Z",
     "shell.execute_reply.started": "2021-09-10T02:12:40.654596Z"
    }
   },
   "outputs": [
    {
     "name": "stdout",
     "output_type": "stream",
     "text": [
      "Downloading http://fashion-mnist.s3-website.eu-central-1.amazonaws.com/train-images-idx3-ubyte.gz to ./data/FashionMNIST/raw/train-images-idx3-ubyte.gz\n"
     ]
    },
    {
     "data": {
      "application/vnd.jupyter.widget-view+json": {
       "model_id": "754ca965e409434abc7c49966a97e2e4",
       "version_major": 2,
       "version_minor": 0
      },
      "text/plain": [
       "0it [00:00, ?it/s]"
      ]
     },
     "metadata": {},
     "output_type": "display_data"
    },
    {
     "name": "stdout",
     "output_type": "stream",
     "text": [
      "Extracting ./data/FashionMNIST/raw/train-images-idx3-ubyte.gz to ./data/FashionMNIST/raw\n",
      "Downloading http://fashion-mnist.s3-website.eu-central-1.amazonaws.com/train-labels-idx1-ubyte.gz to ./data/FashionMNIST/raw/train-labels-idx1-ubyte.gz\n"
     ]
    },
    {
     "data": {
      "application/vnd.jupyter.widget-view+json": {
       "model_id": "e4acc813971b4ca3be58ebf7d6a38709",
       "version_major": 2,
       "version_minor": 0
      },
      "text/plain": [
       "0it [00:00, ?it/s]"
      ]
     },
     "metadata": {},
     "output_type": "display_data"
    },
    {
     "name": "stdout",
     "output_type": "stream",
     "text": [
      "Extracting ./data/FashionMNIST/raw/train-labels-idx1-ubyte.gz to ./data/FashionMNIST/raw\n",
      "Downloading http://fashion-mnist.s3-website.eu-central-1.amazonaws.com/t10k-images-idx3-ubyte.gz to ./data/FashionMNIST/raw/t10k-images-idx3-ubyte.gz\n"
     ]
    },
    {
     "data": {
      "application/vnd.jupyter.widget-view+json": {
       "model_id": "12a3dd561e964d4aadc04e3004356f6c",
       "version_major": 2,
       "version_minor": 0
      },
      "text/plain": [
       "0it [00:00, ?it/s]"
      ]
     },
     "metadata": {},
     "output_type": "display_data"
    },
    {
     "name": "stdout",
     "output_type": "stream",
     "text": [
      "Extracting ./data/FashionMNIST/raw/t10k-images-idx3-ubyte.gz to ./data/FashionMNIST/raw\n",
      "Downloading http://fashion-mnist.s3-website.eu-central-1.amazonaws.com/t10k-labels-idx1-ubyte.gz to ./data/FashionMNIST/raw/t10k-labels-idx1-ubyte.gz\n"
     ]
    },
    {
     "data": {
      "application/vnd.jupyter.widget-view+json": {
       "model_id": "707cd92780b1488791ee09d62b6726c5",
       "version_major": 2,
       "version_minor": 0
      },
      "text/plain": [
       "0it [00:00, ?it/s]"
      ]
     },
     "metadata": {},
     "output_type": "display_data"
    },
    {
     "name": "stdout",
     "output_type": "stream",
     "text": [
      "Extracting ./data/FashionMNIST/raw/t10k-labels-idx1-ubyte.gz to ./data/FashionMNIST/raw\n",
      "Processing...\n",
      "Done!\n"
     ]
    },
    {
     "name": "stderr",
     "output_type": "stream",
     "text": [
      "/opt/conda/lib/python3.7/site-packages/torchvision/datasets/mnist.py:480: UserWarning: The given NumPy array is not writeable, and PyTorch does not support non-writeable tensors. This means you can write to the underlying (supposedly non-writeable) NumPy array using the tensor. You may want to copy the array to protect its data or make it writeable before converting it to a tensor. This type of warning will be suppressed for the rest of this program. (Triggered internally at  /pytorch/torch/csrc/utils/tensor_numpy.cpp:141.)\n",
      "  return torch.from_numpy(parsed.astype(m[2], copy=False)).view(*s)\n"
     ]
    }
   ],
   "source": [
    "train_dataset = datasets.FashionMNIST(root=\"./data\", download=True, transform=my_transforms, train=True)\n",
    "test_dataset = datasets.FashionMNIST(root=\"./data\", download=True, transform=my_transforms, train=False)"
   ]
  },
  {
   "cell_type": "markdown",
   "metadata": {},
   "source": [
    "creating dataloader out of the dataset."
   ]
  },
  {
   "cell_type": "code",
   "execution_count": 4,
   "metadata": {
    "execution": {
     "iopub.execute_input": "2021-09-10T02:12:46.497605Z",
     "iopub.status.busy": "2021-09-10T02:12:46.497257Z",
     "iopub.status.idle": "2021-09-10T02:12:46.503321Z",
     "shell.execute_reply": "2021-09-10T02:12:46.502490Z",
     "shell.execute_reply.started": "2021-09-10T02:12:46.497571Z"
    }
   },
   "outputs": [],
   "source": [
    "batch_size=128\n",
    "train_dataloader = DataLoader(train_dataset, batch_size=batch_size, shuffle=True)\n",
    "\n",
    "# here we are looking at test_dataloader as more of a validation set\n",
    "test_dataloader = DataLoader(test_dataset, batch_size=batch_size, shuffle=True)"
   ]
  },
  {
   "cell_type": "markdown",
   "metadata": {},
   "source": [
    "now lets look at our dataset."
   ]
  },
  {
   "cell_type": "code",
   "execution_count": 5,
   "metadata": {
    "execution": {
     "iopub.execute_input": "2021-09-10T02:12:46.505466Z",
     "iopub.status.busy": "2021-09-10T02:12:46.504920Z",
     "iopub.status.idle": "2021-09-10T02:12:46.562401Z",
     "shell.execute_reply": "2021-09-10T02:12:46.561761Z",
     "shell.execute_reply.started": "2021-09-10T02:12:46.505430Z"
    }
   },
   "outputs": [
    {
     "name": "stdout",
     "output_type": "stream",
     "text": [
      "Shape of X:  torch.Size([128, 1, 28, 28])\n",
      "Length of y:  128\n"
     ]
    }
   ],
   "source": [
    "import matplotlib.pyplot as plt\n",
    "\n",
    "for X, y in train_dataloader:\n",
    "    print(\"Shape of X: \", X.shape)\n",
    "    print(\"Length of y: \", len(y))\n",
    "    break"
   ]
  },
  {
   "cell_type": "code",
   "execution_count": 6,
   "metadata": {
    "execution": {
     "iopub.execute_input": "2021-09-10T02:12:46.563825Z",
     "iopub.status.busy": "2021-09-10T02:12:46.563580Z",
     "iopub.status.idle": "2021-09-10T02:12:46.782448Z",
     "shell.execute_reply": "2021-09-10T02:12:46.781712Z",
     "shell.execute_reply.started": "2021-09-10T02:12:46.563796Z"
    }
   },
   "outputs": [
    {
     "name": "stdout",
     "output_type": "stream",
     "text": [
      "tensor(6)\n"
     ]
    },
    {
     "data": {
      "image/png": "[encoded data removed]",
      "text/plain": [
       "<Figure size 432x288 with 1 Axes>"
      ]
     },
     "metadata": {
      "needs_background": "light"
     },
     "output_type": "display_data"
    }
   ],
   "source": [
    "plt.imshow(X[0].permute(1,2,0))\n",
    "print(y[0])"
   ]
  },
  {
   "cell_type": "code",
   "execution_count": 7,
   "metadata": {
    "execution": {
     "iopub.execute_input": "2021-09-10T02:12:46.784192Z",
     "iopub.status.busy": "2021-09-10T02:12:46.783900Z",
     "iopub.status.idle": "2021-09-10T02:12:46.789096Z",
     "shell.execute_reply": "2021-09-10T02:12:46.788148Z",
     "shell.execute_reply.started": "2021-09-10T02:12:46.784157Z"
    }
   },
   "outputs": [],
   "source": [
    "def look_in_net(net, X):\n",
    "    out = X\n",
    "    for layer in net:\n",
    "        out = layer(out)\n",
    "        print(f\"For layer : {layer.__class__.__name__} shape : {out.shape}\")"
   ]
  },
  {
   "cell_type": "markdown",
   "metadata": {},
   "source": [
    "Now lets create our model."
   ]
  },
  {
   "cell_type": "code",
   "execution_count": 8,
   "metadata": {
    "execution": {
     "iopub.execute_input": "2021-09-10T02:12:46.791067Z",
     "iopub.status.busy": "2021-09-10T02:12:46.790781Z",
     "iopub.status.idle": "2021-09-10T02:12:46.828957Z",
     "shell.execute_reply": "2021-09-10T02:12:46.828297Z",
     "shell.execute_reply.started": "2021-09-10T02:12:46.791036Z"
    }
   },
   "outputs": [],
   "source": [
    "import torch.nn.functional as F\n",
    "\n",
    "random_cnn = nn.Sequential(nn.Conv2d(1, 96, kernel_size=3,stride=1, padding=1),\n",
    "                          nn.ReLU(),\n",
    "                          nn.Conv2d(96, 128, kernel_size=5, padding=2),\n",
    "                          nn.ReLU(),\n",
    "                          nn.Flatten(),\n",
    "                          nn.Linear(128 * 7 * 7, 240), \n",
    "                          nn.Dropout(p=0.5),\n",
    "                          nn.Linear(240, 10))\n",
    "\n",
    "#from https://www.analyticsvidhya.com/blog/2019/10/building-image-classification-models-cnn-pytorch/\n",
    "random_cnn = nn.Sequential( nn.Conv2d(1, 4, kernel_size=3, stride=1, padding=1),\n",
    "                            nn.BatchNorm2d(4),\n",
    "                            nn.ReLU(inplace=True),\n",
    "                            nn.MaxPool2d(kernel_size=2, stride=2),\n",
    "                           \n",
    "                            nn.Conv2d(4, 4, kernel_size=3, stride=1, padding=1),\n",
    "                            nn.BatchNorm2d(4),\n",
    "                            nn.ReLU(inplace=True),\n",
    "                            nn.MaxPool2d(kernel_size=2, stride=2),\n",
    "                           \n",
    "                            nn.Flatten(),\n",
    "                            nn.Linear(4 * 7 * 7, 40), \n",
    "                            nn.Dropout(p=0.5),\n",
    "                            nn.Linear(40, 10)\n",
    "                           )\n",
    "\n",
    "#from https://www.kaggle.com/sdelecourt/cnn-with-pytorch-for-mnist\n",
    "random_cnn = nn.Sequential(\n",
    "                  nn.Conv2d(1, 32, kernel_size=5),\n",
    "                  nn.ReLU(),\n",
    "                  nn.Conv2d(32, 32, kernel_size=5),\n",
    "                  nn.MaxPool2d(2),\n",
    "                  nn.ReLU(),\n",
    "                  nn.Dropout(p=0.5),\n",
    "                  nn.Conv2d(32,64, kernel_size=5),\n",
    "                  nn.MaxPool2d(2),\n",
    "                  nn.ReLU(),\n",
    "                  nn.Dropout(p=0.5),\n",
    "                  nn.Flatten(),\n",
    "                  nn.Linear(3*3*64, 256),\n",
    "                  nn.Dropout(p=0.5),\n",
    "                  nn.Linear(256, 10)\n",
    ")"
   ]
  },
  {
   "cell_type": "code",
   "execution_count": 9,
   "metadata": {
    "execution": {
     "iopub.execute_input": "2021-09-10T02:12:46.830325Z",
     "iopub.status.busy": "2021-09-10T02:12:46.829982Z",
     "iopub.status.idle": "2021-09-10T02:12:46.835888Z",
     "shell.execute_reply": "2021-09-10T02:12:46.835168Z",
     "shell.execute_reply.started": "2021-09-10T02:12:46.830289Z"
    }
   },
   "outputs": [
    {
     "data": {
      "text/plain": [
       "torch.Size([128, 1, 28, 28])"
      ]
     },
     "execution_count": 9,
     "metadata": {},
     "output_type": "execute_result"
    }
   ],
   "source": [
    "X.shape"
   ]
  },
  {
   "cell_type": "code",
   "execution_count": 10,
   "metadata": {
    "execution": {
     "iopub.execute_input": "2021-09-10T02:12:46.839568Z",
     "iopub.status.busy": "2021-09-10T02:12:46.839126Z",
     "iopub.status.idle": "2021-09-10T02:12:46.850274Z",
     "shell.execute_reply": "2021-09-10T02:12:46.849481Z",
     "shell.execute_reply.started": "2021-09-10T02:12:46.839533Z"
    }
   },
   "outputs": [],
   "source": [
    "\n",
    "class CNN(nn.Module):\n",
    "    def __init__(self):\n",
    "        super(CNN, self).__init__()\n",
    "        self.conv1 = nn.Conv2d(1, 32, kernel_size=5)\n",
    "        self.conv2 = nn.Conv2d(32, 32, kernel_size=5)\n",
    "        self.conv3 = nn.Conv2d(32,64, kernel_size=5)\n",
    "        self.fc1 = nn.Linear(3*3*64, 256)\n",
    "        self.fc2 = nn.Linear(256, 10)\n",
    "\n",
    "    def forward(self, x):\n",
    "        x = F.relu(self.conv1(x))\n",
    "        #x = F.dropout(x, p=0.5, training=self.training)\n",
    "        x = F.relu(F.max_pool2d(self.conv2(x), 2))\n",
    "        x = F.dropout(x, p=0.5, training=self.training)\n",
    "        x = F.relu(F.max_pool2d(self.conv3(x),2))\n",
    "        x = F.dropout(x, p=0.5, training=self.training)\n",
    "        x = x.view(-1,3*3*64 )\n",
    "        x = F.relu(self.fc1(x))\n",
    "        x = F.dropout(x, training=self.training)\n",
    "        x = self.fc2(x)\n",
    "        return F.log_softmax(x, dim=1)"
   ]
  },
  {
   "cell_type": "code",
   "execution_count": 11,
   "metadata": {
    "execution": {
     "iopub.execute_input": "2021-09-10T02:12:46.852042Z",
     "iopub.status.busy": "2021-09-10T02:12:46.851614Z",
     "iopub.status.idle": "2021-09-10T02:12:47.007721Z",
     "shell.execute_reply": "2021-09-10T02:12:47.006886Z",
     "shell.execute_reply.started": "2021-09-10T02:12:46.851984Z"
    }
   },
   "outputs": [
    {
     "data": {
      "text/plain": [
       "tensor([[-2.2792, -2.2985, -2.4044,  ..., -2.3547, -2.2733, -2.1927],\n",
       "        [-2.3179, -2.3048, -2.3488,  ..., -2.3327, -2.2431, -2.2070],\n",
       "        [-2.2514, -2.3067, -2.4196,  ..., -2.3388, -2.2985, -2.1544],\n",
       "        ...,\n",
       "        [-2.2136, -2.2890, -2.3744,  ..., -2.3199, -2.2982, -2.3145],\n",
       "        [-2.3250, -2.4626, -2.4300,  ..., -2.2168, -2.2334, -2.3165],\n",
       "        [-2.2871, -2.1211, -2.4689,  ..., -2.3514, -2.2645, -2.1136]],\n",
       "       grad_fn=<LogSoftmaxBackward>)"
      ]
     },
     "execution_count": 11,
     "metadata": {},
     "output_type": "execute_result"
    }
   ],
   "source": [
    "\n",
    "\n",
    "net = CNN()\n",
    "\n",
    "net(X)"
   ]
  },
  {
   "cell_type": "code",
   "execution_count": 12,
   "metadata": {
    "execution": {
     "iopub.execute_input": "2021-09-10T02:12:47.009442Z",
     "iopub.status.busy": "2021-09-10T02:12:47.009182Z",
     "iopub.status.idle": "2021-09-10T02:12:47.084339Z",
     "shell.execute_reply": "2021-09-10T02:12:47.083502Z",
     "shell.execute_reply.started": "2021-09-10T02:12:47.009409Z"
    }
   },
   "outputs": [
    {
     "name": "stdout",
     "output_type": "stream",
     "text": [
      "For layer : Conv2d shape : torch.Size([128, 32, 24, 24])\n",
      "For layer : ReLU shape : torch.Size([128, 32, 24, 24])\n",
      "For layer : Conv2d shape : torch.Size([128, 32, 20, 20])\n",
      "For layer : MaxPool2d shape : torch.Size([128, 32, 10, 10])\n",
      "For layer : ReLU shape : torch.Size([128, 32, 10, 10])\n",
      "For layer : Dropout shape : torch.Size([128, 32, 10, 10])\n",
      "For layer : Conv2d shape : torch.Size([128, 64, 6, 6])\n",
      "For layer : MaxPool2d shape : torch.Size([128, 64, 3, 3])\n",
      "For layer : ReLU shape : torch.Size([128, 64, 3, 3])\n",
      "For layer : Dropout shape : torch.Size([128, 64, 3, 3])\n",
      "For layer : Flatten shape : torch.Size([128, 576])\n",
      "For layer : Linear shape : torch.Size([128, 256])\n",
      "For layer : Dropout shape : torch.Size([128, 256])\n",
      "For layer : Linear shape : torch.Size([128, 10])\n"
     ]
    }
   ],
   "source": [
    "look_in_net(random_cnn, X)"
   ]
  },
  {
   "cell_type": "markdown",
   "metadata": {},
   "source": [
    "Now using fastai"
   ]
  },
  {
   "cell_type": "code",
   "execution_count": 13,
   "metadata": {
    "execution": {
     "iopub.execute_input": "2021-09-10T02:12:47.086130Z",
     "iopub.status.busy": "2021-09-10T02:12:47.085847Z",
     "iopub.status.idle": "2021-09-10T02:12:48.207637Z",
     "shell.execute_reply": "2021-09-10T02:12:48.206901Z",
     "shell.execute_reply.started": "2021-09-10T02:12:47.086094Z"
    }
   },
   "outputs": [],
   "source": [
    "from fastai.vision.all import *"
   ]
  },
  {
   "cell_type": "code",
   "execution_count": 14,
   "metadata": {
    "execution": {
     "iopub.execute_input": "2021-09-10T02:12:48.208929Z",
     "iopub.status.busy": "2021-09-10T02:12:48.208682Z",
     "iopub.status.idle": "2021-09-10T02:12:48.216575Z",
     "shell.execute_reply": "2021-09-10T02:12:48.215893Z",
     "shell.execute_reply.started": "2021-09-10T02:12:48.208899Z"
    }
   },
   "outputs": [],
   "source": [
    "optimizer = torch.optim.Adam(random_cnn.parameters(), lr=0.001)"
   ]
  },
  {
   "cell_type": "code",
   "execution_count": 27,
   "metadata": {
    "execution": {
     "iopub.execute_input": "2021-09-10T02:19:31.277244Z",
     "iopub.status.busy": "2021-09-10T02:19:31.276950Z",
     "iopub.status.idle": "2021-09-10T02:19:31.286412Z",
     "shell.execute_reply": "2021-09-10T02:19:31.285632Z",
     "shell.execute_reply.started": "2021-09-10T02:19:31.277217Z"
    }
   },
   "outputs": [],
   "source": [
    "data = DataLoaders(train_dataloader, test_dataloader)\n",
    "learner = Learner(data, CNN(), loss_func=F.nll_loss, opt_func=Adam, metrics=accuracy)\n",
    "\n",
    "# cannot use cross entropy loss, booleanvalue error"
   ]
  },
  {
   "cell_type": "code",
   "execution_count": 28,
   "metadata": {
    "execution": {
     "iopub.execute_input": "2021-09-10T02:19:34.156082Z",
     "iopub.status.busy": "2021-09-10T02:19:34.155786Z",
     "iopub.status.idle": "2021-09-10T02:19:47.364191Z",
     "shell.execute_reply": "2021-09-10T02:19:47.363526Z",
     "shell.execute_reply.started": "2021-09-10T02:19:34.156046Z"
    }
   },
   "outputs": [
    {
     "data": {
      "text/html": [],
      "text/plain": [
       "<IPython.core.display.HTML object>"
      ]
     },
     "metadata": {},
     "output_type": "display_data"
    },
    {
     "data": {
      "text/plain": [
       "SuggestedLRs(lr_min=0.0033113110810518267, lr_steep=0.009120108559727669)"
      ]
     },
     "execution_count": 28,
     "metadata": {},
     "output_type": "execute_result"
    },
    {
     "data": {
      "image/png": "[encoded data removed]",
      "text/plain": [
       "<Figure size 432x288 with 1 Axes>"
      ]
     },
     "metadata": {
      "needs_background": "light"
     },
     "output_type": "display_data"
    }
   ],
   "source": [
    "learner.lr_find()"
   ]
  },
  {
   "cell_type": "code",
   "execution_count": 33,
   "metadata": {
    "execution": {
     "iopub.execute_input": "2021-09-10T02:20:34.566989Z",
     "iopub.status.busy": "2021-09-10T02:20:34.566199Z",
     "iopub.status.idle": "2021-09-10T02:21:49.177664Z",
     "shell.execute_reply": "2021-09-10T02:21:49.176881Z",
     "shell.execute_reply.started": "2021-09-10T02:20:34.566946Z"
    }
   },
   "outputs": [
    {
     "data": {
      "text/html": [
       "<table border=\"1\" class=\"dataframe\">\n",
       "  <thead>\n",
       "    <tr style=\"text-align: left;\">\n",
       "      <th>epoch</th>\n",
       "      <th>train_loss</th>\n",
       "      <th>valid_loss</th>\n",
       "      <th>accuracy</th>\n",
       "      <th>time</th>\n",
       "    </tr>\n",
       "  </thead>\n",
       "  <tbody>\n",
       "    <tr>\n",
       "      <td>0</td>\n",
       "      <td>0.587035</td>\n",
       "      <td>0.502101</td>\n",
       "      <td>0.813700</td>\n",
       "      <td>01:14</td>\n",
       "    </tr>\n",
       "  </tbody>\n",
       "</table>"
      ],
      "text/plain": [
       "<IPython.core.display.HTML object>"
      ]
     },
     "metadata": {},
     "output_type": "display_data"
    }
   ],
   "source": [
    "learner.fit_one_cycle(1,2e-2)"
   ]
  },
  {
   "cell_type": "code",
   "execution_count": 34,
   "metadata": {
    "execution": {
     "iopub.execute_input": "2021-09-10T02:22:22.731932Z",
     "iopub.status.busy": "2021-09-10T02:22:22.731651Z",
     "iopub.status.idle": "2021-09-10T02:22:35.304620Z",
     "shell.execute_reply": "2021-09-10T02:22:35.303941Z",
     "shell.execute_reply.started": "2021-09-10T02:22:22.731903Z"
    }
   },
   "outputs": [
    {
     "data": {
      "text/html": [],
      "text/plain": [
       "<IPython.core.display.HTML object>"
      ]
     },
     "metadata": {},
     "output_type": "display_data"
    },
    {
     "data": {
      "text/plain": [
       "SuggestedLRs(lr_min=0.00020892962347716094, lr_steep=9.12010818865383e-07)"
      ]
     },
     "execution_count": 34,
     "metadata": {},
     "output_type": "execute_result"
    },
    {
     "data": {
      "image/png": "[encoded data removed]",
      "text/plain": [
       "<Figure size 432x288 with 1 Axes>"
      ]
     },
     "metadata": {
      "needs_background": "light"
     },
     "output_type": "display_data"
    }
   ],
   "source": [
    "learner.lr_find()"
   ]
  },
  {
   "cell_type": "code",
   "execution_count": 36,
   "metadata": {
    "execution": {
     "iopub.execute_input": "2021-09-10T02:24:43.036898Z",
     "iopub.status.busy": "2021-09-10T02:24:43.036082Z",
     "iopub.status.idle": "2021-09-10T02:37:12.820363Z",
     "shell.execute_reply": "2021-09-10T02:37:12.819478Z",
     "shell.execute_reply.started": "2021-09-10T02:24:43.036855Z"
    }
   },
   "outputs": [
    {
     "data": {
      "text/html": [
       "<table border=\"1\" class=\"dataframe\">\n",
       "  <thead>\n",
       "    <tr style=\"text-align: left;\">\n",
       "      <th>epoch</th>\n",
       "      <th>train_loss</th>\n",
       "      <th>valid_loss</th>\n",
       "      <th>accuracy</th>\n",
       "      <th>time</th>\n",
       "    </tr>\n",
       "  </thead>\n",
       "  <tbody>\n",
       "    <tr>\n",
       "      <td>0</td>\n",
       "      <td>0.550023</td>\n",
       "      <td>0.489271</td>\n",
       "      <td>0.816300</td>\n",
       "      <td>01:14</td>\n",
       "    </tr>\n",
       "    <tr>\n",
       "      <td>1</td>\n",
       "      <td>0.535412</td>\n",
       "      <td>0.482102</td>\n",
       "      <td>0.818800</td>\n",
       "      <td>01:13</td>\n",
       "    </tr>\n",
       "    <tr>\n",
       "      <td>2</td>\n",
       "      <td>0.520860</td>\n",
       "      <td>0.472031</td>\n",
       "      <td>0.821000</td>\n",
       "      <td>01:14</td>\n",
       "    </tr>\n",
       "    <tr>\n",
       "      <td>3</td>\n",
       "      <td>0.511486</td>\n",
       "      <td>0.467286</td>\n",
       "      <td>0.821900</td>\n",
       "      <td>01:14</td>\n",
       "    </tr>\n",
       "    <tr>\n",
       "      <td>4</td>\n",
       "      <td>0.507356</td>\n",
       "      <td>0.461749</td>\n",
       "      <td>0.827600</td>\n",
       "      <td>01:15</td>\n",
       "    </tr>\n",
       "    <tr>\n",
       "      <td>5</td>\n",
       "      <td>0.504167</td>\n",
       "      <td>0.457063</td>\n",
       "      <td>0.827800</td>\n",
       "      <td>01:15</td>\n",
       "    </tr>\n",
       "    <tr>\n",
       "      <td>6</td>\n",
       "      <td>0.499158</td>\n",
       "      <td>0.453443</td>\n",
       "      <td>0.827900</td>\n",
       "      <td>01:15</td>\n",
       "    </tr>\n",
       "    <tr>\n",
       "      <td>7</td>\n",
       "      <td>0.504825</td>\n",
       "      <td>0.452331</td>\n",
       "      <td>0.828800</td>\n",
       "      <td>01:15</td>\n",
       "    </tr>\n",
       "    <tr>\n",
       "      <td>8</td>\n",
       "      <td>0.491584</td>\n",
       "      <td>0.451407</td>\n",
       "      <td>0.829700</td>\n",
       "      <td>01:14</td>\n",
       "    </tr>\n",
       "    <tr>\n",
       "      <td>9</td>\n",
       "      <td>0.503734</td>\n",
       "      <td>0.451245</td>\n",
       "      <td>0.829800</td>\n",
       "      <td>01:16</td>\n",
       "    </tr>\n",
       "  </tbody>\n",
       "</table>"
      ],
      "text/plain": [
       "<IPython.core.display.HTML object>"
      ]
     },
     "metadata": {},
     "output_type": "display_data"
    }
   ],
   "source": [
    "learner.fit_one_cycle(10,2e-4)"
   ]
  }
 ],
 "metadata": {
  "kernelspec": {
   "display_name": "Python 3",
   "language": "python",
   "name": "python3"
  },
  "language_info": {
   "codemirror_mode": {
    "name": "ipython",
    "version": 3
   },
   "file_extension": ".py",
   "mimetype": "text/x-python",
   "name": "python",
   "nbconvert_exporter": "python",
   "pygments_lexer": "ipython3",
   "version": "3.9.5"
  }
 },
 "nbformat": 4,
 "nbformat_minor": 4
}
