{
 "cells": [
  {
   "cell_type": "code",
   "execution_count": 1,
   "id": "forced-emphasis",
   "metadata": {},
   "outputs": [],
   "source": [
    "import torch\n",
    "import torch.nn as nn\n",
    "\n",
    "def nin_block(in_channels, out_channels, kernel_size, strides, padding):\n",
    "    return nn.Sequential(\n",
    "        nn.Conv2d(in_channels, out_channels, kernel_size, strides, padding),\n",
    "        nn.ReLU(), nn.Conv2d(out_channels, out_channels, kernel_size=1),\n",
    "        nn.ReLU(), nn.Conv2d(out_channels, out_channels, kernel_size=1),\n",
    "        nn.ReLU()\n",
    "    )"
   ]
  },
  {
   "cell_type": "code",
   "execution_count": 2,
   "id": "enabling-irish",
   "metadata": {},
   "outputs": [],
   "source": [
    "net = nn.Sequential(\n",
    "    nin_block(1, 96, kernel_size=11, strides=4, padding=0),\n",
    "    nn.MaxPool2d(3, stride=2),\n",
    "    nin_block(96, 256, kernel_size=5, strides=1, padding=2),\n",
    "    nn.MaxPool2d(3, stride=2),\n",
    "    nin_block(256, 384, kernel_size=3, strides=1, padding=1),\n",
    "    nn.MaxPool2d(3,stride=2), nn.Dropout(0.5),\n",
    "    nin_block(384, 10, kernel_size=3, strides=1, padding=1),\n",
    "    nn.AdaptiveAvgPool2d((1,1)),\n",
    "    nn.Flatten()\n",
    ")"
   ]
  },
  {
   "cell_type": "code",
   "execution_count": 3,
   "id": "statewide-moderator",
   "metadata": {},
   "outputs": [],
   "source": [
    "X= torch.randn(1,1,224,224)\n",
    "\n",
    "def look_in_net(net, X):\n",
    "    out = X\n",
    "    for layer in net:\n",
    "        out = layer(out)\n",
    "        print(f\"For {layer.__class__.__name__} : \", out.shape)\n",
    "    "
   ]
  },
  {
   "cell_type": "code",
   "execution_count": 4,
   "id": "upset-scholar",
   "metadata": {},
   "outputs": [
    {
     "name": "stdout",
     "output_type": "stream",
     "text": [
      "For Sequential :  torch.Size([1, 96, 54, 54])\n",
      "For MaxPool2d :  torch.Size([1, 96, 26, 26])\n",
      "For Sequential :  torch.Size([1, 256, 26, 26])\n",
      "For MaxPool2d :  torch.Size([1, 256, 12, 12])\n",
      "For Sequential :  torch.Size([1, 384, 12, 12])\n",
      "For MaxPool2d :  torch.Size([1, 384, 5, 5])\n",
      "For Dropout :  torch.Size([1, 384, 5, 5])\n",
      "For Sequential :  torch.Size([1, 10, 5, 5])\n",
      "For AdaptiveAvgPool2d :  torch.Size([1, 10, 1, 1])\n",
      "For Flatten :  torch.Size([1, 10])\n"
     ]
    },
    {
     "name": "stderr",
     "output_type": "stream",
     "text": [
      "z:\\installs\\anconda\\envs\\myenv\\lib\\site-packages\\torch\\nn\\functional.py:718: UserWarning: Named tensors and all their associated APIs are an experimental feature and subject to change. Please do not use them for anything important until they are released as stable. (Triggered internally at  ..\\c10/core/TensorImpl.h:1156.)\n",
      "  return torch.max_pool2d(input, kernel_size, stride, padding, dilation, ceil_mode)\n"
     ]
    }
   ],
   "source": [
    "look_in_net(net, X)"
   ]
  },
  {
   "cell_type": "code",
   "execution_count": 15,
   "id": "limited-sister",
   "metadata": {},
   "outputs": [],
   "source": [
    "import torchvision.transforms as transforms\n",
    "from torch.utils.data import DataLoader\n",
    "import torchvision.datasets as datasets\n",
    "\n",
    "my_transforms = transforms.Compose(\n",
    "                [\n",
    "                    transforms.Resize(224),\n",
    "                    transforms.ToTensor()]\n",
    ")\n",
    "\n",
    "train_dataset = datasets.FashionMNIST(download=False,root=\"../data\", train=True, transform=my_transforms)\n",
    "test_dataset = datasets.FashionMNIST(download=False, root=\"../data\", train=False, transform=my_transforms)\n",
    "\n",
    "\n",
    "train_dataloader = DataLoader(train_dataset, batch_size=128, shuffle=True)\n",
    "test_dataloader = DataLoader(test_dataset, batch_size=128, shuffle=True)"
   ]
  },
  {
   "cell_type": "code",
   "execution_count": 16,
   "id": "comic-genealogy",
   "metadata": {},
   "outputs": [],
   "source": [
    "import matplotlib.pyplot as plt\n",
    "    \n",
    "def train_net(net,num_epochs=5, lr =0.001):\n",
    "    def accuracy(y_hat,y):\n",
    "        return (y_hat.argmax(1)==y).sum()\n",
    "    \n",
    "    def full_accuracy(net, data_iter):\n",
    "        net.eval()\n",
    "        #     device=torch.device('cuda' if torch.cuda.is_available() else 'cpu'\n",
    "        net = net.to(device)\n",
    "\n",
    "        total_acc = 0\n",
    "        total_num = 0\n",
    "        with torch.no_grad():\n",
    "            for X, y in data_iter:\n",
    "                X = X.to(device)\n",
    "                y = y.to(device)\n",
    "\n",
    "                y_hat = net(X)\n",
    "\n",
    "                total_acc += accuracy(y_hat, y)\n",
    "                total_num += y.numel()\n",
    "\n",
    "        return total_acc/total_num\n",
    "    \n",
    "    device = torch.device('cuda' if torch.cuda.is_available() else 'cpu')\n",
    "    \n",
    "    criterion = nn.CrossEntropyLoss()\n",
    "    optimizer = torch.optim.SGD(net.parameters(), lr=lr)\n",
    "    \n",
    "    \n",
    "    \n",
    "    train_loss = []\n",
    "    train_acc = []\n",
    "    test_acc = []\n",
    "\n",
    "    net= net.to(device)\n",
    "    \n",
    "    for epoch in range(num_epochs):\n",
    "        acc_value = 0\n",
    "        total_number = 0\n",
    "        total_loss= 0\n",
    "        for i, data in enumerate(train_dataloader):\n",
    "            inputs, labels = data\n",
    "            inputs = inputs.to(device)\n",
    "            labels = labels.to(device)\n",
    "\n",
    "            optimizer.zero_grad()\n",
    "\n",
    "            outputs = net(inputs)\n",
    "            loss = criterion(outputs, labels)\n",
    "            loss.backward()\n",
    "            optimizer.step()\n",
    "\n",
    "\n",
    "            total_loss += loss.item()\n",
    "            acc_value += accuracy(outputs, labels)\n",
    "            total_number += labels.numel()\n",
    "\n",
    "        with torch.no_grad():\n",
    "\n",
    "            print(f\"\\tEpoch {epoch} : Statistics: \")\n",
    "            print(f'\\tcurrent train loss : {total_loss} / {total_number} : {float(total_loss/total_number)}')\n",
    "            print(f'\\tcurrent train acc : {acc_value}/{total_number} : {float(acc_value/total_number)}')\n",
    "            print(f'\\tcurrent test acc : {float(full_accuracy(net, test_dataloader))}')\n",
    "\n",
    "\n",
    "            train_loss.append(float(total_loss/total_number))\n",
    "            test_acc.append(float(full_accuracy(net, test_dataloader)))\n",
    "            train_acc.append(float(acc_value/total_number))\n",
    "    \n",
    "    print(\"finished\")\n",
    "\n",
    "    num_epochs = num_epochs\n",
    "#     plt.plot(range(num_epochs), train_loss, label='train loss')\n",
    "    plt.plot(range(num_epochs), train_acc, label = 'train acc')\n",
    "    plt.plot(range(num_epochs), test_acc, label = 'test acc')\n",
    "    plt.grid(True)\n",
    "    plt.legend()\n",
    "    plt.show()\n",
    "    \n",
    "    plt.plot(range(num_epochs), train_loss, label='train loss')\n",
    "    plt.grid(True)\n",
    "    plt.legend()\n",
    "    plt.show()\n",
    "    \n",
    "    "
   ]
  },
  {
   "cell_type": "code",
   "execution_count": 17,
   "id": "empirical-illinois",
   "metadata": {},
   "outputs": [
    {
     "name": "stdout",
     "output_type": "stream",
     "text": [
      "\tEpoch 0 : Statistics: \n",
      "\tcurrent train loss : 1080.5132999420166 / 60000 : 0.01800855499903361\n",
      "\tcurrent train acc : 6000/60000 : 0.10000000149011612\n",
      "\tcurrent test acc : 0.09999999403953552\n",
      "\tEpoch 1 : Statistics: \n",
      "\tcurrent train loss : 1080.4649813175201 / 60000 : 0.018007749688625337\n",
      "\tcurrent train acc : 6000/60000 : 0.10000000149011612\n",
      "\tcurrent test acc : 0.09999999403953552\n",
      "\tEpoch 2 : Statistics: \n",
      "\tcurrent train loss : 1080.424013376236 / 60000 : 0.018007066889603934\n",
      "\tcurrent train acc : 6000/60000 : 0.10000000149011612\n",
      "\tcurrent test acc : 0.09999999403953552\n",
      "\tEpoch 3 : Statistics: \n",
      "\tcurrent train loss : 1080.38720536232 / 60000 : 0.01800645342270533\n",
      "\tcurrent train acc : 6000/60000 : 0.10000000149011612\n",
      "\tcurrent test acc : 0.09999999403953552\n",
      "\tEpoch 4 : Statistics: \n",
      "\tcurrent train loss : 1080.3516962528229 / 60000 : 0.018005861604213715\n",
      "\tcurrent train acc : 6000/60000 : 0.10000000149011612\n",
      "\tcurrent test acc : 0.09999999403953552\n",
      "finished\n"
     ]
    },
    {
     "data": {
      "image/png": "[encoded data removed]",
      "text/plain": [
       "<Figure size 432x288 with 1 Axes>"
      ]
     },
     "metadata": {
      "needs_background": "light"
     },
     "output_type": "display_data"
    },
    {
     "data": {
      "image/png": "[encoded data removed]",
      "text/plain": [
       "<Figure size 432x288 with 1 Axes>"
      ]
     },
     "metadata": {
      "needs_background": "light"
     },
     "output_type": "display_data"
    }
   ],
   "source": [
    "try:\n",
    "    train_net(net, lr=0.01)\n",
    "except Exception as e:\n",
    "    print(e)\n",
    "    \n",
    "# its taking a longtime lets rather try on simler network"
   ]
  },
  {
   "cell_type": "code",
   "execution_count": 8,
   "id": "native-ultimate",
   "metadata": {},
   "outputs": [],
   "source": [
    "my_transforms = transforms.Compose(\n",
    "                [\n",
    "                    transforms.ToTensor()\n",
    "                ]\n",
    ")\n",
    "\n",
    "train_dataset = datasets.FashionMNIST(download=False,root=\"../data\", train=True, transform=my_transforms)\n",
    "test_dataset = datasets.FashionMNIST(download=False, root=\"../data\", train=False, transform=my_transforms)\n",
    "\n",
    "\n",
    "train_dataloader = DataLoader(train_dataset, batch_size=128, shuffle=True)\n",
    "test_dataloader = DataLoader(test_dataset, batch_size=128, shuffle=True)"
   ]
  },
  {
   "cell_type": "code",
   "execution_count": 9,
   "id": "chronic-asthma",
   "metadata": {},
   "outputs": [],
   "source": [
    "#from : https://towardsdatascience.com/build-your-own-convolution-neural-network-in-5-mins-4217c2cf964f\n",
    "sample_net = nn.Sequential(nn.Conv2d(1, 32, kernel_size=3,padding=1),\n",
    "                    nn.ReLU(), \n",
    "                    nn.Conv2d(32, 64, kernel_size=3, padding=1),\n",
    "                    nn.ReLU(), \n",
    "                    nn.MaxPool2d(kernel_size=2),\n",
    "                    nn.Dropout(p=0.25),\n",
    "                    nn.Flatten(),\n",
    "                    nn.Linear(64 * 14 * 14, 128),nn.ReLU(), nn.Dropout(p=0.5),\n",
    "                    nn.Linear(128, 10)\n",
    "                    )"
   ]
  },
  {
   "cell_type": "code",
   "execution_count": 10,
   "id": "continuing-savings",
   "metadata": {},
   "outputs": [
    {
     "name": "stdout",
     "output_type": "stream",
     "text": [
      "For Conv2d :  torch.Size([1, 32, 28, 28])\n",
      "For ReLU :  torch.Size([1, 32, 28, 28])\n",
      "For Conv2d :  torch.Size([1, 64, 28, 28])\n",
      "For ReLU :  torch.Size([1, 64, 28, 28])\n",
      "For MaxPool2d :  torch.Size([1, 64, 14, 14])\n",
      "For Dropout :  torch.Size([1, 64, 14, 14])\n",
      "For Flatten :  torch.Size([1, 12544])\n",
      "For Linear :  torch.Size([1, 128])\n",
      "For ReLU :  torch.Size([1, 128])\n",
      "For Dropout :  torch.Size([1, 128])\n",
      "For Linear :  torch.Size([1, 10])\n"
     ]
    }
   ],
   "source": [
    "X= torch.randn(1,1,28,28)\n",
    "look_in_net(sample_net,X)"
   ]
  },
  {
   "cell_type": "code",
   "execution_count": 12,
   "id": "obvious-titanium",
   "metadata": {
    "scrolled": false
   },
   "outputs": [
    {
     "name": "stdout",
     "output_type": "stream",
     "text": [
      "\tEpoch 0 : Statistics: \n",
      "\tcurrent train loss : 303.5874216556549 / 60000 : 0.005059790360927582\n",
      "\tcurrent train acc : 46540/60000 : 0.7756666541099548\n",
      "\tcurrent test acc : 0.7734999656677246\n",
      "\tEpoch 1 : Statistics: \n",
      "\tcurrent train loss : 289.22751531004906 / 60000 : 0.004820458588500817\n",
      "\tcurrent train acc : 47055/60000 : 0.784250020980835\n",
      "\tcurrent test acc : 0.7781999707221985\n",
      "\tEpoch 2 : Statistics: \n",
      "\tcurrent train loss : 278.91721111536026 / 60000 : 0.004648620185256004\n",
      "\tcurrent train acc : 47486/60000 : 0.7914333343505859\n",
      "\tcurrent test acc : 0.7840999960899353\n",
      "\tEpoch 3 : Statistics: \n",
      "\tcurrent train loss : 270.2014508843422 / 60000 : 0.0045033575147390365\n",
      "\tcurrent train acc : 47803/60000 : 0.7967166900634766\n",
      "\tcurrent test acc : 0.7893999814987183\n",
      "\tEpoch 4 : Statistics: \n",
      "\tcurrent train loss : 263.23812195658684 / 60000 : 0.00438730203260978\n",
      "\tcurrent train acc : 48157/60000 : 0.8026166558265686\n",
      "\tcurrent test acc : 0.7938999533653259\n",
      "\tEpoch 5 : Statistics: \n",
      "\tcurrent train loss : 257.1404082477093 / 60000 : 0.004285673470795155\n",
      "\tcurrent train acc : 48377/60000 : 0.8062833547592163\n",
      "\tcurrent test acc : 0.7999999523162842\n",
      "\tEpoch 6 : Statistics: \n",
      "\tcurrent train loss : 252.11558815836906 / 60000 : 0.004201926469306151\n",
      "\tcurrent train acc : 48676/60000 : 0.8112666606903076\n",
      "\tcurrent test acc : 0.8047999739646912\n",
      "\tEpoch 7 : Statistics: \n",
      "\tcurrent train loss : 247.55414435267448 / 60000 : 0.004125902405877908\n",
      "\tcurrent train acc : 48834/60000 : 0.8138999938964844\n",
      "\tcurrent test acc : 0.798799991607666\n",
      "\tEpoch 8 : Statistics: \n",
      "\tcurrent train loss : 243.25820463895798 / 60000 : 0.0040543034106493\n",
      "\tcurrent train acc : 49032/60000 : 0.8172000050544739\n",
      "\tcurrent test acc : 0.8069999814033508\n",
      "\tEpoch 9 : Statistics: \n",
      "\tcurrent train loss : 239.9006351530552 / 60000 : 0.003998343919217586\n",
      "\tcurrent train acc : 49233/60000 : 0.8205500245094299\n",
      "\tcurrent test acc : 0.8075000047683716\n",
      "\tEpoch 10 : Statistics: \n",
      "\tcurrent train loss : 236.59501433372498 / 60000 : 0.003943250238895416\n",
      "\tcurrent train acc : 49366/60000 : 0.8227666616439819\n",
      "\tcurrent test acc : 0.8125\n",
      "\tEpoch 11 : Statistics: \n",
      "\tcurrent train loss : 233.2320478260517 / 60000 : 0.003887200797100862\n",
      "\tcurrent train acc : 49546/60000 : 0.8257666826248169\n",
      "\tcurrent test acc : 0.8150999546051025\n",
      "\tEpoch 12 : Statistics: \n",
      "\tcurrent train loss : 230.19721874594688 / 60000 : 0.003836620312432448\n",
      "\tcurrent train acc : 49677/60000 : 0.8279500007629395\n",
      "\tcurrent test acc : 0.8179000020027161\n",
      "\tEpoch 13 : Statistics: \n",
      "\tcurrent train loss : 227.63010829687119 / 60000 : 0.0037938351382811866\n",
      "\tcurrent train acc : 49770/60000 : 0.8295000195503235\n",
      "\tcurrent test acc : 0.8167999982833862\n",
      "\tEpoch 14 : Statistics: \n",
      "\tcurrent train loss : 225.08041125535965 / 60000 : 0.0037513401875893275\n",
      "\tcurrent train acc : 49955/60000 : 0.8325833678245544\n",
      "\tcurrent test acc : 0.8120999932289124\n",
      "\tEpoch 15 : Statistics: \n",
      "\tcurrent train loss : 222.88341188430786 / 60000 : 0.003714723531405131\n",
      "\tcurrent train acc : 50048/60000 : 0.8341333270072937\n",
      "\tcurrent test acc : 0.8191999793052673\n",
      "\tEpoch 16 : Statistics: \n",
      "\tcurrent train loss : 220.3342992067337 / 60000 : 0.0036722383201122284\n",
      "\tcurrent train acc : 50138/60000 : 0.8356333374977112\n",
      "\tcurrent test acc : 0.819599986076355\n",
      "\tEpoch 17 : Statistics: \n",
      "\tcurrent train loss : 218.6859723329544 / 60000 : 0.00364476620554924\n",
      "\tcurrent train acc : 50270/60000 : 0.8378333449363708\n",
      "\tcurrent test acc : 0.8224999904632568\n",
      "\tEpoch 18 : Statistics: \n",
      "\tcurrent train loss : 217.06774750351906 / 60000 : 0.0036177957917253177\n",
      "\tcurrent train acc : 50364/60000 : 0.8393999934196472\n",
      "\tcurrent test acc : 0.8245999813079834\n",
      "\tEpoch 19 : Statistics: \n",
      "\tcurrent train loss : 215.20961090922356 / 60000 : 0.0035868268484870592\n",
      "\tcurrent train acc : 50422/60000 : 0.8403666615486145\n",
      "\tcurrent test acc : 0.8247999548912048\n",
      "finished\n"
     ]
    },
    {
     "data": {
      "image/png": "[encoded data removed]",
      "text/plain": [
       "<Figure size 432x288 with 1 Axes>"
      ]
     },
     "metadata": {
      "needs_background": "light"
     },
     "output_type": "display_data"
    },
    {
     "data": {
      "image/png": "[encoded data removed]",
      "text/plain": [
       "<Figure size 432x288 with 1 Axes>"
      ]
     },
     "metadata": {
      "needs_background": "light"
     },
     "output_type": "display_data"
    }
   ],
   "source": [
    "train_net(sample_net, num_epochs=20)"
   ]
  },
  {
   "cell_type": "markdown",
   "id": "emotional-basketball",
   "metadata": {},
   "source": [
    "### Exercises\n",
    "\n",
    "1. Tune the hyperparameters to improve the classification accuracy.\n",
    "    * its not tuning based on stuff\n",
    "\n",
    "2. Why are there two 1 × 1 convolutional layers in the NiN block? Remove one of them, and then observe and analyze the experimental phenomena.\n",
    "    * Not able to train 1x1 I dunno\n",
    "    \n",
    "3. Calculate the resource usage for NiN.\n",
    "    * How do you calculate this. I have been seeing this question for past few exercises.\n",
    "    1. What is the number of parameters? \n",
    "    2. What is the amount of computation?\n",
    "    3. What is the amount of memory needed during training?\n",
    "    4. What is the amount of memory needed during prediction?\n",
    "    \n",
    "4. What are possible problems with reducing the 384 × 5 × 5 representation to a 10 × 5 × 5 representation in one step. \n",
    "\n",
    "    * the size would lead to certain problems likelosing intermediate conv layer info.\n"
   ]
  }
 ],
 "metadata": {
  "kernelspec": {
   "display_name": "Python 3",
   "language": "python",
   "name": "python3"
  },
  "language_info": {
   "codemirror_mode": {
    "name": "ipython",
    "version": 3
   },
   "file_extension": ".py",
   "mimetype": "text/x-python",
   "name": "python",
   "nbconvert_exporter": "python",
   "pygments_lexer": "ipython3",
   "version": "3.9.5"
  }
 },
 "nbformat": 4,
 "nbformat_minor": 5
}
