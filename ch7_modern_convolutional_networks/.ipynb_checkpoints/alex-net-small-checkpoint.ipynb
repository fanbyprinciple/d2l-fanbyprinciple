{
 "cells": [
  {
   "cell_type": "code",
   "execution_count": 1,
   "metadata": {
    "_cell_guid": "b1076dfc-b9ad-4769-8c92-a6c4dae69d19",
    "_uuid": "8f2839f25d086af736a60e9eeb907d3b93b6e0e5",
    "execution": {
     "iopub.execute_input": "2021-09-01T01:43:50.001887Z",
     "iopub.status.busy": "2021-09-01T01:43:50.001105Z",
     "iopub.status.idle": "2021-09-01T01:43:51.232717Z",
     "shell.execute_reply": "2021-09-01T01:43:51.231689Z",
     "shell.execute_reply.started": "2021-09-01T01:43:50.001726Z"
    }
   },
   "outputs": [],
   "source": [
    "import torch\n",
    "import torch.nn as nn"
   ]
  },
  {
   "cell_type": "code",
   "execution_count": 2,
   "metadata": {
    "execution": {
     "iopub.execute_input": "2021-09-01T01:43:51.237441Z",
     "iopub.status.busy": "2021-09-01T01:43:51.237076Z",
     "iopub.status.idle": "2021-09-01T01:43:51.274683Z",
     "shell.execute_reply": "2021-09-01T01:43:51.273568Z",
     "shell.execute_reply.started": "2021-09-01T01:43:51.237406Z"
    }
   },
   "outputs": [],
   "source": [
    "# trying alexnet\n",
    "\n",
    "alex_net = nn.Sequential(\n",
    "            nn.Conv2d(1,96,kernel_size=4, padding=1, stride=2),nn.ReLU(),\n",
    "            nn.MaxPool2d(kernel_size=3, stride=2),nn.Flatten(),\n",
    "            nn.Linear(3456, 120), nn.ReLU(), nn.Dropout(p=0.5),\n",
    "            nn.Linear(120, 10)\n",
    ")"
   ]
  },
  {
   "cell_type": "code",
   "execution_count": 3,
   "metadata": {
    "execution": {
     "iopub.execute_input": "2021-09-01T01:43:51.276801Z",
     "iopub.status.busy": "2021-09-01T01:43:51.276446Z",
     "iopub.status.idle": "2021-09-01T01:43:51.293033Z",
     "shell.execute_reply": "2021-09-01T01:43:51.292062Z",
     "shell.execute_reply.started": "2021-09-01T01:43:51.276767Z"
    }
   },
   "outputs": [
    {
     "data": {
      "text/plain": [
       "torch.Size([1, 1, 28, 28])"
      ]
     },
     "execution_count": 3,
     "metadata": {},
     "output_type": "execute_result"
    }
   ],
   "source": [
    "X = torch.randn(1,1,28,28)\n",
    "X.shape"
   ]
  },
  {
   "cell_type": "code",
   "execution_count": 4,
   "metadata": {
    "execution": {
     "iopub.execute_input": "2021-09-01T01:43:51.295652Z",
     "iopub.status.busy": "2021-09-01T01:43:51.295175Z",
     "iopub.status.idle": "2021-09-01T01:43:51.301217Z",
     "shell.execute_reply": "2021-09-01T01:43:51.299816Z",
     "shell.execute_reply.started": "2021-09-01T01:43:51.295583Z"
    }
   },
   "outputs": [],
   "source": [
    "def look_at_net(net, X):\n",
    "    \n",
    "    for layer in net:\n",
    "        X = layer(X)\n",
    "        print(f' For {layer.__class__.__name__}, shape : {X.shape}')"
   ]
  },
  {
   "cell_type": "code",
   "execution_count": 5,
   "metadata": {
    "execution": {
     "iopub.execute_input": "2021-09-01T01:43:51.303821Z",
     "iopub.status.busy": "2021-09-01T01:43:51.303125Z",
     "iopub.status.idle": "2021-09-01T01:43:51.405898Z",
     "shell.execute_reply": "2021-09-01T01:43:51.404872Z",
     "shell.execute_reply.started": "2021-09-01T01:43:51.303776Z"
    }
   },
   "outputs": [
    {
     "name": "stdout",
     "output_type": "stream",
     "text": [
      " For Conv2d, shape : torch.Size([1, 96, 14, 14])\n",
      " For ReLU, shape : torch.Size([1, 96, 14, 14])\n",
      " For MaxPool2d, shape : torch.Size([1, 96, 6, 6])\n",
      " For Flatten, shape : torch.Size([1, 3456])\n",
      " For Linear, shape : torch.Size([1, 120])\n",
      " For ReLU, shape : torch.Size([1, 120])\n",
      " For Dropout, shape : torch.Size([1, 120])\n",
      " For Linear, shape : torch.Size([1, 10])\n"
     ]
    }
   ],
   "source": [
    "look_at_net(alex_net, X)"
   ]
  },
  {
   "cell_type": "code",
   "execution_count": 6,
   "metadata": {
    "execution": {
     "iopub.execute_input": "2021-09-01T01:43:51.407588Z",
     "iopub.status.busy": "2021-09-01T01:43:51.407278Z",
     "iopub.status.idle": "2021-09-01T01:43:57.730717Z",
     "shell.execute_reply": "2021-09-01T01:43:57.729769Z",
     "shell.execute_reply.started": "2021-09-01T01:43:51.407556Z"
    }
   },
   "outputs": [
    {
     "name": "stdout",
     "output_type": "stream",
     "text": [
      "Downloading http://fashion-mnist.s3-website.eu-central-1.amazonaws.com/train-images-idx3-ubyte.gz to ../data/FashionMNIST/raw/train-images-idx3-ubyte.gz\n"
     ]
    },
    {
     "data": {
      "application/vnd.jupyter.widget-view+json": {
       "model_id": "a6c7b8307448427c814b96b3091a00d5",
       "version_major": 2,
       "version_minor": 0
      },
      "text/plain": [
       "0it [00:00, ?it/s]"
      ]
     },
     "metadata": {},
     "output_type": "display_data"
    },
    {
     "name": "stdout",
     "output_type": "stream",
     "text": [
      "Extracting ../data/FashionMNIST/raw/train-images-idx3-ubyte.gz to ../data/FashionMNIST/raw\n",
      "Downloading http://fashion-mnist.s3-website.eu-central-1.amazonaws.com/train-labels-idx1-ubyte.gz to ../data/FashionMNIST/raw/train-labels-idx1-ubyte.gz\n"
     ]
    },
    {
     "data": {
      "application/vnd.jupyter.widget-view+json": {
       "model_id": "1c7399b1574141df9a004ec98b42f265",
       "version_major": 2,
       "version_minor": 0
      },
      "text/plain": [
       "0it [00:00, ?it/s]"
      ]
     },
     "metadata": {},
     "output_type": "display_data"
    },
    {
     "name": "stdout",
     "output_type": "stream",
     "text": [
      "Extracting ../data/FashionMNIST/raw/train-labels-idx1-ubyte.gz to ../data/FashionMNIST/raw\n",
      "Downloading http://fashion-mnist.s3-website.eu-central-1.amazonaws.com/t10k-images-idx3-ubyte.gz to ../data/FashionMNIST/raw/t10k-images-idx3-ubyte.gz\n"
     ]
    },
    {
     "data": {
      "application/vnd.jupyter.widget-view+json": {
       "model_id": "75c185f2ac84461583505ea5d2f01e95",
       "version_major": 2,
       "version_minor": 0
      },
      "text/plain": [
       "0it [00:00, ?it/s]"
      ]
     },
     "metadata": {},
     "output_type": "display_data"
    },
    {
     "name": "stdout",
     "output_type": "stream",
     "text": [
      "Extracting ../data/FashionMNIST/raw/t10k-images-idx3-ubyte.gz to ../data/FashionMNIST/raw\n",
      "Downloading http://fashion-mnist.s3-website.eu-central-1.amazonaws.com/t10k-labels-idx1-ubyte.gz to ../data/FashionMNIST/raw/t10k-labels-idx1-ubyte.gz\n"
     ]
    },
    {
     "data": {
      "application/vnd.jupyter.widget-view+json": {
       "model_id": "b07e4904e2374fb591a1b55fb3659c18",
       "version_major": 2,
       "version_minor": 0
      },
      "text/plain": [
       "0it [00:00, ?it/s]"
      ]
     },
     "metadata": {},
     "output_type": "display_data"
    },
    {
     "name": "stdout",
     "output_type": "stream",
     "text": [
      "Extracting ../data/FashionMNIST/raw/t10k-labels-idx1-ubyte.gz to ../data/FashionMNIST/raw\n",
      "Processing...\n",
      "Done!\n"
     ]
    },
    {
     "name": "stderr",
     "output_type": "stream",
     "text": [
      "/opt/conda/lib/python3.7/site-packages/torchvision/datasets/mnist.py:480: UserWarning: The given NumPy array is not writeable, and PyTorch does not support non-writeable tensors. This means you can write to the underlying (supposedly non-writeable) NumPy array using the tensor. You may want to copy the array to protect its data or make it writeable before converting it to a tensor. This type of warning will be suppressed for the rest of this program. (Triggered internally at  /opt/conda/conda-bld/pytorch_1603729141890/work/torch/csrc/utils/tensor_numpy.cpp:141.)\n",
      "  return torch.from_numpy(parsed.astype(m[2], copy=False)).view(*s)\n"
     ]
    }
   ],
   "source": [
    "# Reading the dataset\n",
    "batch_size = 128\n",
    "\n",
    "# we will be resizing the dataset offashion mnist so that it fits alex nets\n",
    "\n",
    "import torchvision.transforms as transforms\n",
    "from torch.utils.data import DataLoader\n",
    "import torchvision.datasets as datasets\n",
    "\n",
    "\n",
    "my_transforms = transforms.Compose(\n",
    "                [transforms.ToTensor()]\n",
    ")\n",
    "\n",
    "train_dataset = datasets.FashionMNIST(download=True,root=\"../data\", train=True, transform=my_transforms)\n",
    "test_dataset = datasets.FashionMNIST(download=True, root=\"../data\", train=False, transform=my_transforms)\n",
    "\n",
    "\n",
    "train_dataloader = DataLoader(train_dataset, batch_size=batch_size, shuffle=True)\n",
    "test_dataloader = DataLoader(test_dataset, batch_size=batch_size, shuffle=True)"
   ]
  },
  {
   "cell_type": "code",
   "execution_count": 7,
   "metadata": {
    "execution": {
     "iopub.execute_input": "2021-09-01T01:43:57.732839Z",
     "iopub.status.busy": "2021-09-01T01:43:57.732147Z",
     "iopub.status.idle": "2021-09-01T01:43:57.738905Z",
     "shell.execute_reply": "2021-09-01T01:43:57.737681Z",
     "shell.execute_reply.started": "2021-09-01T01:43:57.732790Z"
    }
   },
   "outputs": [],
   "source": [
    "criterion = nn.CrossEntropyLoss()\n",
    "optimizer = torch.optim.SGD(alex_net.parameters(), lr = 0.001, momentum=0.9)"
   ]
  },
  {
   "cell_type": "code",
   "execution_count": 8,
   "metadata": {
    "execution": {
     "iopub.execute_input": "2021-09-01T01:43:57.742539Z",
     "iopub.status.busy": "2021-09-01T01:43:57.742065Z",
     "iopub.status.idle": "2021-09-01T01:43:57.750961Z",
     "shell.execute_reply": "2021-09-01T01:43:57.749919Z",
     "shell.execute_reply.started": "2021-09-01T01:43:57.742490Z"
    }
   },
   "outputs": [],
   "source": [
    "def accuracy(y_hat,y):\n",
    "    return (y_hat.argmax(1)==y).sum()"
   ]
  },
  {
   "cell_type": "code",
   "execution_count": 9,
   "metadata": {
    "execution": {
     "iopub.execute_input": "2021-09-01T01:43:57.752833Z",
     "iopub.status.busy": "2021-09-01T01:43:57.752467Z",
     "iopub.status.idle": "2021-09-01T01:43:57.761773Z",
     "shell.execute_reply": "2021-09-01T01:43:57.760799Z",
     "shell.execute_reply.started": "2021-09-01T01:43:57.752796Z"
    }
   },
   "outputs": [],
   "source": [
    "device = torch.device('cuda' if torch.cuda.is_available() else 'cpu')"
   ]
  },
  {
   "cell_type": "code",
   "execution_count": 10,
   "metadata": {
    "execution": {
     "iopub.execute_input": "2021-09-01T01:43:57.763670Z",
     "iopub.status.busy": "2021-09-01T01:43:57.763201Z",
     "iopub.status.idle": "2021-09-01T01:43:57.772741Z",
     "shell.execute_reply": "2021-09-01T01:43:57.771721Z",
     "shell.execute_reply.started": "2021-09-01T01:43:57.763635Z"
    }
   },
   "outputs": [],
   "source": [
    "def full_accuracy(net, data_iter):\n",
    "    net.eval()\n",
    "#     device=torch.device('cuda' if torch.cuda.is_available() else 'cpu'\n",
    "    net = net.to(device)\n",
    "    \n",
    "    total_acc = 0\n",
    "    total_num = 0\n",
    "    with torch.no_grad():\n",
    "        for X, y in data_iter:\n",
    "            X = X.to(device)\n",
    "            y = y.to(device)\n",
    "\n",
    "            y_hat = net(X)\n",
    "\n",
    "            total_acc += accuracy(y_hat, y)\n",
    "            total_num += y.numel()\n",
    "    \n",
    "    return total_acc/total_num"
   ]
  },
  {
   "cell_type": "code",
   "execution_count": 11,
   "metadata": {
    "execution": {
     "iopub.execute_input": "2021-09-01T01:43:57.774749Z",
     "iopub.status.busy": "2021-09-01T01:43:57.774143Z",
     "iopub.status.idle": "2021-09-01T01:43:57.786055Z",
     "shell.execute_reply": "2021-09-01T01:43:57.784913Z",
     "shell.execute_reply.started": "2021-09-01T01:43:57.774701Z"
    }
   },
   "outputs": [],
   "source": [
    "def train_net(net):\n",
    "    \n",
    "    train_loss = []\n",
    "    train_acc = []\n",
    "    test_acc = []\n",
    "    num_epochs=10\n",
    "\n",
    "    net= net.to(device)\n",
    "    for epoch in range(num_epochs):\n",
    "\n",
    "        acc_value = 0\n",
    "        total_number = 0\n",
    "        total_loss= 0\n",
    "        for i, data in enumerate(train_dataloader):\n",
    "            inputs, labels = data\n",
    "            inputs = inputs.to(device)\n",
    "            labels = labels.to(device)\n",
    "\n",
    "            optimizer.zero_grad()\n",
    "\n",
    "            outputs = net(inputs)\n",
    "            loss = criterion(outputs, labels)\n",
    "            loss.backward()\n",
    "            optimizer.step()\n",
    "\n",
    "\n",
    "            total_loss += loss.item()\n",
    "            acc_value += accuracy(outputs, labels)\n",
    "            total_number += labels.numel()\n",
    "\n",
    "        with torch.no_grad():\n",
    "\n",
    "            print(f\"\\tEpoch {epoch} : Statistics: \")\n",
    "            print(f'\\tcurrent train loss : {float(total_loss/total_number)}')\n",
    "            print(f'\\tcurrent train acc : {float(acc_value/total_number)}')\n",
    "            print(f'\\tcurrent test acc : {float(full_accuracy(net, test_dataloader))}')\n",
    "\n",
    "\n",
    "            train_loss.append(float(total_loss/total_number))\n",
    "            test_acc.append(float(full_accuracy(net, test_dataloader)))\n",
    "            train_acc.append(float(acc_value/total_number))\n",
    "    \n",
    "    return train_loss, test_acc, train_acc\n",
    "\n",
    "        "
   ]
  },
  {
   "cell_type": "code",
   "execution_count": 12,
   "metadata": {
    "execution": {
     "iopub.execute_input": "2021-09-01T01:43:57.787949Z",
     "iopub.status.busy": "2021-09-01T01:43:57.787519Z",
     "iopub.status.idle": "2021-09-01T01:49:10.763344Z",
     "shell.execute_reply": "2021-09-01T01:49:10.762300Z",
     "shell.execute_reply.started": "2021-09-01T01:43:57.787907Z"
    }
   },
   "outputs": [
    {
     "name": "stdout",
     "output_type": "stream",
     "text": [
      "\tEpoch 0 : Statistics: \n",
      "\tcurrent train loss : 0.011866307868560156\n",
      "\tcurrent train acc : 0.48144999146461487\n",
      "\tcurrent test acc : 0.6798999905586243\n",
      "\tEpoch 1 : Statistics: \n",
      "\tcurrent train loss : 0.0062104580183823905\n",
      "\tcurrent train acc : 0.7237666845321655\n",
      "\tcurrent test acc : 0.7294999957084656\n",
      "\tEpoch 2 : Statistics: \n",
      "\tcurrent train loss : 0.005231521392862002\n",
      "\tcurrent train acc : 0.7557333111763\n",
      "\tcurrent test acc : 0.7516000270843506\n",
      "\tEpoch 3 : Statistics: \n",
      "\tcurrent train loss : 0.004757832536101341\n",
      "\tcurrent train acc : 0.7741333246231079\n",
      "\tcurrent test acc : 0.7750999927520752\n",
      "\tEpoch 4 : Statistics: \n",
      "\tcurrent train loss : 0.0044316852514942485\n",
      "\tcurrent train acc : 0.7902833223342896\n",
      "\tcurrent test acc : 0.791100025177002\n",
      "\tEpoch 5 : Statistics: \n",
      "\tcurrent train loss : 0.0041778710881869\n",
      "\tcurrent train acc : 0.8049333095550537\n",
      "\tcurrent test acc : 0.8043000102043152\n",
      "\tEpoch 6 : Statistics: \n",
      "\tcurrent train loss : 0.003977500350276629\n",
      "\tcurrent train acc : 0.815850019454956\n",
      "\tcurrent test acc : 0.8151000142097473\n",
      "\tEpoch 7 : Statistics: \n",
      "\tcurrent train loss : 0.0038084697609146435\n",
      "\tcurrent train acc : 0.8265833258628845\n",
      "\tcurrent test acc : 0.821399986743927\n",
      "\tEpoch 8 : Statistics: \n",
      "\tcurrent train loss : 0.0036650457128882406\n",
      "\tcurrent train acc : 0.8338500261306763\n",
      "\tcurrent test acc : 0.8277000188827515\n",
      "\tEpoch 9 : Statistics: \n",
      "\tcurrent train loss : 0.0035267324050267538\n",
      "\tcurrent train acc : 0.8409500122070312\n",
      "\tcurrent test acc : 0.8392000198364258\n"
     ]
    }
   ],
   "source": [
    "train_loss, test_acc, train_acc = train_net(alex_net)\n",
    "\n"
   ]
  },
  {
   "cell_type": "code",
   "execution_count": 13,
   "metadata": {
    "execution": {
     "iopub.execute_input": "2021-09-01T01:49:10.765392Z",
     "iopub.status.busy": "2021-09-01T01:49:10.764859Z",
     "iopub.status.idle": "2021-09-01T01:49:10.963000Z",
     "shell.execute_reply": "2021-09-01T01:49:10.961835Z",
     "shell.execute_reply.started": "2021-09-01T01:49:10.765358Z"
    }
   },
   "outputs": [
    {
     "name": "stdout",
     "output_type": "stream",
     "text": [
      "finished\n"
     ]
    },
    {
     "data": {
      "image/png": "[encoded data removed]",
      "text/plain": [
       "<Figure size 432x288 with 1 Axes>"
      ]
     },
     "metadata": {
      "needs_background": "light"
     },
     "output_type": "display_data"
    }
   ],
   "source": [
    "print(\"finished\")\n",
    "\n",
    "import matplotlib.pyplot as plt\n",
    "num_epochs = 10\n",
    "plt.plot(range(num_epochs), train_loss, label='train loss')\n",
    "plt.plot(range(num_epochs), train_acc, label = 'train acc')\n",
    "plt.plot(range(num_epochs), test_acc, label = 'test acc')\n",
    "plt.grid(True)\n",
    "plt.legend()\n",
    "plt.show()"
   ]
  },
  {
   "cell_type": "code",
   "execution_count": null,
   "metadata": {},
   "outputs": [],
   "source": []
  }
 ],
 "metadata": {
  "kernelspec": {
   "display_name": "Python 3",
   "language": "python",
   "name": "python3"
  },
  "language_info": {
   "codemirror_mode": {
    "name": "ipython",
    "version": 3
   },
   "file_extension": ".py",
   "mimetype": "text/x-python",
   "name": "python",
   "nbconvert_exporter": "python",
   "pygments_lexer": "ipython3",
   "version": "3.9.5"
  }
 },
 "nbformat": 4,
 "nbformat_minor": 4
}
