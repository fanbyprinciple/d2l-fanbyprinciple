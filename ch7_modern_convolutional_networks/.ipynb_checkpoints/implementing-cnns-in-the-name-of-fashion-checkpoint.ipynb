{
 "cells": [
  {
   "cell_type": "code",
   "execution_count": 29,
   "metadata": {
    "_cell_guid": "b1076dfc-b9ad-4769-8c92-a6c4dae69d19",
    "_uuid": "8f2839f25d086af736a60e9eeb907d3b93b6e0e5",
    "execution": {
     "iopub.execute_input": "2021-08-30T06:46:13.329988Z",
     "iopub.status.busy": "2021-08-30T06:46:13.329631Z",
     "iopub.status.idle": "2021-08-30T06:46:13.335060Z",
     "shell.execute_reply": "2021-08-30T06:46:13.333907Z",
     "shell.execute_reply.started": "2021-08-30T06:46:13.329959Z"
    }
   },
   "outputs": [],
   "source": [
    "import torch\n",
    "from torch import nn"
   ]
  },
  {
   "cell_type": "code",
   "execution_count": 30,
   "metadata": {
    "execution": {
     "iopub.execute_input": "2021-08-30T06:46:13.338731Z",
     "iopub.status.busy": "2021-08-30T06:46:13.338100Z",
     "iopub.status.idle": "2021-08-30T06:46:13.356194Z",
     "shell.execute_reply": "2021-08-30T06:46:13.354485Z",
     "shell.execute_reply.started": "2021-08-30T06:46:13.338639Z"
    }
   },
   "outputs": [],
   "source": [
    "# #code to free up gpu\n",
    "# !pip install GPUtil\n",
    "\n",
    "# from GPUtil import showUtilization as gpu_usage\n",
    "# from numba import cuda\n",
    "\n",
    "# def free_gpu_cache():\n",
    "#     print(\"Initial GPU Usage\")\n",
    "#     gpu_usage()                             \n",
    "\n",
    "#     torch.cuda.empty_cache()\n",
    "\n",
    "#     cuda.select_device(0)\n",
    "#     cuda.close()\n",
    "#     cuda.select_device(0)\n",
    "\n",
    "#     print(\"GPU Usage after emptying the cache\")\n",
    "#     gpu_usage()\n",
    "\n",
    "# free_gpu_cache()         "
   ]
  },
  {
   "cell_type": "code",
   "execution_count": 31,
   "metadata": {
    "execution": {
     "iopub.execute_input": "2021-08-30T06:46:13.358344Z",
     "iopub.status.busy": "2021-08-30T06:46:13.357963Z",
     "iopub.status.idle": "2021-08-30T06:46:13.372338Z",
     "shell.execute_reply": "2021-08-30T06:46:13.371658Z",
     "shell.execute_reply.started": "2021-08-30T06:46:13.358306Z"
    }
   },
   "outputs": [],
   "source": [
    "device = torch.device('cuda' if torch.cuda.is_available() else 'cpu')"
   ]
  },
  {
   "cell_type": "code",
   "execution_count": 32,
   "metadata": {
    "execution": {
     "iopub.execute_input": "2021-08-30T06:46:13.375174Z",
     "iopub.status.busy": "2021-08-30T06:46:13.374884Z",
     "iopub.status.idle": "2021-08-30T06:46:13.667080Z",
     "shell.execute_reply": "2021-08-30T06:46:13.666210Z",
     "shell.execute_reply.started": "2021-08-30T06:46:13.375149Z"
    }
   },
   "outputs": [],
   "source": [
    "# all these numbers and layers are defined in alexnet implementation\n",
    "alexnet = nn.Sequential(\n",
    "            nn.Conv2d(1, 96, kernel_size=11, stride=4), nn.ReLU(),\n",
    "            nn.MaxPool2d(kernel_size=3, stride=2),\n",
    "            nn.Conv2d(96, 256, kernel_size=5, padding=2),\n",
    "            nn.MaxPool2d(kernel_size=3, stride=2),\n",
    "            nn.Conv2d(256, 386, kernel_size=3, padding=1),nn.ReLU(),\n",
    "            nn.Conv2d(386, 386, kernel_size=3, padding=1),nn.ReLU(),\n",
    "            nn.Conv2d(386, 256, kernel_size=3, padding=1),nn.ReLU(),\n",
    "            nn.MaxPool2d(kernel_size=3, stride=2),nn.Flatten(),\n",
    "            \n",
    "            # best way to get this 6400 is after adding flatten just check for the size of tensor returned after flatten layer\n",
    "            nn.Linear(6400, 4096), nn.ReLU(), nn.Dropout(p=0.5),\n",
    "            nn.Linear(4096, 4096), nn.ReLU(), nn.Dropout(p=0.5),\n",
    "            nn.Linear(4096, 10)\n",
    ")"
   ]
  },
  {
   "cell_type": "code",
   "execution_count": 33,
   "metadata": {
    "execution": {
     "iopub.execute_input": "2021-08-30T06:46:13.668473Z",
     "iopub.status.busy": "2021-08-30T06:46:13.668254Z",
     "iopub.status.idle": "2021-08-30T06:46:13.675156Z",
     "shell.execute_reply": "2021-08-30T06:46:13.674002Z",
     "shell.execute_reply.started": "2021-08-30T06:46:13.668449Z"
    }
   },
   "outputs": [
    {
     "data": {
      "text/plain": [
       "torch.Size([1, 1, 224, 224])"
      ]
     },
     "execution_count": 33,
     "metadata": {},
     "output_type": "execute_result"
    }
   ],
   "source": [
    "X =  torch.randn(1,1,224,224)\n",
    "X.shape"
   ]
  },
  {
   "cell_type": "code",
   "execution_count": 34,
   "metadata": {
    "execution": {
     "iopub.execute_input": "2021-08-30T06:46:13.676835Z",
     "iopub.status.busy": "2021-08-30T06:46:13.676549Z",
     "iopub.status.idle": "2021-08-30T06:46:13.725758Z",
     "shell.execute_reply": "2021-08-30T06:46:13.724364Z",
     "shell.execute_reply.started": "2021-08-30T06:46:13.676811Z"
    }
   },
   "outputs": [
    {
     "data": {
      "text/plain": [
       "tensor([[-0.0083, -0.0040, -0.0112, -0.0066, -0.0162, -0.0061,  0.0029,  0.0082,\n",
       "         -0.0006, -0.0167]])"
      ]
     },
     "execution_count": 34,
     "metadata": {},
     "output_type": "execute_result"
    }
   ],
   "source": [
    "alexnet(X).detach()"
   ]
  },
  {
   "cell_type": "code",
   "execution_count": 35,
   "metadata": {
    "execution": {
     "iopub.execute_input": "2021-08-30T06:46:13.727544Z",
     "iopub.status.busy": "2021-08-30T06:46:13.727206Z",
     "iopub.status.idle": "2021-08-30T06:46:13.732661Z",
     "shell.execute_reply": "2021-08-30T06:46:13.731520Z",
     "shell.execute_reply.started": "2021-08-30T06:46:13.727511Z"
    }
   },
   "outputs": [],
   "source": [
    "# lets look at each layer\n",
    "\n",
    "def look_at_net(net, X):\n",
    "    \n",
    "    for layer in net:\n",
    "        X = layer(X)\n",
    "        print(f' For {layer.__class__.__name__}, shape : {X.shape}')"
   ]
  },
  {
   "cell_type": "code",
   "execution_count": 36,
   "metadata": {
    "execution": {
     "iopub.execute_input": "2021-08-30T06:46:13.734013Z",
     "iopub.status.busy": "2021-08-30T06:46:13.733777Z",
     "iopub.status.idle": "2021-08-30T06:46:13.797571Z",
     "shell.execute_reply": "2021-08-30T06:46:13.795924Z",
     "shell.execute_reply.started": "2021-08-30T06:46:13.733990Z"
    }
   },
   "outputs": [
    {
     "name": "stdout",
     "output_type": "stream",
     "text": [
      " For Conv2d, shape : torch.Size([1, 96, 54, 54])\n",
      " For ReLU, shape : torch.Size([1, 96, 54, 54])\n",
      " For MaxPool2d, shape : torch.Size([1, 96, 26, 26])\n",
      " For Conv2d, shape : torch.Size([1, 256, 26, 26])\n",
      " For MaxPool2d, shape : torch.Size([1, 256, 12, 12])\n",
      " For Conv2d, shape : torch.Size([1, 386, 12, 12])\n",
      " For ReLU, shape : torch.Size([1, 386, 12, 12])\n",
      " For Conv2d, shape : torch.Size([1, 386, 12, 12])\n",
      " For ReLU, shape : torch.Size([1, 386, 12, 12])\n",
      " For Conv2d, shape : torch.Size([1, 256, 12, 12])\n",
      " For ReLU, shape : torch.Size([1, 256, 12, 12])\n",
      " For MaxPool2d, shape : torch.Size([1, 256, 5, 5])\n",
      " For Flatten, shape : torch.Size([1, 6400])\n",
      " For Linear, shape : torch.Size([1, 4096])\n",
      " For ReLU, shape : torch.Size([1, 4096])\n",
      " For Dropout, shape : torch.Size([1, 4096])\n",
      " For Linear, shape : torch.Size([1, 4096])\n",
      " For ReLU, shape : torch.Size([1, 4096])\n",
      " For Dropout, shape : torch.Size([1, 4096])\n",
      " For Linear, shape : torch.Size([1, 10])\n"
     ]
    }
   ],
   "source": [
    "look_at_net(alexnet, X)"
   ]
  },
  {
   "cell_type": "code",
   "execution_count": 37,
   "metadata": {
    "execution": {
     "iopub.execute_input": "2021-08-30T06:46:13.799390Z",
     "iopub.status.busy": "2021-08-30T06:46:13.799097Z",
     "iopub.status.idle": "2021-08-30T06:46:13.804218Z",
     "shell.execute_reply": "2021-08-30T06:46:13.802873Z",
     "shell.execute_reply.started": "2021-08-30T06:46:13.799361Z"
    }
   },
   "outputs": [],
   "source": [
    "# lets get the fashionmnist dataset\n",
    "\n",
    "from torch.utils.data import Dataset, DataLoader"
   ]
  },
  {
   "cell_type": "code",
   "execution_count": 38,
   "metadata": {
    "execution": {
     "iopub.execute_input": "2021-08-30T06:46:13.807365Z",
     "iopub.status.busy": "2021-08-30T06:46:13.807084Z",
     "iopub.status.idle": "2021-08-30T06:46:18.914025Z",
     "shell.execute_reply": "2021-08-30T06:46:18.912826Z",
     "shell.execute_reply.started": "2021-08-30T06:46:13.807337Z"
    }
   },
   "outputs": [],
   "source": [
    "import pandas as pd\n",
    "import torchvision.transforms as transforms\n",
    "\n",
    "df = pd.read_csv(\"../input/fashionmnist/fashion-mnist_train.csv\").head()"
   ]
  },
  {
   "cell_type": "code",
   "execution_count": 39,
   "metadata": {
    "execution": {
     "iopub.execute_input": "2021-08-30T06:46:18.916620Z",
     "iopub.status.busy": "2021-08-30T06:46:18.916300Z",
     "iopub.status.idle": "2021-08-30T06:46:18.927528Z",
     "shell.execute_reply": "2021-08-30T06:46:18.926219Z",
     "shell.execute_reply.started": "2021-08-30T06:46:18.916564Z"
    }
   },
   "outputs": [
    {
     "data": {
      "text/plain": [
       "((5, 784), (5,))"
      ]
     },
     "execution_count": 39,
     "metadata": {},
     "output_type": "execute_result"
    }
   ],
   "source": [
    "X = df.iloc[:, 1:]\n",
    "y = df.iloc[:, 0]\n",
    "\n",
    "X.shape, y.shape"
   ]
  },
  {
   "cell_type": "code",
   "execution_count": 40,
   "metadata": {
    "execution": {
     "iopub.execute_input": "2021-08-30T06:46:18.929348Z",
     "iopub.status.busy": "2021-08-30T06:46:18.928981Z",
     "iopub.status.idle": "2021-08-30T06:46:18.948937Z",
     "shell.execute_reply": "2021-08-30T06:46:18.947710Z",
     "shell.execute_reply.started": "2021-08-30T06:46:18.929311Z"
    }
   },
   "outputs": [
    {
     "data": {
      "text/plain": [
       "(pixel1      0\n",
       " pixel2      0\n",
       " pixel3      0\n",
       " pixel4      0\n",
       " pixel5      0\n",
       "            ..\n",
       " pixel780    0\n",
       " pixel781    0\n",
       " pixel782    0\n",
       " pixel783    0\n",
       " pixel784    0\n",
       " Name: 0, Length: 784, dtype: int64,\n",
       " 2)"
      ]
     },
     "execution_count": 40,
     "metadata": {},
     "output_type": "execute_result"
    }
   ],
   "source": [
    "X.iloc[0], y.iloc[0]"
   ]
  },
  {
   "cell_type": "code",
   "execution_count": 41,
   "metadata": {
    "execution": {
     "iopub.execute_input": "2021-08-30T06:46:18.950396Z",
     "iopub.status.busy": "2021-08-30T06:46:18.950160Z",
     "iopub.status.idle": "2021-08-30T06:46:18.965655Z",
     "shell.execute_reply": "2021-08-30T06:46:18.963977Z",
     "shell.execute_reply.started": "2021-08-30T06:46:18.950372Z"
    }
   },
   "outputs": [],
   "source": [
    "# lets implement some helper functions for training this network\n",
    "\n",
    "\n",
    "\n",
    "my_transforms = transforms.Compose([\n",
    "    transforms.Resize((224, 224)),\n",
    "])\n",
    "\n",
    "class fashion_dataset(Dataset):\n",
    "    def __init__(self,data_path=\"../input/fashionmnist/fashion-mnist_train.csv\", transforms=my_transforms, subset_length=2000):\n",
    "        if subset_length:\n",
    "            self.input_df = pd.read_csv(data_path)[:subset_length]\n",
    "        else :\n",
    "            self.input_df = pd.read_csv(data_path)\n",
    "        self.len = len(self.input_df)\n",
    "        self.transform = transforms\n",
    "\n",
    "        self.x  = torch.from_numpy(self.input_df.iloc[:,1:].values)\n",
    "        self.x = self.x.reshape(self.x.size(0), 1, 28,28).float()\n",
    "        \n",
    "        self.y = torch.from_numpy(self.input_df.iloc[:,0].values).long()\n",
    "        \n",
    "    def __len__(self):\n",
    "        return self.len\n",
    "    \n",
    "    def __getitem__(self, index):\n",
    "        x_item = self.x[index]\n",
    "        y_item = self.y[index]\n",
    "        \n",
    "        if (self.transform):\n",
    "            x_item = self.transform(x_item)\n",
    "               \n",
    "        return x_item, y_item  \n",
    "        "
   ]
  },
  {
   "cell_type": "code",
   "execution_count": 42,
   "metadata": {
    "execution": {
     "iopub.execute_input": "2021-08-30T06:46:18.967709Z",
     "iopub.status.busy": "2021-08-30T06:46:18.967206Z",
     "iopub.status.idle": "2021-08-30T06:46:21.747133Z",
     "shell.execute_reply": "2021-08-30T06:46:21.745676Z",
     "shell.execute_reply.started": "2021-08-30T06:46:18.967496Z"
    }
   },
   "outputs": [],
   "source": [
    "train_dataset = fashion_dataset()"
   ]
  },
  {
   "cell_type": "code",
   "execution_count": 43,
   "metadata": {
    "execution": {
     "iopub.execute_input": "2021-08-30T06:46:21.749058Z",
     "iopub.status.busy": "2021-08-30T06:46:21.748713Z",
     "iopub.status.idle": "2021-08-30T06:46:21.755433Z",
     "shell.execute_reply": "2021-08-30T06:46:21.754310Z",
     "shell.execute_reply.started": "2021-08-30T06:46:21.749030Z"
    }
   },
   "outputs": [
    {
     "data": {
      "text/plain": [
       "2000"
      ]
     },
     "execution_count": 43,
     "metadata": {},
     "output_type": "execute_result"
    }
   ],
   "source": [
    "train_dataset.__len__()"
   ]
  },
  {
   "cell_type": "code",
   "execution_count": 44,
   "metadata": {
    "execution": {
     "iopub.execute_input": "2021-08-30T06:46:21.757025Z",
     "iopub.status.busy": "2021-08-30T06:46:21.756769Z",
     "iopub.status.idle": "2021-08-30T06:46:21.946899Z",
     "shell.execute_reply": "2021-08-30T06:46:21.945590Z",
     "shell.execute_reply.started": "2021-08-30T06:46:21.757001Z"
    }
   },
   "outputs": [
    {
     "name": "stdout",
     "output_type": "stream",
     "text": [
      "torch.Size([1, 224, 224]) tensor(2)\n",
      "tensor(2)\n"
     ]
    },
    {
     "data": {
      "text/plain": [
       "<matplotlib.image.AxesImage at 0x7f3febb738d0>"
      ]
     },
     "execution_count": 44,
     "metadata": {},
     "output_type": "execute_result"
    },
    {
     "data": {
      "image/png": "[encoded data removed]",
      "text/plain": [
       "<Figure size 432x288 with 1 Axes>"
      ]
     },
     "metadata": {
      "needs_background": "light"
     },
     "output_type": "display_data"
    }
   ],
   "source": [
    "X, y = train_dataset[0]\n",
    "\n",
    "print(X.shape, y)\n",
    "\n",
    "import matplotlib.pyplot as plt\n",
    "\n",
    "print(y)\n",
    "\n",
    "img = X.permute(1,2,0)\n",
    "plt.imshow(img)"
   ]
  },
  {
   "cell_type": "code",
   "execution_count": 45,
   "metadata": {
    "execution": {
     "iopub.execute_input": "2021-08-30T06:46:21.949801Z",
     "iopub.status.busy": "2021-08-30T06:46:21.949502Z",
     "iopub.status.idle": "2021-08-30T06:46:22.836385Z",
     "shell.execute_reply": "2021-08-30T06:46:22.835528Z",
     "shell.execute_reply.started": "2021-08-30T06:46:21.949773Z"
    }
   },
   "outputs": [],
   "source": [
    "test_dataset = fashion_dataset(data_path=\"../input/fashionmnist/fashion-mnist_test.csv\")"
   ]
  },
  {
   "cell_type": "code",
   "execution_count": 46,
   "metadata": {
    "execution": {
     "iopub.execute_input": "2021-08-30T06:46:22.837968Z",
     "iopub.status.busy": "2021-08-30T06:46:22.837504Z",
     "iopub.status.idle": "2021-08-30T06:46:22.844176Z",
     "shell.execute_reply": "2021-08-30T06:46:22.843280Z",
     "shell.execute_reply.started": "2021-08-30T06:46:22.837934Z"
    }
   },
   "outputs": [],
   "source": [
    "batch_size=224\n",
    "train_dataloader = DataLoader(train_dataset, batch_size=128,shuffle=True)\n",
    "test_dataloader = DataLoader(test_dataset,batch_size=128, shuffle=False)"
   ]
  },
  {
   "cell_type": "code",
   "execution_count": 47,
   "metadata": {
    "execution": {
     "iopub.execute_input": "2021-08-30T06:46:22.845704Z",
     "iopub.status.busy": "2021-08-30T06:46:22.845268Z",
     "iopub.status.idle": "2021-08-30T06:46:22.862327Z",
     "shell.execute_reply": "2021-08-30T06:46:22.860849Z",
     "shell.execute_reply.started": "2021-08-30T06:46:22.845659Z"
    }
   },
   "outputs": [],
   "source": [
    "# helper function to make training easy\n",
    "\n",
    "def accuracy(y_hat,y):\n",
    "    return (y_hat.argmax(1)==y).sum()"
   ]
  },
  {
   "cell_type": "code",
   "execution_count": 48,
   "metadata": {
    "execution": {
     "iopub.execute_input": "2021-08-30T06:46:22.863744Z",
     "iopub.status.busy": "2021-08-30T06:46:22.863477Z",
     "iopub.status.idle": "2021-08-30T06:46:22.877841Z",
     "shell.execute_reply": "2021-08-30T06:46:22.876830Z",
     "shell.execute_reply.started": "2021-08-30T06:46:22.863719Z"
    }
   },
   "outputs": [],
   "source": [
    "def full_accuracy(net, data_iter):\n",
    "    net.eval()\n",
    "#     device=torch.device('cuda' if torch.cuda.is_available() else 'cpu'\n",
    "    net = net.to(device)\n",
    "    \n",
    "    total_acc = 0\n",
    "    total_num = 0\n",
    "    with torch.no_grad():\n",
    "        for X, y in data_iter:\n",
    "            X = X.to(device)\n",
    "            y = y.to(device)\n",
    "\n",
    "            y_hat = net(X)\n",
    "\n",
    "            total_acc += accuracy(y_hat, y)\n",
    "            total_num += y.numel()\n",
    "    \n",
    "    return total_acc/total_num\n",
    "            "
   ]
  },
  {
   "cell_type": "code",
   "execution_count": 49,
   "metadata": {
    "execution": {
     "iopub.execute_input": "2021-08-30T06:46:22.879562Z",
     "iopub.status.busy": "2021-08-30T06:46:22.879126Z",
     "iopub.status.idle": "2021-08-30T06:46:22.899075Z",
     "shell.execute_reply": "2021-08-30T06:46:22.898219Z",
     "shell.execute_reply.started": "2021-08-30T06:46:22.879528Z"
    }
   },
   "outputs": [],
   "source": [
    "def train_net(net, train_dataloader, test_dataloader, lr, num_apochs=10):\n",
    "    \n",
    "    def init_weights(m):\n",
    "        if type(m) == nn.Linear or type(m) == nn.Conv2d:\n",
    "            nn.init.xavier_uniform_(m.weight)\n",
    "    net.apply(init_weights)\n",
    "    \n",
    "#     device = torch.device('cuda' if torch.cuda.is_available() else 'cpu')\n",
    "    \n",
    "    print(f'training on {device}')\n",
    "    net.train()\n",
    "    \n",
    "    net.to(device)\n",
    "    \n",
    "    loss = nn.CrossEntropyLoss()\n",
    "    optimizer = torch.optim.Adam(net.parameters(), lr=lr)\n",
    "    \n",
    "    train_loss = []\n",
    "    train_acc = []\n",
    "    test_acc = []\n",
    "    \n",
    "    for epoch in range(num_epochs):\n",
    "        acc_value = 0\n",
    "        total_number = 0\n",
    "        total_loss= 0\n",
    "        for X,y in train_dataloader:\n",
    "            X = X.to(device)\n",
    "            y = y.to(device)\n",
    "            \n",
    "            y_hat = net(X)\n",
    "            l = loss(y_hat, y)\n",
    "            \n",
    "            optimizer.zero_grad()\n",
    "            l.backward()\n",
    "            optimizer.step()\n",
    "            \n",
    "            total_loss += l \n",
    "            acc_value += accuracy(y_hat, y)\n",
    "            total_number += y.numel()\n",
    "            \n",
    "#             print(l * X.shape[0], y.numel())\n",
    "        \n",
    "        with torch.no_grad():\n",
    "            \n",
    "            print(f\"\\tEpoch {epoch} : Statistics: \")\n",
    "            print(f'\\tcurrent train loss : {float(total_loss/total_number)}')\n",
    "            print(f'\\tcurrent train acc : {float(acc_value/total_number)}')\n",
    "            print(f'\\tcurrent test acc : {float(full_accuracy(net, test_dataloader))}')\n",
    "    \n",
    "            \n",
    "            train_loss.append(float(total_loss/total_number))\n",
    "            test_acc.append(float(full_accuracy(net, test_dataloader)))\n",
    "            train_acc.append(float(acc_value/total_number))\n",
    "    \n",
    "#     plt.plot(range(num_epochs), train_loss, label = 'train loss')\n",
    "    plt.plot(range(num_epochs), train_acc, label = 'train acc')\n",
    "    plt.plot(range(num_epochs), test_acc, label = 'test acc')\n",
    "    plt.grid(True)\n",
    "    plt.legend()\n",
    "    plt.show()\n",
    "            \n",
    "        "
   ]
  },
  {
   "cell_type": "code",
   "execution_count": 50,
   "metadata": {
    "execution": {
     "iopub.execute_input": "2021-08-30T06:46:22.900629Z",
     "iopub.status.busy": "2021-08-30T06:46:22.900073Z",
     "iopub.status.idle": "2021-08-30T06:46:22.924435Z",
     "shell.execute_reply": "2021-08-30T06:46:22.923013Z",
     "shell.execute_reply.started": "2021-08-30T06:46:22.900574Z"
    }
   },
   "outputs": [],
   "source": [
    "# %%time\n",
    "# lr , num_epochs = 0.5, 10\n",
    "# train_net(alexnet, train_dataloader, test_dataloader, num_epochs, lr)"
   ]
  },
  {
   "cell_type": "markdown",
   "metadata": {},
   "source": [
    "# Problems and approach\n",
    "\n",
    "1. Alexnet is too complex it takes more than 64 gb of space\n",
    "2. So I tried training only 2000 images instead.\n",
    "\n",
    "3. lets trying simplyfyingalex net\n"
   ]
  },
  {
   "cell_type": "code",
   "execution_count": 51,
   "metadata": {
    "execution": {
     "iopub.execute_input": "2021-08-30T06:46:22.925897Z",
     "iopub.status.busy": "2021-08-30T06:46:22.925550Z",
     "iopub.status.idle": "2021-08-30T06:46:22.947699Z",
     "shell.execute_reply": "2021-08-30T06:46:22.946769Z",
     "shell.execute_reply.started": "2021-08-30T06:46:22.925873Z"
    }
   },
   "outputs": [],
   "source": [
    "# all these numbers and layers are defined in alexnet implementation\n",
    "alexnet_new = nn.Sequential(\n",
    "            nn.Conv2d(1, 96, kernel_size=11, stride=4), nn.ReLU(),\n",
    "            nn.MaxPool2d(kernel_size=3, stride=2),nn.Flatten(),\n",
    "            \n",
    "            # best way to get this 6400 is after adding flatten just check for the size of tensor returned after flatten layer\n",
    "            nn.Linear(384, 120), nn.ReLU(), nn.Dropout(p=0.5),\n",
    "            nn.Linear(120, 10)\n",
    ")"
   ]
  },
  {
   "cell_type": "code",
   "execution_count": 52,
   "metadata": {
    "execution": {
     "iopub.execute_input": "2021-08-30T06:46:22.949320Z",
     "iopub.status.busy": "2021-08-30T06:46:22.949018Z",
     "iopub.status.idle": "2021-08-30T06:46:22.962629Z",
     "shell.execute_reply": "2021-08-30T06:46:22.961350Z",
     "shell.execute_reply.started": "2021-08-30T06:46:22.949286Z"
    }
   },
   "outputs": [],
   "source": [
    "X = torch.randn(1,1,28,28)"
   ]
  },
  {
   "cell_type": "code",
   "execution_count": 53,
   "metadata": {
    "execution": {
     "iopub.execute_input": "2021-08-30T06:46:22.964141Z",
     "iopub.status.busy": "2021-08-30T06:46:22.963919Z",
     "iopub.status.idle": "2021-08-30T06:46:22.981081Z",
     "shell.execute_reply": "2021-08-30T06:46:22.980029Z",
     "shell.execute_reply.started": "2021-08-30T06:46:22.964118Z"
    }
   },
   "outputs": [
    {
     "name": "stdout",
     "output_type": "stream",
     "text": [
      " For Conv2d, shape : torch.Size([1, 96, 5, 5])\n",
      " For ReLU, shape : torch.Size([1, 96, 5, 5])\n",
      " For MaxPool2d, shape : torch.Size([1, 96, 2, 2])\n",
      " For Flatten, shape : torch.Size([1, 384])\n",
      " For Linear, shape : torch.Size([1, 120])\n",
      " For ReLU, shape : torch.Size([1, 120])\n",
      " For Dropout, shape : torch.Size([1, 120])\n",
      " For Linear, shape : torch.Size([1, 10])\n"
     ]
    }
   ],
   "source": [
    "look_at_net(alexnet_new, X)"
   ]
  },
  {
   "cell_type": "code",
   "execution_count": 54,
   "metadata": {
    "execution": {
     "iopub.execute_input": "2021-08-30T06:46:22.982944Z",
     "iopub.status.busy": "2021-08-30T06:46:22.982552Z",
     "iopub.status.idle": "2021-08-30T06:46:28.957070Z",
     "shell.execute_reply": "2021-08-30T06:46:28.956236Z",
     "shell.execute_reply.started": "2021-08-30T06:46:22.982906Z"
    }
   },
   "outputs": [],
   "source": [
    "train_dataset = fashion_dataset(transforms=None)\n",
    "test_dataset = fashion_dataset(data_path=\"../input/fashionmnist/fashion-mnist_test.csv\", transforms=None)\n",
    "batch_size=128\n",
    "train_dataloader = DataLoader(train_dataset, batch_size=batch_size,shuffle=True)\n",
    "test_dataloader = DataLoader(test_dataset,batch_size=batch_size, shuffle=False)"
   ]
  },
  {
   "cell_type": "code",
   "execution_count": 55,
   "metadata": {
    "execution": {
     "iopub.execute_input": "2021-08-30T06:46:28.960376Z",
     "iopub.status.busy": "2021-08-30T06:46:28.960083Z",
     "iopub.status.idle": "2021-08-30T06:46:32.342184Z",
     "shell.execute_reply": "2021-08-30T06:46:32.341281Z",
     "shell.execute_reply.started": "2021-08-30T06:46:28.960348Z"
    }
   },
   "outputs": [
    {
     "name": "stdout",
     "output_type": "stream",
     "text": [
      "training on cpu\n",
      "\tEpoch 0 : Statistics: \n",
      "\tcurrent train loss : 13150819.0\n",
      "\tcurrent train acc : 0.10350000113248825\n",
      "\tcurrent test acc : 0.10100000351667404\n",
      "\tEpoch 1 : Statistics: \n",
      "\tcurrent train loss : 1.3403031826019287\n",
      "\tcurrent train acc : 0.0989999994635582\n",
      "\tcurrent test acc : 0.10000000149011612\n",
      "\tEpoch 2 : Statistics: \n",
      "\tcurrent train loss : 0.0636177808046341\n",
      "\tcurrent train acc : 0.1054999977350235\n",
      "\tcurrent test acc : 0.1014999970793724\n",
      "\tEpoch 3 : Statistics: \n",
      "\tcurrent train loss : 0.035737037658691406\n",
      "\tcurrent train acc : 0.09799999743700027\n",
      "\tcurrent test acc : 0.10100000351667404\n",
      "\tEpoch 4 : Statistics: \n",
      "\tcurrent train loss : 0.02229144051671028\n",
      "\tcurrent train acc : 0.09099999815225601\n",
      "\tcurrent test acc : 0.09549999982118607\n",
      "\tEpoch 5 : Statistics: \n",
      "\tcurrent train loss : 0.019999120384454727\n",
      "\tcurrent train acc : 0.08150000125169754\n",
      "\tcurrent test acc : 0.10100000351667404\n",
      "\tEpoch 6 : Statistics: \n",
      "\tcurrent train loss : 0.019534535706043243\n",
      "\tcurrent train acc : 0.10849999636411667\n",
      "\tcurrent test acc : 0.10100000351667404\n",
      "\tEpoch 7 : Statistics: \n",
      "\tcurrent train loss : 0.0190594345331192\n",
      "\tcurrent train acc : 0.10100000351667404\n",
      "\tcurrent test acc : 0.1080000028014183\n",
      "\tEpoch 8 : Statistics: \n",
      "\tcurrent train loss : 0.01944776065647602\n",
      "\tcurrent train acc : 0.09650000184774399\n",
      "\tcurrent test acc : 0.1080000028014183\n",
      "\tEpoch 9 : Statistics: \n",
      "\tcurrent train loss : 0.019409283995628357\n",
      "\tcurrent train acc : 0.10300000011920929\n",
      "\tcurrent test acc : 0.1080000028014183\n"
     ]
    },
    {
     "data": {
      "image/png": "[encoded data removed]",
      "text/plain": [
       "<Figure size 432x288 with 1 Axes>"
      ]
     },
     "metadata": {
      "needs_background": "light"
     },
     "output_type": "display_data"
    },
    {
     "name": "stdout",
     "output_type": "stream",
     "text": [
      "CPU times: user 6.58 s, sys: 79.8 ms, total: 6.66 s\n",
      "Wall time: 3.38 s\n"
     ]
    }
   ],
   "source": [
    "%%time\n",
    "lr , num_epochs = 0.5, 10\n",
    "train_net(alexnet_new, train_dataloader, test_dataloader, num_epochs, lr)"
   ]
  },
  {
   "cell_type": "markdown",
   "metadata": {},
   "source": [
    "it is definitely training faster but very innacurate."
   ]
  },
  {
   "cell_type": "markdown",
   "metadata": {},
   "source": [
    "## Exercises\n",
    "1. Try increasing the number of epochs. Compared with LeNet, how are the results different? Why?\n",
    "\n",
    "* The result is a very noisy function, it is like its not getting trained at all.\n",
    "\n",
    "2. AlexNet may be too complex for the Fashion-MNIST dataset.\n",
    "    1. Try simplifying the model to make the training faster, while ensuring that the accuracy\n",
    "    does not drop significantly.\n",
    "\n",
    "    * done but accuracy has still not improved.\n",
    "\n",
    "    2. Design a better model that works directly on 28 × 28 images.\n",
    "\n",
    "    * done. \n",
    "\n",
    "3. Modify the batch size, and observe the changes in accuracy and GPU memory.\n",
    "\n",
    "* more batch size more consumption\n",
    "\n",
    "4. Analyze computational performance of AlexNet.\n",
    "\n",
    "    1. What is the dominant part for the memory footprint of AlexNet?\n",
    "        * Linear network and 3 cnns\n",
    "    2. What is the dominant part for computation in AlexNet?\n",
    "        * the neuralnetwork 3 cnns\n",
    "    3. How about memory bandwidth when computing the results?\n",
    "        * more than 100 mb\n",
    "5. Apply dropout and ReLU to LeNet-5. Does it improve? How about preprocessing?\n",
    "   ```python\n",
    "    \n",
    "    lenet_5 = nn.Sequential(nn.Conv2d(1, 6, kernel_size=5, padding=2), nn.ReLU(),\n",
    "                    nn.AvgPool2d(kernel_size=2, stride=2),\n",
    "                    nn.Conv2d(6, 16, kernel_size=5), nn.ReLU(),\n",
    "                    nn.AvgPool2d(kernel_size=2, stride=2), nn.Flatten(),\n",
    "                    nn.Linear(16 * 5 * 5, 120), nn.ReLU(), nn.Dropout(p=0.5),\n",
    "                    nn.Linear(120, 84), nn.ReLU(), nn.Linear(84, 10))\n",
    "   ```"
   ]
  },
  {
   "cell_type": "code",
   "execution_count": 56,
   "metadata": {
    "execution": {
     "iopub.execute_input": "2021-08-30T06:48:02.001540Z",
     "iopub.status.busy": "2021-08-30T06:48:02.001236Z",
     "iopub.status.idle": "2021-08-30T06:48:36.834499Z",
     "shell.execute_reply": "2021-08-30T06:48:36.832718Z",
     "shell.execute_reply.started": "2021-08-30T06:48:02.001512Z"
    }
   },
   "outputs": [
    {
     "name": "stdout",
     "output_type": "stream",
     "text": [
      "training on cpu\n",
      "\tEpoch 0 : Statistics: \n",
      "\tcurrent train loss : 1.0561742782592773\n",
      "\tcurrent train acc : 0.09849999845027924\n",
      "\tcurrent test acc : 0.10249999910593033\n",
      "\tEpoch 1 : Statistics: \n",
      "\tcurrent train loss : 0.5421227812767029\n",
      "\tcurrent train acc : 0.09549999982118607\n",
      "\tcurrent test acc : 0.09449999779462814\n",
      "\tEpoch 2 : Statistics: \n",
      "\tcurrent train loss : 0.5225846767425537\n",
      "\tcurrent train acc : 0.10300000011920929\n",
      "\tcurrent test acc : 0.10249999910593033\n",
      "\tEpoch 3 : Statistics: \n",
      "\tcurrent train loss : 0.3329907953739166\n",
      "\tcurrent train acc : 0.09149999916553497\n",
      "\tcurrent test acc : 0.09399999678134918\n",
      "\tEpoch 4 : Statistics: \n",
      "\tcurrent train loss : 0.3723755180835724\n",
      "\tcurrent train acc : 0.10249999910593033\n",
      "\tcurrent test acc : 0.10000000149011612\n",
      "\tEpoch 5 : Statistics: \n",
      "\tcurrent train loss : 0.5006359815597534\n",
      "\tcurrent train acc : 0.10750000178813934\n",
      "\tcurrent test acc : 0.10199999809265137\n",
      "\tEpoch 6 : Statistics: \n",
      "\tcurrent train loss : 0.3336432874202728\n",
      "\tcurrent train acc : 0.09149999916553497\n",
      "\tcurrent test acc : 0.10249999910593033\n",
      "\tEpoch 7 : Statistics: \n",
      "\tcurrent train loss : 0.40817952156066895\n",
      "\tcurrent train acc : 0.09549999982118607\n",
      "\tcurrent test acc : 0.10000000149011612\n",
      "\tEpoch 8 : Statistics: \n",
      "\tcurrent train loss : 0.39276742935180664\n",
      "\tcurrent train acc : 0.09200000017881393\n",
      "\tcurrent test acc : 0.10649999976158142\n",
      "\tEpoch 9 : Statistics: \n",
      "\tcurrent train loss : 0.5155189037322998\n",
      "\tcurrent train acc : 0.09799999743700027\n",
      "\tcurrent test acc : 0.10249999910593033\n",
      "\tEpoch 10 : Statistics: \n",
      "\tcurrent train loss : 0.4443393051624298\n",
      "\tcurrent train acc : 0.09950000047683716\n",
      "\tcurrent test acc : 0.10100000351667404\n",
      "\tEpoch 11 : Statistics: \n",
      "\tcurrent train loss : 0.4957854449748993\n",
      "\tcurrent train acc : 0.10199999809265137\n",
      "\tcurrent test acc : 0.10649999976158142\n",
      "\tEpoch 12 : Statistics: \n",
      "\tcurrent train loss : 0.46178171038627625\n",
      "\tcurrent train acc : 0.10450000315904617\n",
      "\tcurrent test acc : 0.10100000351667404\n",
      "\tEpoch 13 : Statistics: \n",
      "\tcurrent train loss : 0.38773444294929504\n",
      "\tcurrent train acc : 0.09849999845027924\n",
      "\tcurrent test acc : 0.10249999910593033\n",
      "\tEpoch 14 : Statistics: \n",
      "\tcurrent train loss : 0.440209299325943\n",
      "\tcurrent train acc : 0.09799999743700027\n",
      "\tcurrent test acc : 0.09749999642372131\n",
      "\tEpoch 15 : Statistics: \n",
      "\tcurrent train loss : 0.34022951126098633\n",
      "\tcurrent train acc : 0.09350000321865082\n",
      "\tcurrent test acc : 0.09950000047683716\n",
      "\tEpoch 16 : Statistics: \n",
      "\tcurrent train loss : 0.3691748380661011\n",
      "\tcurrent train acc : 0.10100000351667404\n",
      "\tcurrent test acc : 0.10649999976158142\n",
      "\tEpoch 17 : Statistics: \n",
      "\tcurrent train loss : 0.4356074631214142\n",
      "\tcurrent train acc : 0.0989999994635582\n",
      "\tcurrent test acc : 0.10000000149011612\n",
      "\tEpoch 18 : Statistics: \n",
      "\tcurrent train loss : 0.4802505373954773\n",
      "\tcurrent train acc : 0.10499999672174454\n",
      "\tcurrent test acc : 0.10649999976158142\n",
      "\tEpoch 19 : Statistics: \n",
      "\tcurrent train loss : 0.449679434299469\n",
      "\tcurrent train acc : 0.10350000113248825\n",
      "\tcurrent test acc : 0.09749999642372131\n",
      "\tEpoch 20 : Statistics: \n",
      "\tcurrent train loss : 0.2978517413139343\n",
      "\tcurrent train acc : 0.09049999713897705\n",
      "\tcurrent test acc : 0.09950000047683716\n",
      "\tEpoch 21 : Statistics: \n",
      "\tcurrent train loss : 0.253416508436203\n",
      "\tcurrent train acc : 0.10400000214576721\n",
      "\tcurrent test acc : 0.09749999642372131\n",
      "\tEpoch 22 : Statistics: \n",
      "\tcurrent train loss : 0.43889543414115906\n",
      "\tcurrent train acc : 0.08699999749660492\n",
      "\tcurrent test acc : 0.10649999976158142\n",
      "\tEpoch 23 : Statistics: \n",
      "\tcurrent train loss : 0.4163815677165985\n",
      "\tcurrent train acc : 0.09350000321865082\n",
      "\tcurrent test acc : 0.09449999779462814\n",
      "\tEpoch 24 : Statistics: \n",
      "\tcurrent train loss : 0.46775248646736145\n",
      "\tcurrent train acc : 0.09700000286102295\n",
      "\tcurrent test acc : 0.10199999809265137\n",
      "\tEpoch 25 : Statistics: \n",
      "\tcurrent train loss : 0.3598620593547821\n",
      "\tcurrent train acc : 0.10700000077486038\n",
      "\tcurrent test acc : 0.10199999809265137\n",
      "\tEpoch 26 : Statistics: \n",
      "\tcurrent train loss : 0.30678248405456543\n",
      "\tcurrent train acc : 0.10050000250339508\n",
      "\tcurrent test acc : 0.10649999976158142\n",
      "\tEpoch 27 : Statistics: \n",
      "\tcurrent train loss : 0.3842349350452423\n",
      "\tcurrent train acc : 0.09749999642372131\n",
      "\tcurrent test acc : 0.09950000047683716\n",
      "\tEpoch 28 : Statistics: \n",
      "\tcurrent train loss : 0.4856340289115906\n",
      "\tcurrent train acc : 0.10400000214576721\n",
      "\tcurrent test acc : 0.10199999809265137\n",
      "\tEpoch 29 : Statistics: \n",
      "\tcurrent train loss : 0.4716690480709076\n",
      "\tcurrent train acc : 0.08449999988079071\n",
      "\tcurrent test acc : 0.10000000149011612\n",
      "\tEpoch 30 : Statistics: \n",
      "\tcurrent train loss : 0.43120649456977844\n",
      "\tcurrent train acc : 0.09650000184774399\n",
      "\tcurrent test acc : 0.10000000149011612\n",
      "\tEpoch 31 : Statistics: \n",
      "\tcurrent train loss : 0.4247629940509796\n",
      "\tcurrent train acc : 0.10249999910593033\n",
      "\tcurrent test acc : 0.10649999976158142\n",
      "\tEpoch 32 : Statistics: \n",
      "\tcurrent train loss : 0.46796542406082153\n",
      "\tcurrent train acc : 0.1054999977350235\n",
      "\tcurrent test acc : 0.09449999779462814\n",
      "\tEpoch 33 : Statistics: \n",
      "\tcurrent train loss : 0.482225626707077\n",
      "\tcurrent train acc : 0.10649999976158142\n",
      "\tcurrent test acc : 0.10100000351667404\n",
      "\tEpoch 34 : Statistics: \n",
      "\tcurrent train loss : 0.44061538577079773\n",
      "\tcurrent train acc : 0.09099999815225601\n",
      "\tcurrent test acc : 0.09749999642372131\n",
      "\tEpoch 35 : Statistics: \n",
      "\tcurrent train loss : 0.4067150354385376\n",
      "\tcurrent train acc : 0.09799999743700027\n",
      "\tcurrent test acc : 0.09950000047683716\n",
      "\tEpoch 36 : Statistics: \n",
      "\tcurrent train loss : 0.48265549540519714\n",
      "\tcurrent train acc : 0.10599999874830246\n",
      "\tcurrent test acc : 0.10000000149011612\n",
      "\tEpoch 37 : Statistics: \n",
      "\tcurrent train loss : 0.35805776715278625\n",
      "\tcurrent train acc : 0.09650000184774399\n",
      "\tcurrent test acc : 0.09950000047683716\n",
      "\tEpoch 38 : Statistics: \n",
      "\tcurrent train loss : 0.45079541206359863\n",
      "\tcurrent train acc : 0.07800000160932541\n",
      "\tcurrent test acc : 0.09950000047683716\n",
      "\tEpoch 39 : Statistics: \n",
      "\tcurrent train loss : 0.3010154962539673\n",
      "\tcurrent train acc : 0.09399999678134918\n",
      "\tcurrent test acc : 0.10649999976158142\n",
      "\tEpoch 40 : Statistics: \n",
      "\tcurrent train loss : 0.3062896728515625\n",
      "\tcurrent train acc : 0.09449999779462814\n",
      "\tcurrent test acc : 0.10100000351667404\n",
      "\tEpoch 41 : Statistics: \n",
      "\tcurrent train loss : 0.25889232754707336\n",
      "\tcurrent train acc : 0.10000000149011612\n",
      "\tcurrent test acc : 0.09950000047683716\n",
      "\tEpoch 42 : Statistics: \n",
      "\tcurrent train loss : 0.37260082364082336\n",
      "\tcurrent train acc : 0.0989999994635582\n",
      "\tcurrent test acc : 0.09449999779462814\n",
      "\tEpoch 43 : Statistics: \n",
      "\tcurrent train loss : 0.4762699007987976\n",
      "\tcurrent train acc : 0.09950000047683716\n",
      "\tcurrent test acc : 0.10000000149011612\n",
      "\tEpoch 44 : Statistics: \n",
      "\tcurrent train loss : 0.35063043236732483\n",
      "\tcurrent train acc : 0.09000000357627869\n",
      "\tcurrent test acc : 0.10000000149011612\n",
      "\tEpoch 45 : Statistics: \n",
      "\tcurrent train loss : 0.3234640061855316\n",
      "\tcurrent train acc : 0.0885000005364418\n",
      "\tcurrent test acc : 0.09950000047683716\n",
      "\tEpoch 46 : Statistics: \n",
      "\tcurrent train loss : 0.4275195300579071\n",
      "\tcurrent train acc : 0.11949999630451202\n",
      "\tcurrent test acc : 0.10000000149011612\n",
      "\tEpoch 47 : Statistics: \n",
      "\tcurrent train loss : 0.37840619683265686\n",
      "\tcurrent train acc : 0.09849999845027924\n",
      "\tcurrent test acc : 0.09749999642372131\n",
      "\tEpoch 48 : Statistics: \n",
      "\tcurrent train loss : 0.35045334696769714\n",
      "\tcurrent train acc : 0.11050000041723251\n",
      "\tcurrent test acc : 0.09749999642372131\n",
      "\tEpoch 49 : Statistics: \n",
      "\tcurrent train loss : 0.37691769003868103\n",
      "\tcurrent train acc : 0.11050000041723251\n",
      "\tcurrent test acc : 0.10249999910593033\n",
      "\tEpoch 50 : Statistics: \n",
      "\tcurrent train loss : 0.42908838391304016\n",
      "\tcurrent train acc : 0.09300000220537186\n",
      "\tcurrent test acc : 0.10249999910593033\n",
      "\tEpoch 51 : Statistics: \n",
      "\tcurrent train loss : 0.3197009265422821\n",
      "\tcurrent train acc : 0.09350000321865082\n",
      "\tcurrent test acc : 0.10249999910593033\n",
      "\tEpoch 52 : Statistics: \n",
      "\tcurrent train loss : 0.4288022220134735\n",
      "\tcurrent train acc : 0.10849999636411667\n",
      "\tcurrent test acc : 0.09399999678134918\n",
      "\tEpoch 53 : Statistics: \n",
      "\tcurrent train loss : 0.5401334166526794\n",
      "\tcurrent train acc : 0.09950000047683716\n",
      "\tcurrent test acc : 0.09449999779462814\n",
      "\tEpoch 54 : Statistics: \n",
      "\tcurrent train loss : 0.5087136626243591\n",
      "\tcurrent train acc : 0.10649999976158142\n",
      "\tcurrent test acc : 0.10199999809265137\n",
      "\tEpoch 55 : Statistics: \n",
      "\tcurrent train loss : 0.5143539905548096\n",
      "\tcurrent train acc : 0.10300000011920929\n",
      "\tcurrent test acc : 0.10100000351667404\n",
      "\tEpoch 56 : Statistics: \n",
      "\tcurrent train loss : 0.47325047850608826\n",
      "\tcurrent train acc : 0.10350000113248825\n",
      "\tcurrent test acc : 0.09749999642372131\n",
      "\tEpoch 57 : Statistics: \n",
      "\tcurrent train loss : 0.47717979550361633\n",
      "\tcurrent train acc : 0.10400000214576721\n",
      "\tcurrent test acc : 0.10249999910593033\n",
      "\tEpoch 58 : Statistics: \n",
      "\tcurrent train loss : 0.43027210235595703\n",
      "\tcurrent train acc : 0.10350000113248825\n",
      "\tcurrent test acc : 0.10199999809265137\n",
      "\tEpoch 59 : Statistics: \n",
      "\tcurrent train loss : 0.4891427159309387\n",
      "\tcurrent train acc : 0.09799999743700027\n",
      "\tcurrent test acc : 0.10249999910593033\n",
      "\tEpoch 60 : Statistics: \n",
      "\tcurrent train loss : 0.4040067195892334\n",
      "\tcurrent train acc : 0.10599999874830246\n",
      "\tcurrent test acc : 0.09449999779462814\n",
      "\tEpoch 61 : Statistics: \n",
      "\tcurrent train loss : 0.5072060823440552\n",
      "\tcurrent train acc : 0.09700000286102295\n",
      "\tcurrent test acc : 0.09399999678134918\n",
      "\tEpoch 62 : Statistics: \n",
      "\tcurrent train loss : 0.42074912786483765\n",
      "\tcurrent train acc : 0.10999999940395355\n",
      "\tcurrent test acc : 0.09449999779462814\n",
      "\tEpoch 63 : Statistics: \n",
      "\tcurrent train loss : 0.39789122343063354\n",
      "\tcurrent train acc : 0.09749999642372131\n",
      "\tcurrent test acc : 0.09399999678134918\n",
      "\tEpoch 64 : Statistics: \n",
      "\tcurrent train loss : 0.39107853174209595\n",
      "\tcurrent train acc : 0.09099999815225601\n",
      "\tcurrent test acc : 0.10199999809265137\n",
      "\tEpoch 65 : Statistics: \n",
      "\tcurrent train loss : 0.415122389793396\n",
      "\tcurrent train acc : 0.09799999743700027\n",
      "\tcurrent test acc : 0.10000000149011612\n",
      "\tEpoch 66 : Statistics: \n",
      "\tcurrent train loss : 0.4134655296802521\n",
      "\tcurrent train acc : 0.09449999779462814\n",
      "\tcurrent test acc : 0.10249999910593033\n",
      "\tEpoch 67 : Statistics: \n",
      "\tcurrent train loss : 0.31504398584365845\n",
      "\tcurrent train acc : 0.09049999713897705\n",
      "\tcurrent test acc : 0.09950000047683716\n",
      "\tEpoch 68 : Statistics: \n",
      "\tcurrent train loss : 0.2551175653934479\n",
      "\tcurrent train acc : 0.09399999678134918\n",
      "\tcurrent test acc : 0.10100000351667404\n",
      "\tEpoch 69 : Statistics: \n",
      "\tcurrent train loss : 0.2943802773952484\n",
      "\tcurrent train acc : 0.1014999970793724\n",
      "\tcurrent test acc : 0.09399999678134918\n",
      "\tEpoch 70 : Statistics: \n",
      "\tcurrent train loss : 0.3123267590999603\n",
      "\tcurrent train acc : 0.10199999809265137\n",
      "\tcurrent test acc : 0.09950000047683716\n",
      "\tEpoch 71 : Statistics: \n",
      "\tcurrent train loss : 0.3565373122692108\n",
      "\tcurrent train acc : 0.09449999779462814\n",
      "\tcurrent test acc : 0.09749999642372131\n",
      "\tEpoch 72 : Statistics: \n",
      "\tcurrent train loss : 0.27643492817878723\n",
      "\tcurrent train acc : 0.11699999868869781\n",
      "\tcurrent test acc : 0.10199999809265137\n",
      "\tEpoch 73 : Statistics: \n",
      "\tcurrent train loss : 0.2956772744655609\n",
      "\tcurrent train acc : 0.09600000083446503\n",
      "\tcurrent test acc : 0.09950000047683716\n",
      "\tEpoch 74 : Statistics: \n",
      "\tcurrent train loss : 0.35371163487434387\n",
      "\tcurrent train acc : 0.09549999982118607\n",
      "\tcurrent test acc : 0.09449999779462814\n",
      "\tEpoch 75 : Statistics: \n",
      "\tcurrent train loss : 0.48064836859703064\n",
      "\tcurrent train acc : 0.10649999976158142\n",
      "\tcurrent test acc : 0.09399999678134918\n",
      "\tEpoch 76 : Statistics: \n",
      "\tcurrent train loss : 0.3460451364517212\n",
      "\tcurrent train acc : 0.09950000047683716\n",
      "\tcurrent test acc : 0.10199999809265137\n",
      "\tEpoch 77 : Statistics: \n",
      "\tcurrent train loss : 0.33230316638946533\n",
      "\tcurrent train acc : 0.10100000351667404\n",
      "\tcurrent test acc : 0.10249999910593033\n",
      "\tEpoch 78 : Statistics: \n",
      "\tcurrent train loss : 0.37518036365509033\n",
      "\tcurrent train acc : 0.08349999785423279\n",
      "\tcurrent test acc : 0.10100000351667404\n",
      "\tEpoch 79 : Statistics: \n",
      "\tcurrent train loss : 0.4295138120651245\n",
      "\tcurrent train acc : 0.10350000113248825\n",
      "\tcurrent test acc : 0.10199999809265137\n",
      "\tEpoch 80 : Statistics: \n",
      "\tcurrent train loss : 0.45586031675338745\n",
      "\tcurrent train acc : 0.09700000286102295\n",
      "\tcurrent test acc : 0.09749999642372131\n",
      "\tEpoch 81 : Statistics: \n",
      "\tcurrent train loss : 0.3807731866836548\n",
      "\tcurrent train acc : 0.10400000214576721\n",
      "\tcurrent test acc : 0.10249999910593033\n",
      "\tEpoch 82 : Statistics: \n",
      "\tcurrent train loss : 0.48032134771347046\n",
      "\tcurrent train acc : 0.12300000339746475\n",
      "\tcurrent test acc : 0.09749999642372131\n",
      "\tEpoch 83 : Statistics: \n",
      "\tcurrent train loss : 0.41037124395370483\n",
      "\tcurrent train acc : 0.10249999910593033\n",
      "\tcurrent test acc : 0.10249999910593033\n",
      "\tEpoch 84 : Statistics: \n",
      "\tcurrent train loss : 0.4693751335144043\n",
      "\tcurrent train acc : 0.09399999678134918\n",
      "\tcurrent test acc : 0.09950000047683716\n",
      "\tEpoch 85 : Statistics: \n",
      "\tcurrent train loss : 0.42068591713905334\n",
      "\tcurrent train acc : 0.10199999809265137\n",
      "\tcurrent test acc : 0.10000000149011612\n",
      "\tEpoch 86 : Statistics: \n",
      "\tcurrent train loss : 0.4593657851219177\n",
      "\tcurrent train acc : 0.10499999672174454\n",
      "\tcurrent test acc : 0.09749999642372131\n",
      "\tEpoch 87 : Statistics: \n",
      "\tcurrent train loss : 0.4295250177383423\n",
      "\tcurrent train acc : 0.0885000005364418\n",
      "\tcurrent test acc : 0.09399999678134918\n",
      "\tEpoch 88 : Statistics: \n",
      "\tcurrent train loss : 0.3813818693161011\n",
      "\tcurrent train acc : 0.09000000357627869\n",
      "\tcurrent test acc : 0.10199999809265137\n",
      "\tEpoch 89 : Statistics: \n",
      "\tcurrent train loss : 0.3941439986228943\n",
      "\tcurrent train acc : 0.09749999642372131\n",
      "\tcurrent test acc : 0.10100000351667404\n",
      "\tEpoch 90 : Statistics: \n",
      "\tcurrent train loss : 0.36807119846343994\n",
      "\tcurrent train acc : 0.09950000047683716\n",
      "\tcurrent test acc : 0.10000000149011612\n",
      "\tEpoch 91 : Statistics: \n",
      "\tcurrent train loss : 0.44083529710769653\n",
      "\tcurrent train acc : 0.09549999982118607\n",
      "\tcurrent test acc : 0.10649999976158142\n",
      "\tEpoch 92 : Statistics: \n",
      "\tcurrent train loss : 0.38417619466781616\n",
      "\tcurrent train acc : 0.09200000017881393\n",
      "\tcurrent test acc : 0.10249999910593033\n",
      "\tEpoch 93 : Statistics: \n",
      "\tcurrent train loss : 0.38839173316955566\n",
      "\tcurrent train acc : 0.10999999940395355\n",
      "\tcurrent test acc : 0.09749999642372131\n",
      "\tEpoch 94 : Statistics: \n",
      "\tcurrent train loss : 0.5940338969230652\n",
      "\tcurrent train acc : 0.10450000315904617\n",
      "\tcurrent test acc : 0.10249999910593033\n",
      "\tEpoch 95 : Statistics: \n",
      "\tcurrent train loss : 0.5105255842208862\n",
      "\tcurrent train acc : 0.09549999982118607\n",
      "\tcurrent test acc : 0.10000000149011612\n",
      "\tEpoch 96 : Statistics: \n",
      "\tcurrent train loss : 0.5466164350509644\n",
      "\tcurrent train acc : 0.09449999779462814\n",
      "\tcurrent test acc : 0.10199999809265137\n",
      "\tEpoch 97 : Statistics: \n",
      "\tcurrent train loss : 0.511682391166687\n",
      "\tcurrent train acc : 0.10599999874830246\n",
      "\tcurrent test acc : 0.09399999678134918\n",
      "\tEpoch 98 : Statistics: \n",
      "\tcurrent train loss : 0.5765465497970581\n",
      "\tcurrent train acc : 0.09749999642372131\n",
      "\tcurrent test acc : 0.09449999779462814\n",
      "\tEpoch 99 : Statistics: \n",
      "\tcurrent train loss : 0.5515031814575195\n",
      "\tcurrent train acc : 0.09350000321865082\n",
      "\tcurrent test acc : 0.09950000047683716\n"
     ]
    },
    {
     "data": {
      "image/png": "[encoded data removed]",
      "text/plain": [
       "<Figure size 432x288 with 1 Axes>"
      ]
     },
     "metadata": {
      "needs_background": "light"
     },
     "output_type": "display_data"
    },
    {
     "name": "stdout",
     "output_type": "stream",
     "text": [
      "CPU times: user 1min 9s, sys: 595 ms, total: 1min 9s\n",
      "Wall time: 34.8 s\n"
     ]
    }
   ],
   "source": [
    "\n",
    "%%time\n",
    "lr , num_epochs = 0.5, 100\n",
    "train_net(alexnet_new, train_dataloader, test_dataloader, num_epochs, lr)"
   ]
  },
  {
   "cell_type": "code",
   "execution_count": 60,
   "metadata": {
    "execution": {
     "iopub.execute_input": "2021-08-30T07:08:55.479042Z",
     "iopub.status.busy": "2021-08-30T07:08:55.478673Z",
     "iopub.status.idle": "2021-08-30T07:08:55.490397Z",
     "shell.execute_reply": "2021-08-30T07:08:55.489022Z",
     "shell.execute_reply.started": "2021-08-30T07:08:55.479010Z"
    }
   },
   "outputs": [],
   "source": [
    "# 5\n",
    "\n",
    "lenet_5 = nn.Sequential(nn.Conv2d(1, 6, kernel_size=5, padding=2), nn.ReLU(),\n",
    "                    nn.AvgPool2d(kernel_size=2, stride=2),\n",
    "                    nn.Conv2d(6, 16, kernel_size=5), nn.ReLU(),\n",
    "                    nn.AvgPool2d(kernel_size=2, stride=2), nn.Flatten(),\n",
    "                    nn.Linear(16 * 5 * 5, 120), nn.ReLU(), nn.Dropout(p=0.5),\n",
    "                    nn.Linear(120, 84), nn.ReLU(), nn.Linear(84, 10))"
   ]
  },
  {
   "cell_type": "code",
   "execution_count": 61,
   "metadata": {
    "execution": {
     "iopub.execute_input": "2021-08-30T07:08:56.965317Z",
     "iopub.status.busy": "2021-08-30T07:08:56.964955Z",
     "iopub.status.idle": "2021-08-30T07:09:00.480574Z",
     "shell.execute_reply": "2021-08-30T07:09:00.478835Z",
     "shell.execute_reply.started": "2021-08-30T07:08:56.965288Z"
    }
   },
   "outputs": [
    {
     "name": "stdout",
     "output_type": "stream",
     "text": [
      "training on cpu\n",
      "\tEpoch 0 : Statistics: \n",
      "\tcurrent train loss : 0.07263289391994476\n",
      "\tcurrent train acc : 0.10100000351667404\n",
      "\tcurrent test acc : 0.10100000351667404\n",
      "\tEpoch 1 : Statistics: \n",
      "\tcurrent train loss : 0.036422181874513626\n",
      "\tcurrent train acc : 0.09700000286102295\n",
      "\tcurrent test acc : 0.10100000351667404\n",
      "\tEpoch 2 : Statistics: \n",
      "\tcurrent train loss : 0.022028813138604164\n",
      "\tcurrent train acc : 0.10199999809265137\n",
      "\tcurrent test acc : 0.10249999910593033\n",
      "\tEpoch 3 : Statistics: \n",
      "\tcurrent train loss : 0.019664421677589417\n",
      "\tcurrent train acc : 0.08150000125169754\n",
      "\tcurrent test acc : 0.10249999910593033\n",
      "\tEpoch 4 : Statistics: \n",
      "\tcurrent train loss : 0.01916610263288021\n",
      "\tcurrent train acc : 0.10050000250339508\n",
      "\tcurrent test acc : 0.10249999910593033\n",
      "\tEpoch 5 : Statistics: \n",
      "\tcurrent train loss : 0.02018781192600727\n",
      "\tcurrent train acc : 0.10999999940395355\n",
      "\tcurrent test acc : 0.09749999642372131\n",
      "\tEpoch 6 : Statistics: \n",
      "\tcurrent train loss : 0.021140916272997856\n",
      "\tcurrent train acc : 0.09399999678134918\n",
      "\tcurrent test acc : 0.10000000149011612\n",
      "\tEpoch 7 : Statistics: \n",
      "\tcurrent train loss : 0.021562393754720688\n",
      "\tcurrent train acc : 0.08900000154972076\n",
      "\tcurrent test acc : 0.10199999809265137\n",
      "\tEpoch 8 : Statistics: \n",
      "\tcurrent train loss : 0.02198098786175251\n",
      "\tcurrent train acc : 0.10000000149011612\n",
      "\tcurrent test acc : 0.09950000047683716\n",
      "\tEpoch 9 : Statistics: \n",
      "\tcurrent train loss : 0.021306706592440605\n",
      "\tcurrent train acc : 0.09350000321865082\n",
      "\tcurrent test acc : 0.10199999809265137\n"
     ]
    },
    {
     "data": {
      "image/png": "[encoded data removed]",
      "text/plain": [
       "<Figure size 432x288 with 1 Axes>"
      ]
     },
     "metadata": {
      "needs_background": "light"
     },
     "output_type": "display_data"
    },
    {
     "name": "stdout",
     "output_type": "stream",
     "text": [
      "CPU times: user 6.85 s, sys: 57.7 ms, total: 6.91 s\n",
      "Wall time: 3.51 s\n"
     ]
    }
   ],
   "source": [
    "\n",
    "%%time\n",
    "lr , num_epochs = 0.5, 10\n",
    "train_net(alexnet_new, train_dataloader, test_dataloader, num_epochs, lr)"
   ]
  },
  {
   "cell_type": "code",
   "execution_count": null,
   "metadata": {},
   "outputs": [],
   "source": []
  }
 ],
 "metadata": {
  "kernelspec": {
   "display_name": "Python 3",
   "language": "python",
   "name": "python3"
  },
  "language_info": {
   "codemirror_mode": {
    "name": "ipython",
    "version": 3
   },
   "file_extension": ".py",
   "mimetype": "text/x-python",
   "name": "python",
   "nbconvert_exporter": "python",
   "pygments_lexer": "ipython3",
   "version": "3.9.5"
  }
 },
 "nbformat": 4,
 "nbformat_minor": 4
}
