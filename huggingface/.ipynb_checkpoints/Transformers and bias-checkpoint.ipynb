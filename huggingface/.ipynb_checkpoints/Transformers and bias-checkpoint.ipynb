{
 "cells": [
  {
   "cell_type": "markdown",
   "id": "569894e2",
   "metadata": {},
   "source": [
    "## Transformer history\n",
    "\n",
    "une 2018: GPT, the first pretrained Transformer model, used for fine-tuning on various NLP tasks and obtained state-of-the-art results\n",
    "\n",
    "October 2018: BERT, another large pretrained model, this one designed to produce better summaries of sentences (more on this in the next chapter!)\n",
    "\n",
    "February 2019: GPT-2, an improved (and bigger) version of GPT that was not immediately publicly released due to ethical concerns\n",
    "\n",
    "October 2019: DistilBERT, a distilled version of BERT that is 60% faster, 40% lighter in memory, and still retains 97% of BERT’s performance\n",
    "\n",
    "October 2019: BART and T5, two large pretrained models using the same architecture as the original Transformer model (the first to do so)\n",
    "\n",
    "May 2020, GPT-3, an even bigger version of GPT-2 that is able to perform well on a variety of tasks without the need for fine-tuning (called zero-shot learning)\n",
    "\n",
    "Distilbert is really small compared to others."
   ]
  },
  {
   "cell_type": "markdown",
   "id": "4300787c",
   "metadata": {},
   "source": [
    "### Types of transformer models\n",
    "\n",
    "Each of these parts can be used independently, depending on the task:\n",
    "\n",
    "Encoder-only models: Good for tasks that require understanding of the input, such as sentence classification and named entity recognition.\n",
    "\n",
    "Decoder-only models: Good for generative tasks such as text generation.\n",
    "\n",
    "\n",
    "Encoder-decoder models or sequence-to-sequence models: Good for generative tasks that require an input, such as translation or summarization."
   ]
  },
  {
   "cell_type": "markdown",
   "id": "86e435b1",
   "metadata": {},
   "source": [
    "### Transformer was introduced in \"Attention is all you need\"\n",
    "\n",
    "\n",
    "![](https://huggingface.co/course/static/chapter1/transformers.png)"
   ]
  },
  {
   "cell_type": "code",
   "execution_count": null,
   "id": "ec3ee346",
   "metadata": {},
   "outputs": [],
   "source": [
    "### need to start with bias\n"
   ]
  }
 ],
 "metadata": {
  "kernelspec": {
   "display_name": "Python 3 (ipykernel)",
   "language": "python",
   "name": "python3"
  },
  "language_info": {
   "codemirror_mode": {
    "name": "ipython",
    "version": 3
   },
   "file_extension": ".py",
   "mimetype": "text/x-python",
   "name": "python",
   "nbconvert_exporter": "python",
   "pygments_lexer": "ipython3",
   "version": "3.9.7"
  }
 },
 "nbformat": 4,
 "nbformat_minor": 5
}
