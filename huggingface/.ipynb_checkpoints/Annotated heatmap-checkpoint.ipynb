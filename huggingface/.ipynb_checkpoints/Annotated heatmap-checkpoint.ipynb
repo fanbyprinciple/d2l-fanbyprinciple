{
 "cells": [
  {
   "cell_type": "code",
   "execution_count": 1,
   "id": "f2c2c227",
   "metadata": {
    "scrolled": true
   },
   "outputs": [],
   "source": [
    "#%conda install matplotlib"
   ]
  },
  {
   "cell_type": "markdown",
   "id": "0adc96b6",
   "metadata": {},
   "source": [
    "# Heat map out of a tweet\n",
    "\n",
    "I found myself trying to see which is the hottest field in crypto based on this tweet from Crypto Ape founder:\n",
    "\n",
    "<blockquote class=\"twitter-tweet\"><p lang=\"en\" dir=\"ltr\">Quick map of what&#39;s where at the moment in DeFi<br><br>Thanks frens for all the help and sorry if I didn&#39;t shill your bags 🙏 <a href=\"https://t.co/IXJmE9Ps9E\">pic.twitter.com/IXJmE9Ps9E</a></p>&mdash; Darren Lau (Lau, Lau) 👘 (@Darrenlautf) <a href=\"https://twitter.com/Darrenlautf/status/1482003465627144195?ref_src=twsrc%5Etfw\">January 14, 2022</a></blockquote> <script async src=\"https://platform.twitter.com/widgets.js\" charset=\"utf-8\"></script>\n",
    "\n",
    "![](https://pbs.twimg.com/media/FJEh1GwagAMgk-W?format=jpg&name=large)"
   ]
  },
  {
   "cell_type": "code",
   "execution_count": 2,
   "id": "c09a9c20",
   "metadata": {},
   "outputs": [
    {
     "ename": "NameError",
     "evalue": "name 'farmers' is not defined",
     "output_type": "error",
     "traceback": [
      "\u001b[1;31m---------------------------------------------------------------------------\u001b[0m",
      "\u001b[1;31mNameError\u001b[0m                                 Traceback (most recent call last)",
      "\u001b[1;32m~\\AppData\\Local\\Temp/ipykernel_22792/1423493705.py\u001b[0m in \u001b[0;36m<module>\u001b[1;34m\u001b[0m\n\u001b[0;32m     36\u001b[0m \u001b[1;33m\u001b[0m\u001b[0m\n\u001b[0;32m     37\u001b[0m \u001b[1;31m# Show all ticks and label them with the respective list entries\u001b[0m\u001b[1;33m\u001b[0m\u001b[1;33m\u001b[0m\u001b[0m\n\u001b[1;32m---> 38\u001b[1;33m \u001b[0max\u001b[0m\u001b[1;33m.\u001b[0m\u001b[0mset_xticks\u001b[0m\u001b[1;33m(\u001b[0m\u001b[0mnp\u001b[0m\u001b[1;33m.\u001b[0m\u001b[0marange\u001b[0m\u001b[1;33m(\u001b[0m\u001b[0mlen\u001b[0m\u001b[1;33m(\u001b[0m\u001b[0mfarmers\u001b[0m\u001b[1;33m)\u001b[0m\u001b[1;33m)\u001b[0m\u001b[1;33m,\u001b[0m \u001b[0mlabels\u001b[0m\u001b[1;33m=\u001b[0m\u001b[0mfarmers\u001b[0m\u001b[1;33m)\u001b[0m\u001b[1;33m\u001b[0m\u001b[1;33m\u001b[0m\u001b[0m\n\u001b[0m\u001b[0;32m     39\u001b[0m \u001b[0max\u001b[0m\u001b[1;33m.\u001b[0m\u001b[0mset_yticks\u001b[0m\u001b[1;33m(\u001b[0m\u001b[0mnp\u001b[0m\u001b[1;33m.\u001b[0m\u001b[0marange\u001b[0m\u001b[1;33m(\u001b[0m\u001b[0mlen\u001b[0m\u001b[1;33m(\u001b[0m\u001b[0mvegetables\u001b[0m\u001b[1;33m)\u001b[0m\u001b[1;33m)\u001b[0m\u001b[1;33m,\u001b[0m \u001b[0mlabels\u001b[0m\u001b[1;33m=\u001b[0m\u001b[0mvegetables\u001b[0m\u001b[1;33m)\u001b[0m\u001b[1;33m\u001b[0m\u001b[1;33m\u001b[0m\u001b[0m\n\u001b[0;32m     40\u001b[0m \u001b[1;33m\u001b[0m\u001b[0m\n",
      "\u001b[1;31mNameError\u001b[0m: name 'farmers' is not defined"
     ]
    },
    {
     "data": {
      "image/png": "[encoded data removed]",
      "text/plain": [
       "<Figure size 432x288 with 1 Axes>"
      ]
     },
     "metadata": {
      "needs_background": "light"
     },
     "output_type": "display_data"
    }
   ],
   "source": [
    "import numpy as np\n",
    "import matplotlib\n",
    "import matplotlib.pyplot as plt\n",
    "\n",
    "platform = [\"Etherium\", \"AVAX\", \"Fantom\", \"Aurora/Near\",\n",
    "              \"Polygon\", \"Optimism\", \"Arbitrum\", \"Solana\", \n",
    "                \"Luna\", \"Atom\"]\n",
    "use = [\"Wallets\", \"Liquidity markets\", \"Exchanges\",\n",
    "           \"Dex Aggregators\", \"Staking\", \"Derivative\", \n",
    "               \"Perps/Leverage Trading\", \"Fund Management\", \"Options\", \n",
    "                   \"Structured Products\", \"Insurance\", \"Yield Farming\",\n",
    "                       \"Fixed Interest Rate Protocols\", \"Bridges\", \"Gaming\",\n",
    "                           \"Stablecoins\", \"NFT Exchange\"]\n",
    "\n",
    "harvest = np.array([[4, 3, 3, 3, 4, 3, 3, 3, 4, 2],\n",
    "                    [3, 3, 3, 1, 1, 2, 5, 4, 3, 1],\n",
    "                    [3, 4, 2, 2, 3, 3, 3, 5, 3, 2],\n",
    "                    [3, 3, 2, 0, 1 ,2, 2, 1, 0, 0],\n",
    "                    [4, 3, 1, 1, 1, 0, 1, 3, 2, 1],\n",
    "                    [1, 2, 0, 1, 0, 2, 0, 1, 2, 3],\n",
    "                    [3, 2, 0, 0, 1, 2, 1, 2, 1, 0],\n",
    "                    [4, 0, 0, 0, 1, 3, 0, 3, 1, 0],\n",
    "                    [1, 1, 0, 0, 1, 2, 3, 4, 3, 0],\n",
    "                    [3, 2, 1, 1, 1, 0, 2, 3, 0, 0],\n",
    "                    [1, 0, 0, 0, 1, 0, 0, 0, 1, 0],\n",
    "                    [2, 3, 2, 0, 1, 0, 3, 4, 3, 0],\n",
    "                    [3, 0, 0, 0, 0, 0, 1, 1, 0, 0],\n",
    "                    [3, 4, 0, 3, 0, 4, 4, 2, 3, 0],\n",
    "                    [0, 2, 1, 0, 4, 0, 0, 4, 2, 1],\n",
    "                    [5, 3, 0, 0, 1, 0, 2, 1, 1, 0],\n",
    "                    [5, 4, 2, 1, 1, 1, 1, 3, 4, 1]])\n",
    "\n",
    "\n",
    "fig, ax = plt.subplots()\n",
    "im = ax.imshow(harvest)\n",
    "\n",
    "# Show all ticks and label them with the respective list entries\n",
    "ax.set_xticks(np.arange(len(use)), labels=use)\n",
    "ax.set_yticks(np.arange(len(platform)), labels=platform)\n",
    "\n",
    "# Rotate the tick labels and set their alignment.\n",
    "plt.setp(ax.get_xticklabels(), rotation=45, ha=\"right\",\n",
    "         rotation_mode=\"anchor\")\n",
    "\n",
    "# Loop over data dimensions and create text annotations.\n",
    "for i in range(len(vegetables)):\n",
    "    for j in range(len(farmers)):\n",
    "        text = ax.text(j, i, harvest[i, j],\n",
    "                       ha=\"center\", va=\"center\", color=\"w\")\n",
    "\n",
    "ax.set_title(\"Harvest of local farmers (in tons/year)\")\n",
    "fig.tight_layout()\n",
    "plt.show()"
   ]
  }
 ],
 "metadata": {
  "kernelspec": {
   "display_name": "Python 3 (ipykernel)",
   "language": "python",
   "name": "python3"
  },
  "language_info": {
   "codemirror_mode": {
    "name": "ipython",
    "version": 3
   },
   "file_extension": ".py",
   "mimetype": "text/x-python",
   "name": "python",
   "nbconvert_exporter": "python",
   "pygments_lexer": "ipython3",
   "version": "3.9.7"
  }
 },
 "nbformat": 4,
 "nbformat_minor": 5
}
