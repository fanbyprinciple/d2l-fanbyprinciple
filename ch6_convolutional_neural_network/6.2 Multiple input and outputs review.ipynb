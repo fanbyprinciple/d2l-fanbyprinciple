{
 "cells": [
  {
   "cell_type": "code",
   "execution_count": 1,
   "id": "selective-gateway",
   "metadata": {},
   "outputs": [],
   "source": [
    "import torch"
   ]
  },
  {
   "cell_type": "code",
   "execution_count": 2,
   "id": "pediatric-peace",
   "metadata": {},
   "outputs": [],
   "source": [
    "def corr2d(X, K):\n",
    "    kh, kw = K.shape\n",
    "    xh, xw = X.shape\n",
    "    \n",
    "    Y = torch.zeros((xh-kh+1), (xw-kw+1))\n",
    "    \n",
    "    for i in range(Y.shape[0]):\n",
    "        for j in range(Y.shape[1]):\n",
    "            Y[i,j] = (X[i:i+kh, j:j+kw] *K).sum()\n",
    "    \n",
    "    return Y"
   ]
  },
  {
   "cell_type": "code",
   "execution_count": 10,
   "id": "bizarre-tracker",
   "metadata": {},
   "outputs": [
    {
     "data": {
      "text/plain": [
       "5"
      ]
     },
     "execution_count": 10,
     "metadata": {},
     "output_type": "execute_result"
    }
   ],
   "source": [
    "sum([2,3])"
   ]
  },
  {
   "cell_type": "code",
   "execution_count": 7,
   "id": "atomic-absence",
   "metadata": {},
   "outputs": [],
   "source": [
    "def corr2d_multi_in(X,K):\n",
    "    return sum(corr2d(x,k) for x,k in zip(X,K))"
   ]
  },
  {
   "cell_type": "code",
   "execution_count": 34,
   "id": "operating-vessel",
   "metadata": {},
   "outputs": [
    {
     "name": "stdout",
     "output_type": "stream",
     "text": [
      "torch.Size([2, 3, 3]) torch.Size([2, 2, 2])\n"
     ]
    },
    {
     "data": {
      "text/plain": [
       "tensor([[ 56.,  72.],\n",
       "        [104., 120.]])"
      ]
     },
     "execution_count": 34,
     "metadata": {},
     "output_type": "execute_result"
    }
   ],
   "source": [
    "X = torch.tensor([[[0.0, 1.0, 2.0], [3.0, 4.0, 5.0], [6.0, 7.0, 8.0]],\n",
    "                  [[1.0, 2.0, 3.0], [4.0, 5.0, 6.0], [7.0, 8.0, 9.0]]])\n",
    "K = torch.tensor([[[0.0, 1.0], [2.0, 3.0]], [[1.0, 2.0], [3.0, 4.0]]])\n",
    "print(X.shape, K.shape)\n",
    "corr2d_multi_in(X, K)"
   ]
  },
  {
   "cell_type": "code",
   "execution_count": 37,
   "id": "ordinary-simpson",
   "metadata": {},
   "outputs": [
    {
     "data": {
      "text/plain": [
       "torch.Size([3, 3])"
      ]
     },
     "execution_count": 37,
     "metadata": {},
     "output_type": "execute_result"
    }
   ],
   "source": [
    "K = torch.normal(0,1,(1,1,1))\n",
    "corr2d_multi_in(X,K).shape"
   ]
  },
  {
   "cell_type": "code",
   "execution_count": 12,
   "id": "first-cookie",
   "metadata": {},
   "outputs": [
    {
     "data": {
      "text/plain": [
       "[tensor([[19., 25.],\n",
       "         [37., 43.]]),\n",
       " tensor([[37., 47.],\n",
       "         [67., 77.]])]"
      ]
     },
     "execution_count": 12,
     "metadata": {},
     "output_type": "execute_result"
    }
   ],
   "source": [
    "[corr2d(x,k) for x,k in zip(X,K)]"
   ]
  },
  {
   "cell_type": "code",
   "execution_count": 24,
   "id": "committed-botswana",
   "metadata": {},
   "outputs": [],
   "source": [
    "def corr2d_multi_in_out(X,K):\n",
    "    return torch.stack([corr2d_multi_in(X,k) for k in K],0)"
   ]
  },
  {
   "cell_type": "code",
   "execution_count": 25,
   "id": "verified-andrew",
   "metadata": {},
   "outputs": [
    {
     "data": {
      "text/plain": [
       "torch.Size([3, 2, 2, 2])"
      ]
     },
     "execution_count": 25,
     "metadata": {},
     "output_type": "execute_result"
    }
   ],
   "source": [
    "K.shape"
   ]
  },
  {
   "cell_type": "code",
   "execution_count": 21,
   "id": "temporal-parliament",
   "metadata": {},
   "outputs": [
    {
     "data": {
      "text/plain": [
       "torch.Size([3, 2, 2, 2])"
      ]
     },
     "execution_count": 21,
     "metadata": {},
     "output_type": "execute_result"
    }
   ],
   "source": [
    "K = torch.stack((K, K+1, K+2),0)\n",
    "K.shape"
   ]
  },
  {
   "cell_type": "code",
   "execution_count": 26,
   "id": "handled-international",
   "metadata": {},
   "outputs": [
    {
     "data": {
      "text/plain": [
       "tensor([[[ 56.,  72.],\n",
       "         [104., 120.]],\n",
       "\n",
       "        [[ 76., 100.],\n",
       "         [148., 172.]],\n",
       "\n",
       "        [[ 96., 128.],\n",
       "         [192., 224.]]])"
      ]
     },
     "execution_count": 26,
     "metadata": {},
     "output_type": "execute_result"
    }
   ],
   "source": [
    "corr2d_multi_in_out(X,K)"
   ]
  },
  {
   "cell_type": "code",
   "execution_count": 27,
   "id": "juvenile-villa",
   "metadata": {},
   "outputs": [],
   "source": [
    "def corr2d_multi_in_out_1x1(X,K):\n",
    "    c_i, h, w = X.shape\n",
    "    c_o = K.shape[0]\n",
    "    X = X.reshape((c_i, h * w))\n",
    "    K = K.reshape((c_o, c_i))\n",
    "    Y = torch.matmul(K,X)\n",
    "    return Y.reshape((c_o, h, w))"
   ]
  },
  {
   "cell_type": "code",
   "execution_count": 28,
   "id": "southeast-likelihood",
   "metadata": {},
   "outputs": [],
   "source": [
    "X = torch.normal(0, 1, (3, 3, 3))\n",
    "K = torch.normal(0, 1, (2, 3, 1, 1))"
   ]
  },
  {
   "cell_type": "code",
   "execution_count": 30,
   "id": "lined-tunnel",
   "metadata": {},
   "outputs": [
    {
     "name": "stdout",
     "output_type": "stream",
     "text": [
      "tensor([[[ 4.7898,  0.0481, -2.9658],\n",
      "         [-4.7554,  3.9008,  2.7700],\n",
      "         [-5.2765,  0.6535,  4.6643]],\n",
      "\n",
      "        [[-0.1877,  0.9995, -0.3257],\n",
      "         [-2.4412,  0.0975,  2.5876],\n",
      "         [-2.4499,  0.2897, -2.6085]]]) tensor([[[ 4.7898,  0.0481, -2.9658],\n",
      "         [-4.7554,  3.9008,  2.7700],\n",
      "         [-5.2765,  0.6535,  4.6643]],\n",
      "\n",
      "        [[-0.1877,  0.9995, -0.3257],\n",
      "         [-2.4412,  0.0975,  2.5876],\n",
      "         [-2.4499,  0.2897, -2.6085]]])\n",
      "tensor([[[True, True, True],\n",
      "         [True, True, True],\n",
      "         [True, True, True]],\n",
      "\n",
      "        [[True, True, True],\n",
      "         [True, True, True],\n",
      "         [True, True, True]]])\n"
     ]
    }
   ],
   "source": [
    "Y1 = corr2d_multi_in_out_1x1(X,K)\n",
    "Y2 = corr2d_multi_in_out(X,K)\n",
    "print(Y1, Y2)\n",
    "\n",
    "print(Y1==Y2)"
   ]
  },
  {
   "cell_type": "markdown",
   "id": "excited-trader",
   "metadata": {},
   "source": [
    "### Exercises\n",
    "\n",
    "1. Assume that we have two convolution kernels of size $k_1$ and $k_2$, respectively (with no nonlinearity in between).\n",
    "    1. Prove that the result of the operation can be expressed by a single convolution.\n",
    "    * not sure\n",
    "    1. What is the dimensionality of the equivalent single convolution?\n",
    "    * dont know\n",
    "    1. Is the converse true?\n",
    "    * dont know\n",
    "    \n",
    "1. Assume an input of shape $c_i\\times h\\times w$ and a convolution kernel of shape $c_o\\times c_i\\times k_h\\times k_w$, padding of $(p_h, p_w)$, and stride of $(s_h, s_w)$.\n",
    "    1. What is the computational cost (multiplications and additions) for the forward propagation?\n",
    "    1. What is the memory footprint?\n",
    "    1. What is the memory footprint for the backward computation?\n",
    "    1. What is the computational cost for the backpropagation?\n",
    "1. By what factor does the number of calculations increase if we double the number of input channels $c_i$ and the number of output channels $c_o$? What happens if we double the padding?\n",
    "1. If the height and width of a convolution kernel is $k_h=k_w=1$, what is the computational complexity of the forward propagation?\n",
    "1. Are the variables `Y1` and `Y2` in the last example of this section exactly the same? Why?\n",
    "1. How would you implement convolutions using matrix multiplication when the convolution window is not $1\\times 1$?\n"
   ]
  },
  {
   "cell_type": "code",
   "execution_count": 38,
   "id": "flush-wright",
   "metadata": {},
   "outputs": [],
   "source": [
    "# 1\n",
    "\n",
    "k1 = torch.normal(0,1,(2,3,2,2))\n",
    "k2 = torch.normal(0,1,(2,3,2,2))\n",
    "\n",
    "X = torch.normal(0,1,(3,3,3))"
   ]
  },
  {
   "cell_type": "code",
   "execution_count": 39,
   "id": "accepting-colombia",
   "metadata": {},
   "outputs": [
    {
     "name": "stdout",
     "output_type": "stream",
     "text": [
      "tensor([[[-2.3365, -4.8509],\n",
      "         [-1.5722,  6.2972]],\n",
      "\n",
      "        [[-5.6773,  0.4476],\n",
      "         [ 1.5267,  1.3301]]])\n"
     ]
    },
    {
     "data": {
      "text/plain": [
       "tensor([[[ -8.0220]],\n",
       "\n",
       "        [[-16.6490]]])"
      ]
     },
     "execution_count": 39,
     "metadata": {},
     "output_type": "execute_result"
    }
   ],
   "source": [
    "Y = corr2d_multi_in_out(X,k1)\n",
    "print(Y)\n",
    "\n",
    "corr2d_multi_in_out(Y, k2)"
   ]
  },
  {
   "cell_type": "code",
   "execution_count": 40,
   "id": "biblical-heading",
   "metadata": {},
   "outputs": [],
   "source": [
    "k1 = k1 + k2"
   ]
  },
  {
   "cell_type": "code",
   "execution_count": 41,
   "id": "healthy-struggle",
   "metadata": {},
   "outputs": [
    {
     "data": {
      "text/plain": [
       "tensor([[[ -1.8779,  -5.7017],\n",
       "         [ -6.9105,   4.1614]],\n",
       "\n",
       "        [[-10.3369,   0.2607],\n",
       "         [ -1.6612,   0.5963]]])"
      ]
     },
     "execution_count": 41,
     "metadata": {},
     "output_type": "execute_result"
    }
   ],
   "source": [
    "corr2d_multi_in_out(X, k1)"
   ]
  }
 ],
 "metadata": {
  "kernelspec": {
   "display_name": "Python 3",
   "language": "python",
   "name": "python3"
  },
  "language_info": {
   "codemirror_mode": {
    "name": "ipython",
    "version": 3
   },
   "file_extension": ".py",
   "mimetype": "text/x-python",
   "name": "python",
   "nbconvert_exporter": "python",
   "pygments_lexer": "ipython3",
   "version": "3.9.5"
  }
 },
 "nbformat": 4,
 "nbformat_minor": 5
}
