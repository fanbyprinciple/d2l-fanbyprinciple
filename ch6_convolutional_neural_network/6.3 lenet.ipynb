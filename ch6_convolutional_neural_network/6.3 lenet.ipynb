{
 "cells": [
  {
   "cell_type": "code",
   "execution_count": 2,
   "id": "bearing-furniture",
   "metadata": {},
   "outputs": [],
   "source": [
    "import torch\n",
    "from torch import nn"
   ]
  },
  {
   "cell_type": "code",
   "execution_count": 3,
   "id": "blocked-purchase",
   "metadata": {},
   "outputs": [],
   "source": [
    "lenet = nn.Sequential(nn.Conv2d(1,6, kernel_size=5, padding=2), nn.Sigmoid(),\n",
    "                    nn.AvgPool2d(kernel_size=2,stride=2),\n",
    "                    nn.Conv2d(6,16,kernel_size=5), \n",
    "                    nn.Sigmoid(),\n",
    "                    nn.AvgPool2d(kernel_size=2, stride=2),\n",
    "                    nn.Flatten(),\n",
    "                    nn.Linear(16 * 5 * 5, 120), \n",
    "                    nn.Sigmoid(),\n",
    "                    nn.Linear(120,84), nn.Sigmoid(), nn.Linear(84,10)\n",
    "                    )"
   ]
  },
  {
   "cell_type": "code",
   "execution_count": 4,
   "id": "coral-format",
   "metadata": {},
   "outputs": [],
   "source": [
    "X = torch.randn((1,1,28,28))"
   ]
  },
  {
   "cell_type": "code",
   "execution_count": 5,
   "id": "oriented-vocabulary",
   "metadata": {},
   "outputs": [
    {
     "name": "stdout",
     "output_type": "stream",
     "text": [
      "Shape of Conv2d : torch.Size([1, 6, 28, 28])\n",
      "Shape of Sigmoid : torch.Size([1, 6, 28, 28])\n",
      "Shape of AvgPool2d : torch.Size([1, 6, 14, 14])\n",
      "Shape of Conv2d : torch.Size([1, 16, 10, 10])\n",
      "Shape of Sigmoid : torch.Size([1, 16, 10, 10])\n",
      "Shape of AvgPool2d : torch.Size([1, 16, 5, 5])\n",
      "Shape of Flatten : torch.Size([1, 400])\n",
      "Shape of Linear : torch.Size([1, 120])\n",
      "Shape of Sigmoid : torch.Size([1, 120])\n",
      "Shape of Linear : torch.Size([1, 84])\n",
      "Shape of Sigmoid : torch.Size([1, 84])\n",
      "Shape of Linear : torch.Size([1, 10])\n"
     ]
    }
   ],
   "source": [
    "for layer in lenet:\n",
    "    X = layer(X)\n",
    "    \n",
    "    print(f\"Shape of {layer.__class__.__name__} : {X.shape}\")"
   ]
  },
  {
   "cell_type": "code",
   "execution_count": 6,
   "id": "chicken-problem",
   "metadata": {},
   "outputs": [],
   "source": [
    "batch_size = 256\n",
    "\n",
    "\n",
    "import torchvision.datasets as datasets\n",
    "import torchvision.transforms as transforms"
   ]
  },
  {
   "cell_type": "code",
   "execution_count": 7,
   "id": "annoying-prescription",
   "metadata": {},
   "outputs": [],
   "source": [
    "my_transforms = transforms.ToTensor()\n",
    "\n",
    "train_dataset = datasets.FashionMNIST(root=\"../data\", download=False, train=True, transform=my_transforms)\n",
    "test_dataset = datasets.FashionMNIST(root=\"../data\", download=False, train=False, transform=my_transforms)"
   ]
  },
  {
   "cell_type": "code",
   "execution_count": 8,
   "id": "pacific-celtic",
   "metadata": {},
   "outputs": [
    {
     "data": {
      "text/plain": [
       "(torch.Size([1, 28, 28]), 9)"
      ]
     },
     "execution_count": 8,
     "metadata": {},
     "output_type": "execute_result"
    }
   ],
   "source": [
    "X,y = train_dataset[0]\n",
    "X.shape,y"
   ]
  },
  {
   "cell_type": "code",
   "execution_count": 9,
   "id": "attempted-energy",
   "metadata": {},
   "outputs": [],
   "source": [
    "train_dataloader = torch.utils.data.DataLoader(train_dataset, shuffle=True, batch_size=batch_size)\n",
    "test_dataloader = torch.utils.data.DataLoader(test_dataset, shuffle=False, batch_size=batch_size)"
   ]
  },
  {
   "cell_type": "code",
   "execution_count": 10,
   "id": "geographic-publication",
   "metadata": {},
   "outputs": [
    {
     "name": "stdout",
     "output_type": "stream",
     "text": [
      "tensor([[[[0.0000, 0.0000, 0.0000,  ..., 0.0000, 0.0000, 0.0000],\n",
      "          [0.0000, 0.0000, 0.0000,  ..., 0.0000, 0.0000, 0.0000],\n",
      "          [0.0000, 0.0000, 0.0000,  ..., 0.0000, 0.0000, 0.0000],\n",
      "          ...,\n",
      "          [0.0000, 0.0000, 0.0000,  ..., 0.0000, 0.0000, 0.0000],\n",
      "          [0.0000, 0.0000, 0.0000,  ..., 0.0000, 0.0000, 0.0000],\n",
      "          [0.0000, 0.0000, 0.0000,  ..., 0.0000, 0.0000, 0.0000]]],\n",
      "\n",
      "\n",
      "        [[[0.0000, 0.0000, 0.0000,  ..., 0.0000, 0.0000, 0.0000],\n",
      "          [0.0000, 0.0000, 0.0000,  ..., 0.0000, 0.0000, 0.0000],\n",
      "          [0.0000, 0.0000, 0.0000,  ..., 0.0000, 0.0000, 0.0000],\n",
      "          ...,\n",
      "          [0.0000, 0.0000, 0.0000,  ..., 0.0000, 0.0000, 0.0000],\n",
      "          [0.0000, 0.0000, 0.0000,  ..., 0.0000, 0.0000, 0.0000],\n",
      "          [0.0000, 0.0000, 0.0000,  ..., 0.0000, 0.0000, 0.0000]]],\n",
      "\n",
      "\n",
      "        [[[0.0000, 0.0000, 0.0000,  ..., 0.0000, 0.0000, 0.0000],\n",
      "          [0.0000, 0.0000, 0.0000,  ..., 0.0000, 0.0000, 0.0000],\n",
      "          [0.0000, 0.0000, 0.0000,  ..., 0.0000, 0.0000, 0.0000],\n",
      "          ...,\n",
      "          [0.0000, 0.0000, 0.0000,  ..., 0.0000, 0.0000, 0.0000],\n",
      "          [0.0000, 0.0000, 0.0000,  ..., 0.0000, 0.0000, 0.0000],\n",
      "          [0.0000, 0.0000, 0.0000,  ..., 0.0000, 0.0000, 0.0000]]],\n",
      "\n",
      "\n",
      "        ...,\n",
      "\n",
      "\n",
      "        [[[0.0000, 0.0000, 0.0000,  ..., 0.0000, 0.0000, 0.0000],\n",
      "          [0.0000, 0.0000, 0.0000,  ..., 0.0000, 0.0000, 0.0000],\n",
      "          [0.0000, 0.0000, 0.0000,  ..., 0.0000, 0.0000, 0.0000],\n",
      "          ...,\n",
      "          [0.0000, 0.0039, 0.0000,  ..., 0.0000, 0.0039, 0.0000],\n",
      "          [0.0000, 0.0039, 0.0000,  ..., 0.0000, 0.0039, 0.0000],\n",
      "          [0.0000, 0.0000, 0.0000,  ..., 0.0000, 0.0000, 0.0000]]],\n",
      "\n",
      "\n",
      "        [[[0.0000, 0.0000, 0.0000,  ..., 0.0000, 0.0000, 0.0000],\n",
      "          [0.0000, 0.0000, 0.0000,  ..., 0.0000, 0.0000, 0.0000],\n",
      "          [0.0000, 0.0000, 0.0000,  ..., 0.0000, 0.0000, 0.0000],\n",
      "          ...,\n",
      "          [0.0000, 0.0000, 0.0000,  ..., 0.0000, 0.0000, 0.0000],\n",
      "          [0.0000, 0.0000, 0.0000,  ..., 0.0000, 0.0000, 0.0000],\n",
      "          [0.0000, 0.0000, 0.0000,  ..., 0.0000, 0.0000, 0.0000]]],\n",
      "\n",
      "\n",
      "        [[[0.0000, 0.0000, 0.0000,  ..., 0.0000, 0.0000, 0.0000],\n",
      "          [0.0000, 0.0000, 0.0000,  ..., 0.0000, 0.0000, 0.0000],\n",
      "          [0.0000, 0.0000, 0.0000,  ..., 0.0000, 0.0000, 0.0000],\n",
      "          ...,\n",
      "          [0.0000, 0.0000, 0.0000,  ..., 0.0000, 0.0000, 0.0000],\n",
      "          [0.0000, 0.0000, 0.0000,  ..., 0.0000, 0.0000, 0.0000],\n",
      "          [0.0000, 0.0000, 0.0000,  ..., 0.0000, 0.0000, 0.0000]]]]) tensor([0, 5, 4, 5, 4, 8, 8, 5, 2, 6, 1, 4, 6, 9, 0, 5, 2, 2, 1, 2, 6, 7, 6, 0,\n",
      "        8, 5, 3, 7, 7, 0, 4, 0, 0, 5, 4, 2, 8, 4, 8, 7, 9, 1, 2, 0, 7, 2, 2, 9,\n",
      "        1, 9, 8, 2, 1, 6, 0, 8, 6, 8, 2, 9, 1, 3, 2, 1, 0, 7, 7, 6, 4, 8, 4, 4,\n",
      "        1, 4, 6, 3, 2, 9, 7, 2, 2, 7, 3, 5, 9, 0, 7, 1, 4, 9, 4, 5, 0, 2, 4, 9,\n",
      "        4, 1, 5, 3, 7, 2, 6, 3, 1, 1, 2, 3, 2, 8, 8, 4, 5, 1, 9, 6, 8, 4, 9, 7,\n",
      "        0, 9, 6, 0, 8, 4, 1, 9, 2, 6, 1, 7, 6, 6, 6, 4, 1, 9, 2, 2, 8, 9, 1, 3,\n",
      "        1, 9, 1, 4, 3, 0, 7, 0, 1, 9, 8, 3, 9, 9, 2, 2, 0, 7, 9, 3, 2, 5, 0, 2,\n",
      "        4, 0, 3, 7, 9, 7, 6, 2, 2, 6, 3, 1, 1, 8, 6, 3, 3, 9, 5, 5, 2, 7, 3, 0,\n",
      "        4, 2, 2, 8, 0, 7, 6, 9, 9, 3, 5, 9, 4, 7, 0, 1, 1, 4, 4, 0, 8, 1, 4, 4,\n",
      "        3, 1, 0, 1, 7, 5, 8, 0, 7, 5, 2, 1, 3, 5, 9, 2, 8, 4, 6, 6, 4, 5, 7, 5,\n",
      "        3, 3, 7, 9, 2, 1, 9, 1, 2, 5, 4, 9, 4, 0, 7, 4])\n"
     ]
    }
   ],
   "source": [
    "for X, y in train_dataloader:\n",
    "    print(X, y)\n",
    "    break"
   ]
  },
  {
   "cell_type": "markdown",
   "id": "moderate-livestock",
   "metadata": {},
   "source": [
    "Since the full dataset is in the main memory, we need to copy it to the\n",
    "GPU memory before the model uses GPU to compute with the dataset"
   ]
  },
  {
   "cell_type": "code",
   "execution_count": 11,
   "id": "lesbian-brass",
   "metadata": {},
   "outputs": [],
   "source": [
    "def accuracy(y_hat, y):\n",
    "    return (y_hat.argmax(1)==y).sum()"
   ]
  },
  {
   "cell_type": "code",
   "execution_count": 12,
   "id": "photographic-cosmetic",
   "metadata": {},
   "outputs": [],
   "source": [
    "def evaluate_accuracy_gpu(net, data_iter):\n",
    "    if isinstance(net, nn.Module):\n",
    "        net.eval()\n",
    "        \n",
    "        device = torch.device('cuda'if torch.cuda.is_available() else 'cpu')\n",
    "    \n",
    "    acc_arr = 0\n",
    "    total_number = 0\n",
    "    \n",
    "    with torch.no_grad():\n",
    "        for X, y in data_iter:\n",
    "            X = X.to(device).float()\n",
    "            y = y.to(device).float()\n",
    "            net = net.to(device)\n",
    "            y_hat = net(X)\n",
    "            acc_arr += accuracy(y_hat, y)\n",
    "            total_number += y.numel()\n",
    "\n",
    "    return acc_arr/total_number\n",
    "        \n",
    "        "
   ]
  },
  {
   "cell_type": "code",
   "execution_count": 13,
   "id": "spare-compound",
   "metadata": {},
   "outputs": [
    {
     "data": {
      "text/plain": [
       "tensor(0.1000, device='cuda:0')"
      ]
     },
     "execution_count": 13,
     "metadata": {},
     "output_type": "execute_result"
    }
   ],
   "source": [
    "#before training\n",
    "evaluate_accuracy_gpu(lenet, test_dataloader)"
   ]
  },
  {
   "cell_type": "code",
   "execution_count": 14,
   "id": "sharp-insert",
   "metadata": {},
   "outputs": [],
   "source": [
    "import matplotlib.pyplot as plt"
   ]
  },
  {
   "cell_type": "code",
   "execution_count": 15,
   "id": "desperate-parks",
   "metadata": {},
   "outputs": [],
   "source": [
    "def train_ch6(net, train_iter, test_iter, num_epochs, lr, device):\n",
    "    \n",
    "    def init_weights(m):\n",
    "        if type(m) == nn.Linear or type(m) == nn.Conv2d:\n",
    "            nn.init.xavier_uniform_(m.weight)\n",
    "    \n",
    "    net.apply(init_weights)\n",
    "    \n",
    "    print(f'training on {device}')\n",
    "    \n",
    "    net = net.to(device)\n",
    "    \n",
    "    loss_criterion = nn.CrossEntropyLoss()\n",
    "    optimizer = torch.optim.SGD(net.parameters(), lr=lr)\n",
    "    \n",
    "    train_loss = []\n",
    "    train_acc = []\n",
    "    test_acc = []\n",
    "    \n",
    "    for epoch in range(num_epochs):\n",
    "        current_l = 0\n",
    "        current_numer = 0\n",
    "        current_acc = 0\n",
    "        net.train()\n",
    "        for i, (X, y) in enumerate(train_iter):\n",
    "            X = X.to(device).float()\n",
    "            y = y.to(device).long()\n",
    "            \n",
    "            y_hat = net(X)\n",
    "          \n",
    "            l = loss_criterion(y_hat, y)\n",
    "            optimizer.zero_grad()\n",
    "        \n",
    "            l.backward()\n",
    "        \n",
    "            optimizer.step()\n",
    "            \n",
    "            current_l += l\n",
    "            current_numer += X.shape[0]\n",
    "            current_acc += accuracy(y_hat, y)\n",
    "            \n",
    "        print(f'\\nFor epoch {epoch} the loss {current_acc/ current_numer}')\n",
    "        \n",
    "        with torch.no_grad():\n",
    "            \n",
    "            print(\"\\tStatistics:\")\n",
    "            print(f'\\tcurrent train loss : {float(current_l/current_numer)}')\n",
    "            print(f'\\tcurrent train acc : {float(current_acc/current_numer)}')\n",
    "            print(f'\\tcurrent test acc : {float(evaluate_accuracy_gpu(net, test_iter))}')\n",
    "    \n",
    "            train_loss.append(float(current_l/current_numer))\n",
    "            train_acc.append(float(current_acc/current_numer))\n",
    "            test_acc.append(float(evaluate_accuracy_gpu(net, test_iter)))\n",
    "    \n",
    "    with torch.no_grad():\n",
    "        print(len(train_loss), len(train_acc), len(test_acc))\n",
    "        print(type(train_loss), type(train_acc), type(test_acc))\n",
    "        plt.plot(range(num_epochs), train_loss)\n",
    "        plt.plot(range(num_epochs), train_acc)\n",
    "        plt.plot(range(num_epochs), test_acc)\n",
    "        plt.grid(True)\n",
    "        plt.show()\n",
    "        "
   ]
  },
  {
   "cell_type": "code",
   "execution_count": 16,
   "id": "comic-hawaii",
   "metadata": {},
   "outputs": [
    {
     "name": "stdout",
     "output_type": "stream",
     "text": [
      "training on cuda\n",
      "\n",
      "For epoch 0 the loss 0.0982000008225441\n",
      "\tStatistics:\n",
      "\tcurrent train loss : 0.009084771387279034\n",
      "\tcurrent train acc : 0.0982000008225441\n",
      "\tcurrent test acc : 0.09999999403953552\n",
      "\n",
      "For epoch 1 the loss 0.20385000109672546\n",
      "\tStatistics:\n",
      "\tcurrent train loss : 0.008115887641906738\n",
      "\tcurrent train acc : 0.20385000109672546\n",
      "\tcurrent test acc : 0.4659999907016754\n",
      "\n",
      "For epoch 2 the loss 0.6004666686058044\n",
      "\tStatistics:\n",
      "\tcurrent train loss : 0.0038968021981418133\n",
      "\tcurrent train acc : 0.6004666686058044\n",
      "\tcurrent test acc : 0.6597999930381775\n",
      "\n",
      "For epoch 3 the loss 0.6965166926383972\n",
      "\tStatistics:\n",
      "\tcurrent train loss : 0.0030336384661495686\n",
      "\tcurrent train acc : 0.6965166926383972\n",
      "\tcurrent test acc : 0.6940999627113342\n",
      "\n",
      "For epoch 4 the loss 0.7352499961853027\n",
      "\tStatistics:\n",
      "\tcurrent train loss : 0.0026485847774893045\n",
      "\tcurrent train acc : 0.7352499961853027\n",
      "\tcurrent test acc : 0.6926000118255615\n",
      "\n",
      "For epoch 5 the loss 0.7590833306312561\n",
      "\tStatistics:\n",
      "\tcurrent train loss : 0.0024256063625216484\n",
      "\tcurrent train acc : 0.7590833306312561\n",
      "\tcurrent test acc : 0.7348999977111816\n",
      "\n",
      "For epoch 6 the loss 0.7785833477973938\n",
      "\tStatistics:\n",
      "\tcurrent train loss : 0.0022456971928477287\n",
      "\tcurrent train acc : 0.7785833477973938\n",
      "\tcurrent test acc : 0.7781999707221985\n",
      "\n",
      "For epoch 7 the loss 0.7936500310897827\n",
      "\tStatistics:\n",
      "\tcurrent train loss : 0.0020975228399038315\n",
      "\tcurrent train acc : 0.7936500310897827\n",
      "\tcurrent test acc : 0.7875999808311462\n",
      "\n",
      "For epoch 8 the loss 0.8089666962623596\n",
      "\tStatistics:\n",
      "\tcurrent train loss : 0.001962600974366069\n",
      "\tcurrent train acc : 0.8089666962623596\n",
      "\tcurrent test acc : 0.7926999926567078\n",
      "\n",
      "For epoch 9 the loss 0.8192999958992004\n",
      "\tStatistics:\n",
      "\tcurrent train loss : 0.0018717519706115127\n",
      "\tcurrent train acc : 0.8192999958992004\n",
      "\tcurrent test acc : 0.8176999688148499\n",
      "10 10 10\n",
      "<class 'list'> <class 'list'> <class 'list'>\n"
     ]
    },
    {
     "data": {
      "image/png": "[encoded data removed]",
      "text/plain": [
       "<Figure size 432x288 with 1 Axes>"
      ]
     },
     "metadata": {
      "needs_background": "light"
     },
     "output_type": "display_data"
    }
   ],
   "source": [
    "lr, num_epochs = 0.005, 10\n",
    "\n",
    "device = torch.device('cuda' if torch.cuda.is_available else 'cpu')\n",
    "\n",
    "train_ch6(lenet, train_iter=train_dataloader, test_iter=test_dataloader, num_epochs=num_epochs, lr=0.9, device=device)"
   ]
  },
  {
   "cell_type": "markdown",
   "id": "modern-windows",
   "metadata": {},
   "source": [
    "## Exercises\n",
    "\n",
    "1. Replace the average pooling with maximum pooling. What happens?\n",
    "\n",
    "    * has the almost the same .8177 and .8148\n",
    "\n",
    "1. Try to construct a more complex network based on LeNet to improve its accuracy.\n",
    "    1. Adjust the convolution window size.\n",
    "    1. Adjust the number of output channels.\n",
    "    1. Adjust the activation function (e.g., ReLU).\n",
    "    1. Adjust the number of convolution layers.\n",
    "    1. Adjust the number of fully connected layers.\n",
    "    1. Adjust the learning rates and other training details (e.g., initialization and number of epochs.)\n",
    "    \n",
    "    * my changed network.\n",
    "    ```python\n",
    "    lenet_improved = nn.Sequential(nn.Conv2d(1, 6, kernel_size=5, padding=2), nn.ReLU(),\n",
    "                    nn.AvgPool2d(kernel_size=2, stride=2),\n",
    "                    nn.Conv2d(6, 16, kernel_size=5), nn.ReLU(),\n",
    "                    nn.AvgPool2d(kernel_size=2, stride=2),\n",
    "                    nn.Conv2d(16, 32, kernel_size=4), nn.ReLU(),\n",
    "                    nn.AvgPool2d(kernel_size=2, stride=2), nn.Flatten(),\n",
    "                    nn.Linear(32, 240), nn.ReLU(),\n",
    "                    nn.Linear(240,120), nn.ReLU(),\n",
    "                    nn.Linear(120, 84), nn.ReLU(), nn.Linear(84, 10))\n",
    "\n",
    "    ```\n",
    "    \n",
    "1. Try out the improved network on the original MNIST dataset.\n",
    "\n",
    "    * did try.\n",
    "    \n",
    "1. Display the activations of the first and second layer of LeNet for different inputs (e.g., sweaters and coats).\n",
    "\n",
    "    * was this what was meant?\n",
    "    \n",
    "    ```python\n",
    "    activation_from_first = nn.Sequential(net[0], net[1])\n",
    "    activation_from_second = nn.Sequential(net[0],net[1], net[2], net[3])\n",
    "\n",
    "    activation_from_first(X[0].unsqueeze(0)).shape, activation_from_second(X[2].unsqueeze(0)).shape\n",
    "    ```"
   ]
  },
  {
   "cell_type": "code",
   "execution_count": 17,
   "id": "conventional-glance",
   "metadata": {},
   "outputs": [],
   "source": [
    "net = nn.Sequential(nn.Conv2d(1, 6, kernel_size=5, padding=2), nn.Sigmoid(),\n",
    "                    nn.MaxPool2d(kernel_size=2, stride=2),\n",
    "                    nn.Conv2d(6, 16, kernel_size=5), nn.Sigmoid(),\n",
    "                    nn.MaxPool2d(kernel_size=2, stride=2), nn.Flatten(),\n",
    "                    nn.Linear(16 * 5 * 5, 120), nn.Sigmoid(),\n",
    "                    nn.Linear(120, 84), nn.Sigmoid(), nn.Linear(84, 10))"
   ]
  },
  {
   "cell_type": "code",
   "execution_count": 18,
   "id": "acting-trunk",
   "metadata": {},
   "outputs": [
    {
     "name": "stdout",
     "output_type": "stream",
     "text": [
      "training on cuda\n",
      "\n",
      "For epoch 0 the loss 0.10100000351667404\n",
      "\tStatistics:\n",
      "\tcurrent train loss : 0.009083912707865238\n",
      "\tcurrent train acc : 0.10100000351667404\n",
      "\tcurrent test acc : 0.09999999403953552\n",
      "\n",
      "For epoch 1 the loss 0.23579999804496765\n",
      "\tStatistics:\n",
      "\tcurrent train loss : 0.00778692401945591\n",
      "\tcurrent train acc : 0.23579999804496765\n",
      "\tcurrent test acc : 0.48589998483657837\n",
      "\n",
      "For epoch 2 the loss 0.6017666459083557\n",
      "\tStatistics:\n",
      "\tcurrent train loss : 0.003843797603622079\n",
      "\tcurrent train acc : 0.6017666459083557\n",
      "\tcurrent test acc : 0.6029999852180481\n",
      "\n",
      "For epoch 3 the loss 0.6999333500862122\n",
      "\tStatistics:\n",
      "\tcurrent train loss : 0.0030223061330616474\n",
      "\tcurrent train acc : 0.6999333500862122\n",
      "\tcurrent test acc : 0.6815999746322632\n",
      "\n",
      "For epoch 4 the loss 0.7396000027656555\n",
      "\tStatistics:\n",
      "\tcurrent train loss : 0.0026089297607541084\n",
      "\tcurrent train acc : 0.7396000027656555\n",
      "\tcurrent test acc : 0.6715999841690063\n",
      "\n",
      "For epoch 5 the loss 0.7629500031471252\n",
      "\tStatistics:\n",
      "\tcurrent train loss : 0.0023943143896758556\n",
      "\tcurrent train acc : 0.7629500031471252\n",
      "\tcurrent test acc : 0.7664999961853027\n",
      "\n",
      "For epoch 6 the loss 0.7803833484649658\n",
      "\tStatistics:\n",
      "\tcurrent train loss : 0.0022246812004595995\n",
      "\tcurrent train acc : 0.7803833484649658\n",
      "\tcurrent test acc : 0.7907999753952026\n",
      "\n",
      "For epoch 7 the loss 0.7975666522979736\n",
      "\tStatistics:\n",
      "\tcurrent train loss : 0.002078645396977663\n",
      "\tcurrent train acc : 0.7975666522979736\n",
      "\tcurrent test acc : 0.7958999872207642\n",
      "\n",
      "For epoch 8 the loss 0.8087500333786011\n",
      "\tStatistics:\n",
      "\tcurrent train loss : 0.001963139045983553\n",
      "\tcurrent train acc : 0.8087500333786011\n",
      "\tcurrent test acc : 0.8024999499320984\n",
      "\n",
      "For epoch 9 the loss 0.819350004196167\n",
      "\tStatistics:\n",
      "\tcurrent train loss : 0.0018829553155228496\n",
      "\tcurrent train acc : 0.819350004196167\n",
      "\tcurrent test acc : 0.8148999810218811\n",
      "10 10 10\n",
      "<class 'list'> <class 'list'> <class 'list'>\n"
     ]
    },
    {
     "data": {
      "image/png": "[encoded data removed]",
      "text/plain": [
       "<Figure size 432x288 with 1 Axes>"
      ]
     },
     "metadata": {
      "needs_background": "light"
     },
     "output_type": "display_data"
    }
   ],
   "source": [
    "train_ch6(lenet, train_iter=train_dataloader, test_iter=test_dataloader, num_epochs=num_epochs, lr=0.9, device=device)"
   ]
  },
  {
   "cell_type": "code",
   "execution_count": 20,
   "id": "binary-assurance",
   "metadata": {},
   "outputs": [
    {
     "data": {
      "text/plain": [
       "(tensor([[[[0.0000, 0.0000, 0.0000,  ..., 0.0000, 0.0000, 0.0000],\n",
       "           [0.0000, 0.0000, 0.0000,  ..., 0.0000, 0.0000, 0.0000],\n",
       "           [0.0000, 0.0000, 0.0000,  ..., 0.0000, 0.0000, 0.0000],\n",
       "           ...,\n",
       "           [0.0000, 0.0000, 0.0000,  ..., 0.0000, 0.0000, 0.0000],\n",
       "           [0.0000, 0.0000, 0.0000,  ..., 0.0000, 0.0000, 0.0000],\n",
       "           [0.0000, 0.0000, 0.0000,  ..., 0.0000, 0.0000, 0.0000]]],\n",
       " \n",
       " \n",
       "         [[[0.0000, 0.0000, 0.0000,  ..., 0.0039, 0.0000, 0.0000],\n",
       "           [0.0000, 0.0000, 0.0078,  ..., 0.0078, 0.0000, 0.0000],\n",
       "           [0.0000, 0.0000, 0.0039,  ..., 0.0039, 0.0000, 0.0000],\n",
       "           ...,\n",
       "           [0.0000, 0.0000, 0.2824,  ..., 0.5333, 0.0000, 0.0000],\n",
       "           [0.0000, 0.0000, 0.2118,  ..., 0.2275, 0.0000, 0.0000],\n",
       "           [0.0000, 0.0000, 0.0000,  ..., 0.1020, 0.0000, 0.0000]]],\n",
       " \n",
       " \n",
       "         [[[0.0000, 0.0000, 0.0000,  ..., 0.0000, 0.0000, 0.0000],\n",
       "           [0.0000, 0.0000, 0.0000,  ..., 0.0000, 0.0000, 0.0000],\n",
       "           [0.0000, 0.0000, 0.0000,  ..., 0.0000, 0.0000, 0.0000],\n",
       "           ...,\n",
       "           [0.0000, 0.0000, 0.0000,  ..., 0.0000, 0.0000, 0.0000],\n",
       "           [0.0000, 0.0000, 0.0000,  ..., 0.0000, 0.0000, 0.0000],\n",
       "           [0.0000, 0.0000, 0.0000,  ..., 0.0000, 0.0000, 0.0000]]],\n",
       " \n",
       " \n",
       "         ...,\n",
       " \n",
       " \n",
       "         [[[0.0000, 0.0000, 0.0000,  ..., 0.0000, 0.0000, 0.0000],\n",
       "           [0.0000, 0.0000, 0.0000,  ..., 0.0000, 0.0000, 0.0000],\n",
       "           [0.0000, 0.0000, 0.0000,  ..., 0.0000, 0.0000, 0.0000],\n",
       "           ...,\n",
       "           [0.0000, 0.0000, 0.0000,  ..., 0.0000, 0.0000, 0.0000],\n",
       "           [0.0000, 0.0000, 0.0000,  ..., 0.0000, 0.0000, 0.0000],\n",
       "           [0.0000, 0.0000, 0.0000,  ..., 0.0000, 0.0000, 0.0000]]],\n",
       " \n",
       " \n",
       "         [[[0.0000, 0.0000, 0.0000,  ..., 0.0000, 0.0000, 0.0000],\n",
       "           [0.0000, 0.0000, 0.0000,  ..., 0.0000, 0.0000, 0.0000],\n",
       "           [0.0000, 0.0000, 0.0000,  ..., 0.0000, 0.0000, 0.0000],\n",
       "           ...,\n",
       "           [0.0000, 0.0000, 0.0000,  ..., 0.0000, 0.0000, 0.0000],\n",
       "           [0.0000, 0.0000, 0.0000,  ..., 0.0000, 0.0000, 0.0000],\n",
       "           [0.0000, 0.0000, 0.0000,  ..., 0.0000, 0.0000, 0.0000]]],\n",
       " \n",
       " \n",
       "         [[[0.0000, 0.0000, 0.0000,  ..., 0.0000, 0.0000, 0.0000],\n",
       "           [0.0000, 0.0000, 0.0000,  ..., 0.0000, 0.0000, 0.0000],\n",
       "           [0.0000, 0.0000, 0.0000,  ..., 0.0000, 0.0000, 0.0000],\n",
       "           ...,\n",
       "           [0.0000, 0.0000, 0.0000,  ..., 0.0000, 0.0000, 0.0000],\n",
       "           [0.0000, 0.0000, 0.0000,  ..., 0.0000, 0.0000, 0.0000],\n",
       "           [0.0000, 0.0000, 0.0000,  ..., 0.0000, 0.0000, 0.0000]]]]),\n",
       " tensor([6, 6, 7, 6, 9, 0, 0, 2, 3, 8, 1, 5, 9, 1, 4, 1, 3, 9, 7, 6, 8, 8, 1, 6,\n",
       "         9, 1, 1, 7, 4, 2, 1, 9, 4, 5, 2, 9, 4, 0, 7, 7, 7, 4, 8, 3, 5, 2, 3, 4,\n",
       "         5, 3, 6, 5, 5, 5, 1, 5, 2, 8, 0, 3, 5, 5, 1, 3, 7, 1, 2, 4, 1, 2, 7, 6,\n",
       "         1, 4, 3, 7, 7, 4, 4, 6, 4, 7, 0, 0, 7, 2, 8, 3, 8, 5, 7, 0, 5, 3, 3, 5,\n",
       "         0, 6, 6, 3, 6, 2, 6, 7, 5, 9, 7, 4, 9, 9, 5, 5, 0, 6, 0, 4, 0, 4, 1, 7,\n",
       "         7, 5, 4, 8, 3, 0, 1, 8, 3, 7, 2, 7, 5, 8, 7, 3, 8, 2, 2, 1, 7, 6, 2, 4,\n",
       "         1, 6, 3, 8, 9, 8, 8, 0, 2, 7, 9, 0, 5, 4, 1, 3, 3, 6, 0, 3, 4, 3, 2, 9,\n",
       "         7, 6, 7, 4, 3, 5, 5, 8, 0, 5, 4, 8, 2, 1, 2, 9, 3, 2, 5, 4, 7, 9, 8, 2,\n",
       "         8, 9, 8, 9, 3, 9, 0, 2, 6, 4, 1, 9, 7, 5, 4, 0, 6, 4, 3, 1, 2, 7, 4, 6,\n",
       "         4, 9, 6, 4, 2, 0, 1, 1, 8, 7, 7, 0, 9, 5, 9, 4, 3, 3, 6, 3, 0, 4, 3, 9,\n",
       "         7, 6, 2, 4, 9, 3, 5, 2, 5, 8, 5, 0, 4, 7, 7, 8]))"
      ]
     },
     "execution_count": 20,
     "metadata": {},
     "output_type": "execute_result"
    }
   ],
   "source": [
    "# 4\n",
    "\n",
    "counter = []\n",
    "\n",
    "for X,y in train_dataloader:\n",
    "    counter.append((X,y))\n",
    "    if len(counter) == 2:\n",
    "        break\n",
    "counter[0]"
   ]
  },
  {
   "cell_type": "code",
   "execution_count": 23,
   "id": "varied-sudan",
   "metadata": {},
   "outputs": [
    {
     "data": {
      "text/plain": [
       "(tensor(6), tensor(7))"
      ]
     },
     "execution_count": 23,
     "metadata": {},
     "output_type": "execute_result"
    }
   ],
   "source": [
    "X, y = counter[0]\n",
    "\n",
    "y[0], y[2]"
   ]
  },
  {
   "cell_type": "code",
   "execution_count": 28,
   "id": "adaptive-gambling",
   "metadata": {},
   "outputs": [
    {
     "data": {
      "text/plain": [
       "Sequential(\n",
       "  (0): Conv2d(1, 6, kernel_size=(5, 5), stride=(1, 1), padding=(2, 2))\n",
       "  (1): Sigmoid()\n",
       "  (2): MaxPool2d(kernel_size=2, stride=2, padding=0, dilation=1, ceil_mode=False)\n",
       "  (3): Conv2d(6, 16, kernel_size=(5, 5), stride=(1, 1))\n",
       "  (4): Sigmoid()\n",
       "  (5): MaxPool2d(kernel_size=2, stride=2, padding=0, dilation=1, ceil_mode=False)\n",
       "  (6): Flatten(start_dim=1, end_dim=-1)\n",
       "  (7): Linear(in_features=400, out_features=120, bias=True)\n",
       "  (8): Sigmoid()\n",
       "  (9): Linear(in_features=120, out_features=84, bias=True)\n",
       "  (10): Sigmoid()\n",
       "  (11): Linear(in_features=84, out_features=10, bias=True)\n",
       ")"
      ]
     },
     "execution_count": 28,
     "metadata": {},
     "output_type": "execute_result"
    }
   ],
   "source": [
    "net"
   ]
  },
  {
   "cell_type": "code",
   "execution_count": 31,
   "id": "attempted-genesis",
   "metadata": {},
   "outputs": [
    {
     "data": {
      "text/plain": [
       "(torch.Size([1, 6, 28, 28]), torch.Size([1, 16, 10, 10]))"
      ]
     },
     "execution_count": 31,
     "metadata": {},
     "output_type": "execute_result"
    }
   ],
   "source": [
    "activation_from_first = nn.Sequential(net[0], net[1])\n",
    "activation_from_second = nn.Sequential(net[0],net[1], net[2], net[3])\n",
    "\n",
    "activation_from_first(X[0].unsqueeze(0)).shape, activation_from_second(X[2].unsqueeze(0)).shape"
   ]
  },
  {
   "cell_type": "code",
   "execution_count": 32,
   "id": "empty-ireland",
   "metadata": {},
   "outputs": [
    {
     "name": "stdout",
     "output_type": "stream",
     "text": [
      "Downloading http://yann.lecun.com/exdb/mnist/train-images-idx3-ubyte.gz to ../data\\MNIST\\raw\\train-images-idx3-ubyte.gz\n"
     ]
    },
    {
     "data": {
      "application/vnd.jupyter.widget-view+json": {
       "model_id": "44abce8992814efa8d05a8846c2cea5d",
       "version_major": 2,
       "version_minor": 0
      },
      "text/plain": [
       "0it [00:00, ?it/s]"
      ]
     },
     "metadata": {},
     "output_type": "display_data"
    },
    {
     "name": "stdout",
     "output_type": "stream",
     "text": [
      "Extracting ../data\\MNIST\\raw\\train-images-idx3-ubyte.gz\n",
      "Downloading http://yann.lecun.com/exdb/mnist/train-labels-idx1-ubyte.gz to ../data\\MNIST\\raw\\train-labels-idx1-ubyte.gz\n"
     ]
    },
    {
     "data": {
      "application/vnd.jupyter.widget-view+json": {
       "model_id": "d3a521be36854b5792b7c868deae9e60",
       "version_major": 2,
       "version_minor": 0
      },
      "text/plain": [
       "0it [00:00, ?it/s]"
      ]
     },
     "metadata": {},
     "output_type": "display_data"
    },
    {
     "name": "stdout",
     "output_type": "stream",
     "text": [
      "Extracting ../data\\MNIST\\raw\\train-labels-idx1-ubyte.gz\n",
      "Downloading http://yann.lecun.com/exdb/mnist/t10k-images-idx3-ubyte.gz to ../data\\MNIST\\raw\\t10k-images-idx3-ubyte.gz\n"
     ]
    },
    {
     "data": {
      "application/vnd.jupyter.widget-view+json": {
       "model_id": "c364980798f6459d801dbbc0e5ec1113",
       "version_major": 2,
       "version_minor": 0
      },
      "text/plain": [
       "0it [00:00, ?it/s]"
      ]
     },
     "metadata": {},
     "output_type": "display_data"
    },
    {
     "name": "stdout",
     "output_type": "stream",
     "text": [
      "Extracting ../data\\MNIST\\raw\\t10k-images-idx3-ubyte.gz\n",
      "Downloading http://yann.lecun.com/exdb/mnist/t10k-labels-idx1-ubyte.gz to ../data\\MNIST\\raw\\t10k-labels-idx1-ubyte.gz\n"
     ]
    },
    {
     "data": {
      "application/vnd.jupyter.widget-view+json": {
       "model_id": "aa629f403c544b008ded183d349097d3",
       "version_major": 2,
       "version_minor": 0
      },
      "text/plain": [
       "0it [00:00, ?it/s]"
      ]
     },
     "metadata": {},
     "output_type": "display_data"
    },
    {
     "name": "stdout",
     "output_type": "stream",
     "text": [
      "Extracting ../data\\MNIST\\raw\\t10k-labels-idx1-ubyte.gz\n",
      "Processing...\n",
      "Done!\n"
     ]
    },
    {
     "name": "stderr",
     "output_type": "stream",
     "text": [
      "z:\\installs\\anconda\\envs\\myenv\\lib\\site-packages\\torchvision\\datasets\\mnist.py:335: UserWarning: The given NumPy array is not writeable, and PyTorch does not support non-writeable tensors. This means you can write to the underlying (supposedly non-writeable) NumPy array using the tensor. You may want to copy the array to protect its data or make it writeable before converting it to a tensor. This type of warning will be suppressed for the rest of this program. (Triggered internally at  ..\\torch\\csrc\\utils\\tensor_numpy.cpp:180.)\n",
      "  return torch.from_numpy(parsed).view(length, num_rows, num_cols)\n"
     ]
    }
   ],
   "source": [
    "# 3\n",
    "\n",
    "# getting mnist\n",
    "\n",
    "mnist_train_dataset = datasets.MNIST(root=\"../data\",download=True, train=True, transform=my_transforms)\n",
    "mnist_test_dataset = datasets.MNIST(root=\"../data\", download=True, train=False, transform=my_transforms)\n",
    "\n",
    "mnist_train_dataloader = torch.utils.data.DataLoader(mnist_train_dataset, batch_size=batch_size, shuffle=True)\n",
    "mnist_test_dataloader = torch.utils.data.DataLoader(mnist_test_dataset, batch_size=batch_size, shuffle=False)"
   ]
  },
  {
   "cell_type": "code",
   "execution_count": 58,
   "id": "institutional-footwear",
   "metadata": {},
   "outputs": [],
   "source": [
    "#4\n",
    "\n",
    "lenet_improved = nn.Sequential(nn.Conv2d(1, 6, kernel_size=5, padding=2), nn.ReLU(),\n",
    "                    nn.AvgPool2d(kernel_size=2, stride=2),\n",
    "                    nn.Conv2d(6, 16, kernel_size=5), nn.ReLU(),\n",
    "                    nn.AvgPool2d(kernel_size=2, stride=2),\n",
    "                    nn.Conv2d(16, 32, kernel_size=4), nn.ReLU(),\n",
    "                    nn.AvgPool2d(kernel_size=2, stride=2), nn.Flatten(),\n",
    "                    nn.Linear(32, 240), nn.ReLU(),\n",
    "                    nn.Linear(240,120), nn.ReLU(),\n",
    "                    nn.Linear(120, 84), nn.ReLU(), nn.Linear(84, 10))\n"
   ]
  },
  {
   "cell_type": "code",
   "execution_count": 62,
   "id": "defined-lewis",
   "metadata": {},
   "outputs": [
    {
     "data": {
      "text/plain": [
       "torch.Size([1, 1, 28, 28])"
      ]
     },
     "execution_count": 62,
     "metadata": {},
     "output_type": "execute_result"
    }
   ],
   "source": [
    "X = torch.randn((1,1,28,28))\n",
    "X.shape"
   ]
  },
  {
   "cell_type": "code",
   "execution_count": 53,
   "id": "graduate-newport",
   "metadata": {},
   "outputs": [
    {
     "data": {
      "text/plain": [
       "Conv2d(1, 6, kernel_size=(5, 5), stride=(1, 1), padding=(2, 2))"
      ]
     },
     "execution_count": 53,
     "metadata": {},
     "output_type": "execute_result"
    }
   ],
   "source": [
    "lenet_improved[0]"
   ]
  },
  {
   "cell_type": "code",
   "execution_count": 54,
   "id": "sexual-flooring",
   "metadata": {},
   "outputs": [
    {
     "data": {
      "text/plain": [
       "tensor([[[[-4.0815e-02, -4.1642e-01,  3.3162e-01,  ..., -2.5094e-01,\n",
       "            2.5662e-01, -5.7867e-01],\n",
       "          [ 1.5078e-01, -5.4104e-01,  2.8076e-02,  ..., -7.8395e-01,\n",
       "            9.1427e-01, -4.2964e-01],\n",
       "          [-3.1678e-01, -6.8506e-01, -7.4785e-02,  ...,  1.7410e-01,\n",
       "           -4.1168e-01, -4.4575e-01],\n",
       "          ...,\n",
       "          [ 7.0028e-01, -8.2389e-01, -9.3894e-02,  ...,  7.4472e-02,\n",
       "           -1.8594e+00, -5.4426e-01],\n",
       "          [ 1.6452e-01,  3.0222e-01,  3.8585e-01,  ..., -3.8495e-01,\n",
       "            1.6415e-01,  1.4936e+00],\n",
       "          [ 3.9892e-01,  4.9043e-01,  8.3045e-03,  ...,  5.0615e-01,\n",
       "           -1.3416e-01, -7.1709e-01]],\n",
       "\n",
       "         [[ 3.6008e-01,  3.2745e-01, -5.9760e-02,  ..., -4.1414e-02,\n",
       "            3.3652e-01,  2.8017e-01],\n",
       "          [ 9.0645e-02,  3.0513e-01,  2.6756e-01,  ...,  6.2361e-01,\n",
       "            3.2318e-01,  2.9720e-01],\n",
       "          [ 5.5881e-01, -2.6925e-01, -3.5959e-01,  ..., -3.2166e-01,\n",
       "           -6.0559e-01,  2.9857e-02],\n",
       "          ...,\n",
       "          [ 2.5052e-02, -5.1186e-01, -4.8564e-01,  ...,  1.3274e+00,\n",
       "            2.9223e-01,  3.3008e-01],\n",
       "          [-2.6903e-01, -2.2841e-01,  5.4058e-02,  ...,  8.0081e-02,\n",
       "            1.0839e+00,  6.6782e-01],\n",
       "          [-2.7115e-01, -1.2467e-01,  2.5306e-01,  ...,  4.3507e-01,\n",
       "            5.0165e-01, -5.2519e-02]],\n",
       "\n",
       "         [[-1.5494e-03, -1.1253e-01,  7.0631e-01,  ...,  4.9355e-01,\n",
       "            5.6040e-01, -3.1336e-01],\n",
       "          [ 7.5416e-02,  6.5642e-01,  5.0434e-02,  ...,  9.7683e-02,\n",
       "            1.7047e-01,  1.0246e-01],\n",
       "          [-1.3983e-01,  1.9923e-01,  9.1236e-01,  ...,  1.5615e+00,\n",
       "           -2.9424e-01,  2.8999e-01],\n",
       "          ...,\n",
       "          [ 2.8053e-01,  4.6973e-01,  5.6359e-02,  ..., -7.8834e-01,\n",
       "           -5.6397e-01, -1.1752e+00],\n",
       "          [ 3.4651e-03,  3.8437e-01,  1.2136e-01,  ..., -4.2342e-01,\n",
       "            2.4189e-01,  5.9492e-01],\n",
       "          [ 6.2486e-01,  2.5515e-01, -2.8603e-01,  ...,  1.4400e-01,\n",
       "            6.2654e-01, -8.6333e-01]],\n",
       "\n",
       "         [[-3.6199e-01, -4.1877e-01, -2.5265e-01,  ...,  5.8838e-02,\n",
       "            1.8109e-02, -2.4279e-01],\n",
       "          [-7.8522e-02, -2.8733e-01, -6.3421e-02,  ..., -5.7516e-01,\n",
       "           -3.7312e-01, -5.5728e-01],\n",
       "          [-9.3535e-02, -4.5505e-01, -3.0174e-01,  ..., -3.4418e-01,\n",
       "            6.6447e-01, -3.2943e-01],\n",
       "          ...,\n",
       "          [-5.4512e-01, -6.0572e-02, -3.8197e-02,  ...,  8.7431e-01,\n",
       "           -1.8864e-01, -4.7913e-01],\n",
       "          [-1.7943e-01, -7.6586e-01,  4.3419e-02,  ..., -4.7414e-01,\n",
       "           -9.5531e-01,  2.9836e-01],\n",
       "          [-1.4006e-01, -5.0235e-01, -2.1840e-01,  ...,  1.0674e+00,\n",
       "            2.3368e-01,  1.9189e-02]],\n",
       "\n",
       "         [[ 2.3912e-01, -1.0405e-01, -2.4962e-01,  ..., -4.2847e-01,\n",
       "           -3.2531e-01, -1.8041e-01],\n",
       "          [ 6.4225e-01, -3.3142e-01,  2.6672e-01,  ..., -5.7791e-01,\n",
       "            3.9500e-01,  2.9195e-02],\n",
       "          [ 6.1727e-01,  7.9578e-02,  4.8565e-01,  ..., -8.0313e-01,\n",
       "            1.0758e+00, -5.2244e-01],\n",
       "          ...,\n",
       "          [-1.9017e-01, -4.5472e-01,  4.0601e-01,  ...,  7.5344e-01,\n",
       "           -1.2308e+00,  4.5931e-01],\n",
       "          [-4.4766e-01, -3.9700e-01,  4.9806e-01,  ...,  6.5845e-01,\n",
       "           -2.6675e-01,  4.7554e-01],\n",
       "          [-1.5951e-01, -1.7568e-01,  1.0117e-02,  ...,  1.6659e+00,\n",
       "           -7.0570e-01,  6.0892e-01]],\n",
       "\n",
       "         [[ 1.3800e-01,  2.8431e-01,  8.9600e-02,  ..., -8.9959e-02,\n",
       "           -4.8061e-01, -3.3862e-01],\n",
       "          [ 2.9471e-01,  3.3921e-01, -1.3209e-01,  ...,  7.3101e-01,\n",
       "            5.9630e-01,  4.3052e-01],\n",
       "          [ 7.8251e-01,  7.8871e-01,  5.2114e-01,  ...,  7.6838e-01,\n",
       "            2.1237e-01, -8.5897e-01],\n",
       "          ...,\n",
       "          [ 3.1701e-01,  3.2452e-01,  6.0572e-02,  ..., -1.9653e+00,\n",
       "           -1.7687e+00, -5.6614e-01],\n",
       "          [ 4.4386e-01,  2.2488e-01,  5.4280e-01,  ...,  4.3634e-01,\n",
       "            3.0928e-02,  4.6453e-02],\n",
       "          [-7.3519e-02,  5.7118e-02, -4.7686e-02,  ...,  1.5805e-01,\n",
       "           -7.5799e-01, -3.8601e-01]]]], grad_fn=<MkldnnConvolutionBackward>)"
      ]
     },
     "execution_count": 54,
     "metadata": {},
     "output_type": "execute_result"
    }
   ],
   "source": [
    "lenet_improved[0](X)"
   ]
  },
  {
   "cell_type": "code",
   "execution_count": 63,
   "id": "fiscal-disclosure",
   "metadata": {},
   "outputs": [
    {
     "name": "stdout",
     "output_type": "stream",
     "text": [
      "Shape of Conv2d :torch.Size([1, 6, 28, 28])\n",
      "Shape of ReLU :torch.Size([1, 6, 28, 28])\n",
      "Shape of AvgPool2d :torch.Size([1, 6, 14, 14])\n",
      "Shape of Conv2d :torch.Size([1, 16, 10, 10])\n",
      "Shape of ReLU :torch.Size([1, 16, 10, 10])\n",
      "Shape of AvgPool2d :torch.Size([1, 16, 5, 5])\n",
      "Shape of Conv2d :torch.Size([1, 32, 2, 2])\n",
      "Shape of ReLU :torch.Size([1, 32, 2, 2])\n",
      "Shape of AvgPool2d :torch.Size([1, 32, 1, 1])\n",
      "Shape of Flatten :torch.Size([1, 32])\n",
      "Shape of Linear :torch.Size([1, 240])\n",
      "Shape of ReLU :torch.Size([1, 240])\n",
      "Shape of Linear :torch.Size([1, 120])\n",
      "Shape of ReLU :torch.Size([1, 120])\n",
      "Shape of Linear :torch.Size([1, 84])\n",
      "Shape of ReLU :torch.Size([1, 84])\n",
      "Shape of Linear :torch.Size([1, 10])\n"
     ]
    }
   ],
   "source": [
    "for layer in lenet_improved:\n",
    "    \n",
    "    X = layer(X)\n",
    "    \n",
    "    print(f\"Shape of {layer.__class__.__name__} :{X.shape}\")"
   ]
  },
  {
   "cell_type": "code",
   "execution_count": 64,
   "id": "normal-giving",
   "metadata": {},
   "outputs": [
    {
     "name": "stdout",
     "output_type": "stream",
     "text": [
      "For LR value 0.3\n",
      "\n",
      "training on cuda\n",
      "\n",
      "For epoch 0 the loss 0.10813333094120026\n",
      "\tStatistics:\n",
      "\tcurrent train loss : 0.00907556526362896\n",
      "\tcurrent train acc : 0.10813333094120026\n",
      "\tcurrent test acc : 0.09999999403953552\n",
      "\n",
      "For epoch 1 the loss 0.4930500090122223\n",
      "\tStatistics:\n",
      "\tcurrent train loss : 0.005058921407908201\n",
      "\tcurrent train acc : 0.4930500090122223\n",
      "\tcurrent test acc : 0.5996999740600586\n",
      "\n",
      "For epoch 2 the loss 0.6727833151817322\n",
      "\tStatistics:\n",
      "\tcurrent train loss : 0.0033044079318642616\n",
      "\tcurrent train acc : 0.6727833151817322\n",
      "\tcurrent test acc : 0.6656000018119812\n",
      "\n",
      "For epoch 3 the loss 0.7261333465576172\n",
      "\tStatistics:\n",
      "\tcurrent train loss : 0.002761856419965625\n",
      "\tcurrent train acc : 0.7261333465576172\n",
      "\tcurrent test acc : 0.7127000093460083\n",
      "\n",
      "For epoch 4 the loss 0.7512166500091553\n",
      "\tStatistics:\n",
      "\tcurrent train loss : 0.002486173063516617\n",
      "\tcurrent train acc : 0.7512166500091553\n",
      "\tcurrent test acc : 0.7511999607086182\n",
      "\n",
      "For epoch 5 the loss 0.7777667045593262\n",
      "\tStatistics:\n",
      "\tcurrent train loss : 0.0022473211865872145\n",
      "\tcurrent train acc : 0.7777667045593262\n",
      "\tcurrent test acc : 0.7839999794960022\n",
      "\n",
      "For epoch 6 the loss 0.7967166900634766\n",
      "\tStatistics:\n",
      "\tcurrent train loss : 0.002081401878967881\n",
      "\tcurrent train acc : 0.7967166900634766\n",
      "\tcurrent test acc : 0.79339998960495\n",
      "\n",
      "For epoch 7 the loss 0.810283362865448\n",
      "\tStatistics:\n",
      "\tcurrent train loss : 0.001963434973731637\n",
      "\tcurrent train acc : 0.810283362865448\n",
      "\tcurrent test acc : 0.7936999797821045\n",
      "\n",
      "For epoch 8 the loss 0.8201333284378052\n",
      "\tStatistics:\n",
      "\tcurrent train loss : 0.0018651924328878522\n",
      "\tcurrent train acc : 0.8201333284378052\n",
      "\tcurrent test acc : 0.7996999621391296\n",
      "\n",
      "For epoch 9 the loss 0.8281166553497314\n",
      "\tStatistics:\n",
      "\tcurrent train loss : 0.0017957314848899841\n",
      "\tcurrent train acc : 0.8281166553497314\n",
      "\tcurrent test acc : 0.8098999857902527\n",
      "10 10 10\n",
      "<class 'list'> <class 'list'> <class 'list'>\n"
     ]
    },
    {
     "data": {
      "image/png": "[encoded data removed]",
      "text/plain": [
       "<Figure size 432x288 with 1 Axes>"
      ]
     },
     "metadata": {
      "needs_background": "light"
     },
     "output_type": "display_data"
    },
    {
     "name": "stdout",
     "output_type": "stream",
     "text": [
      "For LR value 0.8\n",
      "\n",
      "training on cuda\n",
      "\n",
      "For epoch 0 the loss 0.10333333164453506\n",
      "\tStatistics:\n",
      "\tcurrent train loss : 0.009083203040063381\n",
      "\tcurrent train acc : 0.10333333164453506\n",
      "\tcurrent test acc : 0.09999999403953552\n",
      "\n",
      "For epoch 1 the loss 0.3411666750907898\n",
      "\tStatistics:\n",
      "\tcurrent train loss : 0.006741155870258808\n",
      "\tcurrent train acc : 0.3411666750907898\n",
      "\tcurrent test acc : 0.5175999999046326\n",
      "\n",
      "For epoch 2 the loss 0.6334500312805176\n",
      "\tStatistics:\n",
      "\tcurrent train loss : 0.003610671265050769\n",
      "\tcurrent train acc : 0.6334500312805176\n",
      "\tcurrent test acc : 0.6830999851226807\n",
      "\n",
      "For epoch 3 the loss 0.7079333662986755\n",
      "\tStatistics:\n",
      "\tcurrent train loss : 0.0029316877480596304\n",
      "\tcurrent train acc : 0.7079333662986755\n",
      "\tcurrent test acc : 0.725600004196167\n",
      "\n",
      "For epoch 4 the loss 0.7436167001724243\n",
      "\tStatistics:\n",
      "\tcurrent train loss : 0.0025913442950695753\n",
      "\tcurrent train acc : 0.7436167001724243\n",
      "\tcurrent test acc : 0.739799976348877\n",
      "\n",
      "For epoch 5 the loss 0.7656166553497314\n",
      "\tStatistics:\n",
      "\tcurrent train loss : 0.0023786500096321106\n",
      "\tcurrent train acc : 0.7656166553497314\n",
      "\tcurrent test acc : 0.7447999715805054\n",
      "\n",
      "For epoch 6 the loss 0.7852333188056946\n",
      "\tStatistics:\n",
      "\tcurrent train loss : 0.002197509165853262\n",
      "\tcurrent train acc : 0.7852333188056946\n",
      "\tcurrent test acc : 0.784500002861023\n",
      "\n",
      "For epoch 7 the loss 0.7972166538238525\n",
      "\tStatistics:\n",
      "\tcurrent train loss : 0.002063416875898838\n",
      "\tcurrent train acc : 0.7972166538238525\n",
      "\tcurrent test acc : 0.7943999767303467\n",
      "\n",
      "For epoch 8 the loss 0.8097000122070312\n",
      "\tStatistics:\n",
      "\tcurrent train loss : 0.0019494392909109592\n",
      "\tcurrent train acc : 0.8097000122070312\n",
      "\tcurrent test acc : 0.7979999780654907\n",
      "\n",
      "For epoch 9 the loss 0.8197500109672546\n",
      "\tStatistics:\n",
      "\tcurrent train loss : 0.0018577220616862178\n",
      "\tcurrent train acc : 0.8197500109672546\n",
      "\tcurrent test acc : 0.821399986743927\n",
      "10 10 10\n",
      "<class 'list'> <class 'list'> <class 'list'>\n"
     ]
    },
    {
     "data": {
      "image/png": "[encoded data removed]",
      "text/plain": [
       "<Figure size 432x288 with 1 Axes>"
      ]
     },
     "metadata": {
      "needs_background": "light"
     },
     "output_type": "display_data"
    },
    {
     "name": "stdout",
     "output_type": "stream",
     "text": [
      "For LR value 0.03\n",
      "\n",
      "training on cuda\n",
      "\n",
      "For epoch 0 the loss 0.1112833321094513\n",
      "\tStatistics:\n",
      "\tcurrent train loss : 0.00906441267579794\n",
      "\tcurrent train acc : 0.1112833321094513\n",
      "\tcurrent test acc : 0.09999999403953552\n",
      "\n",
      "For epoch 1 the loss 0.48945000767707825\n",
      "\tStatistics:\n",
      "\tcurrent train loss : 0.005044324789196253\n",
      "\tcurrent train acc : 0.48945000767707825\n",
      "\tcurrent test acc : 0.5710999965667725\n",
      "\n",
      "For epoch 2 the loss 0.6740333437919617\n",
      "\tStatistics:\n",
      "\tcurrent train loss : 0.003290103282779455\n",
      "\tcurrent train acc : 0.6740333437919617\n",
      "\tcurrent test acc : 0.6832999587059021\n",
      "\n",
      "For epoch 3 the loss 0.7307166457176208\n",
      "\tStatistics:\n",
      "\tcurrent train loss : 0.002711375942453742\n",
      "\tcurrent train acc : 0.7307166457176208\n",
      "\tcurrent test acc : 0.731499969959259\n",
      "\n",
      "For epoch 4 the loss 0.7596666812896729\n",
      "\tStatistics:\n",
      "\tcurrent train loss : 0.00242816936224699\n",
      "\tcurrent train acc : 0.7596666812896729\n",
      "\tcurrent test acc : 0.7789999842643738\n",
      "\n",
      "For epoch 5 the loss 0.7825000286102295\n",
      "\tStatistics:\n",
      "\tcurrent train loss : 0.002225299132987857\n",
      "\tcurrent train acc : 0.7825000286102295\n",
      "\tcurrent test acc : 0.7910000085830688\n",
      "\n",
      "For epoch 6 the loss 0.801800012588501\n",
      "\tStatistics:\n",
      "\tcurrent train loss : 0.0020416956394910812\n",
      "\tcurrent train acc : 0.801800012588501\n",
      "\tcurrent test acc : 0.7730000019073486\n",
      "\n",
      "For epoch 7 the loss 0.8158666491508484\n",
      "\tStatistics:\n",
      "\tcurrent train loss : 0.001919425092637539\n",
      "\tcurrent train acc : 0.8158666491508484\n",
      "\tcurrent test acc : 0.767799973487854\n",
      "\n",
      "For epoch 8 the loss 0.828249990940094\n",
      "\tStatistics:\n",
      "\tcurrent train loss : 0.001812189002521336\n",
      "\tcurrent train acc : 0.828249990940094\n",
      "\tcurrent test acc : 0.7973999977111816\n",
      "\n",
      "For epoch 9 the loss 0.8354333639144897\n",
      "\tStatistics:\n",
      "\tcurrent train loss : 0.0017367050750181079\n",
      "\tcurrent train acc : 0.8354333639144897\n",
      "\tcurrent test acc : 0.8276000022888184\n",
      "10 10 10\n",
      "<class 'list'> <class 'list'> <class 'list'>\n"
     ]
    },
    {
     "data": {
      "image/png": "[encoded data removed]",
      "text/plain": [
       "<Figure size 432x288 with 1 Axes>"
      ]
     },
     "metadata": {
      "needs_background": "light"
     },
     "output_type": "display_data"
    },
    {
     "name": "stdout",
     "output_type": "stream",
     "text": [
      "For LR value 0.08\n",
      "\n",
      "training on cuda\n",
      "\n",
      "For epoch 0 the loss 0.11006666719913483\n",
      "\tStatistics:\n",
      "\tcurrent train loss : 0.00907718762755394\n",
      "\tcurrent train acc : 0.11006666719913483\n",
      "\tcurrent test acc : 0.1923999935388565\n",
      "\n",
      "For epoch 1 the loss 0.5112500190734863\n",
      "\tStatistics:\n",
      "\tcurrent train loss : 0.004848599433898926\n",
      "\tcurrent train acc : 0.5112500190734863\n",
      "\tcurrent test acc : 0.6060999631881714\n",
      "\n",
      "For epoch 2 the loss 0.6705333590507507\n",
      "\tStatistics:\n",
      "\tcurrent train loss : 0.003317495109513402\n",
      "\tcurrent train acc : 0.6705333590507507\n",
      "\tcurrent test acc : 0.7161999940872192\n",
      "\n",
      "For epoch 3 the loss 0.7222000360488892\n",
      "\tStatistics:\n",
      "\tcurrent train loss : 0.00278856442309916\n",
      "\tcurrent train acc : 0.7222000360488892\n",
      "\tcurrent test acc : 0.6823999881744385\n",
      "\n",
      "For epoch 4 the loss 0.7551833391189575\n",
      "\tStatistics:\n",
      "\tcurrent train loss : 0.00247865729033947\n",
      "\tcurrent train acc : 0.7551833391189575\n",
      "\tcurrent test acc : 0.7461999654769897\n",
      "\n",
      "For epoch 5 the loss 0.775600016117096\n",
      "\tStatistics:\n",
      "\tcurrent train loss : 0.002277645980939269\n",
      "\tcurrent train acc : 0.775600016117096\n",
      "\tcurrent test acc : 0.7738999724388123\n",
      "\n",
      "For epoch 6 the loss 0.7957000136375427\n",
      "\tStatistics:\n",
      "\tcurrent train loss : 0.002113712253049016\n",
      "\tcurrent train acc : 0.7957000136375427\n",
      "\tcurrent test acc : 0.7915999889373779\n",
      "\n",
      "For epoch 7 the loss 0.8079333305358887\n",
      "\tStatistics:\n",
      "\tcurrent train loss : 0.0020002429373562336\n",
      "\tcurrent train acc : 0.8079333305358887\n",
      "\tcurrent test acc : 0.8023999929428101\n",
      "\n",
      "For epoch 8 the loss 0.8199499845504761\n",
      "\tStatistics:\n",
      "\tcurrent train loss : 0.0018838136456906796\n",
      "\tcurrent train acc : 0.8199499845504761\n",
      "\tcurrent test acc : 0.8172000050544739\n",
      "\n",
      "For epoch 9 the loss 0.8284833431243896\n",
      "\tStatistics:\n",
      "\tcurrent train loss : 0.001805647392757237\n",
      "\tcurrent train acc : 0.8284833431243896\n",
      "\tcurrent test acc : 0.8154000043869019\n",
      "10 10 10\n",
      "<class 'list'> <class 'list'> <class 'list'>\n"
     ]
    },
    {
     "data": {
      "image/png": "[encoded data removed]",
      "text/plain": [
       "<Figure size 432x288 with 1 Axes>"
      ]
     },
     "metadata": {
      "needs_background": "light"
     },
     "output_type": "display_data"
    },
    {
     "name": "stdout",
     "output_type": "stream",
     "text": [
      "For LR value 0.003\n",
      "\n",
      "training on cuda\n",
      "\n",
      "For epoch 0 the loss 0.1619500070810318\n",
      "\tStatistics:\n",
      "\tcurrent train loss : 0.008541407994925976\n",
      "\tcurrent train acc : 0.1619500070810318\n",
      "\tcurrent test acc : 0.40449997782707214\n",
      "\n",
      "For epoch 1 the loss 0.5809833407402039\n",
      "\tStatistics:\n",
      "\tcurrent train loss : 0.004091857932507992\n",
      "\tcurrent train acc : 0.5809833407402039\n",
      "\tcurrent test acc : 0.6459000110626221\n",
      "\n",
      "For epoch 2 the loss 0.6840166449546814\n",
      "\tStatistics:\n",
      "\tcurrent train loss : 0.0031737489625811577\n",
      "\tcurrent train acc : 0.6840166449546814\n",
      "\tcurrent test acc : 0.7261999845504761\n",
      "\n",
      "For epoch 3 the loss 0.7303333282470703\n",
      "\tStatistics:\n",
      "\tcurrent train loss : 0.0026931955944746733\n",
      "\tcurrent train acc : 0.7303333282470703\n",
      "\tcurrent test acc : 0.7113999724388123\n",
      "\n",
      "For epoch 4 the loss 0.7574666738510132\n",
      "\tStatistics:\n",
      "\tcurrent train loss : 0.002434731926769018\n",
      "\tcurrent train acc : 0.7574666738510132\n",
      "\tcurrent test acc : 0.7687000036239624\n",
      "\n",
      "For epoch 5 the loss 0.7797333598136902\n",
      "\tStatistics:\n",
      "\tcurrent train loss : 0.0022419423330575228\n",
      "\tcurrent train acc : 0.7797333598136902\n",
      "\tcurrent test acc : 0.7834999561309814\n",
      "\n",
      "For epoch 6 the loss 0.7970166802406311\n",
      "\tStatistics:\n",
      "\tcurrent train loss : 0.0020862165838479996\n",
      "\tcurrent train acc : 0.7970166802406311\n",
      "\tcurrent test acc : 0.8039000034332275\n",
      "\n",
      "For epoch 7 the loss 0.8095999956130981\n",
      "\tStatistics:\n",
      "\tcurrent train loss : 0.001955067040398717\n",
      "\tcurrent train acc : 0.8095999956130981\n",
      "\tcurrent test acc : 0.7994999885559082\n",
      "\n",
      "For epoch 8 the loss 0.8245833516120911\n",
      "\tStatistics:\n",
      "\tcurrent train loss : 0.001847824896685779\n",
      "\tcurrent train acc : 0.8245833516120911\n",
      "\tcurrent test acc : 0.8258999586105347\n",
      "\n",
      "For epoch 9 the loss 0.8305667042732239\n",
      "\tStatistics:\n",
      "\tcurrent train loss : 0.0017876768251881003\n",
      "\tcurrent train acc : 0.8305667042732239\n",
      "\tcurrent test acc : 0.8156999945640564\n",
      "10 10 10\n",
      "<class 'list'> <class 'list'> <class 'list'>\n"
     ]
    },
    {
     "data": {
      "image/png": "[encoded data removed]",
      "text/plain": [
       "<Figure size 432x288 with 1 Axes>"
      ]
     },
     "metadata": {
      "needs_background": "light"
     },
     "output_type": "display_data"
    }
   ],
   "source": [
    "lr_array = [0.3, 0.8, 0.03 , 0.08, 0.003  ]\n",
    "\n",
    "num_epochs = 10\n",
    "\n",
    "device = torch.device('cuda' if torch.cuda.is_available else 'cpu')\n",
    "\n",
    "for lr in lr_array:\n",
    "    print(f\"For LR value {lr}\\n\")\n",
    "    train_ch6(lenet, train_iter=train_dataloader, test_iter=test_dataloader, num_epochs=num_epochs, lr=0.9, device=device)"
   ]
  }
 ],
 "metadata": {
  "kernelspec": {
   "display_name": "Python 3",
   "language": "python",
   "name": "python3"
  },
  "language_info": {
   "codemirror_mode": {
    "name": "ipython",
    "version": 3
   },
   "file_extension": ".py",
   "mimetype": "text/x-python",
   "name": "python",
   "nbconvert_exporter": "python",
   "pygments_lexer": "ipython3",
   "version": "3.9.5"
  }
 },
 "nbformat": 4,
 "nbformat_minor": 5
}
