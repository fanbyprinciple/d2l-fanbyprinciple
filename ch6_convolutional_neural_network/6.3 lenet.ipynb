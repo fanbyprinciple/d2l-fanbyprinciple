{
 "cells": [
  {
   "cell_type": "code",
   "execution_count": 1,
   "id": "bearing-furniture",
   "metadata": {},
   "outputs": [],
   "source": [
    "import torch\n",
    "from torch import nn"
   ]
  },
  {
   "cell_type": "code",
   "execution_count": 2,
   "id": "blocked-purchase",
   "metadata": {},
   "outputs": [],
   "source": [
    "lenet = nn.Sequential(nn.Conv2d(1,6, kernel_size=5, padding=2), nn.Sigmoid(),\n",
    "                    nn.AvgPool2d(kernel_size=2,stride=2),\n",
    "                    nn.Conv2d(6,16,kernel_size=5), \n",
    "                    nn.Sigmoid(),\n",
    "                    nn.AvgPool2d(kernel_size=2, stride=2),\n",
    "                    nn.Flatten(),\n",
    "                    nn.Linear(16 * 5 * 5, 120), \n",
    "                    nn.Sigmoid(),\n",
    "                    nn.Linear(120,84), nn.Sigmoid(), nn.Linear(84,10)\n",
    "                    )"
   ]
  },
  {
   "cell_type": "code",
   "execution_count": 3,
   "id": "coral-format",
   "metadata": {},
   "outputs": [],
   "source": [
    "X = torch.randn((1,1,28,28))"
   ]
  },
  {
   "cell_type": "code",
   "execution_count": 4,
   "id": "oriented-vocabulary",
   "metadata": {},
   "outputs": [
    {
     "name": "stdout",
     "output_type": "stream",
     "text": [
      "Shape of Conv2d : torch.Size([1, 6, 28, 28])\n",
      "Shape of Sigmoid : torch.Size([1, 6, 28, 28])\n",
      "Shape of AvgPool2d : torch.Size([1, 6, 14, 14])\n",
      "Shape of Conv2d : torch.Size([1, 16, 10, 10])\n",
      "Shape of Sigmoid : torch.Size([1, 16, 10, 10])\n",
      "Shape of AvgPool2d : torch.Size([1, 16, 5, 5])\n",
      "Shape of Flatten : torch.Size([1, 400])\n",
      "Shape of Linear : torch.Size([1, 120])\n",
      "Shape of Sigmoid : torch.Size([1, 120])\n",
      "Shape of Linear : torch.Size([1, 84])\n",
      "Shape of Sigmoid : torch.Size([1, 84])\n",
      "Shape of Linear : torch.Size([1, 10])\n"
     ]
    }
   ],
   "source": [
    "for layer in lenet:\n",
    "    X = layer(X)\n",
    "    \n",
    "    print(f\"Shape of {layer.__class__.__name__} : {X.shape}\")"
   ]
  },
  {
   "cell_type": "code",
   "execution_count": 5,
   "id": "chicken-problem",
   "metadata": {},
   "outputs": [],
   "source": [
    "batch_size = 256\n",
    "\n",
    "\n",
    "import torchvision.datasets as datasets\n",
    "import torchvision.transforms as transforms"
   ]
  },
  {
   "cell_type": "code",
   "execution_count": 6,
   "id": "annoying-prescription",
   "metadata": {},
   "outputs": [],
   "source": [
    "my_transforms = transforms.ToTensor()\n",
    "\n",
    "train_dataset = datasets.FashionMNIST(root=\"../data\", download=False, train=True, transform=my_transforms)\n",
    "test_dataset = datasets.FashionMNIST(root=\"../data\", download=False, train=False, transform=my_transforms)"
   ]
  },
  {
   "cell_type": "code",
   "execution_count": 7,
   "id": "pacific-celtic",
   "metadata": {},
   "outputs": [
    {
     "data": {
      "text/plain": [
       "(torch.Size([1, 28, 28]), 9)"
      ]
     },
     "execution_count": 7,
     "metadata": {},
     "output_type": "execute_result"
    }
   ],
   "source": [
    "X,y = train_dataset[0]\n",
    "X.shape,y"
   ]
  },
  {
   "cell_type": "code",
   "execution_count": 8,
   "id": "attempted-energy",
   "metadata": {},
   "outputs": [],
   "source": [
    "train_dataloader = torch.utils.data.DataLoader(train_dataset, shuffle=True, batch_size=batch_size)\n",
    "test_dataloader = torch.utils.data.DataLoader(test_dataset, shuffle=False, batch_size=batch_size)"
   ]
  },
  {
   "cell_type": "code",
   "execution_count": 9,
   "id": "geographic-publication",
   "metadata": {},
   "outputs": [
    {
     "name": "stdout",
     "output_type": "stream",
     "text": [
      "tensor([[[[0.0000, 0.0000, 0.0000,  ..., 0.0000, 0.0000, 0.0000],\n",
      "          [0.0000, 0.0000, 0.0000,  ..., 0.0000, 0.0000, 0.0000],\n",
      "          [0.0000, 0.0000, 0.0000,  ..., 0.0000, 0.0000, 0.0000],\n",
      "          ...,\n",
      "          [0.0000, 0.0000, 0.0000,  ..., 0.0000, 0.0000, 0.0000],\n",
      "          [0.0000, 0.0000, 0.0000,  ..., 0.0000, 0.0000, 0.0000],\n",
      "          [0.0000, 0.0000, 0.0000,  ..., 0.0000, 0.0000, 0.0000]]],\n",
      "\n",
      "\n",
      "        [[[0.0000, 0.0000, 0.0000,  ..., 0.0000, 0.0000, 0.0000],\n",
      "          [0.0000, 0.0000, 0.0000,  ..., 0.0000, 0.0000, 0.0000],\n",
      "          [0.0000, 0.0000, 0.0000,  ..., 0.0000, 0.0000, 0.0000],\n",
      "          ...,\n",
      "          [0.0000, 0.0000, 0.0000,  ..., 0.0000, 0.0000, 0.0000],\n",
      "          [0.0000, 0.0000, 0.0000,  ..., 0.0000, 0.0000, 0.0000],\n",
      "          [0.0000, 0.0000, 0.0000,  ..., 0.0000, 0.0000, 0.0000]]],\n",
      "\n",
      "\n",
      "        [[[0.0000, 0.0000, 0.0000,  ..., 0.0000, 0.0000, 0.0000],\n",
      "          [0.0000, 0.0000, 0.0000,  ..., 0.0000, 0.0000, 0.0000],\n",
      "          [0.0000, 0.0000, 0.0000,  ..., 0.0000, 0.0039, 0.0000],\n",
      "          ...,\n",
      "          [0.0000, 0.0000, 0.0000,  ..., 0.4627, 0.0000, 0.0000],\n",
      "          [0.0000, 0.0000, 0.0000,  ..., 0.0000, 0.0000, 0.0000],\n",
      "          [0.0000, 0.0000, 0.0000,  ..., 0.0000, 0.0000, 0.0000]]],\n",
      "\n",
      "\n",
      "        ...,\n",
      "\n",
      "\n",
      "        [[[0.0000, 0.0000, 0.0000,  ..., 0.0000, 0.0000, 0.0000],\n",
      "          [0.0000, 0.0000, 0.0000,  ..., 0.0000, 0.0000, 0.0000],\n",
      "          [0.0000, 0.0000, 0.0000,  ..., 0.0000, 0.0000, 0.0000],\n",
      "          ...,\n",
      "          [0.0000, 0.0000, 0.0000,  ..., 0.0000, 0.0000, 0.0000],\n",
      "          [0.0000, 0.0000, 0.0000,  ..., 0.0000, 0.0000, 0.0000],\n",
      "          [0.0000, 0.0000, 0.0000,  ..., 0.0000, 0.0000, 0.0000]]],\n",
      "\n",
      "\n",
      "        [[[0.0000, 0.0000, 0.0000,  ..., 0.0000, 0.0000, 0.0000],\n",
      "          [0.0000, 0.0000, 0.0000,  ..., 0.0000, 0.0000, 0.0000],\n",
      "          [0.0000, 0.0000, 0.0000,  ..., 0.0000, 0.0000, 0.0000],\n",
      "          ...,\n",
      "          [0.0000, 0.0000, 0.0000,  ..., 0.0000, 0.0000, 0.0000],\n",
      "          [0.0000, 0.0000, 0.0000,  ..., 0.0000, 0.0000, 0.0000],\n",
      "          [0.0000, 0.0000, 0.0000,  ..., 0.0000, 0.0000, 0.0000]]],\n",
      "\n",
      "\n",
      "        [[[0.0000, 0.0000, 0.0000,  ..., 0.0000, 0.0000, 0.0000],\n",
      "          [0.0000, 0.0000, 0.0000,  ..., 0.0000, 0.0000, 0.0000],\n",
      "          [0.0000, 0.0000, 0.0000,  ..., 0.0000, 0.0000, 0.0000],\n",
      "          ...,\n",
      "          [0.0000, 0.0000, 0.0000,  ..., 0.0000, 0.0000, 0.0000],\n",
      "          [0.0000, 0.0000, 0.0000,  ..., 0.0000, 0.0000, 0.0000],\n",
      "          [0.0000, 0.0000, 0.0000,  ..., 0.0000, 0.0000, 0.0000]]]]) tensor([7, 7, 5, 6, 1, 6, 9, 8, 4, 2, 0, 7, 3, 4, 6, 1, 1, 6, 8, 9, 0, 8, 1, 7,\n",
      "        3, 2, 6, 4, 1, 2, 9, 9, 8, 3, 4, 2, 0, 1, 3, 2, 7, 8, 9, 8, 4, 5, 5, 5,\n",
      "        9, 5, 8, 3, 1, 9, 0, 0, 0, 6, 7, 0, 6, 5, 2, 2, 4, 7, 4, 3, 4, 0, 3, 3,\n",
      "        4, 3, 0, 8, 9, 9, 2, 5, 6, 7, 9, 4, 2, 0, 6, 4, 4, 5, 2, 8, 7, 3, 1, 5,\n",
      "        9, 8, 1, 4, 4, 2, 2, 7, 9, 3, 5, 2, 7, 2, 2, 0, 7, 7, 2, 5, 6, 9, 6, 6,\n",
      "        7, 7, 7, 9, 8, 6, 0, 4, 8, 4, 8, 0, 4, 8, 0, 9, 2, 6, 6, 0, 9, 3, 3, 1,\n",
      "        1, 1, 8, 0, 6, 6, 7, 3, 9, 6, 4, 3, 0, 3, 8, 1, 8, 4, 3, 0, 9, 0, 0, 4,\n",
      "        2, 1, 8, 2, 6, 8, 5, 1, 1, 9, 0, 9, 4, 7, 9, 4, 3, 6, 6, 1, 6, 9, 2, 8,\n",
      "        4, 2, 8, 0, 3, 0, 7, 7, 2, 3, 1, 3, 7, 9, 6, 4, 9, 8, 1, 1, 9, 5, 9, 1,\n",
      "        9, 6, 6, 6, 5, 0, 8, 8, 2, 5, 4, 2, 3, 8, 5, 4, 6, 3, 2, 5, 1, 3, 9, 9,\n",
      "        4, 3, 7, 3, 1, 8, 5, 2, 4, 6, 8, 6, 7, 7, 2, 3])\n"
     ]
    }
   ],
   "source": [
    "for X, y in train_dataloader:\n",
    "    print(X, y)\n",
    "    break"
   ]
  },
  {
   "cell_type": "markdown",
   "id": "moderate-livestock",
   "metadata": {},
   "source": [
    "Since the full dataset is in the main memory, we need to copy it to the\n",
    "GPU memory before the model uses GPU to compute with the dataset"
   ]
  },
  {
   "cell_type": "code",
   "execution_count": 10,
   "id": "lesbian-brass",
   "metadata": {},
   "outputs": [],
   "source": [
    "def accuracy(y_hat, y):\n",
    "    return (y_hat.argmax(1)==y).sum()"
   ]
  },
  {
   "cell_type": "code",
   "execution_count": 11,
   "id": "photographic-cosmetic",
   "metadata": {},
   "outputs": [],
   "source": [
    "def evaluate_accuracy_gpu(net, data_iter):\n",
    "    if isinstance(net, nn.Module):\n",
    "        net.eval()\n",
    "        \n",
    "        device = torch.device('cuda'if torch.cuda.is_available() else 'cpu')\n",
    "    \n",
    "    acc_arr = 0\n",
    "    total_number = 0\n",
    "    \n",
    "    with torch.no_grad():\n",
    "        for X, y in data_iter:\n",
    "            X = X.to(device).float()\n",
    "            y = y.to(device).float()\n",
    "            net = net.to(device)\n",
    "            y_hat = net(X)\n",
    "            acc_arr += accuracy(y_hat, y)\n",
    "            total_number += y.numel()\n",
    "\n",
    "    return acc_arr/total_number\n",
    "        \n",
    "        "
   ]
  },
  {
   "cell_type": "code",
   "execution_count": 12,
   "id": "spare-compound",
   "metadata": {},
   "outputs": [
    {
     "data": {
      "text/plain": [
       "tensor(0.1000, device='cuda:0')"
      ]
     },
     "execution_count": 12,
     "metadata": {},
     "output_type": "execute_result"
    }
   ],
   "source": [
    "#before training\n",
    "evaluate_accuracy_gpu(lenet, test_dataloader)"
   ]
  },
  {
   "cell_type": "code",
   "execution_count": 13,
   "id": "sharp-insert",
   "metadata": {},
   "outputs": [],
   "source": [
    "import matplotlib.pyplot as plt"
   ]
  },
  {
   "cell_type": "code",
   "execution_count": 29,
   "id": "desperate-parks",
   "metadata": {},
   "outputs": [],
   "source": [
    "def train_ch6(net, train_iter, test_iter, num_epochs, lr, device):\n",
    "    \n",
    "    def init_weights(m):\n",
    "        if type(m) == nn.Linear or type(m) == nn.Conv2d:\n",
    "            nn.init.xavier_uniform_(m.weight)\n",
    "    \n",
    "    net.apply(init_weights)\n",
    "    \n",
    "    print(f'training on {device}')\n",
    "    \n",
    "    net = net.to(device)\n",
    "    \n",
    "    loss_criterion = nn.CrossEntropyLoss()\n",
    "    optimizer = torch.optim.SGD(net.parameters(), lr=lr)\n",
    "    \n",
    "    train_loss = []\n",
    "    train_acc = []\n",
    "    test_acc = []\n",
    "    \n",
    "    for epoch in range(num_epochs):\n",
    "        current_l = 0\n",
    "        current_numer = 0\n",
    "        current_acc = 0\n",
    "        net.train()\n",
    "        for i, (X, y) in enumerate(train_iter):\n",
    "            X = X.to(device).float()\n",
    "            y = y.to(device).long()\n",
    "            \n",
    "            y_hat = net(X)\n",
    "          \n",
    "            l = loss_criterion(y_hat, y)\n",
    "            optimizer.zero_grad()\n",
    "        \n",
    "            l.backward()\n",
    "        \n",
    "            optimizer.step()\n",
    "            \n",
    "            current_l += l\n",
    "            current_numer += X.shape[0]\n",
    "            current_acc += accuracy(y_hat, y)\n",
    "            \n",
    "        print(f'\\nFor epoch {epoch} the loss {current_acc/ current_numer}')\n",
    "        \n",
    "        with torch.no_grad():\n",
    "            \n",
    "            print(\"\\tStatistics:\")\n",
    "            print(f'\\tcurrent train loss : {float(current_l/current_numer)}')\n",
    "            print(f'\\tcurrent train acc : {float(current_acc/current_numer)}')\n",
    "            print(f'\\tcurrent test acc : {float(evaluate_accuracy_gpu(net, test_iter))}')\n",
    "    \n",
    "            train_loss.append(float(current_l/current_numer))\n",
    "            train_acc.append(float(current_acc/current_numer))\n",
    "            test_acc.append(float(evaluate_accuracy_gpu(net, test_iter)))\n",
    "    \n",
    "    with torch.no_grad():\n",
    "        print(len(train_loss), len(train_acc), len(test_acc))\n",
    "        print(type(train_loss), type(train_acc), type(test_acc))\n",
    "        plt.plot(range(num_epochs), train_loss)\n",
    "        plt.plot(range(num_epochs), train_acc)\n",
    "        plt.plot(range(num_epochs), test_acc)\n",
    "        plt.grid(True)\n",
    "        plt.show()\n",
    "        "
   ]
  },
  {
   "cell_type": "code",
   "execution_count": 30,
   "id": "comic-hawaii",
   "metadata": {},
   "outputs": [
    {
     "name": "stdout",
     "output_type": "stream",
     "text": [
      "training on cuda\n",
      "\n",
      "For epoch 0 the loss 0.10226666927337646\n",
      "\tStatistics:\n",
      "\tcurrent train loss : 0.009085250087082386\n",
      "\tcurrent train acc : 0.10226666927337646\n",
      "\tcurrent test acc : 0.09999999403953552\n",
      "\n",
      "For epoch 1 the loss 0.3962666690349579\n",
      "\tStatistics:\n",
      "\tcurrent train loss : 0.006170948967337608\n",
      "\tcurrent train acc : 0.3962666690349579\n",
      "\tcurrent test acc : 0.5760999917984009\n",
      "\n",
      "For epoch 2 the loss 0.6559000015258789\n",
      "\tStatistics:\n",
      "\tcurrent train loss : 0.0034632282331585884\n",
      "\tcurrent train acc : 0.6559000015258789\n",
      "\tcurrent test acc : 0.6793999671936035\n",
      "\n",
      "For epoch 3 the loss 0.7172666788101196\n",
      "\tStatistics:\n",
      "\tcurrent train loss : 0.0028336301911622286\n",
      "\tcurrent train acc : 0.7172666788101196\n",
      "\tcurrent test acc : 0.6642000079154968\n",
      "\n",
      "For epoch 4 the loss 0.7457500100135803\n",
      "\tStatistics:\n",
      "\tcurrent train loss : 0.0025477877352386713\n",
      "\tcurrent train acc : 0.7457500100135803\n",
      "\tcurrent test acc : 0.7080000042915344\n",
      "\n",
      "For epoch 5 the loss 0.772766649723053\n",
      "\tStatistics:\n",
      "\tcurrent train loss : 0.002303646644577384\n",
      "\tcurrent train acc : 0.772766649723053\n",
      "\tcurrent test acc : 0.757099986076355\n",
      "\n",
      "For epoch 6 the loss 0.7889666557312012\n",
      "\tStatistics:\n",
      "\tcurrent train loss : 0.0021304357796907425\n",
      "\tcurrent train acc : 0.7889666557312012\n",
      "\tcurrent test acc : 0.7484999895095825\n",
      "\n",
      "For epoch 7 the loss 0.8033000230789185\n",
      "\tStatistics:\n",
      "\tcurrent train loss : 0.002007457660511136\n",
      "\tcurrent train acc : 0.8033000230789185\n",
      "\tcurrent test acc : 0.8042999505996704\n",
      "\n",
      "For epoch 8 the loss 0.8140833377838135\n",
      "\tStatistics:\n",
      "\tcurrent train loss : 0.001906041637994349\n",
      "\tcurrent train acc : 0.8140833377838135\n",
      "\tcurrent test acc : 0.8050000071525574\n",
      "\n",
      "For epoch 9 the loss 0.8240333199501038\n",
      "\tStatistics:\n",
      "\tcurrent train loss : 0.001822622842155397\n",
      "\tcurrent train acc : 0.8240333199501038\n",
      "\tcurrent test acc : 0.8139999508857727\n",
      "10 10 10\n",
      "<class 'list'> <class 'list'> <class 'list'>\n"
     ]
    },
    {
     "data": {
      "image/png": "[encoded data removed]",
      "text/plain": [
       "<Figure size 432x288 with 1 Axes>"
      ]
     },
     "metadata": {
      "needs_background": "light"
     },
     "output_type": "display_data"
    }
   ],
   "source": [
    "lr, num_epochs = 0.005, 10\n",
    "\n",
    "device = torch.device('cuda' if torch.cuda.is_available else 'cpu')\n",
    "\n",
    "train_ch6(lenet, train_iter=train_dataloader, test_iter=test_dataloader, num_epochs=num_epochs, lr=0.9, device=device)"
   ]
  },
  {
   "cell_type": "markdown",
   "id": "modern-windows",
   "metadata": {},
   "source": [
    "## Exercises\n",
    "\n",
    "1. Replace the average pooling with maximum pooling. What happens?\n",
    "1. Try to construct a more complex network based on LeNet to improve its accuracy.\n",
    "    1. Adjust the convolution window size.\n",
    "    1. Adjust the number of output channels.\n",
    "    1. Adjust the activation function (e.g., ReLU).\n",
    "    1. Adjust the number of convolution layers.\n",
    "    1. Adjust the number of fully connected layers.\n",
    "    1. Adjust the learning rates and other training details (e.g., initialization and number of epochs.)\n",
    "1. Try out the improved network on the original MNIST dataset.\n",
    "1. Display the activations of the first and second layer of LeNet for different inputs (e.g., sweaters and coats).\n"
   ]
  },
  {
   "cell_type": "code",
   "execution_count": null,
   "id": "conventional-glance",
   "metadata": {},
   "outputs": [],
   "source": []
  }
 ],
 "metadata": {
  "kernelspec": {
   "display_name": "Python 3",
   "language": "python",
   "name": "python3"
  },
  "language_info": {
   "codemirror_mode": {
    "name": "ipython",
    "version": 3
   },
   "file_extension": ".py",
   "mimetype": "text/x-python",
   "name": "python",
   "nbconvert_exporter": "python",
   "pygments_lexer": "ipython3",
   "version": "3.9.5"
  }
 },
 "nbformat": 4,
 "nbformat_minor": 5
}
