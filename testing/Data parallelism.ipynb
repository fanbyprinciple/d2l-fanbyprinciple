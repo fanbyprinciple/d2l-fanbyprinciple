{
 "cells": [
  {
   "cell_type": "code",
   "execution_count": 1,
   "id": "c5af4081",
   "metadata": {},
   "outputs": [],
   "source": [
    "import torch"
   ]
  },
  {
   "cell_type": "code",
   "execution_count": 2,
   "id": "da7572bb",
   "metadata": {},
   "outputs": [],
   "source": [
    "import torch.nn as nn\n",
    "from torch.utils.data import Dataset, DataLoader"
   ]
  },
  {
   "cell_type": "code",
   "execution_count": 3,
   "id": "8a5095eb",
   "metadata": {},
   "outputs": [],
   "source": [
    "input_size = 5\n",
    "output_size = 2"
   ]
  },
  {
   "cell_type": "code",
   "execution_count": 4,
   "id": "80596674",
   "metadata": {},
   "outputs": [],
   "source": [
    "batch_size = 30\n",
    "data_size = 100"
   ]
  },
  {
   "cell_type": "code",
   "execution_count": 5,
   "id": "e3ba1f79",
   "metadata": {},
   "outputs": [],
   "source": [
    "device = torch.device(\"cuda:0\" if torch.cuda.is_available() else \"cpu\")"
   ]
  },
  {
   "cell_type": "code",
   "execution_count": 6,
   "id": "83ff1b17",
   "metadata": {},
   "outputs": [
    {
     "data": {
      "text/plain": [
       "tensor([[ 0.0696, -0.5384],\n",
       "        [-2.5938, -1.8000],\n",
       "        [-0.5629, -1.9857],\n",
       "        [ 1.7274, -0.3996],\n",
       "        [ 0.6649, -0.1375],\n",
       "        [ 0.6514,  0.3945],\n",
       "        [-0.5390,  0.1210],\n",
       "        [-0.4893,  0.9386],\n",
       "        [ 1.3947, -0.9564],\n",
       "        [ 0.1847,  0.2788]])"
      ]
     },
     "execution_count": 6,
     "metadata": {},
     "output_type": "execute_result"
    }
   ],
   "source": [
    "torch.randn(10,2)"
   ]
  },
  {
   "cell_type": "code",
   "execution_count": 7,
   "id": "79da8405",
   "metadata": {},
   "outputs": [],
   "source": [
    "class LinearDataset(Dataset):\n",
    "    def __init__(self, size, length):\n",
    "        self.len = length\n",
    "        self.data = torch.randn(length, size)\n",
    "        \n",
    "    def __getitem__(self,index):\n",
    "        return self.data[index]\n",
    "    \n",
    "    def __len__(self):\n",
    "        return self.len\n",
    "\n",
    "rand_loader = DataLoader(dataset=LinearDataset(input_size, data_size), batch_size=batch_size, shuffle=True)\n",
    "    "
   ]
  },
  {
   "cell_type": "code",
   "execution_count": 8,
   "id": "dd8eccda",
   "metadata": {},
   "outputs": [
    {
     "name": "stdout",
     "output_type": "stream",
     "text": [
      "4\n"
     ]
    }
   ],
   "source": [
    "print(len(rand_loader))"
   ]
  },
  {
   "cell_type": "code",
   "execution_count": 9,
   "id": "64711da8",
   "metadata": {},
   "outputs": [
    {
     "data": {
      "text/plain": [
       "torch.Size([100])"
      ]
     },
     "execution_count": 9,
     "metadata": {},
     "output_type": "execute_result"
    }
   ],
   "source": [
    "torch.randn(input_size, data_size)[0].shape"
   ]
  },
  {
   "cell_type": "code",
   "execution_count": 10,
   "id": "1f8a6006",
   "metadata": {},
   "outputs": [
    {
     "name": "stdout",
     "output_type": "stream",
     "text": [
      "tensor([-1.9513,  2.8057,  0.1388, -1.8021,  2.1974])\n",
      "tensor([ 0.3901, -0.6468, -0.4517,  0.3695, -0.2744])\n",
      "tensor([-0.5730, -0.0498, -0.5794, -0.0084, -0.2050])\n",
      "tensor([-1.2460, -0.3374, -0.0495, -0.0591,  0.7833])\n"
     ]
    }
   ],
   "source": [
    "for x in rand_loader:\n",
    "    print(x[0])"
   ]
  },
  {
   "cell_type": "code",
   "execution_count": 11,
   "id": "f16c46f2",
   "metadata": {},
   "outputs": [],
   "source": [
    "class Model(nn.Module):\n",
    "    def __init__(self, input_size, output_size):\n",
    "        super(Model, self).__init__()\n",
    "        self.fc = nn.Linear(input_size, output_size)\n",
    "    \n",
    "    def forward(self, input):\n",
    "        output = self.fc(input)\n",
    "        print(\"Model: input size: \", input.size())\n",
    "        print(\"Model: output size: \", output.size())\n",
    "        return output"
   ]
  },
  {
   "cell_type": "code",
   "execution_count": 13,
   "id": "506e6fd6",
   "metadata": {},
   "outputs": [],
   "source": [
    "model = Model(input_size, output_size)"
   ]
  },
  {
   "cell_type": "code",
   "execution_count": 14,
   "id": "c8da19c4",
   "metadata": {},
   "outputs": [
    {
     "name": "stdout",
     "output_type": "stream",
     "text": [
      "Let's use 3 GPUs!\n"
     ]
    },
    {
     "data": {
      "text/plain": [
       "DataParallel(\n",
       "  (module): Model(\n",
       "    (fc): Linear(in_features=5, out_features=2, bias=True)\n",
       "  )\n",
       ")"
      ]
     },
     "execution_count": 14,
     "metadata": {},
     "output_type": "execute_result"
    }
   ],
   "source": [
    "if torch.cuda.device_count() > 1:\n",
    "    print(\"Let's use\", torch.cuda.device_count(), \"GPUs!\")\n",
    "    # dim = 0 [30, xxx] -> [10, ...], [10, ...], [10, ...] on 3 GPUs\n",
    "    model = nn.DataParallel(model)\n",
    "\n",
    "model.to(device)"
   ]
  },
  {
   "cell_type": "code",
   "execution_count": 16,
   "id": "2e084266",
   "metadata": {},
   "outputs": [
    {
     "name": "stdout",
     "output_type": "stream",
     "text": [
      "Model: input size:  torch.Size([10, 5])\n",
      "Model: output size:  torch.Size([10, 2])\n",
      "Model: input size:  torch.Size([10, 5])\n",
      "Model: output size:  torch.Size([10, 2])\n",
      "Model: input size:  torch.Size([10, 5])\n",
      "Model: output size:  torch.Size([10, 2])\n",
      "Outside: input size torch.Size([30, 5]) output_size torch.Size([30, 2])\n",
      "Model: input size:  torch.Size([10, 5])\n",
      "Model: output size:  torch.Size([10, 2])\n",
      "Model: input size:  torch.Size([10, 5])\n",
      "Model: output size:  torch.Size([10, 2])\n",
      "Model: input size:  torch.Size([10, 5])\n",
      "Model: output size:  torch.Size([10, 2])\n",
      "Outside: input size torch.Size([30, 5]) output_size torch.Size([30, 2])\n",
      "Model: input size:  torch.Size([10, 5])\n",
      "Model: output size:  torch.Size([10, 2])\n",
      "Model: input size:  torch.Size([10, 5])\n",
      "Model: output size:  torch.Size([10, 2])\n",
      "Model: input size:  torch.Size([10, 5])\n",
      "Model: output size:  torch.Size([10, 2])\n",
      "Outside: input size torch.Size([30, 5]) output_size torch.Size([30, 2])\n",
      "Model: input size:  torch.Size([4, 5])\n",
      "Model: output size:  torch.Size([4, 2])\n",
      "Model: input size:  torch.Size([4, 5])\n",
      "Model: output size:  torch.Size([4, 2])\n",
      "Model: input size:  torch.Size([2, 5])\n",
      "Model: output size:  torch.Size([2, 2])\n",
      "Outside: input size torch.Size([10, 5]) output_size torch.Size([10, 2])\n"
     ]
    }
   ],
   "source": [
    "for data in rand_loader:\n",
    "    input = data.to(device)\n",
    "    output = model(input)\n",
    "    print(\"Outside: input size\", input.size(),\n",
    "          \"output_size\", output.size())"
   ]
  }
 ],
 "metadata": {
  "kernelspec": {
   "display_name": "Python 3 (ipykernel)",
   "language": "python",
   "name": "python3"
  },
  "language_info": {
   "codemirror_mode": {
    "name": "ipython",
    "version": 3
   },
   "file_extension": ".py",
   "mimetype": "text/x-python",
   "name": "python",
   "nbconvert_exporter": "python",
   "pygments_lexer": "ipython3",
   "version": "3.9.12"
  }
 },
 "nbformat": 4,
 "nbformat_minor": 5
}
