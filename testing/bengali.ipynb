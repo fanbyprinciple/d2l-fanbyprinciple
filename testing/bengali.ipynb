{
 "cells": [
  {
   "cell_type": "code",
   "execution_count": 1,
   "id": "1b71d43a",
   "metadata": {},
   "outputs": [
    {
     "name": "stdout",
     "output_type": "stream",
     "text": [
      "Requirement already satisfied: sentencepiece in /home/misthios/anaconda3/envs/myenv/lib/python3.9/site-packages (0.1.96)\r\n"
     ]
    }
   ],
   "source": [
    "!pip install sentencepiece"
   ]
  },
  {
   "cell_type": "code",
   "execution_count": null,
   "id": "b0cf6253",
   "metadata": {},
   "outputs": [
    {
     "data": {
      "application/vnd.jupyter.widget-view+json": {
       "model_id": "5c2f34d796124427a0ff44a67ce905ac",
       "version_major": 2,
       "version_minor": 0
      },
      "text/plain": [
       "Downloading:   0%|          | 0.00/1.07M [00:00<?, ?B/s]"
      ]
     },
     "metadata": {},
     "output_type": "display_data"
    },
    {
     "data": {
      "application/vnd.jupyter.widget-view+json": {
       "model_id": "cdb6a09316124c69a4869a96313d7054",
       "version_major": 2,
       "version_minor": 0
      },
      "text/plain": [
       "Downloading:   0%|          | 0.00/787k [00:00<?, ?B/s]"
      ]
     },
     "metadata": {},
     "output_type": "display_data"
    },
    {
     "data": {
      "application/vnd.jupyter.widget-view+json": {
       "model_id": "fcef792e2b614cb88a0ce801e427849d",
       "version_major": 2,
       "version_minor": 0
      },
      "text/plain": [
       "Downloading:   0%|          | 0.00/2.15M [00:00<?, ?B/s]"
      ]
     },
     "metadata": {},
     "output_type": "display_data"
    },
    {
     "data": {
      "application/vnd.jupyter.widget-view+json": {
       "model_id": "c613b91e4c7b41b19a0e0bee741ebde3",
       "version_major": 2,
       "version_minor": 0
      },
      "text/plain": [
       "Downloading:   0%|          | 0.00/295M [00:00<?, ?B/s]"
      ]
     },
     "metadata": {},
     "output_type": "display_data"
    }
   ],
   "source": [
    "from transformers import AutoTokenizer, AutoModelForSeq2SeqLM\n",
    "\n",
    "tokenizer = AutoTokenizer.from_pretrained(\"Helsinki-NLP/opus-mt-bn-en\")\n",
    "\n",
    "model = AutoModelForSeq2SeqLM.from_pretrained(\"Helsinki-NLP/opus-mt-bn-en\")"
   ]
  },
  {
   "cell_type": "code",
   "execution_count": null,
   "id": "202b6487",
   "metadata": {},
   "outputs": [],
   "source": [
    "model.save_pretrained('/pretrained')"
   ]
  },
  {
   "cell_type": "code",
   "execution_count": null,
   "id": "94304c9d",
   "metadata": {},
   "outputs": [],
   "source": [
    "text = \"আমার নাম জাহিদ, আমি রংপুরে বাস করি।\"\n"
   ]
  },
  {
   "cell_type": "code",
   "execution_count": null,
   "id": "36499b0c",
   "metadata": {},
   "outputs": [],
   "source": [
    "from transformers import pipeline\n",
    "translation = pipeline(task=\"translation\", model=model, tokenizer=tokenizer)"
   ]
  },
  {
   "cell_type": "code",
   "execution_count": null,
   "id": "35feab16",
   "metadata": {},
   "outputs": [],
   "source": [
    "translation(text)"
   ]
  },
  {
   "cell_type": "markdown",
   "id": "767d7ca6",
   "metadata": {},
   "source": [
    "actual : My name is Zahid, I live in Rangpur."
   ]
  },
  {
   "cell_type": "code",
   "execution_count": null,
   "id": "15580400",
   "metadata": {},
   "outputs": [],
   "source": [
    "text = \"Google ইনপুট সরঞ্জামগুলি ওয়েবে যেকোনো স্থানে আপনার পছন্দের ভাষা টাইপ করা আরো সহজ করে তোলে৷ আরো জানুন এটি ব্যবহার করে দেখতে, নীচে আপনার ভাষা এবং ইনপুট সরঞ্জাম চয়ন করুন এবং টাইপ করা শুরু করুন৷\""
   ]
  },
  {
   "cell_type": "code",
   "execution_count": null,
   "id": "f19c0ee0",
   "metadata": {},
   "outputs": [],
   "source": [
    "translation(text)"
   ]
  },
  {
   "cell_type": "code",
   "execution_count": null,
   "id": "5cd91ae1",
   "metadata": {},
   "outputs": [],
   "source": [
    "text = \"\"\"\n",
    "সেদিন রাতে উঠোনে বাবার গলা শুনে, পড়ার বইটা রেখে ঘর থেকে উঠে গেল ভারতী।।\n",
    "-এই তো মেয়ে এসে গেছে।দেখ তো মা, এটা কেমন। কিনলাম মাত্র কুড়ি টাকা দিয়ে।\n",
    "তপন কথাটা বলে মেয়ের দিকে হাত বাড়িয়ে যে জিনিসটা দিল। সেটা একটা পাতলা গেঞ্জির কাপড়ের গোল করে সেলাই করা ব্যান্ডের মতো।\n",
    "-ওটা দিয়ে আর যাই হোক ঠান্ডা আটকাবে না।এর চেয়ে তো একটা টুপি কিনতে পারতে,একটু টাকা বেশি খরচ করে।ভারতীর মা বলতে লাগলো।\n",
    "-টুপির কতো দাম জানো। আমার মতো অটোওয়ালার এই ঠিক আছে।।ভোরের দিকে একটু কানে হাওয়া লাগে তাই।\n",
    "-এভাবেই তো ঠান্ডা লেগে যাবে। নিজের জন্য তো একটা সুতোও কেনোনা। সেই কবেকার সোয়েটার টা,ছিঁড়ে গেছে তবু ওই পড়ে যাচ্ছো।\n",
    "-ধুর ধুর। কি হবে কিনে। সারাদিন তো অটো চালিয়েই কেটে যায়। এইটা এখনো বছর দুয়েক যাবে। বছরে তো মাত্র এই দু'মাস। সামনে মেয়েটার মাধ্যমিক,ওকে পড়ানোর জন্য টাকা জমাতে হবেনা??আমার এই ভালো। সস্তায় পুষ্টিকর।কিরে মা ভালো হয়নি??\n",
    "এতক্ষণ ভারতী মা-বাবার কথা শুনছিলো হাতে করে নেড়ে চেড়ে জিনিসটা দেখে এবার মাথা নাড়লো। মা ও আর কথা বাড়ালো না, গজগজ করতে করতে রান্না করতে চলে গেল।\n",
    "\n",
    "বছর পনেরোর ভারতী মুখে কিছু বলল না কারণ সে বেশ বুঝে গেছে,তাদের সংসারে আয়ের তুলনায় ব্যয় বেশি। নিম্নবিত্ত পরিবার তাদের কোনরকমে দিন চলে, তবু বাবা তার কোন অভাব রাখেনি। তার স্কুলের পেন, খাতা যখন যা লেগেছে সব এনে হাজির করেছে‌। সেটা হাজির করতে গিয়ে হয়তো শুধু নিজের শখ নয়, নিজের অতি প্রয়োজনীয় জিনিসগুলোকে পর্যন্ত  হাসিমুখে ত্যাগ করেছে। কদিন পরেই বড়দিন‌, তাদের ছোট্ট শহর জুড়েও উৎসবের মেজাজ। সেটা ভাবতেই মনে হলো, তাদের সংসারে, বাবাই হলো আসল স্যান্টাক্লজ যে হাসিমুখে সবার জন্য করে যাচ্ছে, সারাবছর সবাইকে শুধু দিয়ে যাচ্ছে। এই বাবাদের জন্যেও তো কখনো কখনো স্যান্টাক্লজ কিছু দিতে পারে, মনে হলো ভারতীর।\n",
    "\n",
    "পরের দিন স্কুলে ওয়ার্ক এডুকেশন ক্লাসে, স্কুলের কাজ হিসেবে করা, ভারতীর বোনা মোজা গুলো দেখে ওর বন্ধু সীমা বলে উঠলো-\n",
    "-ও মা তুই কি সুন্দর মোজা বানিয়েছিস, আমাকেও প্লিজ বুনে দে না। সেলাই খাতাতে জমা করতে হবে।\n",
    "\n",
    "সীমার বাবার উলের ব্যবসা সেটা জেনেই, ভারতী একটু ভেবে বলল\n",
    "-আমি বুনে দেব কিন্তু তার বদলে আমাকে চার গোলা আরো উল এনে দিতে পারবি?? আমার কাছে পয়সা থাকলে আমি কিনে নিতাম। কিন্তু..\n",
    "\"\"\""
   ]
  },
  {
   "cell_type": "code",
   "execution_count": null,
   "id": "f802e5bf",
   "metadata": {},
   "outputs": [],
   "source": [
    "text_array = text.split('।')"
   ]
  },
  {
   "cell_type": "code",
   "execution_count": null,
   "id": "038361f0",
   "metadata": {},
   "outputs": [],
   "source": [
    "for i in text_array:\n",
    "    print(translation(i))"
   ]
  },
  {
   "cell_type": "markdown",
   "id": "acd99a5d",
   "metadata": {},
   "source": [
    "### Running the file to get results from png"
   ]
  },
  {
   "cell_type": "code",
   "execution_count": null,
   "id": "dbcabc1c",
   "metadata": {},
   "outputs": [],
   "source": [
    "#!python ocr/ocr_pytesseract.py ocr"
   ]
  },
  {
   "cell_type": "markdown",
   "id": "b685df22",
   "metadata": {},
   "source": [
    "### Getting text from results"
   ]
  },
  {
   "cell_type": "code",
   "execution_count": null,
   "id": "65abf352",
   "metadata": {},
   "outputs": [],
   "source": [
    "import os\n",
    "\n",
    "dirs = os.listdir('ocr\\\\result')"
   ]
  },
  {
   "cell_type": "code",
   "execution_count": null,
   "id": "cbfa5721",
   "metadata": {},
   "outputs": [],
   "source": [
    "result_path = 'ocr\\\\result'"
   ]
  },
  {
   "cell_type": "code",
   "execution_count": null,
   "id": "c688d361",
   "metadata": {},
   "outputs": [],
   "source": [
    "dirs"
   ]
  },
  {
   "cell_type": "code",
   "execution_count": null,
   "id": "aea4bb78",
   "metadata": {},
   "outputs": [],
   "source": [
    "f1 = open(file_name, 'r+', encoding='UTF-8')\n",
    "f1.read()"
   ]
  },
  {
   "cell_type": "code",
   "execution_count": null,
   "id": "47dd79b0",
   "metadata": {},
   "outputs": [],
   "source": [
    "for i in dirs:\n",
    "    #ocr\\result\\resultpage3.png.txt\n",
    "    print(f'translating for: {result_path}\\\\{i}'  )\n",
    "    file_name = f'{result_path}\\\\{i}'\n",
    "    print(file_name)\n",
    "    f1 = open(file_name, 'w+', encoding='UTF-8')\n",
    "    f1.readlines()\n",
    "#     all_text = f1.readlines()\n",
    "#     print(all_text, file_name)\n",
    "#     for j in all_text:\n",
    "#         print(translation(j)['translation_text'])\n",
    "#     print('\\n')"
   ]
  }
 ],
 "metadata": {
  "kernelspec": {
   "display_name": "Python 3 (ipykernel)",
   "language": "python",
   "name": "python3"
  },
  "language_info": {
   "codemirror_mode": {
    "name": "ipython",
    "version": 3
   },
   "file_extension": ".py",
   "mimetype": "text/x-python",
   "name": "python",
   "nbconvert_exporter": "python",
   "pygments_lexer": "ipython3",
   "version": "3.9.12"
  }
 },
 "nbformat": 4,
 "nbformat_minor": 5
}
