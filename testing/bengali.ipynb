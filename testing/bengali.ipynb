{
 "cells": [
  {
   "cell_type": "code",
   "execution_count": 6,
   "id": "cfdd8b3a",
   "metadata": {},
   "outputs": [
    {
     "name": "stdout",
     "output_type": "stream",
     "text": [
      "Requirement already satisfied: sentencepiece in /home/misthios/anaconda3/envs/myenv/lib/python3.9/site-packages (0.1.96)\r\n"
     ]
    }
   ],
   "source": [
    "!pip install sentencepiece"
   ]
  },
  {
   "cell_type": "code",
   "execution_count": 7,
   "id": "b0cf6253",
   "metadata": {},
   "outputs": [],
   "source": [
    "from transformers import AutoTokenizer, AutoModelForSeq2SeqLM\n",
    "\n",
    "tokenizer = AutoTokenizer.from_pretrained(\"Helsinki-NLP/opus-mt-bn-en\")\n",
    "\n",
    "model = AutoModelForSeq2SeqLM.from_pretrained(\"Helsinki-NLP/opus-mt-bn-en\")"
   ]
  },
  {
   "cell_type": "code",
   "execution_count": 8,
   "id": "202b6487",
   "metadata": {},
   "outputs": [],
   "source": [
    "#model.save_pretrained('/pretrained')"
   ]
  },
  {
   "cell_type": "code",
   "execution_count": 9,
   "id": "94304c9d",
   "metadata": {},
   "outputs": [],
   "source": [
    "text = \"আমার নাম জাহিদ, আমি রংপুরে বাস করি।\"\n"
   ]
  },
  {
   "cell_type": "code",
   "execution_count": 10,
   "id": "36499b0c",
   "metadata": {},
   "outputs": [],
   "source": [
    "from transformers import pipeline\n",
    "translation = pipeline(task=\"translation\", model=model, tokenizer=tokenizer)"
   ]
  },
  {
   "cell_type": "code",
   "execution_count": 11,
   "id": "35feab16",
   "metadata": {},
   "outputs": [
    {
     "data": {
      "text/plain": [
       "[{'translation_text': 'My name is Zahid, I live in color.'}]"
      ]
     },
     "execution_count": 11,
     "metadata": {},
     "output_type": "execute_result"
    }
   ],
   "source": [
    "translation(text)"
   ]
  },
  {
   "cell_type": "markdown",
   "id": "767d7ca6",
   "metadata": {},
   "source": [
    "actual : My name is Zahid, I live in Rangpur."
   ]
  },
  {
   "cell_type": "code",
   "execution_count": 12,
   "id": "15580400",
   "metadata": {},
   "outputs": [],
   "source": [
    "text = \"Google ইনপুট সরঞ্জামগুলি ওয়েবে যেকোনো স্থানে আপনার পছন্দের ভাষা টাইপ করা আরো সহজ করে তোলে৷ আরো জানুন এটি ব্যবহার করে দেখতে, নীচে আপনার ভাষা এবং ইনপুট সরঞ্জাম চয়ন করুন এবং টাইপ করা শুরু করুন৷\""
   ]
  },
  {
   "cell_type": "code",
   "execution_count": 13,
   "id": "f19c0ee0",
   "metadata": {},
   "outputs": [
    {
     "data": {
      "text/plain": [
       "[{'translation_text': 'Google Input Tools make it easier to type your favorite languages in any place on the web. Learn more about it, check your language and input tools below, and start typing.'}]"
      ]
     },
     "execution_count": 13,
     "metadata": {},
     "output_type": "execute_result"
    }
   ],
   "source": [
    "translation(text)"
   ]
  },
  {
   "cell_type": "code",
   "execution_count": 14,
   "id": "5cd91ae1",
   "metadata": {},
   "outputs": [],
   "source": [
    "text = \"\"\"\n",
    "সেদিন রাতে উঠোনে বাবার গলা শুনে, পড়ার বইটা রেখে ঘর থেকে উঠে গেল ভারতী।।\n",
    "-এই তো মেয়ে এসে গেছে।দেখ তো মা, এটা কেমন। কিনলাম মাত্র কুড়ি টাকা দিয়ে।\n",
    "তপন কথাটা বলে মেয়ের দিকে হাত বাড়িয়ে যে জিনিসটা দিল। সেটা একটা পাতলা গেঞ্জির কাপড়ের গোল করে সেলাই করা ব্যান্ডের মতো।\n",
    "-ওটা দিয়ে আর যাই হোক ঠান্ডা আটকাবে না।এর চেয়ে তো একটা টুপি কিনতে পারতে,একটু টাকা বেশি খরচ করে।ভারতীর মা বলতে লাগলো।\n",
    "-টুপির কতো দাম জানো। আমার মতো অটোওয়ালার এই ঠিক আছে।।ভোরের দিকে একটু কানে হাওয়া লাগে তাই।\n",
    "-এভাবেই তো ঠান্ডা লেগে যাবে। নিজের জন্য তো একটা সুতোও কেনোনা। সেই কবেকার সোয়েটার টা,ছিঁড়ে গেছে তবু ওই পড়ে যাচ্ছো।\n",
    "-ধুর ধুর। কি হবে কিনে। সারাদিন তো অটো চালিয়েই কেটে যায়। এইটা এখনো বছর দুয়েক যাবে। বছরে তো মাত্র এই দু'মাস। সামনে মেয়েটার মাধ্যমিক,ওকে পড়ানোর জন্য টাকা জমাতে হবেনা??আমার এই ভালো। সস্তায় পুষ্টিকর।কিরে মা ভালো হয়নি??\n",
    "এতক্ষণ ভারতী মা-বাবার কথা শুনছিলো হাতে করে নেড়ে চেড়ে জিনিসটা দেখে এবার মাথা নাড়লো। মা ও আর কথা বাড়ালো না, গজগজ করতে করতে রান্না করতে চলে গেল।\n",
    "\n",
    "বছর পনেরোর ভারতী মুখে কিছু বলল না কারণ সে বেশ বুঝে গেছে,তাদের সংসারে আয়ের তুলনায় ব্যয় বেশি। নিম্নবিত্ত পরিবার তাদের কোনরকমে দিন চলে, তবু বাবা তার কোন অভাব রাখেনি। তার স্কুলের পেন, খাতা যখন যা লেগেছে সব এনে হাজির করেছে‌। সেটা হাজির করতে গিয়ে হয়তো শুধু নিজের শখ নয়, নিজের অতি প্রয়োজনীয় জিনিসগুলোকে পর্যন্ত  হাসিমুখে ত্যাগ করেছে। কদিন পরেই বড়দিন‌, তাদের ছোট্ট শহর জুড়েও উৎসবের মেজাজ। সেটা ভাবতেই মনে হলো, তাদের সংসারে, বাবাই হলো আসল স্যান্টাক্লজ যে হাসিমুখে সবার জন্য করে যাচ্ছে, সারাবছর সবাইকে শুধু দিয়ে যাচ্ছে। এই বাবাদের জন্যেও তো কখনো কখনো স্যান্টাক্লজ কিছু দিতে পারে, মনে হলো ভারতীর।\n",
    "\n",
    "পরের দিন স্কুলে ওয়ার্ক এডুকেশন ক্লাসে, স্কুলের কাজ হিসেবে করা, ভারতীর বোনা মোজা গুলো দেখে ওর বন্ধু সীমা বলে উঠলো-\n",
    "-ও মা তুই কি সুন্দর মোজা বানিয়েছিস, আমাকেও প্লিজ বুনে দে না। সেলাই খাতাতে জমা করতে হবে।\n",
    "\n",
    "সীমার বাবার উলের ব্যবসা সেটা জেনেই, ভারতী একটু ভেবে বলল\n",
    "-আমি বুনে দেব কিন্তু তার বদলে আমাকে চার গোলা আরো উল এনে দিতে পারবি?? আমার কাছে পয়সা থাকলে আমি কিনে নিতাম। কিন্তু..\n",
    "\"\"\""
   ]
  },
  {
   "cell_type": "code",
   "execution_count": 15,
   "id": "f802e5bf",
   "metadata": {},
   "outputs": [],
   "source": [
    "text_array = text.split('।')"
   ]
  },
  {
   "cell_type": "code",
   "execution_count": 16,
   "id": "038361f0",
   "metadata": {},
   "outputs": [
    {
     "name": "stdout",
     "output_type": "stream",
     "text": [
      "[{'translation_text': \"That night, he heard his father's voice and left his book and came home from him.\"}]\n",
      "[{'translation_text': \"“ I don't know, ” she says.\"}]\n",
      "[{'translation_text': \"- There's the girl.\"}]\n",
      "[{'translation_text': \"Look at this, Mom. How's this?\"}]\n",
      "[{'translation_text': 'I bought it with only 20 cents.'}]\n",
      "[{'translation_text': \"Well, that's right. It's about to say hand to the girl who gave it.\"}]\n",
      "[{'translation_text': \"It's like a thin lynching band.\"}]\n",
      "[{'translation_text': \"- Don't stop cold with that.\"}]\n",
      "[{'translation_text': 'You could have bought a hat, spent more money.'}]\n",
      "[{'translation_text': 'My mother was in India.'}]\n",
      "[{'translation_text': '- You know how much.'}]\n",
      "[{'translation_text': \"It's all right, Autowalla like me.\"}]\n",
      "[{'translation_text': \"“ I don't know, ” she says.\"}]\n",
      "[{'translation_text': \"I'm a little deaf in the morning, that's why.\"}]\n",
      "[{'translation_text': \"- It'll get cold.\"}]\n",
      "[{'translation_text': \"Don't buy a thread for yourself\"}]\n",
      "[{'translation_text': \"I'm leaving that sweater, but he's still going to fall.\"}]\n",
      "[{'translation_text': '- Oh, shit.'}]\n",
      "[{'translation_text': 'Buying what'}]\n",
      "[{'translation_text': \"He's been driving auto all day.\"}]\n",
      "[{'translation_text': \"It'll still be a couple of years\"}]\n",
      "[{'translation_text': 'Only two months a year.'}]\n",
      "[{'translation_text': \"You don't have to save money for a girl's secondary, can you?\"}]\n",
      "[{'translation_text': 'Cheap quality.'}]\n",
      "[{'translation_text': 'Now that Indian mother just heard about her parents, she waved it and cried out to me.'}]\n",
      "[{'translation_text': \"Mom didn't get to talk anymore, she went to cook.\"}]\n",
      "[{'translation_text': \"For 15 years India didn't say anything because she understood quite well that the cost of living is higher than income.\"}]\n",
      "[{'translation_text': \"The lowly families keep going by their days, yet my father hasn't missed them.\"}]\n",
      "[{'translation_text': \"The school's pen, when it comes to everything.\"}]\n",
      "[{'translation_text': \"It's probably not just your own fun, it's left to smile at things that you need.\"}]\n",
      "[{'translation_text': 'Christmas soon, the mood of the festival in their small town'}]\n",
      "[{'translation_text': \"That sounds like in their home, my father is the real Santaz who's been making fun of everyone all year long.\"}]\n",
      "[{'translation_text': \"For these fathers, it's sometimes Santalz, it's like that of India.\"}]\n",
      "[{'translation_text': \"The next day in school, working class, doing school, seeing Indian's sisters stocking, his friends called out - did you make pretty stocks, please don't tell me\"}]\n",
      "[{'translation_text': 'Must be submitted to the stitching notebook.'}]\n",
      "[{'translation_text': 'You know what my father\\'s business is, he said, \"I\\'ll drive but instead get me four points?'}]\n",
      "[{'translation_text': 'But..'}]\n"
     ]
    }
   ],
   "source": [
    "for i in text_array:\n",
    "    print(translation(i))"
   ]
  },
  {
   "cell_type": "markdown",
   "id": "acd99a5d",
   "metadata": {},
   "source": [
    "### Running the file to get results from png"
   ]
  },
  {
   "cell_type": "code",
   "execution_count": 17,
   "id": "dbcabc1c",
   "metadata": {},
   "outputs": [],
   "source": [
    "#!python ocr/ocr_pytesseract.py ocr"
   ]
  },
  {
   "cell_type": "markdown",
   "id": "b685df22",
   "metadata": {},
   "source": [
    "### Getting text from results"
   ]
  },
  {
   "cell_type": "code",
   "execution_count": 19,
   "id": "65abf352",
   "metadata": {},
   "outputs": [
    {
     "ename": "FileNotFoundError",
     "evalue": "[Errno 2] No such file or directory: 'ocr\\\\result'",
     "output_type": "error",
     "traceback": [
      "\u001b[0;31m---------------------------------------------------------------------------\u001b[0m",
      "\u001b[0;31mFileNotFoundError\u001b[0m                         Traceback (most recent call last)",
      "Input \u001b[0;32mIn [19]\u001b[0m, in \u001b[0;36m<cell line: 3>\u001b[0;34m()\u001b[0m\n\u001b[1;32m      1\u001b[0m \u001b[38;5;28;01mimport\u001b[39;00m \u001b[38;5;21;01mos\u001b[39;00m\n\u001b[0;32m----> 3\u001b[0m dirs \u001b[38;5;241m=\u001b[39m \u001b[43mos\u001b[49m\u001b[38;5;241;43m.\u001b[39;49m\u001b[43mlistdir\u001b[49m\u001b[43m(\u001b[49m\u001b[38;5;124;43m'\u001b[39;49m\u001b[38;5;124;43mocr\u001b[39;49m\u001b[38;5;130;43;01m\\\\\u001b[39;49;00m\u001b[38;5;124;43mresult\u001b[39;49m\u001b[38;5;124;43m'\u001b[39;49m\u001b[43m)\u001b[49m\n",
      "\u001b[0;31mFileNotFoundError\u001b[0m: [Errno 2] No such file or directory: 'ocr\\\\result'"
     ]
    }
   ],
   "source": [
    "import os\n",
    "\n",
    "dirs = os.listdir('ocr\\\\result')"
   ]
  },
  {
   "cell_type": "code",
   "execution_count": null,
   "id": "cbfa5721",
   "metadata": {},
   "outputs": [],
   "source": [
    "result_path = 'ocr\\\\result'"
   ]
  },
  {
   "cell_type": "code",
   "execution_count": null,
   "id": "c688d361",
   "metadata": {},
   "outputs": [],
   "source": [
    "dirs"
   ]
  },
  {
   "cell_type": "code",
   "execution_count": null,
   "id": "aea4bb78",
   "metadata": {},
   "outputs": [],
   "source": [
    "f1 = open(file_name, 'r+', encoding='UTF-8')\n",
    "f1.read()"
   ]
  },
  {
   "cell_type": "code",
   "execution_count": null,
   "id": "47dd79b0",
   "metadata": {},
   "outputs": [],
   "source": [
    "for i in dirs:\n",
    "    #ocr\\result\\resultpage3.png.txt\n",
    "    print(f'translating for: {result_path}\\\\{i}'  )\n",
    "    file_name = f'{result_path}\\\\{i}'\n",
    "    print(file_name)\n",
    "    f1 = open(file_name, 'w+', encoding='UTF-8')\n",
    "    f1.readlines()\n",
    "#     all_text = f1.readlines()\n",
    "#     print(all_text, file_name)\n",
    "#     for j in all_text:\n",
    "#         print(translation(j)['translation_text'])\n",
    "#     print('\\n')"
   ]
  }
 ],
 "metadata": {
  "kernelspec": {
   "display_name": "Python 3 (ipykernel)",
   "language": "python",
   "name": "python3"
  },
  "language_info": {
   "codemirror_mode": {
    "name": "ipython",
    "version": 3
   },
   "file_extension": ".py",
   "mimetype": "text/x-python",
   "name": "python",
   "nbconvert_exporter": "python",
   "pygments_lexer": "ipython3",
   "version": "3.9.12"
  }
 },
 "nbformat": 4,
 "nbformat_minor": 5
}
