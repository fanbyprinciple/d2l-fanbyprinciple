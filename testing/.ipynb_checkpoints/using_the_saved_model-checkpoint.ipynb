{
 "cells": [
  {
   "cell_type": "code",
   "execution_count": 197,
   "id": "c2490667",
   "metadata": {},
   "outputs": [],
   "source": [
    "import torch\n",
    "from torch.nn import functional as F\n",
    "from torch import nn, optim\n",
    "from math import sqrt"
   ]
  },
  {
   "cell_type": "code",
   "execution_count": 198,
   "id": "5d642047",
   "metadata": {},
   "outputs": [],
   "source": [
    "class EqualLR:\n",
    "    def __init__(self, name):\n",
    "        self.name = name\n",
    "\n",
    "    def compute_weight(self, module):\n",
    "        weight = getattr(module, self.name + '_orig')\n",
    "        fan_in = weight.data.size(1) * weight.data[0][0].numel()\n",
    "\n",
    "        return weight * sqrt(2 / fan_in)\n",
    "\n",
    "    @staticmethod\n",
    "    def apply(module, name):\n",
    "        fn = EqualLR(name)\n",
    "\n",
    "        weight = getattr(module, name)\n",
    "        del module._parameters[name]\n",
    "        module.register_parameter(name + '_orig', nn.Parameter(weight.data))\n",
    "        module.register_forward_pre_hook(fn)\n",
    "\n",
    "        return fn\n",
    "\n",
    "    def __call__(self, module, input):\n",
    "        weight = self.compute_weight(module)\n",
    "        setattr(module, self.name, weight)"
   ]
  },
  {
   "cell_type": "code",
   "execution_count": 199,
   "id": "e78a7ab2",
   "metadata": {},
   "outputs": [],
   "source": [
    "def equal_lr(module, name='weight'):\n",
    "    EqualLR.apply(module, name)\n",
    "\n",
    "    return module"
   ]
  },
  {
   "cell_type": "code",
   "execution_count": 200,
   "id": "e231ab15",
   "metadata": {},
   "outputs": [],
   "source": [
    "class PixelNorm(nn.Module):\n",
    "    def __init__(self):\n",
    "        super().__init__()\n",
    "\n",
    "    def forward(self, input):\n",
    "        return input / torch.sqrt(torch.mean(input ** 2, dim=1, keepdim=True)\n",
    "                                  + 1e-8)"
   ]
  },
  {
   "cell_type": "code",
   "execution_count": 201,
   "id": "169fca1d",
   "metadata": {},
   "outputs": [],
   "source": [
    "class EqualConv2d(nn.Module):\n",
    "    def __init__(self, *args, **kwargs):\n",
    "        super().__init__()\n",
    "\n",
    "        conv = nn.Conv2d(*args, **kwargs)\n",
    "        conv.weight.data.normal_()\n",
    "        conv.bias.data.zero_()\n",
    "        self.conv = equal_lr(conv)\n",
    "\n",
    "    def forward(self, input):\n",
    "        return self.conv(input)"
   ]
  },
  {
   "cell_type": "code",
   "execution_count": 202,
   "id": "2afb363e",
   "metadata": {},
   "outputs": [],
   "source": [
    "class EqualConvTranspose2d(nn.Module):\n",
    "    ### additional module for OOGAN usage\n",
    "    def __init__(self, *args, **kwargs):\n",
    "        super().__init__()\n",
    "\n",
    "        conv = nn.ConvTranspose2d(*args, **kwargs)\n",
    "        conv.weight.data.normal_()\n",
    "        conv.bias.data.zero_()\n",
    "        self.conv = equal_lr(conv)\n",
    "\n",
    "    def forward(self, input):\n",
    "        return self.conv(input)"
   ]
  },
  {
   "cell_type": "code",
   "execution_count": 203,
   "id": "3703a72a",
   "metadata": {},
   "outputs": [],
   "source": [
    "class EqualLinear(nn.Module):\n",
    "    def __init__(self, in_dim, out_dim):\n",
    "        super().__init__()\n",
    "\n",
    "        linear = nn.Linear(in_dim, out_dim)\n",
    "        linear.weight.data.normal_()\n",
    "        linear.bias.data.zero_()\n",
    "\n",
    "        self.linear = equal_lr(linear)\n",
    "\n",
    "    def forward(self, input):\n",
    "        return self.linear(input)"
   ]
  },
  {
   "cell_type": "code",
   "execution_count": 204,
   "id": "7675add8",
   "metadata": {},
   "outputs": [],
   "source": [
    "class ConvBlock(nn.Module):\n",
    "    def __init__(self, in_channel, out_channel, kernel_size, padding, kernel_size2=None, padding2=None, pixel_norm=True):\n",
    "        super().__init__()\n",
    "\n",
    "        pad1 = padding\n",
    "        pad2 = padding\n",
    "        if padding2 is not None:\n",
    "            pad2 = padding2\n",
    "\n",
    "        kernel1 = kernel_size\n",
    "        kernel2 = kernel_size\n",
    "        if kernel_size2 is not None:\n",
    "            kernel2 = kernel_size2\n",
    "\n",
    "        convs = [EqualConv2d(in_channel, out_channel, kernel1, padding=pad1)]\n",
    "        if pixel_norm:\n",
    "            convs.append(PixelNorm())\n",
    "        convs.append(nn.LeakyReLU(0.1))\n",
    "        convs.append(EqualConv2d(out_channel, out_channel, kernel2, padding=pad2))\n",
    "        if pixel_norm:\n",
    "            convs.append(PixelNorm())\n",
    "        convs.append(nn.LeakyReLU(0.1))\n",
    "\n",
    "        self.conv = nn.Sequential(*convs)\n",
    "\n",
    "    def forward(self, input):\n",
    "        out = self.conv(input)\n",
    "        return out\n"
   ]
  },
  {
   "cell_type": "code",
   "execution_count": 205,
   "id": "3dba7b44",
   "metadata": {},
   "outputs": [],
   "source": [
    "def upscale(feat):\n",
    "    return F.interpolate(feat, scale_factor=2, mode='bilinear', align_corners=False)"
   ]
  },
  {
   "cell_type": "code",
   "execution_count": 206,
   "id": "7ce97f44",
   "metadata": {},
   "outputs": [],
   "source": [
    "class Generator(nn.Module):\n",
    "    def __init__(self, input_code_dim=128, in_channel=128, pixel_norm=True, tanh=True):\n",
    "        super().__init__()\n",
    "        self.input_dim = input_code_dim\n",
    "        self.tanh = tanh\n",
    "        self.input_layer = nn.Sequential(\n",
    "            EqualConvTranspose2d(input_code_dim, in_channel, 4, 1, 0),\n",
    "            PixelNorm(),\n",
    "            nn.LeakyReLU(0.1))\n",
    "\n",
    "        self.progression_4 = ConvBlock(in_channel, in_channel, 3, 1, pixel_norm=pixel_norm)\n",
    "        self.progression_8 = ConvBlock(in_channel, in_channel, 3, 1, pixel_norm=pixel_norm)\n",
    "        self.progression_16 = ConvBlock(in_channel, in_channel, 3, 1, pixel_norm=pixel_norm)\n",
    "        self.progression_32 = ConvBlock(in_channel, in_channel, 3, 1, pixel_norm=pixel_norm)\n",
    "        self.progression_64 = ConvBlock(in_channel, in_channel//2, 3, 1, pixel_norm=pixel_norm)\n",
    "        self.progression_128 = ConvBlock(in_channel//2, in_channel//4, 3, 1, pixel_norm=pixel_norm)\n",
    "        self.progression_256 = ConvBlock(in_channel//4, in_channel//4, 3, 1, pixel_norm=pixel_norm)\n",
    "\n",
    "        self.to_rgb_8 = EqualConv2d(in_channel, 3, 1)\n",
    "        self.to_rgb_16 = EqualConv2d(in_channel, 3, 1)\n",
    "        self.to_rgb_32 = EqualConv2d(in_channel, 3, 1)\n",
    "        self.to_rgb_64 = EqualConv2d(in_channel//2, 3, 1)\n",
    "        self.to_rgb_128 = EqualConv2d(in_channel//4, 3, 1)\n",
    "        self.to_rgb_256 = EqualConv2d(in_channel//4, 3, 1)\n",
    "        \n",
    "        self.max_step = 6\n",
    "\n",
    "    def progress(self, feat, module):\n",
    "        out = F.interpolate(feat, scale_factor=2, mode='bilinear', align_corners=False)\n",
    "        out = module(out)\n",
    "        return out\n",
    "\n",
    "    def output(self, feat1, feat2, module1, module2, alpha):\n",
    "        if 0 <= alpha < 1:\n",
    "            skip_rgb = upscale(module1(feat1))\n",
    "            out = (1-alpha)*skip_rgb + alpha*module2(feat2)\n",
    "        else:\n",
    "            out = module2(feat2)\n",
    "        if self.tanh:\n",
    "            return torch.tanh(out)\n",
    "        return out\n",
    "\n",
    "    def forward(self, input, step=0, alpha=-1):\n",
    "        if step > self.max_step:\n",
    "            step = self.max_step\n",
    "\n",
    "        out_4 = self.input_layer(input.view(-1, self.input_dim, 1, 1))\n",
    "        out_4 = self.progression_4(out_4)\n",
    "        out_8 = self.progress(out_4, self.progression_8)\n",
    "        if step==1:\n",
    "            if self.tanh:\n",
    "                return torch.tanh(self.to_rgb_8(out_8))\n",
    "            return self.to_rgb_8(out_8)\n",
    "        \n",
    "        out_16 = self.progress(out_8, self.progression_16)\n",
    "        if step==2:\n",
    "            return self.output( out_8, out_16, self.to_rgb_8, self.to_rgb_16, alpha )\n",
    "        \n",
    "        out_32 = self.progress(out_16, self.progression_32)\n",
    "        if step==3:\n",
    "            return self.output( out_16, out_32, self.to_rgb_16, self.to_rgb_32, alpha )\n",
    "\n",
    "        out_64 = self.progress(out_32, self.progression_64)\n",
    "        if step==4:\n",
    "            return self.output( out_32, out_64, self.to_rgb_32, self.to_rgb_64, alpha )\n",
    "        \n",
    "        out_128 = self.progress(out_64, self.progression_128)\n",
    "        if step==5:\n",
    "            return self.output( out_64, out_128, self.to_rgb_64, self.to_rgb_128, alpha )\n",
    "\n",
    "        out_256 = self.progress(out_128, self.progression_256)\n",
    "        if step==6:\n",
    "            return self.output( out_128, out_256, self.to_rgb_128, self.to_rgb_256, alpha )"
   ]
  },
  {
   "cell_type": "code",
   "execution_count": 207,
   "id": "bb2c18ed",
   "metadata": {},
   "outputs": [],
   "source": [
    "class Discriminator(nn.Module):\n",
    "    def __init__(self, feat_dim=128):\n",
    "        super().__init__()\n",
    "\n",
    "        self.progression = nn.ModuleList([ConvBlock(feat_dim//4, feat_dim//4, 3, 1),\n",
    "                                          ConvBlock(feat_dim//4, feat_dim//2, 3, 1),\n",
    "                                          ConvBlock(feat_dim//2, feat_dim, 3, 1),\n",
    "                                          ConvBlock(feat_dim, feat_dim, 3, 1),\n",
    "                                          ConvBlock(feat_dim, feat_dim, 3, 1),\n",
    "                                          ConvBlock(feat_dim, feat_dim, 3, 1),\n",
    "                                          ConvBlock(feat_dim+1, feat_dim, 3, 1, 4, 0)])\n",
    "\n",
    "        self.from_rgb = nn.ModuleList([EqualConv2d(3, feat_dim//4, 1),\n",
    "                                       EqualConv2d(3, feat_dim//4, 1),\n",
    "                                       EqualConv2d(3, feat_dim//2, 1),\n",
    "                                       EqualConv2d(3, feat_dim, 1),\n",
    "                                       EqualConv2d(3, feat_dim, 1),\n",
    "                                       EqualConv2d(3, feat_dim, 1),\n",
    "                                       EqualConv2d(3, feat_dim, 1)])\n",
    "\n",
    "        self.n_layer = len(self.progression)\n",
    "\n",
    "        self.linear = EqualLinear(feat_dim, 1)\n",
    "\n",
    "    def forward(self, input, step=0, alpha=-1):\n",
    "        for i in range(step, -1, -1):\n",
    "            index = self.n_layer - i - 1\n",
    "\n",
    "            if i == step:\n",
    "                out = self.from_rgb[index](input)\n",
    "\n",
    "            if i == 0:\n",
    "                out_std = torch.sqrt(out.var(0, unbiased=False) + 1e-8)\n",
    "                mean_std = out_std.mean()\n",
    "                mean_std = mean_std.expand(out.size(0), 1, 4, 4)\n",
    "                out = torch.cat([out, mean_std], 1)\n",
    "\n",
    "            out = self.progression[index](out)\n",
    "\n",
    "            if i > 0:\n",
    "                # out = F.avg_pool2d(out, 2)\n",
    "                out = F.interpolate(out, scale_factor=0.5, mode='bilinear', align_corners=False)\n",
    "\n",
    "                if i == step and 0 <= alpha < 1:\n",
    "                    # skip_rgb = F.avg_pool2d(input, 2)\n",
    "                    skip_rgb = F.interpolate(input, scale_factor=0.5, mode='bilinear', align_corners=False)\n",
    "                    skip_rgb = self.from_rgb[index + 1](skip_rgb)\n",
    "                    out = (1 - alpha) * skip_rgb + alpha * out\n",
    "\n",
    "        out = out.squeeze(2).squeeze(2)\n",
    "        # print(input.size(), out.size(), step)\n",
    "        out = self.linear(out)\n",
    "\n",
    "        return out"
   ]
  },
  {
   "cell_type": "code",
   "execution_count": 208,
   "id": "7b22f303",
   "metadata": {},
   "outputs": [],
   "source": [
    "def accumulate(model1, model2, decay=0.999):\n",
    "    par1 = dict(model1.named_parameters())\n",
    "    par2 = dict(model2.named_parameters())\n",
    "    \n",
    "    for k in par1.keys():\n",
    "        par1[k].data.mul_(decay).add_(1 - decay, par2[k].data)"
   ]
  },
  {
   "cell_type": "code",
   "execution_count": 209,
   "id": "8a705fb7",
   "metadata": {},
   "outputs": [],
   "source": [
    "class Args_wrapper:\n",
    "    def __init__(self):\n",
    "        self.path = \"../data/celebb\"\n",
    "        self.trial_name = \"progressive_gans\"\n",
    "        self.z_dim = 100\n",
    "        self.channel = 512\n",
    "        self.batch_size = 4\n",
    "        self.init_step = 2\n",
    "        self.total_iter = 100000\n",
    "        self.pixel_norm=True\n",
    "        self.tanh=True\n",
    "        self.gpu_id=2\n",
    "        self.lr=0.001\n",
    "        self.n_critic=1\n",
    "        self.init_step=1\n",
    "               \n",
    "args = Args_wrapper()"
   ]
  },
  {
   "cell_type": "code",
   "execution_count": 210,
   "id": "6f698a08",
   "metadata": {},
   "outputs": [
    {
     "name": "stdout",
     "output_type": "stream",
     "text": [
      "<__main__.Args_wrapper object at 0x7f2bd36f2c70>\n"
     ]
    }
   ],
   "source": [
    "print(str(args))\n",
    "\n",
    "trial_name = args.trial_name\n",
    "\n",
    "device = torch.device(\"cuda:%d\"%(args.gpu_id))\n",
    "\n",
    "input_code_size = args.z_dim\n",
    "batch_size = args.batch_size\n",
    "n_critic = args.n_critic\n",
    "\n",
    "generator = Generator(in_channel=args.channel, input_code_dim=input_code_size, pixel_norm=args.pixel_norm, tanh=args.tanh)\n",
    "#generator = nn.DataParallel(generator, list(range(ngpu)))"
   ]
  },
  {
   "cell_type": "code",
   "execution_count": 211,
   "id": "bacfefc9",
   "metadata": {},
   "outputs": [],
   "source": [
    "discriminator = Discriminator(feat_dim=args.channel)"
   ]
  },
  {
   "cell_type": "code",
   "execution_count": 212,
   "id": "d89020d7",
   "metadata": {},
   "outputs": [],
   "source": [
    "g_running = Generator(in_channel=args.channel, input_code_dim=input_code_size, pixel_norm=args.pixel_norm, tanh=args.tanh).to(device)"
   ]
  },
  {
   "cell_type": "code",
   "execution_count": 213,
   "id": "fba3b751",
   "metadata": {},
   "outputs": [],
   "source": [
    "g_optimizer = optim.Adam(generator.parameters(), lr=args.lr, betas=(0.0, 0.99))\n",
    "d_optimizer = optim.Adam(discriminator.parameters(), lr=args.lr, betas=(0.0, 0.99))"
   ]
  },
  {
   "cell_type": "code",
   "execution_count": 214,
   "id": "c57f10af",
   "metadata": {},
   "outputs": [],
   "source": [
    "G_PATH = \"/home/misthios/Documents/d2l-fanbyprinciple/testing/trial_progressive_gans_2022-04-20_15_8/checkpoint/150000_g.model\"\n",
    "D_PATH = \"/home/misthios/Documents/d2l-fanbyprinciple/testing/trial_progressive_gans_2022-04-20_15_8/checkpoint/150000_d.model\""
   ]
  },
  {
   "cell_type": "code",
   "execution_count": 215,
   "id": "8d5992d1",
   "metadata": {},
   "outputs": [],
   "source": [
    "G_checkpoint = torch.load(G_PATH)\n",
    "D_checkpoint = torch.load(D_PATH)"
   ]
  },
  {
   "cell_type": "code",
   "execution_count": 216,
   "id": "b071bbe8",
   "metadata": {},
   "outputs": [
    {
     "data": {
      "text/plain": [
       "odict_keys(['input_layer.0.conv.bias', 'input_layer.0.conv.weight_orig', 'progression_4.conv.0.conv.bias', 'progression_4.conv.0.conv.weight_orig', 'progression_4.conv.3.conv.bias', 'progression_4.conv.3.conv.weight_orig', 'progression_8.conv.0.conv.bias', 'progression_8.conv.0.conv.weight_orig', 'progression_8.conv.3.conv.bias', 'progression_8.conv.3.conv.weight_orig', 'progression_16.conv.0.conv.bias', 'progression_16.conv.0.conv.weight_orig', 'progression_16.conv.3.conv.bias', 'progression_16.conv.3.conv.weight_orig', 'progression_32.conv.0.conv.bias', 'progression_32.conv.0.conv.weight_orig', 'progression_32.conv.3.conv.bias', 'progression_32.conv.3.conv.weight_orig', 'progression_64.conv.0.conv.bias', 'progression_64.conv.0.conv.weight_orig', 'progression_64.conv.3.conv.bias', 'progression_64.conv.3.conv.weight_orig', 'progression_128.conv.0.conv.bias', 'progression_128.conv.0.conv.weight_orig', 'progression_128.conv.3.conv.bias', 'progression_128.conv.3.conv.weight_orig', 'progression_256.conv.0.conv.bias', 'progression_256.conv.0.conv.weight_orig', 'progression_256.conv.3.conv.bias', 'progression_256.conv.3.conv.weight_orig', 'to_rgb_8.conv.bias', 'to_rgb_8.conv.weight_orig', 'to_rgb_16.conv.bias', 'to_rgb_16.conv.weight_orig', 'to_rgb_32.conv.bias', 'to_rgb_32.conv.weight_orig', 'to_rgb_64.conv.bias', 'to_rgb_64.conv.weight_orig', 'to_rgb_128.conv.bias', 'to_rgb_128.conv.weight_orig', 'to_rgb_256.conv.bias', 'to_rgb_256.conv.weight_orig'])"
      ]
     },
     "execution_count": 216,
     "metadata": {},
     "output_type": "execute_result"
    }
   ],
   "source": [
    "G_checkpoint.keys()"
   ]
  },
  {
   "cell_type": "code",
   "execution_count": 217,
   "id": "853506a7",
   "metadata": {},
   "outputs": [
    {
     "data": {
      "text/plain": [
       "<All keys matched successfully>"
      ]
     },
     "execution_count": 217,
     "metadata": {},
     "output_type": "execute_result"
    }
   ],
   "source": [
    "g_running.load_state_dict(G_checkpoint)"
   ]
  },
  {
   "cell_type": "code",
   "execution_count": 218,
   "id": "fc975393",
   "metadata": {},
   "outputs": [
    {
     "data": {
      "text/plain": [
       "<All keys matched successfully>"
      ]
     },
     "execution_count": 218,
     "metadata": {},
     "output_type": "execute_result"
    }
   ],
   "source": [
    "discriminator.load_state_dict(D_checkpoint)"
   ]
  },
  {
   "cell_type": "code",
   "execution_count": 219,
   "id": "380790fd",
   "metadata": {},
   "outputs": [
    {
     "data": {
      "text/plain": [
       "tensor([[-1.8784, -2.1372, -0.5575,  ...,  0.5112,  0.4631, -0.6862],\n",
       "        [ 0.2292, -1.1222,  0.2686,  ...,  1.8446, -0.1479, -0.2290],\n",
       "        [-0.5751, -1.1901,  0.3560,  ...,  1.0936,  0.0292, -0.2377],\n",
       "        ...,\n",
       "        [ 1.1955,  0.8432, -0.2938,  ..., -1.7986,  0.1316,  0.7277],\n",
       "        [-0.6199, -0.9528,  1.0585,  ...,  1.1389,  0.4161,  0.6267],\n",
       "        [-0.5158, -0.7683, -0.3314,  ...,  0.3381,  0.3096,  1.3006]])"
      ]
     },
     "execution_count": 219,
     "metadata": {},
     "output_type": "execute_result"
    }
   ],
   "source": [
    "torch.randn(50, input_code_size)"
   ]
  },
  {
   "cell_type": "code",
   "execution_count": 220,
   "id": "b0ed1846",
   "metadata": {},
   "outputs": [],
   "source": [
    "from torchvision import datasets, transforms, utils"
   ]
  },
  {
   "cell_type": "code",
   "execution_count": 241,
   "id": "72855414",
   "metadata": {},
   "outputs": [],
   "source": [
    "# generating images from GAN\n",
    "\n",
    "# with torch.no_grad():\n",
    "#     for i in range(1,20):\n",
    "#         for j in range(1,10):\n",
    "#             well = g_running(torch.randn(5*10, input_code_size).to(device),step=i, alpha=j)\n",
    "#             images = well.data.cpu()\n",
    "   \n",
    "#             utils.save_image(images,f'sample/output_{j}_{i}.png',nrow=10,normalize=True,range=(-1, 1))"
   ]
  },
  {
   "cell_type": "code",
   "execution_count": null,
   "id": "d12f282d",
   "metadata": {},
   "outputs": [],
   "source": [
    "with torch.no_grad():\n",
    "    for i in range(1,100):\n",
    "        well = g_running(torch.randn(5*10, input_code_size).to(device),step=i, alpha=3)\n",
    "        images = well.data.cpu()\n",
    "   \n",
    "        utils.save_image(images,f'sample/output_{i}.png',nrow=10,normalize=True,range=(-1, 1))"
   ]
  },
  {
   "cell_type": "code",
   "execution_count": 222,
   "id": "a96b0058",
   "metadata": {},
   "outputs": [
    {
     "data": {
      "text/plain": [
       "torch.Size([50, 3, 128, 128])"
      ]
     },
     "execution_count": 222,
     "metadata": {},
     "output_type": "execute_result"
    }
   ],
   "source": [
    "images.shape"
   ]
  },
  {
   "cell_type": "code",
   "execution_count": 223,
   "id": "a94df7d4",
   "metadata": {},
   "outputs": [],
   "source": [
    "import matplotlib.pyplot as plt\n",
    "import random\n",
    "import cv2\n",
    "from PIL import Image\n",
    "\n",
    "import torch \n",
    "import torchvision \n",
    "import torchvision.transforms as T \n",
    "from PIL import Image"
   ]
  },
  {
   "cell_type": "code",
   "execution_count": 224,
   "id": "e9757617",
   "metadata": {},
   "outputs": [
    {
     "data": {
      "text/plain": [
       "torch.Size([128, 128, 3])"
      ]
     },
     "execution_count": 224,
     "metadata": {},
     "output_type": "execute_result"
    }
   ],
   "source": [
    "image = images[random.choice(range(len(images)))].permute(1,2,0)\n",
    "image.shape"
   ]
  },
  {
   "cell_type": "code",
   "execution_count": 225,
   "id": "96bf1619",
   "metadata": {},
   "outputs": [
    {
     "data": {
      "text/plain": [
       "tensor([[[ 0.3300, -0.7495, -0.8336],\n",
       "         [-0.1920, -0.7292, -0.8867],\n",
       "         [-0.3949, -0.8221, -0.8951],\n",
       "         ...,\n",
       "         [-0.6640,  0.0598, -0.8246],\n",
       "         [-0.6572,  0.4752, -0.3779],\n",
       "         [-0.6547,  0.5924, -0.0616]],\n",
       "\n",
       "        [[ 0.0699, -0.7656, -0.8919],\n",
       "         [-0.3734, -0.7808, -0.8897],\n",
       "         [-0.6226, -0.7853, -0.9135],\n",
       "         ...,\n",
       "         [-0.8086, -0.0013, -0.8118],\n",
       "         [-0.8458,  0.2582, -0.3757],\n",
       "         [-0.6873,  0.3565, -0.1776]],\n",
       "\n",
       "        [[ 0.2562, -0.7732, -0.8194],\n",
       "         [-0.3267, -0.8363, -0.7066],\n",
       "         [-0.6636, -0.8369, -0.7521],\n",
       "         ...,\n",
       "         [-0.8078, -0.2446, -0.7564],\n",
       "         [-0.9036, -0.1636, -0.4582],\n",
       "         [-0.8638, -0.1054, -0.2646]],\n",
       "\n",
       "        ...,\n",
       "\n",
       "        [[ 0.7367, -0.4961, -0.1694],\n",
       "         [ 0.2487, -0.7649, -0.4509],\n",
       "         [-0.1515, -0.8378, -0.6042],\n",
       "         ...,\n",
       "         [-0.4168, -0.6379, -0.1905],\n",
       "         [-0.0760, -0.4377, -0.3842],\n",
       "         [-0.3912, -0.4277, -0.6551]],\n",
       "\n",
       "        [[ 0.7200, -0.4255, -0.0313],\n",
       "         [ 0.3843, -0.7545, -0.2651],\n",
       "         [ 0.0594, -0.8380, -0.3600],\n",
       "         ...,\n",
       "         [-0.5826, -0.7916, -0.3206],\n",
       "         [-0.1167, -0.5449, -0.3298],\n",
       "         [-0.3105, -0.5990, -0.6811]],\n",
       "\n",
       "        [[ 0.6819, -0.2603,  0.0484],\n",
       "         [ 0.5154, -0.4944, -0.1295],\n",
       "         [ 0.1817, -0.6759, -0.1989],\n",
       "         ...,\n",
       "         [-0.4775, -0.7556, -0.5839],\n",
       "         [ 0.0347, -0.6509, -0.7293],\n",
       "         [ 0.0503, -0.4760, -0.8087]]])"
      ]
     },
     "execution_count": 225,
     "metadata": {},
     "output_type": "execute_result"
    }
   ],
   "source": [
    "image"
   ]
  },
  {
   "cell_type": "code",
   "execution_count": 226,
   "id": "90a16bdd",
   "metadata": {},
   "outputs": [
    {
     "name": "stderr",
     "output_type": "stream",
     "text": [
      "Clipping input data to the valid range for imshow with RGB data ([0..1] for floats or [0..255] for integers).\n"
     ]
    },
    {
     "data": {
      "image/png": "[encoded data removed]",
      "text/plain": [
       "<Figure size 288x288 with 1 Axes>"
      ]
     },
     "metadata": {
      "needs_background": "light"
     },
     "output_type": "display_data"
    }
   ],
   "source": [
    "plt.matshow(image * 1)\n",
    "plt.show()"
   ]
  },
  {
   "cell_type": "code",
   "execution_count": 227,
   "id": "20ebbdad",
   "metadata": {},
   "outputs": [],
   "source": [
    "transform = T.ToPILImage()"
   ]
  },
  {
   "cell_type": "code",
   "execution_count": 228,
   "id": "5e489785",
   "metadata": {},
   "outputs": [],
   "source": [
    "img = transform(images[random.choice(range(len(images)))])"
   ]
  },
  {
   "cell_type": "code",
   "execution_count": 229,
   "id": "45fb3f2c",
   "metadata": {},
   "outputs": [],
   "source": [
    "#img.show()"
   ]
  },
  {
   "cell_type": "code",
   "execution_count": 230,
   "id": "ed7a00e1",
   "metadata": {},
   "outputs": [],
   "source": [
    "## openning a normal image\n",
    "im = Image.open(r\"gan.png\") \n",
    "  \n",
    "# This method will show image in any image viewer \n",
    "#im.show() "
   ]
  },
  {
   "cell_type": "code",
   "execution_count": 231,
   "id": "6d5f9ee9",
   "metadata": {},
   "outputs": [],
   "source": [
    "transform = T.Compose([T.PILToTensor()])\n",
    "\n",
    "tensor = transform(img)"
   ]
  },
  {
   "cell_type": "code",
   "execution_count": 232,
   "id": "b94ec12c",
   "metadata": {},
   "outputs": [
    {
     "data": {
      "text/plain": [
       "tensor([[[184,  91,  81,  ..., 170, 158, 181],\n",
       "         [107,  52,  36,  ...,  58,  72,  70],\n",
       "         [113,  51,  25,  ...,  24,  36,  33],\n",
       "         ...,\n",
       "         [ 61,  35,  59,  ..., 145,   7, 234],\n",
       "         [ 41,  39,  47,  ..., 108, 228, 206],\n",
       "         [ 30,  22,  33,  ..., 100, 203, 232]],\n",
       "\n",
       "        [[108, 115,  78,  ..., 223, 227, 198],\n",
       "         [103, 117, 105,  ..., 193, 166, 155],\n",
       "         [101, 108, 102,  ..., 141, 114, 116],\n",
       "         ...,\n",
       "         [ 66,  47,  44,  ...,  62,  78,  58],\n",
       "         [ 52,  41,  46,  ...,  35,  69,  47],\n",
       "         [ 37,  44,  88,  ...,  30,  42,  49]],\n",
       "\n",
       "        [[ 41,  23,  21,  ...,  59, 122, 235],\n",
       "         [ 26,  24,  25,  ...,  69, 136, 177],\n",
       "         [ 48,  63,  86,  ...,  63, 112, 145],\n",
       "         ...,\n",
       "         [ 55,   4,  43,  ..., 246, 191, 117],\n",
       "         [ 40, 226, 252,  ..., 184, 181,  92],\n",
       "         [ 85,  39,  18,  ..., 119,  79,  55]]], dtype=torch.uint8)"
      ]
     },
     "execution_count": 232,
     "metadata": {},
     "output_type": "execute_result"
    }
   ],
   "source": [
    "tensor"
   ]
  },
  {
   "cell_type": "code",
   "execution_count": 233,
   "id": "1ce2ddf4",
   "metadata": {},
   "outputs": [],
   "source": [
    "# this for training models\n",
    "\n",
    "# model = TheModelClass(*args, **kwargs)\n",
    "# optimizer = TheOptimizerClass(*args, **kwargs)\n",
    "\n",
    "# checkpoint = torch.load(PATH)\n",
    "# model.load_state_dict(checkpoint['model_state_dict'])\n",
    "# optimizer.load_state_dict(checkpoint['optimizer_state_dict'])\n",
    "# epoch = checkpoint['epoch']\n",
    "# loss = checkpoint['loss']\n",
    "\n",
    "# model.eval()\n",
    "# # - or -\n",
    "# model.train()"
   ]
  }
 ],
 "metadata": {
  "kernelspec": {
   "display_name": "Python 3 (ipykernel)",
   "language": "python",
   "name": "python3"
  },
  "language_info": {
   "codemirror_mode": {
    "name": "ipython",
    "version": 3
   },
   "file_extension": ".py",
   "mimetype": "text/x-python",
   "name": "python",
   "nbconvert_exporter": "python",
   "pygments_lexer": "ipython3",
   "version": "3.9.12"
  }
 },
 "nbformat": 4,
 "nbformat_minor": 5
}
