{
 "cells": [
  {
   "cell_type": "code",
   "execution_count": 1,
   "id": "correct-windsor",
   "metadata": {},
   "outputs": [
    {
     "data": {
      "text/plain": [
       "tensor([[-0.7411],\n",
       "        [-0.5263]], grad_fn=<AddmmBackward>)"
      ]
     },
     "execution_count": 1,
     "metadata": {},
     "output_type": "execute_result"
    }
   ],
   "source": [
    "import torch\n",
    "from torch import nn\n",
    "\n",
    "\n",
    "net = nn.Sequential(nn.Linear(4,8), nn.ReLU(), nn.Linear(8,1))\n",
    "\n",
    "X = torch.normal(0,1,(2,4))\n",
    "\n",
    "net(X)"
   ]
  },
  {
   "cell_type": "code",
   "execution_count": 2,
   "id": "residential-quarter",
   "metadata": {},
   "outputs": [
    {
     "data": {
      "text/plain": [
       "tensor([[-1.1073,  1.1098,  0.0501,  2.7911],\n",
       "        [-0.6327,  0.7352, -0.0226,  1.8213]])"
      ]
     },
     "execution_count": 2,
     "metadata": {},
     "output_type": "execute_result"
    }
   ],
   "source": [
    "X"
   ]
  },
  {
   "cell_type": "code",
   "execution_count": 3,
   "id": "nearby-modem",
   "metadata": {},
   "outputs": [
    {
     "name": "stdout",
     "output_type": "stream",
     "text": [
      "OrderedDict([('weight', tensor([[-0.3002,  0.2701,  0.2222,  0.2614,  0.0269, -0.2362,  0.0534, -0.0627]])), ('bias', tensor([0.0478]))])\n"
     ]
    }
   ],
   "source": [
    "# accessing parameters\n",
    "\n",
    "print(net[2].state_dict())"
   ]
  },
  {
   "cell_type": "code",
   "execution_count": 4,
   "id": "considered-pattern",
   "metadata": {},
   "outputs": [
    {
     "name": "stdout",
     "output_type": "stream",
     "text": [
      "Parameter containing:\n",
      "tensor([0.0478], requires_grad=True)\n",
      "<class 'torch.nn.parameter.Parameter'>\n",
      "tensor([0.0478])\n"
     ]
    }
   ],
   "source": [
    "print(net[2].bias)\n",
    "print(type(net[2].bias))\n",
    "print(net[2].bias.data)\n"
   ]
  },
  {
   "cell_type": "code",
   "execution_count": 7,
   "id": "devoted-drama",
   "metadata": {},
   "outputs": [
    {
     "name": "stdout",
     "output_type": "stream",
     "text": [
      "None\n"
     ]
    }
   ],
   "source": [
    "print(net[2].weight.grad)"
   ]
  },
  {
   "cell_type": "code",
   "execution_count": 8,
   "id": "protected-malaysia",
   "metadata": {},
   "outputs": [],
   "source": [
    "y = net(X)"
   ]
  },
  {
   "cell_type": "code",
   "execution_count": 10,
   "id": "refined-hanging",
   "metadata": {},
   "outputs": [],
   "source": [
    "y.sum().backward()"
   ]
  },
  {
   "cell_type": "code",
   "execution_count": 11,
   "id": "taken-migration",
   "metadata": {},
   "outputs": [
    {
     "name": "stdout",
     "output_type": "stream",
     "text": [
      "tensor([[2.9629, 0.0000, 0.0000, 0.0000, 0.8209, 1.4852, 0.0000, 2.3116]])\n"
     ]
    }
   ],
   "source": [
    "print(net[2].weight.grad)"
   ]
  },
  {
   "cell_type": "code",
   "execution_count": 13,
   "id": "boxed-retention",
   "metadata": {},
   "outputs": [
    {
     "name": "stdout",
     "output_type": "stream",
     "text": [
      "('weight', torch.Size([8, 4])) ('bias', torch.Size([8]))\n"
     ]
    }
   ],
   "source": [
    "print(*[(name, param.shape) for name, param in net[0].named_parameters()])"
   ]
  },
  {
   "cell_type": "code",
   "execution_count": 14,
   "id": "entire-prime",
   "metadata": {},
   "outputs": [
    {
     "name": "stdout",
     "output_type": "stream",
     "text": [
      "('0.weight', torch.Size([8, 4])) ('0.bias', torch.Size([8])) ('2.weight', torch.Size([1, 8])) ('2.bias', torch.Size([1]))\n"
     ]
    }
   ],
   "source": [
    "print(*[(name, param.shape) for name, param in net.named_parameters()])"
   ]
  },
  {
   "cell_type": "code",
   "execution_count": 15,
   "id": "defined-virgin",
   "metadata": {},
   "outputs": [
    {
     "data": {
      "text/plain": [
       "OrderedDict([('0.weight',\n",
       "              tensor([[-0.1607,  0.1800, -0.4635,  0.3459],\n",
       "                      [ 0.0531, -0.1090,  0.4334, -0.1813],\n",
       "                      [ 0.4819, -0.3694,  0.0994, -0.2651],\n",
       "                      [ 0.3065,  0.4754,  0.1272, -0.4293],\n",
       "                      [ 0.3878,  0.0545, -0.2672,  0.1165],\n",
       "                      [ 0.1052,  0.4395,  0.1444,  0.0753],\n",
       "                      [-0.1074, -0.0442, -0.4876, -0.3685],\n",
       "                      [-0.3632, -0.2482,  0.2401,  0.4332]])),\n",
       "             ('0.bias',\n",
       "              tensor([ 0.3842, -0.1967, -0.1540, -0.3962,  0.4326,  0.2531,  0.2553,  0.0664])),\n",
       "             ('2.weight',\n",
       "              tensor([[-0.3002,  0.2701,  0.2222,  0.2614,  0.0269, -0.2362,  0.0534, -0.0627]])),\n",
       "             ('2.bias', tensor([0.0478]))])"
      ]
     },
     "execution_count": 15,
     "metadata": {},
     "output_type": "execute_result"
    }
   ],
   "source": [
    "net.state_dict()"
   ]
  },
  {
   "cell_type": "code",
   "execution_count": 16,
   "id": "driven-relevance",
   "metadata": {},
   "outputs": [
    {
     "data": {
      "text/plain": [
       "tensor([ 0.3842, -0.1967, -0.1540, -0.3962,  0.4326,  0.2531,  0.2553,  0.0664])"
      ]
     },
     "execution_count": 16,
     "metadata": {},
     "output_type": "execute_result"
    }
   ],
   "source": [
    "net.state_dict()['0.bias']"
   ]
  },
  {
   "cell_type": "code",
   "execution_count": 19,
   "id": "assigned-lithuania",
   "metadata": {},
   "outputs": [
    {
     "data": {
      "text/plain": [
       "tensor([[-0.0202],\n",
       "        [-0.0202]], grad_fn=<AddmmBackward>)"
      ]
     },
     "execution_count": 19,
     "metadata": {},
     "output_type": "execute_result"
    }
   ],
   "source": [
    "def block1():\n",
    "    return nn.Sequential(nn.Linear(4,8), nn.ReLU(), nn.Linear(8,4), nn.ReLU())\n",
    "\n",
    "def block2():\n",
    "    net = nn.Sequential()\n",
    "    \n",
    "    for i in range(4):\n",
    "        net.add_module(f'block{i}', block1())\n",
    "    \n",
    "    net.add_module(f'final',nn.Linear(4,1))\n",
    "    return net\n",
    "\n",
    "regnet = block2()\n",
    "\n",
    "regnet(X)"
   ]
  },
  {
   "cell_type": "code",
   "execution_count": 29,
   "id": "occupied-frame",
   "metadata": {},
   "outputs": [
    {
     "data": {
      "text/plain": [
       "Sequential(\n",
       "  (block0): Sequential(\n",
       "    (0): Linear(in_features=4, out_features=8, bias=True)\n",
       "    (1): ReLU()\n",
       "    (2): Linear(in_features=8, out_features=4, bias=True)\n",
       "    (3): ReLU()\n",
       "  )\n",
       "  (block1): Sequential(\n",
       "    (0): Linear(in_features=4, out_features=8, bias=True)\n",
       "    (1): ReLU()\n",
       "    (2): Linear(in_features=8, out_features=4, bias=True)\n",
       "    (3): ReLU()\n",
       "  )\n",
       "  (block2): Sequential(\n",
       "    (0): Linear(in_features=4, out_features=8, bias=True)\n",
       "    (1): ReLU()\n",
       "    (2): Linear(in_features=8, out_features=4, bias=True)\n",
       "    (3): ReLU()\n",
       "  )\n",
       "  (block3): Sequential(\n",
       "    (0): Linear(in_features=4, out_features=8, bias=True)\n",
       "    (1): ReLU()\n",
       "    (2): Linear(in_features=8, out_features=4, bias=True)\n",
       "    (3): ReLU()\n",
       "  )\n",
       "  (final): Linear(in_features=4, out_features=1, bias=True)\n",
       ")"
      ]
     },
     "execution_count": 29,
     "metadata": {},
     "output_type": "execute_result"
    }
   ],
   "source": [
    "regnet"
   ]
  },
  {
   "cell_type": "code",
   "execution_count": 20,
   "id": "aggressive-norwegian",
   "metadata": {},
   "outputs": [
    {
     "data": {
      "text/plain": [
       "OrderedDict([('block0.0.weight',\n",
       "              tensor([[-0.0116, -0.0553,  0.1173,  0.1460],\n",
       "                      [-0.2185,  0.3418, -0.2037,  0.4239],\n",
       "                      [-0.0380,  0.1748, -0.3710, -0.0930],\n",
       "                      [-0.1280,  0.0396, -0.0988, -0.0131],\n",
       "                      [ 0.0303, -0.0368,  0.1365,  0.3926],\n",
       "                      [-0.2799, -0.2030,  0.0899,  0.2668],\n",
       "                      [-0.0706, -0.4057,  0.4452, -0.1973],\n",
       "                      [ 0.1060, -0.2885,  0.3358, -0.1146]])),\n",
       "             ('block0.0.bias',\n",
       "              tensor([ 0.1351, -0.2829,  0.0054,  0.1815,  0.4974,  0.4477,  0.3667,  0.3806])),\n",
       "             ('block0.2.weight',\n",
       "              tensor([[ 0.2167, -0.1914, -0.1014, -0.2227, -0.3228,  0.0677, -0.1550,  0.2795],\n",
       "                      [ 0.1948, -0.2711, -0.2100,  0.3151, -0.2922,  0.3119, -0.2467,  0.1851],\n",
       "                      [ 0.1832,  0.3343, -0.0187, -0.0944, -0.3158, -0.0391,  0.0727,  0.2851],\n",
       "                      [-0.0418, -0.1218,  0.2344, -0.1803,  0.1540, -0.2520, -0.1609, -0.0276]])),\n",
       "             ('block0.2.bias', tensor([ 0.2273, -0.0799,  0.2903, -0.2577])),\n",
       "             ('block1.0.weight',\n",
       "              tensor([[-0.3467,  0.4537,  0.0795, -0.4129],\n",
       "                      [-0.0672, -0.0314,  0.0090,  0.1101],\n",
       "                      [ 0.3620, -0.4136, -0.0359,  0.4699],\n",
       "                      [-0.4410, -0.3349, -0.2140, -0.4479],\n",
       "                      [ 0.2863,  0.0593,  0.0699,  0.3281],\n",
       "                      [ 0.2187, -0.1651, -0.2526, -0.3661],\n",
       "                      [-0.2225,  0.4463,  0.1693,  0.1993],\n",
       "                      [ 0.0775,  0.0134,  0.3075, -0.4048]])),\n",
       "             ('block1.0.bias',\n",
       "              tensor([ 0.2293,  0.0735, -0.1725,  0.1110, -0.1443,  0.4631,  0.2697,  0.1061])),\n",
       "             ('block1.2.weight',\n",
       "              tensor([[-0.0132, -0.1465, -0.2328, -0.0345, -0.3251,  0.0863, -0.2662,  0.1540],\n",
       "                      [-0.2072,  0.1371, -0.1205,  0.2504, -0.0590, -0.2109, -0.2208, -0.3445],\n",
       "                      [-0.1767,  0.2113,  0.0841, -0.3498,  0.1244, -0.0962, -0.2154, -0.1393],\n",
       "                      [ 0.0396,  0.1916, -0.1728,  0.0469,  0.3336, -0.1434,  0.0050, -0.2632]])),\n",
       "             ('block1.2.bias', tensor([-0.2255, -0.0691,  0.2625, -0.1028])),\n",
       "             ('block2.0.weight',\n",
       "              tensor([[ 0.1437,  0.4661,  0.4308,  0.2281],\n",
       "                      [-0.3850, -0.2782, -0.3995,  0.3816],\n",
       "                      [-0.4582,  0.0658,  0.3179, -0.3402],\n",
       "                      [-0.4159,  0.0492, -0.0207, -0.1346],\n",
       "                      [-0.0556,  0.0024,  0.4053, -0.0419],\n",
       "                      [-0.4723,  0.1806, -0.4803,  0.4596],\n",
       "                      [ 0.2168,  0.0814,  0.0191,  0.1699],\n",
       "                      [-0.4519, -0.4408, -0.3549, -0.0805]])),\n",
       "             ('block2.0.bias',\n",
       "              tensor([-0.0698,  0.0019,  0.4999,  0.3511, -0.4114,  0.3186, -0.2221, -0.2135])),\n",
       "             ('block2.2.weight',\n",
       "              tensor([[-0.3055, -0.1559, -0.0338,  0.2102,  0.0960,  0.0396, -0.1012, -0.1241],\n",
       "                      [-0.3167,  0.1244,  0.1491,  0.3050,  0.1962,  0.1929, -0.0507,  0.0377],\n",
       "                      [-0.0737, -0.1412,  0.2020,  0.0412, -0.2310,  0.1119,  0.0010,  0.1682],\n",
       "                      [ 0.1915,  0.3191, -0.1168,  0.1857,  0.1097,  0.0483, -0.1737,  0.1853]])),\n",
       "             ('block2.2.bias', tensor([-0.0761,  0.0766,  0.0878, -0.0931])),\n",
       "             ('block3.0.weight',\n",
       "              tensor([[-4.4366e-01, -4.5312e-01, -3.8644e-01,  5.0374e-02],\n",
       "                      [ 3.8025e-01, -1.4587e-01, -1.7145e-01, -1.2994e-05],\n",
       "                      [ 1.0312e-01,  2.6964e-01, -3.6002e-01, -4.9228e-01],\n",
       "                      [-2.6600e-02, -2.5718e-01, -3.7002e-01, -3.6431e-01],\n",
       "                      [ 6.1951e-02, -4.1171e-02,  4.9121e-02,  8.8936e-04],\n",
       "                      [-3.6375e-01,  2.9605e-01, -1.4181e-01,  2.5725e-01],\n",
       "                      [ 1.1528e-01,  4.1019e-01, -7.9052e-02, -3.8789e-01],\n",
       "                      [ 2.8559e-01,  7.3021e-02,  2.2629e-01,  2.9872e-01]])),\n",
       "             ('block3.0.bias',\n",
       "              tensor([-0.3647,  0.4938, -0.3741, -0.1580,  0.3684, -0.1095,  0.4740,  0.0573])),\n",
       "             ('block3.2.weight',\n",
       "              tensor([[ 0.1958, -0.1145, -0.0769,  0.3183,  0.1252,  0.0228, -0.0221,  0.1341],\n",
       "                      [ 0.0400,  0.2494,  0.2079, -0.3443, -0.1006, -0.2923, -0.0478,  0.1079],\n",
       "                      [ 0.3177, -0.2792, -0.2095,  0.0433,  0.2121,  0.2243,  0.0540,  0.0086],\n",
       "                      [ 0.1057,  0.0299, -0.0265, -0.0333,  0.2800,  0.2662,  0.2198,  0.1491]])),\n",
       "             ('block3.2.bias', tensor([0.2863, 0.0357, 0.2197, 0.2227])),\n",
       "             ('final.weight', tensor([[-0.2998,  0.2999,  0.1443,  0.4715]])),\n",
       "             ('final.bias', tensor([-0.2196]))])"
      ]
     },
     "execution_count": 20,
     "metadata": {},
     "output_type": "execute_result"
    }
   ],
   "source": [
    "regnet.state_dict()"
   ]
  },
  {
   "cell_type": "code",
   "execution_count": 21,
   "id": "quarterly-studio",
   "metadata": {},
   "outputs": [
    {
     "data": {
      "text/plain": [
       "OrderedDict([('0.weight',\n",
       "              tensor([[0., 0., 0., 0.],\n",
       "                      [0., 0., 0., 0.],\n",
       "                      [0., 0., 0., 0.],\n",
       "                      [0., 0., 0., 0.],\n",
       "                      [0., 0., 0., 0.],\n",
       "                      [0., 0., 0., 0.],\n",
       "                      [0., 0., 0., 0.],\n",
       "                      [0., 0., 0., 0.]])),\n",
       "             ('0.bias', tensor([0., 0., 0., 0., 0., 0., 0., 0.])),\n",
       "             ('2.weight', tensor([[0., 0., 0., 0., 0., 0., 0., 0.]])),\n",
       "             ('2.bias', tensor([0.]))])"
      ]
     },
     "execution_count": 21,
     "metadata": {},
     "output_type": "execute_result"
    }
   ],
   "source": [
    "def init_zero(m):\n",
    "    if type(m) == nn.Linear:\n",
    "        nn.init.normal_(m.weight, mean=0, std=0)\n",
    "        nn.init.zeros_(m.bias)\n",
    "\n",
    "net.apply(init_normal)\n",
    "\n",
    "net.state_dict()"
   ]
  },
  {
   "cell_type": "code",
   "execution_count": 24,
   "id": "wired-aerospace",
   "metadata": {},
   "outputs": [
    {
     "data": {
      "text/plain": [
       "OrderedDict([('0.weight',\n",
       "              tensor([[ 0.0039, -0.0059, -0.0063,  0.0004],\n",
       "                      [ 0.0057, -0.0064,  0.0029, -0.0129],\n",
       "                      [-0.0015, -0.0004,  0.0236,  0.0088],\n",
       "                      [ 0.0043, -0.0041,  0.0058, -0.0107],\n",
       "                      [-0.0198,  0.0147, -0.0068,  0.0111],\n",
       "                      [-0.0123,  0.0153, -0.0094,  0.0126],\n",
       "                      [-0.0090, -0.0016, -0.0030,  0.0010],\n",
       "                      [ 0.0120, -0.0086, -0.0122, -0.0176]])),\n",
       "             ('0.bias', tensor([0., 0., 0., 0., 0., 0., 0., 0.])),\n",
       "             ('2.weight',\n",
       "              tensor([[-0.0017,  0.0039,  0.0023,  0.0049,  0.0116, -0.0089,  0.0004, -0.0099]])),\n",
       "             ('2.bias', tensor([0.]))])"
      ]
     },
     "execution_count": 24,
     "metadata": {},
     "output_type": "execute_result"
    }
   ],
   "source": [
    "def init_normal(m):\n",
    "    if type(m) == nn.Linear:\n",
    "        nn.init.normal_(m.weight, mean=0, std=0.01)\n",
    "        nn.init.zeros_(m.bias)\n",
    "        \n",
    "net.apply(init_normal)\n",
    "\n",
    "net.state_dict()"
   ]
  },
  {
   "cell_type": "code",
   "execution_count": 28,
   "id": "conventional-trading",
   "metadata": {},
   "outputs": [
    {
     "data": {
      "text/plain": [
       "OrderedDict([('0.weight',\n",
       "              tensor([[-0.5783, -0.0872,  0.1788, -0.5835],\n",
       "                      [-0.4008,  0.0051,  0.3491, -0.5752],\n",
       "                      [-0.5578,  0.1954, -0.6183,  0.6527],\n",
       "                      [-0.5420, -0.6750, -0.3802,  0.3711],\n",
       "                      [ 0.4312,  0.0735,  0.5740, -0.4506],\n",
       "                      [-0.3833, -0.4753, -0.3140,  0.6563],\n",
       "                      [-0.4093,  0.0664,  0.0592,  0.2929],\n",
       "                      [ 0.2368, -0.6250, -0.3616,  0.2094]])),\n",
       "             ('0.bias', tensor([0., 0., 0., 0., 0., 0., 0., 0.])),\n",
       "             ('2.weight', tensor([[42., 42., 42., 42., 42., 42., 42., 42.]])),\n",
       "             ('2.bias', tensor([0.]))])"
      ]
     },
     "execution_count": 28,
     "metadata": {},
     "output_type": "execute_result"
    }
   ],
   "source": [
    "# applying different initialisers for different blocks\n",
    "\n",
    "def xavier(m):\n",
    "    if type(m) == nn.Linear:\n",
    "        nn.init.xavier_uniform_(m.weight)\n",
    "\n",
    "def init_42(m):\n",
    "    if type(m) == nn.Linear:\n",
    "        nn.init.constant_(m.weight,42)\n",
    "\n",
    "net[0].apply(xavier)\n",
    "net[2].apply(init_42)\n",
    "\n",
    "net.state_dict()"
   ]
  },
  {
   "cell_type": "code",
   "execution_count": null,
   "id": "mysterious-bread",
   "metadata": {},
   "outputs": [],
   "source": [
    "# custom intialisation\n"
   ]
  }
 ],
 "metadata": {
  "kernelspec": {
   "display_name": "Python 3",
   "language": "python",
   "name": "python3"
  },
  "language_info": {
   "codemirror_mode": {
    "name": "ipython",
    "version": 3
   },
   "file_extension": ".py",
   "mimetype": "text/x-python",
   "name": "python",
   "nbconvert_exporter": "python",
   "pygments_lexer": "ipython3",
   "version": "3.9.5"
  }
 },
 "nbformat": 4,
 "nbformat_minor": 5
}
