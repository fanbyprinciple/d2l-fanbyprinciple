{
 "cells": [
  {
   "cell_type": "code",
   "execution_count": 1,
   "id": "rational-catholic",
   "metadata": {},
   "outputs": [
    {
     "data": {
      "text/plain": [
       "tensor([[ 0.0727,  0.0943, -0.0208,  0.2008, -0.0519,  0.0124,  0.1051, -0.1412,\n",
       "         -0.3279,  0.2077],\n",
       "        [ 0.0264,  0.1244,  0.1333,  0.0992, -0.1504, -0.1287, -0.0432, -0.0781,\n",
       "         -0.1919,  0.1940]], grad_fn=<AddmmBackward>)"
      ]
     },
     "execution_count": 1,
     "metadata": {},
     "output_type": "execute_result"
    }
   ],
   "source": [
    "import torch\n",
    "import torch.nn as nn\n",
    "\n",
    "\n",
    "net = nn.Sequential(nn.Linear(20, 256), nn.ReLU(), nn.Linear(256, 10))\n",
    "\n",
    "X = torch.rand(2, 20)\n",
    "net(X)\n",
    "\n"
   ]
  },
  {
   "cell_type": "code",
   "execution_count": 2,
   "id": "potential-hypothetical",
   "metadata": {},
   "outputs": [
    {
     "data": {
      "text/plain": [
       "tensor([[ 0.0727,  0.0943, -0.0208,  0.2008, -0.0519,  0.0124,  0.1051, -0.1412,\n",
       "         -0.3279,  0.2077],\n",
       "        [ 0.0264,  0.1244,  0.1333,  0.0992, -0.1504, -0.1287, -0.0432, -0.0781,\n",
       "         -0.1919,  0.1940]], grad_fn=<AddmmBackward>)"
      ]
     },
     "execution_count": 2,
     "metadata": {},
     "output_type": "execute_result"
    }
   ],
   "source": [
    "net.__call__(X)"
   ]
  }
 ],
 "metadata": {
  "kernelspec": {
   "display_name": "Python 3",
   "language": "python",
   "name": "python3"
  },
  "language_info": {
   "codemirror_mode": {
    "name": "ipython",
    "version": 3
   },
   "file_extension": ".py",
   "mimetype": "text/x-python",
   "name": "python",
   "nbconvert_exporter": "python",
   "pygments_lexer": "ipython3",
   "version": "3.9.5"
  }
 },
 "nbformat": 4,
 "nbformat_minor": 5
}
