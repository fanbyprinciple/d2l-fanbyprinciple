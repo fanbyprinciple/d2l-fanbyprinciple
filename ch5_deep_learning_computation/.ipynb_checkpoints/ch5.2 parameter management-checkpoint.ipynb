{
 "cells": [
  {
   "cell_type": "code",
   "execution_count": 28,
   "id": "correct-windsor",
   "metadata": {},
   "outputs": [
    {
     "data": {
      "text/plain": [
       "tensor([[-0.4163],\n",
       "        [-0.2449]], grad_fn=<AddmmBackward>)"
      ]
     },
     "execution_count": 28,
     "metadata": {},
     "output_type": "execute_result"
    }
   ],
   "source": [
    "import torch\n",
    "from torch import nn\n",
    "\n",
    "\n",
    "net = nn.Sequential(nn.Linear(4,8), nn.ReLU(), nn.Linear(8,1))\n",
    "\n",
    "X = torch.normal(0,1,(2,4))\n",
    "\n",
    "net(X)"
   ]
  },
  {
   "cell_type": "code",
   "execution_count": 29,
   "id": "residential-quarter",
   "metadata": {},
   "outputs": [
    {
     "data": {
      "text/plain": [
       "tensor([[-0.3203, -1.7860,  0.3747,  2.1854],\n",
       "        [-0.5479, -0.9498, -0.7674,  0.4066]])"
      ]
     },
     "execution_count": 29,
     "metadata": {},
     "output_type": "execute_result"
    }
   ],
   "source": [
    "X"
   ]
  },
  {
   "cell_type": "code",
   "execution_count": 30,
   "id": "nearby-modem",
   "metadata": {},
   "outputs": [
    {
     "name": "stdout",
     "output_type": "stream",
     "text": [
      "OrderedDict([('weight', tensor([[-0.3405,  0.1488, -0.3470,  0.0301, -0.1840,  0.0507,  0.2979, -0.1588]])), ('bias', tensor([-0.1072]))])\n"
     ]
    }
   ],
   "source": [
    "# accessing parameters\n",
    "\n",
    "print(net[2].state_dict())"
   ]
  },
  {
   "cell_type": "code",
   "execution_count": 31,
   "id": "considered-pattern",
   "metadata": {},
   "outputs": [
    {
     "name": "stdout",
     "output_type": "stream",
     "text": [
      "Parameter containing:\n",
      "tensor([-0.1072], requires_grad=True)\n",
      "<class 'torch.nn.parameter.Parameter'>\n",
      "tensor([-0.1072])\n"
     ]
    }
   ],
   "source": [
    "print(net[2].bias)\n",
    "print(type(net[2].bias))\n",
    "print(net[2].bias.data)\n"
   ]
  },
  {
   "cell_type": "code",
   "execution_count": 32,
   "id": "devoted-drama",
   "metadata": {},
   "outputs": [
    {
     "name": "stdout",
     "output_type": "stream",
     "text": [
      "None\n"
     ]
    }
   ],
   "source": [
    "print(net[2].weight.grad)"
   ]
  },
  {
   "cell_type": "code",
   "execution_count": 33,
   "id": "protected-malaysia",
   "metadata": {},
   "outputs": [],
   "source": [
    "y = net(X)"
   ]
  },
  {
   "cell_type": "code",
   "execution_count": 34,
   "id": "refined-hanging",
   "metadata": {},
   "outputs": [],
   "source": [
    "y.sum().backward()"
   ]
  },
  {
   "cell_type": "code",
   "execution_count": 35,
   "id": "taken-migration",
   "metadata": {},
   "outputs": [
    {
     "name": "stdout",
     "output_type": "stream",
     "text": [
      "tensor([[0.3270, 0.0000, 0.6522, 1.2486, 0.1149, 0.2409, 0.0000, 0.8672]])\n"
     ]
    }
   ],
   "source": [
    "print(net[2].weight.grad)"
   ]
  },
  {
   "cell_type": "code",
   "execution_count": 36,
   "id": "boxed-retention",
   "metadata": {},
   "outputs": [
    {
     "name": "stdout",
     "output_type": "stream",
     "text": [
      "('weight', torch.Size([8, 4])) ('bias', torch.Size([8]))\n"
     ]
    }
   ],
   "source": [
    "print(*[(name, param.shape) for name, param in net[0].named_parameters()])"
   ]
  },
  {
   "cell_type": "code",
   "execution_count": 37,
   "id": "entire-prime",
   "metadata": {},
   "outputs": [
    {
     "name": "stdout",
     "output_type": "stream",
     "text": [
      "('0.weight', torch.Size([8, 4])) ('0.bias', torch.Size([8])) ('2.weight', torch.Size([1, 8])) ('2.bias', torch.Size([1]))\n"
     ]
    }
   ],
   "source": [
    "print(*[(name, param.shape) for name, param in net.named_parameters()])"
   ]
  },
  {
   "cell_type": "code",
   "execution_count": 38,
   "id": "defined-virgin",
   "metadata": {},
   "outputs": [
    {
     "data": {
      "text/plain": [
       "OrderedDict([('0.weight',\n",
       "              tensor([[-0.1391, -0.2921, -0.2221, -0.2146],\n",
       "                      [ 0.1653,  0.4043,  0.0810,  0.2258],\n",
       "                      [ 0.1089, -0.2901,  0.4060, -0.0764],\n",
       "                      [-0.4446, -0.1859, -0.0752, -0.0773],\n",
       "                      [ 0.0501,  0.3209,  0.3922,  0.4266],\n",
       "                      [ 0.4470,  0.1577, -0.0096,  0.1195],\n",
       "                      [ 0.1689,  0.4865,  0.0587, -0.0398],\n",
       "                      [-0.2586,  0.4552,  0.0782,  0.4044]])),\n",
       "             ('0.bias',\n",
       "              tensor([-0.1099, -0.2046,  0.1553,  0.2624, -0.3751,  0.3734,  0.3709,  0.4354])),\n",
       "             ('2.weight',\n",
       "              tensor([[-0.3405,  0.1488, -0.3470,  0.0301, -0.1840,  0.0507,  0.2979, -0.1588]])),\n",
       "             ('2.bias', tensor([-0.1072]))])"
      ]
     },
     "execution_count": 38,
     "metadata": {},
     "output_type": "execute_result"
    }
   ],
   "source": [
    "net.state_dict()"
   ]
  },
  {
   "cell_type": "code",
   "execution_count": 39,
   "id": "driven-relevance",
   "metadata": {},
   "outputs": [
    {
     "data": {
      "text/plain": [
       "tensor([-0.1099, -0.2046,  0.1553,  0.2624, -0.3751,  0.3734,  0.3709,  0.4354])"
      ]
     },
     "execution_count": 39,
     "metadata": {},
     "output_type": "execute_result"
    }
   ],
   "source": [
    "net.state_dict()['0.bias']"
   ]
  },
  {
   "cell_type": "code",
   "execution_count": 40,
   "id": "assigned-lithuania",
   "metadata": {},
   "outputs": [
    {
     "data": {
      "text/plain": [
       "tensor([[-0.4282],\n",
       "        [-0.4283]], grad_fn=<AddmmBackward>)"
      ]
     },
     "execution_count": 40,
     "metadata": {},
     "output_type": "execute_result"
    }
   ],
   "source": [
    "def block1():\n",
    "    return nn.Sequential(nn.Linear(4,8), nn.ReLU(), nn.Linear(8,4), nn.ReLU())\n",
    "\n",
    "def block2():\n",
    "    net = nn.Sequential()\n",
    "    \n",
    "    for i in range(4):\n",
    "        net.add_module(f'block{i}', block1())\n",
    "    \n",
    "    net.add_module(f'final',nn.Linear(4,1))\n",
    "    return net\n",
    "\n",
    "regnet = block2()\n",
    "\n",
    "regnet(X)"
   ]
  },
  {
   "cell_type": "code",
   "execution_count": 41,
   "id": "occupied-frame",
   "metadata": {},
   "outputs": [
    {
     "data": {
      "text/plain": [
       "Sequential(\n",
       "  (block0): Sequential(\n",
       "    (0): Linear(in_features=4, out_features=8, bias=True)\n",
       "    (1): ReLU()\n",
       "    (2): Linear(in_features=8, out_features=4, bias=True)\n",
       "    (3): ReLU()\n",
       "  )\n",
       "  (block1): Sequential(\n",
       "    (0): Linear(in_features=4, out_features=8, bias=True)\n",
       "    (1): ReLU()\n",
       "    (2): Linear(in_features=8, out_features=4, bias=True)\n",
       "    (3): ReLU()\n",
       "  )\n",
       "  (block2): Sequential(\n",
       "    (0): Linear(in_features=4, out_features=8, bias=True)\n",
       "    (1): ReLU()\n",
       "    (2): Linear(in_features=8, out_features=4, bias=True)\n",
       "    (3): ReLU()\n",
       "  )\n",
       "  (block3): Sequential(\n",
       "    (0): Linear(in_features=4, out_features=8, bias=True)\n",
       "    (1): ReLU()\n",
       "    (2): Linear(in_features=8, out_features=4, bias=True)\n",
       "    (3): ReLU()\n",
       "  )\n",
       "  (final): Linear(in_features=4, out_features=1, bias=True)\n",
       ")"
      ]
     },
     "execution_count": 41,
     "metadata": {},
     "output_type": "execute_result"
    }
   ],
   "source": [
    "regnet"
   ]
  },
  {
   "cell_type": "code",
   "execution_count": 42,
   "id": "aggressive-norwegian",
   "metadata": {},
   "outputs": [
    {
     "data": {
      "text/plain": [
       "OrderedDict([('block0.0.weight',\n",
       "              tensor([[-0.1414, -0.2763,  0.0912,  0.2628],\n",
       "                      [-0.0203, -0.3154, -0.3734,  0.2009],\n",
       "                      [-0.1486,  0.2502, -0.1259, -0.3609],\n",
       "                      [-0.4629,  0.2864,  0.0642, -0.0444],\n",
       "                      [ 0.3430,  0.4648, -0.4341, -0.3820],\n",
       "                      [-0.0667, -0.0683,  0.4167, -0.2995],\n",
       "                      [ 0.0370,  0.4288,  0.0596, -0.4676],\n",
       "                      [-0.2145, -0.4341,  0.1977, -0.2197]])),\n",
       "             ('block0.0.bias',\n",
       "              tensor([0.4702, 0.1349, 0.1417, 0.0027, 0.3545, 0.2115, 0.2001, 0.3612])),\n",
       "             ('block0.2.weight',\n",
       "              tensor([[ 0.1718,  0.3070, -0.2701, -0.0304, -0.2666, -0.0534,  0.2603,  0.3434],\n",
       "                      [-0.1674,  0.1735,  0.3278, -0.2066,  0.2596,  0.2381, -0.1595,  0.2295],\n",
       "                      [ 0.1560, -0.2978, -0.3515,  0.0812, -0.0812,  0.2843, -0.0312,  0.2783],\n",
       "                      [ 0.2899,  0.3045,  0.1302, -0.2846,  0.1445,  0.2430, -0.0519, -0.2447]])),\n",
       "             ('block0.2.bias', tensor([ 0.2652,  0.1621, -0.2456,  0.3340])),\n",
       "             ('block1.0.weight',\n",
       "              tensor([[ 0.4008, -0.3733,  0.2018,  0.0339],\n",
       "                      [-0.1018, -0.4362,  0.4753, -0.3608],\n",
       "                      [ 0.3657, -0.0226, -0.3829, -0.3758],\n",
       "                      [ 0.2505, -0.0253, -0.0942,  0.0996],\n",
       "                      [-0.3570,  0.4931, -0.3703,  0.3850],\n",
       "                      [ 0.2268, -0.4043, -0.0059, -0.1241],\n",
       "                      [ 0.0457, -0.0825,  0.2708, -0.4522],\n",
       "                      [ 0.1739,  0.4072,  0.1022,  0.0751]])),\n",
       "             ('block1.0.bias',\n",
       "              tensor([-0.2946,  0.2614, -0.3543, -0.3778, -0.1316, -0.0773, -0.1933, -0.3035])),\n",
       "             ('block1.2.weight',\n",
       "              tensor([[-0.2551, -0.2574, -0.1240, -0.0939,  0.0944, -0.0361,  0.0752, -0.2684],\n",
       "                      [ 0.1058, -0.0052, -0.0860, -0.2099,  0.1984,  0.1397, -0.3087, -0.3010],\n",
       "                      [ 0.3239, -0.2986, -0.2811, -0.0079,  0.3404,  0.1538,  0.2322, -0.1214],\n",
       "                      [ 0.1410,  0.3183,  0.0681,  0.3223, -0.0469,  0.2835, -0.1994, -0.2086]])),\n",
       "             ('block1.2.bias', tensor([ 0.1451,  0.0529, -0.0664,  0.0532])),\n",
       "             ('block2.0.weight',\n",
       "              tensor([[ 0.4073,  0.4992, -0.4982,  0.1505],\n",
       "                      [-0.3900,  0.4337,  0.1251, -0.0331],\n",
       "                      [ 0.3053, -0.1897,  0.3978,  0.0374],\n",
       "                      [-0.2229,  0.1778,  0.3690,  0.4264],\n",
       "                      [-0.0201, -0.4172, -0.0495,  0.0825],\n",
       "                      [ 0.4569, -0.3038, -0.1857, -0.4549],\n",
       "                      [ 0.1476, -0.1337, -0.3488, -0.1726],\n",
       "                      [-0.2960,  0.0151,  0.2436,  0.2353]])),\n",
       "             ('block2.0.bias',\n",
       "              tensor([-0.4815,  0.1453,  0.0832, -0.2818, -0.4032, -0.4187, -0.2433, -0.2409])),\n",
       "             ('block2.2.weight',\n",
       "              tensor([[ 0.1090,  0.0734, -0.0793,  0.1597,  0.2967,  0.1964, -0.2218, -0.3122],\n",
       "                      [-0.2488,  0.0969,  0.3117,  0.1156,  0.2795, -0.2762, -0.1161, -0.0980],\n",
       "                      [ 0.1697,  0.2433,  0.0705, -0.2452,  0.0776, -0.2143, -0.1679, -0.2735],\n",
       "                      [ 0.2575, -0.0966,  0.2531, -0.3491,  0.2834,  0.0969,  0.3354, -0.1466]])),\n",
       "             ('block2.2.bias', tensor([ 0.2496,  0.2572,  0.0476, -0.1221])),\n",
       "             ('block3.0.weight',\n",
       "              tensor([[ 4.9185e-01, -3.3493e-01,  2.9620e-02,  4.7600e-01],\n",
       "                      [ 1.0093e-01,  1.3168e-01, -4.6512e-01, -2.4029e-01],\n",
       "                      [-1.5186e-01,  2.0400e-01, -4.7363e-01, -4.8650e-02],\n",
       "                      [ 1.2491e-01, -4.2956e-01,  7.7852e-02, -4.3324e-01],\n",
       "                      [-1.7551e-01,  3.4247e-01, -1.0386e-01,  2.2727e-01],\n",
       "                      [ 2.4082e-01,  7.8177e-02, -4.9281e-01,  3.4595e-01],\n",
       "                      [-1.6813e-01,  1.6292e-01,  4.5322e-01,  4.1653e-01],\n",
       "                      [-2.1106e-01, -3.9255e-01, -1.0166e-01, -4.3130e-04]])),\n",
       "             ('block3.0.bias',\n",
       "              tensor([-0.2807, -0.1132,  0.3385, -0.3182, -0.4587, -0.2472, -0.3392, -0.3024])),\n",
       "             ('block3.2.weight',\n",
       "              tensor([[ 0.2476, -0.2316,  0.3479,  0.0197, -0.2794, -0.0535, -0.0179,  0.2057],\n",
       "                      [-0.2305,  0.1757, -0.2440,  0.0069, -0.3392, -0.1250, -0.0672, -0.1495],\n",
       "                      [-0.0009, -0.2186,  0.3380, -0.1391,  0.1162,  0.0569, -0.0370,  0.0894],\n",
       "                      [ 0.1116, -0.3286,  0.1155, -0.0132, -0.0085,  0.1336, -0.0689, -0.0221]])),\n",
       "             ('block3.2.bias', tensor([-0.2363, -0.3092, -0.0085, -0.2497])),\n",
       "             ('final.weight', tensor([[ 0.4363,  0.3604, -0.3000, -0.4145]])),\n",
       "             ('final.bias', tensor([-0.3981]))])"
      ]
     },
     "execution_count": 42,
     "metadata": {},
     "output_type": "execute_result"
    }
   ],
   "source": [
    "regnet.state_dict()"
   ]
  },
  {
   "cell_type": "code",
   "execution_count": 44,
   "id": "quarterly-studio",
   "metadata": {},
   "outputs": [
    {
     "data": {
      "text/plain": [
       "OrderedDict([('0.weight',\n",
       "              tensor([[0., 0., 0., 0.],\n",
       "                      [0., 0., 0., 0.],\n",
       "                      [0., 0., 0., 0.],\n",
       "                      [0., 0., 0., 0.],\n",
       "                      [0., 0., 0., 0.],\n",
       "                      [0., 0., 0., 0.],\n",
       "                      [0., 0., 0., 0.],\n",
       "                      [0., 0., 0., 0.]])),\n",
       "             ('0.bias', tensor([0., 0., 0., 0., 0., 0., 0., 0.])),\n",
       "             ('2.weight', tensor([[0., 0., 0., 0., 0., 0., 0., 0.]])),\n",
       "             ('2.bias', tensor([0.]))])"
      ]
     },
     "execution_count": 44,
     "metadata": {},
     "output_type": "execute_result"
    }
   ],
   "source": [
    "def init_zero(m):\n",
    "    if type(m) == nn.Linear:\n",
    "        nn.init.normal_(m.weight, mean=0, std=0)\n",
    "        nn.init.zeros_(m.bias)\n",
    "\n",
    "net.apply(init_zero)\n",
    "\n",
    "net.state_dict()"
   ]
  },
  {
   "cell_type": "code",
   "execution_count": 45,
   "id": "wired-aerospace",
   "metadata": {},
   "outputs": [
    {
     "data": {
      "text/plain": [
       "OrderedDict([('0.weight',\n",
       "              tensor([[-0.0019, -0.0028,  0.0035, -0.0033],\n",
       "                      [ 0.0060, -0.0035,  0.0056, -0.0163],\n",
       "                      [ 0.0010,  0.0019, -0.0180, -0.0063],\n",
       "                      [ 0.0021,  0.0096, -0.0001,  0.0054],\n",
       "                      [-0.0084,  0.0045,  0.0005,  0.0103],\n",
       "                      [-0.0115, -0.0118, -0.0023,  0.0054],\n",
       "                      [-0.0066, -0.0039,  0.0018, -0.0098],\n",
       "                      [ 0.0169,  0.0097, -0.0048,  0.0053]])),\n",
       "             ('0.bias', tensor([0., 0., 0., 0., 0., 0., 0., 0.])),\n",
       "             ('2.weight',\n",
       "              tensor([[-0.0017,  0.0031, -0.0265,  0.0157, -0.0008,  0.0357,  0.0165,  0.0004]])),\n",
       "             ('2.bias', tensor([0.]))])"
      ]
     },
     "execution_count": 45,
     "metadata": {},
     "output_type": "execute_result"
    }
   ],
   "source": [
    "def init_normal(m):\n",
    "    if type(m) == nn.Linear:\n",
    "        nn.init.normal_(m.weight, mean=0, std=0.01)\n",
    "        nn.init.zeros_(m.bias)\n",
    "        \n",
    "net.apply(init_normal)\n",
    "\n",
    "net.state_dict()"
   ]
  },
  {
   "cell_type": "code",
   "execution_count": 46,
   "id": "conventional-trading",
   "metadata": {},
   "outputs": [
    {
     "data": {
      "text/plain": [
       "OrderedDict([('0.weight',\n",
       "              tensor([[ 0.1990,  0.6444, -0.2115,  0.3642],\n",
       "                      [-0.6016, -0.0097,  0.6733, -0.1605],\n",
       "                      [-0.3273, -0.2779, -0.4180, -0.2677],\n",
       "                      [ 0.5587, -0.1814, -0.3095,  0.6183],\n",
       "                      [-0.6670,  0.1813,  0.0668, -0.0179],\n",
       "                      [ 0.2229,  0.0425,  0.4958,  0.3228],\n",
       "                      [-0.2510,  0.6332, -0.4272, -0.6828],\n",
       "                      [ 0.0983,  0.1171, -0.3441, -0.1386]])),\n",
       "             ('0.bias', tensor([0., 0., 0., 0., 0., 0., 0., 0.])),\n",
       "             ('2.weight', tensor([[42., 42., 42., 42., 42., 42., 42., 42.]])),\n",
       "             ('2.bias', tensor([0.]))])"
      ]
     },
     "execution_count": 46,
     "metadata": {},
     "output_type": "execute_result"
    }
   ],
   "source": [
    "# applying different initialisers for different blocks\n",
    "\n",
    "def xavier(m):\n",
    "    if type(m) == nn.Linear:\n",
    "        nn.init.xavier_uniform_(m.weight)\n",
    "\n",
    "def init_42(m):\n",
    "    if type(m) == nn.Linear:\n",
    "        nn.init.constant_(m.weight,42)\n",
    "\n",
    "net[0].apply(xavier)\n",
    "net[2].apply(init_42)\n",
    "\n",
    "net.state_dict()"
   ]
  },
  {
   "cell_type": "code",
   "execution_count": 58,
   "id": "mysterious-bread",
   "metadata": {},
   "outputs": [],
   "source": [
    "# custom intialisation\n",
    "import torch.nn.functional as F\n",
    "class MyLinear(nn.Module):\n",
    "    def __init__(self, in_units, units):\n",
    "        super().__init__()\n",
    "        self.weight = nn.Parameter(torch.randn(in_units, units))\n",
    "        self.bias = nn.Parameter(torch.randn(units))\n",
    "    \n",
    "    def forward(self, X):\n",
    "        out = torch.matmul(X, self.weight.data) + self.bias.data\n",
    "        return F.relu(out)"
   ]
  },
  {
   "cell_type": "code",
   "execution_count": 59,
   "id": "compound-pound",
   "metadata": {},
   "outputs": [],
   "source": [
    "net = MyLinear(4,1)"
   ]
  },
  {
   "cell_type": "code",
   "execution_count": 60,
   "id": "bottom-hayes",
   "metadata": {},
   "outputs": [
    {
     "data": {
      "text/plain": [
       "Parameter containing:\n",
       "tensor([[ 0.1479],\n",
       "        [-0.8462],\n",
       "        [ 1.4379],\n",
       "        [ 0.6987]], requires_grad=True)"
      ]
     },
     "execution_count": 60,
     "metadata": {},
     "output_type": "execute_result"
    }
   ],
   "source": [
    "net.weight"
   ]
  },
  {
   "cell_type": "code",
   "execution_count": 61,
   "id": "twenty-tomorrow",
   "metadata": {},
   "outputs": [
    {
     "data": {
      "text/plain": [
       "tensor([[2.2774],\n",
       "        [0.0000]])"
      ]
     },
     "execution_count": 61,
     "metadata": {},
     "output_type": "execute_result"
    }
   ],
   "source": [
    "net(X)"
   ]
  },
  {
   "cell_type": "code",
   "execution_count": 62,
   "id": "laden-donna",
   "metadata": {},
   "outputs": [
    {
     "data": {
      "text/plain": [
       "Parameter containing:\n",
       "tensor([[ 0.1479],\n",
       "        [-0.8462],\n",
       "        [ 1.4379],\n",
       "        [ 0.6987]], requires_grad=True)"
      ]
     },
     "execution_count": 62,
     "metadata": {},
     "output_type": "execute_result"
    }
   ],
   "source": [
    "net.weight"
   ]
  },
  {
   "cell_type": "code",
   "execution_count": 63,
   "id": "patent-reality",
   "metadata": {},
   "outputs": [
    {
     "data": {
      "text/plain": [
       "tensor([[0.0000, 0.0000, 5.6595, 0.0000],\n",
       "        [0.0000, 0.0000, 0.0000, 0.0000],\n",
       "        [0.0000, 0.0000, 0.0000, 0.0000],\n",
       "        [0.0000, 0.0000, 0.0000, 0.0000]])"
      ]
     },
     "execution_count": 63,
     "metadata": {},
     "output_type": "execute_result"
    }
   ],
   "source": [
    "net = nn.Sequential(MyLinear(64,32), MyLinear(32,4))\n",
    "\n",
    "net(torch.rand(4, 64))"
   ]
  },
  {
   "cell_type": "markdown",
   "id": "hungarian-fiber",
   "metadata": {},
   "source": [
    "### Exercises\n",
    "1. Design a layer that takes an input and computes a tensor reduction, i.e., it returns yk = i,j Wijkxixj .\n",
    "\n",
    "2. Design a layer that returns the leading half of the Fourier coefficients of the data.\n",
    "\n",
    "* dontknow."
   ]
  },
  {
   "cell_type": "code",
   "execution_count": 80,
   "id": "finished-improvement",
   "metadata": {},
   "outputs": [],
   "source": [
    "#1\n",
    "\n",
    "class LayerOne(nn.Module):\n",
    "    def __init__(self, first, second):\n",
    "        super().__init__()\n",
    "        self.weight = nn.Parameter(torch.randn(first, second))\n",
    "        self.bias = nn.Parameter(torch.randn(second))\n",
    "    \n",
    "    def forward(self, X1, X2):\n",
    "        out = torch.matmul(X1, self.weight)\n",
    "        out = torch.matmul(out, X2)\n",
    "        return F.relu(out)"
   ]
  },
  {
   "cell_type": "code",
   "execution_count": 81,
   "id": "written-ticket",
   "metadata": {},
   "outputs": [],
   "source": [
    "first = 5\n",
    "second = 6\n",
    "\n",
    "X1 = torch.randn(4,first)\n",
    "X2 = torch.randn(second,1)"
   ]
  },
  {
   "cell_type": "code",
   "execution_count": 82,
   "id": "adaptive-jaguar",
   "metadata": {},
   "outputs": [],
   "source": [
    "net = LayerOne(5,6)"
   ]
  },
  {
   "cell_type": "code",
   "execution_count": 83,
   "id": "flush-boutique",
   "metadata": {},
   "outputs": [
    {
     "data": {
      "text/plain": [
       "tensor([[0.0000],\n",
       "        [1.4783],\n",
       "        [6.3657],\n",
       "        [0.0000]], grad_fn=<ReluBackward0>)"
      ]
     },
     "execution_count": 83,
     "metadata": {},
     "output_type": "execute_result"
    }
   ],
   "source": [
    "net(X1, X2)"
   ]
  }
 ],
 "metadata": {
  "kernelspec": {
   "display_name": "Python 3",
   "language": "python",
   "name": "python3"
  },
  "language_info": {
   "codemirror_mode": {
    "name": "ipython",
    "version": 3
   },
   "file_extension": ".py",
   "mimetype": "text/x-python",
   "name": "python",
   "nbconvert_exporter": "python",
   "pygments_lexer": "ipython3",
   "version": "3.9.5"
  }
 },
 "nbformat": 4,
 "nbformat_minor": 5
}
