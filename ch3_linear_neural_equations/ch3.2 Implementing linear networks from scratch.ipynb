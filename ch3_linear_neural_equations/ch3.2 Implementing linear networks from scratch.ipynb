{
 "cells": [
  {
   "cell_type": "code",
   "execution_count": 1,
   "id": "israeli-relaxation",
   "metadata": {},
   "outputs": [],
   "source": [
    "import torch\n",
    "import random\n",
    "import matplotlib.pyplot as plt"
   ]
  },
  {
   "cell_type": "code",
   "execution_count": 5,
   "id": "surgical-cooking",
   "metadata": {},
   "outputs": [
    {
     "data": {
      "text/plain": [
       "(tensor([[-0.3742, -0.9676],\n",
       "         [-0.2198,  0.7075],\n",
       "         [-0.6433, -0.2063],\n",
       "         [-0.3357, -0.8992],\n",
       "         [ 0.3952, -0.4705],\n",
       "         [-0.0848,  1.2938],\n",
       "         [ 1.0787, -0.9806],\n",
       "         [ 0.4029,  1.8941],\n",
       "         [ 2.1257, -1.2268],\n",
       "         [ 1.0570,  1.5120]]),\n",
       " tensor([[ 0.1570, -0.0243],\n",
       "         [-0.0122,  0.0247],\n",
       "         [-0.1207, -0.0657],\n",
       "         [-0.1475,  0.0602],\n",
       "         [-0.1083,  0.1235],\n",
       "         [-0.0210, -0.0707],\n",
       "         [-0.1396, -0.1521],\n",
       "         [ 0.0818,  0.1081],\n",
       "         [ 0.1646, -0.0627],\n",
       "         [ 0.0032,  0.0570]]))"
      ]
     },
     "execution_count": 5,
     "metadata": {},
     "output_type": "execute_result"
    }
   ],
   "source": [
    "torch.normal(0,1,(10,2)), torch.normal(0,0.1,(10,2))"
   ]
  },
  {
   "cell_type": "code",
   "execution_count": 22,
   "id": "endangered-lender",
   "metadata": {},
   "outputs": [],
   "source": [
    "# generating synthetic dataset\n",
    "\n",
    "import numpy as np\n",
    "\n",
    "def make_dataset(size=1000, true_weight=torch.tensor([2, -3.4]), true_bias=4.2):\n",
    "    X = torch.normal(0,1, (size, len(true_weight)))\n",
    "    y = torch.matmul(X,true_weight) + true_bias\n",
    "    # now we add for noise, mean =0, standard deviation = 0.1\n",
    "    y += torch.normal(0,0.1, y.shape)\n",
    "    return X, y.reshape(-1,1) # this work same as unsqueeze"
   ]
  },
  {
   "cell_type": "code",
   "execution_count": 54,
   "id": "indian-compatibility",
   "metadata": {},
   "outputs": [],
   "source": [
    "X, y = make_dataset()"
   ]
  },
  {
   "cell_type": "code",
   "execution_count": 28,
   "id": "assigned-section",
   "metadata": {},
   "outputs": [
    {
     "data": {
      "text/plain": [
       "(tensor([-2.0686,  0.3597]), tensor([-1.1781]))"
      ]
     },
     "execution_count": 28,
     "metadata": {},
     "output_type": "execute_result"
    }
   ],
   "source": [
    "X[0], y[0]"
   ]
  },
  {
   "cell_type": "code",
   "execution_count": 41,
   "id": "pediatric-spread",
   "metadata": {},
   "outputs": [
    {
     "data": {
      "text/plain": [
       "[<matplotlib.lines.Line2D at 0x15742a874f0>,\n",
       " <matplotlib.lines.Line2D at 0x15742a87550>]"
      ]
     },
     "execution_count": 41,
     "metadata": {},
     "output_type": "execute_result"
    },
    {
     "data": {
      "image/png": "[encoded data removed]",
      "text/plain": [
       "<Figure size 432x288 with 1 Axes>"
      ]
     },
     "metadata": {
      "needs_background": "light"
     },
     "output_type": "display_data"
    }
   ],
   "source": [
    "plt.plot(X.detach(),y.detach(),'o')"
   ]
  },
  {
   "cell_type": "code",
   "execution_count": 71,
   "id": "fresh-service",
   "metadata": {},
   "outputs": [],
   "source": [
    "# reading the dataset, and giving based on batch size\n",
    "\n",
    "def read_iter(batch_size, features, labels):\n",
    "    indices = list(range(len(features)))\n",
    "    random.shuffle(indices)\n",
    "    new_features = features[indices]\n",
    "    new_labels = labels[indices]\n",
    "    \n",
    "#     print(new_features[:5], features[:5])\n",
    "    for i in range(0,len(features), batch_size):\n",
    "        yield new_features[i:min(i+batch_size, len(features))], new_labels[i:min(i+batch_size, len(features))]\n",
    "        "
   ]
  },
  {
   "cell_type": "code",
   "execution_count": 72,
   "id": "specific-mechanics",
   "metadata": {},
   "outputs": [],
   "source": [
    "train_dataloader= read_iter(32, X, y)"
   ]
  },
  {
   "cell_type": "code",
   "execution_count": 73,
   "id": "hawaiian-faculty",
   "metadata": {},
   "outputs": [
    {
     "name": "stdout",
     "output_type": "stream",
     "text": [
      "tensor([[-0.6252,  1.1764],\n",
      "        [ 0.7681, -2.2421],\n",
      "        [-0.7209,  0.7380],\n",
      "        [-0.7528,  1.1685],\n",
      "        [ 0.7233,  1.2691],\n",
      "        [-1.0366,  0.4359],\n",
      "        [ 0.0494, -1.0319],\n",
      "        [ 1.6664,  0.6216],\n",
      "        [ 1.1048,  0.7398],\n",
      "        [-0.2592,  0.2155],\n",
      "        [-0.7162, -0.7998],\n",
      "        [-1.4529, -0.5680],\n",
      "        [ 0.2821, -1.3985],\n",
      "        [ 0.6433, -0.1368],\n",
      "        [ 0.3276,  1.0824],\n",
      "        [-0.7498, -0.4487],\n",
      "        [ 0.2847, -0.8668],\n",
      "        [ 1.2636,  0.1197],\n",
      "        [-0.2569,  0.4339],\n",
      "        [-1.8385, -0.8960],\n",
      "        [-0.2066, -0.6896],\n",
      "        [-0.6133, -1.5679],\n",
      "        [ 0.8988, -0.6914],\n",
      "        [-0.0871, -0.3551],\n",
      "        [-0.2744, -0.3800],\n",
      "        [ 0.1386, -0.9058],\n",
      "        [ 0.4728, -0.9171],\n",
      "        [-0.5046, -1.1064],\n",
      "        [ 0.1751,  0.6747],\n",
      "        [-0.6889, -0.8719],\n",
      "        [ 0.8057,  1.3331],\n",
      "        [ 1.0668,  0.5185]]) tensor([[-1.1912],\n",
      "        [13.6163],\n",
      "        [ 0.2370],\n",
      "        [-1.2030],\n",
      "        [ 1.2484],\n",
      "        [ 0.5935],\n",
      "        [ 7.8229],\n",
      "        [ 5.5358],\n",
      "        [ 3.9108],\n",
      "        [ 2.9621],\n",
      "        [ 5.4197],\n",
      "        [ 3.0995],\n",
      "        [ 9.4236],\n",
      "        [ 5.9503],\n",
      "        [ 1.2875],\n",
      "        [ 4.2822],\n",
      "        [ 7.7904],\n",
      "        [ 6.4038],\n",
      "        [ 2.3155],\n",
      "        [ 3.4580],\n",
      "        [ 6.2749],\n",
      "        [ 8.2960],\n",
      "        [ 8.4309],\n",
      "        [ 5.2929],\n",
      "        [ 5.0263],\n",
      "        [ 7.5532],\n",
      "        [ 8.2497],\n",
      "        [ 6.9908],\n",
      "        [ 2.3985],\n",
      "        [ 5.7519],\n",
      "        [ 1.1549],\n",
      "        [ 4.6061]])\n"
     ]
    }
   ],
   "source": [
    "for data, label in train_dataloader:\n",
    "    print(data, label)\n",
    "    break"
   ]
  },
  {
   "cell_type": "code",
   "execution_count": 74,
   "id": "united-driver",
   "metadata": {},
   "outputs": [],
   "source": [
    "# we before training would initialize the model\n",
    "w = torch.normal(0,1, (2,1), requires_grad = True)\n",
    "b = torch.zeros(1,requires_grad=True)"
   ]
  },
  {
   "cell_type": "code",
   "execution_count": 75,
   "id": "approximate-interaction",
   "metadata": {},
   "outputs": [],
   "source": [
    "# define the model\n",
    "\n",
    "def linreg(X,w,b):\n",
    "    return torch.matmul(X, w) + b\n",
    "    "
   ]
  },
  {
   "cell_type": "code",
   "execution_count": 76,
   "id": "comic-jonathan",
   "metadata": {},
   "outputs": [],
   "source": [
    "#loss function\n",
    "\n",
    "def squared_loss(y_hat, y):\n",
    "    return (y_hat - y.reshape(y_hat.shape)**2/2)"
   ]
  },
  {
   "cell_type": "code",
   "execution_count": 81,
   "id": "standing-texas",
   "metadata": {},
   "outputs": [],
   "source": [
    "def sgd(params, lr, batch_size):\n",
    "    with torch.no_grad():\n",
    "        for param in params:\n",
    "            param -= lr * param.grad/ batch_size\n",
    "            param.grad.zero_()"
   ]
  },
  {
   "cell_type": "code",
   "execution_count": 82,
   "id": "attempted-horse",
   "metadata": {},
   "outputs": [],
   "source": [
    "lr = 0.03\n",
    "num_epochs =3\n",
    "batch_size=32"
   ]
  },
  {
   "cell_type": "code",
   "execution_count": 85,
   "id": "ordered-transparency",
   "metadata": {},
   "outputs": [
    {
     "name": "stdout",
     "output_type": "stream",
     "text": [
      "Loss for current epoch  0 : tensor(-10.5198)\n",
      "Loss for current epoch  1 : tensor(-10.5530)\n",
      "Loss for current epoch  2 : tensor(-10.5862)\n"
     ]
    }
   ],
   "source": [
    "# training loop\n",
    "for epoch in range(num_epochs):\n",
    "    train_dataloader= read_iter(batch_size, X, y)\n",
    "    for data, target in train_dataloader:\n",
    "        l = squared_loss(linreg(data,w,b), target)\n",
    "        l.sum().backward()\n",
    "        sgd([w,b],lr,batch_size)\n",
    "    \n",
    "    with torch.no_grad():\n",
    "        print(\"Loss for current epoch \", epoch, \":\", l.mean())\n",
    "        \n",
    "    "
   ]
  },
  {
   "cell_type": "code",
   "execution_count": null,
   "id": "printable-warren",
   "metadata": {},
   "outputs": [],
   "source": []
  }
 ],
 "metadata": {
  "kernelspec": {
   "display_name": "Python 3",
   "language": "python",
   "name": "python3"
  },
  "language_info": {
   "codemirror_mode": {
    "name": "ipython",
    "version": 3
   },
   "file_extension": ".py",
   "mimetype": "text/x-python",
   "name": "python",
   "nbconvert_exporter": "python",
   "pygments_lexer": "ipython3",
   "version": "3.9.5"
  }
 },
 "nbformat": 4,
 "nbformat_minor": 5
}
