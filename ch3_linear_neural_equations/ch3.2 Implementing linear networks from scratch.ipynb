{
 "cells": [
  {
   "cell_type": "code",
   "execution_count": 1,
   "id": "responsible-financing",
   "metadata": {},
   "outputs": [],
   "source": [
    "import torch\n",
    "import random\n",
    "import matplotlib.pyplot as plt"
   ]
  },
  {
   "cell_type": "code",
   "execution_count": 2,
   "id": "neural-scotland",
   "metadata": {},
   "outputs": [
    {
     "data": {
      "text/plain": [
       "(tensor([[ 1.5079, -0.9240],\n",
       "         [-0.0240,  2.1191],\n",
       "         [-0.7400, -1.2657],\n",
       "         [ 0.4183,  1.0202],\n",
       "         [-1.1977,  1.1637],\n",
       "         [ 0.1683, -1.2569],\n",
       "         [-0.1462,  1.3500],\n",
       "         [-1.2073,  0.9583],\n",
       "         [-0.0557,  1.7702],\n",
       "         [-0.9378,  0.1738]]),\n",
       " tensor([[-0.1631,  0.0170],\n",
       "         [ 0.0726,  0.1518],\n",
       "         [-0.1213,  0.2629],\n",
       "         [-0.0913, -0.0416],\n",
       "         [-0.0111,  0.0041],\n",
       "         [ 0.1244,  0.1380],\n",
       "         [ 0.0464,  0.0236],\n",
       "         [-0.1958,  0.1306],\n",
       "         [ 0.0045,  0.0578],\n",
       "         [-0.0929,  0.2033]]))"
      ]
     },
     "execution_count": 2,
     "metadata": {},
     "output_type": "execute_result"
    }
   ],
   "source": [
    "torch.normal(0,1,(10,2)), torch.normal(0,0.1,(10,2))"
   ]
  },
  {
   "cell_type": "code",
   "execution_count": 3,
   "id": "hourly-scanner",
   "metadata": {},
   "outputs": [],
   "source": [
    "# generating synthetic dataset\n",
    "\n",
    "import numpy as np\n",
    "\n",
    "def make_dataset(size=1000, true_weight=torch.tensor([2, -3.4]), true_bias=4.2):\n",
    "    X = torch.normal(0,1, (size, len(true_weight)))\n",
    "    y = torch.matmul(X,true_weight) + true_bias\n",
    "    # now we add for noise, mean =0, standard deviation = 0.1\n",
    "    y += torch.normal(0,0.1, y.shape)\n",
    "    return X, y.reshape(-1,1) # this work same as unsqueeze"
   ]
  },
  {
   "cell_type": "code",
   "execution_count": 4,
   "id": "chubby-difficulty",
   "metadata": {},
   "outputs": [],
   "source": [
    "features, labels = make_dataset()"
   ]
  },
  {
   "cell_type": "code",
   "execution_count": 5,
   "id": "confirmed-horizontal",
   "metadata": {},
   "outputs": [
    {
     "data": {
      "text/plain": [
       "(tensor([0.9499, 0.7587]), tensor([3.5416]))"
      ]
     },
     "execution_count": 5,
     "metadata": {},
     "output_type": "execute_result"
    }
   ],
   "source": [
    "features[0], labels[0]"
   ]
  },
  {
   "cell_type": "code",
   "execution_count": 6,
   "id": "placed-identity",
   "metadata": {},
   "outputs": [
    {
     "data": {
      "text/plain": [
       "[<matplotlib.lines.Line2D at 0x257aa325f10>,\n",
       " <matplotlib.lines.Line2D at 0x257aa325f40>]"
      ]
     },
     "execution_count": 6,
     "metadata": {},
     "output_type": "execute_result"
    },
    {
     "data": {
      "image/png": "[encoded data removed]",
      "text/plain": [
       "<Figure size 432x288 with 1 Axes>"
      ]
     },
     "metadata": {
      "needs_background": "light"
     },
     "output_type": "display_data"
    }
   ],
   "source": [
    "plt.plot(features.detach(),labels.detach(),'o')"
   ]
  },
  {
   "cell_type": "code",
   "execution_count": 7,
   "id": "linear-priority",
   "metadata": {},
   "outputs": [],
   "source": [
    "# reading the dataset, and giving based on batch size\n",
    "\n",
    "def read_iter(batch_size, features, labels):\n",
    "    indices = list(range(len(features)))\n",
    "    random.shuffle(indices)\n",
    "    new_features = features[indices]\n",
    "    new_labels = labels[indices]\n",
    "    \n",
    "#     print(new_features[:5], features[:5])\n",
    "    for i in range(0,len(features), batch_size):\n",
    "        yield new_features[i:min(i+batch_size, len(features))], new_labels[i:min(i+batch_size, len(features))]\n",
    "        "
   ]
  },
  {
   "cell_type": "code",
   "execution_count": 8,
   "id": "through-atlanta",
   "metadata": {},
   "outputs": [],
   "source": [
    "train_dataloader= read_iter(32, features, labels)"
   ]
  },
  {
   "cell_type": "code",
   "execution_count": 9,
   "id": "colonial-stanley",
   "metadata": {},
   "outputs": [
    {
     "name": "stdout",
     "output_type": "stream",
     "text": [
      "tensor([[ 1.1882,  0.1925],\n",
      "        [ 1.0664,  1.4002],\n",
      "        [ 0.7215,  0.1771],\n",
      "        [-1.8089,  1.6860],\n",
      "        [-0.2288, -0.9540],\n",
      "        [ 1.1609,  0.6905],\n",
      "        [-1.0060, -0.0216],\n",
      "        [ 0.5956,  1.5831],\n",
      "        [ 0.4638,  0.5000],\n",
      "        [ 0.4243, -0.8270],\n",
      "        [ 0.6041,  1.1139],\n",
      "        [ 0.0749, -0.6459],\n",
      "        [-0.6913,  0.0024],\n",
      "        [ 0.9387,  0.1620],\n",
      "        [ 0.1055, -0.4127],\n",
      "        [-0.8365, -1.0044],\n",
      "        [-2.1215,  2.2031],\n",
      "        [-0.9858, -1.7718],\n",
      "        [ 0.6329, -0.3364],\n",
      "        [-0.1283,  0.2220],\n",
      "        [ 1.5119, -1.0081],\n",
      "        [-0.6682, -0.4356],\n",
      "        [-0.6518, -0.2682],\n",
      "        [ 0.3530,  0.7120],\n",
      "        [ 1.3663,  0.4124],\n",
      "        [-0.8729, -0.8116],\n",
      "        [-1.7319,  0.0763],\n",
      "        [ 0.2148,  1.7989],\n",
      "        [-0.7713,  1.3779],\n",
      "        [ 0.8470,  0.5196],\n",
      "        [ 1.8815, -0.2113],\n",
      "        [ 1.3892,  1.7796]]) tensor([[ 6.0323],\n",
      "        [ 1.5687],\n",
      "        [ 5.1568],\n",
      "        [-5.0981],\n",
      "        [ 6.9285],\n",
      "        [ 4.1338],\n",
      "        [ 2.2383],\n",
      "        [ 0.0148],\n",
      "        [ 3.4077],\n",
      "        [ 7.7438],\n",
      "        [ 1.4379],\n",
      "        [ 6.4792],\n",
      "        [ 2.8768],\n",
      "        [ 5.4018],\n",
      "        [ 5.8541],\n",
      "        [ 5.9591],\n",
      "        [-7.4017],\n",
      "        [ 8.1526],\n",
      "        [ 6.6066],\n",
      "        [ 3.3258],\n",
      "        [10.5629],\n",
      "        [ 4.2376],\n",
      "        [ 3.8427],\n",
      "        [ 2.5204],\n",
      "        [ 5.4793],\n",
      "        [ 5.2950],\n",
      "        [ 0.4394],\n",
      "        [-1.4831],\n",
      "        [-2.1312],\n",
      "        [ 3.9755],\n",
      "        [ 8.6682],\n",
      "        [ 0.9767]])\n"
     ]
    }
   ],
   "source": [
    "for data, label in train_dataloader:\n",
    "    print(data, label)\n",
    "    break"
   ]
  },
  {
   "cell_type": "code",
   "execution_count": 10,
   "id": "negative-houston",
   "metadata": {},
   "outputs": [],
   "source": [
    "# we before training would initialize the model\n",
    "w = torch.normal(0,0.1, (2,1), requires_grad = True)\n",
    "b = torch.zeros(1,requires_grad=True)"
   ]
  },
  {
   "cell_type": "code",
   "execution_count": 11,
   "id": "dedicated-harassment",
   "metadata": {},
   "outputs": [],
   "source": [
    "# define the model\n",
    "\n",
    "def linreg(X,w,b):\n",
    "    return torch.matmul(X, w) + b\n",
    "    "
   ]
  },
  {
   "cell_type": "code",
   "execution_count": 12,
   "id": "incomplete-category",
   "metadata": {},
   "outputs": [],
   "source": [
    "#loss function\n",
    "\n",
    "def squared_loss(y_hat, y):\n",
    "#      print(y_hat.shape, y.shape)\n",
    "    return (y_hat - y.reshape(y_hat.shape))**2 / 2"
   ]
  },
  {
   "cell_type": "code",
   "execution_count": 13,
   "id": "brief-agenda",
   "metadata": {},
   "outputs": [],
   "source": [
    "def sgd(params, lr, batch_size):  #@save\n",
    "    \"\"\"Minibatch stochastic gradient descent.\"\"\"\n",
    "    with torch.no_grad():\n",
    "        for param in params:\n",
    "            param -= lr * param.grad / batch_size\n",
    "            param.grad.zero_()"
   ]
  },
  {
   "cell_type": "code",
   "execution_count": 14,
   "id": "forward-bubble",
   "metadata": {},
   "outputs": [],
   "source": [
    "lr = 0.03\n",
    "num_epochs =100\n",
    "batch_size=32\n",
    "   "
   ]
  },
  {
   "cell_type": "code",
   "execution_count": 15,
   "id": "similar-terrorist",
   "metadata": {},
   "outputs": [
    {
     "name": "stdout",
     "output_type": "stream",
     "text": [
      "Loss for current epoch  0 : tensor(2.5705)\n",
      "Loss for current epoch  1 : tensor(0.4197)\n",
      "Loss for current epoch  2 : tensor(0.0721)\n",
      "Loss for current epoch  3 : tensor(0.0156)\n",
      "Loss for current epoch  4 : tensor(0.0065)\n",
      "Loss for current epoch  5 : tensor(0.0051)\n",
      "Loss for current epoch  6 : tensor(0.0048)\n",
      "Loss for current epoch  7 : tensor(0.0048)\n",
      "Loss for current epoch  8 : tensor(0.0048)\n",
      "Loss for current epoch  9 : tensor(0.0048)\n",
      "Loss for current epoch  10 : tensor(0.0048)\n",
      "Loss for current epoch  11 : tensor(0.0048)\n",
      "Loss for current epoch  12 : tensor(0.0048)\n",
      "Loss for current epoch  13 : tensor(0.0048)\n",
      "Loss for current epoch  14 : tensor(0.0048)\n",
      "Loss for current epoch  15 : tensor(0.0048)\n",
      "Loss for current epoch  16 : tensor(0.0048)\n",
      "Loss for current epoch  17 : tensor(0.0048)\n",
      "Loss for current epoch  18 : tensor(0.0048)\n",
      "Loss for current epoch  19 : tensor(0.0048)\n",
      "Loss for current epoch  20 : tensor(0.0048)\n",
      "Loss for current epoch  21 : tensor(0.0048)\n",
      "Loss for current epoch  22 : tensor(0.0048)\n",
      "Loss for current epoch  23 : tensor(0.0048)\n",
      "Loss for current epoch  24 : tensor(0.0048)\n",
      "Loss for current epoch  25 : tensor(0.0048)\n",
      "Loss for current epoch  26 : tensor(0.0048)\n",
      "Loss for current epoch  27 : tensor(0.0048)\n",
      "Loss for current epoch  28 : tensor(0.0048)\n",
      "Loss for current epoch  29 : tensor(0.0048)\n",
      "Loss for current epoch  30 : tensor(0.0048)\n",
      "Loss for current epoch  31 : tensor(0.0048)\n",
      "Loss for current epoch  32 : tensor(0.0048)\n",
      "Loss for current epoch  33 : tensor(0.0048)\n",
      "Loss for current epoch  34 : tensor(0.0048)\n",
      "Loss for current epoch  35 : tensor(0.0048)\n",
      "Loss for current epoch  36 : tensor(0.0048)\n",
      "Loss for current epoch  37 : tensor(0.0048)\n",
      "Loss for current epoch  38 : tensor(0.0048)\n",
      "Loss for current epoch  39 : tensor(0.0048)\n",
      "Loss for current epoch  40 : tensor(0.0048)\n",
      "Loss for current epoch  41 : tensor(0.0048)\n",
      "Loss for current epoch  42 : tensor(0.0048)\n",
      "Loss for current epoch  43 : tensor(0.0048)\n",
      "Loss for current epoch  44 : tensor(0.0048)\n",
      "Loss for current epoch  45 : tensor(0.0048)\n",
      "Loss for current epoch  46 : tensor(0.0048)\n",
      "Loss for current epoch  47 : tensor(0.0048)\n",
      "Loss for current epoch  48 : tensor(0.0048)\n",
      "Loss for current epoch  49 : tensor(0.0048)\n",
      "Loss for current epoch  50 : tensor(0.0048)\n",
      "Loss for current epoch  51 : tensor(0.0048)\n",
      "Loss for current epoch  52 : tensor(0.0048)\n",
      "Loss for current epoch  53 : tensor(0.0048)\n",
      "Loss for current epoch  54 : tensor(0.0048)\n",
      "Loss for current epoch  55 : tensor(0.0048)\n",
      "Loss for current epoch  56 : tensor(0.0048)\n",
      "Loss for current epoch  57 : tensor(0.0048)\n",
      "Loss for current epoch  58 : tensor(0.0048)\n",
      "Loss for current epoch  59 : tensor(0.0048)\n",
      "Loss for current epoch  60 : tensor(0.0048)\n",
      "Loss for current epoch  61 : tensor(0.0048)\n",
      "Loss for current epoch  62 : tensor(0.0048)\n",
      "Loss for current epoch  63 : tensor(0.0048)\n",
      "Loss for current epoch  64 : tensor(0.0048)\n",
      "Loss for current epoch  65 : tensor(0.0048)\n",
      "Loss for current epoch  66 : tensor(0.0048)\n",
      "Loss for current epoch  67 : tensor(0.0048)\n",
      "Loss for current epoch  68 : tensor(0.0048)\n",
      "Loss for current epoch  69 : tensor(0.0048)\n",
      "Loss for current epoch  70 : tensor(0.0048)\n",
      "Loss for current epoch  71 : tensor(0.0048)\n",
      "Loss for current epoch  72 : tensor(0.0048)\n",
      "Loss for current epoch  73 : tensor(0.0048)\n",
      "Loss for current epoch  74 : tensor(0.0048)\n",
      "Loss for current epoch  75 : tensor(0.0048)\n",
      "Loss for current epoch  76 : tensor(0.0048)\n",
      "Loss for current epoch  77 : tensor(0.0048)\n",
      "Loss for current epoch  78 : tensor(0.0048)\n",
      "Loss for current epoch  79 : tensor(0.0048)\n",
      "Loss for current epoch  80 : tensor(0.0048)\n",
      "Loss for current epoch  81 : tensor(0.0048)\n",
      "Loss for current epoch  82 : tensor(0.0048)\n",
      "Loss for current epoch  83 : tensor(0.0048)\n",
      "Loss for current epoch  84 : tensor(0.0048)\n",
      "Loss for current epoch  85 : tensor(0.0048)\n",
      "Loss for current epoch  86 : tensor(0.0048)\n",
      "Loss for current epoch  87 : tensor(0.0048)\n",
      "Loss for current epoch  88 : tensor(0.0048)\n",
      "Loss for current epoch  89 : tensor(0.0048)\n",
      "Loss for current epoch  90 : tensor(0.0048)\n",
      "Loss for current epoch  91 : tensor(0.0048)\n",
      "Loss for current epoch  92 : tensor(0.0048)\n",
      "Loss for current epoch  93 : tensor(0.0048)\n",
      "Loss for current epoch  94 : tensor(0.0048)\n",
      "Loss for current epoch  95 : tensor(0.0048)\n",
      "Loss for current epoch  96 : tensor(0.0048)\n",
      "Loss for current epoch  97 : tensor(0.0048)\n",
      "Loss for current epoch  98 : tensor(0.0048)\n",
      "Loss for current epoch  99 : tensor(0.0048)\n"
     ]
    }
   ],
   "source": [
    "# training loop\n",
    "for epoch in range(num_epochs):\n",
    "    train_dataloader= read_iter(batch_size, features, labels)\n",
    "    for X, y in train_dataloader:\n",
    "        l = squared_loss(linreg(X,w,b), y)\n",
    "        l.sum().backward()\n",
    "        sgd([w,b],lr,batch_size)\n",
    "        \n",
    "    \n",
    "    with torch.no_grad():\n",
    "        train_l = squared_loss(linreg(features, w, b), labels)\n",
    "        print(\"Loss for current epoch \", epoch, \":\", train_l.mean())\n",
    "#         print(\"the value of w: \", w, \" The value of b: \", b)\n",
    "        "
   ]
  },
  {
   "cell_type": "code",
   "execution_count": 16,
   "id": "significant-variance",
   "metadata": {},
   "outputs": [
    {
     "data": {
      "text/plain": [
       "(tensor([[ 2.0013],\n",
       "         [-3.4051]], requires_grad=True),\n",
       " tensor([ 2.0000, -3.4000]))"
      ]
     },
     "execution_count": 16,
     "metadata": {},
     "output_type": "execute_result"
    }
   ],
   "source": [
    "w, torch.tensor([2, -3.4])"
   ]
  },
  {
   "cell_type": "code",
   "execution_count": 17,
   "id": "portuguese-tennessee",
   "metadata": {
    "scrolled": true
   },
   "outputs": [
    {
     "data": {
      "text/plain": [
       "[<matplotlib.lines.Line2D at 0x257ab3f3940>,\n",
       " <matplotlib.lines.Line2D at 0x257ab3f39a0>]"
      ]
     },
     "execution_count": 17,
     "metadata": {},
     "output_type": "execute_result"
    },
    {
     "data": {
      "image/png": "[encoded data removed]",
      "text/plain": [
       "<Figure size 432x288 with 1 Axes>"
      ]
     },
     "metadata": {
      "needs_background": "light"
     },
     "output_type": "display_data"
    }
   ],
   "source": [
    "plt.plot(features.detach(), linreg(features,w,b).detach(), 'ro')"
   ]
  },
  {
   "cell_type": "markdown",
   "id": "operational-agenda",
   "metadata": {},
   "source": [
    "Exercises\n",
    "1. What would happen if we were to initialize the weights to zero. Would the algorithm still\n",
    "work?\n",
    "2. Assume that you are Georg Simon Ohm48 trying to come up with a model between voltage\n",
    "and current. Can you use auto differentiation to learn the parameters of your model?\n",
    "3. Can you use Planckʼs Law49 to determine the temperature of an object using spectral energy\n",
    "density?\n",
    "4. What are the problems you might encounter if you wanted to compute the second deriva\u0002tives? How would you fix them?\n",
    "5. Why is the reshape function needed in the squared_loss function?\n",
    "6. Experiment using different learning rates to find out how fast the loss function value drops.\n",
    "7. If the number of examples cannot be divided by the batch size, what happens to the\n",
    "data_iter functionʼs behavior?"
   ]
  },
  {
   "cell_type": "code",
   "execution_count": 18,
   "id": "willing-somalia",
   "metadata": {},
   "outputs": [
    {
     "data": {
      "text/plain": [
       "(tensor([0., 0.]), tensor([4.2058], requires_grad=True))"
      ]
     },
     "execution_count": 18,
     "metadata": {},
     "output_type": "execute_result"
    }
   ],
   "source": [
    "#1\n",
    "\n",
    "w = torch.zeros(2, dtype=torch.float32)\n",
    "\n",
    "w = torch.tensor([0.,0.])\n",
    "w, b"
   ]
  },
  {
   "cell_type": "code",
   "execution_count": 19,
   "id": "cellular-madrid",
   "metadata": {},
   "outputs": [
    {
     "name": "stdout",
     "output_type": "stream",
     "text": [
      "None tensor([0.4199])\n",
      "unsupported operand type(s) for *: 'float' and 'NoneType'\n"
     ]
    }
   ],
   "source": [
    "try:\n",
    "    for epoch in range(num_epochs):\n",
    "        for X, y in read_iter(batch_size, features, labels):\n",
    "            l = squared_loss(linreg(X,w,b), y)\n",
    "            l.sum().backward()\n",
    "\n",
    "            print(w.grad, b.grad)\n",
    "\n",
    "            sgd([w,b], lr, batch_size)\n",
    "\n",
    "        with torch.no_grad():\n",
    "            train_l = squared_loss(linreg(features, w, b), labels)\n",
    "            print(\"Loss for current epoch \", epoch, \":\", train_l.mean())\n",
    "\n",
    "except Exception as e:\n",
    "    print(e)\n",
    "        \n",
    "        "
   ]
  },
  {
   "cell_type": "code",
   "execution_count": 20,
   "id": "nominated-minnesota",
   "metadata": {},
   "outputs": [],
   "source": [
    "#2 \n",
    "\n",
    "# lets first get the values\n",
    "\n",
    "def ohmic_values(n, r = torch.tensor([5.])):\n",
    "    # V = IR\n",
    "    \n",
    "    I = torch.normal(0, 1,(n,len(r)))\n",
    "    \n",
    "    V= torch.matmul(I, r)\n",
    "    \n",
    "    return I, V\n",
    "    \n",
    "    "
   ]
  },
  {
   "cell_type": "code",
   "execution_count": 21,
   "id": "religious-durham",
   "metadata": {},
   "outputs": [],
   "source": [
    "features, labels = ohmic_values(n=1000)"
   ]
  },
  {
   "cell_type": "code",
   "execution_count": 22,
   "id": "cleared-soccer",
   "metadata": {},
   "outputs": [
    {
     "data": {
      "text/plain": [
       "(torch.Tensor, torch.Tensor)"
      ]
     },
     "execution_count": 22,
     "metadata": {},
     "output_type": "execute_result"
    }
   ],
   "source": [
    "type(features), type(labels)"
   ]
  },
  {
   "cell_type": "code",
   "execution_count": 23,
   "id": "intimate-seventh",
   "metadata": {},
   "outputs": [
    {
     "data": {
      "text/plain": [
       "[<matplotlib.lines.Line2D at 0x257ab4dacd0>]"
      ]
     },
     "execution_count": 23,
     "metadata": {},
     "output_type": "execute_result"
    },
    {
     "data": {
      "image/png": "[encoded data removed]",
      "text/plain": [
       "<Figure size 432x288 with 1 Axes>"
      ]
     },
     "metadata": {
      "needs_background": "light"
     },
     "output_type": "display_data"
    }
   ],
   "source": [
    "plt.plot(features.detach(), labels.detach(), \"bo\")"
   ]
  },
  {
   "cell_type": "code",
   "execution_count": 24,
   "id": "smoking-wrist",
   "metadata": {},
   "outputs": [],
   "source": [
    "# initialising w and b\n",
    "\n",
    "w =  torch.tensor([2.], requires_grad=True)\n",
    "b = torch.tensor([1.], requires_grad=True)"
   ]
  },
  {
   "cell_type": "code",
   "execution_count": 25,
   "id": "sharp-nudist",
   "metadata": {},
   "outputs": [
    {
     "data": {
      "text/plain": [
       "(torch.Size([1000, 1]), torch.Size([1]))"
      ]
     },
     "execution_count": 25,
     "metadata": {},
     "output_type": "execute_result"
    }
   ],
   "source": [
    "features.shape, w.shape"
   ]
  },
  {
   "cell_type": "code",
   "execution_count": 26,
   "id": "advised-deposit",
   "metadata": {},
   "outputs": [
    {
     "data": {
      "text/plain": [
       "tensor([ 2.1420, -1.1170, -0.3566,  5.0606,  0.7062], grad_fn=<SliceBackward>)"
      ]
     },
     "execution_count": 26,
     "metadata": {},
     "output_type": "execute_result"
    }
   ],
   "source": [
    "# now lets get the model \n",
    "\n",
    "def linreg_ohm(X, w, b):\n",
    "    return torch.matmul(X,w) + b\n",
    "\n",
    "linreg_ohm(features, w, b)[:5]\n",
    "    "
   ]
  },
  {
   "cell_type": "code",
   "execution_count": 27,
   "id": "stylish-wealth",
   "metadata": {},
   "outputs": [],
   "source": [
    "def training_loop(num_epochs=3, loss=squared_loss, sgd=sgd, data_iter=read_iter, net=linreg, lr=lr, batch_size=batch_size, w=w, b=b, features=features, display=True, labels=labels):\n",
    "    for epoch in range(num_epochs):\n",
    "        for X, y in data_iter(batch_size,features, labels):\n",
    "            l = loss(net(X,w,b), y)\n",
    "            \n",
    "            l.sum().backward()\n",
    "            \n",
    "            sgd([w,b], lr, batch_size)\n",
    "        \n",
    "        if(display):\n",
    "            with torch.no_grad():\n",
    "                train_l = loss(net(features, w, b), labels)\n",
    "            \n",
    "                print(f\"for epoch: {epoch}, the loss: {train_l.mean()}\")\n",
    "            \n",
    "        "
   ]
  },
  {
   "cell_type": "code",
   "execution_count": 28,
   "id": "based-working",
   "metadata": {},
   "outputs": [
    {
     "data": {
      "text/plain": [
       "[<matplotlib.lines.Line2D at 0x257ab35e820>]"
      ]
     },
     "execution_count": 28,
     "metadata": {},
     "output_type": "execute_result"
    },
    {
     "data": {
      "image/png": "[encoded data removed]",
      "text/plain": [
       "<Figure size 432x288 with 1 Axes>"
      ]
     },
     "metadata": {
      "needs_background": "light"
     },
     "output_type": "display_data"
    }
   ],
   "source": [
    "plt.plot(features.detach(), linreg_ohm(features, w, b).detach(), \"go\")"
   ]
  },
  {
   "cell_type": "code",
   "execution_count": 29,
   "id": "fatal-pavilion",
   "metadata": {},
   "outputs": [
    {
     "name": "stdout",
     "output_type": "stream",
     "text": [
      "for epoch: 0, the loss: 0.709113359451294\n",
      "for epoch: 1, the loss: 0.09603991359472275\n",
      "for epoch: 2, the loss: 0.01300217304378748\n"
     ]
    }
   ],
   "source": [
    "training_loop(net=linreg_ohm )"
   ]
  },
  {
   "cell_type": "code",
   "execution_count": 30,
   "id": "worth-surrey",
   "metadata": {},
   "outputs": [
    {
     "data": {
      "text/plain": [
       "(tensor([4.8536], requires_grad=True), tensor([0.0584], requires_grad=True))"
      ]
     },
     "execution_count": 30,
     "metadata": {},
     "output_type": "execute_result"
    }
   ],
   "source": [
    "w, b"
   ]
  },
  {
   "cell_type": "code",
   "execution_count": 31,
   "id": "casual-metallic",
   "metadata": {},
   "outputs": [
    {
     "name": "stdout",
     "output_type": "stream",
     "text": [
      "for epoch: 0, the loss: 0.0017656516283750534\n",
      "for epoch: 1, the loss: 0.00023989191686268896\n",
      "for epoch: 2, the loss: 3.2662592275300995e-05\n",
      "for epoch: 3, the loss: 4.458317107491894e-06\n"
     ]
    }
   ],
   "source": [
    "training_loop(net=linreg_ohm, num_epochs=4)"
   ]
  },
  {
   "cell_type": "code",
   "execution_count": 32,
   "id": "engaging-occupation",
   "metadata": {},
   "outputs": [
    {
     "data": {
      "text/plain": [
       "(tensor([4.9974], requires_grad=True), tensor([0.0013], requires_grad=True))"
      ]
     },
     "execution_count": 32,
     "metadata": {},
     "output_type": "execute_result"
    }
   ],
   "source": [
    "w, b"
   ]
  },
  {
   "cell_type": "code",
   "execution_count": 33,
   "id": "interstate-chemistry",
   "metadata": {},
   "outputs": [
    {
     "data": {
      "text/plain": [
       "[<matplotlib.lines.Line2D at 0x257b15d08b0>]"
      ]
     },
     "execution_count": 33,
     "metadata": {},
     "output_type": "execute_result"
    },
    {
     "data": {
      "image/png": "[encoded data removed]",
      "text/plain": [
       "<Figure size 432x288 with 1 Axes>"
      ]
     },
     "metadata": {
      "needs_background": "light"
     },
     "output_type": "display_data"
    }
   ],
   "source": [
    "plt.plot(features.detach(), linreg_ohm(features, w, b).detach(), \"go\")"
   ]
  },
  {
   "cell_type": "markdown",
   "id": "changed-pierre",
   "metadata": {},
   "source": [
    "#3\n",
    "\n",
    "formula for spectral density:\n",
    "\n",
    "![](spectral_density.png)"
   ]
  },
  {
   "cell_type": "code",
   "execution_count": 34,
   "id": "homeless-comfort",
   "metadata": {},
   "outputs": [],
   "source": [
    "def spectral_density_formula(t, l=1):\n",
    "    # lets put l =1\n",
    "    h = 6.626 * (10 ** -34)\n",
    "    c = 3 * (10 ** 8)\n",
    "    l = l\n",
    "    k = 1.38064852 * (10 ** -23)\n",
    "    p =  (2 * h * (c**2))/(l ** 5)\n",
    "    d = (h * c/(l * k * t))\n",
    "    \n",
    "    return p/(np.exp(d)-1)"
   ]
  },
  {
   "cell_type": "code",
   "execution_count": 35,
   "id": "extended-combining",
   "metadata": {},
   "outputs": [
    {
     "data": {
      "text/plain": [
       "8.2832947943081e-13"
      ]
     },
     "execution_count": 35,
     "metadata": {},
     "output_type": "execute_result"
    }
   ],
   "source": [
    "spectral_density_formula(100)"
   ]
  },
  {
   "cell_type": "code",
   "execution_count": 36,
   "id": "subject-evans",
   "metadata": {},
   "outputs": [],
   "source": [
    "w =  torch.tensor([10.], requires_grad=True)\n",
    "b = torch.tensor([1.], requires_grad=True)"
   ]
  },
  {
   "cell_type": "code",
   "execution_count": 37,
   "id": "immediate-class",
   "metadata": {},
   "outputs": [],
   "source": [
    "def make_dataset(n=100):\n",
    "    X = torch.arange(100, dtype=torch.float32).unsqueeze(dim=1)\n",
    "    print(X.shape)\n",
    "    y = []\n",
    "    for i in X.detach():\n",
    "        y.append(spectral_density_formula(i))\n",
    "    \n",
    "    return X, torch.tensor(y)"
   ]
  },
  {
   "cell_type": "code",
   "execution_count": 38,
   "id": "engaged-parts",
   "metadata": {},
   "outputs": [
    {
     "name": "stdout",
     "output_type": "stream",
     "text": [
      "torch.Size([100, 1])\n"
     ]
    }
   ],
   "source": [
    "features, labels = make_dataset()"
   ]
  },
  {
   "cell_type": "code",
   "execution_count": 39,
   "id": "forty-exhaust",
   "metadata": {
    "scrolled": false
   },
   "outputs": [
    {
     "data": {
      "text/plain": [
       "(tensor([[0.],\n",
       "         [1.],\n",
       "         [2.],\n",
       "         [3.],\n",
       "         [4.],\n",
       "         [5.],\n",
       "         [6.],\n",
       "         [7.],\n",
       "         [8.],\n",
       "         [9.]]),\n",
       " tensor([0.0000e+00, 8.2244e-15, 1.6508e-14, 2.4792e-14, 3.3076e-14, 4.1360e-14,\n",
       "         4.9645e-14, 5.7929e-14, 6.6210e-14, 7.4497e-14]))"
      ]
     },
     "execution_count": 39,
     "metadata": {},
     "output_type": "execute_result"
    }
   ],
   "source": [
    "features[:10], labels[:10]\n",
    "\n",
    "# maybe noramlisation would be a problem here"
   ]
  },
  {
   "cell_type": "code",
   "execution_count": 40,
   "id": "fundamental-seafood",
   "metadata": {},
   "outputs": [
    {
     "data": {
      "text/plain": [
       "[<matplotlib.lines.Line2D at 0x257b16354f0>]"
      ]
     },
     "execution_count": 40,
     "metadata": {},
     "output_type": "execute_result"
    },
    {
     "data": {
      "image/png": "[encoded data removed]",
      "text/plain": [
       "<Figure size 432x288 with 1 Axes>"
      ]
     },
     "metadata": {
      "needs_background": "light"
     },
     "output_type": "display_data"
    }
   ],
   "source": [
    "plt.plot(features, labels, \"bo\")"
   ]
  },
  {
   "cell_type": "code",
   "execution_count": 41,
   "id": "victorian-passenger",
   "metadata": {},
   "outputs": [
    {
     "data": {
      "text/plain": [
       "(tensor([10.], requires_grad=True), tensor([1.], requires_grad=True))"
      ]
     },
     "execution_count": 41,
     "metadata": {},
     "output_type": "execute_result"
    }
   ],
   "source": [
    "w, b"
   ]
  },
  {
   "cell_type": "code",
   "execution_count": 42,
   "id": "utility-productivity",
   "metadata": {},
   "outputs": [
    {
     "data": {
      "text/plain": [
       "[<matplotlib.lines.Line2D at 0x257b1684970>]"
      ]
     },
     "execution_count": 42,
     "metadata": {},
     "output_type": "execute_result"
    },
    {
     "data": {
      "image/png": "[encoded data removed]",
      "text/plain": [
       "<Figure size 432x288 with 1 Axes>"
      ]
     },
     "metadata": {
      "needs_background": "light"
     },
     "output_type": "display_data"
    }
   ],
   "source": [
    "plt.plot(features.detach(), linreg(features,w, b).detach(), 'yo')"
   ]
  },
  {
   "cell_type": "code",
   "execution_count": 43,
   "id": "periodic-breakfast",
   "metadata": {},
   "outputs": [
    {
     "name": "stdout",
     "output_type": "stream",
     "text": [
      "\n",
      "For learning rate 1e-05\n",
      "for epoch: 0, the loss: 4.45768955614767e-06\n",
      "for epoch: 1, the loss: 4.457195245777257e-06\n",
      "for epoch: 2, the loss: 4.4565676944330335e-06\n",
      "for epoch: 3, the loss: 4.456256192497676e-06\n",
      "for epoch: 4, the loss: 4.455689122551121e-06\n",
      "for epoch: 5, the loss: 4.455135240277741e-06\n",
      "for epoch: 6, the loss: 4.454559075384168e-06\n",
      "for epoch: 7, the loss: 4.453937890502857e-06\n",
      "for epoch: 8, the loss: 4.453444489627145e-06\n",
      "for epoch: 9, the loss: 4.452819666767027e-06\n",
      "\n",
      "For learning rate 0.0001\n",
      "for epoch: 0, the loss: 4.421431640366791e-06\n",
      "for epoch: 1, the loss: 4.3899108277400956e-06\n",
      "for epoch: 2, the loss: 4.356116278358968e-06\n",
      "for epoch: 3, the loss: 4.327397618908435e-06\n",
      "for epoch: 4, the loss: 4.2978090277756564e-06\n",
      "for epoch: 5, the loss: 4.264185918145813e-06\n",
      "for epoch: 6, the loss: 4.2335195757914335e-06\n",
      "for epoch: 7, the loss: 4.20419019064866e-06\n",
      "for epoch: 8, the loss: 4.1735515878826845e-06\n",
      "for epoch: 9, the loss: 4.141968474868918e-06\n",
      "\n",
      "For learning rate 0.001\n",
      "for epoch: 0, the loss: 3.880367785313865e-06\n",
      "for epoch: 1, the loss: 3.6359620025905315e-06\n",
      "for epoch: 2, the loss: 3.4088639040419366e-06\n",
      "for epoch: 3, the loss: 3.193489192199195e-06\n",
      "for epoch: 4, the loss: 2.9929242373327725e-06\n",
      "for epoch: 5, the loss: 2.803100187520613e-06\n",
      "for epoch: 6, the loss: 2.629494701977819e-06\n",
      "for epoch: 7, the loss: 2.464365707055549e-06\n",
      "for epoch: 8, the loss: 2.309306182723958e-06\n",
      "for epoch: 9, the loss: 2.1619700873998227e-06\n",
      "\n",
      "For learning rate 0.1\n",
      "for epoch: 0, the loss: 2.1477910561173985e-09\n",
      "for epoch: 1, the loss: 3.863542298587763e-12\n",
      "for epoch: 2, the loss: 5.058866194875e-13\n",
      "for epoch: 3, the loss: 5.05427080396692e-13\n",
      "for epoch: 4, the loss: 5.040672198218521e-13\n",
      "for epoch: 5, the loss: 5.040943248761642e-13\n",
      "for epoch: 6, the loss: 5.040940538256211e-13\n",
      "for epoch: 7, the loss: 5.040948669772505e-13\n",
      "for epoch: 8, the loss: 5.040865186205223e-13\n",
      "for epoch: 9, the loss: 5.042889391661254e-13\n"
     ]
    }
   ],
   "source": [
    "for lr in [0.00001, 0.0001, 0.001, 0.1]:\n",
    "    print(f\"\\nFor learning rate {lr}\")\n",
    "    training_loop(num_epochs=10, lr = lr)"
   ]
  },
  {
   "cell_type": "code",
   "execution_count": 44,
   "id": "velvet-cradle",
   "metadata": {},
   "outputs": [
    {
     "data": {
      "text/plain": [
       "[<matplotlib.lines.Line2D at 0x257b16e53a0>]"
      ]
     },
     "execution_count": 44,
     "metadata": {},
     "output_type": "execute_result"
    },
    {
     "data": {
      "image/png": "[encoded data removed]",
      "text/plain": [
       "<Figure size 432x288 with 1 Axes>"
      ]
     },
     "metadata": {
      "needs_background": "light"
     },
     "output_type": "display_data"
    }
   ],
   "source": [
    "plt.plot(features.detach(), linreg(features,w, b).detach(), 'yo')"
   ]
  },
  {
   "cell_type": "code",
   "execution_count": 45,
   "id": "norwegian-polls",
   "metadata": {},
   "outputs": [
    {
     "data": {
      "text/plain": [
       "(tensor([10.], requires_grad=True), tensor([1.], requires_grad=True))"
      ]
     },
     "execution_count": 45,
     "metadata": {},
     "output_type": "execute_result"
    }
   ],
   "source": [
    "w, b"
   ]
  },
  {
   "cell_type": "markdown",
   "id": "reasonable-wireless",
   "metadata": {},
   "source": [
    "# Concise way to build linear networks"
   ]
  },
  {
   "cell_type": "code",
   "execution_count": 46,
   "id": "proper-chart",
   "metadata": {},
   "outputs": [],
   "source": [
    "true_weight= torch.tensor([2, -3.4])\n",
    "true_bias = 4.2"
   ]
  },
  {
   "cell_type": "code",
   "execution_count": 47,
   "id": "blond-polls",
   "metadata": {},
   "outputs": [],
   "source": [
    "def make_dataset(size=1000, true_weight=torch.tensor([2, -3.4]), true_bias=4.2):\n",
    "    X = torch.normal(0,1, (size, len(true_weight)))\n",
    "    y = torch.matmul(X,true_weight) + true_bias\n",
    "    # now we add for noise, mean =0, standard deviation = 0.1\n",
    "    y += torch.normal(0,0.1, y.shape)\n",
    "    return X, y.reshape(-1,1) # this work same as unsqueeze\n",
    "features, labels = make_dataset(true_weight=true_weight, true_bias=4.2)"
   ]
  },
  {
   "cell_type": "code",
   "execution_count": 48,
   "id": "proprietary-movement",
   "metadata": {},
   "outputs": [],
   "source": [
    "from torch.utils import data\n",
    "batch_size=32"
   ]
  },
  {
   "cell_type": "code",
   "execution_count": 49,
   "id": "crazy-french",
   "metadata": {},
   "outputs": [],
   "source": [
    "# reading the dataset\n",
    "\n",
    "def read_dataset(data_arrays):\n",
    "    dataset = data.TensorDataset(*data_arrays)\n",
    "    return data.DataLoader(dataset=dataset, shuffle=True, batch_size=batch_size)"
   ]
  },
  {
   "cell_type": "code",
   "execution_count": 50,
   "id": "charged-justice",
   "metadata": {},
   "outputs": [],
   "source": [
    "train_dataloader = read_dataset((features, labels))"
   ]
  },
  {
   "cell_type": "code",
   "execution_count": 51,
   "id": "distinguished-review",
   "metadata": {},
   "outputs": [
    {
     "name": "stdout",
     "output_type": "stream",
     "text": [
      "tensor([[ 1.4435, -0.4532],\n",
      "        [-1.3487, -0.1699],\n",
      "        [ 0.4914,  0.3991],\n",
      "        [-0.2511,  0.0908],\n",
      "        [-1.6312,  0.7284]]) tensor([[ 8.5408],\n",
      "        [ 2.0157],\n",
      "        [ 3.9867],\n",
      "        [ 3.6202],\n",
      "        [-1.4610]])\n"
     ]
    }
   ],
   "source": [
    "for X, y in train_dataloader:\n",
    "    print(X[:5], y[:5])\n",
    "    break"
   ]
  },
  {
   "cell_type": "code",
   "execution_count": 52,
   "id": "employed-coordinator",
   "metadata": {},
   "outputs": [],
   "source": [
    "from torch import nn\n",
    "\n",
    "net = nn.Sequential(nn.Linear(2,1))"
   ]
  },
  {
   "cell_type": "code",
   "execution_count": 53,
   "id": "legendary-dividend",
   "metadata": {},
   "outputs": [
    {
     "data": {
      "text/plain": [
       "Sequential(\n",
       "  (0): Linear(in_features=2, out_features=1, bias=True)\n",
       ")"
      ]
     },
     "execution_count": 53,
     "metadata": {},
     "output_type": "execute_result"
    }
   ],
   "source": [
    "net"
   ]
  },
  {
   "cell_type": "code",
   "execution_count": 54,
   "id": "korean-weather",
   "metadata": {},
   "outputs": [
    {
     "data": {
      "text/plain": [
       "tensor([0.])"
      ]
     },
     "execution_count": 54,
     "metadata": {},
     "output_type": "execute_result"
    }
   ],
   "source": [
    "net[0].weight.data.normal_(0,0.1)\n",
    "net[0].bias.data.fill_(0)"
   ]
  },
  {
   "cell_type": "code",
   "execution_count": 55,
   "id": "dramatic-funeral",
   "metadata": {},
   "outputs": [
    {
     "data": {
      "text/plain": [
       "(Parameter containing:\n",
       " tensor([[-0.1904,  0.1160]], requires_grad=True),\n",
       " Parameter containing:\n",
       " tensor([0.], requires_grad=True))"
      ]
     },
     "execution_count": 55,
     "metadata": {},
     "output_type": "execute_result"
    }
   ],
   "source": [
    "net[0].weight, net[0].bias"
   ]
  },
  {
   "cell_type": "code",
   "execution_count": 56,
   "id": "seasonal-directory",
   "metadata": {},
   "outputs": [],
   "source": [
    "loss = nn.MSELoss(reduction='sum')"
   ]
  },
  {
   "cell_type": "code",
   "execution_count": 57,
   "id": "exempt-cement",
   "metadata": {},
   "outputs": [],
   "source": [
    "trainer = torch.optim.SGD(net.parameters(), lr=0.03)"
   ]
  },
  {
   "cell_type": "code",
   "execution_count": 58,
   "id": "african-brief",
   "metadata": {},
   "outputs": [
    {
     "name": "stdout",
     "output_type": "stream",
     "text": [
      "for epoch 0, loss : 27.84557342529297\n",
      "for epoch 1, loss : 10.681341171264648\n",
      "for epoch 2, loss : 22.750896453857422\n"
     ]
    }
   ],
   "source": [
    "for epoch in range(3):\n",
    "    for X, y in train_dataloader:\n",
    "        l = loss(net(X), y)\n",
    "        trainer.zero_grad()\n",
    "        l.backward()\n",
    "        trainer.step()\n",
    "    \n",
    "    l = loss(net(features), labels)\n",
    "    print(f'for epoch {epoch}, loss : {l}')"
   ]
  },
  {
   "cell_type": "code",
   "execution_count": 59,
   "id": "weird-deployment",
   "metadata": {},
   "outputs": [
    {
     "data": {
      "text/plain": [
       "(Parameter containing:\n",
       " tensor([[ 1.9952, -3.4191]], requires_grad=True),\n",
       " Parameter containing:\n",
       " tensor([4.3091], requires_grad=True))"
      ]
     },
     "execution_count": 59,
     "metadata": {},
     "output_type": "execute_result"
    }
   ],
   "source": [
    "net[0].weight, net[0].bias"
   ]
  },
  {
   "cell_type": "code",
   "execution_count": 65,
   "id": "intimate-confidence",
   "metadata": {},
   "outputs": [
    {
     "data": {
      "text/plain": [
       "[<matplotlib.lines.Line2D at 0x257b1ad48e0>,\n",
       " <matplotlib.lines.Line2D at 0x257b1ad4970>]"
      ]
     },
     "execution_count": 65,
     "metadata": {},
     "output_type": "execute_result"
    },
    {
     "data": {
      "image/png": "[encoded data removed]",
      "text/plain": [
       "<Figure size 432x288 with 1 Axes>"
      ]
     },
     "metadata": {
      "needs_background": "light"
     },
     "output_type": "display_data"
    }
   ],
   "source": [
    "plt.plot(features.detach(), net(features).detach(), 'o')"
   ]
  },
  {
   "cell_type": "markdown",
   "id": "virgin-subject",
   "metadata": {},
   "source": [
    "### Exercises\n",
    "1. If we replace nn.MSELoss(reduction='sum') with nn.MSELoss(), how can we change the\n",
    "learning rate for the code to behave identically. Why?\n",
    "2. Review the PyTorch documentation to see what loss functions and initialization methods are\n",
    "provided. Replace the loss by Huberʼs loss.\n",
    "3. How do you access the gradient of net[0].weight?"
   ]
  },
  {
   "cell_type": "code",
   "execution_count": 60,
   "id": "competent-central",
   "metadata": {},
   "outputs": [
    {
     "data": {
      "text/plain": [
       "tensor([[-0.8798,  0.5154]])"
      ]
     },
     "execution_count": 60,
     "metadata": {},
     "output_type": "execute_result"
    }
   ],
   "source": [
    "# 3\n",
    "net[0].weight.grad"
   ]
  },
  {
   "cell_type": "code",
   "execution_count": null,
   "id": "racial-jacksonville",
   "metadata": {},
   "outputs": [],
   "source": [
    "# 2\n",
    "\n",
    "loss = torrch.nn.SmoothL1Loss"
   ]
  }
 ],
 "metadata": {
  "kernelspec": {
   "display_name": "Python 3",
   "language": "python",
   "name": "python3"
  },
  "language_info": {
   "codemirror_mode": {
    "name": "ipython",
    "version": 3
   },
   "file_extension": ".py",
   "mimetype": "text/x-python",
   "name": "python",
   "nbconvert_exporter": "python",
   "pygments_lexer": "ipython3",
   "version": "3.9.5"
  }
 },
 "nbformat": 4,
 "nbformat_minor": 5
}
