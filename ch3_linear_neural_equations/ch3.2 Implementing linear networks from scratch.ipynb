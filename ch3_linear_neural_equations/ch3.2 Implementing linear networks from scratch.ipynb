{
 "cells": [
  {
   "cell_type": "code",
   "execution_count": 1,
   "id": "responsible-financing",
   "metadata": {},
   "outputs": [],
   "source": [
    "import torch\n",
    "import random\n",
    "import matplotlib.pyplot as plt"
   ]
  },
  {
   "cell_type": "code",
   "execution_count": 2,
   "id": "neural-scotland",
   "metadata": {},
   "outputs": [
    {
     "data": {
      "text/plain": [
       "(tensor([[-0.9056,  0.8687],\n",
       "         [ 0.3836, -0.6133],\n",
       "         [ 1.4738,  0.0612],\n",
       "         [ 0.8594,  1.0436],\n",
       "         [-0.5257, -0.9729],\n",
       "         [-0.5781,  0.3535],\n",
       "         [ 0.3665, -1.1350],\n",
       "         [-0.7327,  0.1751],\n",
       "         [ 0.5437, -0.1512],\n",
       "         [ 0.2640,  1.8319]]),\n",
       " tensor([[-0.0535,  0.0095],\n",
       "         [ 0.0986, -0.0360],\n",
       "         [-0.0628, -0.1194],\n",
       "         [-0.1083,  0.0108],\n",
       "         [ 0.1554,  0.0275],\n",
       "         [-0.0918, -0.0121],\n",
       "         [-0.0137, -0.0529],\n",
       "         [ 0.0449,  0.1215],\n",
       "         [ 0.1300,  0.0652],\n",
       "         [-0.0457,  0.0728]]))"
      ]
     },
     "execution_count": 2,
     "metadata": {},
     "output_type": "execute_result"
    }
   ],
   "source": [
    "torch.normal(0,1,(10,2)), torch.normal(0,0.1,(10,2))"
   ]
  },
  {
   "cell_type": "code",
   "execution_count": 3,
   "id": "hourly-scanner",
   "metadata": {},
   "outputs": [],
   "source": [
    "# generating synthetic dataset\n",
    "\n",
    "import numpy as np\n",
    "\n",
    "def make_dataset(size=1000, true_weight=torch.tensor([2, -3.4]), true_bias=4.2):\n",
    "    X = torch.normal(0,1, (size, len(true_weight)))\n",
    "    y = torch.matmul(X,true_weight) + true_bias\n",
    "    # now we add for noise, mean =0, standard deviation = 0.1\n",
    "    y += torch.normal(0,0.1, y.shape)\n",
    "    return X, y.reshape(-1,1) # this work same as unsqueeze"
   ]
  },
  {
   "cell_type": "code",
   "execution_count": 4,
   "id": "chubby-difficulty",
   "metadata": {},
   "outputs": [],
   "source": [
    "features, labels = make_dataset()"
   ]
  },
  {
   "cell_type": "code",
   "execution_count": 5,
   "id": "confirmed-horizontal",
   "metadata": {},
   "outputs": [
    {
     "data": {
      "text/plain": [
       "(tensor([ 0.2473, -0.2179]), tensor([5.3722]))"
      ]
     },
     "execution_count": 5,
     "metadata": {},
     "output_type": "execute_result"
    }
   ],
   "source": [
    "features[0], labels[0]"
   ]
  },
  {
   "cell_type": "code",
   "execution_count": 6,
   "id": "placed-identity",
   "metadata": {},
   "outputs": [
    {
     "data": {
      "text/plain": [
       "[<matplotlib.lines.Line2D at 0x27461ea2e20>,\n",
       " <matplotlib.lines.Line2D at 0x27461ea2eb0>]"
      ]
     },
     "execution_count": 6,
     "metadata": {},
     "output_type": "execute_result"
    },
    {
     "data": {
      "image/png": "[encoded data removed]",
      "text/plain": [
       "<Figure size 432x288 with 1 Axes>"
      ]
     },
     "metadata": {
      "needs_background": "light"
     },
     "output_type": "display_data"
    }
   ],
   "source": [
    "plt.plot(features.detach(),labels.detach(),'o')"
   ]
  },
  {
   "cell_type": "code",
   "execution_count": 7,
   "id": "linear-priority",
   "metadata": {},
   "outputs": [],
   "source": [
    "# reading the dataset, and giving based on batch size\n",
    "\n",
    "def read_iter(batch_size, features, labels):\n",
    "    indices = list(range(len(features)))\n",
    "    random.shuffle(indices)\n",
    "    new_features = features[indices]\n",
    "    new_labels = labels[indices]\n",
    "    \n",
    "#     print(new_features[:5], features[:5])\n",
    "    for i in range(0,len(features), batch_size):\n",
    "        yield new_features[i:min(i+batch_size, len(features))], new_labels[i:min(i+batch_size, len(features))]\n",
    "        "
   ]
  },
  {
   "cell_type": "code",
   "execution_count": 8,
   "id": "through-atlanta",
   "metadata": {},
   "outputs": [],
   "source": [
    "train_dataloader= read_iter(32, features, labels)"
   ]
  },
  {
   "cell_type": "code",
   "execution_count": 9,
   "id": "colonial-stanley",
   "metadata": {},
   "outputs": [
    {
     "name": "stdout",
     "output_type": "stream",
     "text": [
      "tensor([[-1.9825, -0.5932],\n",
      "        [ 0.2807, -1.4309],\n",
      "        [ 1.1099,  0.5070],\n",
      "        [-2.4576, -0.5628],\n",
      "        [ 1.5967,  1.4711],\n",
      "        [ 1.1042,  1.3973],\n",
      "        [ 0.8297,  0.1065],\n",
      "        [ 0.8073, -0.4232],\n",
      "        [ 1.6603,  0.5210],\n",
      "        [ 2.0255, -1.0387],\n",
      "        [ 0.4897, -0.0131],\n",
      "        [ 0.2289,  0.2474],\n",
      "        [-1.1209,  1.7106],\n",
      "        [-1.7679,  0.1346],\n",
      "        [-0.7203,  0.2567],\n",
      "        [ 0.6552,  0.4565],\n",
      "        [-0.9368, -1.5669],\n",
      "        [ 0.3844,  0.4166],\n",
      "        [ 0.2013, -0.0516],\n",
      "        [ 1.8502, -0.4614],\n",
      "        [ 0.4938, -1.3363],\n",
      "        [ 1.1231,  0.9925],\n",
      "        [ 0.6538, -0.3626],\n",
      "        [ 1.0349,  1.5367],\n",
      "        [-0.4958,  2.5972],\n",
      "        [ 1.4997,  0.8306],\n",
      "        [ 0.3014, -0.0577],\n",
      "        [ 0.6919,  0.5164],\n",
      "        [-0.6636,  0.8898],\n",
      "        [ 1.7149, -1.1485],\n",
      "        [ 0.3645, -1.2133],\n",
      "        [-1.1790,  1.6965]]) tensor([[ 2.2348e+00],\n",
      "        [ 9.5593e+00],\n",
      "        [ 4.8342e+00],\n",
      "        [ 1.1740e+00],\n",
      "        [ 2.4415e+00],\n",
      "        [ 1.5777e+00],\n",
      "        [ 5.3118e+00],\n",
      "        [ 7.1714e+00],\n",
      "        [ 5.5933e+00],\n",
      "        [ 1.1694e+01],\n",
      "        [ 5.1732e+00],\n",
      "        [ 3.9417e+00],\n",
      "        [-3.9240e+00],\n",
      "        [-1.3760e-03],\n",
      "        [ 1.8822e+00],\n",
      "        [ 3.9284e+00],\n",
      "        [ 7.5334e+00],\n",
      "        [ 3.5487e+00],\n",
      "        [ 4.5828e+00],\n",
      "        [ 9.4548e+00],\n",
      "        [ 9.9234e+00],\n",
      "        [ 3.0074e+00],\n",
      "        [ 6.8440e+00],\n",
      "        [ 1.0691e+00],\n",
      "        [-5.7772e+00],\n",
      "        [ 4.3429e+00],\n",
      "        [ 4.9133e+00],\n",
      "        [ 3.9873e+00],\n",
      "        [-2.4651e-01],\n",
      "        [ 1.1698e+01],\n",
      "        [ 8.8515e+00],\n",
      "        [-3.9247e+00]])\n"
     ]
    }
   ],
   "source": [
    "for data, label in train_dataloader:\n",
    "    print(data, label)\n",
    "    break"
   ]
  },
  {
   "cell_type": "code",
   "execution_count": 10,
   "id": "negative-houston",
   "metadata": {},
   "outputs": [],
   "source": [
    "# we before training would initialize the model\n",
    "w = torch.normal(0,0.1, (2,1), requires_grad = True)\n",
    "b = torch.zeros(1,requires_grad=True)"
   ]
  },
  {
   "cell_type": "code",
   "execution_count": 11,
   "id": "dedicated-harassment",
   "metadata": {},
   "outputs": [],
   "source": [
    "# define the model\n",
    "\n",
    "def linreg(X,w,b):\n",
    "    return torch.matmul(X, w) + b\n",
    "    "
   ]
  },
  {
   "cell_type": "code",
   "execution_count": 12,
   "id": "incomplete-category",
   "metadata": {},
   "outputs": [],
   "source": [
    "#loss function\n",
    "\n",
    "def squared_loss(y_hat, y):\n",
    "#      print(y_hat.shape, y.shape)\n",
    "    return (y_hat - y.reshape(y_hat.shape))**2 / 2"
   ]
  },
  {
   "cell_type": "code",
   "execution_count": 13,
   "id": "brief-agenda",
   "metadata": {},
   "outputs": [],
   "source": [
    "def sgd(params, lr, batch_size):  #@save\n",
    "    \"\"\"Minibatch stochastic gradient descent.\"\"\"\n",
    "    with torch.no_grad():\n",
    "        for param in params:\n",
    "            param -= lr * param.grad / batch_size\n",
    "            param.grad.zero_()"
   ]
  },
  {
   "cell_type": "code",
   "execution_count": 14,
   "id": "forward-bubble",
   "metadata": {},
   "outputs": [],
   "source": [
    "lr = 0.03\n",
    "num_epochs =100\n",
    "batch_size=32\n",
    "   "
   ]
  },
  {
   "cell_type": "code",
   "execution_count": 15,
   "id": "similar-terrorist",
   "metadata": {},
   "outputs": [
    {
     "name": "stdout",
     "output_type": "stream",
     "text": [
      "Loss for current epoch  0 : tensor(2.4798)\n",
      "Loss for current epoch  1 : tensor(0.3639)\n",
      "Loss for current epoch  2 : tensor(0.0576)\n",
      "Loss for current epoch  3 : tensor(0.0129)\n",
      "Loss for current epoch  4 : tensor(0.0064)\n",
      "Loss for current epoch  5 : tensor(0.0054)\n",
      "Loss for current epoch  6 : tensor(0.0053)\n",
      "Loss for current epoch  7 : tensor(0.0053)\n",
      "Loss for current epoch  8 : tensor(0.0053)\n",
      "Loss for current epoch  9 : tensor(0.0053)\n",
      "Loss for current epoch  10 : tensor(0.0053)\n",
      "Loss for current epoch  11 : tensor(0.0052)\n",
      "Loss for current epoch  12 : tensor(0.0052)\n",
      "Loss for current epoch  13 : tensor(0.0052)\n",
      "Loss for current epoch  14 : tensor(0.0052)\n",
      "Loss for current epoch  15 : tensor(0.0052)\n",
      "Loss for current epoch  16 : tensor(0.0052)\n",
      "Loss for current epoch  17 : tensor(0.0052)\n",
      "Loss for current epoch  18 : tensor(0.0053)\n",
      "Loss for current epoch  19 : tensor(0.0052)\n",
      "Loss for current epoch  20 : tensor(0.0052)\n",
      "Loss for current epoch  21 : tensor(0.0052)\n",
      "Loss for current epoch  22 : tensor(0.0052)\n",
      "Loss for current epoch  23 : tensor(0.0052)\n",
      "Loss for current epoch  24 : tensor(0.0052)\n",
      "Loss for current epoch  25 : tensor(0.0052)\n",
      "Loss for current epoch  26 : tensor(0.0052)\n",
      "Loss for current epoch  27 : tensor(0.0052)\n",
      "Loss for current epoch  28 : tensor(0.0053)\n",
      "Loss for current epoch  29 : tensor(0.0053)\n",
      "Loss for current epoch  30 : tensor(0.0053)\n",
      "Loss for current epoch  31 : tensor(0.0053)\n",
      "Loss for current epoch  32 : tensor(0.0053)\n",
      "Loss for current epoch  33 : tensor(0.0053)\n",
      "Loss for current epoch  34 : tensor(0.0052)\n",
      "Loss for current epoch  35 : tensor(0.0053)\n",
      "Loss for current epoch  36 : tensor(0.0052)\n",
      "Loss for current epoch  37 : tensor(0.0053)\n",
      "Loss for current epoch  38 : tensor(0.0053)\n",
      "Loss for current epoch  39 : tensor(0.0052)\n",
      "Loss for current epoch  40 : tensor(0.0052)\n",
      "Loss for current epoch  41 : tensor(0.0052)\n",
      "Loss for current epoch  42 : tensor(0.0053)\n",
      "Loss for current epoch  43 : tensor(0.0052)\n",
      "Loss for current epoch  44 : tensor(0.0053)\n",
      "Loss for current epoch  45 : tensor(0.0053)\n",
      "Loss for current epoch  46 : tensor(0.0052)\n",
      "Loss for current epoch  47 : tensor(0.0052)\n",
      "Loss for current epoch  48 : tensor(0.0053)\n",
      "Loss for current epoch  49 : tensor(0.0053)\n",
      "Loss for current epoch  50 : tensor(0.0052)\n",
      "Loss for current epoch  51 : tensor(0.0052)\n",
      "Loss for current epoch  52 : tensor(0.0053)\n",
      "Loss for current epoch  53 : tensor(0.0052)\n",
      "Loss for current epoch  54 : tensor(0.0052)\n",
      "Loss for current epoch  55 : tensor(0.0052)\n",
      "Loss for current epoch  56 : tensor(0.0053)\n",
      "Loss for current epoch  57 : tensor(0.0052)\n",
      "Loss for current epoch  58 : tensor(0.0052)\n",
      "Loss for current epoch  59 : tensor(0.0052)\n",
      "Loss for current epoch  60 : tensor(0.0052)\n",
      "Loss for current epoch  61 : tensor(0.0053)\n",
      "Loss for current epoch  62 : tensor(0.0052)\n",
      "Loss for current epoch  63 : tensor(0.0052)\n",
      "Loss for current epoch  64 : tensor(0.0052)\n",
      "Loss for current epoch  65 : tensor(0.0052)\n",
      "Loss for current epoch  66 : tensor(0.0053)\n",
      "Loss for current epoch  67 : tensor(0.0052)\n",
      "Loss for current epoch  68 : tensor(0.0053)\n",
      "Loss for current epoch  69 : tensor(0.0053)\n",
      "Loss for current epoch  70 : tensor(0.0052)\n",
      "Loss for current epoch  71 : tensor(0.0052)\n",
      "Loss for current epoch  72 : tensor(0.0053)\n",
      "Loss for current epoch  73 : tensor(0.0053)\n",
      "Loss for current epoch  74 : tensor(0.0052)\n",
      "Loss for current epoch  75 : tensor(0.0053)\n",
      "Loss for current epoch  76 : tensor(0.0052)\n",
      "Loss for current epoch  77 : tensor(0.0052)\n",
      "Loss for current epoch  78 : tensor(0.0052)\n",
      "Loss for current epoch  79 : tensor(0.0053)\n",
      "Loss for current epoch  80 : tensor(0.0053)\n",
      "Loss for current epoch  81 : tensor(0.0053)\n",
      "Loss for current epoch  82 : tensor(0.0053)\n",
      "Loss for current epoch  83 : tensor(0.0052)\n",
      "Loss for current epoch  84 : tensor(0.0052)\n",
      "Loss for current epoch  85 : tensor(0.0053)\n",
      "Loss for current epoch  86 : tensor(0.0053)\n",
      "Loss for current epoch  87 : tensor(0.0052)\n",
      "Loss for current epoch  88 : tensor(0.0052)\n",
      "Loss for current epoch  89 : tensor(0.0052)\n",
      "Loss for current epoch  90 : tensor(0.0053)\n",
      "Loss for current epoch  91 : tensor(0.0052)\n",
      "Loss for current epoch  92 : tensor(0.0052)\n",
      "Loss for current epoch  93 : tensor(0.0053)\n",
      "Loss for current epoch  94 : tensor(0.0052)\n",
      "Loss for current epoch  95 : tensor(0.0052)\n",
      "Loss for current epoch  96 : tensor(0.0052)\n",
      "Loss for current epoch  97 : tensor(0.0052)\n",
      "Loss for current epoch  98 : tensor(0.0052)\n",
      "Loss for current epoch  99 : tensor(0.0053)\n"
     ]
    }
   ],
   "source": [
    "# training loop\n",
    "for epoch in range(num_epochs):\n",
    "    train_dataloader= read_iter(batch_size, features, labels)\n",
    "    for X, y in train_dataloader:\n",
    "        l = squared_loss(linreg(X,w,b), y)\n",
    "        l.sum().backward()\n",
    "        sgd([w,b],lr,batch_size)\n",
    "        \n",
    "    \n",
    "    with torch.no_grad():\n",
    "        train_l = squared_loss(linreg(features, w, b), labels)\n",
    "#         print(\"Loss for current epoch \", epoch, \":\", train_l.mean())\n",
    "#         print(\"the value of w: \", w, \" The value of b: \", b)\n",
    "        "
   ]
  },
  {
   "cell_type": "code",
   "execution_count": 16,
   "id": "significant-variance",
   "metadata": {},
   "outputs": [
    {
     "data": {
      "text/plain": [
       "(tensor([[ 1.9973],\n",
       "         [-3.4041]], requires_grad=True),\n",
       " tensor([ 2.0000, -3.4000]))"
      ]
     },
     "execution_count": 16,
     "metadata": {},
     "output_type": "execute_result"
    }
   ],
   "source": [
    "w, torch.tensor([2, -3.4])"
   ]
  },
  {
   "cell_type": "code",
   "execution_count": 17,
   "id": "portuguese-tennessee",
   "metadata": {
    "scrolled": true
   },
   "outputs": [
    {
     "data": {
      "text/plain": [
       "[<matplotlib.lines.Line2D at 0x27462f74910>,\n",
       " <matplotlib.lines.Line2D at 0x27462f74970>]"
      ]
     },
     "execution_count": 17,
     "metadata": {},
     "output_type": "execute_result"
    },
    {
     "data": {
      "image/png": "[encoded data removed]",
      "text/plain": [
       "<Figure size 432x288 with 1 Axes>"
      ]
     },
     "metadata": {
      "needs_background": "light"
     },
     "output_type": "display_data"
    }
   ],
   "source": [
    "plt.plot(features.detach(), linreg(features,w,b).detach(), 'ro')"
   ]
  },
  {
   "cell_type": "markdown",
   "id": "operational-agenda",
   "metadata": {},
   "source": [
    "Exercises\n",
    "1. What would happen if we were to initialize the weights to zero. Would the algorithm still\n",
    "work?\n",
    "2. Assume that you are Georg Simon Ohm48 trying to come up with a model between voltage\n",
    "and current. Can you use auto differentiation to learn the parameters of your model?\n",
    "3. Can you use Planckʼs Law49 to determine the temperature of an object using spectral energy\n",
    "density?\n",
    "4. What are the problems you might encounter if you wanted to compute the second deriva\u0002tives? How would you fix them?\n",
    "5. Why is the reshape function needed in the squared_loss function?\n",
    "6. Experiment using different learning rates to find out how fast the loss function value drops.\n",
    "7. If the number of examples cannot be divided by the batch size, what happens to the\n",
    "data_iter functionʼs behavior?"
   ]
  },
  {
   "cell_type": "code",
   "execution_count": 18,
   "id": "willing-somalia",
   "metadata": {},
   "outputs": [
    {
     "data": {
      "text/plain": [
       "(tensor([0., 0.]), tensor([4.2046], requires_grad=True))"
      ]
     },
     "execution_count": 18,
     "metadata": {},
     "output_type": "execute_result"
    }
   ],
   "source": [
    "#1\n",
    "\n",
    "w = torch.zeros(2, dtype=torch.float32)\n",
    "\n",
    "w = torch.tensor([0.,0.])\n",
    "w, b"
   ]
  },
  {
   "cell_type": "code",
   "execution_count": 19,
   "id": "cellular-madrid",
   "metadata": {},
   "outputs": [
    {
     "name": "stdout",
     "output_type": "stream",
     "text": [
      "None tensor([14.6251])\n",
      "unsupported operand type(s) for *: 'float' and 'NoneType'\n"
     ]
    }
   ],
   "source": [
    "try:\n",
    "    for epoch in range(num_epochs):\n",
    "        for X, y in read_iter(batch_size, features, labels):\n",
    "            l = squared_loss(linreg(X,w,b), y)\n",
    "            l.sum().backward()\n",
    "\n",
    "            print(w.grad, b.grad)\n",
    "\n",
    "            sgd([w,b], lr, batch_size)\n",
    "\n",
    "        with torch.no_grad():\n",
    "            train_l = squared_loss(linreg(features, w, b), labels)\n",
    "            print(\"Loss for current epoch \", epoch, \":\", train_l.mean())\n",
    "\n",
    "except Exception as e:\n",
    "    print(e)\n",
    "        \n",
    "        "
   ]
  },
  {
   "cell_type": "code",
   "execution_count": 20,
   "id": "nominated-minnesota",
   "metadata": {},
   "outputs": [],
   "source": [
    "#2 \n",
    "\n",
    "# lets first get the values\n",
    "\n",
    "def ohmic_values(n, r = torch.tensor([5.])):\n",
    "    # V = IR\n",
    "    \n",
    "    I = torch.normal(0, 1,(n,len(r)))\n",
    "    \n",
    "    V= torch.matmul(I, r)\n",
    "    \n",
    "    return I, V\n",
    "    \n",
    "    "
   ]
  },
  {
   "cell_type": "code",
   "execution_count": 21,
   "id": "religious-durham",
   "metadata": {},
   "outputs": [],
   "source": [
    "features, labels = ohmic_values(n=1000)"
   ]
  },
  {
   "cell_type": "code",
   "execution_count": 22,
   "id": "cleared-soccer",
   "metadata": {},
   "outputs": [
    {
     "data": {
      "text/plain": [
       "(torch.Tensor, torch.Tensor)"
      ]
     },
     "execution_count": 22,
     "metadata": {},
     "output_type": "execute_result"
    }
   ],
   "source": [
    "type(features), type(labels)"
   ]
  },
  {
   "cell_type": "code",
   "execution_count": 23,
   "id": "intimate-seventh",
   "metadata": {},
   "outputs": [
    {
     "data": {
      "text/plain": [
       "[<matplotlib.lines.Line2D at 0x2746301ebe0>]"
      ]
     },
     "execution_count": 23,
     "metadata": {},
     "output_type": "execute_result"
    },
    {
     "data": {
      "image/png": "[encoded data removed]",
      "text/plain": [
       "<Figure size 432x288 with 1 Axes>"
      ]
     },
     "metadata": {
      "needs_background": "light"
     },
     "output_type": "display_data"
    }
   ],
   "source": [
    "plt.plot(features.detach(), labels.detach(), \"bo\")"
   ]
  },
  {
   "cell_type": "code",
   "execution_count": 24,
   "id": "smoking-wrist",
   "metadata": {},
   "outputs": [],
   "source": [
    "# initialising w and b\n",
    "\n",
    "w =  torch.tensor([2.], requires_grad=True)\n",
    "b = torch.tensor([1.], requires_grad=True)"
   ]
  },
  {
   "cell_type": "code",
   "execution_count": 25,
   "id": "sharp-nudist",
   "metadata": {},
   "outputs": [
    {
     "data": {
      "text/plain": [
       "(torch.Size([1000, 1]), torch.Size([1]))"
      ]
     },
     "execution_count": 25,
     "metadata": {},
     "output_type": "execute_result"
    }
   ],
   "source": [
    "features.shape, w.shape"
   ]
  },
  {
   "cell_type": "code",
   "execution_count": 26,
   "id": "advised-deposit",
   "metadata": {},
   "outputs": [
    {
     "data": {
      "text/plain": [
       "tensor([0.1685, 3.0204, 2.0501, 1.6815, 0.9602], grad_fn=<SliceBackward>)"
      ]
     },
     "execution_count": 26,
     "metadata": {},
     "output_type": "execute_result"
    }
   ],
   "source": [
    "# now lets get the model \n",
    "\n",
    "def linreg_ohm(X, w, b):\n",
    "    return torch.matmul(X,w) + b\n",
    "\n",
    "linreg_ohm(features, w, b)[:5]\n",
    "    "
   ]
  },
  {
   "cell_type": "code",
   "execution_count": 27,
   "id": "stylish-wealth",
   "metadata": {},
   "outputs": [],
   "source": [
    "def training_loop(num_epochs=3, loss=squared_loss, sgd=sgd, data_iter=read_iter, net=linreg, lr=lr, batch_size=batch_size, w=w, b=b, features=features, display=True, labels=labels):\n",
    "    for epoch in range(num_epochs):\n",
    "        for X, y in data_iter(batch_size,features, labels):\n",
    "            l = loss(net(X,w,b), y)\n",
    "            \n",
    "            l.sum().backward()\n",
    "            \n",
    "            sgd([w,b], lr, batch_size)\n",
    "        \n",
    "        if(display):\n",
    "            with torch.no_grad():\n",
    "                train_l = loss(net(features, w, b), labels)\n",
    "            \n",
    "                print(f\"for epoch: {epoch}, the loss: {train_l.mean()}\")\n",
    "            \n",
    "        "
   ]
  },
  {
   "cell_type": "code",
   "execution_count": 28,
   "id": "based-working",
   "metadata": {},
   "outputs": [
    {
     "data": {
      "text/plain": [
       "[<matplotlib.lines.Line2D at 0x2746307ed00>]"
      ]
     },
     "execution_count": 28,
     "metadata": {},
     "output_type": "execute_result"
    },
    {
     "data": {
      "image/png": "[encoded data removed]",
      "text/plain": [
       "<Figure size 432x288 with 1 Axes>"
      ]
     },
     "metadata": {
      "needs_background": "light"
     },
     "output_type": "display_data"
    }
   ],
   "source": [
    "plt.plot(features.detach(), linreg_ohm(features, w, b).detach(), \"go\")"
   ]
  },
  {
   "cell_type": "code",
   "execution_count": 29,
   "id": "fatal-pavilion",
   "metadata": {},
   "outputs": [
    {
     "name": "stdout",
     "output_type": "stream",
     "text": [
      "for epoch: 0, the loss: 0.7398536801338196\n",
      "for epoch: 1, the loss: 0.10889293253421783\n",
      "for epoch: 2, the loss: 0.01603986695408821\n"
     ]
    }
   ],
   "source": [
    "training_loop(net=linreg_ohm )"
   ]
  },
  {
   "cell_type": "code",
   "execution_count": 30,
   "id": "worth-surrey",
   "metadata": {},
   "outputs": [
    {
     "data": {
      "text/plain": [
       "(tensor([4.8301], requires_grad=True), tensor([0.0551], requires_grad=True))"
      ]
     },
     "execution_count": 30,
     "metadata": {},
     "output_type": "execute_result"
    }
   ],
   "source": [
    "w, b"
   ]
  },
  {
   "cell_type": "code",
   "execution_count": 31,
   "id": "casual-metallic",
   "metadata": {},
   "outputs": [
    {
     "name": "stdout",
     "output_type": "stream",
     "text": [
      "for epoch: 0, the loss: 0.002362377243116498\n",
      "for epoch: 1, the loss: 0.0003480184532236308\n",
      "for epoch: 2, the loss: 5.1183818868594244e-05\n",
      "for epoch: 3, the loss: 7.538485988334287e-06\n"
     ]
    }
   ],
   "source": [
    "training_loop(net=linreg_ohm, num_epochs=4)"
   ]
  },
  {
   "cell_type": "code",
   "execution_count": 32,
   "id": "engaging-occupation",
   "metadata": {},
   "outputs": [
    {
     "data": {
      "text/plain": [
       "(tensor([4.9963], requires_grad=True), tensor([0.0012], requires_grad=True))"
      ]
     },
     "execution_count": 32,
     "metadata": {},
     "output_type": "execute_result"
    }
   ],
   "source": [
    "w, b"
   ]
  },
  {
   "cell_type": "code",
   "execution_count": 33,
   "id": "interstate-chemistry",
   "metadata": {},
   "outputs": [
    {
     "data": {
      "text/plain": [
       "[<matplotlib.lines.Line2D at 0x2746311bb20>]"
      ]
     },
     "execution_count": 33,
     "metadata": {},
     "output_type": "execute_result"
    },
    {
     "data": {
      "image/png": "[encoded data removed]",
      "text/plain": [
       "<Figure size 432x288 with 1 Axes>"
      ]
     },
     "metadata": {
      "needs_background": "light"
     },
     "output_type": "display_data"
    }
   ],
   "source": [
    "plt.plot(features.detach(), linreg_ohm(features, w, b).detach(), \"go\")"
   ]
  },
  {
   "cell_type": "markdown",
   "id": "changed-pierre",
   "metadata": {},
   "source": [
    "#3\n",
    "\n",
    "formula for spectral density:\n",
    "\n",
    "![](spectral_density.png)"
   ]
  },
  {
   "cell_type": "code",
   "execution_count": 34,
   "id": "homeless-comfort",
   "metadata": {},
   "outputs": [],
   "source": [
    "def spectral_density_formula(t, l=1):\n",
    "    # lets put l =1\n",
    "    h = 6.626 * (10 ** -34)\n",
    "    c = 3 * (10 ** 8)\n",
    "    l = l\n",
    "    k = 1.38064852 * (10 ** -23)\n",
    "    p =  (2 * h * (c**2))/(l ** 5)\n",
    "    d = (h * c/(l * k * t))\n",
    "    \n",
    "    return p/(np.exp(d)-1)"
   ]
  },
  {
   "cell_type": "code",
   "execution_count": 35,
   "id": "extended-combining",
   "metadata": {},
   "outputs": [
    {
     "data": {
      "text/plain": [
       "8.2832947943081e-13"
      ]
     },
     "execution_count": 35,
     "metadata": {},
     "output_type": "execute_result"
    }
   ],
   "source": [
    "spectral_density_formula(100)"
   ]
  },
  {
   "cell_type": "code",
   "execution_count": 36,
   "id": "subject-evans",
   "metadata": {},
   "outputs": [],
   "source": [
    "w =  torch.tensor([10.], requires_grad=True)\n",
    "b = torch.tensor([1.], requires_grad=True)"
   ]
  },
  {
   "cell_type": "code",
   "execution_count": 37,
   "id": "immediate-class",
   "metadata": {},
   "outputs": [],
   "source": [
    "def make_dataset(n=100):\n",
    "    X = torch.arange(100, dtype=torch.float32).unsqueeze(dim=1)\n",
    "    print(X.shape)\n",
    "    y = []\n",
    "    for i in X.detach():\n",
    "        y.append(spectral_density_formula(i))\n",
    "    \n",
    "    return X, torch.tensor(y)"
   ]
  },
  {
   "cell_type": "code",
   "execution_count": 38,
   "id": "engaged-parts",
   "metadata": {},
   "outputs": [
    {
     "name": "stdout",
     "output_type": "stream",
     "text": [
      "torch.Size([100, 1])\n"
     ]
    }
   ],
   "source": [
    "features, labels = make_dataset()"
   ]
  },
  {
   "cell_type": "code",
   "execution_count": 39,
   "id": "forty-exhaust",
   "metadata": {
    "scrolled": false
   },
   "outputs": [
    {
     "data": {
      "text/plain": [
       "(tensor([[0.],\n",
       "         [1.],\n",
       "         [2.],\n",
       "         [3.],\n",
       "         [4.],\n",
       "         [5.],\n",
       "         [6.],\n",
       "         [7.],\n",
       "         [8.],\n",
       "         [9.]]),\n",
       " tensor([0.0000e+00, 8.2244e-15, 1.6508e-14, 2.4792e-14, 3.3076e-14, 4.1360e-14,\n",
       "         4.9645e-14, 5.7929e-14, 6.6210e-14, 7.4497e-14]))"
      ]
     },
     "execution_count": 39,
     "metadata": {},
     "output_type": "execute_result"
    }
   ],
   "source": [
    "features[:10], labels[:10]\n",
    "\n",
    "# maybe noramlisation would be a problem here"
   ]
  },
  {
   "cell_type": "code",
   "execution_count": 40,
   "id": "fundamental-seafood",
   "metadata": {},
   "outputs": [
    {
     "data": {
      "text/plain": [
       "[<matplotlib.lines.Line2D at 0x274631936a0>]"
      ]
     },
     "execution_count": 40,
     "metadata": {},
     "output_type": "execute_result"
    },
    {
     "data": {
      "image/png": "[encoded data removed]",
      "text/plain": [
       "<Figure size 432x288 with 1 Axes>"
      ]
     },
     "metadata": {
      "needs_background": "light"
     },
     "output_type": "display_data"
    }
   ],
   "source": [
    "plt.plot(features, labels, \"bo\")"
   ]
  },
  {
   "cell_type": "code",
   "execution_count": 41,
   "id": "victorian-passenger",
   "metadata": {},
   "outputs": [
    {
     "data": {
      "text/plain": [
       "(tensor([10.], requires_grad=True), tensor([1.], requires_grad=True))"
      ]
     },
     "execution_count": 41,
     "metadata": {},
     "output_type": "execute_result"
    }
   ],
   "source": [
    "w, b"
   ]
  },
  {
   "cell_type": "code",
   "execution_count": 42,
   "id": "utility-productivity",
   "metadata": {},
   "outputs": [
    {
     "data": {
      "text/plain": [
       "[<matplotlib.lines.Line2D at 0x274631e2be0>]"
      ]
     },
     "execution_count": 42,
     "metadata": {},
     "output_type": "execute_result"
    },
    {
     "data": {
      "image/png": "[encoded data removed]",
      "text/plain": [
       "<Figure size 432x288 with 1 Axes>"
      ]
     },
     "metadata": {
      "needs_background": "light"
     },
     "output_type": "display_data"
    }
   ],
   "source": [
    "plt.plot(features.detach(), linreg(features,w, b).detach(), 'yo')"
   ]
  },
  {
   "cell_type": "code",
   "execution_count": 43,
   "id": "periodic-breakfast",
   "metadata": {},
   "outputs": [
    {
     "name": "stdout",
     "output_type": "stream",
     "text": [
      "\n",
      "For learning rate 1e-05\n",
      "for epoch: 0, the loss: 7.538003501394996e-06\n",
      "for epoch: 1, the loss: 7.537736109952675e-06\n",
      "for epoch: 2, the loss: 7.537254987255437e-06\n",
      "for epoch: 3, the loss: 7.536767952842638e-06\n",
      "for epoch: 4, the loss: 7.536350494774524e-06\n",
      "for epoch: 5, the loss: 7.536014436482219e-06\n",
      "for epoch: 6, the loss: 7.535535132774385e-06\n",
      "for epoch: 7, the loss: 7.535053100582445e-06\n",
      "for epoch: 8, the loss: 7.534572887379909e-06\n",
      "for epoch: 9, the loss: 7.534155429311795e-06\n",
      "\n",
      "For learning rate 0.0001\n",
      "for epoch: 0, the loss: 7.475226993847173e-06\n",
      "for epoch: 1, the loss: 7.421631380566396e-06\n",
      "for epoch: 2, the loss: 7.3684418566699605e-06\n",
      "for epoch: 3, the loss: 7.313570222322596e-06\n",
      "for epoch: 4, the loss: 7.2589568844705354e-06\n",
      "for epoch: 5, the loss: 7.206368081824621e-06\n",
      "for epoch: 6, the loss: 7.152001217036741e-06\n",
      "for epoch: 7, the loss: 7.1015633693605196e-06\n",
      "for epoch: 8, the loss: 7.047742201393703e-06\n",
      "for epoch: 9, the loss: 6.994247542024823e-06\n",
      "\n",
      "For learning rate 0.001\n",
      "for epoch: 0, the loss: 6.566098818439059e-06\n",
      "for epoch: 1, the loss: 6.168599156808341e-06\n",
      "for epoch: 2, the loss: 5.795402103103697e-06\n",
      "for epoch: 3, the loss: 5.44251224710024e-06\n",
      "for epoch: 4, the loss: 5.113142378831981e-06\n",
      "for epoch: 5, the loss: 4.8007646000769455e-06\n",
      "for epoch: 6, the loss: 4.507300218392629e-06\n",
      "for epoch: 7, the loss: 4.234298103256151e-06\n",
      "for epoch: 8, the loss: 3.978410404670285e-06\n",
      "for epoch: 9, the loss: 3.7386282656370895e-06\n",
      "\n",
      "For learning rate 0.1\n",
      "for epoch: 0, the loss: 4.81771555982391e-09\n",
      "for epoch: 1, the loss: 6.1461304795562555e-12\n",
      "for epoch: 2, the loss: 1.0530890395821224e-12\n",
      "for epoch: 3, the loss: 4.789836062502051e-13\n",
      "for epoch: 4, the loss: 4.791705769148502e-13\n",
      "for epoch: 5, the loss: 4.789819799469464e-13\n",
      "for epoch: 6, the loss: 4.791790336917956e-13\n",
      "for epoch: 7, the loss: 4.792099334537114e-13\n",
      "for epoch: 8, the loss: 4.791650474837705e-13\n",
      "for epoch: 9, the loss: 4.789856120242242e-13\n"
     ]
    }
   ],
   "source": [
    "for lr in [0.00001, 0.0001, 0.001, 0.1]:\n",
    "    print(f\"\\nFor learning rate {lr}\")\n",
    "    training_loop(num_epochs=10, lr = lr)"
   ]
  },
  {
   "cell_type": "code",
   "execution_count": 44,
   "id": "velvet-cradle",
   "metadata": {},
   "outputs": [
    {
     "data": {
      "text/plain": [
       "[<matplotlib.lines.Line2D at 0x27463244610>]"
      ]
     },
     "execution_count": 44,
     "metadata": {},
     "output_type": "execute_result"
    },
    {
     "data": {
      "image/png": "[encoded data removed]",
      "text/plain": [
       "<Figure size 432x288 with 1 Axes>"
      ]
     },
     "metadata": {
      "needs_background": "light"
     },
     "output_type": "display_data"
    }
   ],
   "source": [
    "plt.plot(features.detach(), linreg(features,w, b).detach(), 'yo')"
   ]
  },
  {
   "cell_type": "code",
   "execution_count": 45,
   "id": "norwegian-polls",
   "metadata": {},
   "outputs": [
    {
     "data": {
      "text/plain": [
       "(tensor([10.], requires_grad=True), tensor([1.], requires_grad=True))"
      ]
     },
     "execution_count": 45,
     "metadata": {},
     "output_type": "execute_result"
    }
   ],
   "source": [
    "w, b"
   ]
  },
  {
   "cell_type": "markdown",
   "id": "reasonable-wireless",
   "metadata": {},
   "source": [
    "# Concise way to build linear networks"
   ]
  },
  {
   "cell_type": "code",
   "execution_count": 46,
   "id": "proper-chart",
   "metadata": {},
   "outputs": [],
   "source": [
    "true_weight= torch.tensor([2, -3.4])\n",
    "true_bias = 4.2"
   ]
  },
  {
   "cell_type": "code",
   "execution_count": 47,
   "id": "blond-polls",
   "metadata": {},
   "outputs": [],
   "source": [
    "def make_dataset(size=1000, true_weight=torch.tensor([2, -3.4]), true_bias=4.2):\n",
    "    X = torch.normal(0,1, (size, len(true_weight)))\n",
    "    y = torch.matmul(X,true_weight) + true_bias\n",
    "    # now we add for noise, mean =0, standard deviation = 0.1\n",
    "    y += torch.normal(0,0.1, y.shape)\n",
    "    return X, y.reshape(-1,1) # this work same as unsqueeze\n",
    "features, labels = make_dataset(true_weight=true_weight, true_bias=4.2)"
   ]
  },
  {
   "cell_type": "code",
   "execution_count": 48,
   "id": "proprietary-movement",
   "metadata": {},
   "outputs": [],
   "source": [
    "from torch.utils import data\n",
    "batch_size=32"
   ]
  },
  {
   "cell_type": "code",
   "execution_count": 49,
   "id": "crazy-french",
   "metadata": {},
   "outputs": [],
   "source": [
    "# reading the dataset\n",
    "\n",
    "def read_dataset(data_arrays):\n",
    "    dataset = data.TensorDataset(*data_arrays)\n",
    "    return data.DataLoader(dataset=dataset, shuffle=True, batch_size=batch_size)"
   ]
  },
  {
   "cell_type": "code",
   "execution_count": 50,
   "id": "charged-justice",
   "metadata": {},
   "outputs": [],
   "source": [
    "train_dataloader = read_dataset((features, labels))"
   ]
  },
  {
   "cell_type": "code",
   "execution_count": 51,
   "id": "distinguished-review",
   "metadata": {},
   "outputs": [
    {
     "name": "stdout",
     "output_type": "stream",
     "text": [
      "tensor([[ 0.3404, -0.7829],\n",
      "        [-3.2048,  0.5152],\n",
      "        [ 0.4525, -0.0167],\n",
      "        [-0.4878,  0.1842],\n",
      "        [ 0.7667, -0.9466]]) tensor([[ 7.3954],\n",
      "        [-4.3338],\n",
      "        [ 5.0515],\n",
      "        [ 2.6490],\n",
      "        [ 9.0023]])\n"
     ]
    }
   ],
   "source": [
    "for X, y in train_dataloader:\n",
    "    print(X[:5], y[:5])\n",
    "    break"
   ]
  },
  {
   "cell_type": "code",
   "execution_count": 52,
   "id": "employed-coordinator",
   "metadata": {},
   "outputs": [],
   "source": [
    "from torch import nn\n",
    "\n",
    "net = nn.Sequential(nn.Linear(2,1))"
   ]
  },
  {
   "cell_type": "code",
   "execution_count": 53,
   "id": "legendary-dividend",
   "metadata": {},
   "outputs": [
    {
     "data": {
      "text/plain": [
       "Sequential(\n",
       "  (0): Linear(in_features=2, out_features=1, bias=True)\n",
       ")"
      ]
     },
     "execution_count": 53,
     "metadata": {},
     "output_type": "execute_result"
    }
   ],
   "source": [
    "net"
   ]
  },
  {
   "cell_type": "code",
   "execution_count": 54,
   "id": "korean-weather",
   "metadata": {},
   "outputs": [
    {
     "data": {
      "text/plain": [
       "tensor([0.])"
      ]
     },
     "execution_count": 54,
     "metadata": {},
     "output_type": "execute_result"
    }
   ],
   "source": [
    "net[0].weight.data.normal_(0,0.1)\n",
    "net[0].bias.data.fill_(0)"
   ]
  },
  {
   "cell_type": "code",
   "execution_count": 55,
   "id": "dramatic-funeral",
   "metadata": {},
   "outputs": [
    {
     "data": {
      "text/plain": [
       "(Parameter containing:\n",
       " tensor([[0.0782, 0.0277]], requires_grad=True),\n",
       " Parameter containing:\n",
       " tensor([0.], requires_grad=True))"
      ]
     },
     "execution_count": 55,
     "metadata": {},
     "output_type": "execute_result"
    }
   ],
   "source": [
    "net[0].weight, net[0].bias"
   ]
  },
  {
   "cell_type": "code",
   "execution_count": 56,
   "id": "seasonal-directory",
   "metadata": {},
   "outputs": [],
   "source": [
    "loss = nn.MSELoss(reduction='sum')"
   ]
  },
  {
   "cell_type": "code",
   "execution_count": 57,
   "id": "exempt-cement",
   "metadata": {},
   "outputs": [],
   "source": [
    "trainer = torch.optim.SGD(net.parameters(), lr=0.03)"
   ]
  },
  {
   "cell_type": "code",
   "execution_count": 58,
   "id": "african-brief",
   "metadata": {},
   "outputs": [
    {
     "name": "stdout",
     "output_type": "stream",
     "text": [
      "for epoch 0, loss : 42.17301940917969\n",
      "for epoch 1, loss : 24.687911987304688\n",
      "for epoch 2, loss : 10.105912208557129\n"
     ]
    }
   ],
   "source": [
    "for epoch in range(3):\n",
    "    for X, y in train_dataloader:\n",
    "        l = loss(net(X), y)\n",
    "        trainer.zero_grad()\n",
    "        l.backward()\n",
    "        trainer.step()\n",
    "    \n",
    "    l = loss(net(features), labels)\n",
    "    print(f'for epoch {epoch}, loss : {l}')"
   ]
  },
  {
   "cell_type": "code",
   "execution_count": 59,
   "id": "weird-deployment",
   "metadata": {},
   "outputs": [
    {
     "data": {
      "text/plain": [
       "(Parameter containing:\n",
       " tensor([[ 2.0110, -3.4159]], requires_grad=True),\n",
       " Parameter containing:\n",
       " tensor([4.2184], requires_grad=True))"
      ]
     },
     "execution_count": 59,
     "metadata": {},
     "output_type": "execute_result"
    }
   ],
   "source": [
    "net[0].weight, net[0].bias"
   ]
  },
  {
   "cell_type": "code",
   "execution_count": 60,
   "id": "intimate-confidence",
   "metadata": {},
   "outputs": [
    {
     "data": {
      "text/plain": [
       "[<matplotlib.lines.Line2D at 0x274632d45b0>,\n",
       " <matplotlib.lines.Line2D at 0x274632d4640>]"
      ]
     },
     "execution_count": 60,
     "metadata": {},
     "output_type": "execute_result"
    },
    {
     "data": {
      "image/png": "[encoded data removed]",
      "text/plain": [
       "<Figure size 432x288 with 1 Axes>"
      ]
     },
     "metadata": {
      "needs_background": "light"
     },
     "output_type": "display_data"
    }
   ],
   "source": [
    "plt.plot(features.detach(), net(features).detach(), 'o')"
   ]
  },
  {
   "cell_type": "markdown",
   "id": "virgin-subject",
   "metadata": {},
   "source": [
    "### Exercises\n",
    "1. If we replace nn.MSELoss(reduction='sum') with nn.MSELoss(), how can we change the\n",
    "learning rate for the code to behave identically. Why?\n",
    "2. Review the PyTorch documentation to see what loss functions and initialization methods are\n",
    "provided. Replace the loss by Huberʼs loss.\n",
    "3. How do you access the gradient of net[0].weight?"
   ]
  },
  {
   "cell_type": "code",
   "execution_count": 61,
   "id": "competent-central",
   "metadata": {},
   "outputs": [
    {
     "data": {
      "text/plain": [
       "tensor([[ 1.5251, -1.0161]])"
      ]
     },
     "execution_count": 61,
     "metadata": {},
     "output_type": "execute_result"
    }
   ],
   "source": [
    "# 3\n",
    "net[0].weight.grad"
   ]
  },
  {
   "cell_type": "code",
   "execution_count": 62,
   "id": "racial-jacksonville",
   "metadata": {},
   "outputs": [],
   "source": [
    "# 2\n",
    "\n",
    "loss = torch.nn.SmoothL1Loss"
   ]
  },
  {
   "cell_type": "markdown",
   "id": "dietary-elizabeth",
   "metadata": {},
   "source": [
    "# Practice"
   ]
  },
  {
   "cell_type": "code",
   "execution_count": 63,
   "id": "continuous-pursuit",
   "metadata": {},
   "outputs": [],
   "source": [
    "# creating a dataset\n",
    "\n",
    "num_of_features = 3\n",
    "\n",
    "actual_w = torch.tensor([-1,-1,-1], dtype=torch.float32)\n",
    "actual_b = torch.tensor([-4], dtype=torch.float32)\n",
    "\n",
    "def make_dataset(n=1000):\n",
    "    X = torch.normal(0,1, (n,num_of_features))\n",
    "    y = torch.matmul(X, actual_w) + actual_b\n",
    "    \n",
    "    return X, y"
   ]
  },
  {
   "cell_type": "code",
   "execution_count": 64,
   "id": "meaningful-circumstances",
   "metadata": {},
   "outputs": [],
   "source": [
    "features, labels = make_dataset()"
   ]
  },
  {
   "cell_type": "code",
   "execution_count": 65,
   "id": "million-registration",
   "metadata": {},
   "outputs": [
    {
     "data": {
      "text/plain": [
       "[<matplotlib.lines.Line2D at 0x27469360700>,\n",
       " <matplotlib.lines.Line2D at 0x27469360760>,\n",
       " <matplotlib.lines.Line2D at 0x27469360820>]"
      ]
     },
     "execution_count": 65,
     "metadata": {},
     "output_type": "execute_result"
    },
    {
     "data": {
      "image/png": "[encoded data removed]",
      "text/plain": [
       "<Figure size 432x288 with 1 Axes>"
      ]
     },
     "metadata": {
      "needs_background": "light"
     },
     "output_type": "display_data"
    }
   ],
   "source": [
    "plt.plot(features, labels, 'o')"
   ]
  },
  {
   "cell_type": "code",
   "execution_count": 66,
   "id": "clinical-serial",
   "metadata": {},
   "outputs": [
    {
     "data": {
      "text/plain": [
       "(torch.Size([1000, 3]), torch.Size([1000]))"
      ]
     },
     "execution_count": 66,
     "metadata": {},
     "output_type": "execute_result"
    }
   ],
   "source": [
    "features.shape, labels.shape"
   ]
  },
  {
   "cell_type": "code",
   "execution_count": 109,
   "id": "heated-refrigerator",
   "metadata": {},
   "outputs": [],
   "source": [
    "# initialising the model parameters\n",
    "w = torch.normal(0,0.1,size=(num_of_features,1), dtype=torch.float32,requires_grad=True) # assuming there are three features of x that matter\n",
    "b = torch.tensor([0.], dtype=torch.float32, requires_grad=True)\n"
   ]
  },
  {
   "cell_type": "code",
   "execution_count": 68,
   "id": "alpha-undergraduate",
   "metadata": {},
   "outputs": [],
   "source": [
    "# creating the model\n",
    "\n",
    "def net(X, w=w, b=b):\n",
    "    return torch.matmul(X,w) + b"
   ]
  },
  {
   "cell_type": "code",
   "execution_count": 84,
   "id": "advance-position",
   "metadata": {},
   "outputs": [],
   "source": [
    "# creating a loss function\n",
    "\n",
    "def loss_function(y_hat, y):\n",
    "    return ((y_hat - y.reshape(y_hat.shape)) ** 2 )/2"
   ]
  },
  {
   "cell_type": "code",
   "execution_count": 115,
   "id": "bottom-senegal",
   "metadata": {},
   "outputs": [],
   "source": [
    "# creating the optimizer\n",
    "batch_size = 32\n",
    "learning_rate = 0.01 \n",
    "\n",
    "def optimizer_sgd(params=[w,b],batch_size=batch_size, learning_rate=learning_rate):\n",
    "    \n",
    "    with torch.no_grad():\n",
    "        for param in params:\n",
    "            param -= learning_rate * param.grad/ batch_size\n",
    "            param.grad.zero_()\n",
    "    \n",
    "    "
   ]
  },
  {
   "cell_type": "code",
   "execution_count": 102,
   "id": "organized-integer",
   "metadata": {},
   "outputs": [],
   "source": [
    "def sgd(params, lr, batch_size):  #@save\n",
    "    \"\"\"Minibatch stochastic gradient descent.\"\"\"\n",
    "    with torch.no_grad():\n",
    "        for param in params:\n",
    "            param -= lr * param.grad / batch_size\n",
    "            param.grad.zero_()"
   ]
  },
  {
   "cell_type": "code",
   "execution_count": 71,
   "id": "threaded-press",
   "metadata": {},
   "outputs": [],
   "source": [
    "# creating a data iterator\n",
    "\n",
    "def data_iter(features=features, labels=labels, batch_size=batch_size):\n",
    "    \n",
    "    indices = list(range(len(features)))\n",
    "    \n",
    "    random.shuffle(indices)\n",
    "    \n",
    "#     print(indices[:5])\n",
    "    \n",
    "    for i in range(len(features), batch_size):\n",
    "        batch_indices = min(indices[i:batch_size], indices[i: len(features)])\n",
    "        yield features[batch_indices], labels[batch_indices]\n",
    "    \n",
    "    \n",
    "    "
   ]
  },
  {
   "cell_type": "code",
   "execution_count": 72,
   "id": "excessive-violence",
   "metadata": {},
   "outputs": [],
   "source": [
    "for X, y in data_iter():\n",
    "    print(X)\n",
    "    break\n",
    "    \n",
    "## not working"
   ]
  },
  {
   "cell_type": "code",
   "execution_count": 73,
   "id": "owned-circuit",
   "metadata": {},
   "outputs": [],
   "source": [
    "class Train_dataset:\n",
    "    def __init__(self,features=features, labels=labels):\n",
    "        self.features = features\n",
    "        self.labels = labels\n",
    "    \n",
    "    def __len__(self):\n",
    "        return len(self.features)\n",
    "    \n",
    "    def __getitem__(self, index):\n",
    "        return features[index], labels[index]"
   ]
  },
  {
   "cell_type": "code",
   "execution_count": 74,
   "id": "domestic-accreditation",
   "metadata": {},
   "outputs": [],
   "source": [
    "train_data = Train_dataset()"
   ]
  },
  {
   "cell_type": "code",
   "execution_count": 75,
   "id": "recreational-tissue",
   "metadata": {},
   "outputs": [],
   "source": [
    "train_dataloader = data.DataLoader(dataset=train_data,shuffle=True,batch_size=32)"
   ]
  },
  {
   "cell_type": "code",
   "execution_count": 116,
   "id": "involved-finance",
   "metadata": {},
   "outputs": [],
   "source": [
    "# training loop\n",
    "\n",
    "num_epochs = 30\n",
    "\n",
    "def training_loop(display=False,num_epochs=num_epochs, net=net, optimizer=optimizer_sgd, loss_function=loss_function, train_loader=train_dataloader, w=w, b=b):\n",
    "    for epoch in range(num_epochs):\n",
    "        for X, y in train_dataloader:\n",
    "            \n",
    "            l = loss_function(net(X), y)\n",
    "            l.sum().backward()\n",
    "#             optimizer(params=[w,b], lr=0.01, batch_size=batch_size)\n",
    "            optimizer(params=[w,b])\n",
    "        if display:\n",
    "            with torch.no_grad():\n",
    "                print(\"loss on latest minibatch: \", l.mean().detach() , \" for epoch \", epoch)\n",
    "    \n",
    "    print(w.detach(),b.detach())\n",
    "    "
   ]
  },
  {
   "cell_type": "code",
   "execution_count": 117,
   "id": "welcome-wilderness",
   "metadata": {},
   "outputs": [
    {
     "ename": "TypeError",
     "evalue": "unsupported operand type(s) for *: 'float' and 'NoneType'",
     "output_type": "error",
     "traceback": [
      "\u001b[1;31m---------------------------------------------------------------------------\u001b[0m",
      "\u001b[1;31mTypeError\u001b[0m                                 Traceback (most recent call last)",
      "\u001b[1;32m<ipython-input-117-319db21c78a1>\u001b[0m in \u001b[0;36m<module>\u001b[1;34m\u001b[0m\n\u001b[1;32m----> 1\u001b[1;33m \u001b[0mtraining_loop\u001b[0m\u001b[1;33m(\u001b[0m\u001b[0mdisplay\u001b[0m\u001b[1;33m=\u001b[0m\u001b[1;32mTrue\u001b[0m\u001b[1;33m)\u001b[0m\u001b[1;33m\u001b[0m\u001b[1;33m\u001b[0m\u001b[0m\n\u001b[0m",
      "\u001b[1;32m<ipython-input-116-71c5c6598bb2>\u001b[0m in \u001b[0;36mtraining_loop\u001b[1;34m(display, num_epochs, net, optimizer, loss_function, train_loader, w, b)\u001b[0m\n\u001b[0;32m     10\u001b[0m             \u001b[0ml\u001b[0m\u001b[1;33m.\u001b[0m\u001b[0msum\u001b[0m\u001b[1;33m(\u001b[0m\u001b[1;33m)\u001b[0m\u001b[1;33m.\u001b[0m\u001b[0mbackward\u001b[0m\u001b[1;33m(\u001b[0m\u001b[1;33m)\u001b[0m\u001b[1;33m\u001b[0m\u001b[1;33m\u001b[0m\u001b[0m\n\u001b[0;32m     11\u001b[0m \u001b[1;31m#             optimizer(params=[w,b], lr=0.01, batch_size=batch_size)\u001b[0m\u001b[1;33m\u001b[0m\u001b[1;33m\u001b[0m\u001b[1;33m\u001b[0m\u001b[0m\n\u001b[1;32m---> 12\u001b[1;33m             \u001b[0moptimizer\u001b[0m\u001b[1;33m(\u001b[0m\u001b[0mparams\u001b[0m\u001b[1;33m=\u001b[0m\u001b[1;33m[\u001b[0m\u001b[0mw\u001b[0m\u001b[1;33m,\u001b[0m\u001b[0mb\u001b[0m\u001b[1;33m]\u001b[0m\u001b[1;33m)\u001b[0m\u001b[1;33m\u001b[0m\u001b[1;33m\u001b[0m\u001b[0m\n\u001b[0m\u001b[0;32m     13\u001b[0m         \u001b[1;32mif\u001b[0m \u001b[0mdisplay\u001b[0m\u001b[1;33m:\u001b[0m\u001b[1;33m\u001b[0m\u001b[1;33m\u001b[0m\u001b[0m\n\u001b[0;32m     14\u001b[0m             \u001b[1;32mwith\u001b[0m \u001b[0mtorch\u001b[0m\u001b[1;33m.\u001b[0m\u001b[0mno_grad\u001b[0m\u001b[1;33m(\u001b[0m\u001b[1;33m)\u001b[0m\u001b[1;33m:\u001b[0m\u001b[1;33m\u001b[0m\u001b[1;33m\u001b[0m\u001b[0m\n",
      "\u001b[1;32m<ipython-input-115-70995736c72f>\u001b[0m in \u001b[0;36moptimizer_sgd\u001b[1;34m(params, batch_size, learning_rate)\u001b[0m\n\u001b[0;32m      7\u001b[0m     \u001b[1;32mwith\u001b[0m \u001b[0mtorch\u001b[0m\u001b[1;33m.\u001b[0m\u001b[0mno_grad\u001b[0m\u001b[1;33m(\u001b[0m\u001b[1;33m)\u001b[0m\u001b[1;33m:\u001b[0m\u001b[1;33m\u001b[0m\u001b[1;33m\u001b[0m\u001b[0m\n\u001b[0;32m      8\u001b[0m         \u001b[1;32mfor\u001b[0m \u001b[0mparam\u001b[0m \u001b[1;32min\u001b[0m \u001b[0mparams\u001b[0m\u001b[1;33m:\u001b[0m\u001b[1;33m\u001b[0m\u001b[1;33m\u001b[0m\u001b[0m\n\u001b[1;32m----> 9\u001b[1;33m             \u001b[0mparam\u001b[0m \u001b[1;33m-=\u001b[0m \u001b[0mlearning_rate\u001b[0m \u001b[1;33m*\u001b[0m \u001b[0mparam\u001b[0m\u001b[1;33m.\u001b[0m\u001b[0mgrad\u001b[0m\u001b[1;33m/\u001b[0m \u001b[0mbatch_size\u001b[0m\u001b[1;33m\u001b[0m\u001b[1;33m\u001b[0m\u001b[0m\n\u001b[0m\u001b[0;32m     10\u001b[0m             \u001b[0mparam\u001b[0m\u001b[1;33m.\u001b[0m\u001b[0mgrad\u001b[0m\u001b[1;33m.\u001b[0m\u001b[0mzero_\u001b[0m\u001b[1;33m(\u001b[0m\u001b[1;33m)\u001b[0m\u001b[1;33m\u001b[0m\u001b[1;33m\u001b[0m\u001b[0m\n\u001b[0;32m     11\u001b[0m \u001b[1;33m\u001b[0m\u001b[0m\n",
      "\u001b[1;31mTypeError\u001b[0m: unsupported operand type(s) for *: 'float' and 'NoneType'"
     ]
    }
   ],
   "source": [
    "training_loop(display=True)"
   ]
  },
  {
   "cell_type": "code",
   "execution_count": 108,
   "id": "alike-digit",
   "metadata": {},
   "outputs": [
    {
     "data": {
      "text/plain": [
       "[<matplotlib.lines.Line2D at 0x274694bda00>,\n",
       " <matplotlib.lines.Line2D at 0x274694bda90>,\n",
       " <matplotlib.lines.Line2D at 0x274694bdb50>]"
      ]
     },
     "execution_count": 108,
     "metadata": {},
     "output_type": "execute_result"
    },
    {
     "data": {
      "image/png": "[encoded data removed]",
      "text/plain": [
       "<Figure size 432x288 with 1 Axes>"
      ]
     },
     "metadata": {
      "needs_background": "light"
     },
     "output_type": "display_data"
    }
   ],
   "source": [
    "plt.plot(features, net(features).detach(), \"o\")"
   ]
  }
 ],
 "metadata": {
  "kernelspec": {
   "display_name": "Python 3",
   "language": "python",
   "name": "python3"
  },
  "language_info": {
   "codemirror_mode": {
    "name": "ipython",
    "version": 3
   },
   "file_extension": ".py",
   "mimetype": "text/x-python",
   "name": "python",
   "nbconvert_exporter": "python",
   "pygments_lexer": "ipython3",
   "version": "3.9.5"
  }
 },
 "nbformat": 4,
 "nbformat_minor": 5
}
