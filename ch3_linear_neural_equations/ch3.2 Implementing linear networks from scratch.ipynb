{
 "cells": [
  {
   "cell_type": "code",
   "execution_count": 1,
   "id": "center-legislature",
   "metadata": {},
   "outputs": [],
   "source": [
    "import torch\n",
    "import random\n",
    "import matplotlib.pyplot as plt"
   ]
  },
  {
   "cell_type": "code",
   "execution_count": 2,
   "id": "endless-maker",
   "metadata": {},
   "outputs": [
    {
     "data": {
      "text/plain": [
       "(tensor([[-0.2458,  0.6310],\n",
       "         [-0.0230, -0.1976],\n",
       "         [-0.5530,  0.6632],\n",
       "         [ 0.8008,  0.1896],\n",
       "         [ 0.1513, -0.1331],\n",
       "         [ 0.8607,  0.6993],\n",
       "         [-1.1645,  0.8546],\n",
       "         [ 2.2199,  0.5907],\n",
       "         [ 0.1133, -1.0836],\n",
       "         [-1.9401,  0.7019]]),\n",
       " tensor([[-0.0939, -0.1079],\n",
       "         [ 0.1619, -0.0872],\n",
       "         [-0.0152,  0.2686],\n",
       "         [ 0.0553, -0.0660],\n",
       "         [ 0.0830,  0.0033],\n",
       "         [-0.0361,  0.0171],\n",
       "         [ 0.1480,  0.0425],\n",
       "         [ 0.0622, -0.1323],\n",
       "         [-0.2331,  0.2199],\n",
       "         [ 0.2641,  0.0901]]))"
      ]
     },
     "execution_count": 2,
     "metadata": {},
     "output_type": "execute_result"
    }
   ],
   "source": [
    "torch.normal(0,1,(10,2)), torch.normal(0,0.1,(10,2))"
   ]
  },
  {
   "cell_type": "code",
   "execution_count": 3,
   "id": "polar-bicycle",
   "metadata": {},
   "outputs": [],
   "source": [
    "# generating synthetic dataset\n",
    "\n",
    "import numpy as np\n",
    "\n",
    "def make_dataset(size=1000, true_weight=torch.tensor([2, -3.4]), true_bias=4.2):\n",
    "    X = torch.normal(0,1, (size, len(true_weight)))\n",
    "    y = torch.matmul(X,true_weight) + true_bias\n",
    "    # now we add for noise, mean =0, standard deviation = 0.1\n",
    "    y += torch.normal(0,0.1, y.shape)\n",
    "    return X, y.reshape(-1,1) # this work same as unsqueeze"
   ]
  },
  {
   "cell_type": "code",
   "execution_count": 4,
   "id": "coordinate-synthetic",
   "metadata": {},
   "outputs": [],
   "source": [
    "features, labels = make_dataset()"
   ]
  },
  {
   "cell_type": "code",
   "execution_count": 5,
   "id": "coastal-least",
   "metadata": {},
   "outputs": [
    {
     "data": {
      "text/plain": [
       "(tensor([ 0.0649, -0.7733]), tensor([6.9116]))"
      ]
     },
     "execution_count": 5,
     "metadata": {},
     "output_type": "execute_result"
    }
   ],
   "source": [
    "features[0], labels[0]"
   ]
  },
  {
   "cell_type": "code",
   "execution_count": 6,
   "id": "confirmed-rings",
   "metadata": {},
   "outputs": [
    {
     "data": {
      "text/plain": [
       "[<matplotlib.lines.Line2D at 0x1b3530f3f70>,\n",
       " <matplotlib.lines.Line2D at 0x1b353105040>]"
      ]
     },
     "execution_count": 6,
     "metadata": {},
     "output_type": "execute_result"
    },
    {
     "data": {
      "image/png": "[encoded data removed]",
      "text/plain": [
       "<Figure size 432x288 with 1 Axes>"
      ]
     },
     "metadata": {
      "needs_background": "light"
     },
     "output_type": "display_data"
    }
   ],
   "source": [
    "plt.plot(features.detach(),labels.detach(),'o')"
   ]
  },
  {
   "cell_type": "code",
   "execution_count": 7,
   "id": "suspended-tutorial",
   "metadata": {},
   "outputs": [],
   "source": [
    "# reading the dataset, and giving based on batch size\n",
    "\n",
    "def read_iter(batch_size, features, labels):\n",
    "    indices = list(range(len(features)))\n",
    "    random.shuffle(indices)\n",
    "    new_features = features[indices]\n",
    "    new_labels = labels[indices]\n",
    "    \n",
    "#     print(new_features[:5], features[:5])\n",
    "    for i in range(0,len(features), batch_size):\n",
    "        yield new_features[i:min(i+batch_size, len(features))], new_labels[i:min(i+batch_size, len(features))]\n",
    "        "
   ]
  },
  {
   "cell_type": "code",
   "execution_count": 8,
   "id": "grand-secretariat",
   "metadata": {},
   "outputs": [],
   "source": [
    "train_dataloader= read_iter(32, features, labels)"
   ]
  },
  {
   "cell_type": "code",
   "execution_count": 9,
   "id": "outdoor-junction",
   "metadata": {},
   "outputs": [
    {
     "name": "stdout",
     "output_type": "stream",
     "text": [
      "tensor([[-5.6438e-01, -1.6004e-01],\n",
      "        [ 1.7816e-02, -1.1010e+00],\n",
      "        [ 1.1211e+00,  2.8122e+00],\n",
      "        [-6.0610e-01, -6.6946e-01],\n",
      "        [-1.4882e-01,  7.4002e-01],\n",
      "        [ 3.0953e-01,  1.4539e+00],\n",
      "        [-5.8194e-01,  3.7146e-01],\n",
      "        [-2.1375e-01, -9.9110e-01],\n",
      "        [-1.7931e-03, -4.7196e-01],\n",
      "        [ 9.2133e-01, -8.8563e-01],\n",
      "        [-7.0726e-01, -1.1584e+00],\n",
      "        [-1.1526e+00, -6.4655e-01],\n",
      "        [-8.5025e-01, -4.1302e-01],\n",
      "        [-5.2532e-01,  1.8279e+00],\n",
      "        [-3.9641e-01, -3.7558e-01],\n",
      "        [ 5.7170e-01,  1.9457e-01],\n",
      "        [ 3.4858e-03,  1.3547e+00],\n",
      "        [ 1.4152e+00, -6.3738e-01],\n",
      "        [-1.4249e-01,  1.3787e+00],\n",
      "        [-5.4083e-02,  2.5191e-01],\n",
      "        [-1.1419e+00, -9.8749e-01],\n",
      "        [-1.6371e+00, -4.0595e-01],\n",
      "        [-2.4957e-01,  6.8654e-01],\n",
      "        [ 6.1754e-02,  3.1100e-01],\n",
      "        [-3.5527e-01, -1.3406e+00],\n",
      "        [-7.6750e-01,  4.2722e-01],\n",
      "        [-1.5709e-01,  6.7381e-01],\n",
      "        [-2.7667e-01, -6.7152e-02],\n",
      "        [ 1.7213e+00,  4.4028e-01],\n",
      "        [-4.7053e-01, -4.3935e-03],\n",
      "        [-1.1103e+00, -2.9982e-01],\n",
      "        [ 1.1756e+00, -8.0845e-01]]) tensor([[ 3.5265],\n",
      "        [ 7.8420],\n",
      "        [-3.2572],\n",
      "        [ 5.3035],\n",
      "        [ 1.2292],\n",
      "        [-0.1417],\n",
      "        [ 1.9865],\n",
      "        [ 7.1063],\n",
      "        [ 5.9118],\n",
      "        [ 9.0270],\n",
      "        [ 6.8368],\n",
      "        [ 3.9045],\n",
      "        [ 3.9776],\n",
      "        [-3.0434],\n",
      "        [ 4.6935],\n",
      "        [ 4.6402],\n",
      "        [-0.1037],\n",
      "        [ 9.1794],\n",
      "        [-0.7574],\n",
      "        [ 3.1779],\n",
      "        [ 5.3210],\n",
      "        [ 2.2263],\n",
      "        [ 1.4522],\n",
      "        [ 3.2010],\n",
      "        [ 8.0961],\n",
      "        [ 1.2278],\n",
      "        [ 1.7205],\n",
      "        [ 3.9080],\n",
      "        [ 5.9926],\n",
      "        [ 3.3418],\n",
      "        [ 2.9361],\n",
      "        [ 9.3225]])\n"
     ]
    }
   ],
   "source": [
    "for data, label in train_dataloader:\n",
    "    print(data, label)\n",
    "    break"
   ]
  },
  {
   "cell_type": "code",
   "execution_count": 10,
   "id": "armed-religion",
   "metadata": {},
   "outputs": [],
   "source": [
    "# we before training would initialize the model\n",
    "w = torch.normal(0,0.1, (2,1), requires_grad = True)\n",
    "b = torch.zeros(1,requires_grad=True)"
   ]
  },
  {
   "cell_type": "code",
   "execution_count": 11,
   "id": "digital-command",
   "metadata": {},
   "outputs": [],
   "source": [
    "# define the model\n",
    "\n",
    "def linreg(X,w,b):\n",
    "    return torch.matmul(X, w) + b\n",
    "    "
   ]
  },
  {
   "cell_type": "code",
   "execution_count": 12,
   "id": "minus-silence",
   "metadata": {},
   "outputs": [],
   "source": [
    "#loss function\n",
    "\n",
    "def squared_loss(y_hat, y):\n",
    "    return (y_hat - ( y.reshape(y_hat.shape)**2))/2"
   ]
  },
  {
   "cell_type": "code",
   "execution_count": 13,
   "id": "generic-patch",
   "metadata": {},
   "outputs": [],
   "source": [
    "def sgd(params, lr, batch_size):\n",
    "    with torch.no_grad():\n",
    "        for param in params:\n",
    "            param -= lr * param.grad/ batch_size\n",
    "            param.grad.zero_()"
   ]
  },
  {
   "cell_type": "code",
   "execution_count": 14,
   "id": "divided-adventure",
   "metadata": {},
   "outputs": [],
   "source": [
    "lr = 0.03\n",
    "num_epochs =100\n",
    "batch_size=32\n",
    "   "
   ]
  },
  {
   "cell_type": "code",
   "execution_count": 15,
   "id": "extra-emphasis",
   "metadata": {},
   "outputs": [
    {
     "name": "stdout",
     "output_type": "stream",
     "text": [
      "Loss for current epoch  0 : tensor(-17.3999)\n",
      "Loss for current epoch  1 : tensor(-17.6343)\n",
      "Loss for current epoch  2 : tensor(-17.8688)\n",
      "Loss for current epoch  3 : tensor(-18.1033)\n",
      "Loss for current epoch  4 : tensor(-18.3377)\n",
      "Loss for current epoch  5 : tensor(-18.5722)\n",
      "Loss for current epoch  6 : tensor(-18.8067)\n",
      "Loss for current epoch  7 : tensor(-19.0411)\n",
      "Loss for current epoch  8 : tensor(-19.2756)\n",
      "Loss for current epoch  9 : tensor(-19.5101)\n",
      "Loss for current epoch  10 : tensor(-19.7445)\n",
      "Loss for current epoch  11 : tensor(-19.9790)\n",
      "Loss for current epoch  12 : tensor(-20.2134)\n",
      "Loss for current epoch  13 : tensor(-20.4479)\n",
      "Loss for current epoch  14 : tensor(-20.6824)\n",
      "Loss for current epoch  15 : tensor(-20.9168)\n",
      "Loss for current epoch  16 : tensor(-21.1513)\n",
      "Loss for current epoch  17 : tensor(-21.3858)\n",
      "Loss for current epoch  18 : tensor(-21.6202)\n",
      "Loss for current epoch  19 : tensor(-21.8547)\n",
      "Loss for current epoch  20 : tensor(-22.0892)\n",
      "Loss for current epoch  21 : tensor(-22.3236)\n",
      "Loss for current epoch  22 : tensor(-22.5581)\n",
      "Loss for current epoch  23 : tensor(-22.7926)\n",
      "Loss for current epoch  24 : tensor(-23.0270)\n",
      "Loss for current epoch  25 : tensor(-23.2615)\n",
      "Loss for current epoch  26 : tensor(-23.4960)\n",
      "Loss for current epoch  27 : tensor(-23.7304)\n",
      "Loss for current epoch  28 : tensor(-23.9649)\n",
      "Loss for current epoch  29 : tensor(-24.1994)\n",
      "Loss for current epoch  30 : tensor(-24.4339)\n",
      "Loss for current epoch  31 : tensor(-24.6683)\n",
      "Loss for current epoch  32 : tensor(-24.9028)\n",
      "Loss for current epoch  33 : tensor(-25.1373)\n",
      "Loss for current epoch  34 : tensor(-25.3717)\n",
      "Loss for current epoch  35 : tensor(-25.6062)\n",
      "Loss for current epoch  36 : tensor(-25.8406)\n",
      "Loss for current epoch  37 : tensor(-26.0751)\n",
      "Loss for current epoch  38 : tensor(-26.3095)\n",
      "Loss for current epoch  39 : tensor(-26.5440)\n",
      "Loss for current epoch  40 : tensor(-26.7784)\n",
      "Loss for current epoch  41 : tensor(-27.0129)\n",
      "Loss for current epoch  42 : tensor(-27.2474)\n",
      "Loss for current epoch  43 : tensor(-27.4818)\n",
      "Loss for current epoch  44 : tensor(-27.7163)\n",
      "Loss for current epoch  45 : tensor(-27.9507)\n",
      "Loss for current epoch  46 : tensor(-28.1852)\n",
      "Loss for current epoch  47 : tensor(-28.4196)\n",
      "Loss for current epoch  48 : tensor(-28.6541)\n",
      "Loss for current epoch  49 : tensor(-28.8885)\n",
      "Loss for current epoch  50 : tensor(-29.1230)\n",
      "Loss for current epoch  51 : tensor(-29.3574)\n",
      "Loss for current epoch  52 : tensor(-29.5919)\n",
      "Loss for current epoch  53 : tensor(-29.8264)\n",
      "Loss for current epoch  54 : tensor(-30.0608)\n",
      "Loss for current epoch  55 : tensor(-30.2953)\n",
      "Loss for current epoch  56 : tensor(-30.5297)\n",
      "Loss for current epoch  57 : tensor(-30.7642)\n",
      "Loss for current epoch  58 : tensor(-30.9986)\n",
      "Loss for current epoch  59 : tensor(-31.2331)\n",
      "Loss for current epoch  60 : tensor(-31.4675)\n",
      "Loss for current epoch  61 : tensor(-31.7020)\n",
      "Loss for current epoch  62 : tensor(-31.9364)\n",
      "Loss for current epoch  63 : tensor(-32.1709)\n",
      "Loss for current epoch  64 : tensor(-32.4053)\n",
      "Loss for current epoch  65 : tensor(-32.6398)\n",
      "Loss for current epoch  66 : tensor(-32.8743)\n",
      "Loss for current epoch  67 : tensor(-33.1087)\n",
      "Loss for current epoch  68 : tensor(-33.3432)\n",
      "Loss for current epoch  69 : tensor(-33.5776)\n",
      "Loss for current epoch  70 : tensor(-33.8121)\n",
      "Loss for current epoch  71 : tensor(-34.0465)\n",
      "Loss for current epoch  72 : tensor(-34.2810)\n",
      "Loss for current epoch  73 : tensor(-34.5154)\n",
      "Loss for current epoch  74 : tensor(-34.7499)\n",
      "Loss for current epoch  75 : tensor(-34.9844)\n",
      "Loss for current epoch  76 : tensor(-35.2188)\n",
      "Loss for current epoch  77 : tensor(-35.4533)\n",
      "Loss for current epoch  78 : tensor(-35.6877)\n",
      "Loss for current epoch  79 : tensor(-35.9222)\n",
      "Loss for current epoch  80 : tensor(-36.1566)\n",
      "Loss for current epoch  81 : tensor(-36.3911)\n",
      "Loss for current epoch  82 : tensor(-36.6255)\n",
      "Loss for current epoch  83 : tensor(-36.8600)\n",
      "Loss for current epoch  84 : tensor(-37.0944)\n",
      "Loss for current epoch  85 : tensor(-37.3289)\n",
      "Loss for current epoch  86 : tensor(-37.5634)\n",
      "Loss for current epoch  87 : tensor(-37.7978)\n",
      "Loss for current epoch  88 : tensor(-38.0323)\n",
      "Loss for current epoch  89 : tensor(-38.2667)\n",
      "Loss for current epoch  90 : tensor(-38.5012)\n",
      "Loss for current epoch  91 : tensor(-38.7356)\n",
      "Loss for current epoch  92 : tensor(-38.9701)\n",
      "Loss for current epoch  93 : tensor(-39.2045)\n",
      "Loss for current epoch  94 : tensor(-39.4390)\n",
      "Loss for current epoch  95 : tensor(-39.6734)\n",
      "Loss for current epoch  96 : tensor(-39.9079)\n",
      "Loss for current epoch  97 : tensor(-40.1424)\n",
      "Loss for current epoch  98 : tensor(-40.3768)\n",
      "Loss for current epoch  99 : tensor(-40.6113)\n"
     ]
    }
   ],
   "source": [
    "# training loop\n",
    "for epoch in range(num_epochs):\n",
    "    train_dataloader= read_iter(batch_size, features, labels)\n",
    "    for X, y in train_dataloader:\n",
    "        l = squared_loss(linreg(X,w,b), y)\n",
    "        l.sum().backward()\n",
    "        sgd([w,b],lr,batch_size)\n",
    "        \n",
    "    \n",
    "    with torch.no_grad():\n",
    "        train_l = squared_loss(linreg(features, w, b), labels)\n",
    "        print(\"Loss for current epoch \", epoch, \":\", train_l.mean())\n",
    "#         print(\"the value of w: \", w, \" The value of b: \", b)\n",
    "        "
   ]
  },
  {
   "cell_type": "code",
   "execution_count": 16,
   "id": "micro-psychiatry",
   "metadata": {},
   "outputs": [
    {
     "data": {
      "text/plain": [
       "(tensor([[-0.8930],\n",
       "         [-0.2105]], requires_grad=True),\n",
       " tensor([ 2.0000, -3.4000]))"
      ]
     },
     "execution_count": 16,
     "metadata": {},
     "output_type": "execute_result"
    }
   ],
   "source": [
    "w, torch.tensor([2, -3.4])"
   ]
  },
  {
   "cell_type": "code",
   "execution_count": 17,
   "id": "forbidden-warren",
   "metadata": {
    "scrolled": true
   },
   "outputs": [
    {
     "data": {
      "text/plain": [
       "[<matplotlib.lines.Line2D at 0x1b3541c62e0>,\n",
       " <matplotlib.lines.Line2D at 0x1b3541c6340>]"
      ]
     },
     "execution_count": 17,
     "metadata": {},
     "output_type": "execute_result"
    },
    {
     "data": {
      "image/png": "[encoded data removed]",
      "text/plain": [
       "<Figure size 432x288 with 1 Axes>"
      ]
     },
     "metadata": {
      "needs_background": "light"
     },
     "output_type": "display_data"
    }
   ],
   "source": [
    "plt.plot(features.detach(), linreg(features,w,b).detach(), 'ro')"
   ]
  },
  {
   "cell_type": "markdown",
   "id": "preliminary-invalid",
   "metadata": {},
   "source": [
    "Exercises\n",
    "1. What would happen if we were to initialize the weights to zero. Would the algorithm still\n",
    "work?\n",
    "2. Assume that you are Georg Simon Ohm48 trying to come up with a model between voltage\n",
    "and current. Can you use auto differentiation to learn the parameters of your model?\n",
    "3. Can you use Planckʼs Law49 to determine the temperature of an object using spectral energy\n",
    "density?\n",
    "4. What are the problems you might encounter if you wanted to compute the second deriva\u0002tives? How would you fix them?\n",
    "5. Why is the reshape function needed in the squared_loss function?\n",
    "6. Experiment using different learning rates to find out how fast the loss function value drops.\n",
    "7. If the number of examples cannot be divided by the batch size, what happens to the\n",
    "data_iter functionʼs behavior?"
   ]
  },
  {
   "cell_type": "code",
   "execution_count": 18,
   "id": "impressed-female",
   "metadata": {},
   "outputs": [
    {
     "data": {
      "text/plain": [
       "(tensor([0., 0.]), tensor([-46.8739], requires_grad=True))"
      ]
     },
     "execution_count": 18,
     "metadata": {},
     "output_type": "execute_result"
    }
   ],
   "source": [
    "#1\n",
    "\n",
    "w = torch.zeros(2, dtype=torch.float32)\n",
    "\n",
    "w = torch.tensor([0.,0.])\n",
    "w, b"
   ]
  },
  {
   "cell_type": "code",
   "execution_count": 19,
   "id": "honest-revelation",
   "metadata": {},
   "outputs": [
    {
     "name": "stdout",
     "output_type": "stream",
     "text": [
      "None tensor([16.])\n",
      "unsupported operand type(s) for *: 'float' and 'NoneType'\n"
     ]
    }
   ],
   "source": [
    "try:\n",
    "    for epoch in range(num_epochs):\n",
    "        for X, y in read_iter(batch_size, features, labels):\n",
    "            l = squared_loss(linreg(X,w,b), y)\n",
    "            l.sum().backward()\n",
    "\n",
    "            print(w.grad, b.grad)\n",
    "\n",
    "            sgd([w,b], lr, batch_size)\n",
    "\n",
    "        with torch.no_grad():\n",
    "            train_l = squared_loss(linreg(features, w, b), labels)\n",
    "            print(\"Loss for current epoch \", epoch, \":\", train_l.mean())\n",
    "\n",
    "except Exception as e:\n",
    "    print(e)\n",
    "        \n",
    "        "
   ]
  },
  {
   "cell_type": "code",
   "execution_count": 20,
   "id": "acknowledged-curtis",
   "metadata": {},
   "outputs": [],
   "source": [
    "#2 \n",
    "\n",
    "# lets first get the values\n",
    "\n",
    "def ohmic_values(n, r = torch.tensor([5.])):\n",
    "    # V = IR\n",
    "    \n",
    "    I = torch.normal(0, 1,(n,len(r)))\n",
    "    \n",
    "    V= torch.matmul(I, r)\n",
    "    \n",
    "    return I, V\n",
    "    \n",
    "    "
   ]
  },
  {
   "cell_type": "code",
   "execution_count": 21,
   "id": "norman-veteran",
   "metadata": {},
   "outputs": [],
   "source": [
    "features, labels = ohmic_values(n=1000)"
   ]
  },
  {
   "cell_type": "code",
   "execution_count": 22,
   "id": "contained-austin",
   "metadata": {},
   "outputs": [
    {
     "data": {
      "text/plain": [
       "(torch.Tensor, torch.Tensor)"
      ]
     },
     "execution_count": 22,
     "metadata": {},
     "output_type": "execute_result"
    }
   ],
   "source": [
    "type(features), type(labels)"
   ]
  },
  {
   "cell_type": "code",
   "execution_count": 23,
   "id": "hawaiian-canada",
   "metadata": {},
   "outputs": [
    {
     "data": {
      "text/plain": [
       "[<matplotlib.lines.Line2D at 0x1b354250c40>]"
      ]
     },
     "execution_count": 23,
     "metadata": {},
     "output_type": "execute_result"
    },
    {
     "data": {
      "image/png": "[encoded data removed]",
      "text/plain": [
       "<Figure size 432x288 with 1 Axes>"
      ]
     },
     "metadata": {
      "needs_background": "light"
     },
     "output_type": "display_data"
    }
   ],
   "source": [
    "plt.plot(features.detach(), labels.detach(), \"bo\")"
   ]
  },
  {
   "cell_type": "code",
   "execution_count": 24,
   "id": "worldwide-shoulder",
   "metadata": {},
   "outputs": [],
   "source": [
    "# initialising w and b\n",
    "\n",
    "w =  torch.tensor([2.], requires_grad=True)\n",
    "b = torch.tensor([1.], requires_grad=True)"
   ]
  },
  {
   "cell_type": "code",
   "execution_count": 25,
   "id": "southern-science",
   "metadata": {},
   "outputs": [
    {
     "data": {
      "text/plain": [
       "(torch.Size([1000, 1]), torch.Size([1]))"
      ]
     },
     "execution_count": 25,
     "metadata": {},
     "output_type": "execute_result"
    }
   ],
   "source": [
    "features.shape, w.shape"
   ]
  },
  {
   "cell_type": "code",
   "execution_count": 26,
   "id": "international-channel",
   "metadata": {},
   "outputs": [
    {
     "data": {
      "text/plain": [
       "tensor([-1.0205,  1.9392,  0.6080,  2.2700,  3.1925], grad_fn=<SliceBackward>)"
      ]
     },
     "execution_count": 26,
     "metadata": {},
     "output_type": "execute_result"
    }
   ],
   "source": [
    "# now lets get the model \n",
    "\n",
    "def linreg_ohm(X, w, b):\n",
    "    return torch.matmul(X,w) + b\n",
    "\n",
    "linreg_ohm(features, w, b)[:5]\n",
    "    "
   ]
  },
  {
   "cell_type": "code",
   "execution_count": 27,
   "id": "different-salvation",
   "metadata": {},
   "outputs": [],
   "source": [
    "def training_loop(num_epochs=3, loss=squared_loss, sgd=sgd, data_iter=read_iter, net=linreg, lr=lr, batch_size=batch_size, w=w, b=b, features=features, display=True, labels=labels):\n",
    "    for epoch in range(num_epochs):\n",
    "        for X, y in data_iter(batch_size,features, labels):\n",
    "            l = loss(net(X,w,b), y)\n",
    "            \n",
    "            l.sum().backward()\n",
    "            \n",
    "            sgd([w,b], lr, batch_size)\n",
    "        \n",
    "        if(display):\n",
    "            with torch.no_grad():\n",
    "                train_l = loss(net(features, w, b), labels)\n",
    "            \n",
    "                print(f\"for epoch: {epoch}, the loss: {train_l.mean()}\")\n",
    "            \n",
    "        "
   ]
  },
  {
   "cell_type": "code",
   "execution_count": 28,
   "id": "scientific-diagnosis",
   "metadata": {},
   "outputs": [
    {
     "data": {
      "text/plain": [
       "[<matplotlib.lines.Line2D at 0x1b354196130>]"
      ]
     },
     "execution_count": 28,
     "metadata": {},
     "output_type": "execute_result"
    },
    {
     "data": {
      "image/png": "[encoded data removed]",
      "text/plain": [
       "<Figure size 432x288 with 1 Axes>"
      ]
     },
     "metadata": {
      "needs_background": "light"
     },
     "output_type": "display_data"
    }
   ],
   "source": [
    "plt.plot(features.detach(), linreg_ohm(features, w, b).detach(), \"go\")"
   ]
  },
  {
   "cell_type": "code",
   "execution_count": 29,
   "id": "subject-purpose",
   "metadata": {},
   "outputs": [
    {
     "name": "stdout",
     "output_type": "stream",
     "text": [
      "for epoch: 0, the loss: -11.34189510345459\n",
      "for epoch: 1, the loss: -11.576390266418457\n",
      "for epoch: 2, the loss: -11.81088638305664\n"
     ]
    }
   ],
   "source": [
    "training_loop(net=linreg_ohm )"
   ]
  },
  {
   "cell_type": "code",
   "execution_count": 30,
   "id": "improving-cargo",
   "metadata": {},
   "outputs": [
    {
     "data": {
      "text/plain": [
       "(tensor([1.9680], requires_grad=True), tensor([-0.4062], requires_grad=True))"
      ]
     },
     "execution_count": 30,
     "metadata": {},
     "output_type": "execute_result"
    }
   ],
   "source": [
    "w, b"
   ]
  },
  {
   "cell_type": "code",
   "execution_count": 31,
   "id": "social-webmaster",
   "metadata": {},
   "outputs": [],
   "source": [
    "training_loop(net=linreg_ohm, num_epochs=400, display=False)"
   ]
  },
  {
   "cell_type": "code",
   "execution_count": 32,
   "id": "cross-cement",
   "metadata": {},
   "outputs": [
    {
     "data": {
      "text/plain": [
       "(tensor([-2.2942], requires_grad=True),\n",
       " tensor([-187.9004], requires_grad=True))"
      ]
     },
     "execution_count": 32,
     "metadata": {},
     "output_type": "execute_result"
    }
   ],
   "source": [
    "w, b"
   ]
  },
  {
   "cell_type": "code",
   "execution_count": 33,
   "id": "intensive-draft",
   "metadata": {},
   "outputs": [
    {
     "data": {
      "text/plain": [
       "[<matplotlib.lines.Line2D at 0x1b354336b80>]"
      ]
     },
     "execution_count": 33,
     "metadata": {},
     "output_type": "execute_result"
    },
    {
     "data": {
      "image/png": "[encoded data removed]",
      "text/plain": [
       "<Figure size 432x288 with 1 Axes>"
      ]
     },
     "metadata": {
      "needs_background": "light"
     },
     "output_type": "display_data"
    }
   ],
   "source": [
    "plt.plot(features.detach(), linreg_ohm(features, w, b).detach(), \"go\")"
   ]
  },
  {
   "cell_type": "markdown",
   "id": "floating-lightning",
   "metadata": {},
   "source": [
    "#3\n",
    "\n",
    "formula for spectral density:\n",
    "\n",
    "![](spectral_density.png)"
   ]
  },
  {
   "cell_type": "code",
   "execution_count": 36,
   "id": "critical-tunisia",
   "metadata": {},
   "outputs": [],
   "source": [
    "def spectral_density_formula(t, l=1):\n",
    "    # lets put l =1\n",
    "    h = 6.626 * (10 ** -34)\n",
    "    c = 3 * (10 ** 8)\n",
    "    l = l\n",
    "    k = 1.38064852 * (10 ** -23)\n",
    "    p =  (2 * h * (c**2))/(l ** 5)\n",
    "    d = (h * c/(l * k * t))\n",
    "    \n",
    "    return p/(np.exp(d)-1)"
   ]
  },
  {
   "cell_type": "code",
   "execution_count": 37,
   "id": "whole-gallery",
   "metadata": {},
   "outputs": [
    {
     "data": {
      "text/plain": [
       "8.2832947943081e-13"
      ]
     },
     "execution_count": 37,
     "metadata": {},
     "output_type": "execute_result"
    }
   ],
   "source": [
    "spectral_density_formula(100)"
   ]
  },
  {
   "cell_type": "code",
   "execution_count": 49,
   "id": "hollow-devil",
   "metadata": {},
   "outputs": [],
   "source": [
    "def make_dataset(n=100):\n",
    "    X = torch.arange(100)\n",
    "    y = []\n",
    "    for i in X.detach():\n",
    "        y.append(spectral_density_formula(i))\n",
    "    \n",
    "    return X, torch.tensor(y)"
   ]
  },
  {
   "cell_type": "code",
   "execution_count": 50,
   "id": "spoken-handle",
   "metadata": {},
   "outputs": [],
   "source": [
    "features, labels = make_dataset()"
   ]
  },
  {
   "cell_type": "code",
   "execution_count": 51,
   "id": "incorrect-beach",
   "metadata": {},
   "outputs": [
    {
     "data": {
      "text/plain": [
       "[<matplotlib.lines.Line2D at 0x1b35a6360d0>]"
      ]
     },
     "execution_count": 51,
     "metadata": {},
     "output_type": "execute_result"
    },
    {
     "data": {
      "image/png": "[encoded data removed]",
      "text/plain": [
       "<Figure size 432x288 with 1 Axes>"
      ]
     },
     "metadata": {
      "needs_background": "light"
     },
     "output_type": "display_data"
    }
   ],
   "source": [
    "plt.plot(features, labels, \"bo\")"
   ]
  },
  {
   "cell_type": "code",
   "execution_count": null,
   "id": "moral-swimming",
   "metadata": {},
   "outputs": [],
   "source": [
    "w = "
   ]
  }
 ],
 "metadata": {
  "kernelspec": {
   "display_name": "Python 3",
   "language": "python",
   "name": "python3"
  },
  "language_info": {
   "codemirror_mode": {
    "name": "ipython",
    "version": 3
   },
   "file_extension": ".py",
   "mimetype": "text/x-python",
   "name": "python",
   "nbconvert_exporter": "python",
   "pygments_lexer": "ipython3",
   "version": "3.9.5"
  }
 },
 "nbformat": 4,
 "nbformat_minor": 5
}
