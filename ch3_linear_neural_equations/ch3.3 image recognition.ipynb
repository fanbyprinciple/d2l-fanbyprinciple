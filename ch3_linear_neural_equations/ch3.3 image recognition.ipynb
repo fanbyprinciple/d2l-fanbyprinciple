{
 "cells": [
  {
   "cell_type": "markdown",
   "id": "familiar-malawi",
   "metadata": {},
   "source": [
    "## Trying softmax"
   ]
  },
  {
   "cell_type": "code",
   "execution_count": 2,
   "id": "metropolitan-generator",
   "metadata": {},
   "outputs": [],
   "source": [
    "import torch\n",
    "import torchvision\n",
    "from torch.utils import data\n",
    "from torchvision import transforms"
   ]
  },
  {
   "cell_type": "code",
   "execution_count": 3,
   "id": "cardiac-horizontal",
   "metadata": {},
   "outputs": [
    {
     "data": {
      "text/plain": [
       "(tensor([[-0.1362,  0.0760,  0.0305]]), tensor(-0.1362), tensor(0.8726))"
      ]
     },
     "execution_count": 3,
     "metadata": {},
     "output_type": "execute_result"
    }
   ],
   "source": [
    "# let take y\n",
    "\n",
    "y = torch.normal(0,0.1,size=(1,3))\n",
    "num = torch.exp(y[0][0])\n",
    "y, y[0][0], num"
   ]
  },
  {
   "cell_type": "code",
   "execution_count": 4,
   "id": "stuffed-python",
   "metadata": {},
   "outputs": [
    {
     "data": {
      "text/plain": [
       "tensor([2.9825])"
      ]
     },
     "execution_count": 4,
     "metadata": {},
     "output_type": "execute_result"
    }
   ],
   "source": [
    "den = torch.exp(y).sum(dim=1)\n",
    "den"
   ]
  },
  {
   "cell_type": "code",
   "execution_count": 5,
   "id": "configured-spare",
   "metadata": {},
   "outputs": [
    {
     "data": {
      "text/plain": [
       "tensor([0.2926])"
      ]
     },
     "execution_count": 5,
     "metadata": {},
     "output_type": "execute_result"
    }
   ],
   "source": [
    "softmax_value = num/den\n",
    "softmax_value"
   ]
  },
  {
   "cell_type": "markdown",
   "id": "diverse-greenhouse",
   "metadata": {},
   "source": [
    "### Exercises\n",
    "\n",
    "1. We can explore the connection between exponential families and the softmax in some more\n",
    "depth.\n",
    "    1. Compute the second derivative of the cross-entropy loss l(y, yˆ) for the softmax.\n",
    "\n",
    "    * after applying quotient rule for cross entropy loss the anaswer comes out to be zero.\n",
    "\n",
    "    2. Compute the variance of the distribution given by softmax(o) and show that it matches\n",
    "the second derivative computed above.\n",
    "\n",
    "    * Its close to zero through experiments too. but why should this happen? is second derivative essentially same as variance?\n",
    "\n",
    "    ![](variance_of_softmax.png)\n",
    "\n",
    "2. Assume that we have three classes which occur with equal probability, i.e., the probability\n",
    "vector is 1/3\n",
    "    1. What is the problem if we try to design a binary code for it?\n",
    "\n",
    "    * We would need at least 2 bits, and 00,01, 10 would be used but not 11. ?\n",
    "\n",
    "    2. Can you design a better code? Hint: what happens if we try to encode two independent\n",
    "observations? What if we encode n observations jointly?\n",
    "\n",
    "    * we can do it through one hot encoding where the size of array would be the number of observations n\n",
    "\n",
    "3. Softmax is a misnomer for the mapping introduced above (but everyone in deep learning\n",
    "uses it). The real softmax is defined as RealSoftMax(a, b) = log(exp(a) + exp(b)).\n",
    "    1. Prove that RealSoftMax(a, b) > max(a, b).\n",
    "\n",
    "    \n",
    "    2. Prove that this holds for λ\n",
    "    −1RealSoftMax(λa, λb), provided that λ > 0.\n",
    "    3. Show that for λ → ∞ we have λ\n",
    "    −1RealSoftMax(λa, λb) → max(a, b).\n",
    "    4. What does the soft-min look like?\n",
    "    5. Extend this to more than two numbers"
   ]
  },
  {
   "cell_type": "markdown",
   "id": "moved-fellowship",
   "metadata": {},
   "source": [
    "### finding variance\n",
    "\n",
    "Find a mean of the set of data.\n",
    "Subtract each number from a mean.\n",
    "Square the result.\n",
    "Add the results together.\n",
    "Divide a result by the total number of numbers in the data set"
   ]
  },
  {
   "cell_type": "code",
   "execution_count": 6,
   "id": "meaning-brother",
   "metadata": {},
   "outputs": [
    {
     "data": {
      "text/plain": [
       "tensor([[0.2926, 0.3618, 0.3457]])"
      ]
     },
     "execution_count": 6,
     "metadata": {},
     "output_type": "execute_result"
    }
   ],
   "source": [
    "#1\n",
    "\n",
    "softmax_values = torch.exp(y)/ torch.exp(y).sum(dim=1)\n",
    "softmax_values"
   ]
  },
  {
   "cell_type": "code",
   "execution_count": 7,
   "id": "established-stamp",
   "metadata": {},
   "outputs": [
    {
     "data": {
      "text/plain": [
       "tensor(0.3333)"
      ]
     },
     "execution_count": 7,
     "metadata": {},
     "output_type": "execute_result"
    }
   ],
   "source": [
    "mean_softmax = softmax_values.sum() / softmax_values.shape[1]\n",
    "mean_softmax"
   ]
  },
  {
   "cell_type": "code",
   "execution_count": 8,
   "id": "radical-cricket",
   "metadata": {},
   "outputs": [
    {
     "data": {
      "text/plain": [
       "tensor(0.0009)"
      ]
     },
     "execution_count": 8,
     "metadata": {},
     "output_type": "execute_result"
    }
   ],
   "source": [
    "# subtracting each number from mean and squaring the result and summing and deviding by totak number \n",
    "((softmax_values - mean_softmax) **2).sum()/ softmax_values.shape[1]\n",
    "\n",
    "#its close to 0"
   ]
  },
  {
   "cell_type": "code",
   "execution_count": 9,
   "id": "nominated-lebanon",
   "metadata": {},
   "outputs": [],
   "source": [
    "#3\n",
    "\n",
    "def realSoftmax(a, b):\n",
    "    return torch.log(torch.exp(a) + torch.exp(b))"
   ]
  },
  {
   "cell_type": "code",
   "execution_count": 10,
   "id": "diverse-yugoslavia",
   "metadata": {},
   "outputs": [
    {
     "data": {
      "text/plain": [
       "(tensor([3]), tensor([3.3133]))"
      ]
     },
     "execution_count": 10,
     "metadata": {},
     "output_type": "execute_result"
    }
   ],
   "source": [
    "a = torch.tensor([2])\n",
    "b = torch.tensor([3])\n",
    "\n",
    "max(a,b), realSoftmax(a,b)"
   ]
  },
  {
   "cell_type": "code",
   "execution_count": 11,
   "id": "advance-vacuum",
   "metadata": {},
   "outputs": [
    {
     "data": {
      "text/plain": [
       "(tensor([5.7580]), tensor([3]))"
      ]
     },
     "execution_count": 11,
     "metadata": {},
     "output_type": "execute_result"
    }
   ],
   "source": [
    "l = torch.tensor([1.5])\n",
    "\n",
    "(l)** 0.5 * realSoftmax(l * a, l * b) , max(a, b)"
   ]
  },
  {
   "cell_type": "code",
   "execution_count": 12,
   "id": "ceramic-battery",
   "metadata": {},
   "outputs": [
    {
     "data": {
      "text/plain": [
       "(tensor([94.8685]), tensor([3]))"
      ]
     },
     "execution_count": 12,
     "metadata": {},
     "output_type": "execute_result"
    }
   ],
   "source": [
    "l = torch.tensor([10])\n",
    "\n",
    "(l)**0.5 * realSoftmax(l * a, l * b) , max(a, b)"
   ]
  },
  {
   "cell_type": "code",
   "execution_count": 13,
   "id": "multiple-aurora",
   "metadata": {},
   "outputs": [],
   "source": [
    "def softmin(a,b):\n",
    "    return torch.log(torch.exp(a) - torch.exp(b))"
   ]
  },
  {
   "cell_type": "code",
   "execution_count": 14,
   "id": "geographic-dynamics",
   "metadata": {},
   "outputs": [],
   "source": [
    "def realSoftmaxMore(a,b,c):\n",
    "    return torch.log(torch.exp(a) + torch.exp(b) + torch.exp(c))"
   ]
  },
  {
   "cell_type": "code",
   "execution_count": 15,
   "id": "seventh-happiness",
   "metadata": {},
   "outputs": [
    {
     "data": {
      "text/plain": [
       "(tensor([4.4076]), tensor([4]))"
      ]
     },
     "execution_count": 15,
     "metadata": {},
     "output_type": "execute_result"
    }
   ],
   "source": [
    "realSoftmaxMore(a,b,torch.tensor([4])), max(a,b, torch.tensor([4]))"
   ]
  },
  {
   "cell_type": "markdown",
   "id": "statutory-charity",
   "metadata": {},
   "source": [
    "# Image recognition"
   ]
  },
  {
   "cell_type": "code",
   "execution_count": 16,
   "id": "purple-apache",
   "metadata": {},
   "outputs": [],
   "source": [
    "my_transforms = transforms.ToTensor()"
   ]
  },
  {
   "cell_type": "code",
   "execution_count": 17,
   "id": "hundred-playlist",
   "metadata": {},
   "outputs": [],
   "source": [
    "train_dataset = torchvision.datasets.FashionMNIST(download=True, transform=my_transforms, train=True, root=\"data\")\n",
    "test_dataset = torchvision.datasets.FashionMNIST(download=True, transform=my_transforms, train=False, root=\"data\")"
   ]
  },
  {
   "cell_type": "code",
   "execution_count": 18,
   "id": "manual-diabetes",
   "metadata": {},
   "outputs": [
    {
     "data": {
      "text/plain": [
       "(60000, 10000)"
      ]
     },
     "execution_count": 18,
     "metadata": {},
     "output_type": "execute_result"
    }
   ],
   "source": [
    "len(train_dataset), len(test_dataset)"
   ]
  },
  {
   "cell_type": "code",
   "execution_count": 19,
   "id": "ancient-holiday",
   "metadata": {},
   "outputs": [],
   "source": [
    "X,y = train_dataset[0]"
   ]
  },
  {
   "cell_type": "code",
   "execution_count": 20,
   "id": "brave-narrative",
   "metadata": {},
   "outputs": [
    {
     "data": {
      "text/plain": [
       "(torch.Size([1, 28, 28]), 9)"
      ]
     },
     "execution_count": 20,
     "metadata": {},
     "output_type": "execute_result"
    }
   ],
   "source": [
    "X.shape, y"
   ]
  },
  {
   "cell_type": "code",
   "execution_count": 21,
   "id": "thorough-vegetarian",
   "metadata": {},
   "outputs": [],
   "source": [
    "def get_text_from_label(labels):\n",
    "    text_labels = [\n",
    "        't-shirt', 'trouser', 'pullover', 'dress', 'coat', 'sandal', 'shirt',\n",
    "        'sneaker', 'bag', 'ankle boot']\n",
    "\n",
    "    return [text_labels[int(i)] for i in labels]"
   ]
  },
  {
   "cell_type": "code",
   "execution_count": 22,
   "id": "amateur-store",
   "metadata": {},
   "outputs": [],
   "source": [
    "batch_size = 32\n",
    "train_dataloader = data.DataLoader(train_dataset, batch_size=batch_size, shuffle=True, num_workers=4)"
   ]
  },
  {
   "cell_type": "code",
   "execution_count": 23,
   "id": "prospective-honolulu",
   "metadata": {},
   "outputs": [
    {
     "name": "stdout",
     "output_type": "stream",
     "text": [
      "['ankle boot']\n"
     ]
    },
    {
     "data": {
      "text/plain": [
       "(<matplotlib.image.AxesImage at 0x21abff5bd60>, None)"
      ]
     },
     "execution_count": 23,
     "metadata": {},
     "output_type": "execute_result"
    },
    {
     "data": {
      "image/png": "[encoded data removed]",
      "text/plain": [
       "<Figure size 432x288 with 1 Axes>"
      ]
     },
     "metadata": {
      "needs_background": "light"
     },
     "output_type": "display_data"
    }
   ],
   "source": [
    "import matplotlib.pyplot as plt\n",
    "plt.imshow(X.permute(1,2,0)), print(get_text_from_label([y]))"
   ]
  },
  {
   "cell_type": "code",
   "execution_count": 24,
   "id": "selected-shelf",
   "metadata": {},
   "outputs": [
    {
     "name": "stdout",
     "output_type": "stream",
     "text": [
      "Wall time: 3.36 s\n"
     ]
    }
   ],
   "source": [
    "\n",
    "%%time\n",
    "\n",
    "# the time it takes to read the data\n",
    "\n",
    "for X,y in train_dataloader:\n",
    "    continue"
   ]
  },
  {
   "cell_type": "code",
   "execution_count": 25,
   "id": "interested-hours",
   "metadata": {},
   "outputs": [],
   "source": [
    "test_dataloader= data.DataLoader(test_dataset,batch_size=32, shuffle=False, num_workers=4)"
   ]
  },
  {
   "cell_type": "markdown",
   "id": "third-willow",
   "metadata": {},
   "source": [
    "Exercises\n",
    "1. Does reducing the batch_size (for instance, to 1) affect the reading performance?\n",
    "\n",
    "increases\n",
    "\n",
    "2. The data iterator performance is important. Do you think the current implementation is fast\n",
    "enough? Explore various options to improve it.\n",
    "\n",
    "https://stackoverflow.com/questions/61393613/pytorch-speed-up-data-loading\n",
    "\n",
    "3. Check out the frameworkʼs online API documentation. Which other datasets are available?"
   ]
  },
  {
   "cell_type": "code",
   "execution_count": 26,
   "id": "loving-prescription",
   "metadata": {},
   "outputs": [],
   "source": [
    "#1\n",
    "\n",
    "# train_dataloader= data.DataLoader(train_dataset, batch_size=1, shuffle=True, num_workers=4)"
   ]
  },
  {
   "cell_type": "code",
   "execution_count": 27,
   "id": "raising-quarterly",
   "metadata": {},
   "outputs": [
    {
     "name": "stdout",
     "output_type": "stream",
     "text": [
      "Wall time: 3.24 s\n"
     ]
    }
   ],
   "source": [
    "%%time\n",
    "\n",
    "for X, y in train_dataloader:\n",
    "    continue"
   ]
  },
  {
   "cell_type": "code",
   "execution_count": 28,
   "id": "iraqi-retro",
   "metadata": {},
   "outputs": [
    {
     "name": "stdout",
     "output_type": "stream",
     "text": [
      "['CIFAR10', 'CIFAR100', 'Cityscapes', 'CocoCaptions', 'CocoDetection', 'DatasetFolder', 'EMNIST', 'FakeData', 'FashionMNIST', 'Flickr30k', 'Flickr8k', 'ImageFolder', 'KMNIST', 'LSUN', 'LSUNClass', 'MNIST', 'Omniglot', 'PhotoTour', 'SBU', 'SEMEION', 'STL10', 'SVHN', 'VOCDetection', 'VOCSegmentation', '__all__', '__builtins__', '__cached__', '__doc__', '__file__', '__loader__', '__name__', '__package__', '__path__', '__spec__', 'cifar', 'cityscapes', 'coco', 'fakedata', 'flickr', 'folder', 'lsun', 'mnist', 'omniglot', 'phototour', 'sbu', 'semeion', 'stl10', 'svhn', 'utils', 'voc']\n"
     ]
    }
   ],
   "source": [
    "#3\n",
    "\n",
    "print(dir(torchvision.datasets))"
   ]
  },
  {
   "cell_type": "markdown",
   "id": "brief-tension",
   "metadata": {},
   "source": [
    "# Implementing softmax from scratch"
   ]
  },
  {
   "cell_type": "code",
   "execution_count": 80,
   "id": "signed-country",
   "metadata": {},
   "outputs": [],
   "source": [
    "#implementing the parameters\n",
    "\n",
    "num_inputs = 784\n",
    "num_outputs = 10\n",
    "\n",
    "W = torch.normal(0, 0.1, size=(num_inputs, num_outputs), requires_grad=True)\n",
    "b = torch.zeros(num_outputs, requires_grad=True)"
   ]
  },
  {
   "cell_type": "code",
   "execution_count": 81,
   "id": "aggressive-advantage",
   "metadata": {},
   "outputs": [
    {
     "data": {
      "text/plain": [
       "(tensor([[5., 7., 9.]]),\n",
       " tensor([[ 6.],\n",
       "         [15.]]))"
      ]
     },
     "execution_count": 81,
     "metadata": {},
     "output_type": "execute_result"
    }
   ],
   "source": [
    "# sum\n",
    "X = torch.tensor([[1.0,2.0,3.0], [4.0,5.0,6.0]])\n",
    "X.sum(axis=0, keepdim=True), X.sum(axis=1, keepdim=True)"
   ]
  },
  {
   "cell_type": "code",
   "execution_count": 82,
   "id": "hundred-exhaust",
   "metadata": {},
   "outputs": [],
   "source": [
    "def softmax(X):\n",
    "    X_exp = torch.exp(X)\n",
    "    partition = X_exp.sum(dim=1, keepdim=True)\n",
    "    return X_exp/partition"
   ]
  },
  {
   "cell_type": "code",
   "execution_count": 83,
   "id": "amazing-snake",
   "metadata": {},
   "outputs": [
    {
     "data": {
      "text/plain": [
       "tensor([[0.0900, 0.2447, 0.6652],\n",
       "        [0.0900, 0.2447, 0.6652]])"
      ]
     },
     "execution_count": 83,
     "metadata": {},
     "output_type": "execute_result"
    }
   ],
   "source": [
    "softmax(X)"
   ]
  },
  {
   "cell_type": "code",
   "execution_count": 87,
   "id": "certain-marina",
   "metadata": {},
   "outputs": [
    {
     "data": {
      "text/plain": [
       "(tensor([[0.6799, 0.2480, 0.0721],\n",
       "         [0.1908, 0.5695, 0.2397],\n",
       "         [0.2253, 0.6532, 0.1215]]),\n",
       " tensor([1., 1., 1.]))"
      ]
     },
     "execution_count": 87,
     "metadata": {},
     "output_type": "execute_result"
    }
   ],
   "source": [
    "X = torch.normal(0,1,(3,3))\n",
    "X_prob = softmax(X)\n",
    "X_prob, X_prob.sum(dim=1)"
   ]
  },
  {
   "cell_type": "code",
   "execution_count": 88,
   "id": "cooperative-factory",
   "metadata": {},
   "outputs": [],
   "source": [
    "# defining the model\n",
    "\n",
    "def net(X):\n",
    "    return softmax(torch.matmul(X.reshape(-1, W.shape[0]), W) + b)"
   ]
  },
  {
   "cell_type": "code",
   "execution_count": 89,
   "id": "whole-blues",
   "metadata": {},
   "outputs": [],
   "source": [
    "# defining loss function\n",
    "\n",
    "y = [0,2,1]\n",
    "\n",
    "y_hat = softmax(X)"
   ]
  },
  {
   "cell_type": "code",
   "execution_count": 90,
   "id": "coated-burning",
   "metadata": {},
   "outputs": [
    {
     "data": {
      "text/plain": [
       "tensor([0.6799, 0.2397, 0.6532])"
      ]
     },
     "execution_count": 90,
     "metadata": {},
     "output_type": "execute_result"
    }
   ],
   "source": [
    "y_hat[[0,1,2], y] # we got the probability of true labels "
   ]
  },
  {
   "cell_type": "code",
   "execution_count": 91,
   "id": "challenging-advice",
   "metadata": {},
   "outputs": [],
   "source": [
    "def cross_entropy(y_hat, y):\n",
    "    return -torch.log(y_hat[range(len(y_hat)), y])"
   ]
  },
  {
   "cell_type": "code",
   "execution_count": 92,
   "id": "oriented-german",
   "metadata": {},
   "outputs": [
    {
     "data": {
      "text/plain": [
       "tensor([0.3858, 1.4285, 0.4258])"
      ]
     },
     "execution_count": 92,
     "metadata": {},
     "output_type": "execute_result"
    }
   ],
   "source": [
    "cross_entropy(y_hat, y)"
   ]
  },
  {
   "cell_type": "code",
   "execution_count": 95,
   "id": "explicit-digit",
   "metadata": {},
   "outputs": [],
   "source": [
    "y = torch.tensor(y)"
   ]
  },
  {
   "cell_type": "code",
   "execution_count": 93,
   "id": "public-lending",
   "metadata": {},
   "outputs": [],
   "source": [
    "# finding accuracy\n",
    "def accuracy(y_hat, y):\n",
    "    if len(y_hat.shape)>1 or y_hat.shape[1]>1:\n",
    "        y_hat = y_hat.argmax(axis=1)\n",
    "    \n",
    "    cmp = y_hat.type(y.dtype) == y\n",
    "#     print(cmp)\n",
    "    return float(cmp.type(y.dtype).sum())\n",
    "     "
   ]
  },
  {
   "cell_type": "code",
   "execution_count": 98,
   "id": "drawn-islam",
   "metadata": {},
   "outputs": [
    {
     "data": {
      "text/plain": [
       "2.0"
      ]
     },
     "execution_count": 98,
     "metadata": {},
     "output_type": "execute_result"
    }
   ],
   "source": [
    "accuracy(y_hat, y)"
   ]
  },
  {
   "cell_type": "code",
   "execution_count": 99,
   "id": "further-royalty",
   "metadata": {},
   "outputs": [
    {
     "data": {
      "text/plain": [
       "0.6666666666666666"
      ]
     },
     "execution_count": 99,
     "metadata": {},
     "output_type": "execute_result"
    }
   ],
   "source": [
    "accuracy(y_hat,y)/len(y)"
   ]
  },
  {
   "cell_type": "code",
   "execution_count": 100,
   "id": "effective-climate",
   "metadata": {},
   "outputs": [],
   "source": [
    "try:\n",
    "    a = Accumulator(2)\n",
    "except Exception as e:\n",
    "    print(e)"
   ]
  },
  {
   "cell_type": "code",
   "execution_count": 101,
   "id": "temporal-mitchell",
   "metadata": {},
   "outputs": [],
   "source": [
    "class Accumulator:\n",
    "    def __init__(self,n):\n",
    "        self.data = [0] * n\n",
    "        \n",
    "    def add(self, *args):\n",
    "        self.data = [a +float(b) for a, b in zip(self.data, args)]\n",
    "    \n",
    "    def reset(self):\n",
    "         self.data = [0.0] * len(self.data)\n",
    "            \n",
    "    def __getitem__(self,idx):\n",
    "        return self.data[idx]\n",
    "        \n",
    "        "
   ]
  },
  {
   "cell_type": "code",
   "execution_count": 105,
   "id": "functioning-bradford",
   "metadata": {},
   "outputs": [],
   "source": [
    "def evaluate_accuracy(net, data_iter):\n",
    "    if isinstance( net,torch.nn.Module):\n",
    "        net.eval()\n",
    "    \n",
    "    #metrics = []\n",
    "    metrics = Accumulator(2)\n",
    "    with torch.no_grad():\n",
    "        for X,y in data_iter:\n",
    "            metrics.add(accuracy(net(X), y), y.numel())\n",
    "    return metrics[0]/metrics[1]\n",
    "#             metrics.append([accuracy(net(X), y), y.numel()])\n",
    "        \n",
    "    \n",
    "#     return torch.tensor(metrics).sum(dim=0)[0]/torch.tensor(metrics).sum(dim=0)[1] \n",
    "            \n",
    "    "
   ]
  },
  {
   "cell_type": "code",
   "execution_count": 106,
   "id": "behind-variable",
   "metadata": {},
   "outputs": [
    {
     "name": "stdout",
     "output_type": "stream",
     "text": [
      "Wall time: 3.81 s\n"
     ]
    }
   ],
   "source": [
    "%%time\n",
    "metrics = evaluate_accuracy(net,train_dataloader )"
   ]
  },
  {
   "cell_type": "code",
   "execution_count": 107,
   "id": "differential-rubber",
   "metadata": {},
   "outputs": [
    {
     "data": {
      "text/plain": [
       "0.08065"
      ]
     },
     "execution_count": 107,
     "metadata": {},
     "output_type": "execute_result"
    }
   ],
   "source": [
    "metrics"
   ]
  },
  {
   "cell_type": "code",
   "execution_count": 108,
   "id": "associate-sussex",
   "metadata": {},
   "outputs": [
    {
     "data": {
      "text/plain": [
       "32"
      ]
     },
     "execution_count": 108,
     "metadata": {},
     "output_type": "execute_result"
    }
   ],
   "source": [
    "learning_rate=0.01\n",
    "batch_size"
   ]
  },
  {
   "cell_type": "code",
   "execution_count": 109,
   "id": "distributed-sustainability",
   "metadata": {},
   "outputs": [],
   "source": [
    "def sgd(params=[w,b], batch_size= batch_size, learning_rate=learning_rate):\n",
    "    with torch.no_grad():\n",
    "        for param in params:\n",
    "            param -= learning_rate * param / batch_size\n",
    "            param.grad.zero_()\n",
    "    "
   ]
  },
  {
   "cell_type": "code",
   "execution_count": 110,
   "id": "patent-pulse",
   "metadata": {},
   "outputs": [],
   "source": [
    "def train_epoch_ch3(net, train_iter, loss, updater):  #@save\n",
    "    \"\"\"The training loop defined in Chapter 3.\"\"\"\n",
    "    # Set the model to training mode\n",
    "    if isinstance(net, torch.nn.Module):\n",
    "        net.train()\n",
    "    # Sum of training loss, sum of training accuracy, no. of examples\n",
    "    metric = Accumulator(3)\n",
    "    for X, y in train_iter:\n",
    "        # Compute gradients and update parameters\n",
    "        y_hat = net(X)\n",
    "        l = loss(y_hat, y)\n",
    "        if isinstance(updater, torch.optim.Optimizer):\n",
    "            # Using PyTorch in-built optimizer & loss criterion\n",
    "            updater.zero_grad()\n",
    "            l.backward()\n",
    "            updater.step()\n",
    "            metric.add(float(l) * len(y), accuracy(y_hat, y), y.numel())\n",
    "        else:\n",
    "            # Using custom built optimizer & loss criterion\n",
    "            l.sum().backward()\n",
    "            updater(X.shape[0])\n",
    "            metric.add(float(l.sum()), accuracy(y_hat, y), y.numel())\n",
    "    # Return training loss and training accuracy\n",
    "    return metric[0] / metric[2], metric[1] / metric[2]"
   ]
  },
  {
   "cell_type": "code",
   "execution_count": 64,
   "id": "identified-palace",
   "metadata": {},
   "outputs": [],
   "source": [
    "## training\n",
    "\n",
    "def train_one_epoch(net=net, data_iter=train_dataloader, optimizer=sgd, loss=cross_entropy):\n",
    "    if isinstance(net, torch.nn.Module):\n",
    "        net.train()\n",
    "    \n",
    "    metrics = Accumulator(n=3)\n",
    "    \n",
    "    for X,y in data_iter:\n",
    "        y_hat = net(X)\n",
    "        l = loss(y_hat, y)\n",
    "        if(isinstance(optimizer, torch.nn.Module)):\n",
    "            optimizer.zero_grad()\n",
    "            l.backward()\n",
    "            optimizer.step()\n",
    "            metrics.add(float(l) * len(y), accuracy(y_hat, y), y.numel())\n",
    "        \n",
    "        else:\n",
    "            l.sum().backward()\n",
    "            optimizer()\n",
    "            metrics.add(float(l.sum()), accuracy(y_hat, y), y.numel())\n",
    "        \n",
    "    return metrics[0]/metrics[2], metrics[1]/metrics[2]\n",
    "    \n",
    "    \n",
    "    \n",
    "    \n"
   ]
  },
  {
   "cell_type": "code",
   "execution_count": 65,
   "id": "impressive-aspect",
   "metadata": {},
   "outputs": [
    {
     "data": {
      "text/plain": [
       "(2.9120535953521727, 0.10361666666666666)"
      ]
     },
     "execution_count": 65,
     "metadata": {},
     "output_type": "execute_result"
    }
   ],
   "source": [
    "train_one_epoch()"
   ]
  },
  {
   "cell_type": "code",
   "execution_count": 74,
   "id": "growing-zealand",
   "metadata": {},
   "outputs": [],
   "source": [
    "import d2l\n",
    "import matplotlib.pyplot as plt\n",
    "\n",
    "class Animator:  #@save\n",
    "    \"\"\"For plotting data in animation.\"\"\"\n",
    "    def __init__(self, xlabel=None, ylabel=None, legend=None, xlim=None,\n",
    "                 ylim=None, xscale='linear', yscale='linear',\n",
    "                 fmts=('-', 'm--', 'g-.', 'r:'), nrows=1, ncols=1,\n",
    "                 figsize=(3.5, 2.5)):\n",
    "        # Incrementally plot multiple lines\n",
    "        if legend is None:\n",
    "            legend = []\n",
    "#         d2l.use_svg_display()\n",
    "        self.fig, self.axes = plt.subplots(nrows, ncols, figsize=figsize)\n",
    "        if nrows * ncols == 1:\n",
    "            self.axes = [self.axes,]\n",
    "        # Use a lambda function to capture arguments\n",
    "        self.config_axes = lambda: plt.set_axes(self.axes[\n",
    "            0], xlabel, ylabel, xlim, ylim, xscale, yscale, legend)\n",
    "        self.X, self.Y, self.fmts = None, None, fmts\n",
    "\n",
    "    def add(self, x, y):\n",
    "        # Add multiple data points into the figure\n",
    "        if not hasattr(y, \"__len__\"):\n",
    "            y = [y]\n",
    "        n = len(y)\n",
    "        if not hasattr(x, \"__len__\"):\n",
    "            x = [x] * n\n",
    "        if not self.X:\n",
    "            self.X = [[] for _ in range(n)]\n",
    "        if not self.Y:\n",
    "            self.Y = [[] for _ in range(n)]\n",
    "        for i, (a, b) in enumerate(zip(x, y)):\n",
    "            if a is not None and b is not None:\n",
    "                self.X[i].append(a)\n",
    "                self.Y[i].append(b)\n",
    "        self.axes[0].cla()\n",
    "        for x, y, fmt in zip(self.X, self.Y, self.fmts):\n",
    "            self.axes[0].plot(x, y, fmt)\n",
    "        self.config_axes()\n",
    "        display.display(self.fig)\n",
    "        display.clear_output(wait=True)"
   ]
  },
  {
   "cell_type": "code",
   "execution_count": 111,
   "id": "american-program",
   "metadata": {},
   "outputs": [],
   "source": [
    "def train_all(net=net, train_iter=train_dataloader, test_iter=test_dataloader, loss=cross_entropy, \n",
    "              num_epochs=10, optimizer=sgd):\n",
    "    animator = Animator(xlabel='epoch', xlim=[1, num_epochs], ylim=[0.3,0.9],legend=['train loss', 'train acc', 'test acc'])\n",
    "    for epoch in range(num_epochs):\n",
    "        train_metrics = train_one_epoch(net=net, data_iter=train_dataloader, loss=loss, optimizer=optimizer)\n",
    "        test_acc = evaluate_accuracy(net, test_iter)\n",
    "#         animator.add(epoch +1, train_metrics + (test_acc,))\n",
    "        print(f\"for epoch: {epoch+1} , {train_metrics}, {test_acc}\")\n",
    "    train_loss, train_acc = train_metrics\n",
    "#     assert train_loss < 0.5 , train_loss\n",
    "#     assert train_acc <=1 and train_acc>0.7, train_acc\n",
    "#     assert test_acc<=1 and test_acc>0.7, test_acc\n",
    "    "
   ]
  },
  {
   "cell_type": "code",
   "execution_count": 112,
   "id": "refined-maine",
   "metadata": {},
   "outputs": [
    {
     "name": "stdout",
     "output_type": "stream",
     "text": [
      "for epoch: 1 , (3.011367841974894, 0.08065), 0.0828\n",
      "for epoch: 2 , (3.011367832438151, 0.08065), 0.0828\n",
      "for epoch: 3 , (3.011367839558919, 0.08065), 0.0828\n",
      "for epoch: 4 , (3.0113678274790447, 0.08065), 0.0828\n",
      "for epoch: 5 , (3.0113678328196207, 0.08065), 0.0828\n",
      "for epoch: 6 , (3.0113678354899087, 0.08065), 0.0828\n",
      "for epoch: 7 , (3.011367841974894, 0.08065), 0.0828\n",
      "for epoch: 8 , (3.0113678298950197, 0.08065), 0.0828\n",
      "for epoch: 9 , (3.011367832438151, 0.08065), 0.0828\n",
      "for epoch: 10 , (3.0113678325653077, 0.08065), 0.0828\n"
     ]
    },
    {
     "data": {
      "image/png": "[encoded data removed]",
      "text/plain": [
       "<Figure size 252x180 with 1 Axes>"
      ]
     },
     "metadata": {
      "needs_background": "light"
     },
     "output_type": "display_data"
    }
   ],
   "source": [
    "train_all()"
   ]
  },
  {
   "cell_type": "code",
   "execution_count": 121,
   "id": "sweet-software",
   "metadata": {},
   "outputs": [],
   "source": [
    "train_iter = train_dataloader\n",
    "test_iter = test_dataloader\n",
    "def train_ch3(net, train_iter, test_iter, loss, num_epochs, updater):  #@save\n",
    "    \"\"\"Train a model (defined in Chapter 3).\"\"\"\n",
    "    animator = Animator(xlabel='epoch', xlim=[1, num_epochs], ylim=[0.3, 0.9],\n",
    "                        legend=['train loss', 'train acc', 'test acc'])\n",
    "    for epoch in range(num_epochs):\n",
    "        train_metrics = train_epoch_ch3(net, train_iter, loss, updater)\n",
    "        test_acc = evaluate_accuracy(net, test_iter)\n",
    "        print(f\"for epoch: {epoch+1} , {train_metrics}, {test_acc}\")\n",
    "#         animator.add(epoch + 1, train_metrics + (test_acc,))\n",
    "    train_loss, train_acc = train_metrics\n",
    "#     assert train_loss < 0.5, train_loss\n",
    "#     assert train_acc <= 1 and train_acc > 0.7, train_acc\n",
    "#     assert test_acc <= 1 and test_acc > 0.7, test_acc"
   ]
  },
  {
   "cell_type": "code",
   "execution_count": 122,
   "id": "arabic-decade",
   "metadata": {},
   "outputs": [],
   "source": [
    "lr = 0.1\n",
    "\n",
    "def updater(batch_size):\n",
    "    return sgd([W, b], lr, batch_size)"
   ]
  },
  {
   "cell_type": "code",
   "execution_count": null,
   "id": "martial-wright",
   "metadata": {},
   "outputs": [
    {
     "name": "stdout",
     "output_type": "stream",
     "text": [
      "for epoch: 1 , (nan, 0.1), 0.1\n",
      "for epoch: 2 , (nan, 0.1), 0.1\n",
      "for epoch: 3 , (nan, 0.1), 0.1\n",
      "for epoch: 4 , (nan, 0.1), 0.1\n",
      "for epoch: 5 , (nan, 0.1), 0.1\n",
      "for epoch: 6 , (nan, 0.1), 0.1\n",
      "for epoch: 7 , (nan, 0.1), 0.1\n"
     ]
    }
   ],
   "source": [
    "num_epochs = 10\n",
    "train_ch3(net, train_iter, test_iter, cross_entropy, num_epochs, updater)"
   ]
  },
  {
   "cell_type": "code",
   "execution_count": null,
   "id": "dried-stationery",
   "metadata": {},
   "outputs": [],
   "source": [
    "def predict_ch3(net, test_iter, n=6):  #@save\n",
    "    \"\"\"Predict labels (defined in Chapter 3).\"\"\"\n",
    "    for X, y in test_iter:\n",
    "        break\n",
    "    trues = d2l.get_fashion_mnist_labels(y)\n",
    "    preds = d2l.get_fashion_mnist_labels(net(X).argmax(axis=1))\n",
    "    titles = [true + '\\n' + pred for true, pred in zip(trues, preds)]\n",
    "#     d2l.show_images(X[0:n].reshape((n, 28, 28)), 1, n, titles=titles[0:n])\n",
    "\n",
    "predict_ch3(net, test_iter)"
   ]
  }
 ],
 "metadata": {
  "kernelspec": {
   "display_name": "Python 3",
   "language": "python",
   "name": "python3"
  },
  "language_info": {
   "codemirror_mode": {
    "name": "ipython",
    "version": 3
   },
   "file_extension": ".py",
   "mimetype": "text/x-python",
   "name": "python",
   "nbconvert_exporter": "python",
   "pygments_lexer": "ipython3",
   "version": "3.9.5"
  }
 },
 "nbformat": 4,
 "nbformat_minor": 5
}
