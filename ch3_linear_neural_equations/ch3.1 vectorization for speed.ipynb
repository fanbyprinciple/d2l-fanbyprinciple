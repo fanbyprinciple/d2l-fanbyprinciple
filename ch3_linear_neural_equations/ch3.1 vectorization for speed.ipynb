{
 "cells": [
  {
   "cell_type": "code",
   "execution_count": 1,
   "id": "friendly-colonial",
   "metadata": {},
   "outputs": [],
   "source": [
    "import math\n",
    "import time\n",
    "import numpy as np\n",
    "import torch"
   ]
  },
  {
   "cell_type": "code",
   "execution_count": 2,
   "id": "according-bradford",
   "metadata": {},
   "outputs": [],
   "source": [
    "n = 10000\n",
    "a =torch.ones(n)\n",
    "b = torch.ones(n)\n"
   ]
  },
  {
   "cell_type": "code",
   "execution_count": 4,
   "id": "second-preliminary",
   "metadata": {},
   "outputs": [
    {
     "name": "stdout",
     "output_type": "stream",
     "text": [
      "Wall time: 101 ms\n"
     ]
    }
   ],
   "source": [
    "%%time\n",
    "c= torch.zeros(n)\n",
    "\n",
    "for i in range(n):\n",
    "    c[i] = a[i] + b[i]"
   ]
  },
  {
   "cell_type": "code",
   "execution_count": 6,
   "id": "careful-survey",
   "metadata": {},
   "outputs": [
    {
     "name": "stdout",
     "output_type": "stream",
     "text": [
      "Wall time: 0 ns\n"
     ]
    }
   ],
   "source": [
    "%%time \n",
    "d = torch.zeros(n)\n",
    "\n",
    "d = a + b"
   ]
  },
  {
   "cell_type": "code",
   "execution_count": 7,
   "id": "structured-gravity",
   "metadata": {},
   "outputs": [
    {
     "data": {
      "text/plain": [
       "tensor([True, True, True,  ..., True, True, True])"
      ]
     },
     "execution_count": 7,
     "metadata": {},
     "output_type": "execute_result"
    }
   ],
   "source": [
    "c == d"
   ]
  },
  {
   "cell_type": "code",
   "execution_count": 8,
   "id": "mighty-oxide",
   "metadata": {},
   "outputs": [],
   "source": [
    "# normal equation function\n",
    "\n",
    "def normal_me(x, mu, sigma):\n",
    "    p = 1/ math.sqrt(2 * math.pi * sigma ** 2)\n",
    "    return p * np.exp((-0.5 / sigma **2)* (x-mu)**2 )"
   ]
  },
  {
   "cell_type": "code",
   "execution_count": null,
   "id": "skilled-collaboration",
   "metadata": {},
   "outputs": [],
   "source": [
    "import matplotlib.pyplot as plt\n",
    "\n",
    "x = np.arange(-7,7, 0.1)\n",
    "\n",
    "# mean and standard deviation pairs\n",
    "\n",
    "params = [(0,1, 'r'), (0,2, 'g'), (3, 1, 'b'), (5,2, '*')]\n",
    "\n",
    "for i, (mu, sigma) in enumerate(params):\n",
    "    plt.plot(x, normal(x, mu, sigma), )\n"
   ]
  }
 ],
 "metadata": {
  "kernelspec": {
   "display_name": "Python 3",
   "language": "python",
   "name": "python3"
  },
  "language_info": {
   "codemirror_mode": {
    "name": "ipython",
    "version": 3
   },
   "file_extension": ".py",
   "mimetype": "text/x-python",
   "name": "python",
   "nbconvert_exporter": "python",
   "pygments_lexer": "ipython3",
   "version": "3.9.5"
  }
 },
 "nbformat": 4,
 "nbformat_minor": 5
}
