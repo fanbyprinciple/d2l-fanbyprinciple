{
 "cells": [
  {
   "cell_type": "code",
   "execution_count": 38,
   "id": "sophisticated-frank",
   "metadata": {},
   "outputs": [],
   "source": [
    "import math\n",
    "import time\n",
    "import numpy as np\n",
    "import torch"
   ]
  },
  {
   "cell_type": "code",
   "execution_count": 39,
   "id": "painted-dynamics",
   "metadata": {},
   "outputs": [],
   "source": [
    "n = 10000\n",
    "a =torch.ones(n)\n",
    "b = torch.ones(n)\n"
   ]
  },
  {
   "cell_type": "code",
   "execution_count": 40,
   "id": "legislative-meeting",
   "metadata": {},
   "outputs": [
    {
     "name": "stdout",
     "output_type": "stream",
     "text": [
      "Wall time: 79.8 ms\n"
     ]
    }
   ],
   "source": [
    "%%time\n",
    "c= torch.zeros(n)\n",
    "\n",
    "for i in range(n):\n",
    "    c[i] = a[i] + b[i]"
   ]
  },
  {
   "cell_type": "code",
   "execution_count": 41,
   "id": "ancient-husband",
   "metadata": {},
   "outputs": [
    {
     "name": "stdout",
     "output_type": "stream",
     "text": [
      "Wall time: 0 ns\n"
     ]
    }
   ],
   "source": [
    "%%time \n",
    "d = torch.zeros(n)\n",
    "\n",
    "d = a + b"
   ]
  },
  {
   "cell_type": "code",
   "execution_count": 42,
   "id": "round-routine",
   "metadata": {},
   "outputs": [
    {
     "data": {
      "text/plain": [
       "tensor([True, True, True,  ..., True, True, True])"
      ]
     },
     "execution_count": 42,
     "metadata": {},
     "output_type": "execute_result"
    }
   ],
   "source": [
    "c == d"
   ]
  },
  {
   "cell_type": "code",
   "execution_count": 43,
   "id": "intelligent-arlington",
   "metadata": {},
   "outputs": [],
   "source": [
    "# normal equation function\n",
    "\n",
    "def normal_me(x, mu, sigma):\n",
    "    p = 1/ math.sqrt(2 * math.pi * sigma ** 2)\n",
    "    return p * np.exp((-0.5 / sigma **2)* (x-mu)**2 )"
   ]
  },
  {
   "cell_type": "code",
   "execution_count": 44,
   "id": "following-respect",
   "metadata": {},
   "outputs": [
    {
     "data": {
      "image/png": "[encoded data removed]",
      "text/plain": [
       "<Figure size 432x288 with 1 Axes>"
      ]
     },
     "metadata": {
      "needs_background": "light"
     },
     "output_type": "display_data"
    }
   ],
   "source": [
    "import matplotlib.pyplot as plt\n",
    "\n",
    "x = np.arange(-7,7, 0.1)\n",
    "\n",
    "# mean and standard deviation pairs\n",
    "\n",
    "params = [(0,1, 'r'), (0,2, 'g'), (3, 1, 'b'), (5,2, '*')]\n",
    "\n",
    "for i, (mu, sigma, color) in enumerate(params):\n",
    "    plt.plot(x, normal_me(x, mu, sigma), color)\n",
    "\n",
    "plt.show()\n"
   ]
  },
  {
   "cell_type": "markdown",
   "id": "lesser-developer",
   "metadata": {},
   "source": [
    "### Exercises\n",
    "\n",
    "1. Assume that we have some data ∑x1, . . . , xn ∈ R. Our goal is to find a constant b such that (xi − b)2 is minimized.\n",
    "\n",
    "    1. Find a analytic solution for the optimal value of b.\n",
    "\n",
    "    xi = b\n",
    "\n",
    "    2. How does this problem and its solution relate to the normal distribution?\n",
    "    \n",
    "    dont know\n",
    "\n",
    "\n",
    "2. Derive the analytic solution to the optimization problem for linear regression with squared error. To keep things simple, you can omit the bias b from the problem (we can do this in principled fashion by adding one column to X consisting of all ones).\n",
    "\n",
    "    1. Write out the optimization problem in matrix and vector notation (treat all the data asa single matrix, and all the target values as a single vector).\n",
    "    \n",
    "    dont know\n",
    "    \n",
    "    \n",
    "    2. Compute the gradient of the loss with respect to w.\n",
    "    \n",
    "    dint know\n",
    "    \n",
    "    \n",
    "    3. Find the analytic solution by setting the gradient equal to zero and solving the matrixnequation. \n",
    "    \n",
    "    dont know\n",
    "    \n",
    "    4. When might this be better than using stochastic gradient descent? When might this method break?\n",
    "    \n",
    "    \n",
    "    \n",
    "3. Assume that the noise model governing the additive noise ϵ is the exponential distribution.That is, p(ϵ) = 12exp(−|ϵ|).\n",
    "    \n",
    "    1. Write out the negative log-likelihood of the data under the model − log P(y | X).\n",
    "    \n",
    "    dont know\n",
    "    2. Can you find a closed form solution?\n",
    "    \n",
    "    dont know\n",
    "    3. Suggest a stochastic gradient descent algorithm to solve this problem. What could pos\u0002sibly go wrong (hint: what happens near the stationary point as we keep on updating the parameters)? Can you fix this?\n",
    "    dont know\n",
    "    \n"
   ]
  },
  {
   "cell_type": "code",
   "execution_count": 45,
   "id": "scheduled-partner",
   "metadata": {},
   "outputs": [
    {
     "name": "stdout",
     "output_type": "stream",
     "text": [
      "torch.Size([2, 2])\n"
     ]
    }
   ],
   "source": [
    "X = torch.tensor([[2,3], [4,5]], dtype=torch.float32)\n",
    "print(X.shape)\n",
    "y = torch.tensor([0,1], dtype=torch.float32)\n",
    "w = torch.normal(0,1,(X.shape[0],1), requires_grad=True, dtype=torch.float32)\n",
    "\n",
    "loss = (y - torch.matmul(X,w))**2"
   ]
  },
  {
   "cell_type": "code",
   "execution_count": 46,
   "id": "instant-convert",
   "metadata": {},
   "outputs": [
    {
     "data": {
      "text/plain": [
       "tensor([[-1.9221],\n",
       "        [ 0.9618]], requires_grad=True)"
      ]
     },
     "execution_count": 46,
     "metadata": {},
     "output_type": "execute_result"
    }
   ],
   "source": [
    "w"
   ]
  },
  {
   "cell_type": "code",
   "execution_count": 47,
   "id": "threatened-presentation",
   "metadata": {},
   "outputs": [
    {
     "data": {
      "text/plain": [
       "tensor([[ 0.9193,  3.8368],\n",
       "        [ 8.2906, 15.0493]], grad_fn=<PowBackward0>)"
      ]
     },
     "execution_count": 47,
     "metadata": {},
     "output_type": "execute_result"
    }
   ],
   "source": [
    "loss"
   ]
  },
  {
   "cell_type": "code",
   "execution_count": 48,
   "id": "sublime-marketing",
   "metadata": {},
   "outputs": [],
   "source": [
    "loss.sum().backward()"
   ]
  },
  {
   "cell_type": "code",
   "execution_count": 49,
   "id": "exposed-baseline",
   "metadata": {},
   "outputs": [
    {
     "data": {
      "text/plain": [
       "tensor([[-65.7397],\n",
       "        [-85.0922]])"
      ]
     },
     "execution_count": 49,
     "metadata": {},
     "output_type": "execute_result"
    }
   ],
   "source": [
    "w.grad"
   ]
  },
  {
   "cell_type": "code",
   "execution_count": 50,
   "id": "certain-hepatitis",
   "metadata": {},
   "outputs": [],
   "source": [
    "# the analytic solution\n",
    "w_a = torch.matmul(X.T, X) ** -1  "
   ]
  },
  {
   "cell_type": "code",
   "execution_count": 51,
   "id": "constant-mainstream",
   "metadata": {},
   "outputs": [
    {
     "data": {
      "text/plain": [
       "tensor([[0.0500, 0.0385],\n",
       "        [0.0385, 0.0294]])"
      ]
     },
     "execution_count": 51,
     "metadata": {},
     "output_type": "execute_result"
    }
   ],
   "source": [
    "w_a"
   ]
  },
  {
   "cell_type": "code",
   "execution_count": 52,
   "id": "irish-finish",
   "metadata": {},
   "outputs": [
    {
     "data": {
      "text/plain": [
       "(torch.Size([2, 2]), torch.Size([2]))"
      ]
     },
     "execution_count": 52,
     "metadata": {},
     "output_type": "execute_result"
    }
   ],
   "source": [
    "X.shape, y.shape"
   ]
  },
  {
   "cell_type": "code",
   "execution_count": 53,
   "id": "smooth-captain",
   "metadata": {},
   "outputs": [],
   "source": [
    "w_a = torch.matmul(w_a, torch.matmul(X.T, y))"
   ]
  },
  {
   "cell_type": "code",
   "execution_count": 54,
   "id": "chinese-spanish",
   "metadata": {},
   "outputs": [
    {
     "data": {
      "text/plain": [
       "tensor([0.3923, 0.3009])"
      ]
     },
     "execution_count": 54,
     "metadata": {},
     "output_type": "execute_result"
    }
   ],
   "source": [
    "w_a"
   ]
  }
 ],
 "metadata": {
  "kernelspec": {
   "display_name": "Python 3",
   "language": "python",
   "name": "python3"
  },
  "language_info": {
   "codemirror_mode": {
    "name": "ipython",
    "version": 3
   },
   "file_extension": ".py",
   "mimetype": "text/x-python",
   "name": "python",
   "nbconvert_exporter": "python",
   "pygments_lexer": "ipython3",
   "version": "3.9.5"
  }
 },
 "nbformat": 4,
 "nbformat_minor": 5
}
