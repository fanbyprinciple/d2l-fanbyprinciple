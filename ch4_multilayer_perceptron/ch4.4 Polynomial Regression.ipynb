{
 "cells": [
  {
   "cell_type": "code",
   "execution_count": 28,
   "id": "polyphonic-actress",
   "metadata": {},
   "outputs": [],
   "source": [
    "import torch\n",
    "import numpy as np\n",
    "import math\n",
    "from torch import nn"
   ]
  },
  {
   "cell_type": "code",
   "execution_count": 29,
   "id": "specialized-design",
   "metadata": {},
   "outputs": [],
   "source": [
    "max_degree = 20\n",
    "n_train,n_test = 100,100\n",
    "\n",
    "true_w = np.zeros(max_degree)"
   ]
  },
  {
   "cell_type": "code",
   "execution_count": 30,
   "id": "smooth-density",
   "metadata": {},
   "outputs": [],
   "source": [
    "# according to exercise\n",
    "true_w[0:4] = np.array([5,1.2,-3.4,5.6])\n",
    "\n",
    "features = np.random.normal(size=(n_train+n_test,1))"
   ]
  },
  {
   "cell_type": "code",
   "execution_count": 31,
   "id": "hundred-strategy",
   "metadata": {},
   "outputs": [],
   "source": [
    "np.random.shuffle(features)"
   ]
  },
  {
   "cell_type": "code",
   "execution_count": 32,
   "id": "narrow-denmark",
   "metadata": {},
   "outputs": [
    {
     "data": {
      "text/plain": [
       "array([[ 0,  1,  2,  3,  4,  5,  6,  7,  8,  9, 10, 11, 12, 13, 14, 15,\n",
       "        16, 17, 18, 19]])"
      ]
     },
     "execution_count": 32,
     "metadata": {},
     "output_type": "execute_result"
    }
   ],
   "source": [
    "np.arange(max_degree).reshape(1,-1)"
   ]
  },
  {
   "cell_type": "code",
   "execution_count": 33,
   "id": "happy-brief",
   "metadata": {},
   "outputs": [],
   "source": [
    "poly_features = np.power(features, np.arange(max_degree).reshape(1,-1))"
   ]
  },
  {
   "cell_type": "code",
   "execution_count": 34,
   "id": "latter-builder",
   "metadata": {},
   "outputs": [],
   "source": [
    "for i in range(max_degree):\n",
    "    poly_features[:,i] /= math.gamma(i+1) # gamma is (n-1)!"
   ]
  },
  {
   "cell_type": "code",
   "execution_count": 35,
   "id": "seven-stadium",
   "metadata": {},
   "outputs": [
    {
     "data": {
      "text/plain": [
       "(200,)"
      ]
     },
     "execution_count": 35,
     "metadata": {},
     "output_type": "execute_result"
    }
   ],
   "source": [
    "labels = np.dot( poly_features, true_w)\n",
    "labels.shape"
   ]
  },
  {
   "cell_type": "code",
   "execution_count": 36,
   "id": "pharmaceutical-class",
   "metadata": {},
   "outputs": [
    {
     "data": {
      "text/plain": [
       "(-61.0886554695634, 8.870571215786708)"
      ]
     },
     "execution_count": 36,
     "metadata": {},
     "output_type": "execute_result"
    }
   ],
   "source": [
    "min(labels), max(labels)"
   ]
  },
  {
   "cell_type": "code",
   "execution_count": 37,
   "id": "outstanding-lithuania",
   "metadata": {},
   "outputs": [],
   "source": [
    "# adding epsilon noise\n",
    "labels += np.random.normal(scale=0.1, size=labels.shape)\n",
    "\n",
    "# what we generated was\n",
    "\n",
    "# y = 5 + 1.2 * x  - 3.4 * x^2/2! + 5.6 * x^3/3! + epsilon "
   ]
  },
  {
   "cell_type": "code",
   "execution_count": 38,
   "id": "civic-alliance",
   "metadata": {},
   "outputs": [],
   "source": [
    "# converting to tensor\n",
    "true_w,features,poly_features, labels = [torch.tensor(x, dtype=torch.float32) for x in [true_w, features, poly_features, labels]]"
   ]
  },
  {
   "cell_type": "code",
   "execution_count": 39,
   "id": "rental-advisory",
   "metadata": {},
   "outputs": [
    {
     "data": {
      "text/plain": [
       "(tensor([[ 0.7222],\n",
       "         [-2.0626]]),\n",
       " tensor([[ 1.0000e+00,  7.2216e-01,  2.6076e-01,  6.2769e-02,  1.1332e-02,\n",
       "           1.6367e-03,  1.9700e-04,  2.0323e-05,  1.8346e-06,  1.4721e-07,\n",
       "           1.0631e-08,  6.9791e-10,  4.2000e-11,  2.3331e-12,  1.2035e-13,\n",
       "           5.7940e-15,  2.6151e-16,  1.1109e-17,  4.4569e-19,  1.6940e-20],\n",
       "         [ 1.0000e+00, -2.0626e+00,  2.1272e+00, -1.4626e+00,  7.5420e-01,\n",
       "          -3.1113e-01,  1.0696e-01, -3.1516e-02,  8.1259e-03, -1.8623e-03,\n",
       "           3.8413e-04, -7.2029e-05,  1.2381e-05, -1.9644e-06,  2.8942e-07,\n",
       "          -3.9798e-08,  5.1305e-09, -6.2250e-10,  7.1333e-11, -7.7439e-12]]),\n",
       " tensor([  5.2079, -12.8312]))"
      ]
     },
     "execution_count": 39,
     "metadata": {},
     "output_type": "execute_result"
    }
   ],
   "source": [
    "features[:2], poly_features[:2,:], labels[:2]"
   ]
  },
  {
   "cell_type": "code",
   "execution_count": 40,
   "id": "sophisticated-estimate",
   "metadata": {},
   "outputs": [
    {
     "data": {
      "text/plain": [
       "[<matplotlib.lines.Line2D at 0x1f9f3f810d0>]"
      ]
     },
     "execution_count": 40,
     "metadata": {},
     "output_type": "execute_result"
    },
    {
     "data": {
      "image/png": "[encoded data removed]",
      "text/plain": [
       "<Figure size 432x288 with 1 Axes>"
      ]
     },
     "metadata": {
      "needs_background": "light"
     },
     "output_type": "display_data"
    }
   ],
   "source": [
    "import  matplotlib.pyplot as plt\n",
    "\n",
    "plt.plot(features, labels)\n",
    "\n",
    "# complex polynomial"
   ]
  },
  {
   "cell_type": "code",
   "execution_count": 41,
   "id": "desirable-chile",
   "metadata": {},
   "outputs": [],
   "source": [
    "def evaluate_loss(net, data_iter, loss):\n",
    "    total_loss = 0\n",
    "    total_len = 0\n",
    "    for X,y in data_iter:\n",
    "        y_hat = net(X)\n",
    "        y = y.reshape(y_hat)\n",
    "        l = loss(y_hat, y)\n",
    "        total_loss += l\n",
    "        total_len += l.numel()\n",
    "    \n",
    "    return total_loss/total_len\n",
    "        "
   ]
  },
  {
   "cell_type": "code",
   "execution_count": 42,
   "id": "miniature-complement",
   "metadata": {},
   "outputs": [
    {
     "name": "stdout",
     "output_type": "stream",
     "text": [
      "tensor([0.7222])\n",
      "tensor([5.2079])\n"
     ]
    }
   ],
   "source": [
    "class simpleDataset:\n",
    "    def __init__(self, features, labels):\n",
    "        self.features = features\n",
    "        self.labels = labels\n",
    "        \n",
    "        self.featres = self.features.type(torch.FloatTensor)\n",
    "        self.labels = self.labels.type(torch.FloatTensor)\n",
    "    \n",
    "    def __len__(self):\n",
    "        return len(self.labels)\n",
    "    \n",
    "    def __getitem__(self, index):\n",
    "        return self.features[index], self.labels[index]\n",
    "\n",
    "train_dataset = simpleDataset(features[:n_train], labels[:n_train].reshape(-1,1))\n",
    "\n",
    "X, y = train_dataset[0]\n",
    "\n",
    "print(X)\n",
    "print(y)\n",
    "    "
   ]
  },
  {
   "cell_type": "code",
   "execution_count": 43,
   "id": "dirty-douglas",
   "metadata": {},
   "outputs": [],
   "source": [
    "def create_iter(features, labels, batch_size):\n",
    "    return torch.utils.data.DataLoader(simpleDataset(features, labels), shuffle=True, batch_size=batch_size)"
   ]
  },
  {
   "cell_type": "code",
   "execution_count": 44,
   "id": "cutting-domain",
   "metadata": {},
   "outputs": [
    {
     "name": "stdout",
     "output_type": "stream",
     "text": [
      "torch.Size([10, 1]) torch.Size([10])\n"
     ]
    }
   ],
   "source": [
    "sample_iter = create_iter(features[:n_train], labels[:n_train], 10)\n",
    "\n",
    "for X,y in sample_iter:\n",
    "    print(X.shape, y.shape)\n",
    "    break"
   ]
  },
  {
   "cell_type": "code",
   "execution_count": 45,
   "id": "bulgarian-clearing",
   "metadata": {},
   "outputs": [],
   "source": [
    "def evaluate_loss(net, data_iter, loss, text):\n",
    "    total_loss = 0\n",
    "    total_number = 0\n",
    "    with torch.no_grad():\n",
    "        for X, y in data_iter:\n",
    "            y_hat = net(X)\n",
    "            l =  loss(y_hat, y)\n",
    "            total_loss += l\n",
    "            total_number += y.numel()\n",
    "#     print(f\"{text} loss is : {total_loss/total_number}\")\n",
    "    return total_loss/total_number"
   ]
  },
  {
   "cell_type": "code",
   "execution_count": 46,
   "id": "commercial-initial",
   "metadata": {},
   "outputs": [],
   "source": [
    "\n",
    "def train(train_features, train_labels, test_features, test_labels, num_epochs=400):\n",
    "    loss = nn.MSELoss()\n",
    "    input_shape = train_features.shape[-1]\n",
    "    print(f\"input feature size is : {input_shape}\")\n",
    "    net = nn.Sequential(nn.Linear(input_shape,1, bias=False))\n",
    "    batch_size = min(10, train_labels.shape[0])\n",
    "    train_iter = create_iter(train_features, train_labels.reshape(-1,1), batch_size)\n",
    "    test_iter = create_iter(test_features, test_labels.reshape(-1,1), batch_size)\n",
    "    \n",
    "    optimizer = torch.optim.SGD(net.parameters(), lr=0.01)\n",
    "    \n",
    "    # training loop\n",
    "    train_loss_array = []\n",
    "    test_loss_array = []\n",
    "    epoch_number = []\n",
    "    for epoch in range(num_epochs):\n",
    "        for X, y in train_iter:\n",
    "            y_hat = net(X)\n",
    "#             print(y_hat.shape)\n",
    "#             print(y, y_hat)\n",
    "            l = loss(y_hat, y)\n",
    "            optimizer.zero_grad()\n",
    "            l.backward()\n",
    "            \n",
    "            optimizer.step()\n",
    "        \n",
    "#         print(f\"Last batch loss for epoch {epoch} is {l.detach()}\")\n",
    "        train_loss_array.append(evaluate_loss(net, train_iter, loss, \"train\"))\n",
    "        test_loss_array.append(evaluate_loss(net, test_iter, loss, \"test\"))\n",
    "        epoch_number.append(epoch)\n",
    "    \n",
    "    print(\"weight : \", net[0].weight.data.numpy())\n",
    "    \n",
    "    plt.plot(epoch_number[:40], train_loss_array[:40])\n",
    "    plt.plot(epoch_number[:40], test_loss_array[:40])\n",
    "    plt.show()"
   ]
  },
  {
   "cell_type": "code",
   "execution_count": 47,
   "id": "afraid-fisher",
   "metadata": {
    "scrolled": false
   },
   "outputs": [
    {
     "name": "stdout",
     "output_type": "stream",
     "text": [
      "input feature size is : 4\n",
      "weight :  [[ 4.987945   1.2101914 -3.3927898  5.6036644]]\n"
     ]
    },
    {
     "data": {
      "image/png": "[encoded data removed]",
      "text/plain": [
       "<Figure size 432x288 with 1 Axes>"
      ]
     },
     "metadata": {
      "needs_background": "light"
     },
     "output_type": "display_data"
    }
   ],
   "source": [
    "# fitting third order polynomial function fitting\n",
    "\n",
    "train(poly_features[:n_train, :4], labels[:n_train], poly_features[n_train:, :4], labels[n_train:])"
   ]
  },
  {
   "cell_type": "code",
   "execution_count": 48,
   "id": "saved-persian",
   "metadata": {
    "scrolled": false
   },
   "outputs": [
    {
     "name": "stdout",
     "output_type": "stream",
     "text": [
      "input feature size is : 2\n",
      "weight :  [[3.1919615 5.425466 ]]\n"
     ]
    },
    {
     "data": {
      "image/png": "[encoded data removed]",
      "text/plain": [
       "<Figure size 432x288 with 1 Axes>"
      ]
     },
     "metadata": {
      "needs_background": "light"
     },
     "output_type": "display_data"
    }
   ],
   "source": [
    "# now trying to underfit\n",
    "\n",
    "train(poly_features[:n_train, :2], labels[:n_train], poly_features[n_train:, :2], labels[n_train:])"
   ]
  },
  {
   "cell_type": "code",
   "execution_count": 49,
   "id": "legendary-globe",
   "metadata": {},
   "outputs": [
    {
     "name": "stdout",
     "output_type": "stream",
     "text": [
      "input feature size is : 20\n",
      "weight :  [[ 4.9376731e+00  1.5284610e+00 -3.1749818e+00  4.6739435e+00\n",
      "  -5.2845645e-01  8.0622518e-01  4.1620252e-03  5.4121781e-02\n",
      "  -9.3788557e-02  1.0595342e-01 -1.6730115e-01  1.5583387e-01\n",
      "   3.7670851e-02  1.5646306e-01  4.6096135e-02  9.8095134e-02\n",
      "   8.2585402e-02  6.7623489e-02  3.0450003e-02 -1.8183419e-01]]\n"
     ]
    },
    {
     "data": {
      "image/png": "[encoded data removed]",
      "text/plain": [
       "<Figure size 432x288 with 1 Axes>"
      ]
     },
     "metadata": {
      "needs_background": "light"
     },
     "output_type": "display_data"
    }
   ],
   "source": [
    "# trying to overfit\n",
    "\n",
    "train(poly_features[:n_train, :],labels[:n_train], poly_features[n_train:,:], labels[n_train:])"
   ]
  },
  {
   "cell_type": "markdown",
   "id": "brilliant-membrane",
   "metadata": {},
   "source": [
    "### Exercises\n",
    "\n",
    "1. Can you solve the polynomial regression problem exactly? Hint: use linear algebra.\n",
    "\n",
    "dont know\n",
    "\n",
    "2. Consider model selection for polynomials:\n",
    "    1. Plot the training loss vs. model complexity (degree of the polynomial). What do you\n",
    "    observe? What degree of polynomial do you need to reduce the training loss to 0?\n",
    "    2. Plot the test loss in this case.\n",
    "    3. Generate the same plot as a function of the amount of data.\n",
    "\n",
    "3. What happens if you drop the normalization (1/i!) of the polynomial features x\n",
    "i\n",
    "? Can you\n",
    "fix this in some other way?\n",
    "\n",
    "4. Can you ever expect to see zero generalization error?"
   ]
  },
  {
   "cell_type": "code",
   "execution_count": 50,
   "id": "micro-tunnel",
   "metadata": {},
   "outputs": [],
   "source": [
    "#2\n",
    "\n",
    "def train_loss_vs_model_complexity(t_features, t_labels, te_features, te_labels, num_epochs=20):\n",
    "    loss = nn.MSELoss()\n",
    "    \n",
    "    stored_train_loss = []\n",
    "    stored_test_loss = []\n",
    "    stored_len_data = []\n",
    "    \n",
    "    for i in range(max_degree):\n",
    "        train_features = t_features[:, :i+1]\n",
    "        test_features = te_features[:, :i+1]\n",
    "        train_labels = t_labels\n",
    "        test_labels = te_labels\n",
    "        input_shape = train_features.shape[-1]\n",
    "        \n",
    "        amount_of_features = train_features.shape[0] * train_features.shape[1]\n",
    "        \n",
    "        print(f\"input feature size is : {input_shape}\")\n",
    "        net = nn.Sequential(nn.Linear(input_shape,1, bias=False))\n",
    "        batch_size = min(10, train_labels.shape[0])\n",
    "        train_iter = create_iter(train_features, train_labels.reshape(-1,1), batch_size)\n",
    "        test_iter = create_iter(test_features, test_labels.reshape(-1,1), batch_size)\n",
    "\n",
    "        optimizer = torch.optim.SGD(net.parameters(), lr=0.01)\n",
    "\n",
    "        # training loop\n",
    "        \n",
    "        for epoch in range(num_epochs):\n",
    "            for X, y in train_iter:\n",
    "                y_hat = net(X)\n",
    "    #             print(y_hat.shape)\n",
    "    #             print(y, y_hat)\n",
    "                l = loss(y_hat, y)\n",
    "                optimizer.zero_grad()\n",
    "                l.backward()\n",
    "\n",
    "                optimizer.step()\n",
    "\n",
    "    #         print(f\"Last batch loss for epoch {epoch} is {l.detach()}\")\n",
    "        stored_train_loss.append(evaluate_loss(net, train_iter, loss, \"train\"))\n",
    "        stored_test_loss.append(evaluate_loss(net, test_iter, loss, \"test\"))\n",
    "        stored_len_data.append(amount_of_features)\n",
    "#         print(\"weight : \", net[0].weight.data.numpy(), \"\\n\")\n",
    "        print(f\"train loss : {stored_train_loss[-1]}\")\n",
    "        print(f\"test loss: {stored_test_loss[-1]}\")\n",
    "        \n",
    "    \n",
    "    plt.plot(range(max_degree), stored_train_loss)\n",
    "    plt.xlabel(\"degree\")\n",
    "    plt.ylabel(\"train loss\")\n",
    "    plt.show()\n",
    "    \n",
    "    plt.plot(range(max_degree), stored_test_loss)\n",
    "    plt.xlabel(\"degree\")\n",
    "    plt.ylabel(\"test loss\")\n",
    "    plt.show()\n",
    "    \n",
    "    plt.plot(range(max_degree), stored_len_data)\n",
    "    plt.xlabel(\"degree\")\n",
    "    plt.ylabel(\"number of features\")\n",
    "    \n",
    "    plt.show()\n",
    "\n",
    "        \n",
    "    "
   ]
  },
  {
   "cell_type": "code",
   "execution_count": 51,
   "id": "cloudy-veteran",
   "metadata": {
    "scrolled": false
   },
   "outputs": [
    {
     "name": "stdout",
     "output_type": "stream",
     "text": [
      "input feature size is : 1\n",
      "train loss : 5.805368423461914\n",
      "test loss: 1.7661118507385254\n",
      "input feature size is : 2\n",
      "train loss : 2.8514797687530518\n",
      "test loss: 1.1240822076797485\n",
      "input feature size is : 3\n",
      "train loss : 0.7391793727874756\n",
      "test loss: 0.2960579991340637\n",
      "input feature size is : 4\n",
      "train loss : 0.046619243919849396\n",
      "test loss: 0.03652077168226242\n",
      "input feature size is : 5\n",
      "train loss : 0.02718915231525898\n",
      "test loss: 0.038509856909513474\n",
      "input feature size is : 6\n",
      "train loss : 0.03969020023941994\n",
      "test loss: 0.05066032335162163\n",
      "input feature size is : 7\n",
      "train loss : 0.04128125682473183\n",
      "test loss: 0.0503634437918663\n",
      "input feature size is : 8\n",
      "train loss : 0.044509563595056534\n",
      "test loss: 0.053561437875032425\n",
      "input feature size is : 9\n",
      "train loss : 0.04897398501634598\n",
      "test loss: 0.05723491683602333\n",
      "input feature size is : 10\n",
      "train loss : 0.043725017458200455\n",
      "test loss: 0.05193492770195007\n",
      "input feature size is : 11\n",
      "train loss : 0.04427235201001167\n",
      "test loss: 0.05392894148826599\n",
      "input feature size is : 12\n",
      "train loss : 0.04357927292585373\n",
      "test loss: 0.051272500306367874\n",
      "input feature size is : 13\n",
      "train loss : 0.04754660278558731\n",
      "test loss: 0.0557175874710083\n",
      "input feature size is : 14\n",
      "train loss : 0.044865746051073074\n",
      "test loss: 0.053940631449222565\n",
      "input feature size is : 15\n",
      "train loss : 0.04853805527091026\n",
      "test loss: 0.05860508605837822\n",
      "input feature size is : 16\n",
      "train loss : 0.04916790500283241\n",
      "test loss: 0.05918540805578232\n",
      "input feature size is : 17\n",
      "train loss : 0.04553072154521942\n",
      "test loss: 0.05437404662370682\n",
      "input feature size is : 18\n",
      "train loss : 0.05019591003656387\n",
      "test loss: 0.06011391803622246\n",
      "input feature size is : 19\n",
      "train loss : 0.052085258066654205\n",
      "test loss: 0.062085140496492386\n",
      "input feature size is : 20\n",
      "train loss : 0.048605095595121384\n",
      "test loss: 0.0591571182012558\n"
     ]
    },
    {
     "data": {
      "image/png": "[encoded data removed]",
      "text/plain": [
       "<Figure size 432x288 with 1 Axes>"
      ]
     },
     "metadata": {
      "needs_background": "light"
     },
     "output_type": "display_data"
    },
    {
     "data": {
      "image/png": "[encoded data removed]",
      "text/plain": [
       "<Figure size 432x288 with 1 Axes>"
      ]
     },
     "metadata": {
      "needs_background": "light"
     },
     "output_type": "display_data"
    },
    {
     "data": {
      "image/png": "[encoded data removed]",
      "text/plain": [
       "<Figure size 432x288 with 1 Axes>"
      ]
     },
     "metadata": {
      "needs_background": "light"
     },
     "output_type": "display_data"
    }
   ],
   "source": [
    "train_loss_vs_model_complexity(poly_features[:n_train, :],labels[:n_train], poly_features[n_train:,:], labels[n_train:])"
   ]
  },
  {
   "cell_type": "code",
   "execution_count": 54,
   "id": "suburban-consumption",
   "metadata": {
    "scrolled": false
   },
   "outputs": [
    {
     "name": "stdout",
     "output_type": "stream",
     "text": [
      "(200,)\n",
      "input feature size is : 1\n",
      "train loss : 107.66314697265625\n",
      "test loss: 27.702600479125977\n",
      "input feature size is : 2\n",
      "train loss : 57.05255889892578\n",
      "test loss: 13.052611351013184\n",
      "input feature size is : 3\n",
      "train loss : 25.509437561035156\n",
      "test loss: 11.25903606414795\n",
      "input feature size is : 4\n",
      "train loss : 15.742505073547363\n",
      "test loss: 4.3251166343688965\n",
      "input feature size is : 5\n",
      "train loss : 59128212.0\n",
      "test loss: 7288690.0\n",
      "input feature size is : 6\n",
      "train loss : inf\n",
      "test loss: inf\n",
      "input feature size is : 7\n",
      "train loss : nan\n",
      "test loss: nan\n",
      "input feature size is : 8\n",
      "train loss : nan\n",
      "test loss: nan\n"
     ]
    },
    {
     "name": "stderr",
     "output_type": "stream",
     "text": [
      "<ipython-input-54-a71d454ca9c4>:12: UserWarning: To copy construct from a tensor, it is recommended to use sourceTensor.clone().detach() or sourceTensor.clone().detach().requires_grad_(True), rather than torch.tensor(sourceTensor).\n",
      "  true_w,features,new_poly_features, new_labels = [torch.tensor(x, dtype=torch.float32) for x in [true_w, features, new_poly_features, new_labels]]\n"
     ]
    },
    {
     "data": {
      "image/png": "[encoded data removed]",
      "text/plain": [
       "<Figure size 432x288 with 1 Axes>"
      ]
     },
     "metadata": {
      "needs_background": "light"
     },
     "output_type": "display_data"
    },
    {
     "data": {
      "image/png": "[encoded data removed]",
      "text/plain": [
       "<Figure size 432x288 with 1 Axes>"
      ]
     },
     "metadata": {
      "needs_background": "light"
     },
     "output_type": "display_data"
    },
    {
     "data": {
      "image/png": "[encoded data removed]",
      "text/plain": [
       "<Figure size 432x288 with 1 Axes>"
      ]
     },
     "metadata": {
      "needs_background": "light"
     },
     "output_type": "display_data"
    }
   ],
   "source": [
    "#3\n",
    "\n",
    "# creating newpoly features without normalisation\n",
    "\n",
    "new_poly_features = np.power(features, np.arange(max_degree).reshape(1,-1))\n",
    "\n",
    "new_labels = np.dot(new_poly_features, true_w)\n",
    "print(new_labels.shape)\n",
    "# adding epsilon noise\n",
    "new_labels += np.random.normal(scale=0.1, size=new_labels.shape)\n",
    "\n",
    "true_w,features,new_poly_features, new_labels = [torch.tensor(x, dtype=torch.float32) for x in [true_w, features, new_poly_features, new_labels]]\n",
    "\n",
    "max_degree=8\n",
    "\n",
    "train_loss_vs_model_complexity(new_poly_features[:n_train, :],new_labels[:n_train], new_poly_features[n_train:,:], new_labels[n_train:], num_epochs=8)"
   ]
  },
  {
   "cell_type": "code",
   "execution_count": null,
   "id": "helpful-score",
   "metadata": {},
   "outputs": [],
   "source": []
  }
 ],
 "metadata": {
  "kernelspec": {
   "display_name": "Python 3",
   "language": "python",
   "name": "python3"
  },
  "language_info": {
   "codemirror_mode": {
    "name": "ipython",
    "version": 3
   },
   "file_extension": ".py",
   "mimetype": "text/x-python",
   "name": "python",
   "nbconvert_exporter": "python",
   "pygments_lexer": "ipython3",
   "version": "3.9.5"
  }
 },
 "nbformat": 4,
 "nbformat_minor": 5
}
