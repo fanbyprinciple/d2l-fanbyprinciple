{
 "cells": [
  {
   "cell_type": "code",
   "execution_count": 149,
   "id": "polyphonic-actress",
   "metadata": {},
   "outputs": [],
   "source": [
    "import torch\n",
    "import numpy as np\n",
    "import math\n",
    "from torch import nn"
   ]
  },
  {
   "cell_type": "code",
   "execution_count": 150,
   "id": "specialized-design",
   "metadata": {},
   "outputs": [],
   "source": [
    "max_degree = 20\n",
    "n_train,n_test = 100,100\n",
    "\n",
    "true_w = np.zeros(max_degree)"
   ]
  },
  {
   "cell_type": "code",
   "execution_count": 151,
   "id": "smooth-density",
   "metadata": {},
   "outputs": [],
   "source": [
    "# according to exercise\n",
    "true_w[0:4] = np.array([5,1.2,-3.4,5.6])\n",
    "\n",
    "features = np.random.normal(size=(n_train+n_test,1))"
   ]
  },
  {
   "cell_type": "code",
   "execution_count": 152,
   "id": "hundred-strategy",
   "metadata": {},
   "outputs": [],
   "source": [
    "np.random.shuffle(features)"
   ]
  },
  {
   "cell_type": "code",
   "execution_count": 153,
   "id": "narrow-denmark",
   "metadata": {},
   "outputs": [
    {
     "data": {
      "text/plain": [
       "array([[ 0,  1,  2,  3,  4,  5,  6,  7,  8,  9, 10, 11, 12, 13, 14, 15,\n",
       "        16, 17, 18, 19]])"
      ]
     },
     "execution_count": 153,
     "metadata": {},
     "output_type": "execute_result"
    }
   ],
   "source": [
    "np.arange(max_degree).reshape(1,-1)"
   ]
  },
  {
   "cell_type": "code",
   "execution_count": 154,
   "id": "happy-brief",
   "metadata": {},
   "outputs": [],
   "source": [
    "poly_features = np.power(features, np.arange(max_degree).reshape(1,-1))"
   ]
  },
  {
   "cell_type": "code",
   "execution_count": 155,
   "id": "latter-builder",
   "metadata": {},
   "outputs": [],
   "source": [
    "for i in range(max_degree):\n",
    "    poly_features[:,i] /= math.gamma(i+1) # gamma is (n-1)!"
   ]
  },
  {
   "cell_type": "code",
   "execution_count": 156,
   "id": "seven-stadium",
   "metadata": {},
   "outputs": [
    {
     "data": {
      "text/plain": [
       "(200,)"
      ]
     },
     "execution_count": 156,
     "metadata": {},
     "output_type": "execute_result"
    }
   ],
   "source": [
    "labels = np.dot( poly_features, true_w)\n",
    "labels.shape"
   ]
  },
  {
   "cell_type": "code",
   "execution_count": 157,
   "id": "pharmaceutical-class",
   "metadata": {},
   "outputs": [
    {
     "data": {
      "text/plain": [
       "(-46.853027436321284, 13.373186527117166)"
      ]
     },
     "execution_count": 157,
     "metadata": {},
     "output_type": "execute_result"
    }
   ],
   "source": [
    "min(labels), max(labels)"
   ]
  },
  {
   "cell_type": "code",
   "execution_count": 158,
   "id": "outstanding-lithuania",
   "metadata": {},
   "outputs": [],
   "source": [
    "# adding epsilon noise\n",
    "labels += np.random.normal(scale=0.1, size=labels.shape)\n",
    "\n",
    "# what we generated was\n",
    "\n",
    "# y = 5 + 1.2 * x  - 3.4 * x^2/2! + 5.6 * x^3/3! + epsilon "
   ]
  },
  {
   "cell_type": "code",
   "execution_count": 159,
   "id": "civic-alliance",
   "metadata": {},
   "outputs": [],
   "source": [
    "# converting to tensor\n",
    "true_w,features,poly_features, labels = [torch.tensor(x, dtype=torch.float32) for x in [true_w, features, poly_features, labels]]"
   ]
  },
  {
   "cell_type": "code",
   "execution_count": 160,
   "id": "rental-advisory",
   "metadata": {},
   "outputs": [
    {
     "data": {
      "text/plain": [
       "(tensor([[-1.0903],\n",
       "         [ 0.9829]]),\n",
       " tensor([[ 1.0000e+00, -1.0903e+00,  5.9442e-01, -2.1604e-01,  5.8889e-02,\n",
       "          -1.2842e-02,  2.3337e-03, -3.6350e-04,  4.9542e-05, -6.0020e-06,\n",
       "           6.5442e-07, -6.4868e-08,  5.8940e-09, -4.9434e-10,  3.8500e-11,\n",
       "          -2.7985e-12,  1.9071e-13, -1.2232e-14,  7.4093e-16, -4.2519e-17],\n",
       "         [ 1.0000e+00,  9.8291e-01,  4.8305e-01,  1.5827e-01,  3.8890e-02,\n",
       "           7.6451e-03,  1.2524e-03,  1.7586e-04,  2.1606e-05,  2.3597e-06,\n",
       "           2.3194e-07,  2.0725e-08,  1.6975e-09,  1.2835e-10,  9.0110e-12,\n",
       "           5.9047e-13,  3.6273e-14,  2.0973e-15,  1.1452e-16,  5.9245e-18]]),\n",
       " tensor([0.4383, 5.4725]))"
      ]
     },
     "execution_count": 160,
     "metadata": {},
     "output_type": "execute_result"
    }
   ],
   "source": [
    "features[:2], poly_features[:2,:], labels[:2]"
   ]
  },
  {
   "cell_type": "code",
   "execution_count": 161,
   "id": "sophisticated-estimate",
   "metadata": {},
   "outputs": [
    {
     "data": {
      "text/plain": [
       "[<matplotlib.lines.Line2D at 0x2201fe92970>]"
      ]
     },
     "execution_count": 161,
     "metadata": {},
     "output_type": "execute_result"
    },
    {
     "data": {
      "image/png": "[encoded data removed]",
      "text/plain": [
       "<Figure size 432x288 with 1 Axes>"
      ]
     },
     "metadata": {
      "needs_background": "light"
     },
     "output_type": "display_data"
    }
   ],
   "source": [
    "import  matplotlib.pyplot as plt\n",
    "\n",
    "plt.plot(features, labels)\n",
    "\n",
    "# complex polynomial"
   ]
  },
  {
   "cell_type": "code",
   "execution_count": 162,
   "id": "desirable-chile",
   "metadata": {},
   "outputs": [],
   "source": [
    "def evaluate_loss(net, data_iter, loss):\n",
    "    total_loss = 0\n",
    "    total_len = 0\n",
    "    for X,y in data_iter:\n",
    "        y_hat = net(X)\n",
    "        y = y.reshape(y_hat)\n",
    "        l = loss(y_hat, y)\n",
    "        total_loss += l\n",
    "        total_len += l.numel()\n",
    "    \n",
    "    return total_loss/total_len\n",
    "        "
   ]
  },
  {
   "cell_type": "code",
   "execution_count": 163,
   "id": "miniature-complement",
   "metadata": {},
   "outputs": [
    {
     "name": "stdout",
     "output_type": "stream",
     "text": [
      "tensor([-1.0903])\n",
      "tensor([0.4383])\n"
     ]
    }
   ],
   "source": [
    "class simpleDataset:\n",
    "    def __init__(self, features, labels):\n",
    "        self.features = features\n",
    "        self.labels = labels\n",
    "        \n",
    "        self.featres = self.features.type(torch.FloatTensor)\n",
    "        self.labels = self.labels.type(torch.FloatTensor)\n",
    "    \n",
    "    def __len__(self):\n",
    "        return len(self.labels)\n",
    "    \n",
    "    def __getitem__(self, index):\n",
    "        return self.features[index], self.labels[index]\n",
    "\n",
    "train_dataset = simpleDataset(features[:n_train], labels[:n_train].reshape(-1,1))\n",
    "\n",
    "X, y = train_dataset[0]\n",
    "\n",
    "print(X)\n",
    "print(y)\n",
    "    "
   ]
  },
  {
   "cell_type": "code",
   "execution_count": 164,
   "id": "dirty-douglas",
   "metadata": {},
   "outputs": [],
   "source": [
    "def create_iter(features, labels, batch_size):\n",
    "    return torch.utils.data.DataLoader(simpleDataset(features, labels), shuffle=True, batch_size=batch_size)"
   ]
  },
  {
   "cell_type": "code",
   "execution_count": 165,
   "id": "cutting-domain",
   "metadata": {},
   "outputs": [
    {
     "name": "stdout",
     "output_type": "stream",
     "text": [
      "torch.Size([10, 1]) torch.Size([10])\n"
     ]
    }
   ],
   "source": [
    "sample_iter = create_iter(features[:n_train], labels[:n_train], 10)\n",
    "\n",
    "for X,y in sample_iter:\n",
    "    print(X.shape, y.shape)\n",
    "    break"
   ]
  },
  {
   "cell_type": "code",
   "execution_count": 166,
   "id": "bulgarian-clearing",
   "metadata": {},
   "outputs": [],
   "source": [
    "def evaluate_loss(net, data_iter, loss, text):\n",
    "    total_loss = 0\n",
    "    total_number = 0\n",
    "    with torch.no_grad():\n",
    "        for X, y in data_iter:\n",
    "            y_hat = net(X)\n",
    "            l =  loss(y_hat, y)\n",
    "            total_loss += l\n",
    "            total_number += y.numel()\n",
    "#     print(f\"{text} loss is : {total_loss/total_number}\")\n",
    "    return total_loss/total_number"
   ]
  },
  {
   "cell_type": "code",
   "execution_count": 167,
   "id": "commercial-initial",
   "metadata": {},
   "outputs": [],
   "source": [
    "\n",
    "def train(train_features, train_labels, test_features, test_labels, num_epochs=400):\n",
    "    loss = nn.MSELoss()\n",
    "    input_shape = train_features.shape[-1]\n",
    "    print(f\"input feature size is : {input_shape}\")\n",
    "    net = nn.Sequential(nn.Linear(input_shape,1, bias=False))\n",
    "    batch_size = min(10, train_labels.shape[0])\n",
    "    train_iter = create_iter(train_features, train_labels.reshape(-1,1), batch_size)\n",
    "    test_iter = create_iter(test_features, test_labels.reshape(-1,1), batch_size)\n",
    "    \n",
    "    optimizer = torch.optim.SGD(net.parameters(), lr=0.01)\n",
    "    \n",
    "    # training loop\n",
    "    train_loss_array = []\n",
    "    test_loss_array = []\n",
    "    epoch_number = []\n",
    "    for epoch in range(num_epochs):\n",
    "        for X, y in train_iter:\n",
    "            y_hat = net(X)\n",
    "#             print(y_hat.shape)\n",
    "#             print(y, y_hat)\n",
    "            l = loss(y_hat, y)\n",
    "            optimizer.zero_grad()\n",
    "            l.backward()\n",
    "            \n",
    "            optimizer.step()\n",
    "        \n",
    "#         print(f\"Last batch loss for epoch {epoch} is {l.detach()}\")\n",
    "        train_loss_array.append(evaluate_loss(net, train_iter, loss, \"train\"))\n",
    "        test_loss_array.append(evaluate_loss(net, test_iter, loss, \"test\"))\n",
    "        epoch_number.append(epoch)\n",
    "    \n",
    "    print(\"weight : \", net[0].weight.data.numpy())\n",
    "    \n",
    "    plt.plot(epoch_number[:40], train_loss_array[:40])\n",
    "    plt.plot(epoch_number[:40], test_loss_array[:40])\n",
    "    plt.show()"
   ]
  },
  {
   "cell_type": "code",
   "execution_count": 168,
   "id": "afraid-fisher",
   "metadata": {
    "scrolled": false
   },
   "outputs": [
    {
     "name": "stdout",
     "output_type": "stream",
     "text": [
      "input feature size is : 4\n",
      "weight :  [[ 4.9887843  1.19667   -3.3960807  5.618721 ]]\n"
     ]
    },
    {
     "data": {
      "image/png": "[encoded data removed]",
      "text/plain": [
       "<Figure size 432x288 with 1 Axes>"
      ]
     },
     "metadata": {
      "needs_background": "light"
     },
     "output_type": "display_data"
    }
   ],
   "source": [
    "# fitting third order polynomial function fitting\n",
    "\n",
    "train(poly_features[:n_train, :4], labels[:n_train], poly_features[n_train:, :4], labels[n_train:])"
   ]
  },
  {
   "cell_type": "code",
   "execution_count": 169,
   "id": "saved-persian",
   "metadata": {
    "scrolled": false
   },
   "outputs": [
    {
     "name": "stdout",
     "output_type": "stream",
     "text": [
      "input feature size is : 2\n",
      "weight :  [[2.5493052 5.1789804]]\n"
     ]
    },
    {
     "data": {
      "image/png": "[encoded data removed]",
      "text/plain": [
       "<Figure size 432x288 with 1 Axes>"
      ]
     },
     "metadata": {
      "needs_background": "light"
     },
     "output_type": "display_data"
    }
   ],
   "source": [
    "# now trying to underfit\n",
    "\n",
    "train(poly_features[:n_train, :2], labels[:n_train], poly_features[n_train:, :2], labels[n_train:])"
   ]
  },
  {
   "cell_type": "code",
   "execution_count": 170,
   "id": "legendary-globe",
   "metadata": {},
   "outputs": [
    {
     "name": "stdout",
     "output_type": "stream",
     "text": [
      "input feature size is : 20\n",
      "weight :  [[ 4.942364    1.3689584  -3.2948985   5.0050473  -0.18205634  1.1978488\n",
      "   0.37861416  0.00776168 -0.09995652  0.11047557  0.14559302 -0.02850519\n",
      "   0.22372177 -0.09912913  0.15482725 -0.07695252 -0.20013842 -0.03450334\n",
      "  -0.13877974 -0.09069248]]\n"
     ]
    },
    {
     "data": {
      "image/png": "[encoded data removed]",
      "text/plain": [
       "<Figure size 432x288 with 1 Axes>"
      ]
     },
     "metadata": {
      "needs_background": "light"
     },
     "output_type": "display_data"
    }
   ],
   "source": [
    "# trying to overfit\n",
    "\n",
    "train(poly_features[:n_train, :],labels[:n_train], poly_features[n_train:,:], labels[n_train:])"
   ]
  },
  {
   "cell_type": "markdown",
   "id": "brilliant-membrane",
   "metadata": {},
   "source": [
    "### Exercises\n",
    "\n",
    "1. Can you solve the polynomial regression problem exactly? Hint: use linear algebra.\n",
    "\n",
    "dont know\n",
    "\n",
    "2. Consider model selection for polynomials:\n",
    "    1. Plot the training loss vs. model complexity (degree of the polynomial). What do you\n",
    "    observe? What degree of polynomial do you need to reduce the training loss to 0?\n",
    "    2. Plot the test loss in this case.\n",
    "    3. Generate the same plot as a function of the amount of data.\n",
    "\n",
    "3. What happens if you drop the normalization (1/i!) of the polynomial features x\n",
    "i\n",
    "? Can you\n",
    "fix this in some other way?\n",
    "\n",
    "4. Can you ever expect to see zero generalization error?"
   ]
  },
  {
   "cell_type": "code",
   "execution_count": 181,
   "id": "micro-tunnel",
   "metadata": {},
   "outputs": [],
   "source": [
    "#2\n",
    "\n",
    "def train_loss_vs_model_complexity(t_features, t_labels, te_features, te_labels, num_epochs=20):\n",
    "    loss = nn.MSELoss()\n",
    "    \n",
    "    stored_train_loss = []\n",
    "    \n",
    "    for i in range(max_degree):\n",
    "        train_features = t_features[:, :i+1]\n",
    "        test_features = te_features[:, :i+1]\n",
    "        train_labels = t_labels\n",
    "        test_labels = te_labels\n",
    "        input_shape = train_features.shape[-1]\n",
    "        print(f\"input feature size is : {input_shape}\")\n",
    "        net = nn.Sequential(nn.Linear(input_shape,1, bias=False))\n",
    "        batch_size = min(10, train_labels.shape[0])\n",
    "        train_iter = create_iter(train_features, train_labels.reshape(-1,1), batch_size)\n",
    "        test_iter = create_iter(test_features, test_labels.reshape(-1,1), batch_size)\n",
    "\n",
    "        optimizer = torch.optim.SGD(net.parameters(), lr=0.01)\n",
    "\n",
    "        # training loop\n",
    "        \n",
    "        for epoch in range(num_epochs):\n",
    "            for X, y in train_iter:\n",
    "                y_hat = net(X)\n",
    "    #             print(y_hat.shape)\n",
    "    #             print(y, y_hat)\n",
    "                l = loss(y_hat, y)\n",
    "                optimizer.zero_grad()\n",
    "                l.backward()\n",
    "\n",
    "                optimizer.step()\n",
    "\n",
    "    #         print(f\"Last batch loss for epoch {epoch} is {l.detach()}\")\n",
    "        stored_train_loss.append(evaluate_loss(net, train_iter, loss, \"train\"))\n",
    "#         print(\"weight : \", net[0].weight.data.numpy(), \"\\n\")\n",
    "        print(f\"train loss : {stored_train_loss[-1]}\")\n",
    "    \n",
    "    plt.plot(range(max_degree), stored_train_loss)\n",
    "    plt.xlabel(\"degree\")\n",
    "    plt.ylabel(\"loss\")\n",
    "    plt.show()\n",
    "\n",
    "        \n",
    "    "
   ]
  },
  {
   "cell_type": "code",
   "execution_count": 182,
   "id": "cloudy-veteran",
   "metadata": {
    "scrolled": false
   },
   "outputs": [
    {
     "name": "stdout",
     "output_type": "stream",
     "text": [
      "input feature size is : 1\n",
      "train loss : 5.0660319328308105\n",
      "input feature size is : 2\n",
      "train loss : 2.1026580333709717\n",
      "input feature size is : 3\n",
      "train loss : 0.6564047932624817\n",
      "input feature size is : 4\n",
      "train loss : 0.09198781847953796\n",
      "input feature size is : 5\n",
      "train loss : 0.058192167431116104\n",
      "input feature size is : 6\n",
      "train loss : 0.05047869682312012\n",
      "input feature size is : 7\n",
      "train loss : 0.04864881560206413\n",
      "input feature size is : 8\n",
      "train loss : 0.05142056569457054\n",
      "input feature size is : 9\n",
      "train loss : 0.05376124009490013\n",
      "input feature size is : 10\n",
      "train loss : 0.04925350099802017\n",
      "input feature size is : 11\n",
      "train loss : 0.05243529751896858\n",
      "input feature size is : 12\n",
      "train loss : 0.05278749018907547\n",
      "input feature size is : 13\n",
      "train loss : 0.060016222298145294\n",
      "input feature size is : 14\n",
      "train loss : 0.060343556106090546\n",
      "input feature size is : 15\n",
      "train loss : 0.05541970580816269\n",
      "input feature size is : 16\n",
      "train loss : 0.05180700123310089\n",
      "input feature size is : 17\n",
      "train loss : 0.05656741186976433\n",
      "input feature size is : 18\n",
      "train loss : 0.053997982293367386\n",
      "input feature size is : 19\n",
      "train loss : 0.058750320225954056\n",
      "input feature size is : 20\n",
      "train loss : 0.052074603736400604\n"
     ]
    },
    {
     "data": {
      "image/png": "[encoded data removed]",
      "text/plain": [
       "<Figure size 432x288 with 1 Axes>"
      ]
     },
     "metadata": {
      "needs_background": "light"
     },
     "output_type": "display_data"
    }
   ],
   "source": [
    "train_loss_vs_model_complexity(poly_features[:n_train, :],labels[:n_train], poly_features[n_train:,:], labels[n_train:])"
   ]
  }
 ],
 "metadata": {
  "kernelspec": {
   "display_name": "Python 3",
   "language": "python",
   "name": "python3"
  },
  "language_info": {
   "codemirror_mode": {
    "name": "ipython",
    "version": 3
   },
   "file_extension": ".py",
   "mimetype": "text/x-python",
   "name": "python",
   "nbconvert_exporter": "python",
   "pygments_lexer": "ipython3",
   "version": "3.9.5"
  }
 },
 "nbformat": 4,
 "nbformat_minor": 5
}
