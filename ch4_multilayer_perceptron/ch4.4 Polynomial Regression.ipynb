{
 "cells": [
  {
   "cell_type": "code",
   "execution_count": 1,
   "id": "polyphonic-actress",
   "metadata": {},
   "outputs": [],
   "source": [
    "import torch\n",
    "import numpy as np\n",
    "import math\n",
    "from torch import nn"
   ]
  },
  {
   "cell_type": "code",
   "execution_count": 2,
   "id": "specialized-design",
   "metadata": {},
   "outputs": [],
   "source": [
    "max_degree = 20\n",
    "n_train,n_test = 100,100\n",
    "\n",
    "true_w = np.zeros(max_degree)"
   ]
  },
  {
   "cell_type": "code",
   "execution_count": 3,
   "id": "smooth-density",
   "metadata": {},
   "outputs": [],
   "source": [
    "# according to exercise\n",
    "true_w[0:4] = np.array([5,1.2,-3.4,5.6])\n",
    "\n",
    "features = np.random.normal(size=(n_train+n_test,1))"
   ]
  },
  {
   "cell_type": "code",
   "execution_count": 4,
   "id": "hundred-strategy",
   "metadata": {},
   "outputs": [],
   "source": [
    "np.random.shuffle(features)"
   ]
  },
  {
   "cell_type": "code",
   "execution_count": 7,
   "id": "narrow-denmark",
   "metadata": {},
   "outputs": [
    {
     "data": {
      "text/plain": [
       "array([[ 0,  1,  2,  3,  4,  5,  6,  7,  8,  9, 10, 11, 12, 13, 14, 15,\n",
       "        16, 17, 18, 19]])"
      ]
     },
     "execution_count": 7,
     "metadata": {},
     "output_type": "execute_result"
    }
   ],
   "source": [
    "np.arange(max_degree).reshape(1,-1)"
   ]
  },
  {
   "cell_type": "code",
   "execution_count": 8,
   "id": "happy-brief",
   "metadata": {},
   "outputs": [],
   "source": [
    "poly_features = np.power(features, np.arange(max_degree).reshape(1,-1))"
   ]
  },
  {
   "cell_type": "code",
   "execution_count": 9,
   "id": "latter-builder",
   "metadata": {},
   "outputs": [],
   "source": [
    "for i in range(max_degree):\n",
    "    poly_features[:,i] /= math.gamma(i+1) # gamma is (n-1)!"
   ]
  },
  {
   "cell_type": "code",
   "execution_count": 12,
   "id": "seven-stadium",
   "metadata": {},
   "outputs": [
    {
     "data": {
      "text/plain": [
       "(200,)"
      ]
     },
     "execution_count": 12,
     "metadata": {},
     "output_type": "execute_result"
    }
   ],
   "source": [
    "labels = np.dot( poly_features, true_w)\n",
    "labels.shape"
   ]
  },
  {
   "cell_type": "code",
   "execution_count": 13,
   "id": "outstanding-lithuania",
   "metadata": {},
   "outputs": [],
   "source": [
    "# adding epsilon noise\n",
    "labels += np.random.normal(scale=0.1, size=labels.shape)\n",
    "\n",
    "# what we generated was\n",
    "\n",
    "# y = 5 + 1.2 * x  - 3.4 * x^2/2! + 5.6 * x^3/3! + epsilon "
   ]
  },
  {
   "cell_type": "code",
   "execution_count": 14,
   "id": "civic-alliance",
   "metadata": {},
   "outputs": [],
   "source": [
    "# converting to tensor\n",
    "true_w,features,poly_features, labels = [torch.tensor(x, dtype=torch.float32) for x in [true_w, features, poly_features, labels]]"
   ]
  },
  {
   "cell_type": "code",
   "execution_count": 15,
   "id": "rental-advisory",
   "metadata": {},
   "outputs": [
    {
     "data": {
      "text/plain": [
       "(tensor([[-0.5207],\n",
       "         [ 0.0419]]),\n",
       " tensor([[ 1.0000e+00, -5.2069e-01,  1.3556e-01, -2.3527e-02,  3.0626e-03,\n",
       "          -3.1893e-04,  2.7677e-05, -2.0587e-06,  1.3399e-07, -7.7521e-09,\n",
       "           4.0364e-10, -1.9106e-11,  8.2903e-13, -3.3205e-14,  1.2350e-15,\n",
       "          -4.2868e-17,  1.3951e-18, -4.2728e-20,  1.2360e-21, -3.3872e-23],\n",
       "         [ 1.0000e+00,  4.1863e-02,  8.7627e-04,  1.2228e-05,  1.2798e-07,\n",
       "           1.0715e-09,  7.4761e-12,  4.4711e-14,  2.3397e-16,  1.0883e-18,\n",
       "           4.5560e-21,  1.7339e-23,  6.0489e-26,  1.9479e-28,  5.8247e-31,\n",
       "           1.6256e-33,  4.2534e-36,  1.0474e-38,  2.4360e-41,  5.3249e-44]]),\n",
       " tensor([3.6996, 5.2010]))"
      ]
     },
     "execution_count": 15,
     "metadata": {},
     "output_type": "execute_result"
    }
   ],
   "source": [
    "features[:2], poly_features[:2,:], labels[:2]"
   ]
  },
  {
   "cell_type": "code",
   "execution_count": 18,
   "id": "sophisticated-estimate",
   "metadata": {},
   "outputs": [
    {
     "data": {
      "text/plain": [
       "[<matplotlib.lines.Line2D at 0x2161d321a00>,\n",
       " <matplotlib.lines.Line2D at 0x2161d321a30>,\n",
       " <matplotlib.lines.Line2D at 0x2161d321af0>,\n",
       " <matplotlib.lines.Line2D at 0x2161d321bb0>,\n",
       " <matplotlib.lines.Line2D at 0x2161d321c70>,\n",
       " <matplotlib.lines.Line2D at 0x2161d321d30>,\n",
       " <matplotlib.lines.Line2D at 0x2161d321df0>,\n",
       " <matplotlib.lines.Line2D at 0x2161d321eb0>,\n",
       " <matplotlib.lines.Line2D at 0x2161d321f70>,\n",
       " <matplotlib.lines.Line2D at 0x2161d32c070>,\n",
       " <matplotlib.lines.Line2D at 0x2161d2fcdc0>,\n",
       " <matplotlib.lines.Line2D at 0x2161d32c130>,\n",
       " <matplotlib.lines.Line2D at 0x2161d32c280>,\n",
       " <matplotlib.lines.Line2D at 0x2161d32c340>,\n",
       " <matplotlib.lines.Line2D at 0x2161d32c400>,\n",
       " <matplotlib.lines.Line2D at 0x2161d32c4c0>,\n",
       " <matplotlib.lines.Line2D at 0x2161d32c580>,\n",
       " <matplotlib.lines.Line2D at 0x2161d32c640>,\n",
       " <matplotlib.lines.Line2D at 0x2161d32c700>,\n",
       " <matplotlib.lines.Line2D at 0x2161d32c7c0>]"
      ]
     },
     "execution_count": 18,
     "metadata": {},
     "output_type": "execute_result"
    },
    {
     "data": {
      "image/png": "[encoded data removed]",
      "text/plain": [
       "<Figure size 432x288 with 1 Axes>"
      ]
     },
     "metadata": {
      "needs_background": "light"
     },
     "output_type": "display_data"
    }
   ],
   "source": [
    "import  matplotlib.pyplot as plt\n",
    "\n",
    "plt.plot(poly_features[:5], labels[:5])"
   ]
  },
  {
   "cell_type": "code",
   "execution_count": 16,
   "id": "desirable-chile",
   "metadata": {},
   "outputs": [],
   "source": [
    "def evaluate_loss(net, data_iter, loss):\n",
    "    total_loss = 0\n",
    "    total_len = 0\n",
    "    for X,y in data_iter:\n",
    "        y_hat = net(X)\n",
    "        y = y.reshape(y_hat)\n",
    "        l = loss(y_hat, y)\n",
    "        total_loss += l\n",
    "        total_len += l.numel()\n",
    "    \n",
    "    return total_loss/total_len\n",
    "        "
   ]
  },
  {
   "cell_type": "code",
   "execution_count": null,
   "id": "commercial-initial",
   "metadata": {},
   "outputs": [],
   "source": [
    "def train(train_features, test_features, train_labels, test_labels, num_epochs=400):\n",
    "    loss = nn.CrossEntropyLoss()\n",
    "    input_shape = train_feature.shape[-1]\n",
    "    print(f\"input shape is : {input_shape}\")\n",
    "    net = nn.Sequential(nn.Linear(input_shape,1, bias=False))\n",
    "    batch_size = min(10, train_labels.shape[0])\n",
    "    train_iter = create_iter(train_features, train_labels.reshape(-1,1), batch_size)\n",
    "    test_iter = create_iter(test_features, test_labels.reshape(-1,1), batch_size)\n",
    "    \n",
    "    optimizer = torch.optim.SGD(net.parameters(), lr=0.01)\n",
    "    \n",
    "    # training loop\n",
    "    \n",
    "    for epoch in range(num_epochs):\n",
    "        \n",
    "        \n",
    "        evaluate_loss(net,train_iter, loss)\n",
    "        evaluate_loss(net, test_iter, loss)\n",
    "    \n",
    "    print(\"weight : \", net[0].weight.data.numpy())\n",
    "    "
   ]
  }
 ],
 "metadata": {
  "kernelspec": {
   "display_name": "Python 3",
   "language": "python",
   "name": "python3"
  },
  "language_info": {
   "codemirror_mode": {
    "name": "ipython",
    "version": 3
   },
   "file_extension": ".py",
   "mimetype": "text/x-python",
   "name": "python",
   "nbconvert_exporter": "python",
   "pygments_lexer": "ipython3",
   "version": "3.9.5"
  }
 },
 "nbformat": 4,
 "nbformat_minor": 5
}
