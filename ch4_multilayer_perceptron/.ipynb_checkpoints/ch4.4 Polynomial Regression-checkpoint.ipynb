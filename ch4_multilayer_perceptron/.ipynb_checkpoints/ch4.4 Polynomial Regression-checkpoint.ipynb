{
 "cells": [
  {
   "cell_type": "code",
   "execution_count": 149,
   "id": "polyphonic-actress",
   "metadata": {},
   "outputs": [],
   "source": [
    "import torch\n",
    "import numpy as np\n",
    "import math\n",
    "from torch import nn"
   ]
  },
  {
   "cell_type": "code",
   "execution_count": 150,
   "id": "specialized-design",
   "metadata": {},
   "outputs": [],
   "source": [
    "max_degree = 20\n",
    "n_train,n_test = 100,100\n",
    "\n",
    "true_w = np.zeros(max_degree)"
   ]
  },
  {
   "cell_type": "code",
   "execution_count": 151,
   "id": "smooth-density",
   "metadata": {},
   "outputs": [],
   "source": [
    "# according to exercise\n",
    "true_w[0:4] = np.array([5,1.2,-3.4,5.6])\n",
    "\n",
    "features = np.random.normal(size=(n_train+n_test,1))"
   ]
  },
  {
   "cell_type": "code",
   "execution_count": 152,
   "id": "hundred-strategy",
   "metadata": {},
   "outputs": [],
   "source": [
    "np.random.shuffle(features)"
   ]
  },
  {
   "cell_type": "code",
   "execution_count": 153,
   "id": "narrow-denmark",
   "metadata": {},
   "outputs": [
    {
     "data": {
      "text/plain": [
       "array([[ 0,  1,  2,  3,  4,  5,  6,  7,  8,  9, 10, 11, 12, 13, 14, 15,\n",
       "        16, 17, 18, 19]])"
      ]
     },
     "execution_count": 153,
     "metadata": {},
     "output_type": "execute_result"
    }
   ],
   "source": [
    "np.arange(max_degree).reshape(1,-1)"
   ]
  },
  {
   "cell_type": "code",
   "execution_count": 154,
   "id": "happy-brief",
   "metadata": {},
   "outputs": [],
   "source": [
    "poly_features = np.power(features, np.arange(max_degree).reshape(1,-1))"
   ]
  },
  {
   "cell_type": "code",
   "execution_count": 155,
   "id": "latter-builder",
   "metadata": {},
   "outputs": [],
   "source": [
    "for i in range(max_degree):\n",
    "    poly_features[:,i] /= math.gamma(i+1) # gamma is (n-1)!"
   ]
  },
  {
   "cell_type": "code",
   "execution_count": 156,
   "id": "seven-stadium",
   "metadata": {},
   "outputs": [
    {
     "data": {
      "text/plain": [
       "(200,)"
      ]
     },
     "execution_count": 156,
     "metadata": {},
     "output_type": "execute_result"
    }
   ],
   "source": [
    "labels = np.dot( poly_features, true_w)\n",
    "labels.shape"
   ]
  },
  {
   "cell_type": "code",
   "execution_count": 157,
   "id": "other-maintenance",
   "metadata": {},
   "outputs": [
    {
     "data": {
      "text/plain": [
       "(-46.853027436321284, 13.373186527117166)"
      ]
     },
     "execution_count": 157,
     "metadata": {},
     "output_type": "execute_result"
    }
   ],
   "source": [
    "min(labels), max(labels)"
   ]
  },
  {
   "cell_type": "code",
   "execution_count": 158,
   "id": "outstanding-lithuania",
   "metadata": {},
   "outputs": [],
   "source": [
    "# adding epsilon noise\n",
    "labels += np.random.normal(scale=0.1, size=labels.shape)\n",
    "\n",
    "# what we generated was\n",
    "\n",
    "# y = 5 + 1.2 * x  - 3.4 * x^2/2! + 5.6 * x^3/3! + epsilon "
   ]
  },
  {
   "cell_type": "code",
   "execution_count": 159,
   "id": "civic-alliance",
   "metadata": {},
   "outputs": [],
   "source": [
    "# converting to tensor\n",
    "true_w,features,poly_features, labels = [torch.tensor(x, dtype=torch.float32) for x in [true_w, features, poly_features, labels]]"
   ]
  },
  {
   "cell_type": "code",
   "execution_count": 160,
   "id": "rental-advisory",
   "metadata": {},
   "outputs": [
    {
     "data": {
      "text/plain": [
       "(tensor([[-1.0903],\n",
       "         [ 0.9829]]),\n",
       " tensor([[ 1.0000e+00, -1.0903e+00,  5.9442e-01, -2.1604e-01,  5.8889e-02,\n",
       "          -1.2842e-02,  2.3337e-03, -3.6350e-04,  4.9542e-05, -6.0020e-06,\n",
       "           6.5442e-07, -6.4868e-08,  5.8940e-09, -4.9434e-10,  3.8500e-11,\n",
       "          -2.7985e-12,  1.9071e-13, -1.2232e-14,  7.4093e-16, -4.2519e-17],\n",
       "         [ 1.0000e+00,  9.8291e-01,  4.8305e-01,  1.5827e-01,  3.8890e-02,\n",
       "           7.6451e-03,  1.2524e-03,  1.7586e-04,  2.1606e-05,  2.3597e-06,\n",
       "           2.3194e-07,  2.0725e-08,  1.6975e-09,  1.2835e-10,  9.0110e-12,\n",
       "           5.9047e-13,  3.6273e-14,  2.0973e-15,  1.1452e-16,  5.9245e-18]]),\n",
       " tensor([0.4383, 5.4725]))"
      ]
     },
     "execution_count": 160,
     "metadata": {},
     "output_type": "execute_result"
    }
   ],
   "source": [
    "features[:2], poly_features[:2,:], labels[:2]"
   ]
  },
  {
   "cell_type": "code",
   "execution_count": 161,
   "id": "sophisticated-estimate",
   "metadata": {},
   "outputs": [
    {
     "data": {
      "text/plain": [
       "[<matplotlib.lines.Line2D at 0x2201fe92970>]"
      ]
     },
     "execution_count": 161,
     "metadata": {},
     "output_type": "execute_result"
    },
    {
     "data": {
      "image/png": "[encoded data removed]",
      "text/plain": [
       "<Figure size 432x288 with 1 Axes>"
      ]
     },
     "metadata": {
      "needs_background": "light"
     },
     "output_type": "display_data"
    }
   ],
   "source": [
    "import  matplotlib.pyplot as plt\n",
    "\n",
    "plt.plot(features, labels)\n",
    "\n",
    "# complex polynomial"
   ]
  },
  {
   "cell_type": "code",
   "execution_count": 162,
   "id": "desirable-chile",
   "metadata": {},
   "outputs": [],
   "source": [
    "def evaluate_loss(net, data_iter, loss):\n",
    "    total_loss = 0\n",
    "    total_len = 0\n",
    "    for X,y in data_iter:\n",
    "        y_hat = net(X)\n",
    "        y = y.reshape(y_hat)\n",
    "        l = loss(y_hat, y)\n",
    "        total_loss += l\n",
    "        total_len += l.numel()\n",
    "    \n",
    "    return total_loss/total_len\n",
    "        "
   ]
  },
  {
   "cell_type": "code",
   "execution_count": 163,
   "id": "played-chambers",
   "metadata": {},
   "outputs": [
    {
     "name": "stdout",
     "output_type": "stream",
     "text": [
      "tensor([-1.0903])\n",
      "tensor([0.4383])\n"
     ]
    }
   ],
   "source": [
    "class simpleDataset:\n",
    "    def __init__(self, features, labels):\n",
    "        self.features = features\n",
    "        self.labels = labels\n",
    "        \n",
    "        self.featres = self.features.type(torch.FloatTensor)\n",
    "        self.labels = self.labels.type(torch.FloatTensor)\n",
    "    \n",
    "    def __len__(self):\n",
    "        return len(self.labels)\n",
    "    \n",
    "    def __getitem__(self, index):\n",
    "        return self.features[index], self.labels[index]\n",
    "\n",
    "train_dataset = simpleDataset(features[:n_train], labels[:n_train].reshape(-1,1))\n",
    "\n",
    "X, y = train_dataset[0]\n",
    "\n",
    "print(X)\n",
    "print(y)\n",
    "    "
   ]
  },
  {
   "cell_type": "code",
   "execution_count": 164,
   "id": "clear-fence",
   "metadata": {},
   "outputs": [],
   "source": [
    "def create_iter(features, labels, batch_size):\n",
    "    return torch.utils.data.DataLoader(simpleDataset(features, labels), shuffle=True, batch_size=batch_size)"
   ]
  },
  {
   "cell_type": "code",
   "execution_count": 165,
   "id": "national-regular",
   "metadata": {},
   "outputs": [
    {
     "name": "stdout",
     "output_type": "stream",
     "text": [
      "torch.Size([10, 1]) torch.Size([10])\n"
     ]
    }
   ],
   "source": [
    "sample_iter = create_iter(features[:n_train], labels[:n_train], 10)\n",
    "\n",
    "for X,y in sample_iter:\n",
    "    print(X.shape, y.shape)\n",
    "    break"
   ]
  },
  {
   "cell_type": "code",
   "execution_count": 166,
   "id": "martial-edwards",
   "metadata": {},
   "outputs": [],
   "source": [
    "def evaluate_loss(net, data_iter, loss, text):\n",
    "    total_loss = 0\n",
    "    total_number = 0\n",
    "    with torch.no_grad():\n",
    "        for X, y in data_iter:\n",
    "            y_hat = net(X)\n",
    "            l =  loss(y_hat, y)\n",
    "            total_loss += l\n",
    "            total_number += y.numel()\n",
    "#     print(f\"{text} loss is : {total_loss/total_number}\")\n",
    "    return total_loss/total_number"
   ]
  },
  {
   "cell_type": "code",
   "execution_count": 167,
   "id": "commercial-initial",
   "metadata": {},
   "outputs": [],
   "source": [
    "\n",
    "def train(train_features, train_labels, test_features, test_labels, num_epochs=400):\n",
    "    loss = nn.MSELoss()\n",
    "    input_shape = train_features.shape[-1]\n",
    "    print(f\"input feature size is : {input_shape}\")\n",
    "    net = nn.Sequential(nn.Linear(input_shape,1, bias=False))\n",
    "    batch_size = min(10, train_labels.shape[0])\n",
    "    train_iter = create_iter(train_features, train_labels.reshape(-1,1), batch_size)\n",
    "    test_iter = create_iter(test_features, test_labels.reshape(-1,1), batch_size)\n",
    "    \n",
    "    optimizer = torch.optim.SGD(net.parameters(), lr=0.01)\n",
    "    \n",
    "    # training loop\n",
    "    train_loss_array = []\n",
    "    test_loss_array = []\n",
    "    epoch_number = []\n",
    "    for epoch in range(num_epochs):\n",
    "        for X, y in train_iter:\n",
    "            y_hat = net(X)\n",
    "#             print(y_hat.shape)\n",
    "#             print(y, y_hat)\n",
    "            l = loss(y_hat, y)\n",
    "            optimizer.zero_grad()\n",
    "            l.backward()\n",
    "            \n",
    "            optimizer.step()\n",
    "        \n",
    "#         print(f\"Last batch loss for epoch {epoch} is {l.detach()}\")\n",
    "        train_loss_array.append(evaluate_loss(net, train_iter, loss, \"train\"))\n",
    "        test_loss_array.append(evaluate_loss(net, test_iter, loss, \"test\"))\n",
    "        epoch_number.append(epoch)\n",
    "    \n",
    "    print(\"weight : \", net[0].weight.data.numpy())\n",
    "    \n",
    "    plt.plot(epoch_number[:40], train_loss_array[:40])\n",
    "    plt.plot(epoch_number[:40], test_loss_array[:40])\n",
    "    plt.show()"
   ]
  },
  {
   "cell_type": "code",
   "execution_count": 168,
   "id": "molecular-supplier",
   "metadata": {
    "scrolled": false
   },
   "outputs": [
    {
     "name": "stdout",
     "output_type": "stream",
     "text": [
      "input feature size is : 4\n",
      "weight :  [[ 4.9887843  1.19667   -3.3960807  5.618721 ]]\n"
     ]
    },
    {
     "data": {
      "image/png": "[encoded data removed]",
      "text/plain": [
       "<Figure size 432x288 with 1 Axes>"
      ]
     },
     "metadata": {
      "needs_background": "light"
     },
     "output_type": "display_data"
    }
   ],
   "source": [
    "# fitting third order polynomial function fitting\n",
    "\n",
    "train(poly_features[:n_train, :4], labels[:n_train], poly_features[n_train:, :4], labels[n_train:])"
   ]
  },
  {
   "cell_type": "code",
   "execution_count": 169,
   "id": "extended-savage",
   "metadata": {
    "scrolled": false
   },
   "outputs": [
    {
     "name": "stdout",
     "output_type": "stream",
     "text": [
      "input feature size is : 2\n",
      "weight :  [[2.5493052 5.1789804]]\n"
     ]
    },
    {
     "data": {
      "image/png": "[encoded data removed]",
      "text/plain": [
       "<Figure size 432x288 with 1 Axes>"
      ]
     },
     "metadata": {
      "needs_background": "light"
     },
     "output_type": "display_data"
    }
   ],
   "source": [
    "# now trying to underfit\n",
    "\n",
    "train(poly_features[:n_train, :2], labels[:n_train], poly_features[n_train:, :2], labels[n_train:])"
   ]
  },
  {
   "cell_type": "code",
   "execution_count": 170,
   "id": "otherwise-dress",
   "metadata": {},
   "outputs": [
    {
     "name": "stdout",
     "output_type": "stream",
     "text": [
      "input feature size is : 20\n",
      "weight :  [[ 4.942364    1.3689584  -3.2948985   5.0050473  -0.18205634  1.1978488\n",
      "   0.37861416  0.00776168 -0.09995652  0.11047557  0.14559302 -0.02850519\n",
      "   0.22372177 -0.09912913  0.15482725 -0.07695252 -0.20013842 -0.03450334\n",
      "  -0.13877974 -0.09069248]]\n"
     ]
    },
    {
     "data": {
      "image/png": "[encoded data removed]",
      "text/plain": [
       "<Figure size 432x288 with 1 Axes>"
      ]
     },
     "metadata": {
      "needs_background": "light"
     },
     "output_type": "display_data"
    }
   ],
   "source": [
    "# trying to overfit\n",
    "\n",
    "train(poly_features[:n_train, :],labels[:n_train], poly_features[n_train:,:], labels[n_train:])"
   ]
  },
  {
   "cell_type": "markdown",
   "id": "domestic-washington",
   "metadata": {},
   "source": [
    "### Exercises\n",
    "\n",
    "1. Can you solve the polynomial regression problem exactly? Hint: use linear algebra.\n",
    "\n",
    "dont know\n",
    "\n",
    "2. Consider model selection for polynomials:\n",
    "    1. Plot the training loss vs. model complexity (degree of the polynomial). What do you\n",
    "    observe? What degree of polynomial do you need to reduce the training loss to 0?\n",
    "    2. Plot the test loss in this case.\n",
    "    3. Generate the same plot as a function of the amount of data.\n",
    "\n",
    "3. What happens if you drop the normalization (1/i!) of the polynomial features x\n",
    "i\n",
    "? Can you\n",
    "fix this in some other way?\n",
    "\n",
    "4. Can you ever expect to see zero generalization error?"
   ]
  },
  {
   "cell_type": "code",
   "execution_count": 179,
   "id": "frequent-artist",
   "metadata": {},
   "outputs": [],
   "source": [
    "def train_loss_vs_model_complexity(t_features, t_labels, te_features, te_labels, num_epochs=20):\n",
    "    loss = nn.MSELoss()\n",
    "    \n",
    "    stored_train_loss = []\n",
    "    \n",
    "    for i in range(max_degree):\n",
    "        train_features = t_features[:, :i+1]\n",
    "        test_features = te_features[:, :i+1]\n",
    "        train_labels = t_labels\n",
    "        test_labels = te_labels\n",
    "        input_shape = train_features.shape[-1]\n",
    "        print(f\"input feature size is : {input_shape}\")\n",
    "        net = nn.Sequential(nn.Linear(input_shape,1, bias=False))\n",
    "        batch_size = min(10, train_labels.shape[0])\n",
    "        train_iter = create_iter(train_features, train_labels.reshape(-1,1), batch_size)\n",
    "        test_iter = create_iter(test_features, test_labels.reshape(-1,1), batch_size)\n",
    "\n",
    "        optimizer = torch.optim.SGD(net.parameters(), lr=0.01)\n",
    "\n",
    "        # training loop\n",
    "        \n",
    "        for epoch in range(num_epochs):\n",
    "            for X, y in train_iter:\n",
    "                y_hat = net(X)\n",
    "    #             print(y_hat.shape)\n",
    "    #             print(y, y_hat)\n",
    "                l = loss(y_hat, y)\n",
    "                optimizer.zero_grad()\n",
    "                l.backward()\n",
    "\n",
    "                optimizer.step()\n",
    "\n",
    "    #         print(f\"Last batch loss for epoch {epoch} is {l.detach()}\")\n",
    "        stored_train_loss.append(evaluate_loss(net, train_iter, loss, \"train\"))\n",
    "#         print(\"weight : \", net[0].weight.data.numpy(), \"\\n\")\n",
    "        print(f\"train loss : {stored_train_loss[-1]}\")\n",
    "    \n",
    "    plt.plot(range(max_degree), stored_train_loss)\n",
    "    plt.xlabel(\"degree\")\n",
    "    plt.ylabel(\"loss\")\n",
    "    plt.show()\n",
    "\n",
    "        \n",
    "    "
   ]
  },
  {
   "cell_type": "code",
   "execution_count": 180,
   "id": "scheduled-flush",
   "metadata": {
    "scrolled": false
   },
   "outputs": [
    {
     "name": "stdout",
     "output_type": "stream",
     "text": [
      "input feature size is : 1\n",
      "train loss : 5.066430568695068\n",
      "input feature size is : 2\n",
      "train loss : 2.102907657623291\n",
      "input feature size is : 3\n",
      "train loss : 0.6535181999206543\n",
      "input feature size is : 4\n",
      "train loss : 0.08852529525756836\n",
      "input feature size is : 5\n",
      "train loss : 0.051742520183324814\n",
      "input feature size is : 6\n",
      "train loss : 0.05205686390399933\n",
      "input feature size is : 7\n",
      "train loss : 0.051713019609451294\n",
      "input feature size is : 8\n",
      "train loss : 0.05164773017168045\n",
      "input feature size is : 9\n",
      "train loss : 0.05760958790779114\n",
      "input feature size is : 10\n",
      "train loss : 0.057554010301828384\n",
      "input feature size is : 11\n",
      "train loss : 0.05276279151439667\n",
      "input feature size is : 12\n",
      "train loss : 0.05820247158408165\n",
      "input feature size is : 13\n",
      "train loss : 0.05599742755293846\n",
      "input feature size is : 14\n",
      "train loss : 0.051871467381715775\n",
      "input feature size is : 15\n",
      "train loss : 0.05540992692112923\n",
      "input feature size is : 16\n",
      "train loss : 0.053214237093925476\n",
      "input feature size is : 17\n",
      "train loss : 0.05854136496782303\n",
      "input feature size is : 18\n",
      "train loss : 0.053465258330106735\n",
      "input feature size is : 19\n",
      "train loss : 0.05254404619336128\n",
      "input feature size is : 20\n",
      "train loss : 0.057965684682130814\n"
     ]
    },
    {
     "ename": "AttributeError",
     "evalue": "'Line2D' object has no property 'xlabel'",
     "output_type": "error",
     "traceback": [
      "\u001b[1;31m---------------------------------------------------------------------------\u001b[0m",
      "\u001b[1;31mAttributeError\u001b[0m                            Traceback (most recent call last)",
      "\u001b[1;32m<ipython-input-180-ce8363c4c7db>\u001b[0m in \u001b[0;36m<module>\u001b[1;34m\u001b[0m\n\u001b[1;32m----> 1\u001b[1;33m \u001b[0mtrain_loss_vs_model_complexity\u001b[0m\u001b[1;33m(\u001b[0m\u001b[0mpoly_features\u001b[0m\u001b[1;33m[\u001b[0m\u001b[1;33m:\u001b[0m\u001b[0mn_train\u001b[0m\u001b[1;33m,\u001b[0m \u001b[1;33m:\u001b[0m\u001b[1;33m]\u001b[0m\u001b[1;33m,\u001b[0m\u001b[0mlabels\u001b[0m\u001b[1;33m[\u001b[0m\u001b[1;33m:\u001b[0m\u001b[0mn_train\u001b[0m\u001b[1;33m]\u001b[0m\u001b[1;33m,\u001b[0m \u001b[0mpoly_features\u001b[0m\u001b[1;33m[\u001b[0m\u001b[0mn_train\u001b[0m\u001b[1;33m:\u001b[0m\u001b[1;33m,\u001b[0m\u001b[1;33m:\u001b[0m\u001b[1;33m]\u001b[0m\u001b[1;33m,\u001b[0m \u001b[0mlabels\u001b[0m\u001b[1;33m[\u001b[0m\u001b[0mn_train\u001b[0m\u001b[1;33m:\u001b[0m\u001b[1;33m]\u001b[0m\u001b[1;33m)\u001b[0m\u001b[1;33m\u001b[0m\u001b[1;33m\u001b[0m\u001b[0m\n\u001b[0m",
      "\u001b[1;32m<ipython-input-179-fdae2f5632fc>\u001b[0m in \u001b[0;36mtrain_loss_vs_model_complexity\u001b[1;34m(t_features, t_labels, te_features, te_labels, num_epochs)\u001b[0m\n\u001b[0;32m     36\u001b[0m         \u001b[0mprint\u001b[0m\u001b[1;33m(\u001b[0m\u001b[1;34mf\"train loss : {stored_train_loss[-1]}\"\u001b[0m\u001b[1;33m)\u001b[0m\u001b[1;33m\u001b[0m\u001b[1;33m\u001b[0m\u001b[0m\n\u001b[0;32m     37\u001b[0m \u001b[1;33m\u001b[0m\u001b[0m\n\u001b[1;32m---> 38\u001b[1;33m     \u001b[0mplt\u001b[0m\u001b[1;33m.\u001b[0m\u001b[0mplot\u001b[0m\u001b[1;33m(\u001b[0m\u001b[0mrange\u001b[0m\u001b[1;33m(\u001b[0m\u001b[0mmax_degree\u001b[0m\u001b[1;33m)\u001b[0m\u001b[1;33m,\u001b[0m \u001b[0mstored_train_loss\u001b[0m\u001b[1;33m,\u001b[0m \u001b[0mxlabel\u001b[0m\u001b[1;33m=\u001b[0m\u001b[1;34m\"degree\"\u001b[0m\u001b[1;33m,\u001b[0m \u001b[0mylabel\u001b[0m\u001b[1;33m=\u001b[0m\u001b[1;34m\"train loss\"\u001b[0m\u001b[1;33m)\u001b[0m\u001b[1;33m\u001b[0m\u001b[1;33m\u001b[0m\u001b[0m\n\u001b[0m\u001b[0;32m     39\u001b[0m     \u001b[0mplt\u001b[0m\u001b[1;33m.\u001b[0m\u001b[0mshow\u001b[0m\u001b[1;33m(\u001b[0m\u001b[1;33m)\u001b[0m\u001b[1;33m\u001b[0m\u001b[1;33m\u001b[0m\u001b[0m\n\u001b[0;32m     40\u001b[0m \u001b[1;33m\u001b[0m\u001b[0m\n",
      "\u001b[1;32mz:\\installs\\anconda\\envs\\myenv\\lib\\site-packages\\matplotlib\\pyplot.py\u001b[0m in \u001b[0;36mplot\u001b[1;34m(scalex, scaley, data, *args, **kwargs)\u001b[0m\n\u001b[0;32m   2838\u001b[0m \u001b[1;33m@\u001b[0m\u001b[0m_copy_docstring_and_deprecators\u001b[0m\u001b[1;33m(\u001b[0m\u001b[0mAxes\u001b[0m\u001b[1;33m.\u001b[0m\u001b[0mplot\u001b[0m\u001b[1;33m)\u001b[0m\u001b[1;33m\u001b[0m\u001b[1;33m\u001b[0m\u001b[0m\n\u001b[0;32m   2839\u001b[0m \u001b[1;32mdef\u001b[0m \u001b[0mplot\u001b[0m\u001b[1;33m(\u001b[0m\u001b[1;33m*\u001b[0m\u001b[0margs\u001b[0m\u001b[1;33m,\u001b[0m \u001b[0mscalex\u001b[0m\u001b[1;33m=\u001b[0m\u001b[1;32mTrue\u001b[0m\u001b[1;33m,\u001b[0m \u001b[0mscaley\u001b[0m\u001b[1;33m=\u001b[0m\u001b[1;32mTrue\u001b[0m\u001b[1;33m,\u001b[0m \u001b[0mdata\u001b[0m\u001b[1;33m=\u001b[0m\u001b[1;32mNone\u001b[0m\u001b[1;33m,\u001b[0m \u001b[1;33m**\u001b[0m\u001b[0mkwargs\u001b[0m\u001b[1;33m)\u001b[0m\u001b[1;33m:\u001b[0m\u001b[1;33m\u001b[0m\u001b[1;33m\u001b[0m\u001b[0m\n\u001b[1;32m-> 2840\u001b[1;33m     return gca().plot(\n\u001b[0m\u001b[0;32m   2841\u001b[0m         \u001b[1;33m*\u001b[0m\u001b[0margs\u001b[0m\u001b[1;33m,\u001b[0m \u001b[0mscalex\u001b[0m\u001b[1;33m=\u001b[0m\u001b[0mscalex\u001b[0m\u001b[1;33m,\u001b[0m \u001b[0mscaley\u001b[0m\u001b[1;33m=\u001b[0m\u001b[0mscaley\u001b[0m\u001b[1;33m,\u001b[0m\u001b[1;33m\u001b[0m\u001b[1;33m\u001b[0m\u001b[0m\n\u001b[0;32m   2842\u001b[0m         **({\"data\": data} if data is not None else {}), **kwargs)\n",
      "\u001b[1;32mz:\\installs\\anconda\\envs\\myenv\\lib\\site-packages\\matplotlib\\axes\\_axes.py\u001b[0m in \u001b[0;36mplot\u001b[1;34m(self, scalex, scaley, data, *args, **kwargs)\u001b[0m\n\u001b[0;32m   1741\u001b[0m         \"\"\"\n\u001b[0;32m   1742\u001b[0m         \u001b[0mkwargs\u001b[0m \u001b[1;33m=\u001b[0m \u001b[0mcbook\u001b[0m\u001b[1;33m.\u001b[0m\u001b[0mnormalize_kwargs\u001b[0m\u001b[1;33m(\u001b[0m\u001b[0mkwargs\u001b[0m\u001b[1;33m,\u001b[0m \u001b[0mmlines\u001b[0m\u001b[1;33m.\u001b[0m\u001b[0mLine2D\u001b[0m\u001b[1;33m)\u001b[0m\u001b[1;33m\u001b[0m\u001b[1;33m\u001b[0m\u001b[0m\n\u001b[1;32m-> 1743\u001b[1;33m         \u001b[0mlines\u001b[0m \u001b[1;33m=\u001b[0m \u001b[1;33m[\u001b[0m\u001b[1;33m*\u001b[0m\u001b[0mself\u001b[0m\u001b[1;33m.\u001b[0m\u001b[0m_get_lines\u001b[0m\u001b[1;33m(\u001b[0m\u001b[1;33m*\u001b[0m\u001b[0margs\u001b[0m\u001b[1;33m,\u001b[0m \u001b[0mdata\u001b[0m\u001b[1;33m=\u001b[0m\u001b[0mdata\u001b[0m\u001b[1;33m,\u001b[0m \u001b[1;33m**\u001b[0m\u001b[0mkwargs\u001b[0m\u001b[1;33m)\u001b[0m\u001b[1;33m]\u001b[0m\u001b[1;33m\u001b[0m\u001b[1;33m\u001b[0m\u001b[0m\n\u001b[0m\u001b[0;32m   1744\u001b[0m         \u001b[1;32mfor\u001b[0m \u001b[0mline\u001b[0m \u001b[1;32min\u001b[0m \u001b[0mlines\u001b[0m\u001b[1;33m:\u001b[0m\u001b[1;33m\u001b[0m\u001b[1;33m\u001b[0m\u001b[0m\n\u001b[0;32m   1745\u001b[0m             \u001b[0mself\u001b[0m\u001b[1;33m.\u001b[0m\u001b[0madd_line\u001b[0m\u001b[1;33m(\u001b[0m\u001b[0mline\u001b[0m\u001b[1;33m)\u001b[0m\u001b[1;33m\u001b[0m\u001b[1;33m\u001b[0m\u001b[0m\n",
      "\u001b[1;32mz:\\installs\\anconda\\envs\\myenv\\lib\\site-packages\\matplotlib\\axes\\_base.py\u001b[0m in \u001b[0;36m__call__\u001b[1;34m(self, data, *args, **kwargs)\u001b[0m\n\u001b[0;32m    271\u001b[0m                 \u001b[0mthis\u001b[0m \u001b[1;33m+=\u001b[0m \u001b[0margs\u001b[0m\u001b[1;33m[\u001b[0m\u001b[1;36m0\u001b[0m\u001b[1;33m]\u001b[0m\u001b[1;33m,\u001b[0m\u001b[1;33m\u001b[0m\u001b[1;33m\u001b[0m\u001b[0m\n\u001b[0;32m    272\u001b[0m                 \u001b[0margs\u001b[0m \u001b[1;33m=\u001b[0m \u001b[0margs\u001b[0m\u001b[1;33m[\u001b[0m\u001b[1;36m1\u001b[0m\u001b[1;33m:\u001b[0m\u001b[1;33m]\u001b[0m\u001b[1;33m\u001b[0m\u001b[1;33m\u001b[0m\u001b[0m\n\u001b[1;32m--> 273\u001b[1;33m             \u001b[1;32myield\u001b[0m \u001b[1;32mfrom\u001b[0m \u001b[0mself\u001b[0m\u001b[1;33m.\u001b[0m\u001b[0m_plot_args\u001b[0m\u001b[1;33m(\u001b[0m\u001b[0mthis\u001b[0m\u001b[1;33m,\u001b[0m \u001b[0mkwargs\u001b[0m\u001b[1;33m)\u001b[0m\u001b[1;33m\u001b[0m\u001b[1;33m\u001b[0m\u001b[0m\n\u001b[0m\u001b[0;32m    274\u001b[0m \u001b[1;33m\u001b[0m\u001b[0m\n\u001b[0;32m    275\u001b[0m     \u001b[1;32mdef\u001b[0m \u001b[0mget_next_color\u001b[0m\u001b[1;33m(\u001b[0m\u001b[0mself\u001b[0m\u001b[1;33m)\u001b[0m\u001b[1;33m:\u001b[0m\u001b[1;33m\u001b[0m\u001b[1;33m\u001b[0m\u001b[0m\n",
      "\u001b[1;32mz:\\installs\\anconda\\envs\\myenv\\lib\\site-packages\\matplotlib\\axes\\_base.py\u001b[0m in \u001b[0;36m_plot_args\u001b[1;34m(self, tup, kwargs)\u001b[0m\n\u001b[0;32m    416\u001b[0m         \u001b[1;32mif\u001b[0m \u001b[0mncx\u001b[0m \u001b[1;33m>\u001b[0m \u001b[1;36m1\u001b[0m \u001b[1;32mand\u001b[0m \u001b[0mncy\u001b[0m \u001b[1;33m>\u001b[0m \u001b[1;36m1\u001b[0m \u001b[1;32mand\u001b[0m \u001b[0mncx\u001b[0m \u001b[1;33m!=\u001b[0m \u001b[0mncy\u001b[0m\u001b[1;33m:\u001b[0m\u001b[1;33m\u001b[0m\u001b[1;33m\u001b[0m\u001b[0m\n\u001b[0;32m    417\u001b[0m             \u001b[1;32mraise\u001b[0m \u001b[0mValueError\u001b[0m\u001b[1;33m(\u001b[0m\u001b[1;34mf\"x has {ncx} columns but y has {ncy} columns\"\u001b[0m\u001b[1;33m)\u001b[0m\u001b[1;33m\u001b[0m\u001b[1;33m\u001b[0m\u001b[0m\n\u001b[1;32m--> 418\u001b[1;33m         return [func(x[:, j % ncx], y[:, j % ncy], kw, kwargs)\n\u001b[0m\u001b[0;32m    419\u001b[0m                 for j in range(max(ncx, ncy))]\n\u001b[0;32m    420\u001b[0m \u001b[1;33m\u001b[0m\u001b[0m\n",
      "\u001b[1;32mz:\\installs\\anconda\\envs\\myenv\\lib\\site-packages\\matplotlib\\axes\\_base.py\u001b[0m in \u001b[0;36m<listcomp>\u001b[1;34m(.0)\u001b[0m\n\u001b[0;32m    416\u001b[0m         \u001b[1;32mif\u001b[0m \u001b[0mncx\u001b[0m \u001b[1;33m>\u001b[0m \u001b[1;36m1\u001b[0m \u001b[1;32mand\u001b[0m \u001b[0mncy\u001b[0m \u001b[1;33m>\u001b[0m \u001b[1;36m1\u001b[0m \u001b[1;32mand\u001b[0m \u001b[0mncx\u001b[0m \u001b[1;33m!=\u001b[0m \u001b[0mncy\u001b[0m\u001b[1;33m:\u001b[0m\u001b[1;33m\u001b[0m\u001b[1;33m\u001b[0m\u001b[0m\n\u001b[0;32m    417\u001b[0m             \u001b[1;32mraise\u001b[0m \u001b[0mValueError\u001b[0m\u001b[1;33m(\u001b[0m\u001b[1;34mf\"x has {ncx} columns but y has {ncy} columns\"\u001b[0m\u001b[1;33m)\u001b[0m\u001b[1;33m\u001b[0m\u001b[1;33m\u001b[0m\u001b[0m\n\u001b[1;32m--> 418\u001b[1;33m         return [func(x[:, j % ncx], y[:, j % ncy], kw, kwargs)\n\u001b[0m\u001b[0;32m    419\u001b[0m                 for j in range(max(ncx, ncy))]\n\u001b[0;32m    420\u001b[0m \u001b[1;33m\u001b[0m\u001b[0m\n",
      "\u001b[1;32mz:\\installs\\anconda\\envs\\myenv\\lib\\site-packages\\matplotlib\\axes\\_base.py\u001b[0m in \u001b[0;36m_makeline\u001b[1;34m(self, x, y, kw, kwargs)\u001b[0m\n\u001b[0;32m    310\u001b[0m         \u001b[0mdefault_dict\u001b[0m \u001b[1;33m=\u001b[0m \u001b[0mself\u001b[0m\u001b[1;33m.\u001b[0m\u001b[0m_getdefaults\u001b[0m\u001b[1;33m(\u001b[0m\u001b[0mset\u001b[0m\u001b[1;33m(\u001b[0m\u001b[1;33m)\u001b[0m\u001b[1;33m,\u001b[0m \u001b[0mkw\u001b[0m\u001b[1;33m)\u001b[0m\u001b[1;33m\u001b[0m\u001b[1;33m\u001b[0m\u001b[0m\n\u001b[0;32m    311\u001b[0m         \u001b[0mself\u001b[0m\u001b[1;33m.\u001b[0m\u001b[0m_setdefaults\u001b[0m\u001b[1;33m(\u001b[0m\u001b[0mdefault_dict\u001b[0m\u001b[1;33m,\u001b[0m \u001b[0mkw\u001b[0m\u001b[1;33m)\u001b[0m\u001b[1;33m\u001b[0m\u001b[1;33m\u001b[0m\u001b[0m\n\u001b[1;32m--> 312\u001b[1;33m         \u001b[0mseg\u001b[0m \u001b[1;33m=\u001b[0m \u001b[0mmlines\u001b[0m\u001b[1;33m.\u001b[0m\u001b[0mLine2D\u001b[0m\u001b[1;33m(\u001b[0m\u001b[0mx\u001b[0m\u001b[1;33m,\u001b[0m \u001b[0my\u001b[0m\u001b[1;33m,\u001b[0m \u001b[1;33m**\u001b[0m\u001b[0mkw\u001b[0m\u001b[1;33m)\u001b[0m\u001b[1;33m\u001b[0m\u001b[1;33m\u001b[0m\u001b[0m\n\u001b[0m\u001b[0;32m    313\u001b[0m         \u001b[1;32mreturn\u001b[0m \u001b[0mseg\u001b[0m\u001b[1;33m\u001b[0m\u001b[1;33m\u001b[0m\u001b[0m\n\u001b[0;32m    314\u001b[0m \u001b[1;33m\u001b[0m\u001b[0m\n",
      "\u001b[1;32mz:\\installs\\anconda\\envs\\myenv\\lib\\site-packages\\matplotlib\\lines.py\u001b[0m in \u001b[0;36m__init__\u001b[1;34m(self, xdata, ydata, linewidth, linestyle, color, marker, markersize, markeredgewidth, markeredgecolor, markerfacecolor, markerfacecoloralt, fillstyle, antialiased, dash_capstyle, solid_capstyle, dash_joinstyle, solid_joinstyle, pickradius, drawstyle, markevery, **kwargs)\u001b[0m\n\u001b[0;32m    388\u001b[0m         \u001b[1;31m# update kwargs before updating data to give the caller a\u001b[0m\u001b[1;33m\u001b[0m\u001b[1;33m\u001b[0m\u001b[1;33m\u001b[0m\u001b[0m\n\u001b[0;32m    389\u001b[0m         \u001b[1;31m# chance to init axes (and hence unit support)\u001b[0m\u001b[1;33m\u001b[0m\u001b[1;33m\u001b[0m\u001b[1;33m\u001b[0m\u001b[0m\n\u001b[1;32m--> 390\u001b[1;33m         \u001b[0mself\u001b[0m\u001b[1;33m.\u001b[0m\u001b[0mupdate\u001b[0m\u001b[1;33m(\u001b[0m\u001b[0mkwargs\u001b[0m\u001b[1;33m)\u001b[0m\u001b[1;33m\u001b[0m\u001b[1;33m\u001b[0m\u001b[0m\n\u001b[0m\u001b[0;32m    391\u001b[0m         \u001b[0mself\u001b[0m\u001b[1;33m.\u001b[0m\u001b[0mpickradius\u001b[0m \u001b[1;33m=\u001b[0m \u001b[0mpickradius\u001b[0m\u001b[1;33m\u001b[0m\u001b[1;33m\u001b[0m\u001b[0m\n\u001b[0;32m    392\u001b[0m         \u001b[0mself\u001b[0m\u001b[1;33m.\u001b[0m\u001b[0mind_offset\u001b[0m \u001b[1;33m=\u001b[0m \u001b[1;36m0\u001b[0m\u001b[1;33m\u001b[0m\u001b[1;33m\u001b[0m\u001b[0m\n",
      "\u001b[1;32mz:\\installs\\anconda\\envs\\myenv\\lib\\site-packages\\matplotlib\\artist.py\u001b[0m in \u001b[0;36mupdate\u001b[1;34m(self, props)\u001b[0m\n\u001b[0;32m    994\u001b[0m                     \u001b[0mfunc\u001b[0m \u001b[1;33m=\u001b[0m \u001b[0mgetattr\u001b[0m\u001b[1;33m(\u001b[0m\u001b[0mself\u001b[0m\u001b[1;33m,\u001b[0m \u001b[1;34mf\"set_{k}\"\u001b[0m\u001b[1;33m,\u001b[0m \u001b[1;32mNone\u001b[0m\u001b[1;33m)\u001b[0m\u001b[1;33m\u001b[0m\u001b[1;33m\u001b[0m\u001b[0m\n\u001b[0;32m    995\u001b[0m                     \u001b[1;32mif\u001b[0m \u001b[1;32mnot\u001b[0m \u001b[0mcallable\u001b[0m\u001b[1;33m(\u001b[0m\u001b[0mfunc\u001b[0m\u001b[1;33m)\u001b[0m\u001b[1;33m:\u001b[0m\u001b[1;33m\u001b[0m\u001b[1;33m\u001b[0m\u001b[0m\n\u001b[1;32m--> 996\u001b[1;33m                         raise AttributeError(f\"{type(self).__name__!r} object \"\n\u001b[0m\u001b[0;32m    997\u001b[0m                                              f\"has no property {k!r}\")\n\u001b[0;32m    998\u001b[0m                     \u001b[0mret\u001b[0m\u001b[1;33m.\u001b[0m\u001b[0mappend\u001b[0m\u001b[1;33m(\u001b[0m\u001b[0mfunc\u001b[0m\u001b[1;33m(\u001b[0m\u001b[0mv\u001b[0m\u001b[1;33m)\u001b[0m\u001b[1;33m)\u001b[0m\u001b[1;33m\u001b[0m\u001b[1;33m\u001b[0m\u001b[0m\n",
      "\u001b[1;31mAttributeError\u001b[0m: 'Line2D' object has no property 'xlabel'"
     ]
    },
    {
     "data": {
      "image/png": "[encoded data removed]",
      "text/plain": [
       "<Figure size 432x288 with 1 Axes>"
      ]
     },
     "metadata": {
      "needs_background": "light"
     },
     "output_type": "display_data"
    }
   ],
   "source": [
    "train_loss_vs_model_complexity(poly_features[:n_train, :],labels[:n_train], poly_features[n_train:,:], labels[n_train:])"
   ]
  }
 ],
 "metadata": {
  "kernelspec": {
   "display_name": "Python 3",
   "language": "python",
   "name": "python3"
  },
  "language_info": {
   "codemirror_mode": {
    "name": "ipython",
    "version": 3
   },
   "file_extension": ".py",
   "mimetype": "text/x-python",
   "name": "python",
   "nbconvert_exporter": "python",
   "pygments_lexer": "ipython3",
   "version": "3.9.5"
  }
 },
 "nbformat": 4,
 "nbformat_minor": 5
}
