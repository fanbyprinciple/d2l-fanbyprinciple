{
 "cells": [
  {
   "cell_type": "code",
   "execution_count": 1,
   "id": "elementary-highlight",
   "metadata": {},
   "outputs": [],
   "source": [
    "def f(X):\n",
    "    return 2 * X + 5"
   ]
  },
  {
   "cell_type": "code",
   "execution_count": 11,
   "id": "distinguished-bruce",
   "metadata": {},
   "outputs": [],
   "source": [
    "def cubic(X):\n",
    "    return 2 * X ** 3 + 5"
   ]
  },
  {
   "cell_type": "code",
   "execution_count": 2,
   "id": "collected-genre",
   "metadata": {},
   "outputs": [],
   "source": [
    "import torch\n",
    "\n",
    "X = torch.normal(0,0.1,(3,4), requires_grad=True)"
   ]
  },
  {
   "cell_type": "code",
   "execution_count": 3,
   "id": "reflected-equipment",
   "metadata": {},
   "outputs": [
    {
     "data": {
      "text/plain": [
       "tensor([[ 0.0525,  0.0678,  0.0213,  0.0911],\n",
       "        [ 0.0982, -0.0013,  0.0942,  0.0509],\n",
       "        [ 0.0502, -0.1572, -0.0955, -0.0171]], requires_grad=True)"
      ]
     },
     "execution_count": 3,
     "metadata": {},
     "output_type": "execute_result"
    }
   ],
   "source": [
    "X"
   ]
  },
  {
   "cell_type": "code",
   "execution_count": 4,
   "id": "dominican-venezuela",
   "metadata": {},
   "outputs": [],
   "source": [
    "y = f(X)"
   ]
  },
  {
   "cell_type": "code",
   "execution_count": 7,
   "id": "molecular-humanitarian",
   "metadata": {},
   "outputs": [
    {
     "name": "stdout",
     "output_type": "stream",
     "text": [
      "tensor([[5.1050, 5.1356, 5.0426, 5.1822],\n",
      "        [5.1964, 4.9974, 5.1885, 5.1018],\n",
      "        [5.1005, 4.6855, 4.8090, 4.9658]], grad_fn=<AddBackward0>)\n",
      "tensor(60.5103)\n"
     ]
    }
   ],
   "source": [
    "with torch.no_grad():\n",
    "    print(y)\n",
    "    print(y.sum())"
   ]
  },
  {
   "cell_type": "code",
   "execution_count": 8,
   "id": "endless-onion",
   "metadata": {},
   "outputs": [],
   "source": [
    "y.sum().backward()"
   ]
  },
  {
   "cell_type": "code",
   "execution_count": 10,
   "id": "adequate-spain",
   "metadata": {},
   "outputs": [
    {
     "data": {
      "text/plain": [
       "(tensor([[2., 2., 2., 2.],\n",
       "         [2., 2., 2., 2.],\n",
       "         [2., 2., 2., 2.]]),\n",
       " torch.Size([3, 4]),\n",
       " torch.Size([3, 4]))"
      ]
     },
     "execution_count": 10,
     "metadata": {},
     "output_type": "execute_result"
    }
   ],
   "source": [
    "X.grad, X.grad.shape, X.shape"
   ]
  },
  {
   "cell_type": "code",
   "execution_count": 15,
   "id": "immune-glass",
   "metadata": {},
   "outputs": [
    {
     "data": {
      "text/plain": [
       "tensor([[0., 0., 0., 0.],\n",
       "        [0., 0., 0., 0.],\n",
       "        [0., 0., 0., 0.]])"
      ]
     },
     "execution_count": 15,
     "metadata": {},
     "output_type": "execute_result"
    }
   ],
   "source": [
    "X.grad.zero_()"
   ]
  },
  {
   "cell_type": "code",
   "execution_count": 16,
   "id": "awful-watershed",
   "metadata": {},
   "outputs": [],
   "source": [
    "y = cubic(X)"
   ]
  },
  {
   "cell_type": "code",
   "execution_count": 17,
   "id": "japanese-dover",
   "metadata": {},
   "outputs": [
    {
     "name": "stdout",
     "output_type": "stream",
     "text": [
      "tensor([[5.0003, 5.0006, 5.0000, 5.0015],\n",
      "        [5.0019, 5.0000, 5.0017, 5.0003],\n",
      "        [5.0003, 4.9922, 4.9983, 5.0000]])\n"
     ]
    }
   ],
   "source": [
    "print(y.detach())"
   ]
  },
  {
   "cell_type": "code",
   "execution_count": 18,
   "id": "norwegian-broadcast",
   "metadata": {},
   "outputs": [],
   "source": [
    "y.sum().backward()"
   ]
  },
  {
   "cell_type": "code",
   "execution_count": 19,
   "id": "friendly-potter",
   "metadata": {},
   "outputs": [
    {
     "data": {
      "text/plain": [
       "(tensor([[1.6535e-02, 2.7590e-02, 2.7244e-03, 4.9806e-02],\n",
       "         [5.7888e-02, 9.8641e-06, 5.3284e-02, 1.5554e-02],\n",
       "         [1.5139e-02, 1.4836e-01, 5.4744e-02, 1.7564e-03]]),\n",
       " torch.Size([3, 4]))"
      ]
     },
     "execution_count": 19,
     "metadata": {},
     "output_type": "execute_result"
    }
   ],
   "source": [
    "X.grad, X.grad.shape"
   ]
  },
  {
   "cell_type": "markdown",
   "id": "individual-isaac",
   "metadata": {},
   "source": [
    "# Vanishing gradients"
   ]
  },
  {
   "cell_type": "code",
   "execution_count": 20,
   "id": "processed-charity",
   "metadata": {},
   "outputs": [],
   "source": [
    "# with sigmoid function\n",
    "import matplotlib.pyplot as plt"
   ]
  },
  {
   "cell_type": "code",
   "execution_count": 21,
   "id": "wicked-least",
   "metadata": {},
   "outputs": [
    {
     "data": {
      "text/plain": [
       "tensor([-8., -7., -6., -5., -4., -3., -2., -1.,  0.,  1.,  2.,  3.,  4.,  5.,\n",
       "         6.,  7.], requires_grad=True)"
      ]
     },
     "execution_count": 21,
     "metadata": {},
     "output_type": "execute_result"
    }
   ],
   "source": [
    "X = torch.arange(-8.0, 8.0,1, requires_grad=True)\n",
    "X"
   ]
  },
  {
   "cell_type": "code",
   "execution_count": 22,
   "id": "material-warehouse",
   "metadata": {},
   "outputs": [
    {
     "data": {
      "text/plain": [
       "tensor([3.3535e-04, 9.1105e-04, 2.4726e-03, 6.6929e-03, 1.7986e-02, 4.7426e-02,\n",
       "        1.1920e-01, 2.6894e-01, 5.0000e-01, 7.3106e-01, 8.8080e-01, 9.5257e-01,\n",
       "        9.8201e-01, 9.9331e-01, 9.9753e-01, 9.9909e-01])"
      ]
     },
     "execution_count": 22,
     "metadata": {},
     "output_type": "execute_result"
    }
   ],
   "source": [
    "y = torch.sigmoid(X)\n",
    "\n",
    "y.detach()"
   ]
  },
  {
   "cell_type": "code",
   "execution_count": 24,
   "id": "consistent-regard",
   "metadata": {},
   "outputs": [],
   "source": [
    "y.sum().backward()"
   ]
  },
  {
   "cell_type": "code",
   "execution_count": 26,
   "id": "ambient-samba",
   "metadata": {},
   "outputs": [
    {
     "data": {
      "text/plain": [
       "tensor([3.3535e-04, 9.1105e-04, 2.4726e-03, 6.6929e-03, 1.7986e-02, 4.7426e-02,\n",
       "        1.1920e-01, 2.6894e-01, 5.0000e-01, 7.3106e-01, 8.8080e-01, 9.5257e-01,\n",
       "        9.8201e-01, 9.9331e-01, 9.9753e-01, 9.9909e-01])"
      ]
     },
     "execution_count": 26,
     "metadata": {},
     "output_type": "execute_result"
    }
   ],
   "source": [
    "y.detach().shape"
   ]
  },
  {
   "cell_type": "code",
   "execution_count": 31,
   "id": "exotic-daily",
   "metadata": {},
   "outputs": [
    {
     "data": {
      "image/png": "[encoded data removed]",
      "text/plain": [
       "<Figure size 432x288 with 1 Axes>"
      ]
     },
     "metadata": {
      "needs_background": "light"
     },
     "output_type": "display_data"
    }
   ],
   "source": [
    "plt.plot(X.detach(), X.grad.detach())\n",
    "plt.plot(X.detach(), y.detach())\n",
    "plt.show()"
   ]
  }
 ],
 "metadata": {
  "kernelspec": {
   "display_name": "Python 3",
   "language": "python",
   "name": "python3"
  },
  "language_info": {
   "codemirror_mode": {
    "name": "ipython",
    "version": 3
   },
   "file_extension": ".py",
   "mimetype": "text/x-python",
   "name": "python",
   "nbconvert_exporter": "python",
   "pygments_lexer": "ipython3",
   "version": "3.9.5"
  }
 },
 "nbformat": 4,
 "nbformat_minor": 5
}
