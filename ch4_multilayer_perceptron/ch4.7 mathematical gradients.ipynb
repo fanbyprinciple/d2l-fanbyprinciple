{
 "cells": [
  {
   "cell_type": "code",
   "execution_count": 1,
   "id": "detected-lithuania",
   "metadata": {},
   "outputs": [],
   "source": [
    "def f(X):\n",
    "    return 2 * X + 5"
   ]
  },
  {
   "cell_type": "code",
   "execution_count": 11,
   "id": "minor-water",
   "metadata": {},
   "outputs": [],
   "source": [
    "def cubic(X):\n",
    "    return 2 * X ** 3 + 5"
   ]
  },
  {
   "cell_type": "code",
   "execution_count": 2,
   "id": "limited-modem",
   "metadata": {},
   "outputs": [],
   "source": [
    "import torch\n",
    "\n",
    "X = torch.normal(0,0.1,(3,4), requires_grad=True)"
   ]
  },
  {
   "cell_type": "code",
   "execution_count": 3,
   "id": "fatty-welcome",
   "metadata": {},
   "outputs": [
    {
     "data": {
      "text/plain": [
       "tensor([[ 0.0525,  0.0678,  0.0213,  0.0911],\n",
       "        [ 0.0982, -0.0013,  0.0942,  0.0509],\n",
       "        [ 0.0502, -0.1572, -0.0955, -0.0171]], requires_grad=True)"
      ]
     },
     "execution_count": 3,
     "metadata": {},
     "output_type": "execute_result"
    }
   ],
   "source": [
    "X"
   ]
  },
  {
   "cell_type": "code",
   "execution_count": 4,
   "id": "duplicate-liberia",
   "metadata": {},
   "outputs": [],
   "source": [
    "y = f(X)"
   ]
  },
  {
   "cell_type": "code",
   "execution_count": 7,
   "id": "demographic-cargo",
   "metadata": {},
   "outputs": [
    {
     "name": "stdout",
     "output_type": "stream",
     "text": [
      "tensor([[5.1050, 5.1356, 5.0426, 5.1822],\n",
      "        [5.1964, 4.9974, 5.1885, 5.1018],\n",
      "        [5.1005, 4.6855, 4.8090, 4.9658]], grad_fn=<AddBackward0>)\n",
      "tensor(60.5103)\n"
     ]
    }
   ],
   "source": [
    "with torch.no_grad():\n",
    "    print(y)\n",
    "    print(y.sum())"
   ]
  },
  {
   "cell_type": "code",
   "execution_count": 8,
   "id": "fatal-insertion",
   "metadata": {},
   "outputs": [],
   "source": [
    "y.sum().backward()"
   ]
  },
  {
   "cell_type": "code",
   "execution_count": 10,
   "id": "proof-collar",
   "metadata": {},
   "outputs": [
    {
     "data": {
      "text/plain": [
       "(tensor([[2., 2., 2., 2.],\n",
       "         [2., 2., 2., 2.],\n",
       "         [2., 2., 2., 2.]]),\n",
       " torch.Size([3, 4]),\n",
       " torch.Size([3, 4]))"
      ]
     },
     "execution_count": 10,
     "metadata": {},
     "output_type": "execute_result"
    }
   ],
   "source": [
    "X.grad, X.grad.shape, X.shape"
   ]
  },
  {
   "cell_type": "code",
   "execution_count": 15,
   "id": "downtown-posting",
   "metadata": {},
   "outputs": [
    {
     "data": {
      "text/plain": [
       "tensor([[0., 0., 0., 0.],\n",
       "        [0., 0., 0., 0.],\n",
       "        [0., 0., 0., 0.]])"
      ]
     },
     "execution_count": 15,
     "metadata": {},
     "output_type": "execute_result"
    }
   ],
   "source": [
    "X.grad.zero_()"
   ]
  },
  {
   "cell_type": "code",
   "execution_count": 16,
   "id": "prospective-layout",
   "metadata": {},
   "outputs": [],
   "source": [
    "y = cubic(X)"
   ]
  },
  {
   "cell_type": "code",
   "execution_count": 17,
   "id": "supported-final",
   "metadata": {},
   "outputs": [
    {
     "name": "stdout",
     "output_type": "stream",
     "text": [
      "tensor([[5.0003, 5.0006, 5.0000, 5.0015],\n",
      "        [5.0019, 5.0000, 5.0017, 5.0003],\n",
      "        [5.0003, 4.9922, 4.9983, 5.0000]])\n"
     ]
    }
   ],
   "source": [
    "print(y.detach())"
   ]
  },
  {
   "cell_type": "code",
   "execution_count": 18,
   "id": "fitted-lincoln",
   "metadata": {},
   "outputs": [],
   "source": [
    "y.sum().backward()"
   ]
  },
  {
   "cell_type": "code",
   "execution_count": 19,
   "id": "attached-infrared",
   "metadata": {},
   "outputs": [
    {
     "data": {
      "text/plain": [
       "(tensor([[1.6535e-02, 2.7590e-02, 2.7244e-03, 4.9806e-02],\n",
       "         [5.7888e-02, 9.8641e-06, 5.3284e-02, 1.5554e-02],\n",
       "         [1.5139e-02, 1.4836e-01, 5.4744e-02, 1.7564e-03]]),\n",
       " torch.Size([3, 4]))"
      ]
     },
     "execution_count": 19,
     "metadata": {},
     "output_type": "execute_result"
    }
   ],
   "source": [
    "X.grad, X.grad.shape"
   ]
  }
 ],
 "metadata": {
  "kernelspec": {
   "display_name": "Python 3",
   "language": "python",
   "name": "python3"
  },
  "language_info": {
   "codemirror_mode": {
    "name": "ipython",
    "version": 3
   },
   "file_extension": ".py",
   "mimetype": "text/x-python",
   "name": "python",
   "nbconvert_exporter": "python",
   "pygments_lexer": "ipython3",
   "version": "3.9.5"
  }
 },
 "nbformat": 4,
 "nbformat_minor": 5
}
