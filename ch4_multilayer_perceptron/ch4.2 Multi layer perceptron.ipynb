{
 "cells": [
  {
   "cell_type": "code",
   "execution_count": 1,
   "id": "african-spanish",
   "metadata": {},
   "outputs": [],
   "source": [
    "from torch import nn\n",
    "import torch"
   ]
  },
  {
   "cell_type": "code",
   "execution_count": 2,
   "id": "stone-wednesday",
   "metadata": {},
   "outputs": [],
   "source": [
    "batch_size=256"
   ]
  },
  {
   "cell_type": "code",
   "execution_count": 3,
   "id": "thermal-kennedy",
   "metadata": {},
   "outputs": [],
   "source": [
    "import torchvision"
   ]
  },
  {
   "cell_type": "code",
   "execution_count": 4,
   "id": "interesting-newport",
   "metadata": {},
   "outputs": [],
   "source": [
    "my_transforms = torchvision.transforms.ToTensor()"
   ]
  },
  {
   "cell_type": "code",
   "execution_count": 5,
   "id": "pointed-netherlands",
   "metadata": {},
   "outputs": [],
   "source": [
    "train_dataset = torchvision.datasets.FashionMNIST(root='./data', download=False, train=True, transform=my_transforms)\n",
    "test_dataset = torchvision.datasets.FashionMNIST(root='./data', download=False, train=False, transform=my_transforms)"
   ]
  },
  {
   "cell_type": "code",
   "execution_count": 6,
   "id": "distinguished-publicity",
   "metadata": {},
   "outputs": [],
   "source": [
    "train_iter = torch.utils.data.DataLoader(train_dataset, shuffle=True, batch_size=batch_size, num_workers=4)\n",
    "test_iter = torch.utils.data.DataLoader(test_dataset, shuffle=False, batch_size=batch_size, num_workers=4)"
   ]
  },
  {
   "cell_type": "code",
   "execution_count": 8,
   "id": "pressing-result",
   "metadata": {},
   "outputs": [
    {
     "name": "stdout",
     "output_type": "stream",
     "text": [
      "tensor(7)\n"
     ]
    },
    {
     "data": {
      "image/png": "[encoded data removed]",
      "text/plain": [
       "<Figure size 432x288 with 1 Axes>"
      ]
     },
     "metadata": {
      "needs_background": "light"
     },
     "output_type": "display_data"
    }
   ],
   "source": [
    "import matplotlib.pyplot as plt\n",
    "\n",
    "for X, y in train_iter:\n",
    "    print(y[0])\n",
    "    pic = X[0]\n",
    "    plt.imshow(pic.permute(1,2,0))\n",
    "    break\n",
    "\n",
    "# data loaded\n",
    "    "
   ]
  },
  {
   "cell_type": "code",
   "execution_count": 9,
   "id": "polar-tyler",
   "metadata": {},
   "outputs": [],
   "source": [
    "def get_fashion_mnist_labels(labels):\n",
    "    label_encoded = [\n",
    "        't-shirt', 'trouser', 'pullover', 'dress', 'coat', 'sandal', 'shirt',\n",
    "        'sneaker', 'bag', 'ankle boot']\n",
    "    label_texts = []\n",
    "    for label in labels:\n",
    "        label_texts.append(label_encoded[label])\n",
    "    \n",
    "    return label_texts"
   ]
  },
  {
   "cell_type": "code",
   "execution_count": 12,
   "id": "welsh-movie",
   "metadata": {},
   "outputs": [],
   "source": [
    "num_inputs = 784\n",
    "num_outputs = 10\n",
    "num_hidden =256\n",
    "\n",
    "W1 = torch.normal(0,1,(num_inputs,num_hidden), requires_grad=True)\n",
    "b1 = torch.zeros(num_hidden, requires_grad=True)\n",
    "\n",
    "W2 = torch.normal(0,1,(num_hidden,num_outputs), requires_grad=True)\n",
    "b2 = torch.zeros(num_outputs, requires_grad=True)"
   ]
  },
  {
   "cell_type": "code",
   "execution_count": 13,
   "id": "boring-blame",
   "metadata": {},
   "outputs": [],
   "source": [
    "params = [W1, b1, W2, b2]"
   ]
  },
  {
   "cell_type": "code",
   "execution_count": 14,
   "id": "generous-journalism",
   "metadata": {},
   "outputs": [],
   "source": [
    "def relu(X):\n",
    "    a = torch.zeros_like(X)\n",
    "    return torch.max(X,a)"
   ]
  },
  {
   "cell_type": "code",
   "execution_count": 15,
   "id": "quiet-albert",
   "metadata": {},
   "outputs": [],
   "source": [
    "def net(X):\n",
    "    X = X.reshape(-1,num_inputs)\n",
    "    H = relu(X @ W1 + b1)\n",
    "    return H @ W2 + b2"
   ]
  },
  {
   "cell_type": "code",
   "execution_count": 16,
   "id": "smooth-optimization",
   "metadata": {},
   "outputs": [],
   "source": [
    "loss = nn.CrossEntropyLoss()"
   ]
  },
  {
   "cell_type": "code",
   "execution_count": 17,
   "id": "normal-metropolitan",
   "metadata": {},
   "outputs": [],
   "source": [
    "updater = torch.optim.SGD(params, lr=0.1)"
   ]
  },
  {
   "cell_type": "code",
   "execution_count": 18,
   "id": "failing-arrival",
   "metadata": {},
   "outputs": [],
   "source": [
    "def accuracy(y_hat, y):\n",
    "    return (y_hat==y).sum()"
   ]
  },
  {
   "cell_type": "code",
   "execution_count": 21,
   "id": "korean-industry",
   "metadata": {},
   "outputs": [
    {
     "name": "stdout",
     "output_type": "stream",
     "text": [
      "for epoch 0 latest loss 1.8592239618301392\n",
      "for epoch 1 latest loss 0.6719202995300293\n",
      "for epoch 2 latest loss 1.255092978477478\n",
      "for epoch 3 latest loss 0.8615303635597229\n",
      "for epoch 4 latest loss 0.7042352557182312\n",
      "for epoch 5 latest loss 0.6422981023788452\n",
      "for epoch 6 latest loss 0.7140505313873291\n",
      "for epoch 7 latest loss 0.7314797043800354\n",
      "for epoch 8 latest loss 0.5549367070198059\n",
      "for epoch 9 latest loss 0.7145854830741882\n"
     ]
    }
   ],
   "source": [
    "# Training\n",
    "\n",
    "num_epochs = 10\n",
    "train_acc_array = []\n",
    "train_loss_array = []\n",
    "\n",
    "for epoch in range(num_epochs):\n",
    "    train_loss = 0\n",
    "    total_n = 0\n",
    "    train_acc = 0\n",
    "\n",
    "    for X, y in train_iter:\n",
    "        y_hat = net(X)\n",
    "#         print(y_hat)\n",
    "        l = loss(y_hat, y)\n",
    "        updater.zero_grad()\n",
    "        l.backward()\n",
    "        updater.step()\n",
    "    \n",
    "    print(f\"for epoch {epoch} latest loss {l}\")\n",
    "#         train_loss += l\n",
    "#         total_n += len(y)\n",
    "#         train_acc += accuracy(y_hat, y)\n",
    "    \n",
    "#     avg_acc = train_acc/total_n\n",
    "#     avg_loss = train_loss/total_n\n",
    "    \n",
    "#     train_acc_array.append(avg_acc)\n",
    "#     train_loss_array.append(avg_loss)\n",
    "\n",
    "    \n",
    "# plt.plot(range(epoch+1), train_acc_array, label=\"train acc\")\n",
    "# plt.plot(range(epoch+1), train_loss_array, label=\"train loss\")\n",
    "# plt.legend()\n",
    "# plt.grid(True)"
   ]
  },
  {
   "cell_type": "code",
   "execution_count": 22,
   "id": "dense-combine",
   "metadata": {},
   "outputs": [],
   "source": [
    "def prediction_ch3(net, test_iter, n=6):\n",
    "    for X,y in test_iter:\n",
    "        break\n",
    "    \n",
    "    predicted_labels = net(X[:n]).argmax(dim=1)\n",
    "    actual_labels = y[:n]\n",
    "    \n",
    "#     print(predicted_labels, actual_labels)\n",
    "    \n",
    "    show_images(X[:n], 2, 3, title=get_fashion_mnist_labels(predicted_labels))\n",
    "    print(get_fashion_mnist_labels(actual_labels))"
   ]
  },
  {
   "cell_type": "code",
   "execution_count": 23,
   "id": "driving-diabetes",
   "metadata": {},
   "outputs": [],
   "source": [
    "def show_images (imgs,num_cols, num_rows, title=None, scale=0.5):\n",
    "    figsize = (num_cols* scale, num_rows * scale)\n",
    "    plt.subplots_adjust(hspace=0.8, wspace=0.2)\n",
    "    for i in range(len(imgs)):\n",
    "#         plt.figure(figsize=figsize)\n",
    "        plt.subplot(num_cols, num_rows, i+1)\n",
    "        plt.imshow(imgs[i].permute(1,2,0))\n",
    "#         plt.text(0.5, -0.02,title[i],fontsize=9 )\n",
    "        plt.title(title[i], fontsize=9)\n",
    "        plt.axis('off')\n",
    "        plt.grid(b=None)"
   ]
  },
  {
   "cell_type": "code",
   "execution_count": 24,
   "id": "systematic-adventure",
   "metadata": {},
   "outputs": [
    {
     "name": "stdout",
     "output_type": "stream",
     "text": [
      "['ankle boot', 'pullover', 'trouser', 'trouser', 'shirt', 'trouser']\n"
     ]
    },
    {
     "data": {
      "image/png": "[encoded data removed]",
      "text/plain": [
       "<Figure size 432x288 with 6 Axes>"
      ]
     },
     "metadata": {
      "needs_background": "light"
     },
     "output_type": "display_data"
    }
   ],
   "source": [
    "prediction_ch3(net, test_iter, n=6)"
   ]
  }
 ],
 "metadata": {
  "kernelspec": {
   "display_name": "Python 3",
   "language": "python",
   "name": "python3"
  },
  "language_info": {
   "codemirror_mode": {
    "name": "ipython",
    "version": 3
   },
   "file_extension": ".py",
   "mimetype": "text/x-python",
   "name": "python",
   "nbconvert_exporter": "python",
   "pygments_lexer": "ipython3",
   "version": "3.9.5"
  }
 },
 "nbformat": 4,
 "nbformat_minor": 5
}
