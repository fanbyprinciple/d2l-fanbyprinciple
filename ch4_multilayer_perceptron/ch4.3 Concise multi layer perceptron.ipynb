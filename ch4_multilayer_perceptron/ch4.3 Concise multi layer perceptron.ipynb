{
 "cells": [
  {
   "cell_type": "code",
   "execution_count": 1,
   "id": "plain-astronomy",
   "metadata": {},
   "outputs": [],
   "source": [
    "import torch\n",
    "import torchvision"
   ]
  },
  {
   "cell_type": "code",
   "execution_count": 2,
   "id": "instrumental-basin",
   "metadata": {},
   "outputs": [],
   "source": [
    "my_transform = torchvision.transforms.ToTensor()"
   ]
  },
  {
   "cell_type": "code",
   "execution_count": 4,
   "id": "specific-roberts",
   "metadata": {},
   "outputs": [],
   "source": [
    "train_dataset = torchvision.datasets.FashionMNIST(train=True, download=False,root='data', transform=my_transform)\n",
    "test_dataset = torchvision.datasets.FashionMNIST(train=False, download=False, root='data', transform=my_transform)"
   ]
  },
  {
   "cell_type": "code",
   "execution_count": 5,
   "id": "supreme-impossible",
   "metadata": {},
   "outputs": [],
   "source": [
    "train_iter = torch.utils.data.DataLoader(train_dataset, batch_size=256, shuffle=True)\n",
    "test_iter = torch.utils.data.DataLoader(test_dataset, batch_size=256, shuffle=True)"
   ]
  },
  {
   "cell_type": "code",
   "execution_count": 6,
   "id": "completed-guard",
   "metadata": {},
   "outputs": [],
   "source": [
    "loss = torch.nn.CrossEntropyLoss()"
   ]
  },
  {
   "cell_type": "code",
   "execution_count": 9,
   "id": "seven-saver",
   "metadata": {},
   "outputs": [],
   "source": [
    "net = torch.nn.Sequential(torch.nn.Flatten(), torch.nn.Linear(784,256), torch.nn.ReLU(), torch.nn.Linear(256,10))"
   ]
  },
  {
   "cell_type": "code",
   "execution_count": 11,
   "id": "large-crack",
   "metadata": {},
   "outputs": [
    {
     "data": {
      "text/plain": [
       "Sequential(\n",
       "  (0): Flatten(start_dim=1, end_dim=-1)\n",
       "  (1): Linear(in_features=784, out_features=256, bias=True)\n",
       "  (2): ReLU()\n",
       "  (3): Linear(in_features=256, out_features=10, bias=True)\n",
       ")"
      ]
     },
     "execution_count": 11,
     "metadata": {},
     "output_type": "execute_result"
    }
   ],
   "source": [
    "def init_weights(m):\n",
    "    if type(m) == torch.nn.Linear:\n",
    "        torch.nn.init.normal_(m.weight, std=0.01)\n",
    "        \n",
    "net.apply(init_weights)"
   ]
  },
  {
   "cell_type": "code",
   "execution_count": 12,
   "id": "greatest-telephone",
   "metadata": {},
   "outputs": [],
   "source": [
    "optimizer = torch.optim.SGD(net.parameters(),lr=0.01)"
   ]
  },
  {
   "cell_type": "code",
   "execution_count": 13,
   "id": "together-tobago",
   "metadata": {},
   "outputs": [],
   "source": [
    "def train_epoch(net, train_iter, num_epochs, loss):\n",
    "    for epoch in range(num_epochs):\n",
    "        for X, y in train_iter:\n",
    "            y_hat = net(X)\n",
    "            l = loss(y_hat, y)\n",
    "            optimizer.zero_grad()\n",
    "            l.backward()\n",
    "            optimizer.step()\n",
    "        \n",
    "        print(f\"For  {epoch}, loss :{l} \")"
   ]
  },
  {
   "cell_type": "code",
   "execution_count": 14,
   "id": "moved-complaint",
   "metadata": {},
   "outputs": [
    {
     "name": "stdout",
     "output_type": "stream",
     "text": [
      "For  0, loss :1.874240517616272 \n",
      "For  1, loss :1.3036627769470215 \n",
      "For  2, loss :1.0698219537734985 \n",
      "For  3, loss :0.8804893493652344 \n",
      "For  4, loss :0.7858079075813293 \n"
     ]
    }
   ],
   "source": [
    "train_epoch(net, train_iter, 5, loss)"
   ]
  },
  {
   "cell_type": "code",
   "execution_count": 30,
   "id": "political-distributor",
   "metadata": {},
   "outputs": [
    {
     "name": "stdout",
     "output_type": "stream",
     "text": [
      "tensor(7) tensor([1])\n"
     ]
    },
    {
     "data": {
      "image/png": "[encoded data removed]",
      "text/plain": [
       "<Figure size 432x288 with 1 Axes>"
      ]
     },
     "metadata": {
      "needs_background": "light"
     },
     "output_type": "display_data"
    }
   ],
   "source": [
    "import matplotlib.pyplot as plt\n",
    "\n",
    "def predict_one(test_iter):\n",
    "    for X, y in test_iter:\n",
    "        y_hat = net(X[0]).argmax(1)\n",
    "        plt.imshow(X[0].permute(1,2,0))\n",
    "        print(y[0], y_hat)\n",
    "        break\n",
    "        \n",
    "predict_one(test_iter)"
   ]
  },
  {
   "cell_type": "markdown",
   "id": "appropriate-litigation",
   "metadata": {},
   "source": [
    "### Exercises\n",
    "\n",
    "1. Try adding different numbers of hidden layers (you may also modify the learning rate). What\n",
    "setting works best?\n",
    "2. Try out different activation functions. Which one works best?\n",
    "3. Try different schemes for initializing the weights. What method works best?"
   ]
  },
  {
   "cell_type": "code",
   "execution_count": 18,
   "id": "plastic-monroe",
   "metadata": {},
   "outputs": [],
   "source": [
    "#1 \n",
    "import torch.nn as nn\n",
    "\n",
    "net = nn.Sequential(\n",
    "        nn.Flatten(),\n",
    "        nn.Linear(784,256),\n",
    "        nn.ReLU(),\n",
    "        nn.Linear(256,64),\n",
    "        nn.ReLU(),\n",
    "        nn.Linear(64,10)\n",
    "    )"
   ]
  },
  {
   "cell_type": "code",
   "execution_count": 19,
   "id": "advisory-therapy",
   "metadata": {},
   "outputs": [],
   "source": [
    "#3\n",
    "\n",
    "#intialising the weights to zero\n",
    "\n",
    "def init_weight_to_zero(m):\n",
    "    if type(m) == nn.Linear:\n",
    "#         nn.init.normal_(m.weight, std=0.1)\n",
    "        nn.init.zeros_(m.weight)"
   ]
  },
  {
   "cell_type": "code",
   "execution_count": 20,
   "id": "focal-laundry",
   "metadata": {},
   "outputs": [
    {
     "data": {
      "text/plain": [
       "Sequential(\n",
       "  (0): Flatten(start_dim=1, end_dim=-1)\n",
       "  (1): Linear(in_features=784, out_features=256, bias=True)\n",
       "  (2): ReLU()\n",
       "  (3): Linear(in_features=256, out_features=64, bias=True)\n",
       "  (4): ReLU()\n",
       "  (5): Linear(in_features=64, out_features=10, bias=True)\n",
       ")"
      ]
     },
     "execution_count": 20,
     "metadata": {},
     "output_type": "execute_result"
    }
   ],
   "source": [
    "net.apply(init_weight_to_zero)"
   ]
  },
  {
   "cell_type": "code",
   "execution_count": 27,
   "id": "limited-stanford",
   "metadata": {
    "scrolled": false
   },
   "outputs": [
    {
     "name": "stdout",
     "output_type": "stream",
     "text": [
      "Parameter containing:\n",
      "tensor([[0., 0., 0.,  ..., 0., 0., 0.],\n",
      "        [0., 0., 0.,  ..., 0., 0., 0.],\n",
      "        [0., 0., 0.,  ..., 0., 0., 0.],\n",
      "        ...,\n",
      "        [0., 0., 0.,  ..., 0., 0., 0.],\n",
      "        [0., 0., 0.,  ..., 0., 0., 0.],\n",
      "        [0., 0., 0.,  ..., 0., 0., 0.]], requires_grad=True)\n",
      "Parameter containing:\n",
      "tensor([ 2.7088e-02,  2.4825e-03,  7.1099e-03, -8.0640e-04,  3.3403e-02,\n",
      "         3.4258e-02,  1.9895e-02,  5.0261e-03,  1.7940e-02,  3.2622e-02,\n",
      "         3.0682e-02,  2.3643e-04, -1.5638e-02, -2.1498e-02, -1.5477e-02,\n",
      "         4.6876e-03,  2.1176e-02, -3.4443e-02, -3.5599e-03, -2.2955e-02,\n",
      "         2.9787e-02, -1.4461e-02,  1.0629e-02,  1.2817e-02,  1.0149e-02,\n",
      "        -7.5140e-04,  3.4496e-02,  2.2141e-02, -3.2468e-02,  3.3399e-02,\n",
      "         1.0779e-02, -2.3181e-02, -1.3938e-02, -9.4698e-03, -2.2919e-03,\n",
      "        -7.6109e-03,  1.0059e-02,  1.1487e-02,  2.4636e-02,  3.1517e-02,\n",
      "        -1.6581e-03,  1.0538e-02,  8.1604e-03,  2.9261e-02,  1.3604e-02,\n",
      "        -3.1902e-02, -2.8545e-02, -3.0936e-02, -6.3352e-04,  2.4706e-02,\n",
      "         2.2560e-02, -1.2660e-02, -1.6804e-02, -1.4515e-02, -1.8576e-02,\n",
      "        -7.5044e-03, -2.7040e-02, -3.1788e-02, -4.8216e-03,  2.2518e-02,\n",
      "        -2.0391e-02, -2.1519e-02, -2.3083e-02, -1.0915e-02,  2.4998e-02,\n",
      "        -2.3446e-02, -1.0242e-03, -1.6921e-02,  2.9591e-02,  3.1487e-02,\n",
      "        -1.4217e-02,  8.5793e-03,  2.4715e-02,  2.5956e-02,  1.1055e-02,\n",
      "        -1.7096e-03,  2.1426e-02,  3.5402e-02,  2.2567e-02, -4.3533e-03,\n",
      "         3.3056e-02,  8.8842e-03,  2.8539e-02,  1.5520e-02,  8.7366e-03,\n",
      "        -6.7508e-03, -1.1221e-02, -4.7103e-03, -2.3412e-02,  3.3642e-03,\n",
      "        -2.0789e-02, -1.4469e-02, -3.5083e-03,  2.7945e-02,  1.6279e-02,\n",
      "        -1.7446e-03, -1.4355e-02,  2.6929e-02,  4.5701e-03, -1.6076e-02,\n",
      "        -2.5900e-02,  9.5042e-03, -1.5402e-02, -3.0527e-02, -1.1188e-02,\n",
      "         1.2851e-02,  2.7464e-02, -2.2035e-02, -7.3506e-03, -3.1905e-02,\n",
      "        -1.3348e-02, -1.2818e-02, -3.4930e-02,  1.4984e-02, -2.7573e-02,\n",
      "        -9.6020e-03,  2.0438e-02,  1.2887e-02,  1.5406e-02,  2.4863e-03,\n",
      "        -2.4256e-02, -1.8122e-02, -3.0146e-02,  3.1588e-02, -1.1540e-02,\n",
      "         2.7458e-02,  3.2519e-03, -1.0405e-02,  9.3622e-03,  2.1405e-02,\n",
      "        -3.1166e-02, -3.3432e-02, -2.8330e-02,  2.0695e-02, -1.9269e-02,\n",
      "        -3.1095e-02, -2.9853e-02, -2.3434e-02, -2.8718e-02,  1.6981e-02,\n",
      "         1.6669e-02,  1.7337e-02,  1.1655e-02, -3.4370e-03, -3.2632e-02,\n",
      "         2.7925e-02, -2.7494e-03,  1.0571e-02, -1.4960e-02,  2.6186e-02,\n",
      "         1.6569e-02, -2.1856e-02, -2.2911e-03, -2.3031e-02, -9.2405e-03,\n",
      "         4.6971e-03, -2.7068e-02,  1.1579e-02, -1.0161e-03, -1.3678e-02,\n",
      "         2.0246e-02,  1.8461e-02, -2.4191e-03,  2.3777e-02, -2.9915e-02,\n",
      "         1.0809e-03,  3.2848e-02, -3.4773e-02, -2.8962e-02,  2.9058e-02,\n",
      "        -3.0564e-02,  6.8153e-03, -6.4004e-03,  6.0702e-03, -2.8868e-02,\n",
      "         1.0252e-02, -2.4576e-02,  1.1302e-02, -2.5462e-02,  2.6622e-02,\n",
      "        -1.4535e-02, -1.7425e-02, -2.3566e-02,  6.9803e-03,  2.0763e-02,\n",
      "        -1.4426e-02, -2.1065e-02,  5.3873e-03, -4.8361e-03, -2.2104e-02,\n",
      "        -4.3822e-04,  2.6671e-03, -1.1032e-02,  1.1760e-02, -2.4799e-02,\n",
      "         2.5764e-02, -3.3896e-02, -3.5001e-02, -3.8317e-04, -3.4009e-02,\n",
      "         2.4247e-02,  4.5536e-03,  3.3858e-02, -1.6204e-02,  3.1366e-02,\n",
      "        -6.2517e-03,  2.0013e-02, -2.7768e-05, -2.1491e-02,  1.1465e-02,\n",
      "        -1.9565e-02, -2.3366e-02,  1.6419e-02, -1.3359e-02, -3.1292e-02,\n",
      "         1.4611e-02,  1.4664e-02, -7.2469e-03, -3.2115e-04, -1.2355e-02,\n",
      "        -1.6751e-02,  2.4097e-03,  2.9626e-03, -1.8401e-03, -2.7961e-02,\n",
      "        -3.1704e-02,  2.8502e-03,  1.0829e-02,  8.4120e-03, -3.0565e-02,\n",
      "        -1.9593e-02, -1.4481e-02,  9.1976e-03, -1.3078e-04,  5.8824e-03,\n",
      "         2.5564e-02,  1.7645e-02,  3.0120e-02, -3.0261e-02,  1.6158e-02,\n",
      "         3.2063e-02,  1.6556e-02,  1.1119e-02, -1.9290e-02, -1.7761e-03,\n",
      "        -1.0337e-02,  2.4022e-02,  3.5329e-02, -1.6978e-02, -3.5242e-03,\n",
      "        -1.8451e-02,  1.7549e-04,  1.3908e-02, -2.0025e-02,  1.8348e-02,\n",
      "        -1.5210e-02], requires_grad=True)\n",
      "Parameter containing:\n",
      "tensor([[0., 0., 0.,  ..., 0., 0., 0.],\n",
      "        [0., 0., 0.,  ..., 0., 0., 0.],\n",
      "        [0., 0., 0.,  ..., 0., 0., 0.],\n",
      "        ...,\n",
      "        [0., 0., 0.,  ..., 0., 0., 0.],\n",
      "        [0., 0., 0.,  ..., 0., 0., 0.],\n",
      "        [0., 0., 0.,  ..., 0., 0., 0.]], requires_grad=True)\n",
      "Parameter containing:\n",
      "tensor([-0.0321,  0.0396, -0.0267, -0.0036,  0.0325,  0.0619, -0.0350,  0.0350,\n",
      "         0.0100,  0.0501, -0.0625, -0.0313,  0.0017, -0.0195, -0.0437,  0.0026,\n",
      "         0.0540,  0.0526,  0.0370, -0.0525, -0.0462,  0.0455, -0.0284,  0.0447,\n",
      "        -0.0267, -0.0495, -0.0303, -0.0238, -0.0274, -0.0555,  0.0443, -0.0305,\n",
      "         0.0239, -0.0353, -0.0203, -0.0461,  0.0507, -0.0474, -0.0361,  0.0038,\n",
      "        -0.0011,  0.0023,  0.0320,  0.0450,  0.0336, -0.0605,  0.0269, -0.0144,\n",
      "        -0.0178, -0.0158, -0.0005, -0.0528, -0.0613, -0.0096, -0.0308,  0.0065,\n",
      "         0.0094, -0.0303,  0.0404,  0.0263, -0.0138,  0.0183, -0.0474, -0.0376],\n",
      "       requires_grad=True)\n",
      "Parameter containing:\n",
      "tensor([[0., 0., 0., 0., 0., 0., 0., 0., 0., 0., 0., 0., 0., 0., 0., 0., 0., 0., 0., 0., 0., 0., 0., 0.,\n",
      "         0., 0., 0., 0., 0., 0., 0., 0., 0., 0., 0., 0., 0., 0., 0., 0., 0., 0., 0., 0., 0., 0., 0., 0.,\n",
      "         0., 0., 0., 0., 0., 0., 0., 0., 0., 0., 0., 0., 0., 0., 0., 0.],\n",
      "        [0., 0., 0., 0., 0., 0., 0., 0., 0., 0., 0., 0., 0., 0., 0., 0., 0., 0., 0., 0., 0., 0., 0., 0.,\n",
      "         0., 0., 0., 0., 0., 0., 0., 0., 0., 0., 0., 0., 0., 0., 0., 0., 0., 0., 0., 0., 0., 0., 0., 0.,\n",
      "         0., 0., 0., 0., 0., 0., 0., 0., 0., 0., 0., 0., 0., 0., 0., 0.],\n",
      "        [0., 0., 0., 0., 0., 0., 0., 0., 0., 0., 0., 0., 0., 0., 0., 0., 0., 0., 0., 0., 0., 0., 0., 0.,\n",
      "         0., 0., 0., 0., 0., 0., 0., 0., 0., 0., 0., 0., 0., 0., 0., 0., 0., 0., 0., 0., 0., 0., 0., 0.,\n",
      "         0., 0., 0., 0., 0., 0., 0., 0., 0., 0., 0., 0., 0., 0., 0., 0.],\n",
      "        [0., 0., 0., 0., 0., 0., 0., 0., 0., 0., 0., 0., 0., 0., 0., 0., 0., 0., 0., 0., 0., 0., 0., 0.,\n",
      "         0., 0., 0., 0., 0., 0., 0., 0., 0., 0., 0., 0., 0., 0., 0., 0., 0., 0., 0., 0., 0., 0., 0., 0.,\n",
      "         0., 0., 0., 0., 0., 0., 0., 0., 0., 0., 0., 0., 0., 0., 0., 0.],\n",
      "        [0., 0., 0., 0., 0., 0., 0., 0., 0., 0., 0., 0., 0., 0., 0., 0., 0., 0., 0., 0., 0., 0., 0., 0.,\n",
      "         0., 0., 0., 0., 0., 0., 0., 0., 0., 0., 0., 0., 0., 0., 0., 0., 0., 0., 0., 0., 0., 0., 0., 0.,\n",
      "         0., 0., 0., 0., 0., 0., 0., 0., 0., 0., 0., 0., 0., 0., 0., 0.],\n",
      "        [0., 0., 0., 0., 0., 0., 0., 0., 0., 0., 0., 0., 0., 0., 0., 0., 0., 0., 0., 0., 0., 0., 0., 0.,\n",
      "         0., 0., 0., 0., 0., 0., 0., 0., 0., 0., 0., 0., 0., 0., 0., 0., 0., 0., 0., 0., 0., 0., 0., 0.,\n",
      "         0., 0., 0., 0., 0., 0., 0., 0., 0., 0., 0., 0., 0., 0., 0., 0.],\n",
      "        [0., 0., 0., 0., 0., 0., 0., 0., 0., 0., 0., 0., 0., 0., 0., 0., 0., 0., 0., 0., 0., 0., 0., 0.,\n",
      "         0., 0., 0., 0., 0., 0., 0., 0., 0., 0., 0., 0., 0., 0., 0., 0., 0., 0., 0., 0., 0., 0., 0., 0.,\n",
      "         0., 0., 0., 0., 0., 0., 0., 0., 0., 0., 0., 0., 0., 0., 0., 0.],\n",
      "        [0., 0., 0., 0., 0., 0., 0., 0., 0., 0., 0., 0., 0., 0., 0., 0., 0., 0., 0., 0., 0., 0., 0., 0.,\n",
      "         0., 0., 0., 0., 0., 0., 0., 0., 0., 0., 0., 0., 0., 0., 0., 0., 0., 0., 0., 0., 0., 0., 0., 0.,\n",
      "         0., 0., 0., 0., 0., 0., 0., 0., 0., 0., 0., 0., 0., 0., 0., 0.],\n",
      "        [0., 0., 0., 0., 0., 0., 0., 0., 0., 0., 0., 0., 0., 0., 0., 0., 0., 0., 0., 0., 0., 0., 0., 0.,\n",
      "         0., 0., 0., 0., 0., 0., 0., 0., 0., 0., 0., 0., 0., 0., 0., 0., 0., 0., 0., 0., 0., 0., 0., 0.,\n",
      "         0., 0., 0., 0., 0., 0., 0., 0., 0., 0., 0., 0., 0., 0., 0., 0.],\n",
      "        [0., 0., 0., 0., 0., 0., 0., 0., 0., 0., 0., 0., 0., 0., 0., 0., 0., 0., 0., 0., 0., 0., 0., 0.,\n",
      "         0., 0., 0., 0., 0., 0., 0., 0., 0., 0., 0., 0., 0., 0., 0., 0., 0., 0., 0., 0., 0., 0., 0., 0.,\n",
      "         0., 0., 0., 0., 0., 0., 0., 0., 0., 0., 0., 0., 0., 0., 0., 0.]],\n",
      "       requires_grad=True)\n",
      "Parameter containing:\n",
      "tensor([ 0.1140,  0.0043, -0.0607, -0.0558,  0.0744,  0.1108, -0.1023, -0.0700,\n",
      "         0.0946,  0.0766], requires_grad=True)\n"
     ]
    }
   ],
   "source": [
    "for X in net.parameters():\n",
    "    print(X)"
   ]
  },
  {
   "cell_type": "code",
   "execution_count": 28,
   "id": "temporal-shock",
   "metadata": {},
   "outputs": [],
   "source": [
    "# 2\n",
    "\n",
    "optimizer = torch.optim.Adam(net.parameters(), lr=0.01)"
   ]
  },
  {
   "cell_type": "code",
   "execution_count": 29,
   "id": "critical-earthquake",
   "metadata": {},
   "outputs": [
    {
     "name": "stdout",
     "output_type": "stream",
     "text": [
      "For  0, loss :2.3007898330688477 \n",
      "For  1, loss :2.3061273097991943 \n",
      "For  2, loss :2.302044630050659 \n",
      "For  3, loss :2.3053929805755615 \n",
      "For  4, loss :2.3035728931427 \n"
     ]
    }
   ],
   "source": [
    "train_epoch(net,train_iter, 5, loss)"
   ]
  },
  {
   "cell_type": "code",
   "execution_count": 31,
   "id": "trained-accreditation",
   "metadata": {},
   "outputs": [
    {
     "name": "stdout",
     "output_type": "stream",
     "text": [
      "tensor(2) tensor([1])\n"
     ]
    },
    {
     "data": {
      "image/png": "[encoded data removed]",
      "text/plain": [
       "<Figure size 432x288 with 1 Axes>"
      ]
     },
     "metadata": {
      "needs_background": "light"
     },
     "output_type": "display_data"
    }
   ],
   "source": [
    "predict_one(test_iter)\n",
    "\n",
    "# not working"
   ]
  },
  {
   "cell_type": "code",
   "execution_count": 32,
   "id": "cloudy-surgery",
   "metadata": {},
   "outputs": [],
   "source": [
    "# change optimizer to SGD\n",
    "\n",
    "optimizer = torch.optim.SGD(net.parameters(), lr=0.01)"
   ]
  },
  {
   "cell_type": "code",
   "execution_count": 33,
   "id": "separate-study",
   "metadata": {},
   "outputs": [
    {
     "name": "stdout",
     "output_type": "stream",
     "text": [
      "For  0, loss :2.301443576812744 \n",
      "For  1, loss :2.3033292293548584 \n",
      "For  2, loss :2.303032636642456 \n",
      "For  3, loss :2.3033034801483154 \n",
      "For  4, loss :2.3025643825531006 \n"
     ]
    }
   ],
   "source": [
    "train_epoch(net, train_iter, 5, loss)"
   ]
  },
  {
   "cell_type": "code",
   "execution_count": 34,
   "id": "emotional-conspiracy",
   "metadata": {},
   "outputs": [
    {
     "data": {
      "text/plain": [
       "Sequential(\n",
       "  (0): Flatten(start_dim=1, end_dim=-1)\n",
       "  (1): Linear(in_features=784, out_features=256, bias=True)\n",
       "  (2): ReLU()\n",
       "  (3): Linear(in_features=256, out_features=64, bias=True)\n",
       "  (4): ReLU()\n",
       "  (5): Linear(in_features=64, out_features=10, bias=True)\n",
       ")"
      ]
     },
     "execution_count": 34,
     "metadata": {},
     "output_type": "execute_result"
    }
   ],
   "source": [
    "# lets put the weights back to normal distribution and try\n",
    "\n",
    "net.apply(init_weights)"
   ]
  },
  {
   "cell_type": "code",
   "execution_count": 36,
   "id": "entertaining-inclusion",
   "metadata": {},
   "outputs": [],
   "source": [
    "# lr back to 0.1\n",
    "\n",
    "optimizer = torch.optim.SGD(net.parameters(), lr=0.1)"
   ]
  },
  {
   "cell_type": "code",
   "execution_count": 37,
   "id": "atlantic-appointment",
   "metadata": {},
   "outputs": [
    {
     "name": "stdout",
     "output_type": "stream",
     "text": [
      "For  0, loss :1.5098479986190796 \n",
      "For  1, loss :0.8497960567474365 \n",
      "For  2, loss :0.8070051074028015 \n",
      "For  3, loss :0.6060378551483154 \n",
      "For  4, loss :0.4382920265197754 \n"
     ]
    }
   ],
   "source": [
    "train_epoch(net, train_iter, 5, loss)\n",
    "\n",
    "# working now."
   ]
  },
  {
   "cell_type": "code",
   "execution_count": 38,
   "id": "reverse-commander",
   "metadata": {},
   "outputs": [
    {
     "name": "stdout",
     "output_type": "stream",
     "text": [
      "tensor(3) tensor([3])\n"
     ]
    },
    {
     "data": {
      "image/png": "[encoded data removed]",
      "text/plain": [
       "<Figure size 432x288 with 1 Axes>"
      ]
     },
     "metadata": {
      "needs_background": "light"
     },
     "output_type": "display_data"
    }
   ],
   "source": [
    "predict_one(test_iter)"
   ]
  }
 ],
 "metadata": {
  "kernelspec": {
   "display_name": "Python 3",
   "language": "python",
   "name": "python3"
  },
  "language_info": {
   "codemirror_mode": {
    "name": "ipython",
    "version": 3
   },
   "file_extension": ".py",
   "mimetype": "text/x-python",
   "name": "python",
   "nbconvert_exporter": "python",
   "pygments_lexer": "ipython3",
   "version": "3.9.5"
  }
 },
 "nbformat": 4,
 "nbformat_minor": 5
}
