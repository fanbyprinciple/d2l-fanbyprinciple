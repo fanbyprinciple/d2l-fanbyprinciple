{
 "cells": [
  {
   "cell_type": "code",
   "execution_count": 290,
   "id": "fitted-college",
   "metadata": {},
   "outputs": [
    {
     "name": "stdout",
     "output_type": "stream",
     "text": [
      "torch.Size([3, 3])\n",
      "tensor([[0.1727, 0.3141, 0.0658],\n",
      "        [0.7762, 0.1499, 0.1428],\n",
      "        [0.5848, 0.4752, 0.3157]])\n",
      "tensor([[-0.7676,  0.4082,  0.6416],\n",
      "        [-0.5875,  1.4564, -1.2819],\n",
      "        [ 0.4942,  0.1898, -0.3510]])\n",
      "torch.Size([3, 3])\n",
      "torch.Size([3, 3])\n"
     ]
    }
   ],
   "source": [
    "import torch\n",
    "\n",
    "X = torch.normal(0,1,(3,3))\n",
    "\n",
    "print(X.shape)\n",
    "\n",
    "print(torch.rand(X.shape))\n",
    "print(X)\n",
    "\n",
    "print(torch.zeros_like(X).shape)\n",
    "print(torch.zeros(X.shape).shape)"
   ]
  },
  {
   "cell_type": "code",
   "execution_count": 291,
   "id": "lasting-replacement",
   "metadata": {},
   "outputs": [],
   "source": [
    "def dropout_layer(X, dropout):\n",
    "    assert 0 <= dropout <= 1\n",
    "    \n",
    "    if dropout == 1:\n",
    "        # drop everything\n",
    "        return torch.zeros_like(X)\n",
    "    \n",
    "    if dropout == 0:\n",
    "        # return everything\n",
    "        return X\n",
    "    \n",
    "    mask = (torch.rand(X.shape) > dropout).float()\n",
    "    \n",
    "#     print(mask)\n",
    "    \n",
    "    return mask * X /(1.0 - dropout)"
   ]
  },
  {
   "cell_type": "code",
   "execution_count": 292,
   "id": "academic-persian",
   "metadata": {},
   "outputs": [
    {
     "data": {
      "text/plain": [
       "tensor([[-1.9191,  0.0000,  0.0000],\n",
       "        [-0.0000,  3.6410, -0.0000],\n",
       "        [ 1.2354,  0.0000, -0.0000]])"
      ]
     },
     "execution_count": 292,
     "metadata": {},
     "output_type": "execute_result"
    }
   ],
   "source": [
    "dropout_layer(X, 0.6)"
   ]
  },
  {
   "cell_type": "code",
   "execution_count": 293,
   "id": "senior-cornell",
   "metadata": {},
   "outputs": [
    {
     "data": {
      "text/plain": [
       "tensor([[-0.7676,  0.4082,  0.6416],\n",
       "        [-0.5875,  1.4564, -1.2819],\n",
       "        [ 0.4942,  0.1898, -0.3510]])"
      ]
     },
     "execution_count": 293,
     "metadata": {},
     "output_type": "execute_result"
    }
   ],
   "source": [
    "dropout_layer(X, 0)"
   ]
  },
  {
   "cell_type": "code",
   "execution_count": 294,
   "id": "secondary-calibration",
   "metadata": {},
   "outputs": [
    {
     "data": {
      "text/plain": [
       "tensor([[0., 0., 0.],\n",
       "        [0., 0., 0.],\n",
       "        [0., 0., 0.]])"
      ]
     },
     "execution_count": 294,
     "metadata": {},
     "output_type": "execute_result"
    }
   ],
   "source": [
    "dropout_layer(X,1)"
   ]
  },
  {
   "cell_type": "markdown",
   "id": "close-competition",
   "metadata": {},
   "source": [
    "### Working with fashion mnist"
   ]
  },
  {
   "cell_type": "code",
   "execution_count": 295,
   "id": "complimentary-genealogy",
   "metadata": {},
   "outputs": [],
   "source": [
    "num_inputs, num_outputs , num_hidden1, num_hidden2 = 784, 10, 256, 256"
   ]
  },
  {
   "cell_type": "code",
   "execution_count": 296,
   "id": "favorite-reynolds",
   "metadata": {},
   "outputs": [],
   "source": [
    "# defining the model probability at each neural layer\n",
    "\n",
    "dropout1 = 0.2\n",
    "dropout2 = 0.5\n",
    "\n",
    "from torch import nn\n",
    "\n",
    "class Net(nn.Module):\n",
    "    def __init__(self, num_inputs, num_outputs, num_hidden1, num_hidden2,is_training=True):\n",
    "        super(Net, self).__init__()\n",
    "        self.num_inputs = num_inputs\n",
    "        self.training = is_training\n",
    "        self.lin1 = nn.Linear(num_inputs, num_hidden1)\n",
    "        self.lin2 = nn.Linear(num_hidden1, num_hidden2)\n",
    "        self.lin3 = nn.Linear(num_hidden2, num_outputs)\n",
    "        self.relu = nn.ReLU()\n",
    "        self.drop = dropout_layer\n",
    "    \n",
    "    def forward(self, X):\n",
    "        out = self.relu(self.lin1(X.reshape(-1,num_inputs)))\n",
    "        \n",
    "        if self.training:\n",
    "            out = self.drop(out, dropout1)\n",
    "        \n",
    "        out = self.relu(self.lin2(out))\n",
    "        \n",
    "        if self.training:\n",
    "            out = self.drop(out, dropout2)\n",
    "        \n",
    "        out = self.lin3(out)\n",
    "        \n",
    "        return out\n",
    "        \n",
    "        "
   ]
  },
  {
   "cell_type": "code",
   "execution_count": 297,
   "id": "studied-depression",
   "metadata": {},
   "outputs": [],
   "source": [
    "net = Net(num_inputs, num_outputs, num_hidden1, num_hidden2)"
   ]
  },
  {
   "cell_type": "code",
   "execution_count": 298,
   "id": "formal-intersection",
   "metadata": {},
   "outputs": [],
   "source": [
    "X = torch.normal(0,1, (1,784))"
   ]
  },
  {
   "cell_type": "code",
   "execution_count": 299,
   "id": "brazilian-canada",
   "metadata": {},
   "outputs": [
    {
     "data": {
      "text/plain": [
       "tensor([[ 0.1232, -0.1415, -0.0271, -0.0285, -0.0195, -0.0169, -0.1080, -0.1367,\n",
       "         -0.1622,  0.1016]], grad_fn=<AddmmBackward>)"
      ]
     },
     "execution_count": 299,
     "metadata": {},
     "output_type": "execute_result"
    }
   ],
   "source": [
    "net(X)"
   ]
  },
  {
   "cell_type": "code",
   "execution_count": 300,
   "id": "encouraging-driver",
   "metadata": {},
   "outputs": [],
   "source": [
    "import torchvision\n",
    "\n",
    "my_transforms = torchvision.transforms.ToTensor()\n",
    "\n",
    "train_dataset = torchvision.datasets.FashionMNIST(root=\"../data\", train=True, download=False, transform=my_transforms)\n",
    "\n",
    "test_dataset = torchvision.datasets.FashionMNIST(root=\"../data\", train=False, download=False, transform=my_transforms)\n",
    "\n",
    "train_dataloader = torch.utils.data.DataLoader(train_dataset, shuffle=True, batch_size=256)\n",
    "test_dataloader = torch.utils.data.DataLoader(test_dataset, shuffle=True, batch_size=256)\n"
   ]
  },
  {
   "cell_type": "code",
   "execution_count": 301,
   "id": "eligible-distributor",
   "metadata": {},
   "outputs": [],
   "source": [
    "def get_label_from_tensor(y):\n",
    "    text_labels = [\n",
    "'t-shirt', 'trouser', 'pullover', 'dress', 'coat', 'sandal', 'shirt',\n",
    "'sneaker', 'bag', 'ankle boot']\n",
    "    \n",
    "    return text_labels[int(y)]"
   ]
  },
  {
   "cell_type": "code",
   "execution_count": 302,
   "id": "documented-command",
   "metadata": {},
   "outputs": [
    {
     "name": "stdout",
     "output_type": "stream",
     "text": [
      "pullover\n"
     ]
    },
    {
     "data": {
      "image/png": "[encoded data removed]",
      "text/plain": [
       "<Figure size 432x288 with 1 Axes>"
      ]
     },
     "metadata": {
      "needs_background": "light"
     },
     "output_type": "display_data"
    }
   ],
   "source": [
    "import matplotlib.pyplot as plt\n",
    "\n",
    "for X,y in train_dataloader:\n",
    "#     print(X[0].permute(1,2,0).shape)\n",
    "    plt.imshow(X[0].permute(1,2,0))\n",
    "    print(get_label_from_tensor(y[0]))\n",
    "    break"
   ]
  },
  {
   "cell_type": "code",
   "execution_count": 303,
   "id": "indoor-gamma",
   "metadata": {},
   "outputs": [
    {
     "data": {
      "text/plain": [
       "Net(\n",
       "  (lin1): Linear(in_features=784, out_features=256, bias=True)\n",
       "  (lin2): Linear(in_features=256, out_features=256, bias=True)\n",
       "  (lin3): Linear(in_features=256, out_features=10, bias=True)\n",
       "  (relu): ReLU()\n",
       ")"
      ]
     },
     "execution_count": 303,
     "metadata": {},
     "output_type": "execute_result"
    }
   ],
   "source": [
    "net"
   ]
  },
  {
   "cell_type": "code",
   "execution_count": 304,
   "id": "delayed-graham",
   "metadata": {},
   "outputs": [
    {
     "name": "stdout",
     "output_type": "stream",
     "text": [
      "for epoch 0 train loss : 0.008840924128890038 test loss : 0.009028126485645771\n",
      "for epoch 1 train loss : 0.008619562722742558 test loss : 0.008803851902484894\n",
      "for epoch 2 train loss : 0.008319727145135403 test loss : 0.008497677743434906\n",
      "for epoch 3 train loss : 0.007892957888543606 test loss : 0.0080686891451478\n",
      "for epoch 4 train loss : 0.007311051711440086 test loss : 0.007463990245014429\n",
      "for epoch 5 train loss : 0.0066403113305568695 test loss : 0.006794624496251345\n",
      "for epoch 6 train loss : 0.0063113803043961525 test loss : 0.006433718837797642\n",
      "for epoch 7 train loss : 0.008495503105223179 test loss : 0.008745254017412663\n",
      "for epoch 8 train loss : 0.01092146523296833 test loss : 0.011123285628855228\n",
      "for epoch 9 train loss : 0.009966829791665077 test loss : 0.010131824761629105\n"
     ]
    },
    {
     "data": {
      "image/png": "[encoded data removed]",
      "text/plain": [
       "<Figure size 432x288 with 1 Axes>"
      ]
     },
     "metadata": {
      "needs_background": "light"
     },
     "output_type": "display_data"
    }
   ],
   "source": [
    "num_epochs, lr, batch_size = 10, 0.5, 256\n",
    "\n",
    "loss = nn.CrossEntropyLoss()\n",
    "optimizer = torch.optim.SGD(net.parameters(), lr=lr)\n",
    "\n",
    "def evaluate_loss(net, train_iter, loss):\n",
    "    \n",
    "    with torch.no_grad():\n",
    "        current_loss =0\n",
    "        current_number = 0\n",
    "        net.eval()\n",
    "        for X , y in train_iter:\n",
    "            current_loss += loss(net(X), y)\n",
    "            current_number += len(y)\n",
    "    \n",
    "    return current_loss/ current_number\n",
    "\n",
    "train_loss_array = []\n",
    "test_loss_array = []\n",
    "\n",
    "for epoch in range(num_epochs):\n",
    "    y_hat = net(X)\n",
    "    l =  loss(y_hat, y)\n",
    "    \n",
    "    optimizer.zero_grad()\n",
    "    l.backward()\n",
    "    optimizer.step()\n",
    "    \n",
    "    current_train_loss = evaluate_loss(net, train_dataloader, loss)\n",
    "    current_test_loss = evaluate_loss(net, test_dataloader, loss)\n",
    "    \n",
    "    train_loss_array.append(current_train_loss)\n",
    "    test_loss_array.append(current_test_loss)\n",
    "    \n",
    "    print(f\"for epoch {epoch} train loss : {current_train_loss} test loss : {current_test_loss}\")\n",
    "    \n",
    "     \n",
    "\n",
    "plt.plot(range(num_epochs), train_loss_array)\n",
    "plt.plot(range(num_epochs), test_loss_array)\n",
    "plt.grid(True)\n",
    "plt.show()\n",
    "    \n",
    "    \n"
   ]
  },
  {
   "cell_type": "code",
   "execution_count": 305,
   "id": "naked-broadway",
   "metadata": {},
   "outputs": [
    {
     "name": "stdout",
     "output_type": "stream",
     "text": [
      "tensor([[ 0.5935,  2.5595, -1.3834,  1.7144, -0.3268, -0.8205, -0.0852, -1.5266,\n",
      "          0.1123, -1.0928]])\n",
      "tensor(1)\n",
      "predicted:  trouser\n",
      "base_truth: dress\n"
     ]
    },
    {
     "data": {
      "image/png": "[encoded data removed]",
      "text/plain": [
       "<Figure size 432x288 with 1 Axes>"
      ]
     },
     "metadata": {
      "needs_background": "light"
     },
     "output_type": "display_data"
    }
   ],
   "source": [
    "for X, y in test_dataloader:\n",
    "    break\n",
    "    \n",
    "plt.imshow(X[0].permute(1,2,0))\n",
    "\n",
    "with torch.no_grad():\n",
    "    print(net(X[0]))\n",
    "\n",
    "    print(torch.argmax(net(X[0])))\n",
    "\n",
    "    print(\"predicted: \", get_label_from_tensor(torch.argmax(net(X[0]))))\n",
    "    \n",
    "    print(f\"base_truth: {get_label_from_tensor(y[0])}\")"
   ]
  },
  {
   "cell_type": "markdown",
   "id": "jewish-intake",
   "metadata": {},
   "source": [
    "### Concise implementation"
   ]
  },
  {
   "cell_type": "code",
   "execution_count": 306,
   "id": "continental-button",
   "metadata": {},
   "outputs": [],
   "source": [
    "def evaluate_loss(net, train_iter, loss):\n",
    "    \n",
    "    with torch.no_grad():\n",
    "        current_loss =0\n",
    "        current_number = 0\n",
    "        net.eval()\n",
    "        for X , y in train_iter:\n",
    "            current_loss += loss(net(X), y)\n",
    "            current_number += len(y)\n",
    "    \n",
    "    return current_loss/ current_number\n"
   ]
  },
  {
   "cell_type": "code",
   "execution_count": 307,
   "id": "velvet-history",
   "metadata": {},
   "outputs": [
    {
     "data": {
      "text/plain": [
       "Sequential(\n",
       "  (0): Flatten(start_dim=1, end_dim=-1)\n",
       "  (1): Linear(in_features=784, out_features=256, bias=True)\n",
       "  (2): ReLU()\n",
       "  (3): Dropout(p=0.2, inplace=False)\n",
       "  (4): Linear(in_features=256, out_features=256, bias=True)\n",
       "  (5): ReLU()\n",
       "  (6): Dropout(p=0.5, inplace=False)\n",
       "  (7): Linear(in_features=256, out_features=10, bias=True)\n",
       ")"
      ]
     },
     "execution_count": 307,
     "metadata": {},
     "output_type": "execute_result"
    }
   ],
   "source": [
    "net_concise = nn.Sequential( nn.Flatten(), nn.Linear(num_inputs, num_hidden1), nn.ReLU(), nn.Dropout(dropout1), nn.Linear(num_hidden1, num_hidden2), nn.ReLU(), nn.Dropout(dropout2),\n",
    "                     nn.Linear(num_hidden2, num_outputs))\n",
    "\n",
    "def init_params(m):\n",
    "    if type(m) == nn.Linear:\n",
    "        nn.init.normal_(m.weight, std=0.01)\n",
    "\n",
    "net_concise.apply(init_params)"
   ]
  },
  {
   "cell_type": "code",
   "execution_count": 308,
   "id": "human-highlight",
   "metadata": {},
   "outputs": [
    {
     "name": "stdout",
     "output_type": "stream",
     "text": [
      "predicted (before training):  trouser\n",
      "base_truth: trouser\n"
     ]
    },
    {
     "data": {
      "image/png": "[encoded data removed]",
      "text/plain": [
       "<Figure size 432x288 with 1 Axes>"
      ]
     },
     "metadata": {
      "needs_background": "light"
     },
     "output_type": "display_data"
    }
   ],
   "source": [
    "for X, y in test_dataloader:\n",
    "    break\n",
    "    \n",
    "plt.imshow(X[0].permute(1,2,0))\n",
    "\n",
    "with torch.no_grad():\n",
    "\n",
    "    print(\"predicted (before training): \", get_label_from_tensor(torch.argmax(net_concise(X[0].reshape(-1,784)))))\n",
    "    \n",
    "    print(f\"base_truth: {get_label_from_tensor(y[0])}\")"
   ]
  },
  {
   "cell_type": "code",
   "execution_count": 310,
   "id": "primary-directory",
   "metadata": {},
   "outputs": [
    {
     "name": "stdout",
     "output_type": "stream",
     "text": [
      "for epoch 0 train loss : 0.008778833784162998 test loss : 0.008963624946773052\n",
      "for epoch 1 train loss : 0.008674544282257557 test loss : 0.008864648640155792\n",
      "for epoch 2 train loss : 0.008533491753041744 test loss : 0.008715088479220867\n",
      "for epoch 3 train loss : 0.008353281766176224 test loss : 0.0085263941437006\n",
      "for epoch 4 train loss : 0.008131208829581738 test loss : 0.008306392468512058\n",
      "for epoch 5 train loss : 0.007859780453145504 test loss : 0.008028408512473106\n",
      "for epoch 6 train loss : 0.007515678182244301 test loss : 0.007677939720451832\n",
      "for epoch 7 train loss : 0.007079688832163811 test loss : 0.007233103271573782\n",
      "for epoch 8 train loss : 0.006630267947912216 test loss : 0.00678782444447279\n",
      "for epoch 9 train loss : 0.006246671080589294 test loss : 0.006393293850123882\n",
      "for epoch 10 train loss : 0.009768817573785782 test loss : 0.010069120675325394\n",
      "for epoch 11 train loss : 0.014442304149270058 test loss : 0.014772947877645493\n",
      "for epoch 12 train loss : 0.008686701767146587 test loss : 0.008871897123754025\n",
      "for epoch 13 train loss : 0.008480487391352654 test loss : 0.008645990863442421\n",
      "for epoch 14 train loss : 0.00824735127389431 test loss : 0.00840796623378992\n"
     ]
    },
    {
     "data": {
      "image/png": "[encoded data removed]",
      "text/plain": [
       "<Figure size 432x288 with 1 Axes>"
      ]
     },
     "metadata": {
      "needs_background": "light"
     },
     "output_type": "display_data"
    }
   ],
   "source": [
    "train_loss_array = []\n",
    "test_loss_array = []\n",
    "\n",
    "num_epochs, lr, batch_size = 15, 0.5, 256\n",
    "\n",
    "loss = nn.CrossEntropyLoss()\n",
    "optimizer = torch.optim.SGD(net_concise.parameters(), lr=lr)\n",
    "\n",
    "\n",
    "for epoch in range(num_epochs):\n",
    "    current_train_loss = 0\n",
    "    current_test_loss = 0\n",
    "    for X, y in train_dataloader:\n",
    "        y_hat = net_concise(X)\n",
    "        l =  loss(y_hat, y)\n",
    "\n",
    "        optimizer.zero_grad()\n",
    "        l.backward()\n",
    "        optimizer.step()\n",
    "\n",
    "        current_train_loss += evaluate_loss(net_concise, train_dataloader, loss)\n",
    "        current_test_loss += evaluate_loss(net_concise, test_dataloader, loss)\n",
    "\n",
    "    train_loss_array.append(current_train_loss)\n",
    "    test_loss_array.append(current_test_loss)\n",
    "    \n",
    "    print(f\"for epoch {epoch} train loss : {current_train_loss} test loss : {current_test_loss}\")\n",
    "    \n",
    "     \n",
    "\n",
    "plt.plot(range(num_epochs), train_loss_array)\n",
    "plt.plot(range(num_epochs), test_loss_array)\n",
    "plt.grid(True)\n",
    "plt.show()\n"
   ]
  },
  {
   "cell_type": "code",
   "execution_count": 311,
   "id": "miniature-index",
   "metadata": {},
   "outputs": [
    {
     "name": "stdout",
     "output_type": "stream",
     "text": [
      "predicted:  trouser\n",
      "base_truth: pullover\n"
     ]
    },
    {
     "data": {
      "image/png": "[encoded data removed]",
      "text/plain": [
       "<Figure size 432x288 with 1 Axes>"
      ]
     },
     "metadata": {
      "needs_background": "light"
     },
     "output_type": "display_data"
    }
   ],
   "source": [
    "for X, y in test_dataloader:\n",
    "    break\n",
    "    \n",
    "plt.imshow(X[0].permute(1,2,0))\n",
    "\n",
    "with torch.no_grad():\n",
    "\n",
    "    print(\"predicted: \", get_label_from_tensor(torch.argmax(net(X[0].reshape(-1,784)))))\n",
    "    \n",
    "    print(f\"base_truth: {get_label_from_tensor(y[0])}\")"
   ]
  },
  {
   "cell_type": "markdown",
   "id": "younger-snowboard",
   "metadata": {},
   "source": [
    "## Exercises\n",
    "1. What happens if you change the dropout probabilities for the first and second layers? In\n",
    "particular, what happens if you switch the ones for both layers? Design an experiment to\n",
    "answer these questions, describe your results quantitatively, and summarize the qualitative\n",
    "takeaways.\n",
    "2. Increase the number of epochs and compare the results obtained when using dropout with\n",
    "those when not using it.\n",
    "3. What is the variance of the activations in each hidden layer when dropout is and is not ap\u0002plied? Draw a plot to show how this quantity evolves over time for both models.\n",
    "4. Why is dropout not typically used at test time?\n",
    "5. Using the model in this section as an example, compare the effects of using dropout and\n",
    "weight decay. What happens when dropout and weight decay are used at the same time?\n",
    "Are the results additive? Are there diminished returns (or worse)? Do they cancel each other\n",
    "out?\n",
    "6. What happens if we apply dropout to the individual weights of the weight matrix rather than\n",
    "the activations?\n",
    "7. Invent another technique for injecting random noise at each layer that is different from the\n",
    "standard dropout technique. Can you develop a method that outperforms dropout on the\n",
    "Fashion-MNIST dataset (for a fixed architecture)?\n"
   ]
  },
  {
   "cell_type": "code",
   "execution_count": 312,
   "id": "coupled-glasgow",
   "metadata": {},
   "outputs": [],
   "source": [
    "#1\n",
    "\n",
    "def design_net(dropout1, dropout2):\n",
    "    net_concise = nn.Sequential( nn.Flatten(), nn.Linear(num_inputs, num_hidden1), nn.ReLU(), nn.Dropout(dropout1), \n",
    "                                nn.Linear(num_hidden1, num_hidden2), nn.ReLU(), nn.Dropout(dropout2),\n",
    "                                nn.Linear(num_hidden2, num_outputs))\n",
    "\n",
    "    def init_params(m):\n",
    "        if type(m) == nn.Linear:\n",
    "            nn.init.normal_(m.weight, std=0.01)\n",
    "\n",
    "    net_concise.apply(init_params)\n",
    "    \n",
    "    return net_concise"
   ]
  },
  {
   "cell_type": "code",
   "execution_count": 318,
   "id": "presidential-lunch",
   "metadata": {},
   "outputs": [],
   "source": [
    "def train_net_and_plot(net, num_epochs=8, wd=None):\n",
    "    train_loss_array = []\n",
    "    test_loss_array = []\n",
    "\n",
    "    lr, batch_size = 0.5, 256\n",
    "\n",
    "    loss = nn.CrossEntropyLoss()\n",
    "    if (wd):\n",
    "        optimizer = torch.optim.SGD(net_concise.parameters(), lr=lr, weight_decay=wd)\n",
    "    else:  \n",
    "        optimizer = torch.optim.SGD(net_concise.parameters(), lr=lr)\n",
    "\n",
    "\n",
    "    for epoch in range(num_epochs):\n",
    "        current_train_loss = 0\n",
    "        current_test_loss = 0\n",
    "        for X, y in train_dataloader:\n",
    "            y_hat = net(X)\n",
    "            l =  loss(y_hat, y)\n",
    "\n",
    "            optimizer.zero_grad()\n",
    "            l.backward()\n",
    "            optimizer.step()\n",
    "\n",
    "            current_train_loss += evaluate_loss(net_concise, train_dataloader, loss)\n",
    "            current_test_loss += evaluate_loss(net_concise, test_dataloader, loss)\n",
    "\n",
    "        train_loss_array.append(current_train_loss)\n",
    "        test_loss_array.append(current_test_loss)\n",
    "\n",
    "        print(f\"for epoch {epoch} train loss : {current_train_loss} test loss : {current_test_loss}\")\n",
    "\n",
    "\n",
    "\n",
    "    plt.plot(range(num_epochs), train_loss_array)\n",
    "    plt.plot(range(num_epochs), test_loss_array)\n",
    "    plt.grid(True)\n",
    "    plt.show()\n",
    "    print(f\"final train loss : {current_train_loss} test loss : {current_test_loss}\")\n",
    "\n"
   ]
  },
  {
   "cell_type": "code",
   "execution_count": null,
   "id": "satellite-parking",
   "metadata": {},
   "outputs": [],
   "source": [
    "# to find the what happenswhen we switch dropout\n",
    "\n",
    "train_net_and_plot(design_net(0.2, 0.6))"
   ]
  },
  {
   "cell_type": "code",
   "execution_count": null,
   "id": "resistant-sucking",
   "metadata": {},
   "outputs": [],
   "source": [
    "train_net_and_plot(design_net(0.6, 0.2))"
   ]
  },
  {
   "cell_type": "code",
   "execution_count": null,
   "id": "external-variation",
   "metadata": {},
   "outputs": [],
   "source": [
    "#2 \n",
    "\n",
    "# trying to find the dropout use\n",
    "\n",
    "train_net_and_plot(design_net(0, 0))"
   ]
  },
  {
   "cell_type": "code",
   "execution_count": null,
   "id": "located-longer",
   "metadata": {},
   "outputs": [],
   "source": [
    "# 4\n",
    "\n",
    "# not used at runtime because we want that dropout not to take out features that are important\n",
    "\n",
    "\n",
    "# 5\n",
    "\n",
    "# using weight decay and dropout\n",
    "\n",
    "train_net_and_plot(design_net(0.2, 0.6), wd=0.3)"
   ]
  },
  {
   "cell_type": "code",
   "execution_count": null,
   "id": "boring-trust",
   "metadata": {},
   "outputs": [],
   "source": [
    "# just using wd\n",
    "\n",
    "train_net_and_plot(design_net(0,0), wd=0.3)\n",
    "\n",
    "# just using dropout works better than using together with weight decay"
   ]
  },
  {
   "cell_type": "code",
   "execution_count": null,
   "id": "infrared-insured",
   "metadata": {},
   "outputs": [],
   "source": [
    "# 6\n",
    "\n",
    "class Net_exp(nn.Module):\n",
    "    def __init__(self, num_inputs, num_outputs, num_hidden1, num_hidden2, dropout1, dropout2, dropout_to_weight=False, print_variance=False):\n",
    "        super(Net_exp, self).__init__()\n",
    "        self.lin1 = nn.Linear(num_inputs, num_hidden1)\n",
    "        self.lin2 = nn.Linear(num_hidden1, num_hidden2)\n",
    "        self.lin3 = nn.Linear(num_hidden2, num_outputs)\n",
    "        self.dropout1 = dropout1\n",
    "        self.dropout2 = dropout2\n",
    "        self.print_variance = print_variance\n",
    "        self.dropout_to_weight = dropout_to_weight\n",
    "        self.relu = nn.ReLU()\n",
    "    \n",
    "    def forward(self, X):\n",
    "        if(self.dropout_to_weight==False):\n",
    "\n",
    "            out = self.relu(self.lin1(X))\n",
    "            if(self.print_variance):\n",
    "                print(torch.var(out.detach()))\n",
    "\n",
    "            out = dropout_layer(out, self.dropout1)\n",
    "            out = self.relu(self.lin2(out))\n",
    "            \n",
    "            if(self.print_variance):\n",
    "                print(torch.var(out.detach()))\n",
    "\n",
    "            out = dropout_layer(out, self.dropout2)\n",
    "            out = self.lin3(out)\n",
    "\n",
    "            return out\n",
    "        else:\n",
    "            # apllying dropout to weight\n",
    "            out = self.lin1(X)\n",
    "            out = dropout_layer(out, self.dropout1)\n",
    "            out = self.relu(out)\n",
    "            out = self.lin2(out)\n",
    "            out = dropout_layer(out, self.dropout2)\n",
    "            out = self.relu(out)\n",
    "            out = self.lin3(out)\n",
    "\n",
    "            return out"
   ]
  },
  {
   "cell_type": "code",
   "execution_count": null,
   "id": "under-function",
   "metadata": {},
   "outputs": [],
   "source": [
    "# 3\n",
    "\n",
    "# printing variance\n",
    "# with dropout\n",
    "net_exp = Net_exp(num_inputs, num_outputs, num_hidden1, num_hidden2,0.2,0.5,print_variance=True)\n",
    "\n",
    "def init_parma(m):\n",
    "    if type(m) == nn.Linear:\n",
    "        nn.init.normal_(m.weight, std=0.01)\n",
    "\n",
    "net_exp.apply(init_parma)"
   ]
  },
  {
   "cell_type": "code",
   "execution_count": null,
   "id": "fancy-powder",
   "metadata": {},
   "outputs": [],
   "source": [
    "X1 = torch.normal(0, 0.1, (1, 784))\n",
    "\n",
    "net_exp(X1)"
   ]
  },
  {
   "cell_type": "code",
   "execution_count": null,
   "id": "clinical-arthur",
   "metadata": {},
   "outputs": [],
   "source": [
    "# printing variance\n",
    "# without dropout\n",
    "net_exp = Net_exp(num_inputs, num_outputs, num_hidden1, num_hidden2,0,0,print_variance=True)\n",
    "\n",
    "def init_parma(m):\n",
    "    if type(m) == nn.Linear:\n",
    "        nn.init.normal_(m.weight, std=0.01)\n",
    "\n",
    "net_exp.apply(init_parma)\n",
    "\n",
    "net_exp(X1)"
   ]
  },
  {
   "cell_type": "code",
   "execution_count": null,
   "id": "detected-sixth",
   "metadata": {},
   "outputs": [],
   "source": [
    "# adding dropout to weight\n",
    "\n",
    "net_exp = Net_exp(num_inputs, num_outputs, num_hidden1, num_hidden2,0.2,0.5, dropout_to_weight=True)\n",
    "\n",
    "def init_parma(m):\n",
    "    if type(m) == nn.Linear:\n",
    "        nn.init.normal_(m.weight, std=0.01)\n",
    "\n",
    "net_exp.apply(init_parma)\n",
    "\n",
    "net_exp(X1)"
   ]
  },
  {
   "cell_type": "code",
   "execution_count": null,
   "id": "complex-slovakia",
   "metadata": {},
   "outputs": [],
   "source": [
    "new_net = design_net(0.2,0.5)\n",
    "\n",
    "new_net(X1)"
   ]
  },
  {
   "cell_type": "code",
   "execution_count": null,
   "id": "funded-allah",
   "metadata": {},
   "outputs": [],
   "source": [
    "# train_net_and_plot(design_net(0.2, 0.6))"
   ]
  },
  {
   "cell_type": "code",
   "execution_count": null,
   "id": "damaged-examination",
   "metadata": {},
   "outputs": [],
   "source": [
    "# train_net_and_plot(new_net)"
   ]
  },
  {
   "cell_type": "code",
   "execution_count": null,
   "id": "industrial-northern",
   "metadata": {},
   "outputs": [],
   "source": [
    "#7 Another technique forinjecting randomnoise\n",
    "\n",
    "# we can put an epsilon value into the neuralnetwork\n",
    "\n",
    "\n",
    "class net_epsilon(nn.Module):\n",
    "    def __init__(self, num_inputs=784, num_outputs=10, num_hidden1=256, num_hidden2=256, epsilon_m=0.02, epsilon_d=0.02):\n",
    "        super(net_epsilon, self).__init__()\n",
    "        self.lin1 = nn.Linear(num_inputs, num_hidden1)\n",
    "        self.lin2 = nn.Linear(num_hidden1, num_hidden2)\n",
    "        self.lin3 = nn.Linear(num_hidden2, num_outputs)\n",
    "        self.relu = nn.ReLU()\n",
    "        self.epsilon_m = epsilon_m\n",
    "        self.epsilon_d = epsilon_d\n",
    "        self.num_inputs = num_inputs\n",
    "    \n",
    "    def forward(self, X):\n",
    "        out = self.relu(self.lin1(X.reshape(-1,self.num_inputs)))\n",
    "        out = out + torch.normal(self.epsilon_m, self.epsilon_d, (out.shape))\n",
    "        out = self.relu(self.lin2(X.reshape(-1, self.num_inputs)))\n",
    "        out = out + torch.normal(self.epsilon_m, self.epsilon_d, (out.shape))\n",
    "        out = self.lin3(out)"
   ]
  },
  {
   "cell_type": "code",
   "execution_count": null,
   "id": "neither-integration",
   "metadata": {},
   "outputs": [],
   "source": [
    "net = net_epsilon()\n",
    "net(X1)"
   ]
  },
  {
   "cell_type": "code",
   "execution_count": null,
   "id": "seeing-university",
   "metadata": {},
   "outputs": [],
   "source": [
    "train_net_and_plot(net)"
   ]
  }
 ],
 "metadata": {
  "kernelspec": {
   "display_name": "Python 3",
   "language": "python",
   "name": "python3"
  },
  "language_info": {
   "codemirror_mode": {
    "name": "ipython",
    "version": 3
   },
   "file_extension": ".py",
   "mimetype": "text/x-python",
   "name": "python",
   "nbconvert_exporter": "python",
   "pygments_lexer": "ipython3",
   "version": "3.9.5"
  }
 },
 "nbformat": 4,
 "nbformat_minor": 5
}
