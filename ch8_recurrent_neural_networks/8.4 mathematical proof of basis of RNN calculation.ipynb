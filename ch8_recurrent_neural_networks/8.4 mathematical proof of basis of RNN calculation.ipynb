{
 "cells": [
  {
   "cell_type": "code",
   "execution_count": 1,
   "id": "tired-rebel",
   "metadata": {},
   "outputs": [],
   "source": [
    "import torch"
   ]
  },
  {
   "cell_type": "markdown",
   "id": "running-selection",
   "metadata": {},
   "source": [
    "Proving that X * W_xh + H * W_hh == (X + H) * (W_xh + W_hh)"
   ]
  },
  {
   "cell_type": "code",
   "execution_count": 2,
   "id": "virtual-premium",
   "metadata": {},
   "outputs": [
    {
     "data": {
      "text/plain": [
       "(tensor([[-0.8738],\n",
       "         [ 0.3923],\n",
       "         [ 2.0292]]),\n",
       " tensor([[-0.5989, -1.9705,  0.8816, -0.8856],\n",
       "         [ 1.2952, -2.7224, -2.3835,  0.7258],\n",
       "         [ 0.0269,  0.3169,  0.5944,  0.5722]]))"
      ]
     },
     "execution_count": 2,
     "metadata": {},
     "output_type": "execute_result"
    }
   ],
   "source": [
    "X, W_xh = torch.normal(0,1,(3,1)), torch.normal(0,1,(1,4))\n",
    "H, W_hh = torch.normal(0,1,(3,4)), torch.normal(0,1,(4,4))\n",
    "\n",
    "X, H"
   ]
  },
  {
   "cell_type": "code",
   "execution_count": 3,
   "id": "nonprofit-permit",
   "metadata": {},
   "outputs": [
    {
     "data": {
      "text/plain": [
       "tensor([[-0.3132, -0.2237,  5.1734, -1.3800],\n",
       "        [-3.2508,  0.2698,  8.2052,  4.2742],\n",
       "        [ 0.4406,  2.3889, -1.1913,  0.1857]])"
      ]
     },
     "execution_count": 3,
     "metadata": {},
     "output_type": "execute_result"
    }
   ],
   "source": [
    "torch.matmul(X,W_xh) + torch.matmul(H, W_hh)"
   ]
  },
  {
   "cell_type": "code",
   "execution_count": 4,
   "id": "overhead-weapon",
   "metadata": {},
   "outputs": [
    {
     "data": {
      "text/plain": [
       "tensor([[-0.3132, -0.2237,  5.1734, -1.3800],\n",
       "        [-3.2508,  0.2698,  8.2052,  4.2742],\n",
       "        [ 0.4406,  2.3889, -1.1913,  0.1857]])"
      ]
     },
     "execution_count": 4,
     "metadata": {},
     "output_type": "execute_result"
    }
   ],
   "source": [
    "torch.matmul(torch.cat((X,H), 1), torch.cat((W_xh, W_hh), 0))"
   ]
  },
  {
   "cell_type": "markdown",
   "id": "headed-notebook",
   "metadata": {},
   "source": [
    "### Exercises\n",
    "\n",
    "1. If we use an RNN to predict the next character in a text sequence, what is the required dimension for any output?\n",
    "  dimension equal to text sequence.\n",
    "    \n",
    "2. Why can RNNs express the conditional probability of a token at some time step based on all\n",
    "the previous tokens in the text sequence?\n",
    "    I wonder why. I dont think I ve understood language probability too well.\n",
    "    \n",
    "3. What happens to the gradient if you backpropagate through a long sequence?\n",
    "    Reaches 0\n",
    "\n",
    "4. What are some of the problems associated with the language model described in this sec\u0002tion?\n",
    "    We cant find the correlation between the words"
   ]
  }
 ],
 "metadata": {
  "kernelspec": {
   "display_name": "Python 3",
   "language": "python",
   "name": "python3"
  },
  "language_info": {
   "codemirror_mode": {
    "name": "ipython",
    "version": 3
   },
   "file_extension": ".py",
   "mimetype": "text/x-python",
   "name": "python",
   "nbconvert_exporter": "python",
   "pygments_lexer": "ipython3",
   "version": "3.9.5"
  }
 },
 "nbformat": 4,
 "nbformat_minor": 5
}
