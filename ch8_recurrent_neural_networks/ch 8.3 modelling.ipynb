{
 "cells": [
  {
   "cell_type": "code",
   "execution_count": 1,
   "id": "scheduled-friday",
   "metadata": {},
   "outputs": [],
   "source": [
    "import random\n",
    "import torch"
   ]
  },
  {
   "cell_type": "code",
   "execution_count": 4,
   "id": "illegal-birmingham",
   "metadata": {},
   "outputs": [],
   "source": [
    "import d2l\n",
    "from d2l import torch as d2l"
   ]
  },
  {
   "cell_type": "code",
   "execution_count": 5,
   "id": "blank-treasurer",
   "metadata": {},
   "outputs": [],
   "source": [
    "tokens = d2l.tokenize(d2l.read_time_machine())"
   ]
  },
  {
   "cell_type": "code",
   "execution_count": 6,
   "id": "olive-tribune",
   "metadata": {},
   "outputs": [],
   "source": [
    "corpus  = [token for line in tokens for token in line]"
   ]
  },
  {
   "cell_type": "code",
   "execution_count": 8,
   "id": "dressed-disability",
   "metadata": {},
   "outputs": [],
   "source": [
    "vocab = d2l.Vocab(corpus)"
   ]
  },
  {
   "cell_type": "code",
   "execution_count": 10,
   "id": "selected-outside",
   "metadata": {},
   "outputs": [
    {
     "data": {
      "text/plain": [
       "[('the', 2261),\n",
       " ('i', 1267),\n",
       " ('and', 1245),\n",
       " ('of', 1155),\n",
       " ('a', 816),\n",
       " ('to', 695),\n",
       " ('was', 552),\n",
       " ('in', 541),\n",
       " ('that', 443),\n",
       " ('my', 440)]"
      ]
     },
     "execution_count": 10,
     "metadata": {},
     "output_type": "execute_result"
    }
   ],
   "source": [
    "vocab.token_freqs[:10]"
   ]
  },
  {
   "cell_type": "code",
   "execution_count": null,
   "id": "connected-austria",
   "metadata": {},
   "outputs": [],
   "source": []
  }
 ],
 "metadata": {
  "kernelspec": {
   "display_name": "Python 3",
   "language": "python",
   "name": "python3"
  },
  "language_info": {
   "codemirror_mode": {
    "name": "ipython",
    "version": 3
   },
   "file_extension": ".py",
   "mimetype": "text/x-python",
   "name": "python",
   "nbconvert_exporter": "python",
   "pygments_lexer": "ipython3",
   "version": "3.9.5"
  }
 },
 "nbformat": 4,
 "nbformat_minor": 5
}
