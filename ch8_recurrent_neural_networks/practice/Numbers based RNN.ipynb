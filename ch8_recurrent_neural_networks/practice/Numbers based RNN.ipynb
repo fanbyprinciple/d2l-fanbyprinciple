{
 "cells": [
  {
   "cell_type": "markdown",
   "id": "still-destination",
   "metadata": {},
   "source": [
    "very good resource to learn from : https://towardsdatascience.com/pytorch-basics-how-to-train-your-neural-net-intro-to-rnn-cb6ebc594677"
   ]
  },
  {
   "cell_type": "code",
   "execution_count": 5,
   "id": "innocent-transition",
   "metadata": {},
   "outputs": [],
   "source": [
    "import torch\n",
    "\n",
    "data = torch.Tensor([1, 2, 3, 4, 5, 6, 7, 8, 9, 10, 11, 12, 13, 14, 15, 16, 17, 18, 19, 20])"
   ]
  },
  {
   "cell_type": "code",
   "execution_count": 6,
   "id": "theoretical-simple",
   "metadata": {},
   "outputs": [
    {
     "data": {
      "text/plain": [
       "tensor([ 1.,  2.,  3.,  4.,  5.,  6.,  7.,  8.,  9., 10., 11., 12., 13., 14.,\n",
       "        15., 16., 17., 18., 19., 20.])"
      ]
     },
     "execution_count": 6,
     "metadata": {},
     "output_type": "execute_result"
    }
   ],
   "source": [
    "data"
   ]
  },
  {
   "cell_type": "code",
   "execution_count": 7,
   "id": "significant-qatar",
   "metadata": {},
   "outputs": [],
   "source": [
    "INPUT_SIZE = 1\n",
    "BATCH_SIZE = 4\n",
    "HIDDEN_SIZE = 2\n",
    "SEQ_LEN = 5\n",
    "NUM_LAYERS = 1"
   ]
  },
  {
   "cell_type": "code",
   "execution_count": 9,
   "id": "gentle-academy",
   "metadata": {},
   "outputs": [],
   "source": [
    "from torch import nn"
   ]
  },
  {
   "cell_type": "code",
   "execution_count": 11,
   "id": "interstate-supervisor",
   "metadata": {},
   "outputs": [
    {
     "data": {
      "text/plain": [
       "torch.Size([4, 5, 1])"
      ]
     },
     "execution_count": 11,
     "metadata": {},
     "output_type": "execute_result"
    }
   ],
   "source": [
    "rnn = nn.RNN(input_size=INPUT_SIZE, hidden_size=HIDDEN_SIZE, num_layers=NUM_LAYERS, batch_first=True)\n",
    "inputs = data.view(BATCH_SIZE, SEQ_LEN, INPUT_SIZE)\n",
    "inputs.shape"
   ]
  },
  {
   "cell_type": "code",
   "execution_count": 12,
   "id": "massive-encyclopedia",
   "metadata": {},
   "outputs": [],
   "source": [
    "out, h_n = rnn(inputs)"
   ]
  },
  {
   "cell_type": "code",
   "execution_count": 13,
   "id": "meaningful-tribute",
   "metadata": {},
   "outputs": [
    {
     "data": {
      "text/plain": [
       "(torch.Size([4, 5, 2]), torch.Size([1, 4, 2]))"
      ]
     },
     "execution_count": 13,
     "metadata": {},
     "output_type": "execute_result"
    }
   ],
   "source": [
    "out.shape, h_n.shape"
   ]
  },
  {
   "cell_type": "code",
   "execution_count": 14,
   "id": "located-cause",
   "metadata": {},
   "outputs": [],
   "source": [
    "# intialising RNN with 3 layers\n",
    "\n",
    "rnn = nn.RNN(input_size=INPUT_SIZE, hidden_size=HIDDEN_SIZE, num_layers=3, batch_first=True)\n",
    "inputs = data.view(BATCH_SIZE, SEQ_LEN, INPUT_SIZE)\n",
    "out, h_n = rnn(inputs)"
   ]
  },
  {
   "cell_type": "code",
   "execution_count": 15,
   "id": "binary-omaha",
   "metadata": {},
   "outputs": [
    {
     "data": {
      "text/plain": [
       "(torch.Size([4, 5, 2]), torch.Size([3, 4, 2]))"
      ]
     },
     "execution_count": 15,
     "metadata": {},
     "output_type": "execute_result"
    }
   ],
   "source": [
    "out.shape, h_n.shape"
   ]
  }
 ],
 "metadata": {
  "kernelspec": {
   "display_name": "Python 3",
   "language": "python",
   "name": "python3"
  },
  "language_info": {
   "codemirror_mode": {
    "name": "ipython",
    "version": 3
   },
   "file_extension": ".py",
   "mimetype": "text/x-python",
   "name": "python",
   "nbconvert_exporter": "python",
   "pygments_lexer": "ipython3",
   "version": "3.9.5"
  }
 },
 "nbformat": 4,
 "nbformat_minor": 5
}
