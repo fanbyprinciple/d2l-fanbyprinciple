{
 "cells": [
  {
   "cell_type": "code",
   "execution_count": 1,
   "id": "european-aberdeen",
   "metadata": {},
   "outputs": [],
   "source": [
    "import torch\n",
    "from torch import nn"
   ]
  },
  {
   "cell_type": "markdown",
   "id": "helpful-marine",
   "metadata": {},
   "source": [
    "taken from : https://blog.floydhub.com/a-beginners-guide-on-recurrent-neural-networks-with-pytorch/"
   ]
  },
  {
   "cell_type": "code",
   "execution_count": 2,
   "id": "ordinary-beverage",
   "metadata": {},
   "outputs": [],
   "source": [
    "import numpy as np"
   ]
  },
  {
   "cell_type": "code",
   "execution_count": 19,
   "id": "quick-merit",
   "metadata": {},
   "outputs": [
    {
     "data": {
      "text/plain": [
       "{' ',\n",
       " 'I',\n",
       " 'a',\n",
       " 'c',\n",
       " 'd',\n",
       " 'e',\n",
       " 'f',\n",
       " 'g',\n",
       " 'h',\n",
       " 'i',\n",
       " 'm',\n",
       " 'n',\n",
       " 'o',\n",
       " 'r',\n",
       " 'u',\n",
       " 'v',\n",
       " 'w',\n",
       " 'y'}"
      ]
     },
     "execution_count": 19,
     "metadata": {},
     "output_type": "execute_result"
    }
   ],
   "source": [
    "texts = ['hey how are you', 'good I am fine', 'have a nice day']\n",
    "chars = set(''.join(texts))\n",
    "chars"
   ]
  },
  {
   "cell_type": "code",
   "execution_count": 20,
   "id": "ready-anniversary",
   "metadata": {},
   "outputs": [],
   "source": [
    "int2char = dict(enumerate(chars))"
   ]
  },
  {
   "cell_type": "code",
   "execution_count": 21,
   "id": "separate-range",
   "metadata": {},
   "outputs": [],
   "source": [
    "char2int = {char : ind for ind,char in int2char.items()}"
   ]
  },
  {
   "cell_type": "code",
   "execution_count": 22,
   "id": "binary-mortality",
   "metadata": {},
   "outputs": [
    {
     "data": {
      "text/plain": [
       "15"
      ]
     },
     "execution_count": 22,
     "metadata": {},
     "output_type": "execute_result"
    }
   ],
   "source": [
    "max([len(t) for t in texts])"
   ]
  },
  {
   "cell_type": "markdown",
   "id": "bound-greenhouse",
   "metadata": {},
   "source": [
    "looking at padding"
   ]
  },
  {
   "cell_type": "code",
   "execution_count": 23,
   "id": "coordinate-modern",
   "metadata": {},
   "outputs": [],
   "source": [
    "\n",
    "maxlen = max([len(t) for t in text])"
   ]
  },
  {
   "cell_type": "code",
   "execution_count": 24,
   "id": "streaming-label",
   "metadata": {},
   "outputs": [
    {
     "data": {
      "text/plain": [
       "15"
      ]
     },
     "execution_count": 24,
     "metadata": {},
     "output_type": "execute_result"
    }
   ],
   "source": [
    "maxlen"
   ]
  },
  {
   "cell_type": "code",
   "execution_count": 25,
   "id": "phantom-cologne",
   "metadata": {},
   "outputs": [],
   "source": [
    "pad_text = []\n",
    "for text in texts:\n",
    "    length_text = len(text)\n",
    "    if length_text < maxlen:\n",
    "        text += (maxlen - length_text)* ' '\n",
    "    pad_text.append(text)\n"
   ]
  },
  {
   "cell_type": "code",
   "execution_count": 26,
   "id": "laughing-poetry",
   "metadata": {},
   "outputs": [
    {
     "data": {
      "text/plain": [
       "['hey how are you', 'good I am fine ', 'have a nice day']"
      ]
     },
     "execution_count": 26,
     "metadata": {},
     "output_type": "execute_result"
    }
   ],
   "source": [
    "pad_text"
   ]
  },
  {
   "cell_type": "code",
   "execution_count": 27,
   "id": "color-projection",
   "metadata": {},
   "outputs": [
    {
     "data": {
      "text/plain": [
       "3"
      ]
     },
     "execution_count": 27,
     "metadata": {},
     "output_type": "execute_result"
    }
   ],
   "source": [
    "len(pad_text)"
   ]
  },
  {
   "cell_type": "code",
   "execution_count": 28,
   "id": "accomplished-scanner",
   "metadata": {},
   "outputs": [
    {
     "name": "stdout",
     "output_type": "stream",
     "text": [
      "hey how are you\n",
      "good I am fine \n",
      "have a nice day\n"
     ]
    }
   ],
   "source": [
    "input_seq = []\n",
    "output_seq = []\n",
    "\n",
    "for i in pad_text:\n",
    "    print(i)\n",
    "    input_seq.append(i[:-1])\n",
    "    output_seq.append(i[1:])\n"
   ]
  },
  {
   "cell_type": "code",
   "execution_count": 33,
   "id": "remarkable-rendering",
   "metadata": {},
   "outputs": [
    {
     "data": {
      "text/plain": [
       "'have a nice da'"
      ]
     },
     "execution_count": 33,
     "metadata": {},
     "output_type": "execute_result"
    }
   ],
   "source": [
    "input_seq[2]"
   ]
  },
  {
   "cell_type": "code",
   "execution_count": 30,
   "id": "brutal-screw",
   "metadata": {},
   "outputs": [
    {
     "data": {
      "text/plain": [
       "['ey how are you', 'ood I am fine ', 'ave a nice day']"
      ]
     },
     "execution_count": 30,
     "metadata": {},
     "output_type": "execute_result"
    }
   ],
   "source": [
    "output_seq"
   ]
  },
  {
   "cell_type": "code",
   "execution_count": 34,
   "id": "opponent-bibliography",
   "metadata": {},
   "outputs": [
    {
     "name": "stdout",
     "output_type": "stream",
     "text": [
      "[2, 6, 4, 1, 2, 10, 15, 1, 3, 11, 6, 1, 4, 10]\n"
     ]
    },
    {
     "ename": "NameError",
     "evalue": "name 'target_seq' is not defined",
     "output_type": "error",
     "traceback": [
      "\u001b[1;31m---------------------------------------------------------------------------\u001b[0m",
      "\u001b[1;31mNameError\u001b[0m                                 Traceback (most recent call last)",
      "\u001b[1;32m<ipython-input-34-3fd4fdceae5c>\u001b[0m in \u001b[0;36m<module>\u001b[1;34m\u001b[0m\n\u001b[0;32m      1\u001b[0m \u001b[1;32mfor\u001b[0m \u001b[0mi\u001b[0m \u001b[1;32min\u001b[0m \u001b[0mrange\u001b[0m\u001b[1;33m(\u001b[0m\u001b[0mlen\u001b[0m\u001b[1;33m(\u001b[0m\u001b[0mtext\u001b[0m\u001b[1;33m)\u001b[0m\u001b[1;33m)\u001b[0m\u001b[1;33m:\u001b[0m\u001b[1;33m\u001b[0m\u001b[1;33m\u001b[0m\u001b[0m\n\u001b[0;32m      2\u001b[0m     \u001b[0mprint\u001b[0m\u001b[1;33m(\u001b[0m\u001b[0minput_seq\u001b[0m\u001b[1;33m[\u001b[0m\u001b[0mi\u001b[0m\u001b[1;33m]\u001b[0m\u001b[1;33m)\u001b[0m\u001b[1;33m\u001b[0m\u001b[1;33m\u001b[0m\u001b[0m\n\u001b[1;32m----> 3\u001b[1;33m     \u001b[0mprint\u001b[0m\u001b[1;33m(\u001b[0m\u001b[0mtarget_seq\u001b[0m\u001b[1;33m[\u001b[0m\u001b[0mi\u001b[0m\u001b[1;33m]\u001b[0m\u001b[1;33m)\u001b[0m\u001b[1;33m\u001b[0m\u001b[1;33m\u001b[0m\u001b[0m\n\u001b[0m\u001b[0;32m      4\u001b[0m     \u001b[1;31m#input_seq[i] = [char2int[character] for character in input_seq[i]]\u001b[0m\u001b[1;33m\u001b[0m\u001b[1;33m\u001b[0m\u001b[1;33m\u001b[0m\u001b[0m\n\u001b[0;32m      5\u001b[0m     \u001b[1;31m#target_seq[i] = [char2int[character] for character in target_seq[i]]\u001b[0m\u001b[1;33m\u001b[0m\u001b[1;33m\u001b[0m\u001b[1;33m\u001b[0m\u001b[0m\n",
      "\u001b[1;31mNameError\u001b[0m: name 'target_seq' is not defined"
     ]
    }
   ],
   "source": [
    "for i in range(len(text)):\n",
    "    print(input_seq[i])\n",
    "    print(target_seq[i])\n",
    "    #input_seq[i] = [char2int[character] for character in input_seq[i]]\n",
    "    #target_seq[i] = [char2int[character] for character in target_seq[i]]"
   ]
  }
 ],
 "metadata": {
  "kernelspec": {
   "display_name": "Python 3",
   "language": "python",
   "name": "python3"
  },
  "language_info": {
   "codemirror_mode": {
    "name": "ipython",
    "version": 3
   },
   "file_extension": ".py",
   "mimetype": "text/x-python",
   "name": "python",
   "nbconvert_exporter": "python",
   "pygments_lexer": "ipython3",
   "version": "3.9.5"
  }
 },
 "nbformat": 4,
 "nbformat_minor": 5
}
