{
 "cells": [
  {
   "cell_type": "code",
   "execution_count": 158,
   "id": "european-aberdeen",
   "metadata": {},
   "outputs": [],
   "source": [
    "import torch\n",
    "from torch import nn"
   ]
  },
  {
   "cell_type": "markdown",
   "id": "helpful-marine",
   "metadata": {},
   "source": [
    "taken from : https://blog.floydhub.com/a-beginners-guide-on-recurrent-neural-networks-with-pytorch/"
   ]
  },
  {
   "cell_type": "code",
   "execution_count": 159,
   "id": "ordinary-beverage",
   "metadata": {},
   "outputs": [],
   "source": [
    "import numpy as np"
   ]
  },
  {
   "cell_type": "code",
   "execution_count": 160,
   "id": "quick-merit",
   "metadata": {},
   "outputs": [
    {
     "data": {
      "text/plain": [
       "{' ',\n",
       " 'I',\n",
       " 'a',\n",
       " 'c',\n",
       " 'd',\n",
       " 'e',\n",
       " 'f',\n",
       " 'g',\n",
       " 'h',\n",
       " 'i',\n",
       " 'm',\n",
       " 'n',\n",
       " 'o',\n",
       " 'r',\n",
       " 'u',\n",
       " 'v',\n",
       " 'w',\n",
       " 'y'}"
      ]
     },
     "execution_count": 160,
     "metadata": {},
     "output_type": "execute_result"
    }
   ],
   "source": [
    "texts = ['hey how are you', 'good I am fine', 'have a nice day']\n",
    "chars = set(''.join(texts))\n",
    "chars"
   ]
  },
  {
   "cell_type": "code",
   "execution_count": 161,
   "id": "ready-anniversary",
   "metadata": {},
   "outputs": [],
   "source": [
    "int2char = dict(enumerate(chars))"
   ]
  },
  {
   "cell_type": "code",
   "execution_count": 162,
   "id": "separate-range",
   "metadata": {},
   "outputs": [],
   "source": [
    "char2int = {char : ind for ind,char in int2char.items()}"
   ]
  },
  {
   "cell_type": "code",
   "execution_count": 163,
   "id": "binary-mortality",
   "metadata": {},
   "outputs": [
    {
     "data": {
      "text/plain": [
       "15"
      ]
     },
     "execution_count": 163,
     "metadata": {},
     "output_type": "execute_result"
    }
   ],
   "source": [
    "max([len(t) for t in texts])"
   ]
  },
  {
   "cell_type": "markdown",
   "id": "bound-greenhouse",
   "metadata": {},
   "source": [
    "looking at padding"
   ]
  },
  {
   "cell_type": "code",
   "execution_count": 164,
   "id": "coordinate-modern",
   "metadata": {},
   "outputs": [],
   "source": [
    "maxlen = max([len(t) for t in texts])"
   ]
  },
  {
   "cell_type": "code",
   "execution_count": 165,
   "id": "streaming-label",
   "metadata": {},
   "outputs": [
    {
     "data": {
      "text/plain": [
       "15"
      ]
     },
     "execution_count": 165,
     "metadata": {},
     "output_type": "execute_result"
    }
   ],
   "source": [
    "maxlen"
   ]
  },
  {
   "cell_type": "code",
   "execution_count": 166,
   "id": "phantom-cologne",
   "metadata": {},
   "outputs": [],
   "source": [
    "pad_text = []\n",
    "for text in texts:\n",
    "    length_text = len(text)\n",
    "    if length_text < maxlen:\n",
    "        text += (maxlen - length_text)* ' '\n",
    "    pad_text.append(text)\n"
   ]
  },
  {
   "cell_type": "code",
   "execution_count": 167,
   "id": "laughing-poetry",
   "metadata": {},
   "outputs": [
    {
     "data": {
      "text/plain": [
       "['hey how are you', 'good I am fine ', 'have a nice day']"
      ]
     },
     "execution_count": 167,
     "metadata": {},
     "output_type": "execute_result"
    }
   ],
   "source": [
    "pad_text"
   ]
  },
  {
   "cell_type": "code",
   "execution_count": 168,
   "id": "color-projection",
   "metadata": {},
   "outputs": [
    {
     "data": {
      "text/plain": [
       "3"
      ]
     },
     "execution_count": 168,
     "metadata": {},
     "output_type": "execute_result"
    }
   ],
   "source": [
    "len(pad_text)"
   ]
  },
  {
   "cell_type": "code",
   "execution_count": 169,
   "id": "accomplished-scanner",
   "metadata": {},
   "outputs": [
    {
     "name": "stdout",
     "output_type": "stream",
     "text": [
      "hey how are you\n",
      "good I am fine \n",
      "have a nice day\n"
     ]
    }
   ],
   "source": [
    "input_seq = []\n",
    "output_seq = []\n",
    "\n",
    "for i in pad_text:\n",
    "    print(i)\n",
    "    input_seq.append(i[:-1])\n",
    "    output_seq.append(i[1:])\n"
   ]
  },
  {
   "cell_type": "code",
   "execution_count": 170,
   "id": "remarkable-rendering",
   "metadata": {},
   "outputs": [
    {
     "data": {
      "text/plain": [
       "'have a nice da'"
      ]
     },
     "execution_count": 170,
     "metadata": {},
     "output_type": "execute_result"
    }
   ],
   "source": [
    "input_seq[2]"
   ]
  },
  {
   "cell_type": "code",
   "execution_count": 171,
   "id": "brutal-screw",
   "metadata": {},
   "outputs": [
    {
     "data": {
      "text/plain": [
       "['ey how are you', 'ood I am fine ', 'ave a nice day']"
      ]
     },
     "execution_count": 171,
     "metadata": {},
     "output_type": "execute_result"
    }
   ],
   "source": [
    "output_seq"
   ]
  },
  {
   "cell_type": "code",
   "execution_count": 172,
   "id": "opponent-bibliography",
   "metadata": {},
   "outputs": [],
   "source": [
    "for i in range(len(pad_text)):\n",
    "    input_seq[i] = [char2int[character] for character in input_seq[i]]\n",
    "    output_seq[i] = [char2int[character] for character in output_seq[i]]\n",
    "    #input_seq[i] = [char2int[character] for character in input_seq[i]]\n",
    "    #target_seq[i] = [char2int[character] for character in target_seq[i]]"
   ]
  },
  {
   "cell_type": "code",
   "execution_count": 173,
   "id": "gentle-facing",
   "metadata": {},
   "outputs": [
    {
     "data": {
      "text/plain": [
       "([[10, 15, 1, 11, 10, 17, 5, 11, 0, 12, 15, 11, 1, 17],\n",
       "  [3, 17, 17, 6, 11, 16, 11, 0, 2, 11, 13, 8, 7, 15],\n",
       "  [10, 0, 14, 15, 11, 0, 11, 7, 8, 4, 15, 11, 6, 0]],\n",
       " [[15, 1, 11, 10, 17, 5, 11, 0, 12, 15, 11, 1, 17, 9],\n",
       "  [17, 17, 6, 11, 16, 11, 0, 2, 11, 13, 8, 7, 15, 11],\n",
       "  [0, 14, 15, 11, 0, 11, 7, 8, 4, 15, 11, 6, 0, 1]])"
      ]
     },
     "execution_count": 173,
     "metadata": {},
     "output_type": "execute_result"
    }
   ],
   "source": [
    "input_seq, output_seq"
   ]
  },
  {
   "cell_type": "code",
   "execution_count": 177,
   "id": "tender-communications",
   "metadata": {},
   "outputs": [
    {
     "name": "stdout",
     "output_type": "stream",
     "text": [
      "h\n",
      "e\n",
      "y\n",
      " \n",
      "h\n",
      "o\n",
      "w\n",
      " \n",
      "a\n",
      "r\n",
      "e\n",
      " \n",
      "y\n",
      "o\n"
     ]
    }
   ],
   "source": [
    "for i in input_seq:\n",
    "    for c in i:\n",
    "        print(int2char[c])\n",
    "    break\n",
    "\n",
    "    #its working"
   ]
  },
  {
   "cell_type": "code",
   "execution_count": 179,
   "id": "musical-alexander",
   "metadata": {},
   "outputs": [],
   "source": [
    "dict_size = len(char2int)\n",
    "batch_size = len(pad_text)\n",
    "seq_len = maxlen -1\n",
    "\n",
    "def one_hot_encode(sequence, dict_size, seq_len, batch_size):\n",
    "    features = np.zeros((batch_size, seq_len, dict_size),dtype=np.float32)\n",
    "    \n",
    "    for i in range(batch_size):\n",
    "        #print(f\"{i}\\n\")\n",
    "        for u in range(seq_len):\n",
    "                #print(f\"{u}\")\n",
    "                features[i,u,sequence[i][u]] = 1\n",
    "    return features"
   ]
  },
  {
   "cell_type": "code",
   "execution_count": 180,
   "id": "experienced-labor",
   "metadata": {},
   "outputs": [],
   "source": [
    "input_seq = one_hot_encode(input_seq, dict_size, seq_len, batch_size)\n",
    "#output_seq = one_hot_encode(output_seq, dict_size, seq_len, batch_size)"
   ]
  },
  {
   "cell_type": "code",
   "execution_count": 195,
   "id": "employed-boating",
   "metadata": {},
   "outputs": [
    {
     "data": {
      "text/plain": [
       "torch.Size([3, 14, 18])"
      ]
     },
     "execution_count": 195,
     "metadata": {},
     "output_type": "execute_result"
    }
   ],
   "source": [
    "input_seq.shape"
   ]
  },
  {
   "cell_type": "code",
   "execution_count": 184,
   "id": "constant-walnut",
   "metadata": {},
   "outputs": [],
   "source": [
    "input_seq = torch.from_numpy(input_seq)\n",
    "output_seq = torch.tensor(output_seq)"
   ]
  },
  {
   "cell_type": "code",
   "execution_count": 185,
   "id": "reasonable-protocol",
   "metadata": {
    "scrolled": false
   },
   "outputs": [
    {
     "data": {
      "text/plain": [
       "(torch.Size([3, 14, 18]), torch.Size([3, 14]))"
      ]
     },
     "execution_count": 185,
     "metadata": {},
     "output_type": "execute_result"
    }
   ],
   "source": [
    "input_seq.shape, output_seq.shape"
   ]
  },
  {
   "cell_type": "code",
   "execution_count": 186,
   "id": "considered-seattle",
   "metadata": {},
   "outputs": [],
   "source": [
    "device = torch.device('cuda' if torch.cuda.is_available() else 'cpu')"
   ]
  },
  {
   "cell_type": "code",
   "execution_count": 187,
   "id": "elect-strategy",
   "metadata": {},
   "outputs": [],
   "source": [
    "from torch import nn\n",
    "class RNN(nn.Module):\n",
    "    def __init__(self, input_size, output_size, hidden_dim, n_layers):\n",
    "        super(RNN, self).__init__()\n",
    "        self.hidden_dim = hidden_dim\n",
    "        self.n_layers = n_layers\n",
    "        \n",
    "        self.rnn = nn.RNN(input_size, hidden_dim, n_layers, batch_first=True )\n",
    "        self.fc = nn.Linear(hidden_dim, output_size)\n",
    "        \n",
    "    def forward(self, x):\n",
    "        batch_size = x.size(0)\n",
    "        hidden = self.init_hidden(batch_size)\n",
    "        out, hidden = self.rnn(x, hidden)\n",
    "        out = out.contiguous().view(-1, self.hidden_dim)\n",
    "        out = self.fc(out)\n",
    "        return out, hidden\n",
    "    \n",
    "    def init_hidden(self, batch_size):\n",
    "        hidden = torch.zeros(self.n_layers, batch_size, self.hidden_dim)\n",
    "        return hidden.to(device)"
   ]
  },
  {
   "cell_type": "code",
   "execution_count": 188,
   "id": "least-relevance",
   "metadata": {},
   "outputs": [],
   "source": [
    "model = RNN(input_size=dict_size, output_size=dict_size, hidden_dim = 12, n_layers=1)\n",
    "model = model.to(device)"
   ]
  },
  {
   "cell_type": "code",
   "execution_count": 189,
   "id": "irish-portable",
   "metadata": {},
   "outputs": [],
   "source": [
    "n_epochs = 100\n",
    "lr = 0.01\n",
    "\n",
    "criterion = nn.CrossEntropyLoss()\n",
    "optimizer = torch.optim.Adam(model.parameters(), lr=lr)"
   ]
  },
  {
   "cell_type": "code",
   "execution_count": 190,
   "id": "joined-priest",
   "metadata": {},
   "outputs": [
    {
     "name": "stdout",
     "output_type": "stream",
     "text": [
      "output shape after running rnn: torch.Size([3, 14, 12])\n",
      "output shape after running fc : torch.Size([42, 18])\n",
      "output shape after model forward function: torch.Size([756])\n",
      "output contiguous view: torch.Size([42])\n",
      "shape of output : torch.Size([3, 14])\n"
     ]
    }
   ],
   "source": [
    "## testing\n",
    "input_seq = input_seq.to(device)\n",
    "batch_size = input_seq.size(0)\n",
    "hidden = model.init_hidden(batch_size)\n",
    "out, hidden = model.rnn(input_seq, hidden)\n",
    "print(f\"output shape after running rnn: {out.shape}\")\n",
    "out = out.contiguous().view(-1, model.hidden_dim)\n",
    "out = model.fc(out)\n",
    "print(f\"output shape after running fc : {out.shape}\")\n",
    "\n",
    "out, hidden = model(input_seq)\n",
    "print(f\"output shape after model forward function: {out.view(-1).shape}\")\n",
    "\n",
    "print(f\"output contiguous view: {output_seq.view(-1).shape}\")\n",
    "\n",
    "print(f\"shape of output : {output_seq.shape}\")"
   ]
  },
  {
   "cell_type": "code",
   "execution_count": 139,
   "id": "national-cruise",
   "metadata": {
    "scrolled": false
   },
   "outputs": [
    {
     "name": "stderr",
     "output_type": "stream",
     "text": [
      "'#curl' is not recognized as an internal or external command,\n",
      "operable program or batch file.\n"
     ]
    }
   ],
   "source": [
    "!#curl https://raw.githubusercontent.com/gabrielloye/RNN-walkthrough/master/main.ipynb -o main.ipynb"
   ]
  },
  {
   "cell_type": "code",
   "execution_count": 191,
   "id": "dress-argument",
   "metadata": {},
   "outputs": [
    {
     "name": "stdout",
     "output_type": "stream",
     "text": [
      "Epoch: 10/100............. Loss: 2.4712\n",
      "Epoch: 20/100............. Loss: 2.1599\n",
      "Epoch: 30/100............. Loss: 1.7303\n",
      "Epoch: 40/100............. Loss: 1.2908\n",
      "Epoch: 50/100............. Loss: 0.9279\n",
      "Epoch: 60/100............. Loss: 0.6588\n",
      "Epoch: 70/100............. Loss: 0.4633\n",
      "Epoch: 80/100............. Loss: 0.3302\n",
      "Epoch: 90/100............. Loss: 0.2429\n",
      "Epoch: 100/100............. Loss: 0.1866\n"
     ]
    }
   ],
   "source": [
    "for epoch in range(1, n_epochs+1):\n",
    "    optimizer.zero_grad()\n",
    "    input_seq = input_seq.to(device)\n",
    "    output_seq = output_seq.to(device)\n",
    "    output, hidden = model(input_seq)\n",
    "    loss = criterion(output, output_seq.view(-1).long())\n",
    "    loss.backward()\n",
    "    optimizer.step()\n",
    "    \n",
    "    if epoch%10 == 0:\n",
    "        print('Epoch: {}/{}.............'.format(epoch, n_epochs), end=' ')\n",
    "        print(\"Loss: {:.4f}\".format(loss.item()))"
   ]
  },
  {
   "cell_type": "code",
   "execution_count": 196,
   "id": "orange-shooting",
   "metadata": {},
   "outputs": [],
   "source": [
    "def predict(model, character):\n",
    "    # One-hot encoding our input to fit into the model\n",
    "    character = np.array([[char2int[c] for c in character]])\n",
    "    character = one_hot_encode(character, dict_size, character.shape[1], 1)\n",
    "    character = torch.from_numpy(character)\n",
    "    character = character.to(device)\n",
    "    \n",
    "    out, hidden = model(character)\n",
    "\n",
    "    prob = nn.functional.softmax(out[-1], dim=0).data\n",
    "    # Taking the class with the highest probability score from the output\n",
    "    char_ind = torch.max(prob, dim=0)[1].item()\n",
    "\n",
    "    return int2char[char_ind], hidden"
   ]
  },
  {
   "cell_type": "code",
   "execution_count": 197,
   "id": "applicable-judgment",
   "metadata": {},
   "outputs": [],
   "source": [
    "def sample(model, out_len, start='hey'):\n",
    "    model.eval() # eval mode\n",
    "    start = start.lower()\n",
    "    # First off, run through the starting characters\n",
    "    chars = [ch for ch in start]\n",
    "    size = out_len - len(chars)\n",
    "    # Now pass in the previous characters and get a new one\n",
    "    for ii in range(size):\n",
    "        char, h = predict(model, chars)\n",
    "        chars.append(char)\n",
    "\n",
    "    return ''.join(chars)"
   ]
  },
  {
   "cell_type": "code",
   "execution_count": 198,
   "id": "varied-switch",
   "metadata": {},
   "outputs": [
    {
     "data": {
      "text/plain": [
       "'hive a nice day'"
      ]
     },
     "execution_count": 198,
     "metadata": {},
     "output_type": "execute_result"
    }
   ],
   "source": [
    "sample(model, 15, 'hi')"
   ]
  }
 ],
 "metadata": {
  "kernelspec": {
   "display_name": "Python 3",
   "language": "python",
   "name": "python3"
  },
  "language_info": {
   "codemirror_mode": {
    "name": "ipython",
    "version": 3
   },
   "file_extension": ".py",
   "mimetype": "text/x-python",
   "name": "python",
   "nbconvert_exporter": "python",
   "pygments_lexer": "ipython3",
   "version": "3.9.5"
  }
 },
 "nbformat": 4,
 "nbformat_minor": 5
}
