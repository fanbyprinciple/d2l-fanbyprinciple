{
 "cells": [
  {
   "cell_type": "markdown",
   "id": "little-zambia",
   "metadata": {},
   "source": [
    "## Random sampling"
   ]
  },
  {
   "cell_type": "code",
   "execution_count": 38,
   "id": "thirty-release",
   "metadata": {},
   "outputs": [],
   "source": [
    "import random\n",
    "import torch\n",
    "\n",
    "def seq_data_iter_random(corpus, batch_size, num_steps):\n",
    "    corpus = corpus[random.randint(0,num_steps-1):]\n",
    "    print(f'corpus : {corpus}')\n",
    "    num_subseqs = (len(corpus)-1)//num_steps\n",
    "    print(f'num_subseqs : {num_subseqs}')\n",
    "    initial_indices = list(range(0, num_subseqs * num_steps, num_steps))\n",
    "    random.shuffle(initial_indices)\n",
    "    print(f'initial_indices : {initial_indices}')\n",
    "    \n",
    "    def data(pos):\n",
    "        return corpus[pos:pos+num_steps]\n",
    "    \n",
    "    num_batches = num_subseqs//batch_size\n",
    "    print(f'num_batches: {num_batches}')\n",
    "    for i in range(0, batch_size * num_batches, batch_size):\n",
    "        initial_indices_per_batch = initial_indices[i: i+batch_size]\n",
    "        print(f'\\tinitial_indices_per_batch : {initial_indices_per_batch}')\n",
    "        X = [data(j) for j in initial_indices_per_batch]\n",
    "        Y = [data(j+1) for j in initial_indices_per_batch]\n",
    "        yield torch.tensor(X), torch.tensor(Y)"
   ]
  },
  {
   "cell_type": "code",
   "execution_count": 33,
   "id": "forty-bidder",
   "metadata": {},
   "outputs": [
    {
     "name": "stdout",
     "output_type": "stream",
     "text": [
      "corpus : range(1, 45)\n",
      "num_subseqs : 10\n",
      "initial_indices : [0, 4, 8, 12, 16, 20, 24, 28, 32, 36]\n",
      "num_batches: 2\n",
      "\tinitial_indices_per_batch : [28, 20, 16, 36]\n",
      "\n",
      "\tX : tensor([[29, 30, 31, 32],\n",
      "        [21, 22, 23, 24],\n",
      "        [17, 18, 19, 20],\n",
      "        [37, 38, 39, 40]]), \n",
      "\tY : tensor([[30, 31, 32, 33],\n",
      "        [22, 23, 24, 25],\n",
      "        [18, 19, 20, 21],\n",
      "        [38, 39, 40, 41]])\n",
      "\tinitial_indices_per_batch : [4, 24, 12, 8]\n",
      "\n",
      "\tX : tensor([[ 5,  6,  7,  8],\n",
      "        [25, 26, 27, 28],\n",
      "        [13, 14, 15, 16],\n",
      "        [ 9, 10, 11, 12]]), \n",
      "\tY : tensor([[ 6,  7,  8,  9],\n",
      "        [26, 27, 28, 29],\n",
      "        [14, 15, 16, 17],\n",
      "        [10, 11, 12, 13]])\n"
     ]
    }
   ],
   "source": [
    "my_seq = range(0,45)\n",
    "\n",
    "for X, Y in seq_data_iter_random(my_seq, batch_size=4, num_steps=4):\n",
    "    print(f'\\n\\tX : {X}, \\n\\tY : {Y}')"
   ]
  },
  {
   "cell_type": "markdown",
   "id": "combined-click",
   "metadata": {},
   "source": [
    "### Not able to understand therefore a walkthrough"
   ]
  },
  {
   "cell_type": "code",
   "execution_count": 24,
   "id": "considered-accident",
   "metadata": {},
   "outputs": [
    {
     "data": {
      "text/plain": [
       "range(2, 45)"
      ]
     },
     "execution_count": 24,
     "metadata": {},
     "output_type": "execute_result"
    }
   ],
   "source": [
    "num_steps = 4\n",
    "batch_size = 4\n",
    "\n",
    "corpus = my_seq[random.randint(0,num_steps-1):]\n",
    "corpus"
   ]
  },
  {
   "cell_type": "code",
   "execution_count": 26,
   "id": "still-mustang",
   "metadata": {},
   "outputs": [
    {
     "data": {
      "text/plain": [
       "10"
      ]
     },
     "execution_count": 26,
     "metadata": {},
     "output_type": "execute_result"
    }
   ],
   "source": [
    "num_subseqs = (len(corpus)-1)//num_steps\n",
    "num_subseqs"
   ]
  },
  {
   "cell_type": "code",
   "execution_count": 34,
   "id": "thrown-arlington",
   "metadata": {},
   "outputs": [
    {
     "data": {
      "text/plain": [
       "[0, 4, 8, 12, 16, 20, 24, 28, 32, 36]"
      ]
     },
     "execution_count": 34,
     "metadata": {},
     "output_type": "execute_result"
    }
   ],
   "source": [
    "initial_indices = list(range(0, num_subseqs * num_steps, num_steps))\n",
    "initial_indices"
   ]
  },
  {
   "cell_type": "code",
   "execution_count": 35,
   "id": "solved-terry",
   "metadata": {},
   "outputs": [
    {
     "data": {
      "text/plain": [
       "[24, 20, 16, 4, 8, 36, 12, 32, 28, 0]"
      ]
     },
     "execution_count": 35,
     "metadata": {},
     "output_type": "execute_result"
    }
   ],
   "source": [
    "random.shuffle(initial_indices)\n",
    "initial_indices"
   ]
  },
  {
   "cell_type": "code",
   "execution_count": 37,
   "id": "engaged-cooler",
   "metadata": {},
   "outputs": [
    {
     "data": {
      "text/plain": [
       "2"
      ]
     },
     "execution_count": 37,
     "metadata": {},
     "output_type": "execute_result"
    }
   ],
   "source": [
    "num_batches = num_subseqs // batch_size\n",
    "num_batches"
   ]
  },
  {
   "cell_type": "code",
   "execution_count": 44,
   "id": "defined-series",
   "metadata": {},
   "outputs": [
    {
     "name": "stdout",
     "output_type": "stream",
     "text": [
      "initial_indices_per_batch : [24, 20, 16, 4]\n",
      "tensor([[26, 27, 28, 29],\n",
      "        [22, 23, 24, 25],\n",
      "        [18, 19, 20, 21],\n",
      "        [ 6,  7,  8,  9]]) tensor([[27, 28, 29, 30],\n",
      "        [23, 24, 25, 26],\n",
      "        [19, 20, 21, 22],\n",
      "        [ 7,  8,  9, 10]])\n",
      "initial_indices_per_batch : [8, 36, 12, 32]\n",
      "tensor([[10, 11, 12, 13],\n",
      "        [38, 39, 40, 41],\n",
      "        [14, 15, 16, 17],\n",
      "        [34, 35, 36, 37]]) tensor([[11, 12, 13, 14],\n",
      "        [39, 40, 41, 42],\n",
      "        [15, 16, 17, 18],\n",
      "        [35, 36, 37, 38]])\n"
     ]
    }
   ],
   "source": [
    "for i in range(0, num_batches * batch_size, batch_size):\n",
    "    initial_indices_per_batch = initial_indices[i: i+ batch_size]\n",
    "    print(f'initial_indices_per_batch : {initial_indices_per_batch}')\n",
    "    X = [corpus[j:j+ num_steps] for j in initial_indices_per_batch]\n",
    "    Y = [corpus[j+1:j+1+num_steps] for j in initial_indices_per_batch]\n",
    "    print(torch.tensor(X), torch.tensor(Y))\n",
    "    "
   ]
  },
  {
   "cell_type": "markdown",
   "id": "boring-newspaper",
   "metadata": {},
   "source": [
    "## Sequential sampling"
   ]
  },
  {
   "cell_type": "code",
   "execution_count": 46,
   "id": "brief-maldives",
   "metadata": {},
   "outputs": [],
   "source": [
    "# can we generate sequential sampling by not shufflingthe indices\n",
    "\n",
    "def seq_data_iter_sequential(corpus, batch_size, num_steps):\n",
    "    corpus = corpus[random.randint(0,num_steps-1):]\n",
    "    print(f'corpus : {corpus}')\n",
    "    num_subseqs = (len(corpus)-1)//num_steps\n",
    "    print(f'num_subseqs : {num_subseqs}')\n",
    "    initial_indices = list(range(0, num_subseqs * num_steps, num_steps))\n",
    "    #random.shuffle(initial_indices)\n",
    "    print(f'initial_indices : {initial_indices}')\n",
    "    \n",
    "    def data(pos):\n",
    "        return corpus[pos:pos+num_steps]\n",
    "    \n",
    "    num_batches = num_subseqs//batch_size\n",
    "    print(f'num_batches: {num_batches}')\n",
    "    for i in range(0, batch_size * num_batches, batch_size):\n",
    "        initial_indices_per_batch = initial_indices[i: i+batch_size]\n",
    "        print(f'\\tinitial_indices_per_batch : {initial_indices_per_batch}')\n",
    "        X = [data(j) for j in initial_indices_per_batch]\n",
    "        Y = [data(j+1) for j in initial_indices_per_batch]\n",
    "        yield torch.tensor(X), torch.tensor(Y)"
   ]
  },
  {
   "cell_type": "code",
   "execution_count": 50,
   "id": "general-coast",
   "metadata": {},
   "outputs": [
    {
     "name": "stdout",
     "output_type": "stream",
     "text": [
      "corpus : [4, 5, 6, 7, 8, 9, 10, 11, 12, 13, 14, 15, 16, 17, 18, 19, 20, 21, 22, 23, 24, 25, 26, 27, 28, 29, 30, 31, 32, 33, 34]\n",
      "num_subseqs : 6\n",
      "initial_indices : [0, 5, 10, 15, 20, 25]\n",
      "num_batches: 3\n",
      "\tinitial_indices_per_batch : [0, 5]\n",
      "X:  tensor([[ 4,  5,  6,  7,  8],\n",
      "        [ 9, 10, 11, 12, 13]]) \n",
      "Y: tensor([[ 5,  6,  7,  8,  9],\n",
      "        [10, 11, 12, 13, 14]])\n",
      "\tinitial_indices_per_batch : [10, 15]\n",
      "X:  tensor([[14, 15, 16, 17, 18],\n",
      "        [19, 20, 21, 22, 23]]) \n",
      "Y: tensor([[15, 16, 17, 18, 19],\n",
      "        [20, 21, 22, 23, 24]])\n",
      "\tinitial_indices_per_batch : [20, 25]\n",
      "X:  tensor([[24, 25, 26, 27, 28],\n",
      "        [29, 30, 31, 32, 33]]) \n",
      "Y: tensor([[25, 26, 27, 28, 29],\n",
      "        [30, 31, 32, 33, 34]])\n"
     ]
    }
   ],
   "source": [
    "my_seq = list(range(0,35))\n",
    "\n",
    "for X, Y in seq_data_iter_sequential(my_seq, batch_size=2, num_steps=5):\n",
    "    print('X: ', X, '\\nY:', Y)\n",
    "\n",
    "# apparently not as the list in  individual batches are adjacent based on index, \n",
    "# not to each other in the same mini batch"
   ]
  },
  {
   "cell_type": "code",
   "execution_count": 55,
   "id": "weekly-terry",
   "metadata": {},
   "outputs": [],
   "source": [
    "def seq_data_iter_sequential(corpus, batch_size, num_steps):\n",
    "    offset = random.randint(0, num_steps)\n",
    "    print(f'offset: {offset}')\n",
    "    num_tokens = ((len(corpus) - offset -1)//batch_size)*batch_size\n",
    "    print(f'num_tokens : {num_tokens}')\n",
    "    Xs = torch.tensor(corpus[offset:offset + num_tokens])\n",
    "    print(f'Xs : {Xs}')\n",
    "    Ys = torch.tensor(corpus[offset+1:offset+1+num_tokens])\n",
    "    print(f'Ys : {Ys}')\n",
    "    Xs, Ys = Xs.reshape(batch_size, -1), Ys.reshape(batch_size, -1)\n",
    "    num_batches = Xs.shape[1]//batch_size\n",
    "    print(f'num_batches : {num_batches}')\n",
    "    \n",
    "    for i in range(0, num_steps * num_batches, num_steps):\n",
    "        X = Xs[:,i:i+ num_steps]\n",
    "        Y = Ys[:,i:i+ num_steps]\n",
    "        yield X, Y"
   ]
  },
  {
   "cell_type": "code",
   "execution_count": 57,
   "id": "missing-cameroon",
   "metadata": {},
   "outputs": [
    {
     "name": "stdout",
     "output_type": "stream",
     "text": [
      "offset: 5\n",
      "num_tokens : 28\n",
      "Xs : tensor([ 5,  6,  7,  8,  9, 10, 11, 12, 13, 14, 15, 16, 17, 18, 19, 20, 21, 22,\n",
      "        23, 24, 25, 26, 27, 28, 29, 30, 31, 32])\n",
      "Ys : tensor([ 6,  7,  8,  9, 10, 11, 12, 13, 14, 15, 16, 17, 18, 19, 20, 21, 22, 23,\n",
      "        24, 25, 26, 27, 28, 29, 30, 31, 32, 33])\n",
      "num_batches : 7\n",
      "X:  tensor([[ 5,  6,  7,  8,  9],\n",
      "        [19, 20, 21, 22, 23]]) \n",
      "Y: tensor([[ 6,  7,  8,  9, 10],\n",
      "        [20, 21, 22, 23, 24]])\n"
     ]
    }
   ],
   "source": [
    "for X, Y in seq_data_iter_sequential(my_seq, batch_size=2, num_steps=5):\n",
    "    print('X: ', X, '\\nY:', Y)\n",
    "    break"
   ]
  },
  {
   "cell_type": "markdown",
   "id": "intermediate-wireless",
   "metadata": {},
   "source": [
    "in sequential when batch size is two we split in the middle to make the two division"
   ]
  },
  {
   "cell_type": "code",
   "execution_count": 58,
   "id": "legendary-basketball",
   "metadata": {},
   "outputs": [],
   "source": [
    "class SeqDataLoader:\n",
    "    def __init__(self, batch_size, num_steps, use_random_iter, max_tokens):\n",
    "        if use_random_iter:\n",
    "            self.data_iter_fn = d2l.seq_data_iter_random\n",
    "        else:\n",
    "            self.data_iter_fn = d2l.seq_data_iter_sequential\n",
    "        self.corpus, self.vocab = d2l.load_corpus_time_machine(max_tokens)\n",
    "        self.batch_size, self.num_steps = bathc_size, num_steps\n",
    "    \n",
    "    def __iter__(self):\n",
    "        return self.data_iter_fn(self.corpus, self.batch_size, self.num_steps)\n",
    "        "
   ]
  },
  {
   "cell_type": "code",
   "execution_count": 59,
   "id": "proud-sitting",
   "metadata": {},
   "outputs": [],
   "source": [
    "def load_data_time_machine(batch_size,num_steps, use_random_iter=False, max_tokens=1000):\n",
    "    data_iter = SeqDataLoader(batch_size, num_steps, use_random_iter, max_tokens)\n",
    "    return data_iter, data_iter.vocab"
   ]
  },
  {
   "cell_type": "markdown",
   "id": "challenging-category",
   "metadata": {},
   "source": [
    "### Exercises\n",
    "\n",
    "1. Suppose there are 100, 000 words in the training dataset. How much word frequency and\n",
    "multi-word adjacent frequency does a four-gram need to store?\n",
    "    - what does multi word adjacent frequency mean? i reckon about 99,997 - 100000\n",
    "\n",
    "2. How would you model a dialogue?\n",
    "    - 1. by taking out the speakers name, through puttingin the stop word, rest shouldbe the same.\n",
    "    \n",
    "3. Estimate the exponent of Zipfʼs law for unigrams, bigrams, and trigrams.\n",
    "    - maybe helpful : https://journals.plos.org/plosone/article?id=10.1371/journal.pone.0053227\n",
    "    \n",
    "4. What other methods can you think of for reading long sequence data?\n",
    "    - dictionary based\n",
    "    \n",
    "5. Consider the random offset that we use for reading long sequences.\n",
    "    1. Why is it a good idea to have a random offset?\n",
    "    2. Does it really lead to a perfectly uniform distribution over the sequences on the document?\n",
    "    3. What would you have to do to make things even more uniform?\n",
    "    \n",
    "6. If we want a sequence example to be a complete sentence, what kind of problem does this\n",
    "introduce in minibatch sampling? How can we fix the problem?"
   ]
  }
 ],
 "metadata": {
  "kernelspec": {
   "display_name": "Python 3",
   "language": "python",
   "name": "python3"
  },
  "language_info": {
   "codemirror_mode": {
    "name": "ipython",
    "version": 3
   },
   "file_extension": ".py",
   "mimetype": "text/x-python",
   "name": "python",
   "nbconvert_exporter": "python",
   "pygments_lexer": "ipython3",
   "version": "3.9.5"
  }
 },
 "nbformat": 4,
 "nbformat_minor": 5
}
