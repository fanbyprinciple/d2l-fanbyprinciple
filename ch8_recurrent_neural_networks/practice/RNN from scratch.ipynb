{
 "cells": [
  {
   "cell_type": "markdown",
   "id": "little-zambia",
   "metadata": {},
   "source": [
    "## Random sampling"
   ]
  },
  {
   "cell_type": "code",
   "execution_count": 188,
   "id": "thirty-release",
   "metadata": {},
   "outputs": [],
   "source": [
    "import random\n",
    "import torch\n",
    "\n",
    "def seq_data_iter_random(corpus, batch_size, num_steps):\n",
    "    corpus = corpus[random.randint(0,num_steps-1):]\n",
    "    print(f'corpus : {corpus}')\n",
    "    num_subseqs = (len(corpus)-1)//num_steps\n",
    "    print(f'num_subseqs : {num_subseqs}')\n",
    "    initial_indices = list(range(0, num_subseqs * num_steps, num_steps))\n",
    "    random.shuffle(initial_indices)\n",
    "    print(f'initial_indices : {initial_indices}')\n",
    "    \n",
    "    def data(pos):\n",
    "        return corpus[pos:pos+num_steps]\n",
    "    \n",
    "    num_batches = num_subseqs//batch_size\n",
    "    print(f'num_batches: {num_batches}')\n",
    "    for i in range(0, batch_size * num_batches, batch_size):\n",
    "        initial_indices_per_batch = initial_indices[i: i+batch_size]\n",
    "        print(f'\\tinitial_indices_per_batch : {initial_indices_per_batch}')\n",
    "        X = [data(j) for j in initial_indices_per_batch]\n",
    "        Y = [data(j+1) for j in initial_indices_per_batch]\n",
    "        yield torch.tensor(X), torch.tensor(Y)"
   ]
  },
  {
   "cell_type": "code",
   "execution_count": 189,
   "id": "forty-bidder",
   "metadata": {},
   "outputs": [
    {
     "name": "stdout",
     "output_type": "stream",
     "text": [
      "corpus : range(2, 45)\n",
      "num_subseqs : 10\n",
      "initial_indices : [4, 12, 24, 16, 36, 0, 28, 8, 32, 20]\n",
      "num_batches: 2\n",
      "\tinitial_indices_per_batch : [4, 12, 24, 16]\n",
      "\n",
      "\tX : tensor([[ 6,  7,  8,  9],\n",
      "        [14, 15, 16, 17],\n",
      "        [26, 27, 28, 29],\n",
      "        [18, 19, 20, 21]]), \n",
      "\tY : tensor([[ 7,  8,  9, 10],\n",
      "        [15, 16, 17, 18],\n",
      "        [27, 28, 29, 30],\n",
      "        [19, 20, 21, 22]])\n",
      "\tinitial_indices_per_batch : [36, 0, 28, 8]\n",
      "\n",
      "\tX : tensor([[38, 39, 40, 41],\n",
      "        [ 2,  3,  4,  5],\n",
      "        [30, 31, 32, 33],\n",
      "        [10, 11, 12, 13]]), \n",
      "\tY : tensor([[39, 40, 41, 42],\n",
      "        [ 3,  4,  5,  6],\n",
      "        [31, 32, 33, 34],\n",
      "        [11, 12, 13, 14]])\n"
     ]
    }
   ],
   "source": [
    "my_seq = range(0,45)\n",
    "\n",
    "for X, Y in seq_data_iter_random(my_seq, batch_size=4, num_steps=4):\n",
    "    print(f'\\n\\tX : {X}, \\n\\tY : {Y}')"
   ]
  },
  {
   "cell_type": "markdown",
   "id": "combined-click",
   "metadata": {},
   "source": [
    "### Not able to understand therefore a walkthrough"
   ]
  },
  {
   "cell_type": "code",
   "execution_count": 190,
   "id": "considered-accident",
   "metadata": {},
   "outputs": [
    {
     "data": {
      "text/plain": [
       "range(2, 45)"
      ]
     },
     "execution_count": 190,
     "metadata": {},
     "output_type": "execute_result"
    }
   ],
   "source": [
    "num_steps = 4\n",
    "batch_size = 4\n",
    "\n",
    "corpus = my_seq[random.randint(0,num_steps-1):]\n",
    "corpus"
   ]
  },
  {
   "cell_type": "code",
   "execution_count": 191,
   "id": "still-mustang",
   "metadata": {},
   "outputs": [
    {
     "data": {
      "text/plain": [
       "10"
      ]
     },
     "execution_count": 191,
     "metadata": {},
     "output_type": "execute_result"
    }
   ],
   "source": [
    "num_subseqs = (len(corpus)-1)//num_steps\n",
    "num_subseqs"
   ]
  },
  {
   "cell_type": "code",
   "execution_count": 192,
   "id": "thrown-arlington",
   "metadata": {},
   "outputs": [
    {
     "data": {
      "text/plain": [
       "[0, 4, 8, 12, 16, 20, 24, 28, 32, 36]"
      ]
     },
     "execution_count": 192,
     "metadata": {},
     "output_type": "execute_result"
    }
   ],
   "source": [
    "initial_indices = list(range(0, num_subseqs * num_steps, num_steps))\n",
    "initial_indices"
   ]
  },
  {
   "cell_type": "code",
   "execution_count": 193,
   "id": "solved-terry",
   "metadata": {},
   "outputs": [
    {
     "data": {
      "text/plain": [
       "[12, 4, 20, 0, 32, 36, 8, 16, 24, 28]"
      ]
     },
     "execution_count": 193,
     "metadata": {},
     "output_type": "execute_result"
    }
   ],
   "source": [
    "random.shuffle(initial_indices)\n",
    "initial_indices"
   ]
  },
  {
   "cell_type": "code",
   "execution_count": 194,
   "id": "engaged-cooler",
   "metadata": {},
   "outputs": [
    {
     "data": {
      "text/plain": [
       "2"
      ]
     },
     "execution_count": 194,
     "metadata": {},
     "output_type": "execute_result"
    }
   ],
   "source": [
    "num_batches = num_subseqs // batch_size\n",
    "num_batches"
   ]
  },
  {
   "cell_type": "code",
   "execution_count": 195,
   "id": "defined-series",
   "metadata": {},
   "outputs": [
    {
     "name": "stdout",
     "output_type": "stream",
     "text": [
      "initial_indices_per_batch : [12, 4, 20, 0]\n",
      "tensor([[14, 15, 16, 17],\n",
      "        [ 6,  7,  8,  9],\n",
      "        [22, 23, 24, 25],\n",
      "        [ 2,  3,  4,  5]]) tensor([[15, 16, 17, 18],\n",
      "        [ 7,  8,  9, 10],\n",
      "        [23, 24, 25, 26],\n",
      "        [ 3,  4,  5,  6]])\n",
      "initial_indices_per_batch : [32, 36, 8, 16]\n",
      "tensor([[34, 35, 36, 37],\n",
      "        [38, 39, 40, 41],\n",
      "        [10, 11, 12, 13],\n",
      "        [18, 19, 20, 21]]) tensor([[35, 36, 37, 38],\n",
      "        [39, 40, 41, 42],\n",
      "        [11, 12, 13, 14],\n",
      "        [19, 20, 21, 22]])\n"
     ]
    }
   ],
   "source": [
    "for i in range(0, num_batches * batch_size, batch_size):\n",
    "    initial_indices_per_batch = initial_indices[i: i+ batch_size]\n",
    "    print(f'initial_indices_per_batch : {initial_indices_per_batch}')\n",
    "    X = [corpus[j:j+ num_steps] for j in initial_indices_per_batch]\n",
    "    Y = [corpus[j+1:j+1+num_steps] for j in initial_indices_per_batch]\n",
    "    print(torch.tensor(X), torch.tensor(Y))\n",
    "    "
   ]
  },
  {
   "cell_type": "markdown",
   "id": "boring-newspaper",
   "metadata": {},
   "source": [
    "## Sequential sampling"
   ]
  },
  {
   "cell_type": "code",
   "execution_count": 196,
   "id": "brief-maldives",
   "metadata": {},
   "outputs": [],
   "source": [
    "# can we generate sequential sampling by not shufflingthe indices\n",
    "\n",
    "def seq_data_iter_sequential(corpus, batch_size, num_steps):\n",
    "    corpus = corpus[random.randint(0,num_steps-1):]\n",
    "    print(f'corpus : {corpus}')\n",
    "    num_subseqs = (len(corpus)-1)//num_steps\n",
    "    print(f'num_subseqs : {num_subseqs}')\n",
    "    initial_indices = list(range(0, num_subseqs * num_steps, num_steps))\n",
    "    #random.shuffle(initial_indices)\n",
    "    print(f'initial_indices : {initial_indices}')\n",
    "    \n",
    "    def data(pos):\n",
    "        return corpus[pos:pos+num_steps]\n",
    "    \n",
    "    num_batches = num_subseqs//batch_size\n",
    "    print(f'num_batches: {num_batches}')\n",
    "    for i in range(0, batch_size * num_batches, batch_size):\n",
    "        initial_indices_per_batch = initial_indices[i: i+batch_size]\n",
    "        print(f'\\tinitial_indices_per_batch : {initial_indices_per_batch}')\n",
    "        X = [data(j) for j in initial_indices_per_batch]\n",
    "        Y = [data(j+1) for j in initial_indices_per_batch]\n",
    "        yield torch.tensor(X), torch.tensor(Y)"
   ]
  },
  {
   "cell_type": "code",
   "execution_count": 197,
   "id": "general-coast",
   "metadata": {},
   "outputs": [
    {
     "name": "stdout",
     "output_type": "stream",
     "text": [
      "corpus : [3, 4, 5, 6, 7, 8, 9, 10, 11, 12, 13, 14, 15, 16, 17, 18, 19, 20, 21, 22, 23, 24, 25, 26, 27, 28, 29, 30, 31, 32, 33, 34]\n",
      "num_subseqs : 6\n",
      "initial_indices : [0, 5, 10, 15, 20, 25]\n",
      "num_batches: 3\n",
      "\tinitial_indices_per_batch : [0, 5]\n",
      "X:  tensor([[ 3,  4,  5,  6,  7],\n",
      "        [ 8,  9, 10, 11, 12]]) \n",
      "Y: tensor([[ 4,  5,  6,  7,  8],\n",
      "        [ 9, 10, 11, 12, 13]])\n",
      "\tinitial_indices_per_batch : [10, 15]\n",
      "X:  tensor([[13, 14, 15, 16, 17],\n",
      "        [18, 19, 20, 21, 22]]) \n",
      "Y: tensor([[14, 15, 16, 17, 18],\n",
      "        [19, 20, 21, 22, 23]])\n",
      "\tinitial_indices_per_batch : [20, 25]\n",
      "X:  tensor([[23, 24, 25, 26, 27],\n",
      "        [28, 29, 30, 31, 32]]) \n",
      "Y: tensor([[24, 25, 26, 27, 28],\n",
      "        [29, 30, 31, 32, 33]])\n"
     ]
    }
   ],
   "source": [
    "my_seq = list(range(0,35))\n",
    "\n",
    "for X, Y in seq_data_iter_sequential(my_seq, batch_size=2, num_steps=5):\n",
    "    print('X: ', X, '\\nY:', Y)\n",
    "\n",
    "# apparently not as the list in  individual batches are adjacent based on index, \n",
    "# not to each other in the same mini batch"
   ]
  },
  {
   "cell_type": "code",
   "execution_count": 198,
   "id": "weekly-terry",
   "metadata": {},
   "outputs": [],
   "source": [
    "def seq_data_iter_sequential(corpus, batch_size, num_steps):\n",
    "    offset = random.randint(0, num_steps)\n",
    "    print(f'offset: {offset}')\n",
    "    num_tokens = ((len(corpus) - offset -1)//batch_size)*batch_size\n",
    "    print(f'num_tokens : {num_tokens}')\n",
    "    Xs = torch.tensor(corpus[offset:offset + num_tokens])\n",
    "    print(f'Xs : {Xs}')\n",
    "    Ys = torch.tensor(corpus[offset+1:offset+1+num_tokens])\n",
    "    print(f'Ys : {Ys}')\n",
    "    Xs, Ys = Xs.reshape(batch_size, -1), Ys.reshape(batch_size, -1)\n",
    "    num_batches = Xs.shape[1]//batch_size\n",
    "    print(f'num_batches : {num_batches}')\n",
    "    \n",
    "    for i in range(0, num_steps * num_batches, num_steps):\n",
    "        X = Xs[:,i:i+ num_steps]\n",
    "        Y = Ys[:,i:i+ num_steps]\n",
    "        yield X, Y"
   ]
  },
  {
   "cell_type": "code",
   "execution_count": 199,
   "id": "missing-cameroon",
   "metadata": {},
   "outputs": [
    {
     "name": "stdout",
     "output_type": "stream",
     "text": [
      "offset: 1\n",
      "num_tokens : 32\n",
      "Xs : tensor([ 1,  2,  3,  4,  5,  6,  7,  8,  9, 10, 11, 12, 13, 14, 15, 16, 17, 18,\n",
      "        19, 20, 21, 22, 23, 24, 25, 26, 27, 28, 29, 30, 31, 32])\n",
      "Ys : tensor([ 2,  3,  4,  5,  6,  7,  8,  9, 10, 11, 12, 13, 14, 15, 16, 17, 18, 19,\n",
      "        20, 21, 22, 23, 24, 25, 26, 27, 28, 29, 30, 31, 32, 33])\n",
      "num_batches : 8\n",
      "X:  tensor([[ 1,  2,  3,  4,  5],\n",
      "        [17, 18, 19, 20, 21]]) \n",
      "Y: tensor([[ 2,  3,  4,  5,  6],\n",
      "        [18, 19, 20, 21, 22]])\n"
     ]
    }
   ],
   "source": [
    "for X, Y in seq_data_iter_sequential(my_seq, batch_size=2, num_steps=5):\n",
    "    print('X: ', X, '\\nY:', Y)\n",
    "    break"
   ]
  },
  {
   "cell_type": "markdown",
   "id": "intermediate-wireless",
   "metadata": {},
   "source": [
    "in sequential when batch size is two we split in the middle to make the two division"
   ]
  },
  {
   "cell_type": "code",
   "execution_count": 200,
   "id": "legendary-basketball",
   "metadata": {},
   "outputs": [],
   "source": [
    "from d2l import torch as d2l\n",
    "\n",
    "class SeqDataLoader:\n",
    "    def __init__(self, batch_size, num_steps, use_random_iter, max_tokens):\n",
    "        if use_random_iter:\n",
    "            self.data_iter_fn = d2l.seq_data_iter_random\n",
    "        else:\n",
    "            self.data_iter_fn = d2l.seq_data_iter_sequential\n",
    "        self.corpus, self.vocab = d2l.load_corpus_time_machine(max_tokens)\n",
    "        self.batch_size, self.num_steps = batch_size, num_steps\n",
    "    \n",
    "    def __iter__(self):\n",
    "        return self.data_iter_fn(self.corpus, self.batch_size, self.num_steps)\n",
    "        "
   ]
  },
  {
   "cell_type": "code",
   "execution_count": 201,
   "id": "proud-sitting",
   "metadata": {},
   "outputs": [],
   "source": [
    "def load_data_time_machine(batch_size,num_steps, use_random_iter=False, max_tokens=1000):\n",
    "    data_iter = SeqDataLoader(batch_size, num_steps, use_random_iter, max_tokens)\n",
    "    return data_iter, data_iter.vocab"
   ]
  },
  {
   "cell_type": "markdown",
   "id": "challenging-category",
   "metadata": {},
   "source": [
    "### Exercises\n",
    "\n",
    "1. Suppose there are 100, 000 words in the training dataset. How much word frequency and\n",
    "multi-word adjacent frequency does a four-gram need to store?\n",
    "    - what does multi word adjacent frequency mean? i reckon about 99,997 - 100000\n",
    "\n",
    "2. How would you model a dialogue?\n",
    "    - 1. by taking out the speakers name, through puttingin the stop word, rest shouldbe the same.\n",
    "    \n",
    "3. Estimate the exponent of Zipfʼs law for unigrams, bigrams, and trigrams.\n",
    "    - maybe helpful : https://journals.plos.org/plosone/article?id=10.1371/journal.pone.0053227\n",
    "    \n",
    "4. What other methods can you think of for reading long sequence data?\n",
    "    - dictionary based\n",
    "    \n",
    "5. Consider the random offset that we use for reading long sequences.\n",
    "\n",
    "    1. Why is it a good idea to have a random offset?\n",
    "    2. Does it really lead to a perfectly uniform distribution over the sequences on the document?\n",
    "    3. What would you have to do to make things even more uniform?\n",
    "    \n",
    "6. If we want a sequence example to be a complete sentence, what kind of problem does this\n",
    "introduce in minibatch sampling? How can we fix the problem?"
   ]
  },
  {
   "cell_type": "code",
   "execution_count": 202,
   "id": "southwest-closure",
   "metadata": {},
   "outputs": [],
   "source": [
    "data_iter, data_vocab = load_data_time_machine(2,4)"
   ]
  },
  {
   "cell_type": "code",
   "execution_count": 203,
   "id": "practical-organic",
   "metadata": {},
   "outputs": [],
   "source": [
    "data_iter,data_vocab = d2l.load_data_time_machine(2,4)"
   ]
  },
  {
   "cell_type": "code",
   "execution_count": 204,
   "id": "inappropriate-australian",
   "metadata": {},
   "outputs": [
    {
     "data": {
      "text/plain": [
       "28"
      ]
     },
     "execution_count": 204,
     "metadata": {},
     "output_type": "execute_result"
    }
   ],
   "source": [
    "len(data_vocab)"
   ]
  },
  {
   "cell_type": "code",
   "execution_count": 205,
   "id": "allied-surgery",
   "metadata": {},
   "outputs": [
    {
     "data": {
      "text/plain": [
       "0"
      ]
     },
     "execution_count": 205,
     "metadata": {},
     "output_type": "execute_result"
    }
   ],
   "source": [
    "data_vocab['the']"
   ]
  },
  {
   "cell_type": "code",
   "execution_count": 206,
   "id": "informational-mattress",
   "metadata": {},
   "outputs": [],
   "source": [
    "def one_hot(t, t_len):\n",
    "    new_tensor = torch.zeros(t.shape[0], t_len)\n",
    "    for i in range(T.shape[0]):\n",
    "        new_tensor[i][T[i]] = 1\n",
    "    return new_tensor"
   ]
  },
  {
   "cell_type": "code",
   "execution_count": 207,
   "id": "simple-guard",
   "metadata": {},
   "outputs": [
    {
     "name": "stdout",
     "output_type": "stream",
     "text": [
      "tensor([[1., 0., 0., 0., 0., 0., 0., 0., 0., 0., 0., 0., 0., 0.],\n",
      "        [0., 0., 1., 0., 0., 0., 0., 0., 0., 0., 0., 0., 0., 0.]])\n"
     ]
    }
   ],
   "source": [
    "# testing\n",
    "T = torch.tensor([0,2])\n",
    "#print(int(T[0]))\n",
    "\n",
    "#one_hot(T, 14)\n",
    "\n",
    "#print(T.shape)\n",
    "\n",
    "new_tensor = torch.zeros(T.shape[0],14)\n",
    "\n",
    "#print(new_tensor)\n",
    "\n",
    "\n",
    "for i in range(T.shape[0]):\n",
    "    new_tensor[i][T[i]] = 1\n",
    "\n",
    "print(new_tensor)\n"
   ]
  },
  {
   "cell_type": "code",
   "execution_count": 208,
   "id": "criminal-thanksgiving",
   "metadata": {},
   "outputs": [
    {
     "data": {
      "text/plain": [
       "tensor([[1, 0, 0, 0, 0, 0, 0, 0, 0, 0, 0, 0, 0, 0, 0, 0, 0, 0, 0, 0, 0, 0, 0, 0,\n",
       "         0, 0, 0, 0],\n",
       "        [0, 0, 1, 0, 0, 0, 0, 0, 0, 0, 0, 0, 0, 0, 0, 0, 0, 0, 0, 0, 0, 0, 0, 0,\n",
       "         0, 0, 0, 0]])"
      ]
     },
     "execution_count": 208,
     "metadata": {},
     "output_type": "execute_result"
    }
   ],
   "source": [
    "from torch.nn import functional as F\n",
    "\n",
    "F.one_hot(torch.tensor([0,2]), len(data_vocab))"
   ]
  },
  {
   "cell_type": "code",
   "execution_count": 209,
   "id": "removed-seafood",
   "metadata": {},
   "outputs": [],
   "source": [
    "def normal(shape, device=torch.device('cuda')):\n",
    "    return torch.randn(size=shape, device=device) * 0.01"
   ]
  },
  {
   "cell_type": "code",
   "execution_count": 210,
   "id": "virtual-forth",
   "metadata": {},
   "outputs": [],
   "source": [
    "def get_params(vocab_size, num_hiddens, device):\n",
    "    num_inputs = num_outputs = vocab_size\n",
    "    \n",
    "    W_xh = normal((num_inputs, num_hiddens))\n",
    "    W_hh = normal((num_hiddens, num_hiddens))\n",
    "    bh = torch.zeros(num_hiddens, device=device)\n",
    "    \n",
    "    W_hq = normal((num_hiddens, num_outputs))\n",
    "    bq  = torch.zeros(num_outputs, device=device)\n",
    "    \n",
    "    params = [W_xh, W_hh, bh, W_hq, bq]\n",
    "    for param in params:\n",
    "        param.requires_grad = True\n",
    "    \n",
    "    return params\n",
    "    \n",
    "    \n",
    "    "
   ]
  },
  {
   "cell_type": "code",
   "execution_count": 211,
   "id": "dying-innocent",
   "metadata": {},
   "outputs": [],
   "source": [
    "output_array = get_params(len(data_vocab), 4,torch.device('cpu'))"
   ]
  },
  {
   "cell_type": "code",
   "execution_count": 212,
   "id": "corrected-listing",
   "metadata": {},
   "outputs": [
    {
     "data": {
      "text/plain": [
       "28"
      ]
     },
     "execution_count": 212,
     "metadata": {},
     "output_type": "execute_result"
    }
   ],
   "source": [
    "len(data_vocab)"
   ]
  },
  {
   "cell_type": "code",
   "execution_count": 213,
   "id": "smart-underwear",
   "metadata": {},
   "outputs": [
    {
     "name": "stdout",
     "output_type": "stream",
     "text": [
      "torch.Size([28, 4])\n",
      "torch.Size([4, 4])\n",
      "torch.Size([4])\n",
      "torch.Size([4, 28])\n",
      "torch.Size([28])\n"
     ]
    }
   ],
   "source": [
    "for i in output_array:\n",
    "    print(i.shape)"
   ]
  },
  {
   "cell_type": "code",
   "execution_count": 214,
   "id": "spanish-petersburg",
   "metadata": {},
   "outputs": [],
   "source": [
    "def rnn(inputs, state,params, device):\n",
    "    W_xh, W_hh, bh, W_hq, bq = params\n",
    "    W_xh = W_xh.to(device)\n",
    "    W_hh = W_hh.to(device)\n",
    "    bh = bh.to(device)\n",
    "    W_hq = W_hq.to(device)\n",
    "    bq = bq.to(device)\n",
    "    H = state\n",
    "    H = H.to(device)\n",
    "    outputs = []\n",
    "    for X in inputs:\n",
    "        X = X.to(device)\n",
    "#         print(X.get_device(), W_xh.get_device(), H.get_device(), W_hh.get_device(),bh.get_device())\n",
    "        H = torch.tanh(torch.mm(X, W_xh) + torch.mm(H, W_hh) + bh)\n",
    "#         print(H)\n",
    "        Y = torch.mm(H, W_hq) + bq\n",
    "        outputs.append(Y)\n",
    "    return torch.cat(outputs, dim=0), (H)"
   ]
  },
  {
   "cell_type": "code",
   "execution_count": 215,
   "id": "fixed-chest",
   "metadata": {},
   "outputs": [],
   "source": [
    "def init_rnn_state(batch_size, num_hiddens, device):\n",
    "    return (torch.zeros((batch_size, num_hiddens),device=device))"
   ]
  },
  {
   "cell_type": "code",
   "execution_count": 216,
   "id": "illegal-flooring",
   "metadata": {},
   "outputs": [
    {
     "name": "stdout",
     "output_type": "stream",
     "text": [
      "torch.Size([1, 28])\n",
      "28\n"
     ]
    }
   ],
   "source": [
    "X = torch.arange(28).reshape((28, 1))\n",
    "print(X.T.shape)\n",
    "print(len(data_vocab))\n",
    "X = F.one_hot(X.T, len(data_vocab)).type(torch.float32)\n"
   ]
  },
  {
   "cell_type": "code",
   "execution_count": 217,
   "id": "supreme-disclaimer",
   "metadata": {
    "scrolled": false
   },
   "outputs": [],
   "source": [
    "state = init_rnn_state(28,4, torch.device('cpu'))\n",
    "output_rnn = rnn(X,state,output_array, torch.device('cpu'))\n",
    "#output_rnn"
   ]
  },
  {
   "cell_type": "code",
   "execution_count": 218,
   "id": "searching-bread",
   "metadata": {},
   "outputs": [],
   "source": [
    "class RNNfromscratch:\n",
    "    def __init__(self, vocab_size, num_hiddens, device, get_params, init_state, forward_fn):\n",
    "        self.vocab_size, self.num_hiddens = vocab_size, num_hiddens\n",
    "        self.params = get_params(vocab_size, num_hiddens, device)\n",
    "        self.init_state = init_state\n",
    "        self.forward_fn = forward_fn\n",
    "        self.device = device\n",
    "    \n",
    "    def __call__(self, X, state):\n",
    "        X = F.one_hot(X.T.to(torch.int64), self.vocab_size, ).type(torch.float32)\n",
    "        return self.forward_fn(X, state, self.params,self.device)\n",
    "    \n",
    "    def begin_state(self, batch_size, device):\n",
    "        return self.init_state(batch_size,self.num_hiddens, device=device)"
   ]
  },
  {
   "cell_type": "code",
   "execution_count": 219,
   "id": "eastern-occurrence",
   "metadata": {},
   "outputs": [],
   "source": [
    "num_hiddens = 512\n",
    "net = RNNfromscratch(len(data_vocab), num_hiddens, d2l.try_gpu(), get_params,init_rnn_state, rnn)\n",
    "state = net.begin_state(X.shape[0], d2l.try_gpu())"
   ]
  },
  {
   "cell_type": "code",
   "execution_count": 220,
   "id": "adverse-interval",
   "metadata": {},
   "outputs": [
    {
     "ename": "RuntimeError",
     "evalue": "tensors must be 2-D",
     "output_type": "error",
     "traceback": [
      "\u001b[1;31m---------------------------------------------------------------------------\u001b[0m",
      "\u001b[1;31mRuntimeError\u001b[0m                              Traceback (most recent call last)",
      "\u001b[1;32m<ipython-input-220-ab4501f3dc23>\u001b[0m in \u001b[0;36m<module>\u001b[1;34m\u001b[0m\n\u001b[1;32m----> 1\u001b[1;33m \u001b[0mY\u001b[0m\u001b[1;33m,\u001b[0m \u001b[0mnew_state\u001b[0m \u001b[1;33m=\u001b[0m \u001b[0mnet\u001b[0m\u001b[1;33m(\u001b[0m\u001b[0mX\u001b[0m\u001b[1;33m.\u001b[0m\u001b[0mto\u001b[0m\u001b[1;33m(\u001b[0m\u001b[0md2l\u001b[0m\u001b[1;33m.\u001b[0m\u001b[0mtry_gpu\u001b[0m\u001b[1;33m(\u001b[0m\u001b[1;33m)\u001b[0m\u001b[1;33m)\u001b[0m\u001b[1;33m,\u001b[0m \u001b[0mstate\u001b[0m\u001b[1;33m)\u001b[0m\u001b[1;33m\u001b[0m\u001b[1;33m\u001b[0m\u001b[0m\n\u001b[0m\u001b[0;32m      2\u001b[0m \u001b[0mY\u001b[0m\u001b[1;33m.\u001b[0m\u001b[0mshape\u001b[0m\u001b[1;33m,\u001b[0m \u001b[0mlen\u001b[0m\u001b[1;33m(\u001b[0m\u001b[0mnew_state\u001b[0m\u001b[1;33m)\u001b[0m\u001b[1;33m,\u001b[0m \u001b[0mnew_state\u001b[0m\u001b[1;33m[\u001b[0m\u001b[1;36m0\u001b[0m\u001b[1;33m]\u001b[0m\u001b[1;33m.\u001b[0m\u001b[0mshape\u001b[0m\u001b[1;33m\u001b[0m\u001b[1;33m\u001b[0m\u001b[0m\n",
      "\u001b[1;32m<ipython-input-218-bfc70036c29d>\u001b[0m in \u001b[0;36m__call__\u001b[1;34m(self, X, state)\u001b[0m\n\u001b[0;32m      9\u001b[0m     \u001b[1;32mdef\u001b[0m \u001b[0m__call__\u001b[0m\u001b[1;33m(\u001b[0m\u001b[0mself\u001b[0m\u001b[1;33m,\u001b[0m \u001b[0mX\u001b[0m\u001b[1;33m,\u001b[0m \u001b[0mstate\u001b[0m\u001b[1;33m)\u001b[0m\u001b[1;33m:\u001b[0m\u001b[1;33m\u001b[0m\u001b[1;33m\u001b[0m\u001b[0m\n\u001b[0;32m     10\u001b[0m         \u001b[0mX\u001b[0m \u001b[1;33m=\u001b[0m \u001b[0mF\u001b[0m\u001b[1;33m.\u001b[0m\u001b[0mone_hot\u001b[0m\u001b[1;33m(\u001b[0m\u001b[0mX\u001b[0m\u001b[1;33m.\u001b[0m\u001b[0mT\u001b[0m\u001b[1;33m.\u001b[0m\u001b[0mto\u001b[0m\u001b[1;33m(\u001b[0m\u001b[0mtorch\u001b[0m\u001b[1;33m.\u001b[0m\u001b[0mint64\u001b[0m\u001b[1;33m)\u001b[0m\u001b[1;33m,\u001b[0m \u001b[0mself\u001b[0m\u001b[1;33m.\u001b[0m\u001b[0mvocab_size\u001b[0m\u001b[1;33m,\u001b[0m \u001b[1;33m)\u001b[0m\u001b[1;33m.\u001b[0m\u001b[0mtype\u001b[0m\u001b[1;33m(\u001b[0m\u001b[0mtorch\u001b[0m\u001b[1;33m.\u001b[0m\u001b[0mfloat32\u001b[0m\u001b[1;33m)\u001b[0m\u001b[1;33m\u001b[0m\u001b[1;33m\u001b[0m\u001b[0m\n\u001b[1;32m---> 11\u001b[1;33m         \u001b[1;32mreturn\u001b[0m \u001b[0mself\u001b[0m\u001b[1;33m.\u001b[0m\u001b[0mforward_fn\u001b[0m\u001b[1;33m(\u001b[0m\u001b[0mX\u001b[0m\u001b[1;33m,\u001b[0m \u001b[0mstate\u001b[0m\u001b[1;33m,\u001b[0m \u001b[0mself\u001b[0m\u001b[1;33m.\u001b[0m\u001b[0mparams\u001b[0m\u001b[1;33m,\u001b[0m\u001b[0mself\u001b[0m\u001b[1;33m.\u001b[0m\u001b[0mdevice\u001b[0m\u001b[1;33m)\u001b[0m\u001b[1;33m\u001b[0m\u001b[1;33m\u001b[0m\u001b[0m\n\u001b[0m\u001b[0;32m     12\u001b[0m \u001b[1;33m\u001b[0m\u001b[0m\n\u001b[0;32m     13\u001b[0m     \u001b[1;32mdef\u001b[0m \u001b[0mbegin_state\u001b[0m\u001b[1;33m(\u001b[0m\u001b[0mself\u001b[0m\u001b[1;33m,\u001b[0m \u001b[0mbatch_size\u001b[0m\u001b[1;33m,\u001b[0m \u001b[0mdevice\u001b[0m\u001b[1;33m)\u001b[0m\u001b[1;33m:\u001b[0m\u001b[1;33m\u001b[0m\u001b[1;33m\u001b[0m\u001b[0m\n",
      "\u001b[1;32m<ipython-input-214-0f3be950fbc3>\u001b[0m in \u001b[0;36mrnn\u001b[1;34m(inputs, state, params, device)\u001b[0m\n\u001b[0;32m     12\u001b[0m         \u001b[0mX\u001b[0m \u001b[1;33m=\u001b[0m \u001b[0mX\u001b[0m\u001b[1;33m.\u001b[0m\u001b[0mto\u001b[0m\u001b[1;33m(\u001b[0m\u001b[0mdevice\u001b[0m\u001b[1;33m)\u001b[0m\u001b[1;33m\u001b[0m\u001b[1;33m\u001b[0m\u001b[0m\n\u001b[0;32m     13\u001b[0m \u001b[1;31m#         print(X.get_device(), W_xh.get_device(), H.get_device(), W_hh.get_device(),bh.get_device())\u001b[0m\u001b[1;33m\u001b[0m\u001b[1;33m\u001b[0m\u001b[1;33m\u001b[0m\u001b[0m\n\u001b[1;32m---> 14\u001b[1;33m         \u001b[0mH\u001b[0m \u001b[1;33m=\u001b[0m \u001b[0mtorch\u001b[0m\u001b[1;33m.\u001b[0m\u001b[0mtanh\u001b[0m\u001b[1;33m(\u001b[0m\u001b[0mtorch\u001b[0m\u001b[1;33m.\u001b[0m\u001b[0mmm\u001b[0m\u001b[1;33m(\u001b[0m\u001b[0mX\u001b[0m\u001b[1;33m,\u001b[0m \u001b[0mW_xh\u001b[0m\u001b[1;33m)\u001b[0m \u001b[1;33m+\u001b[0m \u001b[0mtorch\u001b[0m\u001b[1;33m.\u001b[0m\u001b[0mmm\u001b[0m\u001b[1;33m(\u001b[0m\u001b[0mH\u001b[0m\u001b[1;33m,\u001b[0m \u001b[0mW_hh\u001b[0m\u001b[1;33m)\u001b[0m \u001b[1;33m+\u001b[0m \u001b[0mbh\u001b[0m\u001b[1;33m)\u001b[0m\u001b[1;33m\u001b[0m\u001b[1;33m\u001b[0m\u001b[0m\n\u001b[0m\u001b[0;32m     15\u001b[0m \u001b[1;31m#         print(H)\u001b[0m\u001b[1;33m\u001b[0m\u001b[1;33m\u001b[0m\u001b[1;33m\u001b[0m\u001b[0m\n\u001b[0;32m     16\u001b[0m         \u001b[0mY\u001b[0m \u001b[1;33m=\u001b[0m \u001b[0mtorch\u001b[0m\u001b[1;33m.\u001b[0m\u001b[0mmm\u001b[0m\u001b[1;33m(\u001b[0m\u001b[0mH\u001b[0m\u001b[1;33m,\u001b[0m \u001b[0mW_hq\u001b[0m\u001b[1;33m)\u001b[0m \u001b[1;33m+\u001b[0m \u001b[0mbq\u001b[0m\u001b[1;33m\u001b[0m\u001b[1;33m\u001b[0m\u001b[0m\n",
      "\u001b[1;31mRuntimeError\u001b[0m: tensors must be 2-D"
     ]
    }
   ],
   "source": [
    "Y, new_state = net(X.to(d2l.try_gpu()), state)\n",
    "Y.shape, len(new_state), new_state[0].shape"
   ]
  }
 ],
 "metadata": {
  "kernelspec": {
   "display_name": "Python 3",
   "language": "python",
   "name": "python3"
  },
  "language_info": {
   "codemirror_mode": {
    "name": "ipython",
    "version": 3
   },
   "file_extension": ".py",
   "mimetype": "text/x-python",
   "name": "python",
   "nbconvert_exporter": "python",
   "pygments_lexer": "ipython3",
   "version": "3.9.5"
  }
 },
 "nbformat": 4,
 "nbformat_minor": 5
}
