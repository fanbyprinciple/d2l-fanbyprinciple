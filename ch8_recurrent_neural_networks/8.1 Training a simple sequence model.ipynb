{
 "cells": [
  {
   "cell_type": "code",
   "execution_count": 1,
   "id": "tamil-medicare",
   "metadata": {},
   "outputs": [],
   "source": [
    "import torch\n",
    "from torch import nn\n",
    "import matplotlib.pyplot as plt"
   ]
  },
  {
   "cell_type": "markdown",
   "id": "sealed-floor",
   "metadata": {},
   "source": [
    "# LATENT AUTOREGRESSIVE MODEL\n",
    "\n",
    "recurrent neural networks (RNNs)\n",
    "are designed to better handle sequential information. RNNs introduce state variables to store past\n",
    "information, together with the current inputs, to determine the current outputs."
   ]
  },
  {
   "cell_type": "markdown",
   "id": "planned-manchester",
   "metadata": {},
   "source": [
    "###  Trying for small subset"
   ]
  },
  {
   "cell_type": "code",
   "execution_count": 2,
   "id": "rapid-spring",
   "metadata": {},
   "outputs": [
    {
     "data": {
      "image/png": "[encoded data removed]",
      "text/plain": [
       "<Figure size 432x288 with 1 Axes>"
      ]
     },
     "metadata": {
      "needs_background": "light"
     },
     "output_type": "display_data"
    }
   ],
   "source": [
    "T =15\n",
    "time = torch.arange(1, T+1, dtype=torch.float32)\n",
    "x = torch.sin(0.01 * time) + torch.normal(0,0.2, (T,))\n",
    "\n",
    "plt.plot(time, x)\n",
    "plt.grid = True\n",
    "plt.show()"
   ]
  },
  {
   "cell_type": "code",
   "execution_count": 3,
   "id": "adverse-drama",
   "metadata": {},
   "outputs": [
    {
     "data": {
      "text/plain": [
       "tensor([ 1.,  2.,  3.,  4.,  5.,  6.,  7.,  8.,  9., 10., 11., 12., 13., 14.,\n",
       "        15.])"
      ]
     },
     "execution_count": 3,
     "metadata": {},
     "output_type": "execute_result"
    }
   ],
   "source": [
    "time"
   ]
  },
  {
   "cell_type": "code",
   "execution_count": 4,
   "id": "common-declaration",
   "metadata": {
    "scrolled": false
   },
   "outputs": [
    {
     "data": {
      "text/plain": [
       "torch.Size([15])"
      ]
     },
     "execution_count": 4,
     "metadata": {},
     "output_type": "execute_result"
    }
   ],
   "source": [
    "torch.normal(0, 0.2, (T,)).shape"
   ]
  },
  {
   "cell_type": "code",
   "execution_count": 5,
   "id": "inappropriate-advertiser",
   "metadata": {
    "scrolled": false
   },
   "outputs": [
    {
     "data": {
      "text/plain": [
       "torch.Size([15])"
      ]
     },
     "execution_count": 5,
     "metadata": {},
     "output_type": "execute_result"
    }
   ],
   "source": [
    "torch.sin(0.01 * time).shape"
   ]
  },
  {
   "cell_type": "code",
   "execution_count": 6,
   "id": "gorgeous-shareware",
   "metadata": {},
   "outputs": [
    {
     "data": {
      "text/plain": [
       "tensor([-0.2555, -0.1380,  0.0509,  0.2236,  0.0220, -0.0132,  0.0102,  0.2413,\n",
       "        -0.0705,  0.2933,  0.5649,  0.3006, -0.0659, -0.1975,  0.0475])"
      ]
     },
     "execution_count": 6,
     "metadata": {},
     "output_type": "execute_result"
    }
   ],
   "source": [
    "x"
   ]
  },
  {
   "cell_type": "markdown",
   "id": "confidential-airplane",
   "metadata": {},
   "source": [
    "Next, we need to turn such a sequence into features and labels that our model can train on. Based\n",
    "on the embedding dimension τ we map the data into pairs yt = xt and xt = [xt−τ , . . . , xt−1]. The\n",
    "astute reader might have noticed that this gives us τ fewer data examples, since we do not have\n",
    "sufficient history for the first τ of them. A simple fix, in particular if the sequence is long, is to\n",
    "discard those few terms. Alternatively we could pad the sequence with zeros. Here we only use\n",
    "the first 600 feature-label pairs for training."
   ]
  },
  {
   "cell_type": "code",
   "execution_count": 7,
   "id": "grave-louisiana",
   "metadata": {},
   "outputs": [],
   "source": [
    "tau = 4\n",
    "features = torch.zeros((T-tau, tau))"
   ]
  },
  {
   "cell_type": "code",
   "execution_count": 8,
   "id": "temporal-pharmacy",
   "metadata": {},
   "outputs": [
    {
     "data": {
      "text/plain": [
       "(torch.Size([11, 4]),\n",
       " tensor([[0., 0., 0., 0.],\n",
       "         [0., 0., 0., 0.],\n",
       "         [0., 0., 0., 0.],\n",
       "         [0., 0., 0., 0.],\n",
       "         [0., 0., 0., 0.],\n",
       "         [0., 0., 0., 0.],\n",
       "         [0., 0., 0., 0.],\n",
       "         [0., 0., 0., 0.],\n",
       "         [0., 0., 0., 0.],\n",
       "         [0., 0., 0., 0.],\n",
       "         [0., 0., 0., 0.]]))"
      ]
     },
     "execution_count": 8,
     "metadata": {},
     "output_type": "execute_result"
    }
   ],
   "source": [
    "features.shape, features"
   ]
  },
  {
   "cell_type": "code",
   "execution_count": 9,
   "id": "happy-provincial",
   "metadata": {},
   "outputs": [
    {
     "name": "stdout",
     "output_type": "stream",
     "text": [
      "iteration : 0  :\n",
      " tensor([[-0.2555,  0.0000,  0.0000,  0.0000],\n",
      "        [-0.1380,  0.0000,  0.0000,  0.0000],\n",
      "        [ 0.0509,  0.0000,  0.0000,  0.0000],\n",
      "        [ 0.2236,  0.0000,  0.0000,  0.0000],\n",
      "        [ 0.0220,  0.0000,  0.0000,  0.0000],\n",
      "        [-0.0132,  0.0000,  0.0000,  0.0000],\n",
      "        [ 0.0102,  0.0000,  0.0000,  0.0000],\n",
      "        [ 0.2413,  0.0000,  0.0000,  0.0000],\n",
      "        [-0.0705,  0.0000,  0.0000,  0.0000],\n",
      "        [ 0.2933,  0.0000,  0.0000,  0.0000],\n",
      "        [ 0.5649,  0.0000,  0.0000,  0.0000]])\n",
      "iteration : 1  :\n",
      " tensor([[-0.2555, -0.1380,  0.0000,  0.0000],\n",
      "        [-0.1380,  0.0509,  0.0000,  0.0000],\n",
      "        [ 0.0509,  0.2236,  0.0000,  0.0000],\n",
      "        [ 0.2236,  0.0220,  0.0000,  0.0000],\n",
      "        [ 0.0220, -0.0132,  0.0000,  0.0000],\n",
      "        [-0.0132,  0.0102,  0.0000,  0.0000],\n",
      "        [ 0.0102,  0.2413,  0.0000,  0.0000],\n",
      "        [ 0.2413, -0.0705,  0.0000,  0.0000],\n",
      "        [-0.0705,  0.2933,  0.0000,  0.0000],\n",
      "        [ 0.2933,  0.5649,  0.0000,  0.0000],\n",
      "        [ 0.5649,  0.3006,  0.0000,  0.0000]])\n",
      "iteration : 2  :\n",
      " tensor([[-0.2555, -0.1380,  0.0509,  0.0000],\n",
      "        [-0.1380,  0.0509,  0.2236,  0.0000],\n",
      "        [ 0.0509,  0.2236,  0.0220,  0.0000],\n",
      "        [ 0.2236,  0.0220, -0.0132,  0.0000],\n",
      "        [ 0.0220, -0.0132,  0.0102,  0.0000],\n",
      "        [-0.0132,  0.0102,  0.2413,  0.0000],\n",
      "        [ 0.0102,  0.2413, -0.0705,  0.0000],\n",
      "        [ 0.2413, -0.0705,  0.2933,  0.0000],\n",
      "        [-0.0705,  0.2933,  0.5649,  0.0000],\n",
      "        [ 0.2933,  0.5649,  0.3006,  0.0000],\n",
      "        [ 0.5649,  0.3006, -0.0659,  0.0000]])\n",
      "iteration : 3  :\n",
      " tensor([[-0.2555, -0.1380,  0.0509,  0.2236],\n",
      "        [-0.1380,  0.0509,  0.2236,  0.0220],\n",
      "        [ 0.0509,  0.2236,  0.0220, -0.0132],\n",
      "        [ 0.2236,  0.0220, -0.0132,  0.0102],\n",
      "        [ 0.0220, -0.0132,  0.0102,  0.2413],\n",
      "        [-0.0132,  0.0102,  0.2413, -0.0705],\n",
      "        [ 0.0102,  0.2413, -0.0705,  0.2933],\n",
      "        [ 0.2413, -0.0705,  0.2933,  0.5649],\n",
      "        [-0.0705,  0.2933,  0.5649,  0.3006],\n",
      "        [ 0.2933,  0.5649,  0.3006, -0.0659],\n",
      "        [ 0.5649,  0.3006, -0.0659, -0.1975]])\n"
     ]
    }
   ],
   "source": [
    "for i in range(tau):\n",
    "    features[:, i] = x[i:T- tau+ i]\n",
    "    print(\"iteration :\", i, \" :\\n\", features)\n",
    "    \n",
    "    # its a strange way to build up the features\n"
   ]
  },
  {
   "cell_type": "code",
   "execution_count": 10,
   "id": "incorporate-steps",
   "metadata": {},
   "outputs": [],
   "source": [
    "labels = x[tau:].reshape((-1,1))"
   ]
  },
  {
   "cell_type": "code",
   "execution_count": 11,
   "id": "binary-venice",
   "metadata": {},
   "outputs": [
    {
     "data": {
      "text/plain": [
       "tensor([[ 0.0220],\n",
       "        [-0.0132],\n",
       "        [ 0.0102],\n",
       "        [ 0.2413],\n",
       "        [-0.0705],\n",
       "        [ 0.2933],\n",
       "        [ 0.5649],\n",
       "        [ 0.3006],\n",
       "        [-0.0659],\n",
       "        [-0.1975],\n",
       "        [ 0.0475]])"
      ]
     },
     "execution_count": 11,
     "metadata": {},
     "output_type": "execute_result"
    }
   ],
   "source": [
    "labels"
   ]
  },
  {
   "cell_type": "code",
   "execution_count": 12,
   "id": "combined-deployment",
   "metadata": {},
   "outputs": [
    {
     "data": {
      "text/plain": [
       "torch.Size([11, 4])"
      ]
     },
     "execution_count": 12,
     "metadata": {},
     "output_type": "execute_result"
    }
   ],
   "source": [
    "torch.zeros((T-tau, tau)).shape"
   ]
  },
  {
   "cell_type": "code",
   "execution_count": 13,
   "id": "metallic-vietnam",
   "metadata": {},
   "outputs": [
    {
     "data": {
      "text/plain": [
       "torch.Size([11])"
      ]
     },
     "execution_count": 13,
     "metadata": {},
     "output_type": "execute_result"
    }
   ],
   "source": [
    "x[1:T-4+1].shape"
   ]
  },
  {
   "cell_type": "markdown",
   "id": "portable-mustang",
   "metadata": {},
   "source": [
    "### Okay,\n",
    "so what we are essentially doing is in a series we are trying to select a particular numbe rof values (tau) and then the next number is put as the label"
   ]
  },
  {
   "cell_type": "markdown",
   "id": "innocent-winter",
   "metadata": {},
   "source": [
    "### Training more data\n",
    "for real"
   ]
  },
  {
   "cell_type": "code",
   "execution_count": 14,
   "id": "global-bolivia",
   "metadata": {},
   "outputs": [
    {
     "data": {
      "image/png": "[encoded data removed]",
      "text/plain": [
       "<Figure size 432x288 with 1 Axes>"
      ]
     },
     "metadata": {
      "needs_background": "light"
     },
     "output_type": "display_data"
    }
   ],
   "source": [
    "# generating data\n",
    "T = 1000\n",
    "t = torch.arange(1, T+1, dtype=torch.float32)\n",
    "x = torch.sin(0.01 * t) + torch.normal(0,0.02, (T,))\n",
    "plt.plot(t,x)\n",
    "plt.show()"
   ]
  },
  {
   "cell_type": "code",
   "execution_count": 15,
   "id": "sunrise-officer",
   "metadata": {},
   "outputs": [],
   "source": [
    "#x.sum()\n",
    "#x"
   ]
  },
  {
   "cell_type": "code",
   "execution_count": 16,
   "id": "incorporated-motel",
   "metadata": {},
   "outputs": [],
   "source": [
    "# making features and labels\n",
    "tau=4\n",
    "features = torch.zeros(T-tau, tau)"
   ]
  },
  {
   "cell_type": "code",
   "execution_count": 17,
   "id": "exempt-barrel",
   "metadata": {},
   "outputs": [
    {
     "data": {
      "text/plain": [
       "torch.Size([996])"
      ]
     },
     "execution_count": 17,
     "metadata": {},
     "output_type": "execute_result"
    }
   ],
   "source": [
    "labels = torch.zeros(len(x)-tau)\n",
    "labels.shape\n",
    "    "
   ]
  },
  {
   "cell_type": "markdown",
   "id": "round-austria",
   "metadata": {},
   "source": [
    "### Lets try a different way of generating features and labels"
   ]
  },
  {
   "cell_type": "code",
   "execution_count": 18,
   "id": "confirmed-midnight",
   "metadata": {
    "scrolled": false
   },
   "outputs": [],
   "source": [
    "for i in range(len(x)-tau):\n",
    "    features[i,:] = x[i:i+tau]\n",
    "    labels[i] = x[i+tau]"
   ]
  },
  {
   "cell_type": "code",
   "execution_count": 19,
   "id": "disabled-cliff",
   "metadata": {},
   "outputs": [
    {
     "data": {
      "text/plain": [
       "(torch.Size([996, 4]), torch.Size([996]))"
      ]
     },
     "execution_count": 19,
     "metadata": {},
     "output_type": "execute_result"
    }
   ],
   "source": [
    "features.shape, labels.shape"
   ]
  },
  {
   "cell_type": "code",
   "execution_count": 20,
   "id": "tracked-letter",
   "metadata": {
    "scrolled": false
   },
   "outputs": [
    {
     "data": {
      "text/plain": [
       "(tensor([[0.0165, 0.0032, 0.0311, 0.0267],\n",
       "         [0.0032, 0.0311, 0.0267, 0.0484],\n",
       "         [0.0311, 0.0267, 0.0484, 0.0630],\n",
       "         [0.0267, 0.0484, 0.0630, 0.0759],\n",
       "         [0.0484, 0.0630, 0.0759, 0.0755]]),\n",
       " tensor([0.0484, 0.0630, 0.0759, 0.0755, 0.1094]))"
      ]
     },
     "execution_count": 20,
     "metadata": {},
     "output_type": "execute_result"
    }
   ],
   "source": [
    "features[0:5], labels[0:5]"
   ]
  },
  {
   "cell_type": "code",
   "execution_count": 21,
   "id": "detected-giant",
   "metadata": {},
   "outputs": [
    {
     "data": {
      "text/plain": [
       "tensor([[0.0484],\n",
       "        [0.0630],\n",
       "        [0.0759],\n",
       "        [0.0755],\n",
       "        [0.1094]])"
      ]
     },
     "execution_count": 21,
     "metadata": {},
     "output_type": "execute_result"
    }
   ],
   "source": [
    "labels = labels.reshape(-1,1)\n",
    "labels[:5,:]"
   ]
  },
  {
   "cell_type": "code",
   "execution_count": 22,
   "id": "veterinary-surge",
   "metadata": {},
   "outputs": [],
   "source": [
    "batch_size = 16\n",
    "n_train = 600\n",
    "\n",
    "train_dataset = torch.utils.data.TensorDataset(*(features[:n_train], labels[:n_train]))\n",
    "train_iter = torch.utils.data.DataLoader(train_dataset, shuffle=True, batch_size=batch_size)\n",
    "\n",
    "test_dataset = torch.utils.data.TensorDataset(*(features[n_train:], labels[n_train:]))\n",
    "test_iter = torch.utils.data.DataLoader(test_dataset, shuffle=True, batch_size=batch_size)"
   ]
  },
  {
   "cell_type": "code",
   "execution_count": 23,
   "id": "collected-macintosh",
   "metadata": {},
   "outputs": [],
   "source": [
    "def init_weights(m):\n",
    "    if type(m) == nn.Linear:\n",
    "        nn.init.xavier_uniform_(m.weight)"
   ]
  },
  {
   "cell_type": "code",
   "execution_count": 24,
   "id": "arbitrary-integration",
   "metadata": {},
   "outputs": [],
   "source": [
    "def get_net():\n",
    "    net = nn.Sequential(nn.Linear(4,10), nn.ReLU(), nn.Linear(10,1))\n",
    "    net.apply(init_weights)\n",
    "    return net"
   ]
  },
  {
   "cell_type": "code",
   "execution_count": 25,
   "id": "sitting-reasoning",
   "metadata": {},
   "outputs": [],
   "source": [
    "loss = nn.MSELoss()"
   ]
  },
  {
   "cell_type": "code",
   "execution_count": 26,
   "id": "exceptional-stocks",
   "metadata": {},
   "outputs": [],
   "source": [
    "def evaluate_loss(net, test_iter, loss):\n",
    "    net.eval()\n",
    "#     net = net.to(torch.device(\"cpu\"))\n",
    "    with torch.no_grad():\n",
    "        l = 0\n",
    "        numer = 0\n",
    "        for X, y in test_iter:\n",
    "            l += loss(net(X),y)\n",
    "            numer += y.shape[0]\n",
    "        return l/numer"
   ]
  },
  {
   "cell_type": "code",
   "execution_count": 27,
   "id": "outside-error",
   "metadata": {},
   "outputs": [],
   "source": [
    "def train(net, train_iter,test_iter, loss, epochs, lr):\n",
    "    optimizer = torch.optim.Adam(net.parameters(), lr=lr)\n",
    "    device = torch.device('cuda' if torch.cuda.is_available() else 'cpu')\n",
    "#     net = net.to(device)\n",
    "    net.train()\n",
    "    for epoch in range(epochs):\n",
    "        for X, y in train_iter:\n",
    "    #         X = X.to(device)\n",
    "    #         y = y.to(device)\n",
    "            y_hat = net(X)\n",
    "            #print(y_hat.shape)\n",
    "            optimizer.zero_grad()\n",
    "            l = loss(y_hat, y)\n",
    "            l.backward()\n",
    "            optimizer.step()\n",
    "        print(f\"for epoch {epoch} : test loss: {evaluate_loss(net,train_iter,loss)} \" )\n",
    "        "
   ]
  },
  {
   "cell_type": "code",
   "execution_count": 28,
   "id": "signal-voluntary",
   "metadata": {},
   "outputs": [
    {
     "name": "stdout",
     "output_type": "stream",
     "text": [
      "for epoch 0 : test loss: 0.000565968977753073 \n",
      "for epoch 1 : test loss: 6.450345244957134e-05 \n",
      "for epoch 2 : test loss: 5.5595370213268325e-05 \n",
      "for epoch 3 : test loss: 6.471961387433112e-05 \n",
      "for epoch 4 : test loss: 5.6690169003559276e-05 \n",
      "for epoch 5 : test loss: 5.710513505619019e-05 \n",
      "for epoch 6 : test loss: 5.4569482017541304e-05 \n",
      "for epoch 7 : test loss: 5.184063411434181e-05 \n",
      "for epoch 8 : test loss: 6.495949492091313e-05 \n",
      "for epoch 9 : test loss: 5.015798160457052e-05 \n"
     ]
    }
   ],
   "source": [
    "net = get_net()\n",
    "train(net, train_iter,test_iter, loss, 10, 0.01)"
   ]
  },
  {
   "cell_type": "code",
   "execution_count": 29,
   "id": "approved-trade",
   "metadata": {
    "scrolled": false
   },
   "outputs": [
    {
     "data": {
      "text/plain": [
       "25"
      ]
     },
     "execution_count": 29,
     "metadata": {},
     "output_type": "execute_result"
    }
   ],
   "source": [
    "# lets try predicting\n",
    "\n",
    "pred_x = []\n",
    "for X, y in test_iter:\n",
    "    pred_x.append(net(X))\n",
    "\n",
    "len(pred_x)"
   ]
  },
  {
   "cell_type": "code",
   "execution_count": 30,
   "id": "fitted-device",
   "metadata": {},
   "outputs": [],
   "source": [
    "pred_x = net(features)"
   ]
  },
  {
   "cell_type": "code",
   "execution_count": 31,
   "id": "unnecessary-table",
   "metadata": {
    "scrolled": false
   },
   "outputs": [
    {
     "data": {
      "image/png": "[encoded data removed]",
      "text/plain": [
       "<Figure size 432x288 with 1 Axes>"
      ]
     },
     "metadata": {
      "needs_background": "light"
     },
     "output_type": "display_data"
    }
   ],
   "source": [
    "plt.plot(t[:200], x[:200])\n",
    "plt.plot(t[tau:200+tau], pred_x[:200].detach().numpy())\n",
    "plt.show()"
   ]
  },
  {
   "cell_type": "markdown",
   "id": "human-designation",
   "metadata": {},
   "source": [
    "### multistep prediction\n",
    "Generally, for an observed sequence up to xt\n",
    ", its predicted output xˆt+k at time step t + k is called\n",
    "the k-step-ahead prediction. Since we have observed up to x604, its k-step-ahead prediction is xˆ604+k."
   ]
  },
  {
   "cell_type": "code",
   "execution_count": 32,
   "id": "tribal-automation",
   "metadata": {},
   "outputs": [],
   "source": [
    "multistep_preds = torch.zeros(T)\n",
    "multistep_preds[:n_train+tau] = x[:n_train+tau]"
   ]
  },
  {
   "cell_type": "code",
   "execution_count": 33,
   "id": "impossible-puppy",
   "metadata": {
    "scrolled": false
   },
   "outputs": [
    {
     "data": {
      "text/plain": [
       "torch.Size([396])"
      ]
     },
     "execution_count": 33,
     "metadata": {},
     "output_type": "execute_result"
    }
   ],
   "source": [
    "multistep_preds[n_train+tau:].shape # this will be all zeros"
   ]
  },
  {
   "cell_type": "code",
   "execution_count": 34,
   "id": "medical-mayor",
   "metadata": {},
   "outputs": [
    {
     "data": {
      "text/plain": [
       "torch.Size([4, 1])"
      ]
     },
     "execution_count": 34,
     "metadata": {},
     "output_type": "execute_result"
    }
   ],
   "source": [
    "multistep_preds[0:4].reshape((-1,1)).shape"
   ]
  },
  {
   "cell_type": "code",
   "execution_count": 35,
   "id": "partial-special",
   "metadata": {},
   "outputs": [],
   "source": [
    "for i in range(n_train+tau, T):\n",
    "    multistep_preds[i] = net(multistep_preds[i-tau:i].reshape((-1,1)).squeeze(1))"
   ]
  },
  {
   "cell_type": "markdown",
   "id": "competitive-experiment",
   "metadata": {},
   "source": [
    "The one-step-ahead predictions look nice, just as we expected. Even beyond 604 (n_train + tau)\n",
    "observations the predictions still look trustworthy. However, there is just one little problem to\n",
    "this: if we observe sequence data only until time step 604, we cannot hope to receive the inputs\n",
    "for all the future one-step-ahead predictions. Instead, we need to work our way forward one step\n",
    "at a time:\n",
    "\n",
    "    xˆ605 = f(x601, x602, x603, x604),\n",
    "    xˆ606 = f(x602, x603, x604, xˆ605),\n",
    "    xˆ607 = f(x603, x604, xˆ605, xˆ606),\n",
    "    xˆ608 = f(x604, xˆ605, xˆ606, xˆ607),\n",
    "    xˆ609 = f(ˆx605, xˆ606, xˆ607, xˆ608),\n",
    ". . .\n",
    "(8.1.6)\n",
    "Generally, for an observed sequence up to xt\n",
    ", its predicted output xˆt+k at time step t + k is called\n",
    "the k-step-ahead prediction. Since we have observed up to x604, its k-step-ahead prediction is xˆ604+k."
   ]
  },
  {
   "cell_type": "code",
   "execution_count": 36,
   "id": "arranged-occupation",
   "metadata": {},
   "outputs": [
    {
     "data": {
      "text/plain": [
       "[<matplotlib.lines.Line2D at 0x1c26b952550>]"
      ]
     },
     "execution_count": 36,
     "metadata": {},
     "output_type": "execute_result"
    },
    {
     "data": {
      "image/png": "[encoded data removed]",
      "text/plain": [
       "<Figure size 432x288 with 1 Axes>"
      ]
     },
     "metadata": {
      "needs_background": "light"
     },
     "output_type": "display_data"
    }
   ],
   "source": [
    "plt.plot(t, x)\n",
    "plt.plot(t[tau:], pred_x.detach().numpy())\n",
    "plt.plot(t[n_train+tau:], multistep_preds[n_train+tau:].detach().numpy())"
   ]
  },
  {
   "cell_type": "markdown",
   "id": "mechanical-designer",
   "metadata": {},
   "source": [
    "As the above example shows, this is a spectacular failure. The predictions decay to a constant\n",
    "pretty quickly after a few prediction steps. Why did the algorithm work so poorly? This is ulti\u0002mately due to the fact that the errors build up. Let us say that after step 1 we have some error\n",
    "ϵ1 = ¯ϵ. Now the input for step 2 is perturbed by ϵ1, hence we suffer some error in the order of\n",
    "ϵ2 = ¯ϵ + cϵ1 for some constant c, and so on. The error can diverge rather rapidly from the true\n",
    "observations. This is a common phenomenon. For instance, weather forecasts for the next 24\n",
    "hours tend to be pretty accurate but beyond that the accuracy declines rapidly. We will discuss\n",
    "methods for improving this throughout this chapter and beyond.\n",
    "Let us take a closer look at the difficulties in k-step-ahead predictions by computing predictions\n",
    "on the entire sequence for k = 1, 4, 16, 64."
   ]
  },
  {
   "cell_type": "code",
   "execution_count": 37,
   "id": "theoretical-calculator",
   "metadata": {},
   "outputs": [],
   "source": [
    "max_steps = 64"
   ]
  },
  {
   "cell_type": "markdown",
   "id": "short-faith",
   "metadata": {},
   "source": [
    "### This is very confusing but\n",
    "what we are doing here is essentially creating a feature array till T-tau-maxsteps+1 (933) where every column goes from tau to tau+ maxsteps(68)"
   ]
  },
  {
   "cell_type": "code",
   "execution_count": 40,
   "id": "specific-looking",
   "metadata": {},
   "outputs": [
    {
     "data": {
      "text/plain": [
       "tensor([], size=(996, 0))"
      ]
     },
     "execution_count": 40,
     "metadata": {},
     "output_type": "execute_result"
    }
   ],
   "source": [
    "features[:, 2-tau:2]"
   ]
  },
  {
   "cell_type": "code",
   "execution_count": 42,
   "id": "wicked-stability",
   "metadata": {},
   "outputs": [],
   "source": [
    "#net(features[:, 2-tau:2])"
   ]
  },
  {
   "cell_type": "code",
   "execution_count": 45,
   "id": "postal-bacon",
   "metadata": {
    "scrolled": false
   },
   "outputs": [
    {
     "data": {
      "text/plain": [
       "torch.Size([933])"
      ]
     },
     "execution_count": 45,
     "metadata": {},
     "output_type": "execute_result"
    }
   ],
   "source": [
    "x[1:1+T-tau-max_steps + 1].shape # x[1:1+1000-4-64+1]"
   ]
  },
  {
   "cell_type": "code",
   "execution_count": 49,
   "id": "renewable-complement",
   "metadata": {},
   "outputs": [],
   "source": [
    "features = torch.zeros((T-tau-max_steps+1, tau + max_steps))\n",
    "\n",
    "# Column `i` (`i` < `tau`) are observations from `x` for time steps from\n",
    "# `i + 1` to `i + T - tau - max_steps + 1`\n",
    "\n",
    "for i in range(tau):\n",
    "    features[:, i] = x[i:i + T - tau - max_steps + 1]\n",
    "\n",
    "#till column 4\n",
    "\n",
    "\n",
    "for i in range(tau,tau + max_steps):\n",
    "    features[:, i] = net(features[:,i-tau:i]).reshape(-1)\n",
    "\n",
    "# from column 4 to beyond"
   ]
  },
  {
   "cell_type": "code",
   "execution_count": 53,
   "id": "closing-artwork",
   "metadata": {},
   "outputs": [
    {
     "data": {
      "text/plain": [
       "(torch.Size([933, 68]), torch.Size([933, 4]), torch.Size([933, 1]))"
      ]
     },
     "execution_count": 53,
     "metadata": {},
     "output_type": "execute_result"
    }
   ],
   "source": [
    "features.shape, features[:, i-tau:i].shape, net(features[:,i-tau:i]).shape"
   ]
  },
  {
   "cell_type": "code",
   "execution_count": 55,
   "id": "organizational-lingerie",
   "metadata": {},
   "outputs": [
    {
     "data": {
      "text/plain": [
       "tensor([ 1.6518e-02,  3.1942e-03,  3.1150e-02,  2.6659e-02,  2.4863e-02,\n",
       "         2.3485e-02,  2.1475e-02,  1.9400e-02,  1.7024e-02,  1.4378e-02,\n",
       "         1.1413e-02,  8.0928e-03,  4.3759e-03,  2.1447e-04, -4.4447e-03,\n",
       "        -9.6610e-03, -1.5501e-02, -2.2040e-02, -2.9361e-02, -3.7557e-02,\n",
       "        -4.6734e-02, -5.7008e-02, -6.8510e-02, -8.1389e-02, -9.5808e-02,\n",
       "        -1.1195e-01, -1.3002e-01, -1.5026e-01, -1.7292e-01, -1.9828e-01,\n",
       "        -2.2668e-01, -2.4575e-01, -2.5673e-01, -2.6408e-01, -2.6959e-01,\n",
       "        -2.7350e-01, -2.7613e-01, -2.7791e-01, -2.7916e-01, -2.8002e-01,\n",
       "        -2.8062e-01, -2.8103e-01, -2.8132e-01, -2.8151e-01, -2.8165e-01,\n",
       "        -2.8174e-01, -2.8181e-01, -2.8185e-01, -2.8188e-01, -2.8191e-01,\n",
       "        -2.8192e-01, -2.8193e-01, -2.8194e-01, -2.8194e-01, -2.8195e-01,\n",
       "        -2.8195e-01, -2.8195e-01, -2.8195e-01, -2.8195e-01, -2.8195e-01,\n",
       "        -2.8195e-01, -2.8195e-01, -2.8195e-01, -2.8195e-01, -2.8195e-01,\n",
       "        -2.8195e-01, -2.8195e-01, -2.8195e-01], grad_fn=<SelectBackward>)"
      ]
     },
     "execution_count": 55,
     "metadata": {},
     "output_type": "execute_result"
    }
   ],
   "source": [
    "features[0]"
   ]
  },
  {
   "cell_type": "code",
   "execution_count": 56,
   "id": "respiratory-nepal",
   "metadata": {},
   "outputs": [
    {
     "data": {
      "text/plain": [
       "tensor([0.6445, 0.6831, 0.6412, 0.6456, 0.6393, 0.6472, 0.6414, 0.6443, 0.6414,\n",
       "        0.6429, 0.6411, 0.6417, 0.6405, 0.6406, 0.6398, 0.6397, 0.6390, 0.6387,\n",
       "        0.6382, 0.6378, 0.6373, 0.6369, 0.6364, 0.6360, 0.6355, 0.6350, 0.6345,\n",
       "        0.6340, 0.6336, 0.6331, 0.6326, 0.6321, 0.6316, 0.6311, 0.6306, 0.6300,\n",
       "        0.6295, 0.6290, 0.6285, 0.6279, 0.6274, 0.6269, 0.6263, 0.6258, 0.6252,\n",
       "        0.6247, 0.6241, 0.6235, 0.6229, 0.6224, 0.6218, 0.6212, 0.6206, 0.6200,\n",
       "        0.6194, 0.6188, 0.6182, 0.6175, 0.6169, 0.6163, 0.6156, 0.6150, 0.6143,\n",
       "        0.6137, 0.6130, 0.6124, 0.6117, 0.6110], grad_fn=<SelectBackward>)"
      ]
     },
     "execution_count": 56,
     "metadata": {},
     "output_type": "execute_result"
    }
   ],
   "source": [
    "features[69]"
   ]
  },
  {
   "cell_type": "code",
   "execution_count": 59,
   "id": "fatal-silence",
   "metadata": {},
   "outputs": [
    {
     "data": {
      "text/plain": [
       "torch.Size([68])"
      ]
     },
     "execution_count": 59,
     "metadata": {},
     "output_type": "execute_result"
    }
   ],
   "source": [
    "features[932].shape"
   ]
  },
  {
   "cell_type": "code",
   "execution_count": 64,
   "id": "palestinian-cornell",
   "metadata": {},
   "outputs": [
    {
     "data": {
      "image/png": "[encoded data removed]",
      "text/plain": [
       "<Figure size 432x288 with 1 Axes>"
      ]
     },
     "metadata": {
      "needs_background": "light"
     },
     "output_type": "display_data"
    }
   ],
   "source": [
    "steps = (1,4,16,64)\n",
    "\n",
    "for i in steps:\n",
    "    plt.plot(t[tau+i-1:T-max_steps+i],features[:, tau+i-1].detach().numpy(), label=f'{i} steps')\n",
    "plt.legend()\n",
    "plt.show()\n",
    "\n",
    "# step of4 is best"
   ]
  },
  {
   "cell_type": "markdown",
   "id": "experienced-insight",
   "metadata": {},
   "source": [
    "### Exercises\n",
    "\n",
    "1. Improve the model in the experiment of this section.\n",
    "        1. Incorporate more than the past 4 observations? How many do you really need?\n",
    "            - a shift can be observed with each increasing number.\n",
    "        2. How many past observations would you need if there was no noise? Hint: you can write\n",
    "        sin and cos as a differential equation.\n",
    "        3. Can you incorporate older observations while keeping the total number of features con\u0002stant? Does this improve accuracy? Why?\n",
    "        4. Change the neural network architecture and evaluate the performance.\n",
    "        \n",
    "2. An investor wants to find a good security to buy. He looks at past returns to decide which\n",
    "one is likely to do well. What could possibly go wrong with this strategy?\n",
    "    - Buying stocks are risky. Read all scheme related information carefully before investing. \n",
    "3. Does causality also apply to text? To which extent?\n",
    "    - To some extent where words like the who etc are common so probability of h following w is high.\n",
    "4. Give an example for when a latent autoregressive model might be needed to capture the\n",
    "dynamic of the data.\n",
    "    - anything that needs signal processing, like perhaps compression and expansion."
   ]
  },
  {
   "cell_type": "code",
   "execution_count": 67,
   "id": "suspended-yorkshire",
   "metadata": {},
   "outputs": [
    {
     "data": {
      "image/png": "[encoded data removed]",
      "text/plain": [
       "<Figure size 432x288 with 1 Axes>"
      ]
     },
     "metadata": {
      "needs_background": "light"
     },
     "output_type": "display_data"
    }
   ],
   "source": [
    "#1\n",
    "steps=range(4,64)\n",
    "\n",
    "for i in steps:\n",
    "    plt.plot(t[tau+i-1:T-max_steps+i],features[:, tau+i-1].detach().numpy(), label=f'{i} steps')\n",
    "#plt.legend()\n",
    "plt.show()\n",
    "\n",
    "\n",
    "# so it shifts slightly for each step increase"
   ]
  },
  {
   "cell_type": "code",
   "execution_count": null,
   "id": "australian-petite",
   "metadata": {},
   "outputs": [],
   "source": []
  }
 ],
 "metadata": {
  "kernelspec": {
   "display_name": "Python 3",
   "language": "python",
   "name": "python3"
  },
  "language_info": {
   "codemirror_mode": {
    "name": "ipython",
    "version": 3
   },
   "file_extension": ".py",
   "mimetype": "text/x-python",
   "name": "python",
   "nbconvert_exporter": "python",
   "pygments_lexer": "ipython3",
   "version": "3.9.5"
  }
 },
 "nbformat": 4,
 "nbformat_minor": 5
}
