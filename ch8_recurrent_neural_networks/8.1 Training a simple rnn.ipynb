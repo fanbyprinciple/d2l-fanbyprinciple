{
 "cells": [
  {
   "cell_type": "code",
   "execution_count": 1,
   "id": "tamil-medicare",
   "metadata": {},
   "outputs": [],
   "source": [
    "import torch\n",
    "from torch import nn\n",
    "import matplotlib.pyplot as plt"
   ]
  },
  {
   "cell_type": "markdown",
   "id": "planned-manchester",
   "metadata": {},
   "source": [
    "###  Trying for small subset"
   ]
  },
  {
   "cell_type": "code",
   "execution_count": 2,
   "id": "rapid-spring",
   "metadata": {},
   "outputs": [
    {
     "data": {
      "image/png": "[encoded data removed]",
      "text/plain": [
       "<Figure size 432x288 with 1 Axes>"
      ]
     },
     "metadata": {
      "needs_background": "light"
     },
     "output_type": "display_data"
    }
   ],
   "source": [
    "T =15\n",
    "time = torch.arange(1, T+1, dtype=torch.float32)\n",
    "x = torch.sin(0.01 * time) + torch.normal(0,0.2, (T,))\n",
    "\n",
    "plt.plot(time, x)\n",
    "plt.grid = True\n",
    "plt.show()"
   ]
  },
  {
   "cell_type": "code",
   "execution_count": 3,
   "id": "adverse-drama",
   "metadata": {},
   "outputs": [
    {
     "data": {
      "text/plain": [
       "tensor([ 1.,  2.,  3.,  4.,  5.,  6.,  7.,  8.,  9., 10., 11., 12., 13., 14.,\n",
       "        15.])"
      ]
     },
     "execution_count": 3,
     "metadata": {},
     "output_type": "execute_result"
    }
   ],
   "source": [
    "time"
   ]
  },
  {
   "cell_type": "code",
   "execution_count": 4,
   "id": "common-declaration",
   "metadata": {
    "scrolled": false
   },
   "outputs": [
    {
     "data": {
      "text/plain": [
       "torch.Size([15])"
      ]
     },
     "execution_count": 4,
     "metadata": {},
     "output_type": "execute_result"
    }
   ],
   "source": [
    "torch.normal(0, 0.2, (T,)).shape"
   ]
  },
  {
   "cell_type": "code",
   "execution_count": 5,
   "id": "inappropriate-advertiser",
   "metadata": {
    "scrolled": false
   },
   "outputs": [
    {
     "data": {
      "text/plain": [
       "torch.Size([15])"
      ]
     },
     "execution_count": 5,
     "metadata": {},
     "output_type": "execute_result"
    }
   ],
   "source": [
    "torch.sin(0.01 * time).shape"
   ]
  },
  {
   "cell_type": "code",
   "execution_count": 6,
   "id": "gorgeous-shareware",
   "metadata": {},
   "outputs": [
    {
     "data": {
      "text/plain": [
       "tensor([ 0.3770, -0.0247, -0.3175,  0.1505,  0.0077, -0.1944, -0.0014, -0.0194,\n",
       "        -0.1601, -0.0923,  0.1397,  0.0679,  0.3353,  0.1786,  0.2999])"
      ]
     },
     "execution_count": 6,
     "metadata": {},
     "output_type": "execute_result"
    }
   ],
   "source": [
    "x"
   ]
  },
  {
   "cell_type": "code",
   "execution_count": 7,
   "id": "grave-louisiana",
   "metadata": {},
   "outputs": [],
   "source": [
    "tau = 4\n",
    "features = torch.zeros((T-tau, tau))"
   ]
  },
  {
   "cell_type": "code",
   "execution_count": 8,
   "id": "temporal-pharmacy",
   "metadata": {},
   "outputs": [
    {
     "data": {
      "text/plain": [
       "(torch.Size([11, 4]),\n",
       " tensor([[0., 0., 0., 0.],\n",
       "         [0., 0., 0., 0.],\n",
       "         [0., 0., 0., 0.],\n",
       "         [0., 0., 0., 0.],\n",
       "         [0., 0., 0., 0.],\n",
       "         [0., 0., 0., 0.],\n",
       "         [0., 0., 0., 0.],\n",
       "         [0., 0., 0., 0.],\n",
       "         [0., 0., 0., 0.],\n",
       "         [0., 0., 0., 0.],\n",
       "         [0., 0., 0., 0.]]))"
      ]
     },
     "execution_count": 8,
     "metadata": {},
     "output_type": "execute_result"
    }
   ],
   "source": [
    "features.shape, features"
   ]
  },
  {
   "cell_type": "code",
   "execution_count": 9,
   "id": "happy-provincial",
   "metadata": {},
   "outputs": [
    {
     "name": "stdout",
     "output_type": "stream",
     "text": [
      "iteration : 0  :\n",
      " tensor([[ 0.3770,  0.0000,  0.0000,  0.0000],\n",
      "        [-0.0247,  0.0000,  0.0000,  0.0000],\n",
      "        [-0.3175,  0.0000,  0.0000,  0.0000],\n",
      "        [ 0.1505,  0.0000,  0.0000,  0.0000],\n",
      "        [ 0.0077,  0.0000,  0.0000,  0.0000],\n",
      "        [-0.1944,  0.0000,  0.0000,  0.0000],\n",
      "        [-0.0014,  0.0000,  0.0000,  0.0000],\n",
      "        [-0.0194,  0.0000,  0.0000,  0.0000],\n",
      "        [-0.1601,  0.0000,  0.0000,  0.0000],\n",
      "        [-0.0923,  0.0000,  0.0000,  0.0000],\n",
      "        [ 0.1397,  0.0000,  0.0000,  0.0000]])\n",
      "iteration : 1  :\n",
      " tensor([[ 0.3770, -0.0247,  0.0000,  0.0000],\n",
      "        [-0.0247, -0.3175,  0.0000,  0.0000],\n",
      "        [-0.3175,  0.1505,  0.0000,  0.0000],\n",
      "        [ 0.1505,  0.0077,  0.0000,  0.0000],\n",
      "        [ 0.0077, -0.1944,  0.0000,  0.0000],\n",
      "        [-0.1944, -0.0014,  0.0000,  0.0000],\n",
      "        [-0.0014, -0.0194,  0.0000,  0.0000],\n",
      "        [-0.0194, -0.1601,  0.0000,  0.0000],\n",
      "        [-0.1601, -0.0923,  0.0000,  0.0000],\n",
      "        [-0.0923,  0.1397,  0.0000,  0.0000],\n",
      "        [ 0.1397,  0.0679,  0.0000,  0.0000]])\n",
      "iteration : 2  :\n",
      " tensor([[ 0.3770, -0.0247, -0.3175,  0.0000],\n",
      "        [-0.0247, -0.3175,  0.1505,  0.0000],\n",
      "        [-0.3175,  0.1505,  0.0077,  0.0000],\n",
      "        [ 0.1505,  0.0077, -0.1944,  0.0000],\n",
      "        [ 0.0077, -0.1944, -0.0014,  0.0000],\n",
      "        [-0.1944, -0.0014, -0.0194,  0.0000],\n",
      "        [-0.0014, -0.0194, -0.1601,  0.0000],\n",
      "        [-0.0194, -0.1601, -0.0923,  0.0000],\n",
      "        [-0.1601, -0.0923,  0.1397,  0.0000],\n",
      "        [-0.0923,  0.1397,  0.0679,  0.0000],\n",
      "        [ 0.1397,  0.0679,  0.3353,  0.0000]])\n",
      "iteration : 3  :\n",
      " tensor([[ 0.3770, -0.0247, -0.3175,  0.1505],\n",
      "        [-0.0247, -0.3175,  0.1505,  0.0077],\n",
      "        [-0.3175,  0.1505,  0.0077, -0.1944],\n",
      "        [ 0.1505,  0.0077, -0.1944, -0.0014],\n",
      "        [ 0.0077, -0.1944, -0.0014, -0.0194],\n",
      "        [-0.1944, -0.0014, -0.0194, -0.1601],\n",
      "        [-0.0014, -0.0194, -0.1601, -0.0923],\n",
      "        [-0.0194, -0.1601, -0.0923,  0.1397],\n",
      "        [-0.1601, -0.0923,  0.1397,  0.0679],\n",
      "        [-0.0923,  0.1397,  0.0679,  0.3353],\n",
      "        [ 0.1397,  0.0679,  0.3353,  0.1786]])\n"
     ]
    }
   ],
   "source": [
    "for i in range(tau):\n",
    "    features[:, i] = x[i:T- tau+ i]\n",
    "    print(\"iteration :\", i, \" :\\n\", features)\n",
    "    \n",
    "    # its a strange way to build up the features\n"
   ]
  },
  {
   "cell_type": "code",
   "execution_count": 10,
   "id": "incorporate-steps",
   "metadata": {},
   "outputs": [],
   "source": [
    "labels = x[tau:].reshape((-1,1))"
   ]
  },
  {
   "cell_type": "code",
   "execution_count": 11,
   "id": "binary-venice",
   "metadata": {},
   "outputs": [
    {
     "data": {
      "text/plain": [
       "tensor([[ 0.0077],\n",
       "        [-0.1944],\n",
       "        [-0.0014],\n",
       "        [-0.0194],\n",
       "        [-0.1601],\n",
       "        [-0.0923],\n",
       "        [ 0.1397],\n",
       "        [ 0.0679],\n",
       "        [ 0.3353],\n",
       "        [ 0.1786],\n",
       "        [ 0.2999]])"
      ]
     },
     "execution_count": 11,
     "metadata": {},
     "output_type": "execute_result"
    }
   ],
   "source": [
    "labels"
   ]
  },
  {
   "cell_type": "code",
   "execution_count": 12,
   "id": "combined-deployment",
   "metadata": {},
   "outputs": [
    {
     "data": {
      "text/plain": [
       "torch.Size([11, 4])"
      ]
     },
     "execution_count": 12,
     "metadata": {},
     "output_type": "execute_result"
    }
   ],
   "source": [
    "torch.zeros((T-tau, tau)).shape"
   ]
  },
  {
   "cell_type": "code",
   "execution_count": 13,
   "id": "metallic-vietnam",
   "metadata": {},
   "outputs": [
    {
     "data": {
      "text/plain": [
       "torch.Size([11])"
      ]
     },
     "execution_count": 13,
     "metadata": {},
     "output_type": "execute_result"
    }
   ],
   "source": [
    "x[1:T-4+1].shape"
   ]
  },
  {
   "cell_type": "markdown",
   "id": "portable-mustang",
   "metadata": {},
   "source": [
    "### Okay,\n",
    "so what we are essentially doing is in a series we are trying to select a particular numbe rof values (tau) and then the next number is put as the label"
   ]
  },
  {
   "cell_type": "markdown",
   "id": "innocent-winter",
   "metadata": {},
   "source": [
    "### Training more data\n",
    "for real"
   ]
  },
  {
   "cell_type": "code",
   "execution_count": 14,
   "id": "global-bolivia",
   "metadata": {},
   "outputs": [
    {
     "data": {
      "image/png": "[encoded data removed]",
      "text/plain": [
       "<Figure size 432x288 with 1 Axes>"
      ]
     },
     "metadata": {
      "needs_background": "light"
     },
     "output_type": "display_data"
    }
   ],
   "source": [
    "# generating data\n",
    "T = 1000\n",
    "t = torch.arange(1, T+1, dtype=torch.float32)\n",
    "x = torch.sin(0.01 * t) + torch.normal(0,0.02, (T,))\n",
    "plt.plot(t,x)\n",
    "plt.show()"
   ]
  },
  {
   "cell_type": "code",
   "execution_count": 15,
   "id": "sunrise-officer",
   "metadata": {},
   "outputs": [],
   "source": [
    "#x.sum()\n",
    "#x"
   ]
  },
  {
   "cell_type": "code",
   "execution_count": 16,
   "id": "incorporated-motel",
   "metadata": {},
   "outputs": [],
   "source": [
    "# making features and labels\n",
    "tau=4\n",
    "features = torch.zeros(T-tau, tau)"
   ]
  },
  {
   "cell_type": "code",
   "execution_count": 17,
   "id": "exempt-barrel",
   "metadata": {},
   "outputs": [
    {
     "data": {
      "text/plain": [
       "torch.Size([996])"
      ]
     },
     "execution_count": 17,
     "metadata": {},
     "output_type": "execute_result"
    }
   ],
   "source": [
    "labels = torch.zeros(len(x)-tau)\n",
    "labels.shape\n",
    "    "
   ]
  },
  {
   "cell_type": "markdown",
   "id": "round-austria",
   "metadata": {},
   "source": [
    "### Lets try a different way of generating features and labels"
   ]
  },
  {
   "cell_type": "code",
   "execution_count": 18,
   "id": "confirmed-midnight",
   "metadata": {
    "scrolled": false
   },
   "outputs": [],
   "source": [
    "for i in range(len(x)-tau):\n",
    "    features[i,:] = x[i:i+tau]\n",
    "    labels[i] = x[i+tau]"
   ]
  },
  {
   "cell_type": "code",
   "execution_count": 19,
   "id": "disabled-cliff",
   "metadata": {},
   "outputs": [
    {
     "data": {
      "text/plain": [
       "(torch.Size([996, 4]), torch.Size([996]))"
      ]
     },
     "execution_count": 19,
     "metadata": {},
     "output_type": "execute_result"
    }
   ],
   "source": [
    "features.shape, labels.shape"
   ]
  },
  {
   "cell_type": "code",
   "execution_count": 20,
   "id": "tracked-letter",
   "metadata": {
    "scrolled": false
   },
   "outputs": [
    {
     "data": {
      "text/plain": [
       "(tensor([[ 0.0106,  0.0265, -0.0066,  0.0233],\n",
       "         [ 0.0265, -0.0066,  0.0233,  0.0824],\n",
       "         [-0.0066,  0.0233,  0.0824,  0.0657],\n",
       "         [ 0.0233,  0.0824,  0.0657,  0.0450],\n",
       "         [ 0.0824,  0.0657,  0.0450,  0.0874]]),\n",
       " tensor([0.0824, 0.0657, 0.0450, 0.0874, 0.0963]))"
      ]
     },
     "execution_count": 20,
     "metadata": {},
     "output_type": "execute_result"
    }
   ],
   "source": [
    "features[0:5], labels[0:5]"
   ]
  },
  {
   "cell_type": "code",
   "execution_count": 21,
   "id": "detected-giant",
   "metadata": {},
   "outputs": [
    {
     "data": {
      "text/plain": [
       "tensor([[0.0824],\n",
       "        [0.0657],\n",
       "        [0.0450],\n",
       "        [0.0874],\n",
       "        [0.0963]])"
      ]
     },
     "execution_count": 21,
     "metadata": {},
     "output_type": "execute_result"
    }
   ],
   "source": [
    "labels = labels.reshape(-1,1)\n",
    "labels[:5,:]"
   ]
  },
  {
   "cell_type": "code",
   "execution_count": 22,
   "id": "veterinary-surge",
   "metadata": {},
   "outputs": [],
   "source": [
    "batch_size = 16\n",
    "n_train = 600\n",
    "\n",
    "train_dataset = torch.utils.data.TensorDataset(*(features[:n_train], labels[:n_train]))\n",
    "train_iter = torch.utils.data.DataLoader(train_dataset, shuffle=True, batch_size=batch_size)\n",
    "\n",
    "test_dataset = torch.utils.data.TensorDataset(*(features[n_train:], labels[n_train:]))\n",
    "test_iter = torch.utils.data.DataLoader(test_dataset, shuffle=True, batch_size=batch_size)"
   ]
  },
  {
   "cell_type": "code",
   "execution_count": 23,
   "id": "collected-macintosh",
   "metadata": {},
   "outputs": [],
   "source": [
    "def init_weights(m):\n",
    "    if type(m) == nn.Linear:\n",
    "        nn.init.xavier_uniform_(m.weight)"
   ]
  },
  {
   "cell_type": "code",
   "execution_count": 24,
   "id": "arbitrary-integration",
   "metadata": {},
   "outputs": [],
   "source": [
    "def get_net():\n",
    "    net = nn.Sequential(nn.Linear(4,10), nn.ReLU(), nn.Linear(10,1))\n",
    "    net.apply(init_weights)\n",
    "    return net"
   ]
  },
  {
   "cell_type": "code",
   "execution_count": 25,
   "id": "sitting-reasoning",
   "metadata": {},
   "outputs": [],
   "source": [
    "loss = nn.MSELoss()"
   ]
  },
  {
   "cell_type": "code",
   "execution_count": 26,
   "id": "exceptional-stocks",
   "metadata": {},
   "outputs": [],
   "source": [
    "def evaluate_loss(net, test_iter, loss):\n",
    "    net.eval()\n",
    "#     net = net.to(torch.device(\"cpu\"))\n",
    "    with torch.no_grad():\n",
    "        l = 0\n",
    "        numer = 0\n",
    "        for X, y in test_iter:\n",
    "            l += loss(net(X),y)\n",
    "            numer += y.shape[0]\n",
    "        return l/numer"
   ]
  },
  {
   "cell_type": "code",
   "execution_count": 27,
   "id": "outside-error",
   "metadata": {},
   "outputs": [],
   "source": [
    "def train(net, train_iter,test_iter, loss, epochs, lr):\n",
    "    optimizer = torch.optim.Adam(net.parameters(), lr=lr)\n",
    "    device = torch.device('cuda' if torch.cuda.is_available() else 'cpu')\n",
    "#     net = net.to(device)\n",
    "    net.train()\n",
    "    for epoch in range(epochs):\n",
    "        for X, y in train_iter:\n",
    "    #         X = X.to(device)\n",
    "    #         y = y.to(device)\n",
    "            y_hat = net(X)\n",
    "            #print(y_hat.shape)\n",
    "            optimizer.zero_grad()\n",
    "            l = loss(y_hat, y)\n",
    "            l.backward()\n",
    "            optimizer.step()\n",
    "        print(f\"for epoch {epoch} : test loss: {evaluate_loss(net,train_iter,loss)} \" )\n",
    "        "
   ]
  },
  {
   "cell_type": "code",
   "execution_count": 28,
   "id": "signal-voluntary",
   "metadata": {},
   "outputs": [
    {
     "name": "stdout",
     "output_type": "stream",
     "text": [
      "for epoch 0 : test loss: 0.0011373287998139858 \n",
      "for epoch 1 : test loss: 0.0006775535293854773 \n",
      "for epoch 2 : test loss: 0.0003749264869838953 \n",
      "for epoch 3 : test loss: 0.000279771484201774 \n",
      "for epoch 4 : test loss: 0.00022748031187802553 \n",
      "for epoch 5 : test loss: 0.00019417486328165978 \n",
      "for epoch 6 : test loss: 0.00015813032223377377 \n",
      "for epoch 7 : test loss: 0.0001301721640629694 \n",
      "for epoch 8 : test loss: 0.00010627062147250399 \n",
      "for epoch 9 : test loss: 0.00010317951091565192 \n"
     ]
    }
   ],
   "source": [
    "net = get_net()\n",
    "train(net, train_iter,test_iter, loss, 10, 0.01)"
   ]
  },
  {
   "cell_type": "code",
   "execution_count": 29,
   "id": "approved-trade",
   "metadata": {
    "scrolled": false
   },
   "outputs": [
    {
     "data": {
      "text/plain": [
       "25"
      ]
     },
     "execution_count": 29,
     "metadata": {},
     "output_type": "execute_result"
    }
   ],
   "source": [
    "# lets try predicting\n",
    "\n",
    "pred_x = []\n",
    "for X, y in test_iter:\n",
    "    pred_x.append(net(X))\n",
    "\n",
    "len(pred_x)"
   ]
  },
  {
   "cell_type": "code",
   "execution_count": 30,
   "id": "fitted-device",
   "metadata": {},
   "outputs": [],
   "source": [
    "pred_x = net(features)"
   ]
  },
  {
   "cell_type": "code",
   "execution_count": 32,
   "id": "unnecessary-table",
   "metadata": {
    "scrolled": false
   },
   "outputs": [
    {
     "data": {
      "image/png": "[encoded data removed]",
      "text/plain": [
       "<Figure size 432x288 with 1 Axes>"
      ]
     },
     "metadata": {
      "needs_background": "light"
     },
     "output_type": "display_data"
    }
   ],
   "source": [
    "plt.plot(t[:200], x[:200])\n",
    "plt.plot(t[tau:200+tau], pred_x[:200].detach().numpy())\n",
    "plt.show()"
   ]
  },
  {
   "cell_type": "markdown",
   "id": "human-designation",
   "metadata": {},
   "source": [
    "### multistep prediction\n",
    "Generally, for an observed sequence up to xt\n",
    ", its predicted output xˆt+k at time step t + k is called\n",
    "the k-step-ahead prediction. Since we have observed up to x604, its k-step-ahead prediction is xˆ604+k."
   ]
  },
  {
   "cell_type": "code",
   "execution_count": 35,
   "id": "tribal-automation",
   "metadata": {},
   "outputs": [],
   "source": [
    "multistep_preds = torch.zeros(T)\n",
    "multistep_preds[:n_train+tau] = x[:n_train+tau]"
   ]
  },
  {
   "cell_type": "code",
   "execution_count": 39,
   "id": "impossible-puppy",
   "metadata": {
    "scrolled": false
   },
   "outputs": [
    {
     "data": {
      "text/plain": [
       "torch.Size([396])"
      ]
     },
     "execution_count": 39,
     "metadata": {},
     "output_type": "execute_result"
    }
   ],
   "source": [
    "multistep_preds[n_train+tau:].shape # this will be all zeros"
   ]
  },
  {
   "cell_type": "code",
   "execution_count": 41,
   "id": "medical-mayor",
   "metadata": {},
   "outputs": [
    {
     "data": {
      "text/plain": [
       "torch.Size([4, 1])"
      ]
     },
     "execution_count": 41,
     "metadata": {},
     "output_type": "execute_result"
    }
   ],
   "source": [
    "multistep_preds[0:4].reshape((-1,1)).shape"
   ]
  },
  {
   "cell_type": "code",
   "execution_count": 43,
   "id": "partial-special",
   "metadata": {},
   "outputs": [],
   "source": [
    "for i in range(n_train+tau, T):\n",
    "    multistep_preds[i] = net(multistep_preds[i-tau:i].reshape((-1,1)).squeeze(1))"
   ]
  },
  {
   "cell_type": "code",
   "execution_count": 45,
   "id": "arranged-occupation",
   "metadata": {},
   "outputs": [
    {
     "data": {
      "text/plain": [
       "[<matplotlib.lines.Line2D at 0x18db9634a60>]"
      ]
     },
     "execution_count": 45,
     "metadata": {},
     "output_type": "execute_result"
    },
    {
     "data": {
      "image/png": "[encoded data removed]",
      "text/plain": [
       "<Figure size 432x288 with 1 Axes>"
      ]
     },
     "metadata": {
      "needs_background": "light"
     },
     "output_type": "display_data"
    }
   ],
   "source": [
    "plt.plot(t, x)\n",
    "plt.plot(t[tau:], pred_x.detach().numpy())\n",
    "plt.plot(t[n_train+tau:], multistep_preds[n_train+tau:].detach().numpy())"
   ]
  }
 ],
 "metadata": {
  "kernelspec": {
   "display_name": "Python 3",
   "language": "python",
   "name": "python3"
  },
  "language_info": {
   "codemirror_mode": {
    "name": "ipython",
    "version": 3
   },
   "file_extension": ".py",
   "mimetype": "text/x-python",
   "name": "python",
   "nbconvert_exporter": "python",
   "pygments_lexer": "ipython3",
   "version": "3.9.5"
  }
 },
 "nbformat": 4,
 "nbformat_minor": 5
}
