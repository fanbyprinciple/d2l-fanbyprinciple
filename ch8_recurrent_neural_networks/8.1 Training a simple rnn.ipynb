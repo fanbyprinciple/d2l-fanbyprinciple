{
 "cells": [
  {
   "cell_type": "code",
   "execution_count": 128,
   "id": "tamil-medicare",
   "metadata": {},
   "outputs": [],
   "source": [
    "import torch\n",
    "from torch import nn\n",
    "import matplotlib.pyplot as plt"
   ]
  },
  {
   "cell_type": "markdown",
   "id": "planned-manchester",
   "metadata": {},
   "source": [
    "###  Trying for small subset"
   ]
  },
  {
   "cell_type": "code",
   "execution_count": 129,
   "id": "rapid-spring",
   "metadata": {},
   "outputs": [
    {
     "data": {
      "image/png": "[encoded data removed]",
      "text/plain": [
       "<Figure size 432x288 with 1 Axes>"
      ]
     },
     "metadata": {
      "needs_background": "light"
     },
     "output_type": "display_data"
    }
   ],
   "source": [
    "T =15\n",
    "time = torch.arange(1, T+1, dtype=torch.float32)\n",
    "x = torch.sin(0.01 * time) + torch.normal(0,0.2, (T,))\n",
    "\n",
    "plt.plot(time, x)\n",
    "plt.grid = True\n",
    "plt.show()"
   ]
  },
  {
   "cell_type": "code",
   "execution_count": 130,
   "id": "adverse-drama",
   "metadata": {},
   "outputs": [
    {
     "data": {
      "text/plain": [
       "tensor([ 1.,  2.,  3.,  4.,  5.,  6.,  7.,  8.,  9., 10., 11., 12., 13., 14.,\n",
       "        15.])"
      ]
     },
     "execution_count": 130,
     "metadata": {},
     "output_type": "execute_result"
    }
   ],
   "source": [
    "time"
   ]
  },
  {
   "cell_type": "code",
   "execution_count": 131,
   "id": "common-declaration",
   "metadata": {
    "scrolled": false
   },
   "outputs": [
    {
     "data": {
      "text/plain": [
       "torch.Size([15])"
      ]
     },
     "execution_count": 131,
     "metadata": {},
     "output_type": "execute_result"
    }
   ],
   "source": [
    "torch.normal(0, 0.2, (T,)).shape"
   ]
  },
  {
   "cell_type": "code",
   "execution_count": 132,
   "id": "inappropriate-advertiser",
   "metadata": {
    "scrolled": false
   },
   "outputs": [
    {
     "data": {
      "text/plain": [
       "torch.Size([15])"
      ]
     },
     "execution_count": 132,
     "metadata": {},
     "output_type": "execute_result"
    }
   ],
   "source": [
    "torch.sin(0.01 * time).shape"
   ]
  },
  {
   "cell_type": "code",
   "execution_count": 133,
   "id": "gorgeous-shareware",
   "metadata": {},
   "outputs": [
    {
     "data": {
      "text/plain": [
       "tensor([ 0.0869, -0.1152, -0.3455, -0.0877,  0.0058,  0.0512,  0.0854,  0.1680,\n",
       "         0.1634,  0.2132, -0.3082,  0.0978,  0.4515,  0.3676,  0.1758])"
      ]
     },
     "execution_count": 133,
     "metadata": {},
     "output_type": "execute_result"
    }
   ],
   "source": [
    "x"
   ]
  },
  {
   "cell_type": "code",
   "execution_count": 134,
   "id": "grave-louisiana",
   "metadata": {},
   "outputs": [],
   "source": [
    "tau = 4\n",
    "features = torch.zeros((T-tau, tau))"
   ]
  },
  {
   "cell_type": "code",
   "execution_count": 135,
   "id": "temporal-pharmacy",
   "metadata": {},
   "outputs": [
    {
     "data": {
      "text/plain": [
       "(torch.Size([11, 4]),\n",
       " tensor([[0., 0., 0., 0.],\n",
       "         [0., 0., 0., 0.],\n",
       "         [0., 0., 0., 0.],\n",
       "         [0., 0., 0., 0.],\n",
       "         [0., 0., 0., 0.],\n",
       "         [0., 0., 0., 0.],\n",
       "         [0., 0., 0., 0.],\n",
       "         [0., 0., 0., 0.],\n",
       "         [0., 0., 0., 0.],\n",
       "         [0., 0., 0., 0.],\n",
       "         [0., 0., 0., 0.]]))"
      ]
     },
     "execution_count": 135,
     "metadata": {},
     "output_type": "execute_result"
    }
   ],
   "source": [
    "features.shape, features"
   ]
  },
  {
   "cell_type": "code",
   "execution_count": 136,
   "id": "happy-provincial",
   "metadata": {},
   "outputs": [
    {
     "name": "stdout",
     "output_type": "stream",
     "text": [
      "iteration : 0  :\n",
      " tensor([[ 0.0869,  0.0000,  0.0000,  0.0000],\n",
      "        [-0.1152,  0.0000,  0.0000,  0.0000],\n",
      "        [-0.3455,  0.0000,  0.0000,  0.0000],\n",
      "        [-0.0877,  0.0000,  0.0000,  0.0000],\n",
      "        [ 0.0058,  0.0000,  0.0000,  0.0000],\n",
      "        [ 0.0512,  0.0000,  0.0000,  0.0000],\n",
      "        [ 0.0854,  0.0000,  0.0000,  0.0000],\n",
      "        [ 0.1680,  0.0000,  0.0000,  0.0000],\n",
      "        [ 0.1634,  0.0000,  0.0000,  0.0000],\n",
      "        [ 0.2132,  0.0000,  0.0000,  0.0000],\n",
      "        [-0.3082,  0.0000,  0.0000,  0.0000]])\n",
      "iteration : 1  :\n",
      " tensor([[ 0.0869, -0.1152,  0.0000,  0.0000],\n",
      "        [-0.1152, -0.3455,  0.0000,  0.0000],\n",
      "        [-0.3455, -0.0877,  0.0000,  0.0000],\n",
      "        [-0.0877,  0.0058,  0.0000,  0.0000],\n",
      "        [ 0.0058,  0.0512,  0.0000,  0.0000],\n",
      "        [ 0.0512,  0.0854,  0.0000,  0.0000],\n",
      "        [ 0.0854,  0.1680,  0.0000,  0.0000],\n",
      "        [ 0.1680,  0.1634,  0.0000,  0.0000],\n",
      "        [ 0.1634,  0.2132,  0.0000,  0.0000],\n",
      "        [ 0.2132, -0.3082,  0.0000,  0.0000],\n",
      "        [-0.3082,  0.0978,  0.0000,  0.0000]])\n",
      "iteration : 2  :\n",
      " tensor([[ 0.0869, -0.1152, -0.3455,  0.0000],\n",
      "        [-0.1152, -0.3455, -0.0877,  0.0000],\n",
      "        [-0.3455, -0.0877,  0.0058,  0.0000],\n",
      "        [-0.0877,  0.0058,  0.0512,  0.0000],\n",
      "        [ 0.0058,  0.0512,  0.0854,  0.0000],\n",
      "        [ 0.0512,  0.0854,  0.1680,  0.0000],\n",
      "        [ 0.0854,  0.1680,  0.1634,  0.0000],\n",
      "        [ 0.1680,  0.1634,  0.2132,  0.0000],\n",
      "        [ 0.1634,  0.2132, -0.3082,  0.0000],\n",
      "        [ 0.2132, -0.3082,  0.0978,  0.0000],\n",
      "        [-0.3082,  0.0978,  0.4515,  0.0000]])\n",
      "iteration : 3  :\n",
      " tensor([[ 0.0869, -0.1152, -0.3455, -0.0877],\n",
      "        [-0.1152, -0.3455, -0.0877,  0.0058],\n",
      "        [-0.3455, -0.0877,  0.0058,  0.0512],\n",
      "        [-0.0877,  0.0058,  0.0512,  0.0854],\n",
      "        [ 0.0058,  0.0512,  0.0854,  0.1680],\n",
      "        [ 0.0512,  0.0854,  0.1680,  0.1634],\n",
      "        [ 0.0854,  0.1680,  0.1634,  0.2132],\n",
      "        [ 0.1680,  0.1634,  0.2132, -0.3082],\n",
      "        [ 0.1634,  0.2132, -0.3082,  0.0978],\n",
      "        [ 0.2132, -0.3082,  0.0978,  0.4515],\n",
      "        [-0.3082,  0.0978,  0.4515,  0.3676]])\n"
     ]
    }
   ],
   "source": [
    "for i in range(tau):\n",
    "    features[:, i] = x[i:T- tau+ i]\n",
    "    print(\"iteration :\", i, \" :\\n\", features)\n",
    "    \n",
    "    # its a strange way to build up the features\n"
   ]
  },
  {
   "cell_type": "code",
   "execution_count": 137,
   "id": "incorporate-steps",
   "metadata": {},
   "outputs": [],
   "source": [
    "labels = x[tau:].reshape((-1,1))"
   ]
  },
  {
   "cell_type": "code",
   "execution_count": 138,
   "id": "binary-venice",
   "metadata": {},
   "outputs": [
    {
     "data": {
      "text/plain": [
       "tensor([[ 0.0058],\n",
       "        [ 0.0512],\n",
       "        [ 0.0854],\n",
       "        [ 0.1680],\n",
       "        [ 0.1634],\n",
       "        [ 0.2132],\n",
       "        [-0.3082],\n",
       "        [ 0.0978],\n",
       "        [ 0.4515],\n",
       "        [ 0.3676],\n",
       "        [ 0.1758]])"
      ]
     },
     "execution_count": 138,
     "metadata": {},
     "output_type": "execute_result"
    }
   ],
   "source": [
    "labels"
   ]
  },
  {
   "cell_type": "code",
   "execution_count": 139,
   "id": "combined-deployment",
   "metadata": {},
   "outputs": [
    {
     "data": {
      "text/plain": [
       "torch.Size([11, 4])"
      ]
     },
     "execution_count": 139,
     "metadata": {},
     "output_type": "execute_result"
    }
   ],
   "source": [
    "torch.zeros((T-tau, tau)).shape"
   ]
  },
  {
   "cell_type": "code",
   "execution_count": 140,
   "id": "metallic-vietnam",
   "metadata": {},
   "outputs": [
    {
     "data": {
      "text/plain": [
       "torch.Size([11])"
      ]
     },
     "execution_count": 140,
     "metadata": {},
     "output_type": "execute_result"
    }
   ],
   "source": [
    "x[1:T-4+1].shape"
   ]
  },
  {
   "cell_type": "markdown",
   "id": "portable-mustang",
   "metadata": {},
   "source": [
    "### Okay,\n",
    "so what we are essentially doing is in a series we are trying to select a particular numbe rof values (tau) and then the next number is put as the label"
   ]
  },
  {
   "cell_type": "markdown",
   "id": "innocent-winter",
   "metadata": {},
   "source": [
    "### Training more data\n",
    "for real"
   ]
  },
  {
   "cell_type": "code",
   "execution_count": 141,
   "id": "global-bolivia",
   "metadata": {},
   "outputs": [
    {
     "data": {
      "image/png": "[encoded data removed]",
      "text/plain": [
       "<Figure size 432x288 with 1 Axes>"
      ]
     },
     "metadata": {
      "needs_background": "light"
     },
     "output_type": "display_data"
    }
   ],
   "source": [
    "# generating data\n",
    "T = 1000\n",
    "t = torch.arange(1, T+1, dtype=torch.float32)\n",
    "x = torch.sin(0.01 * t) + torch.normal(0,0.02, (T,))\n",
    "plt.plot(t,x)\n",
    "plt.show()"
   ]
  },
  {
   "cell_type": "code",
   "execution_count": 142,
   "id": "sunrise-officer",
   "metadata": {},
   "outputs": [],
   "source": [
    "#x.sum()\n",
    "#x"
   ]
  },
  {
   "cell_type": "code",
   "execution_count": 143,
   "id": "incorporated-motel",
   "metadata": {},
   "outputs": [],
   "source": [
    "# making features and labels\n",
    "tau=4\n",
    "features = torch.zeros(T-tau, tau)"
   ]
  },
  {
   "cell_type": "code",
   "execution_count": 144,
   "id": "exempt-barrel",
   "metadata": {},
   "outputs": [
    {
     "data": {
      "text/plain": [
       "torch.Size([996])"
      ]
     },
     "execution_count": 144,
     "metadata": {},
     "output_type": "execute_result"
    }
   ],
   "source": [
    "labels = torch.zeros(len(x)-tau)\n",
    "labels.shape\n",
    "    "
   ]
  },
  {
   "cell_type": "markdown",
   "id": "round-austria",
   "metadata": {},
   "source": [
    "### Lets try a different way of generating features and labels"
   ]
  },
  {
   "cell_type": "code",
   "execution_count": 145,
   "id": "confirmed-midnight",
   "metadata": {
    "scrolled": false
   },
   "outputs": [],
   "source": [
    "for i in range(len(x)-tau):\n",
    "    features[i,:] = x[i:i+tau]\n",
    "    labels[i] = x[i+tau]"
   ]
  },
  {
   "cell_type": "code",
   "execution_count": 146,
   "id": "disabled-cliff",
   "metadata": {},
   "outputs": [
    {
     "data": {
      "text/plain": [
       "(torch.Size([996, 4]), torch.Size([996]))"
      ]
     },
     "execution_count": 146,
     "metadata": {},
     "output_type": "execute_result"
    }
   ],
   "source": [
    "features.shape, labels.shape"
   ]
  },
  {
   "cell_type": "code",
   "execution_count": 147,
   "id": "tracked-letter",
   "metadata": {
    "scrolled": false
   },
   "outputs": [
    {
     "data": {
      "text/plain": [
       "(tensor([[-0.0134,  0.0203,  0.0227,  0.0498],\n",
       "         [ 0.0203,  0.0227,  0.0498,  0.0652],\n",
       "         [ 0.0227,  0.0498,  0.0652,  0.0474],\n",
       "         [ 0.0498,  0.0652,  0.0474,  0.0999],\n",
       "         [ 0.0652,  0.0474,  0.0999,  0.1173]]),\n",
       " tensor([0.0652, 0.0474, 0.0999, 0.1173, 0.0933]))"
      ]
     },
     "execution_count": 147,
     "metadata": {},
     "output_type": "execute_result"
    }
   ],
   "source": [
    "features[0:5], labels[0:5]"
   ]
  },
  {
   "cell_type": "code",
   "execution_count": 148,
   "id": "detected-giant",
   "metadata": {},
   "outputs": [
    {
     "data": {
      "text/plain": [
       "tensor([[0.0652],\n",
       "        [0.0474],\n",
       "        [0.0999],\n",
       "        [0.1173],\n",
       "        [0.0933]])"
      ]
     },
     "execution_count": 148,
     "metadata": {},
     "output_type": "execute_result"
    }
   ],
   "source": [
    "labels = labels.reshape(-1,1)\n",
    "labels[:5,:]"
   ]
  },
  {
   "cell_type": "code",
   "execution_count": 149,
   "id": "veterinary-surge",
   "metadata": {},
   "outputs": [],
   "source": [
    "batch_size = 16\n",
    "n_train = 600\n",
    "\n",
    "train_dataset = torch.utils.data.TensorDataset(*(features[:n_train], labels[:n_train]))\n",
    "train_iter = torch.utils.data.DataLoader(train_dataset, shuffle=True, batch_size=batch_size)\n",
    "\n",
    "test_dataset = torch.utils.data.TensorDataset(*(features[n_train:], labels[n_train:]))\n",
    "test_iter = torch.utils.data.DataLoader(test_dataset, shuffle=True, batch_size=batch_size)"
   ]
  },
  {
   "cell_type": "code",
   "execution_count": 150,
   "id": "collected-macintosh",
   "metadata": {},
   "outputs": [],
   "source": [
    "def init_weights(m):\n",
    "    if type(m) == nn.Linear:\n",
    "        nn.init.xavier_uniform_(m.weight)"
   ]
  },
  {
   "cell_type": "code",
   "execution_count": 151,
   "id": "arbitrary-integration",
   "metadata": {},
   "outputs": [],
   "source": [
    "def get_net():\n",
    "    net = nn.Sequential(nn.Linear(4,10), nn.ReLU(), nn.Linear(10,1))\n",
    "    net.apply(init_weights)\n",
    "    return net"
   ]
  },
  {
   "cell_type": "code",
   "execution_count": 152,
   "id": "sitting-reasoning",
   "metadata": {},
   "outputs": [],
   "source": [
    "loss = nn.MSELoss()"
   ]
  },
  {
   "cell_type": "code",
   "execution_count": 153,
   "id": "exceptional-stocks",
   "metadata": {},
   "outputs": [],
   "source": [
    "def evaluate_loss(net, test_iter, loss):\n",
    "    net.eval()\n",
    "#     net = net.to(torch.device(\"cpu\"))\n",
    "    with torch.no_grad():\n",
    "        l = 0\n",
    "        numer = 0\n",
    "        for X, y in test_iter:\n",
    "            l += loss(net(X),y)\n",
    "            numer += y.shape[0]\n",
    "        return l/numer"
   ]
  },
  {
   "cell_type": "code",
   "execution_count": 154,
   "id": "outside-error",
   "metadata": {},
   "outputs": [],
   "source": [
    "def train(net, train_iter,test_iter, loss, epochs, lr):\n",
    "    optimizer = torch.optim.Adam(net.parameters(), lr=lr)\n",
    "    device = torch.device('cuda' if torch.cuda.is_available() else 'cpu')\n",
    "#     net = net.to(device)\n",
    "    net.train()\n",
    "    for epoch in range(epochs):\n",
    "        for X, y in train_iter:\n",
    "    #         X = X.to(device)\n",
    "    #         y = y.to(device)\n",
    "            y_hat = net(X)\n",
    "            #print(y_hat.shape)\n",
    "            optimizer.zero_grad()\n",
    "            l = loss(y_hat, y)\n",
    "            l.backward()\n",
    "            optimizer.step()\n",
    "        print(f\"for epoch {epoch} : test loss: {evaluate_loss(net,train_iter,loss)} \" )\n",
    "        "
   ]
  },
  {
   "cell_type": "code",
   "execution_count": 155,
   "id": "signal-voluntary",
   "metadata": {},
   "outputs": [
    {
     "name": "stdout",
     "output_type": "stream",
     "text": [
      "for epoch 0 : test loss: 0.0011242537293583155 \n",
      "for epoch 1 : test loss: 0.00023580384731758386 \n",
      "for epoch 2 : test loss: 0.00023041822714731097 \n",
      "for epoch 3 : test loss: 0.00014000630471855402 \n",
      "for epoch 4 : test loss: 0.0001118289801524952 \n",
      "for epoch 5 : test loss: 8.14838640508242e-05 \n",
      "for epoch 6 : test loss: 7.313583773793653e-05 \n",
      "for epoch 7 : test loss: 6.99246083968319e-05 \n",
      "for epoch 8 : test loss: 5.4939508117968217e-05 \n",
      "for epoch 9 : test loss: 4.6468110667774454e-05 \n"
     ]
    }
   ],
   "source": [
    "net = get_net()\n",
    "train(net, train_iter,test_iter, loss, 10, 0.01)"
   ]
  },
  {
   "cell_type": "code",
   "execution_count": 164,
   "id": "approved-trade",
   "metadata": {
    "scrolled": false
   },
   "outputs": [
    {
     "data": {
      "text/plain": [
       "25"
      ]
     },
     "execution_count": 164,
     "metadata": {},
     "output_type": "execute_result"
    }
   ],
   "source": [
    "# lets try predicting\n",
    "\n",
    "pred_x = []\n",
    "for X, y in test_iter:\n",
    "    pred_x.append(net(X))\n",
    "\n",
    "len(pred_x)"
   ]
  },
  {
   "cell_type": "code",
   "execution_count": 166,
   "id": "fitted-device",
   "metadata": {},
   "outputs": [],
   "source": [
    "pred_x = net(features)"
   ]
  },
  {
   "cell_type": "code",
   "execution_count": 173,
   "id": "unnecessary-table",
   "metadata": {
    "scrolled": true
   },
   "outputs": [
    {
     "data": {
      "image/png": "[encoded data removed]",
      "text/plain": [
       "<Figure size 432x288 with 1 Axes>"
      ]
     },
     "metadata": {
      "needs_background": "light"
     },
     "output_type": "display_data"
    }
   ],
   "source": [
    "plt.plot(t[:10], x[:20])\n",
    "plt.plot(t[tau:200+tau], pred_x[:200].detach().numpy())\n",
    "plt.show()"
   ]
  }
 ],
 "metadata": {
  "kernelspec": {
   "display_name": "Python 3",
   "language": "python",
   "name": "python3"
  },
  "language_info": {
   "codemirror_mode": {
    "name": "ipython",
    "version": 3
   },
   "file_extension": ".py",
   "mimetype": "text/x-python",
   "name": "python",
   "nbconvert_exporter": "python",
   "pygments_lexer": "ipython3",
   "version": "3.9.5"
  }
 },
 "nbformat": 4,
 "nbformat_minor": 5
}
