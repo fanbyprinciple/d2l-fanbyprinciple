{
 "cells": [
  {
   "cell_type": "code",
   "execution_count": 2,
   "id": "advisory-smoke",
   "metadata": {},
   "outputs": [
    {
     "data": {
      "text/plain": [
       "(tensor(0.6667), tensor(6), tensor(8), tensor(5))"
      ]
     },
     "execution_count": 2,
     "metadata": {},
     "output_type": "execute_result"
    }
   ],
   "source": [
    "import torch\n",
    "\n",
    "x = torch.tensor(2) # scalar\n",
    "y = torch.tensor(3)\n",
    "\n",
    "x/y, x*y, x**y, x+y"
   ]
  },
  {
   "cell_type": "code",
   "execution_count": 3,
   "id": "existing-flexibility",
   "metadata": {},
   "outputs": [
    {
     "data": {
      "text/plain": [
       "tensor([0, 1, 2, 3])"
      ]
     },
     "execution_count": 3,
     "metadata": {},
     "output_type": "execute_result"
    }
   ],
   "source": [
    "x = torch.arange(4) # vector\n",
    "x"
   ]
  },
  {
   "cell_type": "code",
   "execution_count": 4,
   "id": "early-powell",
   "metadata": {},
   "outputs": [
    {
     "data": {
      "text/plain": [
       "torch.Size([4])"
      ]
     },
     "execution_count": 4,
     "metadata": {},
     "output_type": "execute_result"
    }
   ],
   "source": [
    "x.shape"
   ]
  },
  {
   "cell_type": "code",
   "execution_count": 8,
   "id": "northern-chrome",
   "metadata": {},
   "outputs": [
    {
     "data": {
      "text/plain": [
       "tensor([[ 0,  1,  2,  3],\n",
       "        [ 4,  5,  6,  7],\n",
       "        [ 8,  9, 10, 11]])"
      ]
     },
     "execution_count": 8,
     "metadata": {},
     "output_type": "execute_result"
    }
   ],
   "source": [
    "A = torch.arange(12).reshape(3,4) # matrices\n",
    "A"
   ]
  },
  {
   "cell_type": "code",
   "execution_count": 10,
   "id": "serious-emerald",
   "metadata": {},
   "outputs": [
    {
     "data": {
      "text/plain": [
       "tensor([[ 0,  4,  8],\n",
       "        [ 1,  5,  9],\n",
       "        [ 2,  6, 10],\n",
       "        [ 3,  7, 11]])"
      ]
     },
     "execution_count": 10,
     "metadata": {},
     "output_type": "execute_result"
    }
   ],
   "source": [
    "# transpose \n",
    "A.T"
   ]
  },
  {
   "cell_type": "code",
   "execution_count": 12,
   "id": "usual-excuse",
   "metadata": {},
   "outputs": [],
   "source": [
    "# symmetric matrice is same as its transpose\n",
    "\n",
    "B = torch.ones(16).reshape(4,4)"
   ]
  },
  {
   "cell_type": "code",
   "execution_count": 14,
   "id": "catholic-cleaner",
   "metadata": {},
   "outputs": [
    {
     "data": {
      "text/plain": [
       "tensor([[True, True, True, True],\n",
       "        [True, True, True, True],\n",
       "        [True, True, True, True],\n",
       "        [True, True, True, True]])"
      ]
     },
     "execution_count": 14,
     "metadata": {},
     "output_type": "execute_result"
    }
   ],
   "source": [
    "B == B.T"
   ]
  },
  {
   "cell_type": "code",
   "execution_count": 17,
   "id": "compound-genius",
   "metadata": {},
   "outputs": [
    {
     "data": {
      "text/plain": [
       "tensor([[[0., 0.],\n",
       "         [0., 0.],\n",
       "         [0., 0.],\n",
       "         [0., 0.]],\n",
       "\n",
       "        [[0., 0.],\n",
       "         [0., 0.],\n",
       "         [0., 0.],\n",
       "         [0., 0.]],\n",
       "\n",
       "        [[0., 0.],\n",
       "         [0., 0.],\n",
       "         [0., 0.],\n",
       "         [0., 0.]]])"
      ]
     },
     "execution_count": 17,
     "metadata": {},
     "output_type": "execute_result"
    }
   ],
   "source": [
    "C = torch.zeros(24).reshape(3,4,2)\n",
    "C"
   ]
  },
  {
   "cell_type": "markdown",
   "id": "auburn-florist",
   "metadata": {},
   "source": [
    "# Basic properties\n"
   ]
  },
  {
   "cell_type": "code",
   "execution_count": 20,
   "id": "directed-boxing",
   "metadata": {},
   "outputs": [
    {
     "data": {
      "text/plain": [
       "(tensor([[ 0.,  1.,  2.,  3.],\n",
       "         [ 4.,  5.,  6.,  7.],\n",
       "         [ 8.,  9., 10., 11.],\n",
       "         [12., 13., 14., 15.],\n",
       "         [16., 17., 18., 19.]]),\n",
       " tensor([[ 0.,  1.,  2.,  3.],\n",
       "         [ 4.,  5.,  6.,  7.],\n",
       "         [ 8.,  9., 10., 11.],\n",
       "         [12., 13., 14., 15.],\n",
       "         [16., 17., 18., 19.]]),\n",
       " tensor([[ 0.,  2.,  4.,  6.],\n",
       "         [ 8., 10., 12., 14.],\n",
       "         [16., 18., 20., 22.],\n",
       "         [24., 26., 28., 30.],\n",
       "         [32., 34., 36., 38.]]))"
      ]
     },
     "execution_count": 20,
     "metadata": {},
     "output_type": "execute_result"
    }
   ],
   "source": [
    "# elementwise operation\n",
    "\n",
    "A = torch.arange(20, dtype=torch.float32).reshape(5,4)\n",
    "B = A.clone()\n",
    "C = A\n",
    "\n",
    "B, C, B + C"
   ]
  },
  {
   "cell_type": "code",
   "execution_count": 21,
   "id": "aware-perry",
   "metadata": {},
   "outputs": [
    {
     "data": {
      "text/plain": [
       "tensor([[  0.,   1.,   4.,   9.],\n",
       "        [ 16.,  25.,  36.,  49.],\n",
       "        [ 64.,  81., 100., 121.],\n",
       "        [144., 169., 196., 225.],\n",
       "        [256., 289., 324., 361.]])"
      ]
     },
     "execution_count": 21,
     "metadata": {},
     "output_type": "execute_result"
    }
   ],
   "source": [
    "# Elmentwise multiplication is called Hamadard operation\n",
    "\n",
    "A* B"
   ]
  },
  {
   "cell_type": "code",
   "execution_count": 22,
   "id": "funded-ideal",
   "metadata": {},
   "outputs": [
    {
     "data": {
      "text/plain": [
       "tensor([[ 2.,  3.,  4.,  5.],\n",
       "        [ 6.,  7.,  8.,  9.],\n",
       "        [10., 11., 12., 13.],\n",
       "        [14., 15., 16., 17.],\n",
       "        [18., 19., 20., 21.]])"
      ]
     },
     "execution_count": 22,
     "metadata": {},
     "output_type": "execute_result"
    }
   ],
   "source": [
    "# scalar operations are all elementwise\n",
    "\n",
    "A + 2"
   ]
  },
  {
   "cell_type": "markdown",
   "id": "olympic-functionality",
   "metadata": {},
   "source": [
    "### Reduction sum - does not keep dimension"
   ]
  },
  {
   "cell_type": "code",
   "execution_count": 23,
   "id": "dependent-castle",
   "metadata": {},
   "outputs": [
    {
     "data": {
      "text/plain": [
       "tensor(190.)"
      ]
     },
     "execution_count": 23,
     "metadata": {},
     "output_type": "execute_result"
    }
   ],
   "source": [
    "# summation along different axis\n",
    "A.sum(), "
   ]
  },
  {
   "cell_type": "code",
   "execution_count": 24,
   "id": "fiscal-walnut",
   "metadata": {},
   "outputs": [
    {
     "data": {
      "text/plain": [
       "tensor([ 6., 22., 38., 54., 70.])"
      ]
     },
     "execution_count": 24,
     "metadata": {},
     "output_type": "execute_result"
    }
   ],
   "source": [
    "A.sum(axis=1) #columns"
   ]
  },
  {
   "cell_type": "code",
   "execution_count": 25,
   "id": "original-police",
   "metadata": {},
   "outputs": [
    {
     "data": {
      "text/plain": [
       "tensor([40., 45., 50., 55.])"
      ]
     },
     "execution_count": 25,
     "metadata": {},
     "output_type": "execute_result"
    }
   ],
   "source": [
    "A.sum(axis=0) # rows"
   ]
  },
  {
   "cell_type": "code",
   "execution_count": 26,
   "id": "varied-absence",
   "metadata": {},
   "outputs": [
    {
     "data": {
      "text/plain": [
       "tensor(9.5000)"
      ]
     },
     "execution_count": 26,
     "metadata": {},
     "output_type": "execute_result"
    }
   ],
   "source": [
    "# mean\n",
    "A.mean()"
   ]
  },
  {
   "cell_type": "code",
   "execution_count": 27,
   "id": "enclosed-excerpt",
   "metadata": {},
   "outputs": [
    {
     "data": {
      "text/plain": [
       "tensor(0.4750)"
      ]
     },
     "execution_count": 27,
     "metadata": {},
     "output_type": "execute_result"
    }
   ],
   "source": [
    "# mean is sameas\n",
    "\n",
    "A.mean()/A.numel()"
   ]
  },
  {
   "cell_type": "code",
   "execution_count": 28,
   "id": "amino-darkness",
   "metadata": {},
   "outputs": [
    {
     "data": {
      "text/plain": [
       "tensor([1.6000, 1.8000, 2.0000, 2.2000])"
      ]
     },
     "execution_count": 28,
     "metadata": {},
     "output_type": "execute_result"
    }
   ],
   "source": [
    "A.mean(axis=0)/A.shape[0]"
   ]
  },
  {
   "cell_type": "markdown",
   "id": "productive-auckland",
   "metadata": {},
   "source": [
    "### non reduction sum - keeping axis even after sum/mean"
   ]
  },
  {
   "cell_type": "code",
   "execution_count": 30,
   "id": "express-attraction",
   "metadata": {},
   "outputs": [
    {
     "data": {
      "text/plain": [
       "tensor([[ 6.],\n",
       "        [22.],\n",
       "        [38.],\n",
       "        [54.],\n",
       "        [70.]])"
      ]
     },
     "execution_count": 30,
     "metadata": {},
     "output_type": "execute_result"
    }
   ],
   "source": [
    "sum_A = A.sum(axis=1, keepdims=True)\n",
    "sum_A"
   ]
  },
  {
   "cell_type": "code",
   "execution_count": 31,
   "id": "enhanced-artwork",
   "metadata": {},
   "outputs": [
    {
     "data": {
      "text/plain": [
       "tensor([ 6., 22., 38., 54., 70.])"
      ]
     },
     "execution_count": 31,
     "metadata": {},
     "output_type": "execute_result"
    }
   ],
   "source": [
    "sum_reduction_A = A.sum(axis=1)\n",
    "sum_reduction_A"
   ]
  },
  {
   "cell_type": "code",
   "execution_count": 33,
   "id": "corrected-style",
   "metadata": {},
   "outputs": [
    {
     "name": "stdout",
     "output_type": "stream",
     "text": [
      "tensor([[0.0000, 0.1667, 0.3333, 0.5000],\n",
      "        [0.1818, 0.2273, 0.2727, 0.3182],\n",
      "        [0.2105, 0.2368, 0.2632, 0.2895],\n",
      "        [0.2222, 0.2407, 0.2593, 0.2778],\n",
      "        [0.2286, 0.2429, 0.2571, 0.2714]]) this works\n",
      "The size of tensor a (4) must match the size of tensor b (5) at non-singleton dimension 1\n",
      "This doesnt work!\n"
     ]
    }
   ],
   "source": [
    "print(A/ sum_A, \"this works\") # works\n",
    "\n",
    "try:\n",
    "    A/sum_reduction_A\n",
    "except Exception as e:\n",
    "    print(e)\n",
    "    print(\"This doesnt work!\")"
   ]
  },
  {
   "cell_type": "code",
   "execution_count": 34,
   "id": "numeric-proxy",
   "metadata": {},
   "outputs": [
    {
     "data": {
      "text/plain": [
       "tensor([[ 0.,  1.,  2.,  3.],\n",
       "        [ 4.,  6.,  8., 10.],\n",
       "        [12., 15., 18., 21.],\n",
       "        [24., 28., 32., 36.],\n",
       "        [40., 45., 50., 55.]])"
      ]
     },
     "execution_count": 34,
     "metadata": {},
     "output_type": "execute_result"
    }
   ],
   "source": [
    "# also cumulative sum\n",
    "\n",
    "A.cumsum(axis=0)"
   ]
  },
  {
   "cell_type": "code",
   "execution_count": 35,
   "id": "underlying-perspective",
   "metadata": {},
   "outputs": [
    {
     "data": {
      "text/plain": [
       "tensor([[40., 45., 50., 55.]])"
      ]
     },
     "execution_count": 35,
     "metadata": {},
     "output_type": "execute_result"
    }
   ],
   "source": [
    "A.sum(axis=0, keepdims=True)"
   ]
  },
  {
   "cell_type": "code",
   "execution_count": 39,
   "id": "clean-floating",
   "metadata": {},
   "outputs": [
    {
     "data": {
      "text/plain": [
       "tensor(6.)"
      ]
     },
     "execution_count": 39,
     "metadata": {},
     "output_type": "execute_result"
    }
   ],
   "source": [
    "# dot product\n",
    "x = torch.ones(4, dtype=torch.float32)\n",
    "y = torch.arange(4, dtype=torch.float32)\n",
    "\n",
    "torch.dot(x,y)"
   ]
  },
  {
   "cell_type": "code",
   "execution_count": 41,
   "id": "loving-bhutan",
   "metadata": {},
   "outputs": [
    {
     "data": {
      "text/plain": [
       "tensor(6.)"
      ]
     },
     "execution_count": 41,
     "metadata": {},
     "output_type": "execute_result"
    }
   ],
   "source": [
    "# same as\n",
    "\n",
    "torch.sum(x * y)"
   ]
  },
  {
   "cell_type": "code",
   "execution_count": 42,
   "id": "conditional-environment",
   "metadata": {},
   "outputs": [
    {
     "data": {
      "text/plain": [
       "(torch.Size([5, 4]), torch.Size([4]))"
      ]
     },
     "execution_count": 42,
     "metadata": {},
     "output_type": "execute_result"
    }
   ],
   "source": [
    "A.shape, x.shape"
   ]
  },
  {
   "cell_type": "code",
   "execution_count": 45,
   "id": "stable-danger",
   "metadata": {},
   "outputs": [
    {
     "data": {
      "text/plain": [
       "(tensor([[ 0.,  1.,  2.,  3.],\n",
       "         [ 4.,  5.,  6.,  7.],\n",
       "         [ 8.,  9., 10., 11.],\n",
       "         [12., 13., 14., 15.],\n",
       "         [16., 17., 18., 19.]]),\n",
       " tensor([1., 1., 1., 1.]))"
      ]
     },
     "execution_count": 45,
     "metadata": {},
     "output_type": "execute_result"
    }
   ],
   "source": [
    "A, x"
   ]
  },
  {
   "cell_type": "code",
   "execution_count": 44,
   "id": "regular-indonesia",
   "metadata": {},
   "outputs": [
    {
     "data": {
      "text/plain": [
       "tensor([ 6., 22., 38., 54., 70.])"
      ]
     },
     "execution_count": 44,
     "metadata": {},
     "output_type": "execute_result"
    }
   ],
   "source": [
    "# matrix vector\n",
    "torch.mv(A, x)"
   ]
  },
  {
   "cell_type": "code",
   "execution_count": 47,
   "id": "developing-immigration",
   "metadata": {},
   "outputs": [],
   "source": [
    "# matrix multiplication\n",
    "\n",
    "B = torch.zeros(12).reshape(4,3)"
   ]
  },
  {
   "cell_type": "code",
   "execution_count": 48,
   "id": "marine-function",
   "metadata": {},
   "outputs": [
    {
     "data": {
      "text/plain": [
       "tensor([[0., 0., 0.],\n",
       "        [0., 0., 0.],\n",
       "        [0., 0., 0.],\n",
       "        [0., 0., 0.],\n",
       "        [0., 0., 0.]])"
      ]
     },
     "execution_count": 48,
     "metadata": {},
     "output_type": "execute_result"
    }
   ],
   "source": [
    "torch.mm(A,B)"
   ]
  },
  {
   "cell_type": "markdown",
   "id": "tough-pocket",
   "metadata": {},
   "source": [
    "### norms\n",
    "\n",
    "In linear algebra, a vector norm is a function f that maps a vector to a scalar, satisfying a handful\n",
    "of properties. Given any vector x, the first property says that if we scale all the elements of a vector\n",
    "by a constant factor α, its norm also scales by the absolute value of the same constant factor:\n",
    "f(αx) = |α|f(x). (2.3.10)\n",
    "The second property is the familiar triangle inequality:\n",
    "f(x + y) ≤ f(x) + f(y). (2.3.11)\n",
    "The third property simply says that the norm must be non-negative:\n",
    "f(x) ≥ 0. (2.3.12)\n",
    "That makes sense, as in most contexts the smallest size for anything is 0. The final property re\u0002quires that the smallest norm is achieved and only achieved by a vector consisting of all zeros.\n",
    "∀i, [x]i = 0 ⇔ f(x) = 0. (2.3.13)\n",
    "You might notice that norms sound a lot like measures of distance. And if you remember Euclidean\n",
    "distances (think Pythagorasʼ theorem) from grade school, then the concepts of non-negativity and\n",
    "the triangle inequality might ring a bell. In fact, the Euclidean distance is a norm: specifically it\n",
    "is the L2 norm. Suppose that the elements in the n-dimensional vector x are x1, . . . , xn.\n",
    "The L2 norm of x is the square root of the sum of the squares of the vector elements."
   ]
  },
  {
   "cell_type": "code",
   "execution_count": 50,
   "id": "proper-reason",
   "metadata": {},
   "outputs": [
    {
     "data": {
      "text/plain": [
       "tensor(5.)"
      ]
     },
     "execution_count": 50,
     "metadata": {},
     "output_type": "execute_result"
    }
   ],
   "source": [
    "# l2 norms\n",
    "\n",
    "u = torch.tensor([3,-4], dtype=torch.float32)\n",
    "\n",
    "\n",
    "torch.norm(u)"
   ]
  },
  {
   "cell_type": "code",
   "execution_count": 51,
   "id": "silent-hughes",
   "metadata": {},
   "outputs": [
    {
     "data": {
      "text/plain": [
       "tensor(7.)"
      ]
     },
     "execution_count": 51,
     "metadata": {},
     "output_type": "execute_result"
    }
   ],
   "source": [
    "# L1 norm\n",
    "\n",
    "abs(u).sum()"
   ]
  },
  {
   "cell_type": "markdown",
   "id": "proof-pitch",
   "metadata": {},
   "source": [
    "### Exercises"
   ]
  },
  {
   "cell_type": "markdown",
   "id": "exceptional-valley",
   "metadata": {},
   "source": [
    "transpose of transpose of a matrix is same"
   ]
  },
  {
   "cell_type": "code",
   "execution_count": 52,
   "id": "collected-present",
   "metadata": {},
   "outputs": [
    {
     "data": {
      "text/plain": [
       "tensor([[ 0.,  1.,  2.,  3.],\n",
       "        [ 4.,  5.,  6.,  7.],\n",
       "        [ 8.,  9., 10., 11.],\n",
       "        [12., 13., 14., 15.],\n",
       "        [16., 17., 18., 19.]])"
      ]
     },
     "execution_count": 52,
     "metadata": {},
     "output_type": "execute_result"
    }
   ],
   "source": [
    "A"
   ]
  },
  {
   "cell_type": "code",
   "execution_count": 53,
   "id": "awful-rwanda",
   "metadata": {},
   "outputs": [
    {
     "data": {
      "text/plain": [
       "tensor([[ 0.,  4.,  8., 12., 16.],\n",
       "        [ 1.,  5.,  9., 13., 17.],\n",
       "        [ 2.,  6., 10., 14., 18.],\n",
       "        [ 3.,  7., 11., 15., 19.]])"
      ]
     },
     "execution_count": 53,
     "metadata": {},
     "output_type": "execute_result"
    }
   ],
   "source": [
    "A.T"
   ]
  },
  {
   "cell_type": "code",
   "execution_count": 54,
   "id": "popular-simpson",
   "metadata": {},
   "outputs": [
    {
     "data": {
      "text/plain": [
       "tensor([[ 0.,  1.,  2.,  3.],\n",
       "        [ 4.,  5.,  6.,  7.],\n",
       "        [ 8.,  9., 10., 11.],\n",
       "        [12., 13., 14., 15.],\n",
       "        [16., 17., 18., 19.]])"
      ]
     },
     "execution_count": 54,
     "metadata": {},
     "output_type": "execute_result"
    }
   ],
   "source": [
    "A.T.T"
   ]
  },
  {
   "cell_type": "markdown",
   "id": "deluxe-majority",
   "metadata": {},
   "source": [
    "Given two matrices A and B, show that the sum of transposes is equal to the transpose of a\n",
    "sum: A\n",
    "⊤ + B\n",
    "⊤ = (A + B)\n",
    "⊤."
   ]
  },
  {
   "cell_type": "code",
   "execution_count": 62,
   "id": "fresh-object",
   "metadata": {},
   "outputs": [],
   "source": [
    "B = torch.arange(0,20).reshape(5,4)"
   ]
  },
  {
   "cell_type": "code",
   "execution_count": 63,
   "id": "subjective-bible",
   "metadata": {},
   "outputs": [
    {
     "data": {
      "text/plain": [
       "(tensor([[ 0.,  8., 16., 24., 32.],\n",
       "         [ 2., 10., 18., 26., 34.],\n",
       "         [ 4., 12., 20., 28., 36.],\n",
       "         [ 6., 14., 22., 30., 38.]]),\n",
       " tensor([[ 0.,  8., 16., 24., 32.],\n",
       "         [ 2., 10., 18., 26., 34.],\n",
       "         [ 4., 12., 20., 28., 36.],\n",
       "         [ 6., 14., 22., 30., 38.]]))"
      ]
     },
     "execution_count": 63,
     "metadata": {},
     "output_type": "execute_result"
    }
   ],
   "source": [
    "(A + B).T, A.T + B.T"
   ]
  },
  {
   "cell_type": "markdown",
   "id": "subtle-refund",
   "metadata": {},
   "source": [
    "Given any square matrix A, is A + A\n",
    "⊤ always symmetric? Why?"
   ]
  },
  {
   "cell_type": "code",
   "execution_count": 64,
   "id": "whole-floor",
   "metadata": {},
   "outputs": [
    {
     "data": {
      "text/plain": [
       "tensor([[2., 2., 2., 2.],\n",
       "        [2., 2., 2., 2.],\n",
       "        [2., 2., 2., 2.],\n",
       "        [2., 2., 2., 2.]])"
      ]
     },
     "execution_count": 64,
     "metadata": {},
     "output_type": "execute_result"
    }
   ],
   "source": [
    "C = torch.ones(16).reshape(4,4)\n",
    "C + C.T"
   ]
  },
  {
   "cell_type": "markdown",
   "id": "crucial-wallpaper",
   "metadata": {},
   "source": [
    "We defined the tensor X of shape (2, 3, 4) in this section. What is the output of len(X)?\n"
   ]
  },
  {
   "cell_type": "code",
   "execution_count": 65,
   "id": "opposed-communications",
   "metadata": {},
   "outputs": [],
   "source": [
    "D = torch.arange(24).reshape(2,3,4)"
   ]
  },
  {
   "cell_type": "code",
   "execution_count": 66,
   "id": "generous-backup",
   "metadata": {},
   "outputs": [
    {
     "data": {
      "text/plain": [
       "2"
      ]
     },
     "execution_count": 66,
     "metadata": {},
     "output_type": "execute_result"
    }
   ],
   "source": [
    "len(D)"
   ]
  },
  {
   "cell_type": "markdown",
   "id": "lyric-northern",
   "metadata": {},
   "source": [
    "For a tensor X of arbitrary shape, does len(X) always correspond to the length of a certain\n",
    "axis of X? What is that axis?"
   ]
  },
  {
   "cell_type": "code",
   "execution_count": 67,
   "id": "operational-forest",
   "metadata": {},
   "outputs": [],
   "source": [
    "#axis 0"
   ]
  },
  {
   "cell_type": "markdown",
   "id": "naval-steel",
   "metadata": {},
   "source": [
    "Run A / A.sum(axis=1) and see what happens. Can you analyze the reason?"
   ]
  },
  {
   "cell_type": "code",
   "execution_count": 68,
   "id": "capable-registration",
   "metadata": {},
   "outputs": [
    {
     "data": {
      "text/plain": [
       "tensor([ 6., 22., 38., 54., 70.])"
      ]
     },
     "execution_count": 68,
     "metadata": {},
     "output_type": "execute_result"
    }
   ],
   "source": [
    "A.sum(axis=1)"
   ]
  },
  {
   "cell_type": "code",
   "execution_count": 71,
   "id": "corresponding-nature",
   "metadata": {},
   "outputs": [
    {
     "name": "stdout",
     "output_type": "stream",
     "text": [
      "The size of tensor a (4) must match the size of tensor b (5) at non-singleton dimension 1\n"
     ]
    }
   ],
   "source": [
    "try:\n",
    "    A/A.sum(axis=1)\n",
    "except Exception as e:\n",
    "    print(e)"
   ]
  },
  {
   "cell_type": "markdown",
   "id": "arctic-chamber",
   "metadata": {},
   "source": [
    "When traveling between two points in Manhattan, what is the distance that you need to cover\n",
    "in terms of the coordinates, i.e., in terms of avenues and streets? Can you travel diagonally?"
   ]
  },
  {
   "cell_type": "code",
   "execution_count": null,
   "id": "disturbed-permission",
   "metadata": {},
   "outputs": [],
   "source": [
    "# it is through the roads"
   ]
  },
  {
   "cell_type": "markdown",
   "id": "supposed-thesis",
   "metadata": {},
   "source": [
    "Consider a tensor with shape (2, 3, 4). What are the shapes of the summation outputs along\n",
    "axis 0, 1, and 2?"
   ]
  },
  {
   "cell_type": "code",
   "execution_count": 73,
   "id": "retained-dispute",
   "metadata": {},
   "outputs": [
    {
     "data": {
      "text/plain": [
       "(tensor([[[ 0,  1,  2,  3],\n",
       "          [ 4,  5,  6,  7],\n",
       "          [ 8,  9, 10, 11]],\n",
       " \n",
       "         [[12, 13, 14, 15],\n",
       "          [16, 17, 18, 19],\n",
       "          [20, 21, 22, 23]]]),\n",
       " tensor([[12, 14, 16, 18],\n",
       "         [20, 22, 24, 26],\n",
       "         [28, 30, 32, 34]]),\n",
       " tensor([[12, 15, 18, 21],\n",
       "         [48, 51, 54, 57]]),\n",
       " tensor([[ 6, 22, 38],\n",
       "         [54, 70, 86]]))"
      ]
     },
     "execution_count": 73,
     "metadata": {},
     "output_type": "execute_result"
    }
   ],
   "source": [
    "D, D.sum(axis=0), D.sum(axis=1), D.sum(axis=2)"
   ]
  },
  {
   "cell_type": "markdown",
   "id": "passing-anger",
   "metadata": {},
   "source": [
    "Feed a tensor with 3 or more axes to the linalg.norm function and observe its output. What\n",
    "does this function compute for tensors of arbitrary shape?"
   ]
  },
  {
   "cell_type": "code",
   "execution_count": 75,
   "id": "pharmaceutical-episode",
   "metadata": {},
   "outputs": [
    {
     "data": {
      "text/plain": [
       "(tensor(49.6991), torch.Size([5, 4]))"
      ]
     },
     "execution_count": 75,
     "metadata": {},
     "output_type": "execute_result"
    }
   ],
   "source": [
    "torch.norm(A), A.shape"
   ]
  },
  {
   "cell_type": "code",
   "execution_count": 77,
   "id": "harmful-carnival",
   "metadata": {},
   "outputs": [],
   "source": [
    "E = torch.arange(24, dtype=torch.float32).reshape(2,3,4)"
   ]
  },
  {
   "cell_type": "code",
   "execution_count": 78,
   "id": "continent-pathology",
   "metadata": {},
   "outputs": [
    {
     "data": {
      "text/plain": [
       "tensor(65.7571)"
      ]
     },
     "execution_count": 78,
     "metadata": {},
     "output_type": "execute_result"
    }
   ],
   "source": [
    "torch.norm(E)"
   ]
  }
 ],
 "metadata": {
  "kernelspec": {
   "display_name": "Python 3",
   "language": "python",
   "name": "python3"
  },
  "language_info": {
   "codemirror_mode": {
    "name": "ipython",
    "version": 3
   },
   "file_extension": ".py",
   "mimetype": "text/x-python",
   "name": "python",
   "nbconvert_exporter": "python",
   "pygments_lexer": "ipython3",
   "version": "3.9.5"
  }
 },
 "nbformat": 4,
 "nbformat_minor": 5
}
