{
 "cells": [
  {
   "cell_type": "code",
   "execution_count": 1,
   "id": "continuing-character",
   "metadata": {},
   "outputs": [],
   "source": [
    "import numpy as np\n",
    "from IPython import display\n",
    "import torch"
   ]
  },
  {
   "cell_type": "code",
   "execution_count": 2,
   "id": "medieval-progress",
   "metadata": {},
   "outputs": [],
   "source": [
    "def f(x):\n",
    "    return 3 * x ** 2 - 4 * x"
   ]
  },
  {
   "cell_type": "code",
   "execution_count": 4,
   "id": "three-ridge",
   "metadata": {},
   "outputs": [
    {
     "data": {
      "text/plain": [
       "(4, 15, 55)"
      ]
     },
     "execution_count": 4,
     "metadata": {},
     "output_type": "execute_result"
    }
   ],
   "source": [
    "f(2), f(3), f(5)"
   ]
  },
  {
   "cell_type": "code",
   "execution_count": 5,
   "id": "royal-salon",
   "metadata": {},
   "outputs": [],
   "source": [
    "def numerical_lim(f, x, h):\n",
    "    return (f(x) + h - f(x))/h"
   ]
  },
  {
   "cell_type": "code",
   "execution_count": 6,
   "id": "computational-brother",
   "metadata": {},
   "outputs": [
    {
     "name": "stdout",
     "output_type": "stream",
     "text": [
      "for h 0.10000. The value numerical limit is lim 1.00000\n",
      "for h 1.00000. The value numerical limit is lim 1.00000\n",
      "for h 10.00000. The value numerical limit is lim 1.00000\n",
      "for h 100.00000. The value numerical limit is lim 1.00000\n",
      "for h 1000.00000. The value numerical limit is lim 1.00000\n"
     ]
    }
   ],
   "source": [
    "h = 0.1\n",
    "for i in range(5):\n",
    "    print(f\"for h {h:.5f}. The value numerical limit is lim {numerical_lim(f, 1, h):.5f}\")\n",
    "    h = h * 10"
   ]
  }
 ],
 "metadata": {
  "kernelspec": {
   "display_name": "Python 3",
   "language": "python",
   "name": "python3"
  },
  "language_info": {
   "codemirror_mode": {
    "name": "ipython",
    "version": 3
   },
   "file_extension": ".py",
   "mimetype": "text/x-python",
   "name": "python",
   "nbconvert_exporter": "python",
   "pygments_lexer": "ipython3",
   "version": "3.9.5"
  }
 },
 "nbformat": 4,
 "nbformat_minor": 5
}
